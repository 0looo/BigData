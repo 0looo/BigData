{
 "cells": [
  {
   "cell_type": "code",
   "execution_count": 1,
   "metadata": {},
   "outputs": [],
   "source": [
    "import pandas as pd"
   ]
  },
  {
   "cell_type": "code",
   "execution_count": 2,
   "metadata": {},
   "outputs": [
    {
     "data": {
      "text/html": [
       "<div>\n",
       "<style scoped>\n",
       "    .dataframe tbody tr th:only-of-type {\n",
       "        vertical-align: middle;\n",
       "    }\n",
       "\n",
       "    .dataframe tbody tr th {\n",
       "        vertical-align: top;\n",
       "    }\n",
       "\n",
       "    .dataframe thead th {\n",
       "        text-align: right;\n",
       "    }\n",
       "</style>\n",
       "<table border=\"1\" class=\"dataframe\">\n",
       "  <thead>\n",
       "    <tr style=\"text-align: right;\">\n",
       "      <th></th>\n",
       "      <th>Unnamed: 0</th>\n",
       "      <th>Id</th>\n",
       "      <th>EmployeeName</th>\n",
       "      <th>JobTitle</th>\n",
       "      <th>BasePay</th>\n",
       "      <th>OvertimePay</th>\n",
       "      <th>OtherPay</th>\n",
       "      <th>Benefits</th>\n",
       "      <th>TotalPay</th>\n",
       "      <th>TotalPayBenefits</th>\n",
       "      <th>Year</th>\n",
       "      <th>Notes</th>\n",
       "      <th>Agency</th>\n",
       "      <th>Status</th>\n",
       "    </tr>\n",
       "  </thead>\n",
       "  <tbody>\n",
       "    <tr>\n",
       "      <th>0</th>\n",
       "      <td>0</td>\n",
       "      <td>1</td>\n",
       "      <td>NATHANIEL FORD</td>\n",
       "      <td>GENERAL MANAGER-METROPOLITAN TRANSIT AUTHORITY</td>\n",
       "      <td>167411.18</td>\n",
       "      <td>0.00</td>\n",
       "      <td>400184.25</td>\n",
       "      <td>NaN</td>\n",
       "      <td>567595.43</td>\n",
       "      <td>567595.43</td>\n",
       "      <td>2011</td>\n",
       "      <td>NaN</td>\n",
       "      <td>San Francisco</td>\n",
       "      <td>NaN</td>\n",
       "    </tr>\n",
       "    <tr>\n",
       "      <th>1</th>\n",
       "      <td>1</td>\n",
       "      <td>2</td>\n",
       "      <td>GARY JIMENEZ</td>\n",
       "      <td>CAPTAIN III (POLICE DEPARTMENT)</td>\n",
       "      <td>155966.02</td>\n",
       "      <td>245131.88</td>\n",
       "      <td>137811.38</td>\n",
       "      <td>NaN</td>\n",
       "      <td>538909.28</td>\n",
       "      <td>538909.28</td>\n",
       "      <td>2011</td>\n",
       "      <td>NaN</td>\n",
       "      <td>San Francisco</td>\n",
       "      <td>NaN</td>\n",
       "    </tr>\n",
       "    <tr>\n",
       "      <th>2</th>\n",
       "      <td>2</td>\n",
       "      <td>3</td>\n",
       "      <td>ALBERT PARDINI</td>\n",
       "      <td>CAPTAIN III (POLICE DEPARTMENT)</td>\n",
       "      <td>212739.13</td>\n",
       "      <td>106088.18</td>\n",
       "      <td>16452.60</td>\n",
       "      <td>NaN</td>\n",
       "      <td>335279.91</td>\n",
       "      <td>335279.91</td>\n",
       "      <td>2011</td>\n",
       "      <td>NaN</td>\n",
       "      <td>San Francisco</td>\n",
       "      <td>NaN</td>\n",
       "    </tr>\n",
       "    <tr>\n",
       "      <th>3</th>\n",
       "      <td>3</td>\n",
       "      <td>4</td>\n",
       "      <td>CHRISTOPHER CHONG</td>\n",
       "      <td>WIRE ROPE CABLE MAINTENANCE MECHANIC</td>\n",
       "      <td>77916.00</td>\n",
       "      <td>56120.71</td>\n",
       "      <td>198306.90</td>\n",
       "      <td>NaN</td>\n",
       "      <td>332343.61</td>\n",
       "      <td>332343.61</td>\n",
       "      <td>2011</td>\n",
       "      <td>NaN</td>\n",
       "      <td>San Francisco</td>\n",
       "      <td>NaN</td>\n",
       "    </tr>\n",
       "    <tr>\n",
       "      <th>4</th>\n",
       "      <td>4</td>\n",
       "      <td>5</td>\n",
       "      <td>PATRICK GARDNER</td>\n",
       "      <td>DEPUTY CHIEF OF DEPARTMENT,(FIRE DEPARTMENT)</td>\n",
       "      <td>134401.60</td>\n",
       "      <td>9737.00</td>\n",
       "      <td>182234.59</td>\n",
       "      <td>NaN</td>\n",
       "      <td>326373.19</td>\n",
       "      <td>326373.19</td>\n",
       "      <td>2011</td>\n",
       "      <td>NaN</td>\n",
       "      <td>San Francisco</td>\n",
       "      <td>NaN</td>\n",
       "    </tr>\n",
       "    <tr>\n",
       "      <th>...</th>\n",
       "      <td>...</td>\n",
       "      <td>...</td>\n",
       "      <td>...</td>\n",
       "      <td>...</td>\n",
       "      <td>...</td>\n",
       "      <td>...</td>\n",
       "      <td>...</td>\n",
       "      <td>...</td>\n",
       "      <td>...</td>\n",
       "      <td>...</td>\n",
       "      <td>...</td>\n",
       "      <td>...</td>\n",
       "      <td>...</td>\n",
       "      <td>...</td>\n",
       "    </tr>\n",
       "    <tr>\n",
       "      <th>49995</th>\n",
       "      <td>49995</td>\n",
       "      <td>49996</td>\n",
       "      <td>Carl Jacobs Sr</td>\n",
       "      <td>Transit Operator</td>\n",
       "      <td>65612.03</td>\n",
       "      <td>15604.45</td>\n",
       "      <td>733.84</td>\n",
       "      <td>37250.65</td>\n",
       "      <td>81950.32</td>\n",
       "      <td>119200.97</td>\n",
       "      <td>2012</td>\n",
       "      <td>NaN</td>\n",
       "      <td>San Francisco</td>\n",
       "      <td>NaN</td>\n",
       "    </tr>\n",
       "    <tr>\n",
       "      <th>49996</th>\n",
       "      <td>49996</td>\n",
       "      <td>49997</td>\n",
       "      <td>Yee Lam</td>\n",
       "      <td>Social Work Supervisor</td>\n",
       "      <td>81284.05</td>\n",
       "      <td>0.00</td>\n",
       "      <td>2084.00</td>\n",
       "      <td>35831.69</td>\n",
       "      <td>83368.05</td>\n",
       "      <td>119199.74</td>\n",
       "      <td>2012</td>\n",
       "      <td>NaN</td>\n",
       "      <td>San Francisco</td>\n",
       "      <td>NaN</td>\n",
       "    </tr>\n",
       "    <tr>\n",
       "      <th>49997</th>\n",
       "      <td>49997</td>\n",
       "      <td>49998</td>\n",
       "      <td>Fe V Foronda</td>\n",
       "      <td>Licensed Vocational Nurse</td>\n",
       "      <td>68857.08</td>\n",
       "      <td>16740.17</td>\n",
       "      <td>873.92</td>\n",
       "      <td>32725.45</td>\n",
       "      <td>86471.17</td>\n",
       "      <td>119196.62</td>\n",
       "      <td>2012</td>\n",
       "      <td>NaN</td>\n",
       "      <td>San Francisco</td>\n",
       "      <td>NaN</td>\n",
       "    </tr>\n",
       "    <tr>\n",
       "      <th>49998</th>\n",
       "      <td>49998</td>\n",
       "      <td>49999</td>\n",
       "      <td>Alison Schlageter</td>\n",
       "      <td>Administrative Analyst</td>\n",
       "      <td>83710.58</td>\n",
       "      <td>0.00</td>\n",
       "      <td>0.00</td>\n",
       "      <td>35478.91</td>\n",
       "      <td>83710.58</td>\n",
       "      <td>119189.49</td>\n",
       "      <td>2012</td>\n",
       "      <td>NaN</td>\n",
       "      <td>San Francisco</td>\n",
       "      <td>NaN</td>\n",
       "    </tr>\n",
       "    <tr>\n",
       "      <th>49999</th>\n",
       "      <td>49999</td>\n",
       "      <td>50000</td>\n",
       "      <td>Nicholas Hancock</td>\n",
       "      <td>Senior Administrative Analyst</td>\n",
       "      <td>83785.84</td>\n",
       "      <td>0.00</td>\n",
       "      <td>0.00</td>\n",
       "      <td>35400.78</td>\n",
       "      <td>83785.84</td>\n",
       "      <td>119186.62</td>\n",
       "      <td>2012</td>\n",
       "      <td>NaN</td>\n",
       "      <td>San Francisco</td>\n",
       "      <td>NaN</td>\n",
       "    </tr>\n",
       "  </tbody>\n",
       "</table>\n",
       "<p>50000 rows × 14 columns</p>\n",
       "</div>"
      ],
      "text/plain": [
       "       Unnamed: 0     Id       EmployeeName  \\\n",
       "0               0      1     NATHANIEL FORD   \n",
       "1               1      2       GARY JIMENEZ   \n",
       "2               2      3     ALBERT PARDINI   \n",
       "3               3      4  CHRISTOPHER CHONG   \n",
       "4               4      5    PATRICK GARDNER   \n",
       "...           ...    ...                ...   \n",
       "49995       49995  49996     Carl Jacobs Sr   \n",
       "49996       49996  49997            Yee Lam   \n",
       "49997       49997  49998       Fe V Foronda   \n",
       "49998       49998  49999  Alison Schlageter   \n",
       "49999       49999  50000   Nicholas Hancock   \n",
       "\n",
       "                                             JobTitle    BasePay  OvertimePay  \\\n",
       "0      GENERAL MANAGER-METROPOLITAN TRANSIT AUTHORITY  167411.18         0.00   \n",
       "1                     CAPTAIN III (POLICE DEPARTMENT)  155966.02    245131.88   \n",
       "2                     CAPTAIN III (POLICE DEPARTMENT)  212739.13    106088.18   \n",
       "3                WIRE ROPE CABLE MAINTENANCE MECHANIC   77916.00     56120.71   \n",
       "4        DEPUTY CHIEF OF DEPARTMENT,(FIRE DEPARTMENT)  134401.60      9737.00   \n",
       "...                                               ...        ...          ...   \n",
       "49995                                Transit Operator   65612.03     15604.45   \n",
       "49996                          Social Work Supervisor   81284.05         0.00   \n",
       "49997                       Licensed Vocational Nurse   68857.08     16740.17   \n",
       "49998                          Administrative Analyst   83710.58         0.00   \n",
       "49999                   Senior Administrative Analyst   83785.84         0.00   \n",
       "\n",
       "        OtherPay  Benefits   TotalPay  TotalPayBenefits  Year  Notes  \\\n",
       "0      400184.25       NaN  567595.43         567595.43  2011    NaN   \n",
       "1      137811.38       NaN  538909.28         538909.28  2011    NaN   \n",
       "2       16452.60       NaN  335279.91         335279.91  2011    NaN   \n",
       "3      198306.90       NaN  332343.61         332343.61  2011    NaN   \n",
       "4      182234.59       NaN  326373.19         326373.19  2011    NaN   \n",
       "...          ...       ...        ...               ...   ...    ...   \n",
       "49995     733.84  37250.65   81950.32         119200.97  2012    NaN   \n",
       "49996    2084.00  35831.69   83368.05         119199.74  2012    NaN   \n",
       "49997     873.92  32725.45   86471.17         119196.62  2012    NaN   \n",
       "49998       0.00  35478.91   83710.58         119189.49  2012    NaN   \n",
       "49999       0.00  35400.78   83785.84         119186.62  2012    NaN   \n",
       "\n",
       "              Agency  Status  \n",
       "0      San Francisco     NaN  \n",
       "1      San Francisco     NaN  \n",
       "2      San Francisco     NaN  \n",
       "3      San Francisco     NaN  \n",
       "4      San Francisco     NaN  \n",
       "...              ...     ...  \n",
       "49995  San Francisco     NaN  \n",
       "49996  San Francisco     NaN  \n",
       "49997  San Francisco     NaN  \n",
       "49998  San Francisco     NaN  \n",
       "49999  San Francisco     NaN  \n",
       "\n",
       "[50000 rows x 14 columns]"
      ]
     },
     "execution_count": 2,
     "metadata": {},
     "output_type": "execute_result"
    }
   ],
   "source": [
    "sal = pd.read_csv('Salaries1.csv')\n",
    "sal"
   ]
  },
  {
   "cell_type": "markdown",
   "metadata": {},
   "source": [
    "##### 1. BasePay 평균은?"
   ]
  },
  {
   "cell_type": "code",
   "execution_count": 103,
   "metadata": {},
   "outputs": [
    {
     "data": {
      "text/plain": [
       "75601.13714620461"
      ]
     },
     "execution_count": 103,
     "metadata": {},
     "output_type": "execute_result"
    }
   ],
   "source": [
    "sal['BasePay'].mean()"
   ]
  },
  {
   "cell_type": "markdown",
   "metadata": {},
   "source": [
    "##### 2. OvertimePay의 최대값은?"
   ]
  },
  {
   "cell_type": "code",
   "execution_count": 102,
   "metadata": {},
   "outputs": [
    {
     "data": {
      "text/plain": [
       "245131.88"
      ]
     },
     "execution_count": 102,
     "metadata": {},
     "output_type": "execute_result"
    }
   ],
   "source": [
    "sal['OvertimePay'].max()"
   ]
  },
  {
   "cell_type": "markdown",
   "metadata": {},
   "source": [
    "##### 3. 'JOSEPH DRISCOLL'의 직업은?"
   ]
  },
  {
   "cell_type": "code",
   "execution_count": 101,
   "metadata": {},
   "outputs": [
    {
     "data": {
      "text/plain": [
       "24    CAPTAIN, FIRE SUPPRESSION\n",
       "Name: JobTitle, dtype: object"
      ]
     },
     "execution_count": 101,
     "metadata": {},
     "output_type": "execute_result"
    }
   ],
   "source": [
    "sal[sal['EmployeeName']=='JOSEPH DRISCOLL']['JobTitle']"
   ]
  },
  {
   "cell_type": "markdown",
   "metadata": {},
   "source": [
    "##### 4. 'TotalPayBenefits' 최고금액을 수령하는 사람의 이름은?"
   ]
  },
  {
   "cell_type": "code",
   "execution_count": 6,
   "metadata": {},
   "outputs": [
    {
     "data": {
      "text/plain": [
       "0    NATHANIEL FORD\n",
       "Name: EmployeeName, dtype: object"
      ]
     },
     "execution_count": 6,
     "metadata": {},
     "output_type": "execute_result"
    }
   ],
   "source": [
    "sal[sal['TotalPayBenefits']==sal['TotalPayBenefits'].max()]['EmployeeName']"
   ]
  },
  {
   "cell_type": "markdown",
   "metadata": {},
   "source": [
    "##### 5. 연도별 BasePay의 평균금액은?"
   ]
  },
  {
   "cell_type": "code",
   "execution_count": 7,
   "metadata": {},
   "outputs": [
    {
     "data": {
      "text/plain": [
       "Year\n",
       "2011     63595.956517\n",
       "2012    106964.140280\n",
       "Name: BasePay, dtype: float64"
      ]
     },
     "execution_count": 7,
     "metadata": {},
     "output_type": "execute_result"
    }
   ],
   "source": [
    "sal.groupby('Year')['BasePay'].mean()"
   ]
  },
  {
   "cell_type": "markdown",
   "metadata": {},
   "source": [
    "##### 6. 'JobTitle'의 종류는?"
   ]
  },
  {
   "cell_type": "code",
   "execution_count": 8,
   "metadata": {},
   "outputs": [
    {
     "data": {
      "text/plain": [
       "1697"
      ]
     },
     "execution_count": 8,
     "metadata": {},
     "output_type": "execute_result"
    }
   ],
   "source": [
    "len(sal.groupby('JobTitle'))"
   ]
  },
  {
   "cell_type": "markdown",
   "metadata": {},
   "source": [
    "##### 7. 'JobTitle'의 종류 중 가장 많은 JobTitle 상위 5개는 무엇인가?"
   ]
  },
  {
   "cell_type": "code",
   "execution_count": 109,
   "metadata": {},
   "outputs": [
    {
     "data": {
      "text/plain": [
       "TRANSIT OPERATOR                2388\n",
       "SPECIAL NURSE                   1402\n",
       "REGISTERED NURSE                1219\n",
       "Registered Nurse                1003\n",
       "CUSTODIAN                        796\n",
       "                                ... \n",
       "Attorney, Tax Collector            1\n",
       "MAYORAL STAFF II                   1\n",
       "SUPPLY ROOM ATTENDENT              1\n",
       "HEAD AIRPORT ELECTRICIAN           1\n",
       "Director, Probation Services       1\n",
       "Name: JobTitle, Length: 1697, dtype: int64"
      ]
     },
     "execution_count": 109,
     "metadata": {},
     "output_type": "execute_result"
    }
   ],
   "source": [
    "sal.JobTitle.value_counts()  #.value_counts()"
   ]
  },
  {
   "cell_type": "code",
   "execution_count": 107,
   "metadata": {},
   "outputs": [
    {
     "data": {
      "text/plain": [
       "Index(['TRANSIT OPERATOR', 'SPECIAL NURSE', 'REGISTERED NURSE',\n",
       "       'Registered Nurse', 'CUSTODIAN'],\n",
       "      dtype='object', name='JobTitle')"
      ]
     },
     "execution_count": 107,
     "metadata": {},
     "output_type": "execute_result"
    }
   ],
   "source": [
    "sal.groupby('JobTitle').count().sort_values('Id',ascending = False).head().index   # ascending > sorted와 비슷한 함수"
   ]
  },
  {
   "cell_type": "markdown",
   "metadata": {},
   "source": [
    "    (참고) dict 형태에서 value 기준으로 순서정리\n",
    "    sorted(dict.items(),key = lambda x : x[1], reverse = True)"
   ]
  },
  {
   "cell_type": "code",
   "execution_count": 9,
   "metadata": {},
   "outputs": [
    {
     "name": "stdout",
     "output_type": "stream",
     "text": [
      "직업은 CUSTODIAN, 종사자수 796\n",
      "직업은 REGISTERED NURSE, 종사자수 1219\n",
      "직업은 Registered Nurse, 종사자수 1003\n",
      "직업은 SPECIAL NURSE, 종사자수 1402\n",
      "직업은 TRANSIT OPERATOR, 종사자수 2388\n"
     ]
    }
   ],
   "source": [
    "#1\n",
    "Job = sal.groupby('JobTitle')\n",
    "job_list = [[i[0],len(i[1])] for i in Job]\n",
    "\n",
    "E_list = [i[1] for i in job_list]\n",
    "num_list = sorted(E_list,reverse=True)[:5]\n",
    "\n",
    "for i in job_list :\n",
    "    for n in num_list:\n",
    "        if i[1] == n:\n",
    "            print('직업은 {}, 종사자수 {}'.format(i[0],n))"
   ]
  },
  {
   "cell_type": "code",
   "execution_count": 96,
   "metadata": {},
   "outputs": [
    {
     "data": {
      "text/plain": [
       "[(2388, 'TRANSIT OPERATOR'),\n",
       " (1402, 'SPECIAL NURSE'),\n",
       " (1219, 'REGISTERED NURSE'),\n",
       " (1003, 'Registered Nurse'),\n",
       " (796, 'CUSTODIAN')]"
      ]
     },
     "execution_count": 96,
     "metadata": {},
     "output_type": "execute_result"
    }
   ],
   "source": [
    "#2\n",
    "job = sal.groupby('JobTitle')\n",
    "num = []\n",
    "for i in job.agg({'Id':'count'}).Id : # jobtitle 횟수\n",
    "    num.append(i)\n",
    "sorted(list(zip(num,sorted(sal.JobTitle.unique()))),reverse=True)[:5]"
   ]
  },
  {
   "cell_type": "markdown",
   "metadata": {},
   "source": [
    "##### 8. 2011년도에 오직 한 사람만 종사하고 있는 JobTitle은?"
   ]
  },
  {
   "cell_type": "code",
   "execution_count": 128,
   "metadata": {
    "scrolled": true
   },
   "outputs": [
    {
     "data": {
      "text/plain": [
       "Index(['AUDIOLOGIST', 'DIRECTOR, PROBATION SERVICES', 'STATISTICIAN',\n",
       "       'CEMENT FINISHER SUPERVISOR II',\n",
       "       'ASSISTANT DIRECTOR OF CLINICAL SERVICES II', 'LOCKSMITH SUPERVISOR I',\n",
       "       'PUBLIC SAFETY COMMUNICATIONS TECHNICIAN',\n",
       "       'SUPERVISING PARTS STOREKEEPER',\n",
       "       'LEGISLATIVE ASSISTANT, CITY ATTORNEY'S OFFICE',\n",
       "       'POWER PLANT SUPERVISOR I',\n",
       "       ...\n",
       "       'AREA SUPERVISOR, PARKS, SQUARES AND FACILITIES',\n",
       "       'ENVIRONMENT HEALTH TECHNICIAN II', 'DISABILITY ACCESS COORDINATOR',\n",
       "       'CHIEF PROBATION OFFICER, JUVENILE COURT', 'TRAINING TECHNICIAN',\n",
       "       'SENIOR TRANSIT TRAFFIC CHECKER', 'COURT AD RESOLUTION COORDINATOR',\n",
       "       'SHADE AND DRAPERY WORKER', 'METALSMITH',\n",
       "       'ASSISTANT DIRECTOR, LOG CABIN RANCH'],\n",
       "      dtype='object', length=200)"
      ]
     },
     "execution_count": 128,
     "metadata": {},
     "output_type": "execute_result"
    }
   ],
   "source": [
    "sal2011 = sal[sal.Year == 2011]\n",
    "temp = (sal2011.JobTitle.value_counts() ==1)\n",
    "temp[temp ==True].index"
   ]
  },
  {
   "cell_type": "code",
   "execution_count": 170,
   "metadata": {},
   "outputs": [
    {
     "data": {
      "text/plain": [
       "0        general manager-metropolitan transit authority\n",
       "1                       captain iii (police department)\n",
       "2                       captain iii (police department)\n",
       "3                  wire rope cable maintenance mechanic\n",
       "4          deputy chief of department,(fire department)\n",
       "                              ...                      \n",
       "36154                swimming instructor/pool lifeguard\n",
       "36155                                  transit operator\n",
       "36156        stationary engineer, water treatment plant\n",
       "36157                                  transit operator\n",
       "36158                                        manager iv\n",
       "Name: JobTitle, Length: 36159, dtype: object"
      ]
     },
     "execution_count": 170,
     "metadata": {},
     "output_type": "execute_result"
    }
   ],
   "source": [
    "sal2011"
   ]
  },
  {
   "cell_type": "code",
   "execution_count": 167,
   "metadata": {
    "scrolled": true
   },
   "outputs": [
    {
     "data": {
      "text/plain": [
       "1045"
      ]
     },
     "execution_count": 167,
     "metadata": {},
     "output_type": "execute_result"
    }
   ],
   "source": [
    "len(sal2011.groupby('JobTitle'))"
   ]
  },
  {
   "cell_type": "code",
   "execution_count": 173,
   "metadata": {},
   "outputs": [
    {
     "data": {
      "text/plain": [
       "transit operator                     False\n",
       "special nurse                        False\n",
       "registered nurse                     False\n",
       "custodian                            False\n",
       "firefighter                          False\n",
       "                                     ...  \n",
       "senior claims investigator            True\n",
       "sheriff                               True\n",
       "chief fire alarm dispatcher           True\n",
       "audiologist                           True\n",
       "senior medical transcriber typist     True\n",
       "Name: JobTitle, Length: 1045, dtype: bool"
      ]
     },
     "execution_count": 173,
     "metadata": {},
     "output_type": "execute_result"
    }
   ],
   "source": [
    "sal2011.JobTitle.value_counts()==1"
   ]
  },
  {
   "cell_type": "code",
   "execution_count": 10,
   "metadata": {
    "collapsed": true
   },
   "outputs": [
    {
     "name": "stdout",
     "output_type": "stream",
     "text": [
      "ACUPUNCTURIST\n",
      "ADMINISTRATOR, SFGH MEDICAL CENTER\n",
      "AIRPORT ASSISTANT DEPUTY DIRECTOR, BUSINESS ADMINI\n",
      "AIRPORT ASSISTANT DEPUTY DIRECTOR, OPERATIONS\n",
      "AIRPORT MECHANICAL MAINTENANCE SUPERVISOR\n",
      "ANIMAL CARE ASSISTANT SUPERVISOR\n",
      "ANIMAL CARE SUPERVISOR\n",
      "AREA SUPERVISOR, PARKS, SQUARES AND FACILITIES\n",
      "ASPHALT PLANT SUPERVISOR I\n",
      "ASSESSOR\n",
      "ASSISTANT COURT REPORTER COORDINATOR\n",
      "ASSISTANT DIRECTOR OF CLINICAL SERVICES I\n",
      "ASSISTANT DIRECTOR OF CLINICAL SERVICES II\n",
      "ASSISTANT DIRECTOR, JUVENILE HALL\n",
      "ASSISTANT DIRECTOR, LOG CABIN RANCH\n",
      "ASSISTANT INDUSTRIAL HYGIENIST\n",
      "ASSISTANT INSPECTOR (POLICE DEPARTMENT)\n",
      "ASSISTANT LAW LIBRARIAN\n",
      "ASSISTANT RECREATION SUPERVISOR\n",
      "ASSISTANT SUPERINTENDENT RECREATION\n",
      "ASSISTANT TO THE DIRECTOR, PUBLIC AFFAIRS       RS\n",
      "ASSOCIATE HUMAN RESOURCES ANALYST\n",
      "ASSOCIATE MUSEUM CONSERVATOR, ASIAN ART MUSEUM\n",
      "ASST. CHIEF PROBATION OFFICER-JUVENILE PROBATION\n",
      "ASST. CHIEF, BUREAU OF CLAIMS INVEST. & ADMIN\n",
      "ATTORNEY FOR THE PUBLIC ADMINISTRATOR\n",
      "AUDIOLOGIST\n",
      "AUTOMOTIVE BODY AND FENDER WORKER SUPERVISOR I\n",
      "BAKER\n",
      "BARBER\n",
      "BOARD SECRETARY - MUNICIPAL TRANSPORTATION AGENC\n",
      "BRAILLIST\n",
      "BUILDING SERVICES TECHNICIAN\n",
      "CAPTAIN, BUREAU OF FIRE PREVENTION AND PUBLIC SAFE\n",
      "CARPENTER SUPERVISOR II\n",
      "CASHIER III\n",
      "CEMENT FINISHER SUPERVISOR II\n",
      "CHIEF DISTRICT ATTORNEY'S INVESTIGATOR\n",
      "CHIEF ELECTRICAL INSPECTOR\n",
      "CHIEF FIRE ALARM DISPATCHER\n",
      "CHIEF HOUSING INSPECTOR\n",
      "CHIEF MICROBIOLOGIST\n",
      "CHIEF NURSERY SPECIALIST\n",
      "CHIEF OF DEPARTMENT, (FIRE DEPARTMENT)\n",
      "CHIEF OF POLICE\n",
      "CHIEF PLUMBING INSPECTOR\n",
      "CHIEF PROBATION OFFICER, JUVENILE COURT\n",
      "CHIEF TELEPHONE OPERATOR\n",
      "CHIEF VICTIM/WITNESS INVESTIGATOR\n",
      "CITY ATTORNEY\n",
      "CITY PLANNING GRAPHICS SUPERVISOR\n",
      "COMMUNICATIONS DIRECTOR\n",
      "CONFIDENTIAL SECRETARY CITY ATTORNEY\n",
      "CONFIDENTIAL SECRETARY TO DISTRICT ATTORNEY\n",
      "CONSERVATORSHIP/CASE MGNT SUPV\n",
      "COURT AD RESOLUTION COORDINATOR\n",
      "COURT ADMINISTRATIVE SECRETARY\n",
      "COURT ASSISTANT, SUPERIOR COURT\n",
      "COURT CLERK\n",
      "COURT COMPUTER FACILITIES COORDINATOR\n",
      "COURT EXECUTIVE OFFICER\n",
      "COURT INTERPRETER SUPERVISOR\n",
      "COURT PARALEGAL\n",
      "COURT REPORTER COORDINATOR\n",
      "COURT SUPERVISOR I\n",
      "CRANE MECHANIC SUPERVISOR\n",
      "CRIME LABORATORY MANAGER\n",
      "DEPUTY DIRECTOR OF INVESTMENTS\n",
      "DEPUTY SEALER OF WEIGHTS AND MEASURES\n",
      "DIRECTOR, EMPLOYEE RELATIONS DIVISION\n",
      "DIRECTOR, FISCAL SERVICES\n",
      "DIRECTOR, HUMAN RESOURCES\n",
      "DIRECTOR, INFORMATION TECHNOLOGY GROUP\n",
      "DIRECTOR, JUVENILE HALL\n",
      "DIRECTOR, PROBATION SERVICES\n",
      "DISABILITY ACCESS COORDINATOR\n",
      "ELECTRIC MOTOR REPAIR SUPERVISOR I\n",
      "ELECTRICAL ENGINEERING ASSOCIATE I\n",
      "ELECTROENCEPHALOGRAPH TECHNICIAN I\n",
      "EMERGENCY PROTECTIVE ORDERS COMMISSIONER\n",
      "EMPLOYEE ASSISTANCE COUNSELOR\n",
      "EMPLOYMENT AND TRAINING SPECIALIST VI\n",
      "ENVIRONMENT HEALTH TECHNICIAN II\n",
      "EXECUTIVE ASSISTANT TO THE GENERAL MANAGER, RETIRE\n",
      "EXECUTIVE DIRECTOR, SOUTHEAST COMMUNITY FACILITY\n",
      "EXECUTIVE SECRETARY TO THE CONTROLLER\n",
      "FARMER\n",
      "FEASIBILITY ANALYST, PORT\n",
      "FIELD SERVICES ASSISTANT SUPERVISOR\n",
      "FORENSIC TOXICOLOGIST\n",
      "GLAZIER SUPERVISOR I\n",
      "HEAD AIRPORT ELECTRICIAN\n",
      "HEAD PHOTOGRAPHER\n",
      "HEAVY EQUIPMENT OPERATIONS ASSISTANT SUPERVISOR\n",
      "HUMAN RESOURCES DIRECTOR\n",
      "INSTITUTIONAL POLICE LIEUTENANT\n",
      "IS TECHNICIAN - ASSISTANT\n",
      "IS TRAINER - SENIOR\n",
      "LABORATORY HELPER\n",
      "LAW LIBRARIAN\n",
      "LEGISLATION CLERK\n",
      "LEGISLATIVE ASSISTANT, CITY ATTORNEY'S OFFICE\n",
      "LEGISLATIVE CALENDAR CLERK\n",
      "LIBRARIAN II - ASIAN ARTS\n",
      "LIEUTENANT I, (POLICE DEPARTMENT)\n",
      "LIEUTENANT II (POLICE DEPARTMENT)\n",
      "LOCKSMITH SUPERVISOR I\n",
      "MANAGER, UNIFIED FAMILY COURT SERVICES\n",
      "MARKET RESEARCH SPECIALISTS, PORT\n",
      "MATERIALS AND SUPPLIES SUPERVISOR\n",
      "MAYOR'S PROGRAM MANAGER\n",
      "MAYORAL STAFF II\n",
      "MAYORAL STAFF V\n",
      "MAYORAL STAFF XI\n",
      "MEDIA PRODUCTION SUPERVISOR\n",
      "MEDIA TRAINING SPECIALIST\n",
      "MEDIA/SECURITY SYSTEMS SUPERVISOR\n",
      "MENTAL HEALTH HEARING OFFICER\n",
      "METAL FABRICATOR\n",
      "METALSMITH\n",
      "MOBILE EQUIPMENT SUPERVISOR\n",
      "MUNICIPAL STADIUM GROUNDSKEEPER\n",
      "ORNAMENTAL IRON WORKER SUPERVISOR I\n",
      "ORTHOPEDIC TECHNICIAN I\n",
      "ORTHOPEDIC TECHNICIAN II\n",
      "PAINTER SUPERVISOR II\n",
      "PIANIST\n",
      "PORT DIRECTOR\n",
      "POWER GENERATION TECHNICIAN I\n",
      "POWER HOUSE ELECTRICIAN SUPERVISOR I\n",
      "POWER PLANT SUPERVISOR I\n",
      "POWERHOUSE ELECTRICIAN SUPERVISOR II\n",
      "PRINCIPAL INVESTIGATOR, TAX COLLECTOR\n",
      "PRINCIPAL MUSEUM PREPARATOR\n",
      "PRINCIPAL RECREATION SUPERVISOR\n",
      "PUBLIC DEFENDER\n",
      "PUBLIC SAFETY COMMUNICATIONS TECHNICIAN\n",
      "RENT BOARD SUPERVISOR\n",
      "ROOFER SUPERVISOR I\n",
      "SECRETARY TO THE PRESIDING JUDGE\n",
      "SECRETARY, COMMISSION ON THE ENVIRONMENT\n",
      "SECRETARY, HEALTH COMMISSION\n",
      "SECRETARY, HUMAN SERVICES COMMISSION\n",
      "SECRETARY, LIBRARY COMMISSION\n",
      "SECRETARY,JUVENILE PROBATION COMMISSION\n",
      "SENIOR BOOK REPAIRER\n",
      "SENIOR CLAIMS INVESTIGATOR\n",
      "SENIOR DATA ENTRY OPERATOR\n",
      "SENIOR EMPLOYEE ASSISTANCE COUNSELOR\n",
      "SENIOR FOOD SERVICE SUPERVISOR\n",
      "SENIOR GENERAL UTILITY MECHANIC\n",
      "SENIOR LIGHT RAIL VEHICLE EQUIPMENT ENGINEER\n",
      "SENIOR MAINTENANCE CONTROLLER\n",
      "SENIOR MATERIALS AND SUPPLIES SUPERVISOR\n",
      "SENIOR MEDICAL TRANSCRIBER TYPIST\n",
      "SENIOR MORGUE ATTENDANT\n",
      "SENIOR OFFSET MACHINE OPERATOR\n",
      "SENIOR OPERATIONS MANAGER\n",
      "SENIOR PHARMACY HELPER\n",
      "SENIOR PLAN CHECKER\n",
      "SENIOR PSYCHIATRIC ORDERLY\n",
      "SENIOR SUPERVISING PROBATION OFFICER, JUVENILE POU\n",
      "SENIOR TRANSIT TRAFFIC CHECKER\n",
      "SHADE AND DRAPERY WORKER\n",
      "SHELTER OFFICE ASSISTANT SUPERVISOR\n",
      "SHELTER OFFICE SUPERVISOR\n",
      "SHERIFF\n",
      "SIGNAL AND SYSTEMS ENGINEER\n",
      "SOFT FLOOR COVERER SUPERVISOR\n",
      "SPECIAL ASSISTANT XIV\n",
      "SPECIAL ASSISTANT XV\n",
      "SPECIAL ASSISTANT XVI\n",
      "SPECIAL ASSISTANT XVIII\n",
      "STATISTICIAN\n",
      "SUPERVISING COURT ADMINISTRATIVE SECRETARY\n",
      "SUPERVISING PARTS STOREKEEPER\n",
      "SUPERVISING WELFARE FRAUD INVESTIGATOR\n",
      "SUPPLY ROOM ATTENDENT\n",
      "TELECOMMUNICATIONS TECHNICIAN SUPERVISOR\n",
      "TRACK MAINTENANCE SUPERINTENDENT,MUNICIPAL RAILWAY\n",
      "TRAF SIGNAL ELECTRICIAN SUP I\n",
      "TRAF SIGNAL ELECTRICIAN SUP II\n",
      "TRAFFIC HEARING OFFICER\n",
      "TRAFFIC SIGN MANAGER\n",
      "TRAFFIC SIGNAL OPERATOR\n",
      "TRAINING COORDINATOR\n",
      "TRAINING TECHNICIAN\n",
      "TRANSIT PAINT SHOP SUPERVISOR I\n",
      "TRANSIT POWER LINE WORKER SUPERVISOR II\n",
      "TREASURER\n",
      "TREE TOPPER SUPERVISOR II\n",
      "TRIAL DELAY REDUCTION COORDINATOR\n",
      "VETERNIARY LABORATORY TECHNOLOGIST\n",
      "VICTIM & WITNESS TECHNICIAN\n",
      "WAREHOUSE WORKER\n",
      "WHARFINGER I\n",
      "WINDOW CLEANER SUPERVISOR\n",
      "WIRE ROPE CABLE MAINTENANCE SUPERVISOR\n",
      "YOUTH COMMISSION ADVISOR, BOARD OF SUPERVISORS\n",
      "ZOO CURATOR\n"
     ]
    }
   ],
   "source": [
    "year = sal[sal['Year']==2011]\n",
    "Job = year.groupby('JobTitle')\n",
    "job_list = [[i[0],len(i[1])] for i in Job]\n",
    "\n",
    "for i in job_list :\n",
    "    if i[1] ==1 :\n",
    "        print(i[0])"
   ]
  },
  {
   "cell_type": "markdown",
   "metadata": {},
   "source": [
    "##### 9. 'Chief'라는 직업을 가진 사람의 수는?"
   ]
  },
  {
   "cell_type": "code",
   "execution_count": 136,
   "metadata": {},
   "outputs": [
    {
     "data": {
      "text/plain": [
       "318"
      ]
     },
     "execution_count": 136,
     "metadata": {},
     "output_type": "execute_result"
    }
   ],
   "source": [
    "chief_count = 0\n",
    "for i in sal.JobTitle:\n",
    "    if 'chief' in i.lower():\n",
    "        chief_count += 1\n",
    "chief_count"
   ]
  },
  {
   "cell_type": "code",
   "execution_count": 155,
   "metadata": {},
   "outputs": [],
   "source": [
    "sal['JobTitle'] = sal['JobTitle'].apply(lambda x : x.lower())"
   ]
  },
  {
   "cell_type": "code",
   "execution_count": 162,
   "metadata": {},
   "outputs": [
    {
     "data": {
      "text/plain": [
       "0"
      ]
     },
     "execution_count": 162,
     "metadata": {},
     "output_type": "execute_result"
    }
   ],
   "source": [
    "# jobtitle을 따로 만드셨나?\n",
    "\n",
    "sum(sal['JobTitle'].str.contains('Chief').values)"
   ]
  },
  {
   "cell_type": "code",
   "execution_count": 134,
   "metadata": {},
   "outputs": [
    {
     "data": {
      "text/plain": [
       "204"
      ]
     },
     "execution_count": 134,
     "metadata": {},
     "output_type": "execute_result"
    }
   ],
   "source": [
    "# Cheif 를 포함하지 않음\n",
    "job = sal.groupby('JobTitle')\n",
    "job_list = [[i[0],len(i[1])] for i in job if 'CHIEF' in i[0]]\n",
    "num_chief = 0\n",
    "for i in job_list:\n",
    "    num_chief += i[1]\n",
    "num_chief"
   ]
  },
  {
   "cell_type": "code",
   "execution_count": null,
   "metadata": {},
   "outputs": [],
   "source": []
  },
  {
   "cell_type": "code",
   "execution_count": null,
   "metadata": {},
   "outputs": [],
   "source": []
  }
 ],
 "metadata": {
  "kernelspec": {
   "display_name": "Python 3",
   "language": "python",
   "name": "python3"
  },
  "language_info": {
   "codemirror_mode": {
    "name": "ipython",
    "version": 3
   },
   "file_extension": ".py",
   "mimetype": "text/x-python",
   "name": "python",
   "nbconvert_exporter": "python",
   "pygments_lexer": "ipython3",
   "version": "3.8.3"
  }
 },
 "nbformat": 4,
 "nbformat_minor": 4
}
