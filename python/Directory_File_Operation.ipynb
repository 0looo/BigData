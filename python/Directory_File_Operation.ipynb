{
 "cells": [
  {
   "cell_type": "code",
   "execution_count": 1,
   "metadata": {},
   "outputs": [
    {
     "data": {
      "text/plain": [
       "'D:\\\\BigData\\\\python'"
      ]
     },
     "execution_count": 1,
     "metadata": {},
     "output_type": "execute_result"
    }
   ],
   "source": [
    "pwd"
   ]
  },
  {
   "cell_type": "code",
   "execution_count": 2,
   "metadata": {
    "collapsed": true
   },
   "outputs": [
    {
     "name": "stdout",
     "output_type": "stream",
     "text": [
      " D 드라이브의 볼륨: 새 볼륨\n",
      " 볼륨 일련 번호: 98B0-2632\n",
      "\n",
      " D:\\BigData\\python 디렉터리\n",
      "\n",
      "2020-09-29  오후 02:15    <DIR>          .\n",
      "2020-09-29  오후 02:15    <DIR>          ..\n",
      "2020-09-29  오후 02:14    <DIR>          .ipynb_checkpoints\n",
      "2020-09-23  오후 02:15                22 ban.txt\n",
      "2020-09-23  오후 02:15                93 ban_student.txt\n",
      "2020-09-23  오후 12:50                30 data.txt\n",
      "2020-09-29  오후 02:15               576 Directory_File_Operation.ipynb\n",
      "2020-09-29  오후 12:40            19,337 Exception.ipynb\n",
      "2020-09-29  오후 12:28                11 file.txt\n",
      "2020-09-21  오후 05:42             9,466 IF.ipynb\n",
      "2020-09-23  오후 03:28                41 memo.txt\n",
      "2020-09-23  오후 12:32                59 newfile.txt\n",
      "2020-09-23  오후 02:47               396 poem.txt\n",
      "2020-09-29  오전 10:26    <DIR>          ppt\n",
      "2020-09-25  오후 02:05            46,430 practice.ipynb\n",
      "2020-09-29  오전 10:17             4,673 Practice_ch1_ch5.ipynb\n",
      "2020-09-29  오전 10:29               926 Practice_ch6_ch10.ipynb\n",
      "2020-09-25  오후 06:08            36,204 python_class.ipynb\n",
      "2020-09-17  오후 03:14             1,781 python_data1.ipynb\n",
      "2020-09-25  오후 05:22            22,971 python_datatype_1.ipynb\n",
      "2020-09-21  오후 06:22            36,791 python_datatype_2_sequential.ipynb\n",
      "2020-09-21  오후 03:14            36,043 python_datatype_3_sequential_tuple_set_dictionary.ipynb\n",
      "2020-09-25  오후 06:08            33,367 python_datatype_test_-1_review.ipynb\n",
      "2020-09-25  오후 06:20            35,228 python_datatype_test_review.ipynb\n",
      "2020-09-24  오후 06:33           137,833 python_file.ipynb\n",
      "2020-09-22  오후 05:18            31,146 python_for.ipynb\n",
      "2020-09-25  오후 12:18            79,513 python_function.ipynb\n",
      "2020-09-18  오후 03:48            24,081 python_operation.ipynb\n",
      "2020-09-23  오후 12:46                18 score.txt\n",
      "2020-09-23  오후 02:15            16,339 stockcode.txt\n",
      "2020-09-23  오후 04:24            16,339 stockcode_copy.txt\n",
      "2020-09-23  오후 02:41                28 subject.txt\n",
      "2020-09-24  오후 01:55                79 test.txt\n",
      "2020-09-24  오후 04:54               186 test1.txt\n",
      "2020-09-25  오후 05:56                72 Untitled.ipynb\n",
      "              31개 파일             590,079 바이트\n",
      "               4개 디렉터리  742,581,841,920 바이트 남음\n"
     ]
    }
   ],
   "source": [
    "!dir"
   ]
  },
  {
   "cell_type": "code",
   "execution_count": 3,
   "metadata": {},
   "outputs": [
    {
     "data": {
      "text/plain": [
       "18"
      ]
     },
     "execution_count": 3,
     "metadata": {},
     "output_type": "execute_result"
    }
   ],
   "source": [
    "from os.path import getsize\n",
    "getsize('score.txt')"
   ]
  },
  {
   "cell_type": "code",
   "execution_count": 4,
   "metadata": {},
   "outputs": [],
   "source": [
    "from os import remove\n",
    "#remove('score.txt')   -> 파일삭제가능"
   ]
  },
  {
   "cell_type": "code",
   "execution_count": 38,
   "metadata": {
    "collapsed": true
   },
   "outputs": [
    {
     "data": {
      "text/plain": [
       "['.ipynb_checkpoints',\n",
       " 'ban.txt',\n",
       " 'ban_student.txt',\n",
       " 'data.txt',\n",
       " 'Directory_File_Operation.ipynb',\n",
       " 'Exception.ipynb',\n",
       " 'file.txt',\n",
       " 'IF.ipynb',\n",
       " 'net_test.txt',\n",
       " 'newfile.txt',\n",
       " 'poem.txt',\n",
       " 'ppt',\n",
       " 'practice.ipynb',\n",
       " 'Practice_ch1_ch5.ipynb',\n",
       " 'Practice_ch6_ch10.ipynb',\n",
       " 'python_class.ipynb',\n",
       " 'python_data1.ipynb',\n",
       " 'python_datatype_1.ipynb',\n",
       " 'python_datatype_2_sequential.ipynb',\n",
       " 'python_datatype_3_sequential_tuple_set_dictionary.ipynb',\n",
       " 'python_datatype_test_-1_review.ipynb',\n",
       " 'python_datatype_test_review.ipynb',\n",
       " 'python_file.ipynb',\n",
       " 'python_for.ipynb',\n",
       " 'python_function.ipynb',\n",
       " 'python_operation.ipynb',\n",
       " 'score.txt',\n",
       " 'stockcode.txt',\n",
       " 'stockcode_copy.txt',\n",
       " 'subject.txt',\n",
       " 'test1.txt',\n",
       " 'test_dir',\n",
       " 'Untitled.ipynb']"
      ]
     },
     "execution_count": 38,
     "metadata": {},
     "output_type": "execute_result"
    }
   ],
   "source": [
    "import os\n",
    "os.listdir('D:\\\\BigData\\\\python')"
   ]
  },
  {
   "cell_type": "code",
   "execution_count": 6,
   "metadata": {},
   "outputs": [
    {
     "data": {
      "text/plain": [
       "'D:\\\\BigData\\\\python'"
      ]
     },
     "execution_count": 6,
     "metadata": {},
     "output_type": "execute_result"
    }
   ],
   "source": [
    "os. getcwd()   # 파이썬에서 제공하는 pwd와 동일한 기능"
   ]
  },
  {
   "cell_type": "code",
   "execution_count": 9,
   "metadata": {},
   "outputs": [],
   "source": [
    "os. mkdir('test_dir')  # test_dir 파일 생성"
   ]
  },
  {
   "cell_type": "code",
   "execution_count": null,
   "metadata": {},
   "outputs": [],
   "source": []
  },
  {
   "cell_type": "code",
   "execution_count": 13,
   "metadata": {},
   "outputs": [
    {
     "name": "stdout",
     "output_type": "stream",
     "text": [
      "\"ban.txt\" file size :  22\n",
      "\"poem.txt\" file size :  396\n"
     ]
    }
   ],
   "source": [
    "from os.path import getsize\n",
    "\n",
    "file1 = 'ban.txt'\n",
    "file2 = 'poem.txt'\n",
    "\n",
    "file_size1 = getsize(file1)\n",
    "file_size2 = getsize(file2)\n",
    "\n",
    "print('\"{}\" file size : '. format(file1), file_size1)\n",
    "print('\"{}\" file size : '. format(file2), file_size2)"
   ]
  },
  {
   "cell_type": "code",
   "execution_count": 167,
   "metadata": {},
   "outputs": [
    {
     "name": "stdout",
     "output_type": "stream",
     "text": [
      "input file name to remove : test1.txt\n",
      "test1.txt really remove the file? (y/n)n\n",
      "file name is not removed\n"
     ]
    }
   ],
   "source": [
    "from os import remove\n",
    "\n",
    "target_file = input('input file name to remove : ')\n",
    "\n",
    "k = input('{} really remove the file? (y/n)'. format(target_file))\n",
    "\n",
    "try:\n",
    "    if k == 'y' or k == 'Y':\n",
    "        remove(target_file)\n",
    "\n",
    "except Exception as e :\n",
    "    print('error message : ', e)\n",
    "else : \n",
    "    if k == 'y' :\n",
    "        print('{} file name is removed..'. format(target_file))\n",
    "    else :\n",
    "        print('file name is not removed')"
   ]
  },
  {
   "cell_type": "code",
   "execution_count": 52,
   "metadata": {},
   "outputs": [
    {
     "name": "stdout",
     "output_type": "stream",
     "text": [
      "이름을 바꾸고자 하는 파일을 입력하세요 : ban_test.txt\n",
      "새로운 파일 이름을 입력하세요 : ban.txt\n",
      "ban_test.txt really rename the file? (y/n)y\n",
      "ban_test.txt file name is changed..\n"
     ]
    }
   ],
   "source": [
    "from os import rename\n",
    "\n",
    "target_file = input('이름을 바꾸고자 하는 파일을 입력하세요 : ')\n",
    "new_target_file = input('새로운 파일 이름을 입력하세요 : ')\n",
    "\n",
    "k = input('{} really rename the file? (y/n)'. format(target_file))\n",
    "\n",
    "try :\n",
    "    if k == 'y' :\n",
    "        rename(target_file, new_target_file)\n",
    "    \n",
    "except Exception as e :\n",
    "    print('error message : ', e)\n",
    "\n",
    "else : \n",
    "    if k == 'y' :\n",
    "        print('{} file name is changed..'. format(target_file))\n",
    "    else :\n",
    "        print('file name is not changed')"
   ]
  },
  {
   "cell_type": "code",
   "execution_count": 27,
   "metadata": {},
   "outputs": [
    {
     "name": "stdout",
     "output_type": "stream",
     "text": [
      "['apache-tomcat-8.5.58', 'apache-tomcat-8.5.58-windows-x64.zip', 'eclipse', 'eclipse-jee-2018-09-win32-x86_64.zip', 'jre-8u261-windows-x64.exe', 'testws', 'workspace']\n"
     ]
    }
   ],
   "source": [
    "import os\n",
    "\n",
    "pwd = os.getcwd()\n",
    "os. listdir(pwd)\n",
    "\n",
    "path = 'D:\\\\JSP'\n",
    "print(os.listdir(path))"
   ]
  },
  {
   "cell_type": "code",
   "execution_count": 35,
   "metadata": {},
   "outputs": [
    {
     "name": "stdout",
     "output_type": "stream",
     "text": [
      "D:\\JSP\n",
      "D:\\JSP\n",
      "D:\\BigData\\python\n"
     ]
    }
   ],
   "source": [
    "import os\n",
    "pdir = os.getcwd() # 현재 작업 폴더\n",
    "print(pdir)\n",
    "\n",
    "npath = 'D:\\\\JSP'\n",
    "os.chdir(npath)     # 작업 폴더를 변경\n",
    "print(os.getcwd())\n",
    "\n",
    "pdir =  'D:\\\\BigData\\\\python'\n",
    "os.chdir(pdir)     # 작업폴더를 원래 폴더로 변경\n",
    "print(os.getcwd())"
   ]
  },
  {
   "cell_type": "code",
   "execution_count": 57,
   "metadata": {},
   "outputs": [
    {
     "name": "stdout",
     "output_type": "stream",
     "text": [
      "new folder name?newfolder\n",
      "error message [WinError 183] 파일이 이미 있으므로 만들 수 없습니다: 'newfolder'\n"
     ]
    }
   ],
   "source": [
    "# mkdir - 폴더를 새로이 생성\n",
    "\n",
    "import os \n",
    "\n",
    "newfolder = input('new folder name?')\n",
    "\n",
    "try : \n",
    "    os.mkdir(newfolder)\n",
    "except Exception as e : \n",
    "    print('error message', e)"
   ]
  },
  {
   "cell_type": "code",
   "execution_count": null,
   "metadata": {},
   "outputs": [],
   "source": [
    "newfolder = input('new folder name?')\n",
    "\n",
    "if newfolder in os.listdir():\n",
    "    os.remove(newfolder)\n",
    "else :\n",
    "    os.mkdir(newfolder)"
   ]
  },
  {
   "cell_type": "code",
   "execution_count": 75,
   "metadata": {
    "collapsed": true
   },
   "outputs": [
    {
     "data": {
      "text/plain": [
       "['.ipynb_checkpoints',\n",
       " 'ban.txt',\n",
       " 'ban_student.txt',\n",
       " 'data.txt',\n",
       " 'Directory_File_Operation.ipynb',\n",
       " 'Exception.ipynb',\n",
       " 'file.txt',\n",
       " 'IF.ipynb',\n",
       " 'newfile.txt',\n",
       " 'newfolder',\n",
       " 'poem.txt',\n",
       " 'ppt',\n",
       " 'practice.ipynb',\n",
       " 'Practice_ch1_ch5.ipynb',\n",
       " 'Practice_ch6_ch10.ipynb',\n",
       " 'python_class.ipynb',\n",
       " 'python_data1.ipynb',\n",
       " 'python_datatype_1.ipynb',\n",
       " 'python_datatype_2_sequential.ipynb',\n",
       " 'python_datatype_3_sequential_tuple_set_dictionary.ipynb',\n",
       " 'python_datatype_test_-1_review.ipynb',\n",
       " 'python_datatype_test_review.ipynb',\n",
       " 'python_file.ipynb',\n",
       " 'python_for.ipynb',\n",
       " 'python_function.ipynb',\n",
       " 'python_operation.ipynb',\n",
       " 'score.txt',\n",
       " 'stockcode.txt',\n",
       " 'stockcode_copy.txt',\n",
       " 'subject.txt',\n",
       " 'test.txt',\n",
       " 'test1.txt',\n",
       " 'testfolder',\n",
       " 'test_dir',\n",
       " 'test_folder',\n",
       " 'Untitled.ipynb']"
      ]
     },
     "execution_count": 75,
     "metadata": {},
     "output_type": "execute_result"
    }
   ],
   "source": [
    "os. listdir()"
   ]
  },
  {
   "cell_type": "code",
   "execution_count": 70,
   "metadata": {},
   "outputs": [],
   "source": [
    "os. rmdir('testfolder')"
   ]
  },
  {
   "cell_type": "code",
   "execution_count": 72,
   "metadata": {},
   "outputs": [],
   "source": [
    "os.mkdir('./testfolder/')"
   ]
  },
  {
   "cell_type": "code",
   "execution_count": 73,
   "metadata": {},
   "outputs": [],
   "source": [
    "import shutil"
   ]
  },
  {
   "cell_type": "code",
   "execution_count": 76,
   "metadata": {},
   "outputs": [],
   "source": [
    "target_dir = 'D:\\\\BigData\\\\python\\\\test_dir'"
   ]
  },
  {
   "cell_type": "code",
   "execution_count": 79,
   "metadata": {},
   "outputs": [],
   "source": [
    "shutil.rmtree(target_dir)"
   ]
  },
  {
   "cell_type": "code",
   "execution_count": 80,
   "metadata": {
    "collapsed": true
   },
   "outputs": [
    {
     "data": {
      "text/plain": [
       "['.ipynb_checkpoints',\n",
       " 'ban.txt',\n",
       " 'ban_student.txt',\n",
       " 'data.txt',\n",
       " 'Directory_File_Operation.ipynb',\n",
       " 'Exception.ipynb',\n",
       " 'file.txt',\n",
       " 'IF.ipynb',\n",
       " 'newfile.txt',\n",
       " 'newfolder',\n",
       " 'poem.txt',\n",
       " 'ppt',\n",
       " 'practice.ipynb',\n",
       " 'Practice_ch1_ch5.ipynb',\n",
       " 'Practice_ch6_ch10.ipynb',\n",
       " 'python_class.ipynb',\n",
       " 'python_data1.ipynb',\n",
       " 'python_datatype_1.ipynb',\n",
       " 'python_datatype_2_sequential.ipynb',\n",
       " 'python_datatype_3_sequential_tuple_set_dictionary.ipynb',\n",
       " 'python_datatype_test_-1_review.ipynb',\n",
       " 'python_datatype_test_review.ipynb',\n",
       " 'python_file.ipynb',\n",
       " 'python_for.ipynb',\n",
       " 'python_function.ipynb',\n",
       " 'python_operation.ipynb',\n",
       " 'score.txt',\n",
       " 'stockcode.txt',\n",
       " 'stockcode_copy.txt',\n",
       " 'subject.txt',\n",
       " 'test.txt',\n",
       " 'test1.txt',\n",
       " 'testfolder',\n",
       " 'test_folder',\n",
       " 'Untitled.ipynb']"
      ]
     },
     "execution_count": 80,
     "metadata": {},
     "output_type": "execute_result"
    }
   ],
   "source": [
    "os. listdir()"
   ]
  },
  {
   "cell_type": "code",
   "execution_count": 84,
   "metadata": {
    "collapsed": true
   },
   "outputs": [
    {
     "name": "stdout",
     "output_type": "stream",
     "text": [
      ".ipynb_checkpoints는 폴더입니다.\n",
      "newfolder는 폴더입니다.\n",
      "ppt는 폴더입니다.\n",
      "testfolder는 폴더입니다.\n",
      "test_folder는 폴더입니다.\n",
      "ban.txt는 파일입니다.\n",
      "ban_student.txt는 파일입니다.\n",
      "data.txt는 파일입니다.\n",
      "Directory_File_Operation.ipynb는 파일입니다.\n",
      "Exception.ipynb는 파일입니다.\n",
      "file.txt는 파일입니다.\n",
      "IF.ipynb는 파일입니다.\n",
      "newfile.txt는 파일입니다.\n",
      "poem.txt는 파일입니다.\n",
      "practice.ipynb는 파일입니다.\n",
      "Practice_ch1_ch5.ipynb는 파일입니다.\n",
      "Practice_ch6_ch10.ipynb는 파일입니다.\n",
      "python_class.ipynb는 파일입니다.\n",
      "python_data1.ipynb는 파일입니다.\n",
      "python_datatype_1.ipynb는 파일입니다.\n",
      "python_datatype_2_sequential.ipynb는 파일입니다.\n",
      "python_datatype_3_sequential_tuple_set_dictionary.ipynb는 파일입니다.\n",
      "python_datatype_test_-1_review.ipynb는 파일입니다.\n",
      "python_datatype_test_review.ipynb는 파일입니다.\n",
      "python_file.ipynb는 파일입니다.\n",
      "python_for.ipynb는 파일입니다.\n",
      "python_function.ipynb는 파일입니다.\n",
      "python_operation.ipynb는 파일입니다.\n",
      "score.txt는 파일입니다.\n",
      "stockcode.txt는 파일입니다.\n",
      "stockcode_copy.txt는 파일입니다.\n",
      "subject.txt는 파일입니다.\n",
      "test.txt는 파일입니다.\n",
      "test1.txt는 파일입니다.\n",
      "Untitled.ipynb는 파일입니다.\n"
     ]
    }
   ],
   "source": [
    "import os\n",
    "from os.path import exists, isdir, isfile\n",
    "\n",
    "folder_list = []\n",
    "file_list = []\n",
    "\n",
    "files = os.listdir()\n",
    "for file in files :\n",
    "    if isdir(file):\n",
    "        print('{}는 폴더입니다.'.format(file))\n",
    "        folder_list.append(file)\n",
    "        \n",
    "for file in files :\n",
    "    if isfile(file) :\n",
    "        print('{}는 파일입니다.'.format(file))\n",
    "        file_list.append(file)"
   ]
  },
  {
   "cell_type": "code",
   "execution_count": 91,
   "metadata": {
    "collapsed": true
   },
   "outputs": [
    {
     "data": {
      "text/plain": [
       "['.ipynb_checkpoints', 'newfolder', 'ppt', 'testfolder', 'test_folder']"
      ]
     },
     "execution_count": 91,
     "metadata": {},
     "output_type": "execute_result"
    }
   ],
   "source": [
    "folder_list"
   ]
  },
  {
   "cell_type": "code",
   "execution_count": 92,
   "metadata": {
    "collapsed": true
   },
   "outputs": [
    {
     "data": {
      "text/plain": [
       "['ban.txt',\n",
       " 'ban_student.txt',\n",
       " 'data.txt',\n",
       " 'Directory_File_Operation.ipynb',\n",
       " 'Exception.ipynb',\n",
       " 'file.txt',\n",
       " 'IF.ipynb',\n",
       " 'newfile.txt',\n",
       " 'poem.txt',\n",
       " 'practice.ipynb',\n",
       " 'Practice_ch1_ch5.ipynb',\n",
       " 'Practice_ch6_ch10.ipynb',\n",
       " 'python_class.ipynb',\n",
       " 'python_data1.ipynb',\n",
       " 'python_datatype_1.ipynb',\n",
       " 'python_datatype_2_sequential.ipynb',\n",
       " 'python_datatype_3_sequential_tuple_set_dictionary.ipynb',\n",
       " 'python_datatype_test_-1_review.ipynb',\n",
       " 'python_datatype_test_review.ipynb',\n",
       " 'python_file.ipynb',\n",
       " 'python_for.ipynb',\n",
       " 'python_function.ipynb',\n",
       " 'python_operation.ipynb',\n",
       " 'score.txt',\n",
       " 'stockcode.txt',\n",
       " 'stockcode_copy.txt',\n",
       " 'subject.txt',\n",
       " 'test.txt',\n",
       " 'test1.txt',\n",
       " 'Untitled.ipynb']"
      ]
     },
     "execution_count": 92,
     "metadata": {},
     "output_type": "execute_result"
    }
   ],
   "source": [
    "file_list"
   ]
  },
  {
   "cell_type": "code",
   "execution_count": 94,
   "metadata": {
    "collapsed": true
   },
   "outputs": [
    {
     "data": {
      "text/plain": [
       "True"
      ]
     },
     "execution_count": 94,
     "metadata": {},
     "output_type": "execute_result"
    }
   ],
   "source": [
    "exists('stockcode.txt')"
   ]
  },
  {
   "cell_type": "code",
   "execution_count": 97,
   "metadata": {
    "collapsed": true
   },
   "outputs": [
    {
     "data": {
      "text/plain": [
       "False"
      ]
     },
     "execution_count": 97,
     "metadata": {},
     "output_type": "execute_result"
    }
   ],
   "source": [
    "exists('stckcode1.txt')"
   ]
  },
  {
   "cell_type": "code",
   "execution_count": 98,
   "metadata": {},
   "outputs": [
    {
     "data": {
      "text/plain": [
       "['.ipynb_checkpoints', 'newfolder', 'ppt', 'testfolder', 'test_folder']"
      ]
     },
     "execution_count": 98,
     "metadata": {},
     "output_type": "execute_result"
    }
   ],
   "source": [
    "folder_list"
   ]
  },
  {
   "cell_type": "code",
   "execution_count": 99,
   "metadata": {},
   "outputs": [
    {
     "data": {
      "text/plain": [
       "[]"
      ]
     },
     "execution_count": 99,
     "metadata": {},
     "output_type": "execute_result"
    }
   ],
   "source": [
    "os.listdir('./newfolder')"
   ]
  },
  {
   "cell_type": "code",
   "execution_count": 156,
   "metadata": {},
   "outputs": [
    {
     "name": "stdout",
     "output_type": "stream",
     "text": [
      "D:\\BigData\\python\\testfolder\\cat.jpg_0 완료\n",
      "D:\\BigData\\python\\testfolder\\cat.jpg_1 완료\n",
      "D:\\BigData\\python\\testfolder\\cat.jpg_2 완료\n",
      "D:\\BigData\\python\\testfolder\\cat.jpg_3 완료\n",
      "D:\\BigData\\python\\testfolder\\cat.jpg_4 완료\n",
      "D:\\BigData\\python\\testfolder\\cat.jpg_5 완료\n",
      "D:\\BigData\\python\\testfolder\\cat.jpg_6 완료\n",
      "D:\\BigData\\python\\testfolder\\cat.jpg_7 완료\n",
      "D:\\BigData\\python\\testfolder\\cat.jpg_8 완료\n",
      "D:\\BigData\\python\\testfolder\\cat.jpg_9 완료\n",
      "D:\\BigData\\python\\testfolder\\cat.jpg_10 완료\n",
      "D:\\BigData\\python\\testfolder\\cat.jpg_11 완료\n",
      "D:\\BigData\\python\\testfolder\\cat.jpg_12 완료\n",
      "D:\\BigData\\python\\testfolder\\cat.jpg_13 완료\n",
      "D:\\BigData\\python\\testfolder\\cat.jpg_14 완료\n",
      "D:\\BigData\\python\\testfolder\\cat.jpg_15 완료\n",
      "D:\\BigData\\python\\testfolder\\cat.jpg_16 완료\n",
      "D:\\BigData\\python\\testfolder\\cat.jpg_17 완료\n",
      "D:\\BigData\\python\\testfolder\\cat.jpg_18 완료\n",
      "D:\\BigData\\python\\testfolder\\cat.jpg_19 완료\n",
      "D:\\BigData\\python\\testfolder\\cat.jpg_20 완료\n"
     ]
    }
   ],
   "source": [
    "# 원본파일을 열어서 3000byte씩 읽고 subfile에 기록\n",
    "\n",
    "filename = 'D:\\\\BigData\\\\python\\\\testfolder\\\\cat.jpg'\n",
    "subsize = 3000\n",
    "suffix = 0\n",
    "\n",
    "with open(filename, 'rb') as f:\n",
    "    buf = f.read(subsize)\n",
    "    while buf : \n",
    "        subfilename = filename + '_' + str(suffix)\n",
    "        with open(subfilename, 'wb') as h :\n",
    "            h.write(buf)\n",
    "            print('{} 완료'.format(subfilename))\n",
    "        buf = f.read(subsize)    \n",
    "        suffix += 1"
   ]
  },
  {
   "cell_type": "code",
   "execution_count": 162,
   "metadata": {},
   "outputs": [
    {
     "data": {
      "text/plain": [
       "22"
      ]
     },
     "execution_count": 162,
     "metadata": {},
     "output_type": "execute_result"
    }
   ],
   "source": [
    "len(os.listdir('D:\\\\BigData\\\\python\\\\testfolder\\\\'))"
   ]
  },
  {
   "cell_type": "markdown",
   "metadata": {},
   "source": [
    "#### subfile을 열고 읽어서 하나의 파일에 기록해서 하나의 파일로 통합"
   ]
  },
  {
   "cell_type": "code",
   "execution_count": 165,
   "metadata": {},
   "outputs": [],
   "source": [
    "merge_filename = 'D:\\\\BigData\\\\python\\\\testfolder\\\\cat_new.jpg'\n",
    "path = 'D:\\\\BigData\\\\python\\\\testfolder\\\\cat.jpg_'\n",
    "\n",
    "file_list = [path + str(x) for x in range(len(os.listdir('D:\\\\BigData\\\\python\\\\testfolder\\\\'))-1)]\n",
    "\n",
    "with open(merge_filename, 'wb') as f:\n",
    "    for filename in file_list:\n",
    "        with open(filename, 'rb') as h:\n",
    "            buf = h.read()\n",
    "            f.write(buf)"
   ]
  },
  {
   "cell_type": "code",
   "execution_count": null,
   "metadata": {},
   "outputs": [],
   "source": []
  },
  {
   "cell_type": "code",
   "execution_count": null,
   "metadata": {},
   "outputs": [],
   "source": []
  },
  {
   "cell_type": "code",
   "execution_count": null,
   "metadata": {},
   "outputs": [],
   "source": []
  },
  {
   "cell_type": "code",
   "execution_count": null,
   "metadata": {},
   "outputs": [],
   "source": []
  },
  {
   "cell_type": "code",
   "execution_count": null,
   "metadata": {},
   "outputs": [],
   "source": []
  },
  {
   "cell_type": "code",
   "execution_count": null,
   "metadata": {},
   "outputs": [],
   "source": []
  },
  {
   "cell_type": "code",
   "execution_count": null,
   "metadata": {},
   "outputs": [],
   "source": []
  }
 ],
 "metadata": {
  "kernelspec": {
   "display_name": "Python 3",
   "language": "python",
   "name": "python3"
  },
  "language_info": {
   "codemirror_mode": {
    "name": "ipython",
    "version": 3
   },
   "file_extension": ".py",
   "mimetype": "text/x-python",
   "name": "python",
   "nbconvert_exporter": "python",
   "pygments_lexer": "ipython3",
   "version": "3.8.3"
  }
 },
 "nbformat": 4,
 "nbformat_minor": 4
}
