{
 "cells": [
  {
   "cell_type": "markdown",
   "metadata": {},
   "source": [
    "### Exception"
   ]
  },
  {
   "cell_type": "code",
   "execution_count": 1,
   "metadata": {},
   "outputs": [
    {
     "name": "stdout",
     "output_type": "stream",
     "text": [
      "안녕하세요\n"
     ]
    },
    {
     "ename": "NameError",
     "evalue": "name 'param' is not defined",
     "output_type": "error",
     "traceback": [
      "\u001b[1;31m---------------------------------------------------------------------------\u001b[0m",
      "\u001b[1;31mNameError\u001b[0m                                 Traceback (most recent call last)",
      "\u001b[1;32m<ipython-input-1-39051f2f5833>\u001b[0m in \u001b[0;36m<module>\u001b[1;34m\u001b[0m\n\u001b[0;32m      1\u001b[0m \u001b[0mprint\u001b[0m\u001b[1;33m(\u001b[0m\u001b[1;34m'안녕하세요'\u001b[0m\u001b[1;33m)\u001b[0m\u001b[1;33m\u001b[0m\u001b[1;33m\u001b[0m\u001b[0m\n\u001b[1;32m----> 2\u001b[1;33m \u001b[0mprint\u001b[0m\u001b[1;33m(\u001b[0m\u001b[0mparam\u001b[0m\u001b[1;33m)\u001b[0m\u001b[1;33m\u001b[0m\u001b[1;33m\u001b[0m\u001b[0m\n\u001b[0m\u001b[0;32m      3\u001b[0m \u001b[0mprint\u001b[0m\u001b[1;33m(\u001b[0m\u001b[1;34m'hello python'\u001b[0m\u001b[1;33m)\u001b[0m\u001b[1;33m\u001b[0m\u001b[1;33m\u001b[0m\u001b[0m\n",
      "\u001b[1;31mNameError\u001b[0m: name 'param' is not defined"
     ]
    }
   ],
   "source": [
    "print('안녕하세요')\n",
    "print(param)\n",
    "print('hello python')"
   ]
  },
  {
   "cell_type": "code",
   "execution_count": 2,
   "metadata": {},
   "outputs": [
    {
     "name": "stdout",
     "output_type": "stream",
     "text": [
      "안녕하세요\n",
      "예외가 발생했습니다.\n"
     ]
    }
   ],
   "source": [
    "try :\n",
    "    print('안녕하세요')\n",
    "    print(param)\n",
    "except :\n",
    "    print('예외가 발생했습니다.')"
   ]
  },
  {
   "cell_type": "code",
   "execution_count": 3,
   "metadata": {
    "scrolled": true
   },
   "outputs": [
    {
     "name": "stdout",
     "output_type": "stream",
     "text": [
      "안녕하세요\n",
      "예외가 발생했습니다.\n",
      "Hello python\n"
     ]
    }
   ],
   "source": [
    "try :\n",
    "    print('안녕하세요')\n",
    "    print(param)\n",
    "except :      # 예외가 발생 시 실행\n",
    "    print('예외가 발생했습니다.')\n",
    "\n",
    "print('Hello python')"
   ]
  },
  {
   "cell_type": "code",
   "execution_count": 4,
   "metadata": {
    "scrolled": true
   },
   "outputs": [
    {
     "name": "stdout",
     "output_type": "stream",
     "text": [
      "안녕하세요\n",
      "예외가 발생했습니다.\n",
      "Hello python\n"
     ]
    }
   ],
   "source": [
    "try :\n",
    "    print('안녕하세요')\n",
    "    print(param)\n",
    "except :\n",
    "    print('예외가 발생했습니다.')\n",
    "else :        # 예외가 발생하지 않았을 때 실행\n",
    "    print('예외가 발생하지 않았습니다.')\n",
    "\n",
    "print('Hello python')"
   ]
  },
  {
   "cell_type": "code",
   "execution_count": 5,
   "metadata": {
    "scrolled": true
   },
   "outputs": [
    {
     "name": "stdout",
     "output_type": "stream",
     "text": [
      "안녕하세요\n",
      "예외가 발생했습니다.\n",
      "예외가 발생하지 않았습니다.\n",
      "Hello python\n"
     ]
    }
   ],
   "source": [
    "try :\n",
    "    print('안녕하세요')\n",
    "    print(param)\n",
    "except :\n",
    "    print('예외가 발생했습니다.')\n",
    "finally :       # 예외가 발생해도 무조건 실행\n",
    "    print('예외가 발생하지 않았습니다.')\n",
    "\n",
    "print('Hello python')"
   ]
  },
  {
   "cell_type": "code",
   "execution_count": 6,
   "metadata": {},
   "outputs": [
    {
     "name": "stdout",
     "output_type": "stream",
     "text": [
      "name 'param' is not defined\n"
     ]
    }
   ],
   "source": [
    "try :\n",
    "    print(param)\n",
    "except Exception as e :  # error message를 기록할 수 있음.\n",
    "    print(e)"
   ]
  },
  {
   "cell_type": "code",
   "execution_count": 7,
   "metadata": {},
   "outputs": [
    {
     "name": "stdout",
     "output_type": "stream",
     "text": [
      "name 'a' is not defined\n"
     ]
    }
   ],
   "source": [
    "try :\n",
    "    c = a/b\n",
    "except Exception as e :\n",
    "    print(e)"
   ]
  },
  {
   "cell_type": "code",
   "execution_count": 8,
   "metadata": {},
   "outputs": [
    {
     "name": "stdout",
     "output_type": "stream",
     "text": [
      "name 'a' is not defined\n",
      "hello python\n"
     ]
    }
   ],
   "source": [
    "try :\n",
    "    c = a/b\n",
    "except Exception as e :\n",
    "    print(e)\n",
    "finally :\n",
    "    print('hello python')"
   ]
  },
  {
   "cell_type": "code",
   "execution_count": 9,
   "metadata": {},
   "outputs": [
    {
     "name": "stdout",
     "output_type": "stream",
     "text": [
      "division by zero\n"
     ]
    }
   ],
   "source": [
    "a = 1\n",
    "b = 0\n",
    "\n",
    "try : \n",
    "    c = a / b \n",
    "except Exception as e :\n",
    "    print(e)"
   ]
  },
  {
   "cell_type": "code",
   "execution_count": 10,
   "metadata": {},
   "outputs": [
    {
     "ename": "SyntaxError",
     "evalue": "invalid syntax (<ipython-input-10-61d2cd38a9cf>, line 9)",
     "output_type": "error",
     "traceback": [
      "\u001b[1;36m  File \u001b[1;32m\"<ipython-input-10-61d2cd38a9cf>\"\u001b[1;36m, line \u001b[1;32m9\u001b[0m\n\u001b[1;33m    print('hello python')\u001b[0m\n\u001b[1;37m    ^\u001b[0m\n\u001b[1;31mSyntaxError\u001b[0m\u001b[1;31m:\u001b[0m invalid syntax\n"
     ]
    }
   ],
   "source": [
    "a = 5\n",
    "b = 0\n",
    "L = ('hello')\n",
    "print('hello')\n",
    "\n",
    "try :\n",
    "    c = a/b\n",
    "    \n",
    "print('hello python')"
   ]
  },
  {
   "cell_type": "code",
   "execution_count": 11,
   "metadata": {},
   "outputs": [
    {
     "name": "stdout",
     "output_type": "stream",
     "text": [
      "hello\n",
      "division by zero\n",
      "hello python\n"
     ]
    }
   ],
   "source": [
    "a = 5\n",
    "b = 0\n",
    "L = ('hello')\n",
    "print('hello')\n",
    "\n",
    "try :\n",
    "    c = a/b\n",
    "\n",
    "except Exception as e :\n",
    "    print(e)\n",
    "    \n",
    "print('hello python')"
   ]
  },
  {
   "cell_type": "code",
   "execution_count": 67,
   "metadata": {},
   "outputs": [
    {
     "name": "stdout",
     "output_type": "stream",
     "text": [
      "hello\n",
      "error message :  list index out of range\n",
      "hello python\n"
     ]
    }
   ],
   "source": [
    "a = 5\n",
    "b = 0\n",
    "L = [1,2,3]\n",
    "print('hello')\n",
    "\n",
    "try :\n",
    "    print(L[3])\n",
    "\n",
    "except Exception as e :\n",
    "    print('error message : ', e)\n",
    "    \n",
    "print('hello python')"
   ]
  },
  {
   "cell_type": "code",
   "execution_count": 23,
   "metadata": {},
   "outputs": [
    {
     "name": "stdout",
     "output_type": "stream",
     "text": [
      "1\n",
      "2\n",
      "오류가 발생했습니다.\n",
      "hello python\n"
     ]
    }
   ],
   "source": [
    "import time\n",
    "count = 1\n",
    "\n",
    "try : \n",
    "    while True :\n",
    "        print(count)\n",
    "        count += 1\n",
    "        time. sleep(2)\n",
    "\n",
    "except :\n",
    "    print('오류가 발생했습니다.')\n",
    "\n",
    "print('hello python')"
   ]
  },
  {
   "cell_type": "code",
   "execution_count": 21,
   "metadata": {
    "scrolled": true
   },
   "outputs": [
    {
     "name": "stdout",
     "output_type": "stream",
     "text": [
      "1\n",
      "2\n",
      "사용자에 의해 중단되었습니다.\n",
      "hello python\n"
     ]
    }
   ],
   "source": [
    "import time\n",
    "count = 1\n",
    "\n",
    "try : \n",
    "    while True :\n",
    "        print(count)\n",
    "        count += 1\n",
    "        time. sleep(2)\n",
    "\n",
    "except KeyboardInterrupt :      # 지정한 error가 발생한 경우에만 error 처리\n",
    "    print('사용자에 의해 중단되었습니다.')\n",
    "\n",
    "print('hello python')"
   ]
  },
  {
   "cell_type": "markdown",
   "metadata": {},
   "source": [
    "#### 각각 발생가능한 error에 대해 다른 예외처리도 가능\n"
   ]
  },
  {
   "cell_type": "code",
   "execution_count": 24,
   "metadata": {},
   "outputs": [
    {
     "name": "stdout",
     "output_type": "stream",
     "text": [
      "cannot divide by zero!!\n",
      "hello python\n"
     ]
    }
   ],
   "source": [
    "a = 5\n",
    "b = 0\n",
    "L = [1,2,3]\n",
    "\n",
    "try :\n",
    "    c = a/b\n",
    "    print(x)\n",
    "    print(L[3])\n",
    "except ZeroDivisionError:\n",
    "    print('cannot divide by zero!!')\n",
    "except NameError:\n",
    "    print('no variable named X')\n",
    "except IndexError :\n",
    "    print('out of indexing in list')\n",
    "else :\n",
    "    print('no error')\n",
    "    \n",
    "print('hello python')"
   ]
  },
  {
   "cell_type": "code",
   "execution_count": 25,
   "metadata": {},
   "outputs": [
    {
     "name": "stdout",
     "output_type": "stream",
     "text": [
      "no variable named X\n",
      "hello python\n"
     ]
    }
   ],
   "source": [
    "a = 5\n",
    "b = 1\n",
    "L = [1,2,3]\n",
    "\n",
    "try :\n",
    "    c = a/b\n",
    "    print(x)\n",
    "    print(L[3])\n",
    "except ZeroDivisionError:\n",
    "    print('cannot divide by zero!!')\n",
    "except NameError:\n",
    "    print('no variable named X')\n",
    "except IndexError :\n",
    "    print('out of indexing in list')\n",
    "else :\n",
    "    print('no error')\n",
    "    \n",
    "print('hello python')"
   ]
  },
  {
   "cell_type": "code",
   "execution_count": 26,
   "metadata": {},
   "outputs": [
    {
     "name": "stdout",
     "output_type": "stream",
     "text": [
      "100\n",
      "out of indexing in list\n",
      "hello python\n"
     ]
    }
   ],
   "source": [
    "a = 5\n",
    "b = 1\n",
    "L = [1,2,3]\n",
    "x = 100\n",
    "\n",
    "try :\n",
    "    c = a/b\n",
    "    print(x)\n",
    "    print(L[3])\n",
    "except ZeroDivisionError:         # 각각의 개별적인 예외에 대해서만 예외처리..\n",
    "    print('cannot divide by zero!!')\n",
    "except NameError:\n",
    "    print('no variable named X')\n",
    "except IndexError :\n",
    "    print('out of indexing in list')\n",
    "else :\n",
    "    print('no error')\n",
    "    \n",
    "print('hello python')"
   ]
  },
  {
   "cell_type": "code",
   "execution_count": 27,
   "metadata": {},
   "outputs": [
    {
     "name": "stdout",
     "output_type": "stream",
     "text": [
      "100\n",
      "out of indexing in list\n",
      "finally part\n",
      "hello python\n"
     ]
    }
   ],
   "source": [
    "a = 5\n",
    "b = 1\n",
    "L = [1,2,3]\n",
    "x = 100\n",
    "\n",
    "try :\n",
    "    c = a/b\n",
    "    print(x)\n",
    "    print(L[3])\n",
    "except ZeroDivisionError:         # 각각의 개별적인 예외에 대해서만 예외처리..\n",
    "    print('cannot divide by zero!!')\n",
    "except NameError:\n",
    "    print('no variable named X')\n",
    "except IndexError :\n",
    "    print('out of indexing in list')\n",
    "else :\n",
    "    print('no error')\n",
    "\n",
    "finally : \n",
    "    print('finally part')\n",
    "\n",
    "print('hello python')"
   ]
  },
  {
   "cell_type": "code",
   "execution_count": 28,
   "metadata": {},
   "outputs": [
    {
     "name": "stdout",
     "output_type": "stream",
     "text": [
      "100\n",
      "3\n",
      "no error\n",
      "finally part\n",
      "hello python\n"
     ]
    }
   ],
   "source": [
    "a = 5\n",
    "b = 1\n",
    "L = [1,2,3]\n",
    "x = 100\n",
    "\n",
    "try :\n",
    "    c = a/b\n",
    "    print(x)\n",
    "    print(L[2])\n",
    "except ZeroDivisionError:         # 각각의 개별적인 예외에 대해서만 예외처리..\n",
    "    print('cannot divide by zero!!')\n",
    "except NameError:\n",
    "    print('no variable named X')\n",
    "except IndexError :\n",
    "    print('out of indexing in list')\n",
    "else :\n",
    "    print('no error')\n",
    "\n",
    "finally : \n",
    "    print('finally part')\n",
    "\n",
    "print('hello python')"
   ]
  },
  {
   "cell_type": "code",
   "execution_count": 37,
   "metadata": {},
   "outputs": [
    {
     "name": "stdout",
     "output_type": "stream",
     "text": [
      "임의의 정수를 입력하세요 : 0\n",
      "0이 아닌 정수를 입력하세요.\n",
      "hello world\n"
     ]
    }
   ],
   "source": [
    "num = input('임의의 정수를 입력하세요 : ')\n",
    "\n",
    "try : \n",
    "    result = 10 / int(num)\n",
    "\n",
    "except :\n",
    "    print('0이 아닌 정수를 입력하세요.')\n",
    "\n",
    "else :\n",
    "    print(result)\n",
    "    \n",
    "print('hello world')"
   ]
  },
  {
   "cell_type": "code",
   "execution_count": 38,
   "metadata": {},
   "outputs": [
    {
     "name": "stdout",
     "output_type": "stream",
     "text": [
      "임의의 정수를 입력하세요 : 0\n",
      "0이 아닌 정수를 입력하세요.\n",
      "hello world\n"
     ]
    }
   ],
   "source": [
    "num = input('임의의 정수를 입력하세요 : ')\n",
    "\n",
    "try : \n",
    "    result = 10 / int(num)\n",
    "\n",
    "except ZeroDivisionError :\n",
    "    print('0이 아닌 정수를 입력하세요.')\n",
    "\n",
    "else :\n",
    "    print(result)\n",
    "    \n",
    "print('hello world')"
   ]
  },
  {
   "cell_type": "code",
   "execution_count": 40,
   "metadata": {},
   "outputs": [
    {
     "name": "stdout",
     "output_type": "stream",
     "text": [
      "임의의 정수를 입력하세요 : number\n",
      "0이 아닌 정수를 입력하세요.\n",
      "hello world\n"
     ]
    }
   ],
   "source": [
    "num = input('임의의 정수를 입력하세요 : ')\n",
    "\n",
    "try : \n",
    "    result = 10 / int(num)\n",
    "\n",
    "except :\n",
    "    print('0이 아닌 정수를 입력하세요.')\n",
    "\n",
    "else :\n",
    "    print(result)\n",
    "    \n",
    "print('hello world')"
   ]
  },
  {
   "cell_type": "code",
   "execution_count": 43,
   "metadata": {},
   "outputs": [
    {
     "name": "stdout",
     "output_type": "stream",
     "text": [
      "임의의 정수를 입력하세요 : num\n",
      "숫자만 입력하세요\n",
      "hello world\n"
     ]
    }
   ],
   "source": [
    "num = input('임의의 정수를 입력하세요 : ')\n",
    "\n",
    "try : \n",
    "    result = 10 / int(num)\n",
    "\n",
    "except ZeroDivisionError :\n",
    "    print('0이 아닌 정수를 입력하세요.')\n",
    "except ValueError :\n",
    "    print('숫자만 입력하세요')\n",
    "\n",
    "else :\n",
    "    print(result)\n",
    "    \n",
    "print('hello world')"
   ]
  },
  {
   "cell_type": "markdown",
   "metadata": {},
   "source": [
    "##### 함수(파일 열기)가 없는 파일을 열어 오류발생시"
   ]
  },
  {
   "cell_type": "code",
   "execution_count": 47,
   "metadata": {},
   "outputs": [
    {
     "name": "stdout",
     "output_type": "stream",
     "text": [
      "오류가 발생했습니다.\n"
     ]
    }
   ],
   "source": [
    "def openFile():\n",
    "    try :\n",
    "        f = open('nofile')\n",
    "        line = f. readline()\n",
    "        print(line)\n",
    "    except :\n",
    "        print('오류가 발생했습니다.')\n",
    "# 함수를 실행 시 발생할 오류를 예외처리하시오\n",
    "\n",
    "openFile()"
   ]
  },
  {
   "cell_type": "code",
   "execution_count": 48,
   "metadata": {},
   "outputs": [
    {
     "name": "stdout",
     "output_type": "stream",
     "text": [
      "[Errno 2] No such file or directory: 'nofile'\n",
      "hello world\n"
     ]
    }
   ],
   "source": [
    "def openFile():  # 강사답안\n",
    "    f = open('nofile')\n",
    "    line = f. readline()\n",
    "    print(line)\n",
    "# 함수를 실행 시 발생할 오류를 예외처리하시오\n",
    "\n",
    "try : \n",
    "    openFile()\n",
    "except OSError as e :    # OSError : 시스템 에러\n",
    "    print(e)\n",
    "    \n",
    "print('hello world')"
   ]
  },
  {
   "cell_type": "code",
   "execution_count": 59,
   "metadata": {},
   "outputs": [],
   "source": [
    "def writeFile() :\n",
    "    f = open('file.txt', 'w')\n",
    "    try :\n",
    "        f.write('hello world')\n",
    "    except :\n",
    "        print('oops!!')\n",
    "    finally :\n",
    "        f. close()        \n",
    "        return 'file.txt'"
   ]
  },
  {
   "cell_type": "code",
   "execution_count": 60,
   "metadata": {},
   "outputs": [
    {
     "data": {
      "text/plain": [
       "'file.txt'"
      ]
     },
     "execution_count": 60,
     "metadata": {},
     "output_type": "execute_result"
    }
   ],
   "source": [
    "file = writeFile()\n",
    "file"
   ]
  },
  {
   "cell_type": "code",
   "execution_count": 55,
   "metadata": {},
   "outputs": [],
   "source": [
    "def readFile(file) :\n",
    "    f = open(file, 'r')\n",
    "    text = f.read()\n",
    "    print(text)"
   ]
  },
  {
   "cell_type": "code",
   "execution_count": 57,
   "metadata": {},
   "outputs": [
    {
     "name": "stdout",
     "output_type": "stream",
     "text": [
      "hello world\n"
     ]
    }
   ],
   "source": [
    "readFile('file.txt')"
   ]
  },
  {
   "cell_type": "markdown",
   "metadata": {},
   "source": [
    "##### 없는 파일 오픈시 에러"
   ]
  },
  {
   "cell_type": "code",
   "execution_count": 64,
   "metadata": {},
   "outputs": [],
   "source": [
    "file = 'file1.txt'\n",
    "def readFile(file) :\n",
    "    try :\n",
    "        f = open(file, 'r')\n",
    "    except Exception as e:\n",
    "        print(e)\n",
    "    else :\n",
    "        text = f.read()\n",
    "        print(text)\n",
    "        f.close()\n",
    "    finally :\n",
    "        print('file reading is over!!')"
   ]
  },
  {
   "cell_type": "code",
   "execution_count": 66,
   "metadata": {},
   "outputs": [
    {
     "name": "stdout",
     "output_type": "stream",
     "text": [
      "[Errno 2] No such file or directory: 'file1.txt'\n",
      "file reading is over!!\n"
     ]
    }
   ],
   "source": [
    "readFile(file)"
   ]
  },
  {
   "cell_type": "code",
   "execution_count": null,
   "metadata": {},
   "outputs": [],
   "source": []
  }
 ],
 "metadata": {
  "kernelspec": {
   "display_name": "Python 3",
   "language": "python",
   "name": "python3"
  },
  "language_info": {
   "codemirror_mode": {
    "name": "ipython",
    "version": 3
   },
   "file_extension": ".py",
   "mimetype": "text/x-python",
   "name": "python",
   "nbconvert_exporter": "python",
   "pygments_lexer": "ipython3",
   "version": "3.8.3"
  }
 },
 "nbformat": 4,
 "nbformat_minor": 4
}
