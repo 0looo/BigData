{
 "cells": [
  {
   "cell_type": "markdown",
   "metadata": {},
   "source": [
    "# ch 6"
   ]
  },
  {
   "cell_type": "markdown",
   "metadata": {},
   "source": [
    "### enumerate() : "
   ]
  },
  {
   "cell_type": "markdown",
   "metadata": {},
   "source": [
    "#  ch 8"
   ]
  },
  {
   "cell_type": "markdown",
   "metadata": {},
   "source": [
    "## class"
   ]
  },
  {
   "cell_type": "code",
   "execution_count": 5,
   "metadata": {},
   "outputs": [
    {
     "name": "stdout",
     "output_type": "stream",
     "text": [
      "D:\\BigData\\python\\test_folder\\bird.jpg_0 완료\n",
      "D:\\BigData\\python\\test_folder\\bird.jpg_1 완료\n",
      "D:\\BigData\\python\\test_folder\\bird.jpg_2 완료\n",
      "D:\\BigData\\python\\test_folder\\bird.jpg_3 완료\n",
      "D:\\BigData\\python\\test_folder\\bird.jpg_4 완료\n",
      "D:\\BigData\\python\\test_folder\\bird.jpg_5 완료\n",
      "D:\\BigData\\python\\test_folder\\bird.jpg_6 완료\n",
      "D:\\BigData\\python\\test_folder\\bird.jpg_7 완료\n",
      "D:\\BigData\\python\\test_folder\\bird.jpg_8 완료\n",
      "D:\\BigData\\python\\test_folder\\bird.jpg_9 완료\n",
      "D:\\BigData\\python\\test_folder\\bird.jpg_10 완료\n",
      "D:\\BigData\\python\\test_folder\\bird.jpg_11 완료\n",
      "D:\\BigData\\python\\test_folder\\bird.jpg_12 완료\n",
      "D:\\BigData\\python\\test_folder\\bird.jpg_13 완료\n",
      "D:\\BigData\\python\\test_folder\\bird.jpg_14 완료\n",
      "D:\\BigData\\python\\test_folder\\bird.jpg_15 완료\n",
      "D:\\BigData\\python\\test_folder\\bird.jpg_16 완료\n",
      "D:\\BigData\\python\\test_folder\\bird.jpg_17 완료\n",
      "D:\\BigData\\python\\test_folder\\bird.jpg_18 완료\n"
     ]
    }
   ],
   "source": [
    "# 원본파일을 열어서 3000byte씩 읽고 subfile에 기록\n",
    "\n",
    "filename = 'D:\\\\BigData\\\\python\\\\test_folder\\\\bird.jpg'\n",
    "subsize = 3000\n",
    "suffix = 0\n",
    "\n",
    "with open(filename, 'rb') as f:\n",
    "    buf = f.read(subsize)\n",
    "    while buf : \n",
    "        subfilename = filename + '_' + str(suffix)\n",
    "        with open(subfilename, 'wb') as h :\n",
    "            h.write(buf)\n",
    "            print('{} 완료'.format(subfilename))\n",
    "        buf = f.read(subsize)    \n",
    "        suffix += 1"
   ]
  },
  {
   "cell_type": "code",
   "execution_count": 6,
   "metadata": {},
   "outputs": [],
   "source": [
    "import os"
   ]
  },
  {
   "cell_type": "code",
   "execution_count": 8,
   "metadata": {},
   "outputs": [],
   "source": [
    "merge_filename = 'D:\\\\BigData\\\\python\\\\test_folder\\\\bird_new.jpg'\n",
    "path = 'D:\\\\BigData\\\\python\\\\test_folder\\\\bird.jpg_'\n",
    "\n",
    "file_list = [path + str(x) for x in range(len(os.listdir('D:\\\\BigData\\\\python\\\\test_folder\\\\'))-1)]\n",
    "\n",
    "with open(merge_filename, 'wb') as f:\n",
    "    for filename in file_list:\n",
    "        with open(filename, 'rb') as h:\n",
    "            buf = h.read()\n",
    "            f.write(buf)"
   ]
  },
  {
   "cell_type": "code",
   "execution_count": 9,
   "metadata": {},
   "outputs": [
    {
     "name": "stdout",
     "output_type": "stream",
     "text": [
      "g\n",
      "g\n"
     ]
    }
   ],
   "source": [
    "a = input()\n",
    "\n",
    "if a == 'y' or a==s 'Y':\n",
    "    print(a)\n",
    "    \n",
    "else:\n",
    "    print('No!!')"
   ]
  },
  {
   "cell_type": "code",
   "execution_count": 10,
   "metadata": {},
   "outputs": [
    {
     "data": {
      "text/plain": [
       "True"
      ]
     },
     "execution_count": 10,
     "metadata": {},
     "output_type": "execute_result"
    }
   ],
   "source": [
    "bool('Y')"
   ]
  },
  {
   "cell_type": "code",
   "execution_count": 12,
   "metadata": {},
   "outputs": [
    {
     "data": {
      "text/plain": [
       "False"
      ]
     },
     "execution_count": 12,
     "metadata": {},
     "output_type": "execute_result"
    }
   ],
   "source": [
    "bool('')"
   ]
  },
  {
   "cell_type": "code",
   "execution_count": null,
   "metadata": {},
   "outputs": [],
   "source": []
  }
 ],
 "metadata": {
  "kernelspec": {
   "display_name": "Python 3",
   "language": "python",
   "name": "python3"
  },
  "language_info": {
   "codemirror_mode": {
    "name": "ipython",
    "version": 3
   },
   "file_extension": ".py",
   "mimetype": "text/x-python",
   "name": "python",
   "nbconvert_exporter": "python",
   "pygments_lexer": "ipython3",
   "version": "3.8.3"
  }
 },
 "nbformat": 4,
 "nbformat_minor": 4
}
