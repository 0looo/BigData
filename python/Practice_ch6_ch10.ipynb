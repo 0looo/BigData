{
 "cells": [
  {
   "cell_type": "markdown",
   "metadata": {},
   "source": [
    "# ch 6"
   ]
  },
  {
   "cell_type": "markdown",
   "metadata": {},
   "source": [
    "### enumerate() : "
   ]
  },
  {
   "cell_type": "markdown",
   "metadata": {},
   "source": [
    "#  ch 8"
   ]
  },
  {
   "cell_type": "markdown",
   "metadata": {},
   "source": [
    "## class"
   ]
  },
  {
   "cell_type": "markdown",
   "metadata": {},
   "source": [
    "# 20200929 Directory_file_operation"
   ]
  },
  {
   "cell_type": "code",
   "execution_count": 14,
   "metadata": {},
   "outputs": [],
   "source": [
    "import os"
   ]
  },
  {
   "cell_type": "code",
   "execution_count": 5,
   "metadata": {},
   "outputs": [
    {
     "name": "stdout",
     "output_type": "stream",
     "text": [
      "D:\\BigData\\python\\test_folder\\bird.jpg_0 완료\n",
      "D:\\BigData\\python\\test_folder\\bird.jpg_1 완료\n",
      "D:\\BigData\\python\\test_folder\\bird.jpg_2 완료\n",
      "D:\\BigData\\python\\test_folder\\bird.jpg_3 완료\n",
      "D:\\BigData\\python\\test_folder\\bird.jpg_4 완료\n",
      "D:\\BigData\\python\\test_folder\\bird.jpg_5 완료\n",
      "D:\\BigData\\python\\test_folder\\bird.jpg_6 완료\n",
      "D:\\BigData\\python\\test_folder\\bird.jpg_7 완료\n",
      "D:\\BigData\\python\\test_folder\\bird.jpg_8 완료\n",
      "D:\\BigData\\python\\test_folder\\bird.jpg_9 완료\n",
      "D:\\BigData\\python\\test_folder\\bird.jpg_10 완료\n",
      "D:\\BigData\\python\\test_folder\\bird.jpg_11 완료\n",
      "D:\\BigData\\python\\test_folder\\bird.jpg_12 완료\n",
      "D:\\BigData\\python\\test_folder\\bird.jpg_13 완료\n",
      "D:\\BigData\\python\\test_folder\\bird.jpg_14 완료\n",
      "D:\\BigData\\python\\test_folder\\bird.jpg_15 완료\n",
      "D:\\BigData\\python\\test_folder\\bird.jpg_16 완료\n",
      "D:\\BigData\\python\\test_folder\\bird.jpg_17 완료\n",
      "D:\\BigData\\python\\test_folder\\bird.jpg_18 완료\n"
     ]
    }
   ],
   "source": [
    "# 원본파일을 열어서 3000byte씩 읽고 subfile에 기록\n",
    "\n",
    "filename = 'D:\\\\BigData\\\\python\\\\test_folder\\\\bird.jpg'\n",
    "subsize = 3000\n",
    "suffix = 0\n",
    "\n",
    "with open(filename, 'rb') as f:\n",
    "    buf = f.read(subsize)\n",
    "    while buf : \n",
    "        subfilename = filename + '_' + str(suffix)\n",
    "        with open(subfilename, 'wb') as h :\n",
    "            h.write(buf)\n",
    "            print('{} 완료'.format(subfilename))\n",
    "        buf = f.read(subsize)    \n",
    "        suffix += 1"
   ]
  },
  {
   "cell_type": "code",
   "execution_count": 8,
   "metadata": {},
   "outputs": [],
   "source": [
    "merge_filename = 'D:\\\\BigData\\\\python\\\\test_folder\\\\bird_new.jpg'\n",
    "path = 'D:\\\\BigData\\\\python\\\\test_folder\\\\bird.jpg_'\n",
    "\n",
    "file_list = [path + str(x) for x in range(len(os.listdir('D:\\\\BigData\\\\python\\\\test_folder\\\\'))-1)]\n",
    "\n",
    "with open(merge_filename, 'wb') as f:\n",
    "    for filename in file_list:\n",
    "        with open(filename, 'rb') as h:\n",
    "            buf = h.read()\n",
    "            f.write(buf)"
   ]
  },
  {
   "cell_type": "code",
   "execution_count": 13,
   "metadata": {
    "scrolled": false
   },
   "outputs": [
    {
     "data": {
      "text/plain": [
       "'D:\\\\BigData\\\\python'"
      ]
     },
     "execution_count": 13,
     "metadata": {},
     "output_type": "execute_result"
    }
   ],
   "source": [
    "pwd"
   ]
  },
  {
   "cell_type": "code",
   "execution_count": 23,
   "metadata": {},
   "outputs": [
    {
     "data": {
      "text/plain": [
       "'D:\\\\BigData\\\\python'"
      ]
     },
     "execution_count": 23,
     "metadata": {},
     "output_type": "execute_result"
    }
   ],
   "source": [
    "os. getcwd()"
   ]
  },
  {
   "cell_type": "code",
   "execution_count": 19,
   "metadata": {
    "collapsed": true
   },
   "outputs": [
    {
     "name": "stdout",
     "output_type": "stream",
     "text": [
      " D 드라이브의 볼륨: 새 볼륨\n",
      " 볼륨 일련 번호: 98B0-2632\n",
      "\n",
      " D:\\BigData\\python 디렉터리\n",
      "\n",
      "2020-09-29  오후 06:35    <DIR>          .\n",
      "2020-09-29  오후 06:35    <DIR>          ..\n",
      "2020-09-29  오후 06:09    <DIR>          .ipynb_checkpoints\n",
      "2020-09-23  오후 02:15                22 ban.txt\n",
      "2020-09-23  오후 02:15                93 ban_student.txt\n",
      "2020-09-23  오후 12:50                30 data.txt\n",
      "2020-09-29  오후 06:31            24,897 Directory_File_Operation.ipynb\n",
      "2020-09-29  오후 06:25            19,337 Exception.ipynb\n",
      "2020-09-29  오후 12:28                11 file.txt\n",
      "2020-09-21  오후 05:42             9,466 IF.ipynb\n",
      "2020-09-23  오후 12:32                59 newfile.txt\n",
      "2020-09-29  오후 03:10    <DIR>          newfolder\n",
      "2020-09-23  오후 02:47               396 poem.txt\n",
      "2020-09-29  오후 03:21    <DIR>          ppt\n",
      "2020-09-25  오후 02:05            46,430 practice.ipynb\n",
      "2020-09-29  오전 10:17             4,673 Practice_ch1_ch5.ipynb\n",
      "2020-09-29  오후 06:35             5,480 Practice_ch6_ch10.ipynb\n",
      "2020-09-25  오후 06:08            36,204 python_class.ipynb\n",
      "2020-09-17  오후 03:14             1,781 python_data1.ipynb\n",
      "2020-09-29  오후 06:09            17,883 python_datatype_1.ipynb\n",
      "2020-09-21  오후 06:22            36,791 python_datatype_2_sequential.ipynb\n",
      "2020-09-21  오후 03:14            36,043 python_datatype_3_sequential_tuple_set_dictionary.ipynb\n",
      "2020-09-25  오후 06:08            33,367 python_datatype_test_-1_review.ipynb\n",
      "2020-09-25  오후 06:20            35,228 python_datatype_test_review.ipynb\n",
      "2020-09-24  오후 06:33           137,833 python_file.ipynb\n",
      "2020-09-22  오후 05:18            31,146 python_for.ipynb\n",
      "2020-09-25  오후 12:18            79,513 python_function.ipynb\n",
      "2020-09-18  오후 03:48            24,081 python_operation.ipynb\n",
      "2020-09-29  오후 05:52            10,214 Regular Expression.ipynb\n",
      "2020-09-23  오후 12:46                18 score.txt\n",
      "2020-09-23  오후 02:15            16,339 stockcode.txt\n",
      "2020-09-23  오후 04:24            16,339 stockcode_copy.txt\n",
      "2020-09-23  오후 02:41                28 subject.txt\n",
      "2020-09-24  오후 01:55                79 test.txt\n",
      "2020-09-24  오후 04:54               186 test1.txt\n",
      "2020-09-29  오후 04:54    <DIR>          testfolder\n",
      "2020-09-29  오후 06:27    <DIR>          test_dir\n",
      "2020-09-29  오후 04:57    <DIR>          test_folder\n",
      "2020-09-25  오후 05:56                72 Untitled.ipynb\n",
      "              31개 파일             624,039 바이트\n",
      "               8개 디렉터리  742,581,309,440 바이트 남음\n"
     ]
    }
   ],
   "source": [
    "!dir"
   ]
  },
  {
   "cell_type": "code",
   "execution_count": 20,
   "metadata": {
    "collapsed": true
   },
   "outputs": [
    {
     "data": {
      "text/plain": [
       "['.ipynb_checkpoints',\n",
       " 'ban.txt',\n",
       " 'ban_student.txt',\n",
       " 'data.txt',\n",
       " 'Directory_File_Operation.ipynb',\n",
       " 'Exception.ipynb',\n",
       " 'file.txt',\n",
       " 'IF.ipynb',\n",
       " 'newfile.txt',\n",
       " 'newfolder',\n",
       " 'poem.txt',\n",
       " 'ppt',\n",
       " 'practice.ipynb',\n",
       " 'Practice_ch1_ch5.ipynb',\n",
       " 'Practice_ch6_ch10.ipynb',\n",
       " 'python_class.ipynb',\n",
       " 'python_data1.ipynb',\n",
       " 'python_datatype_1.ipynb',\n",
       " 'python_datatype_2_sequential.ipynb',\n",
       " 'python_datatype_3_sequential_tuple_set_dictionary.ipynb',\n",
       " 'python_datatype_test_-1_review.ipynb',\n",
       " 'python_datatype_test_review.ipynb',\n",
       " 'python_file.ipynb',\n",
       " 'python_for.ipynb',\n",
       " 'python_function.ipynb',\n",
       " 'python_operation.ipynb',\n",
       " 'Regular Expression.ipynb',\n",
       " 'score.txt',\n",
       " 'stockcode.txt',\n",
       " 'stockcode_copy.txt',\n",
       " 'subject.txt',\n",
       " 'test.txt',\n",
       " 'test1.txt',\n",
       " 'testfolder',\n",
       " 'test_dir',\n",
       " 'test_folder',\n",
       " 'Untitled.ipynb']"
      ]
     },
     "execution_count": 20,
     "metadata": {},
     "output_type": "execute_result"
    }
   ],
   "source": [
    "import os\n",
    "os. listdir('D:\\\\Bigdata\\\\python')"
   ]
  },
  {
   "cell_type": "code",
   "execution_count": 17,
   "metadata": {},
   "outputs": [
    {
     "data": {
      "text/plain": [
       "22"
      ]
     },
     "execution_count": 17,
     "metadata": {},
     "output_type": "execute_result"
    }
   ],
   "source": [
    "from os.path import getsize\n",
    "\n",
    "getsize('ban.txt')"
   ]
  },
  {
   "cell_type": "markdown",
   "metadata": {},
   "source": [
    "#  class"
   ]
  },
  {
   "cell_type": "code",
   "execution_count": 18,
   "metadata": {},
   "outputs": [],
   "source": [
    "class BusinessCard:\n",
    "    \n",
    "    def set_info(self, name, email, address, job, age, phone) :  # self 를 붙여줘야 한다.(변하는 값들)\n",
    "        self.name = name   \n",
    "        self.email = email\n",
    "        self.address = address\n",
    "        self.job = job\n",
    "        self.age = age\n",
    "        self.phone = phone\n",
    "\n",
    "    def BusinessCard(self) :\n",
    "        print('''--------------------\n",
    "Name : {}\n",
    "Email : {}\n",
    "Address : {}\n",
    "--------------------'''.format(self.name, self.email, self.address))\n",
    "        \n",
    "    def detail_info(self) :\n",
    "        print('''--------------------\n",
    "job : {}\n",
    "age : {}\n",
    "phone : {}\n",
    "--------------------'''.format(self.job, self.age, self.phone))"
   ]
  },
  {
   "cell_type": "code",
   "execution_count": 19,
   "metadata": {},
   "outputs": [],
   "source": [
    "biz = BusinessCard()"
   ]
  },
  {
   "cell_type": "code",
   "execution_count": 61,
   "metadata": {},
   "outputs": [],
   "source": [
    "biz. set_info(1,2,3,4,5,6)"
   ]
  },
  {
   "cell_type": "code",
   "execution_count": 62,
   "metadata": {
    "collapsed": true
   },
   "outputs": [
    {
     "name": "stdout",
     "output_type": "stream",
     "text": [
      "--------------------\n",
      "Name : 1\n",
      "Email : 2\n",
      "Address : 3\n",
      "--------------------\n"
     ]
    }
   ],
   "source": [
    "biz. BusinessCard()"
   ]
  },
  {
   "cell_type": "code",
   "execution_count": 63,
   "metadata": {
    "collapsed": true
   },
   "outputs": [
    {
     "name": "stdout",
     "output_type": "stream",
     "text": [
      "--------------------\n",
      "job : 4\n",
      "age : 5\n",
      "phone : 6\n",
      "--------------------\n"
     ]
    }
   ],
   "source": [
    "biz. detail_info()"
   ]
  },
  {
   "cell_type": "code",
   "execution_count": 93,
   "metadata": {},
   "outputs": [],
   "source": [
    "class Talk:\n",
    "    def info_(self, name) :\n",
    "        self.name = name        \n",
    "            \n",
    "    def talk(self) :\n",
    "        print('hi. i am ', self.name)"
   ]
  },
  {
   "cell_type": "code",
   "execution_count": 104,
   "metadata": {},
   "outputs": [],
   "source": [
    "ex = Talk"
   ]
  },
  {
   "cell_type": "code",
   "execution_count": 105,
   "metadata": {},
   "outputs": [
    {
     "data": {
      "text/plain": [
       "__main__.Talk"
      ]
     },
     "execution_count": 105,
     "metadata": {},
     "output_type": "execute_result"
    }
   ],
   "source": [
    "ex"
   ]
  },
  {
   "cell_type": "code",
   "execution_count": 106,
   "metadata": {},
   "outputs": [],
   "source": [
    "ex = Talk()"
   ]
  },
  {
   "cell_type": "code",
   "execution_count": 107,
   "metadata": {},
   "outputs": [
    {
     "data": {
      "text/plain": [
       "<__main__.Talk at 0x1ba0d1af640>"
      ]
     },
     "execution_count": 107,
     "metadata": {},
     "output_type": "execute_result"
    }
   ],
   "source": [
    "ex"
   ]
  },
  {
   "cell_type": "code",
   "execution_count": 102,
   "metadata": {},
   "outputs": [],
   "source": [
    "ex. info_('dodo')"
   ]
  },
  {
   "cell_type": "code",
   "execution_count": 103,
   "metadata": {},
   "outputs": [
    {
     "name": "stdout",
     "output_type": "stream",
     "text": [
      "hi. i am  dodo\n"
     ]
    }
   ],
   "source": [
    "ex. talk()"
   ]
  },
  {
   "cell_type": "code",
   "execution_count": null,
   "metadata": {},
   "outputs": [],
   "source": []
  },
  {
   "cell_type": "code",
   "execution_count": null,
   "metadata": {},
   "outputs": [],
   "source": []
  },
  {
   "cell_type": "code",
   "execution_count": null,
   "metadata": {},
   "outputs": [],
   "source": []
  },
  {
   "cell_type": "code",
   "execution_count": 88,
   "metadata": {},
   "outputs": [],
   "source": [
    "class Do:\n",
    "    def __init__(self, name) :\n",
    "        self.name = name        \n",
    "            \n",
    "    def talk(self) :\n",
    "        print('hi. i am ', self.name)"
   ]
  },
  {
   "cell_type": "code",
   "execution_count": 91,
   "metadata": {},
   "outputs": [],
   "source": [
    "e = Do"
   ]
  },
  {
   "cell_type": "code",
   "execution_count": 92,
   "metadata": {
    "collapsed": true
   },
   "outputs": [
    {
     "ename": "TypeError",
     "evalue": "__init__() missing 1 required positional argument: 'name'",
     "output_type": "error",
     "traceback": [
      "\u001b[1;31m---------------------------------------------------------------------------\u001b[0m",
      "\u001b[1;31mTypeError\u001b[0m                                 Traceback (most recent call last)",
      "\u001b[1;32m<ipython-input-92-16690e22f7b3>\u001b[0m in \u001b[0;36m<module>\u001b[1;34m\u001b[0m\n\u001b[1;32m----> 1\u001b[1;33m \u001b[0me\u001b[0m \u001b[1;33m=\u001b[0m \u001b[0mDo\u001b[0m\u001b[1;33m(\u001b[0m\u001b[1;33m)\u001b[0m\u001b[1;33m\u001b[0m\u001b[1;33m\u001b[0m\u001b[0m\n\u001b[0m",
      "\u001b[1;31mTypeError\u001b[0m: __init__() missing 1 required positional argument: 'name'"
     ]
    }
   ],
   "source": [
    "e = Do()"
   ]
  },
  {
   "cell_type": "code",
   "execution_count": 87,
   "metadata": {},
   "outputs": [
    {
     "name": "stdout",
     "output_type": "stream",
     "text": [
      "hi. i am  dodo\n"
     ]
    }
   ],
   "source": [
    "e.talk()"
   ]
  },
  {
   "cell_type": "code",
   "execution_count": null,
   "metadata": {},
   "outputs": [],
   "source": []
  },
  {
   "cell_type": "code",
   "execution_count": null,
   "metadata": {},
   "outputs": [],
   "source": []
  },
  {
   "cell_type": "markdown",
   "metadata": {},
   "source": [
    "# exception"
   ]
  },
  {
   "cell_type": "markdown",
   "metadata": {},
   "source": [
    "* try : for, while과 비슷하게 exception에 사용하는 함수\n",
    "* except : 오류발생할 경우에 필요한 내용 정리\n",
    "* else : 정상출력시\n",
    "* finally : 오류상관없이 마지막에 추가"
   ]
  },
  {
   "cell_type": "code",
   "execution_count": null,
   "metadata": {},
   "outputs": [],
   "source": [
    "# 반복\n",
    "### + : 앞 문자가 한 번 이상 나오는 패턴(1 ~)\n",
    "### * : 앞 문자가 0번 이상 나오는 패턴(0 ~)\n",
    "### ? : 앞 문자가 등장하지 않거나 한번 등장하는 패턴(0,1)\n",
    "\n",
    "### 중괄호 - 특정 반복횟수를 구체적으로 명시\n",
    "### (ha)(3) - 'ha'가 3번 등장하는 패턴\n",
    "### (ha)(3.5) - 'ha'가 3~5회 등장하는 패턴\n",
    "\n",
    "# 이스케이프\n",
    "### \\\\ - '\\'를 그대로 출력\n",
    "### \\d - 숫자\n",
    "### \\w - 숫자와 문자\n",
    "### \\s - 공백문자(\\t, \\n)\n",
    "\n",
    "### \\D - 숫자를 제외한 문자\n",
    "### \\W - 숫자와 문자를 제외한 문자\n",
    "### \\S - 공백문자를 제외한 문자\n",
    "\n",
    "# 매칭\n",
    "### . - 하나의 문자\n",
    "### ^ - 줄의 시작\n",
    "### $ - 줄의 끝\n",
    "\n",
    "# 사용자 정의 패턴 => [....]\n",
    "###[aeiou] - 나열된 문자 중 1개와 일치\n",
    "###[^aeiou] - 니열된 문자와 일치하지 않는 문자를 팢는 패터\n",
    "###'-' -문자나 숫자의 범위\n",
    "### [a-zA-Z0-9]- 영문자 대소문자, 숫자와 일치하는 패턴\n",
    "\n",
    "# 그룹\n",
    "### () - 그룹 묶기\n",
    "\n",
    "# 주요메서드\n",
    "### compile() - pattern을 컴파일하여 정규식 객체를 반환\n",
    "### selet() - 패턴과 일치하는 문자열을 객체형식으로 변환, 처음 일치하는 하나만 리턴\n",
    "### findall() - 패턴과 일치하는 문자열을 모두 리스트에 달아서 리턴\n",
    "### sub(patturn,repal,text) - 패턴과 일치하는 문자열을 새로운 문장열로 변경해서 리턴\n",
    "                             # text에서 pattern과 일치하는 문자열을 repl로 변경해서 리턴"
   ]
  },
  {
   "cell_type": "code",
   "execution_count": 110,
   "metadata": {},
   "outputs": [],
   "source": [
    "import re   "
   ]
  },
  {
   "cell_type": "code",
   "execution_count": 111,
   "metadata": {},
   "outputs": [
    {
     "data": {
      "text/plain": [
       "['223.62.180.95', '211.244.131.169']"
      ]
     },
     "execution_count": 111,
     "metadata": {},
     "output_type": "execute_result"
    }
   ],
   "source": [
    "# log data추출\n",
    "\n",
    "log_text = \"\"\"\n",
    "223.62.180.95 -- [107/Mar/2014:00:06 + 0900] 'GET /trapi/mts/Check.jsp HTTP/1.1' 200 3292\n",
    "211.244.131.169 -- [07/Mar/2014:00:00:19 +0900] 'GET /trapi/mts/Check.jsp HTTP/1.1'211 3222\n",
    "\"\"\"\n",
    "\n",
    "# IP Address 추출\n",
    "ipre = re.compile('\\d+\\.\\d+\\.\\d+\\.\\d+')\n",
    "iplist = ipre.findall(log_text)\n",
    "\n",
    "iplist"
   ]
  },
  {
   "cell_type": "code",
   "execution_count": 114,
   "metadata": {},
   "outputs": [
    {
     "data": {
      "text/plain": [
       "['223.62.180.95', '211.244.131.169']"
      ]
     },
     "execution_count": 114,
     "metadata": {},
     "output_type": "execute_result"
    }
   ],
   "source": [
    "# log data추출\n",
    "\n",
    "log_text = \"\"\"\n",
    "223.62.180.95 -- [107/Mar/2014:00:06 + 0900] 'GET /trapi/mts/Check.jsp HTTP/1.1' 200 3292\n",
    "211.244.131.169 -- [07/Mar/2014:00:00:19 +0900] 'GET /trapi/mts/Check.jsp HTTP/1.1'211 3222\n",
    "\"\"\"\n",
    "\n",
    "# IP Address 추출\n",
    "ipre = re.compile('\\d+(?:\\.\\d+){3}')   # Q) ?: 은 머지?\n",
    "iplist = ipre.findall(log_text)\n",
    "\n",
    "iplist"
   ]
  },
  {
   "cell_type": "code",
   "execution_count": null,
   "metadata": {},
   "outputs": [],
   "source": []
  }
 ],
 "metadata": {
  "kernelspec": {
   "display_name": "Python 3",
   "language": "python",
   "name": "python3"
  },
  "language_info": {
   "codemirror_mode": {
    "name": "ipython",
    "version": 3
   },
   "file_extension": ".py",
   "mimetype": "text/x-python",
   "name": "python",
   "nbconvert_exporter": "python",
   "pygments_lexer": "ipython3",
   "version": "3.8.3"
  }
 },
 "nbformat": 4,
 "nbformat_minor": 4
}
