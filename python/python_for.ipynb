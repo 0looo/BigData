{
 "cells": [
  {
   "cell_type": "code",
   "execution_count": 1,
   "metadata": {},
   "outputs": [
    {
     "name": "stdout",
     "output_type": "stream",
     "text": [
      "0\n",
      "1\n",
      "2\n",
      "3\n",
      "4\n"
     ]
    }
   ],
   "source": [
    "L = [0,1,2,3,4]\n",
    "\n",
    "for i in L :\n",
    "    print(i)"
   ]
  },
  {
   "cell_type": "code",
   "execution_count": 2,
   "metadata": {},
   "outputs": [
    {
     "name": "stdout",
     "output_type": "stream",
     "text": [
      "0 1 2 3 4 "
     ]
    }
   ],
   "source": [
    "for i in L : \n",
    "    print(i, end = ' ')"
   ]
  },
  {
   "cell_type": "code",
   "execution_count": 3,
   "metadata": {},
   "outputs": [
    {
     "name": "stdout",
     "output_type": "stream",
     "text": [
      "1 2 3 4 "
     ]
    }
   ],
   "source": [
    "for i in [1,2,3,4] :\n",
    "    print(i, end = ' ')"
   ]
  },
  {
   "cell_type": "code",
   "execution_count": 4,
   "metadata": {},
   "outputs": [
    {
     "name": "stdout",
     "output_type": "stream",
     "text": [
      "[0, 1, 2, 3]\n",
      "[2, 3, 4, 5, 6, 7, 8, 9, 10, 11, 12, 13, 14, 15, 16, 17, 18, 19]\n",
      "[2, 4, 6, 8, 10, 12, 14, 16, 18]\n"
     ]
    }
   ],
   "source": [
    "print(list(range(4)))\n",
    "print(list(range(2, 20)))\n",
    "print(list(range(2, 20, 2)))"
   ]
  },
  {
   "cell_type": "code",
   "execution_count": 5,
   "metadata": {},
   "outputs": [
    {
     "name": "stdout",
     "output_type": "stream",
     "text": [
      "0 1 2 3 "
     ]
    }
   ],
   "source": [
    "for i in range(4) : \n",
    "    print(L[i], end = ' ')"
   ]
  },
  {
   "cell_type": "code",
   "execution_count": 6,
   "metadata": {},
   "outputs": [
    {
     "data": {
      "text/plain": [
       "5"
      ]
     },
     "execution_count": 6,
     "metadata": {},
     "output_type": "execute_result"
    }
   ],
   "source": [
    "len(L)"
   ]
  },
  {
   "cell_type": "code",
   "execution_count": 7,
   "metadata": {},
   "outputs": [
    {
     "name": "stdout",
     "output_type": "stream",
     "text": [
      "0 1 2 3 4 "
     ]
    }
   ],
   "source": [
    "for i in range(len(L)) :\n",
    "    num = L[i]\n",
    "    print(num, end = ' ')"
   ]
  },
  {
   "cell_type": "code",
   "execution_count": 8,
   "metadata": {},
   "outputs": [
    {
     "name": "stdout",
     "output_type": "stream",
     "text": [
      "0번 : 철수\n",
      "1번 : 영희\n",
      "2번 : 바둑이\n",
      "3번 : 귀도\n",
      "4번 : 비단뱀\n"
     ]
    }
   ],
   "source": [
    "names = ['철수', '영희', '바둑이','귀도', '비단뱀']\n",
    "\n",
    "for i in range(len(names)) :\n",
    "    nam = names[i]\n",
    "    print(\"{}번 : {}\". format(i , nam))"
   ]
  },
  {
   "cell_type": "code",
   "execution_count": 9,
   "metadata": {},
   "outputs": [
    {
     "name": "stdout",
     "output_type": "stream",
     "text": [
      "0번 철수\n",
      "1번 영희\n",
      "2번 바둑이\n",
      "3번 귀도\n",
      "4번 비단뱀\n"
     ]
    }
   ],
   "source": [
    "for i, name in enumerate(names) :\n",
    "    print('{}번 {}'. format(i, name))"
   ]
  },
  {
   "cell_type": "code",
   "execution_count": 10,
   "metadata": {},
   "outputs": [
    {
     "name": "stdout",
     "output_type": "stream",
     "text": [
      "2 2\n",
      "4 6\n",
      "6 10\n",
      "8 14\n",
      "10 18\n"
     ]
    }
   ],
   "source": [
    "for data in range(1, 10 ,2) :\n",
    "    print(data+1, data*2)"
   ]
  },
  {
   "cell_type": "code",
   "execution_count": 11,
   "metadata": {},
   "outputs": [
    {
     "name": "stdout",
     "output_type": "stream",
     "text": [
      "p y t h o n "
     ]
    }
   ],
   "source": [
    "for l in 'python' :\n",
    "    print(l, end = ' ')"
   ]
  },
  {
   "cell_type": "code",
   "execution_count": 12,
   "metadata": {},
   "outputs": [
    {
     "name": "stdout",
     "output_type": "stream",
     "text": [
      "P Y T H O N "
     ]
    }
   ],
   "source": [
    "for l in 'python' :\n",
    "    print(l.upper(), end = ' ' )"
   ]
  },
  {
   "cell_type": "code",
   "execution_count": 13,
   "metadata": {},
   "outputs": [
    {
     "name": "stdout",
     "output_type": "stream",
     "text": [
      "1 2 / 1 4 / 1 6 / 1 8 / 1 10 / \n",
      "2 2 / 2 4 / 2 6 / 2 8 / 2 10 / \n",
      "3 2 / 3 4 / 3 6 / 3 8 / 3 10 / \n",
      "4 2 / 4 4 / 4 6 / 4 8 / 4 10 / \n",
      "5 2 / 5 4 / 5 6 / 5 8 / 5 10 / \n"
     ]
    }
   ],
   "source": [
    "for x in [1,2,3,4,5] :\n",
    "    for y in [2,4,6,8,10] :\n",
    "        print(x,y,end = ' / ')\n",
    "    print()"
   ]
  },
  {
   "cell_type": "code",
   "execution_count": 14,
   "metadata": {},
   "outputs": [
    {
     "name": "stdout",
     "output_type": "stream",
     "text": [
      "6 7 8 \n",
      "7 8 9 \n",
      "8 9 10 \n",
      "9 10 11 \n"
     ]
    }
   ],
   "source": [
    "for a in (1,2,3,4):\n",
    "    for b in (5,6,7) : \n",
    "        print(a +b, end  =  ' ')\n",
    "    print()"
   ]
  },
  {
   "cell_type": "code",
   "execution_count": 15,
   "metadata": {},
   "outputs": [
    {
     "name": "stdout",
     "output_type": "stream",
     "text": [
      "1 4 1 5 \n",
      "2 4 2 5 \n",
      "3 4 3 5 \n"
     ]
    }
   ],
   "source": [
    "for a in {1,2,3}:\n",
    "    for b in {4,5}:\n",
    "        print(a,b, end = ' ')\n",
    "    print()"
   ]
  },
  {
   "cell_type": "code",
   "execution_count": 16,
   "metadata": {},
   "outputs": [
    {
     "name": "stdout",
     "output_type": "stream",
     "text": [
      "1\n",
      "2\n",
      "3\n",
      "4\n",
      "5\n"
     ]
    }
   ],
   "source": [
    "for a in {1,2,3,4,5} : \n",
    "    print(a)"
   ]
  },
  {
   "cell_type": "code",
   "execution_count": 17,
   "metadata": {},
   "outputs": [
    {
     "name": "stdout",
     "output_type": "stream",
     "text": [
      "4 2 1 5 3 "
     ]
    }
   ],
   "source": [
    "score = {4:90, 2:80, 1:95, 5:88, 3:92}\n",
    "\n",
    "for x in score :\n",
    "    print(x, end = ' ')"
   ]
  },
  {
   "cell_type": "code",
   "execution_count": 18,
   "metadata": {},
   "outputs": [
    {
     "name": "stdout",
     "output_type": "stream",
     "text": [
      "90 80 95 88 92 "
     ]
    }
   ],
   "source": [
    "for x in score.values() : \n",
    "    print(x, end= ' ')"
   ]
  },
  {
   "cell_type": "code",
   "execution_count": 19,
   "metadata": {},
   "outputs": [
    {
     "name": "stdout",
     "output_type": "stream",
     "text": [
      "(4, 90) (2, 80) (1, 95) (5, 88) (3, 92) "
     ]
    }
   ],
   "source": [
    "for x in score.items() :\n",
    "    print(x, end = ' ')"
   ]
  },
  {
   "cell_type": "markdown",
   "metadata": {},
   "source": [
    "###  for은 index활성 활용\n",
    "### while 은 조건활용"
   ]
  },
  {
   "cell_type": "code",
   "execution_count": 20,
   "metadata": {},
   "outputs": [
    {
     "data": {
      "text/plain": [
       "55"
      ]
     },
     "execution_count": 20,
     "metadata": {},
     "output_type": "execute_result"
    }
   ],
   "source": [
    "# 1부터 10까지 합을 구하시오.\n",
    "sum1 = 0\n",
    "\n",
    "for num1 in range(1, 11) :\n",
    "    \n",
    "    sum1 += num1\n",
    "\n",
    "sum1"
   ]
  },
  {
   "cell_type": "code",
   "execution_count": 21,
   "metadata": {},
   "outputs": [
    {
     "data": {
      "text/plain": [
       "16"
      ]
     },
     "execution_count": 21,
     "metadata": {},
     "output_type": "execute_result"
    }
   ],
   "source": [
    "# 영어모음 : ['a', 'e', 'i', 'o', 'u']\n",
    "# 아래 text에서 자음의 갯수를 구하시오.\n",
    "\n",
    "text = 'python programming is fun!!'\n",
    "\n",
    "num1 = 0\n",
    "\n",
    "for i in text :\n",
    "    if i not in ['a', 'e', 'i', 'o', 'u', ' ', '!'] :\n",
    "        num1 += 1\n",
    "num1"
   ]
  },
  {
   "cell_type": "code",
   "execution_count": 22,
   "metadata": {},
   "outputs": [
    {
     "data": {
      "text/plain": [
       "[0, 1, 2, 3, 4]"
      ]
     },
     "execution_count": 22,
     "metadata": {},
     "output_type": "execute_result"
    }
   ],
   "source": [
    "# List Comrehension\n",
    "\n",
    "L1 = []\n",
    "for i in range(5) :\n",
    "    L1.append(i)\n",
    "L1"
   ]
  },
  {
   "cell_type": "code",
   "execution_count": 23,
   "metadata": {},
   "outputs": [
    {
     "data": {
      "text/plain": [
       "[0, 1, 2, 3, 4]"
      ]
     },
     "execution_count": 23,
     "metadata": {},
     "output_type": "execute_result"
    }
   ],
   "source": [
    "L2 = [x for x in range(5)]\n",
    "L2"
   ]
  },
  {
   "cell_type": "code",
   "execution_count": 24,
   "metadata": {},
   "outputs": [
    {
     "data": {
      "text/plain": [
       "[3, 5, 6, 6, 10, 12, 12, 20, 24]"
      ]
     },
     "execution_count": 24,
     "metadata": {},
     "output_type": "execute_result"
    }
   ],
   "source": [
    "L1 = []\n",
    "\n",
    "for i in [1,2,4] :\n",
    "    for j in [3,5,6] :\n",
    "        L1.append(i*j)\n",
    "L1"
   ]
  },
  {
   "cell_type": "code",
   "execution_count": 25,
   "metadata": {},
   "outputs": [
    {
     "data": {
      "text/plain": [
       "[3, 5, 6, 6, 10, 12, 12, 20, 24]"
      ]
     },
     "execution_count": 25,
     "metadata": {},
     "output_type": "execute_result"
    }
   ],
   "source": [
    "L1 = [(i*j) for i in [1,2,4] for j in [3,5,6]]\n",
    "L1"
   ]
  },
  {
   "cell_type": "markdown",
   "metadata": {},
   "source": [
    "###  1~10의 정수 중 짝수를 골라서 list를 생성해라\n",
    "#### 2가지 방법 모두 사용\n",
    "#### python 추천은 2번째 방법"
   ]
  },
  {
   "cell_type": "code",
   "execution_count": 26,
   "metadata": {},
   "outputs": [
    {
     "data": {
      "text/plain": [
       "[2, 4, 6, 8, 10]"
      ]
     },
     "execution_count": 26,
     "metadata": {},
     "output_type": "execute_result"
    }
   ],
   "source": [
    "L1 = []\n",
    "for i in range(1,11):\n",
    "    if i%2 == 0 :\n",
    "        L1.append(i)\n",
    "L1"
   ]
  },
  {
   "cell_type": "code",
   "execution_count": 27,
   "metadata": {},
   "outputs": [
    {
     "data": {
      "text/plain": [
       "[2, 4, 6, 8, 10]"
      ]
     },
     "execution_count": 27,
     "metadata": {},
     "output_type": "execute_result"
    }
   ],
   "source": [
    "[i for i in range(1,11) if i%2 == 0]"
   ]
  },
  {
   "cell_type": "markdown",
   "metadata": {},
   "source": [
    "### text = 'python is fun!!' 에서 모음만 리스트에 담아서 리턴하시오.\n",
    "### => for문, list comprehension"
   ]
  },
  {
   "cell_type": "code",
   "execution_count": 28,
   "metadata": {},
   "outputs": [
    {
     "data": {
      "text/plain": [
       "['o', 'i', 'u']"
      ]
     },
     "execution_count": 28,
     "metadata": {},
     "output_type": "execute_result"
    }
   ],
   "source": [
    "text = 'python is fun!!'\n",
    "\n",
    "\n",
    "L1 = []\n",
    "m = ['a', 'e', 'i', 'o', 'u']\n",
    "\n",
    "for i in text :\n",
    "    if i in m :\n",
    "        L1.append(i)\n",
    "L1"
   ]
  },
  {
   "cell_type": "code",
   "execution_count": 29,
   "metadata": {},
   "outputs": [
    {
     "data": {
      "text/plain": [
       "['o', 'i', 'u']"
      ]
     },
     "execution_count": 29,
     "metadata": {},
     "output_type": "execute_result"
    }
   ],
   "source": [
    "L1 = [i for i in text if i in m]\n",
    "L1"
   ]
  },
  {
   "cell_type": "markdown",
   "metadata": {},
   "source": [
    "### 1~10 3의 배수만 리스트에 담아서 리턴"
   ]
  },
  {
   "cell_type": "code",
   "execution_count": 30,
   "metadata": {},
   "outputs": [
    {
     "data": {
      "text/plain": [
       "[3, 6, 9]"
      ]
     },
     "execution_count": 30,
     "metadata": {},
     "output_type": "execute_result"
    }
   ],
   "source": [
    "L1 = []\n",
    "l = range(1,11)\n",
    "for i in l :\n",
    "    if i%3 == 0:\n",
    "        L1.append(i)\n",
    "\n",
    "L1"
   ]
  },
  {
   "cell_type": "code",
   "execution_count": 31,
   "metadata": {},
   "outputs": [
    {
     "data": {
      "text/plain": [
       "[3, 6, 9]"
      ]
     },
     "execution_count": 31,
     "metadata": {},
     "output_type": "execute_result"
    }
   ],
   "source": [
    "L1 = [i for i in l if i %3 == 0]\n",
    "L1"
   ]
  },
  {
   "cell_type": "markdown",
   "metadata": {},
   "source": [
    "### text에서 짝수번 인덱스만 리스트에 담아서 리턴하시오"
   ]
  },
  {
   "cell_type": "code",
   "execution_count": 32,
   "metadata": {},
   "outputs": [
    {
     "data": {
      "text/plain": [
       "['p', 't', 'o', ' ', 's', 'f', 'n', '!', '!']"
      ]
     },
     "execution_count": 32,
     "metadata": {},
     "output_type": "execute_result"
    }
   ],
   "source": [
    "text = 'python is fun!!!!'\n",
    "L1 = []\n",
    "\n",
    "for i in text[::2] :\n",
    "    L1.append(i)\n",
    "        \n",
    "L1"
   ]
  },
  {
   "cell_type": "code",
   "execution_count": 33,
   "metadata": {},
   "outputs": [
    {
     "data": {
      "text/plain": [
       "['p', 't', 'o', ' ', 's', 'f', 'n', '!', '!']"
      ]
     },
     "execution_count": 33,
     "metadata": {},
     "output_type": "execute_result"
    }
   ],
   "source": [
    "L1 = [i for i in text[::2]]\n",
    "L1"
   ]
  },
  {
   "cell_type": "code",
   "execution_count": 34,
   "metadata": {},
   "outputs": [
    {
     "data": {
      "text/plain": [
       "['p', 't', 'o', ' ', 's', 'f', 'n', '!', '!']"
      ]
     },
     "execution_count": 34,
     "metadata": {},
     "output_type": "execute_result"
    }
   ],
   "source": [
    "# 강사님 답안\n",
    "text = 'python is fun!!!!'\n",
    "\n",
    "L1 = []\n",
    "for i in range(0, len(text), 2) :\n",
    "    L1. append(text[i])\n",
    "L1"
   ]
  },
  {
   "cell_type": "code",
   "execution_count": 35,
   "metadata": {},
   "outputs": [
    {
     "data": {
      "text/plain": [
       "2550"
      ]
     },
     "execution_count": 35,
     "metadata": {},
     "output_type": "execute_result"
    }
   ],
   "source": [
    "# 1 ~ 100에서 짝수의 합을 구하시오\n",
    "\n",
    "sum1 = 0\n",
    "\n",
    "for i in range(1,101):\n",
    "    if i % 2 == 0 :\n",
    "        sum1 += i\n",
    "\n",
    "sum1"
   ]
  },
  {
   "cell_type": "code",
   "execution_count": 36,
   "metadata": {},
   "outputs": [
    {
     "data": {
      "text/plain": [
       "2550"
      ]
     },
     "execution_count": 36,
     "metadata": {},
     "output_type": "execute_result"
    }
   ],
   "source": [
    "sum([i for i in range(1,101) if i%2==0])  # sum(리스트) = 리스트 요소들의 합 추출"
   ]
  },
  {
   "cell_type": "markdown",
   "metadata": {},
   "source": [
    "###  text에서 각 단어의 길이를 \"단어 : 단어길이\" 형식으로 출력하시오\n",
    "* text = \"be proud of data analyst\"\n",
    "* ex => be :2"
   ]
  },
  {
   "cell_type": "code",
   "execution_count": 37,
   "metadata": {},
   "outputs": [
    {
     "name": "stdout",
     "output_type": "stream",
     "text": [
      "be : 2\n",
      "proud : 5\n",
      "of : 2\n",
      "data : 4\n",
      "analyst : 7\n"
     ]
    }
   ],
   "source": [
    "text = \"be proud of data analyst\"\n",
    "\n",
    "txt1 = text.split(' ')\n",
    "\n",
    "for i in txt1 : \n",
    "    print('{} : {}'.format(i, len(i) ))\n"
   ]
  },
  {
   "cell_type": "markdown",
   "metadata": {},
   "source": [
    "### color와 things의 모든 요소의 튜플 조합을 리스트에 담으시오"
   ]
  },
  {
   "cell_type": "code",
   "execution_count": 38,
   "metadata": {},
   "outputs": [
    {
     "data": {
      "text/plain": [
       "[('red', 'house'),\n",
       " ('red', 'car'),\n",
       " ('red', 'tree'),\n",
       " ('green', 'house'),\n",
       " ('green', 'car'),\n",
       " ('green', 'tree'),\n",
       " ('yellow', 'house'),\n",
       " ('yellow', 'car'),\n",
       " ('yellow', 'tree'),\n",
       " ('blue', 'house'),\n",
       " ('blue', 'car'),\n",
       " ('blue', 'tree')]"
      ]
     },
     "execution_count": 38,
     "metadata": {},
     "output_type": "execute_result"
    }
   ],
   "source": [
    "colors = ['red', 'green', 'yellow', 'blue']\n",
    "things = ['house', 'car', 'tree']\n",
    "\n",
    "L1 = []\n",
    "for i in colors :\n",
    "    for j in things :\n",
    "        L1.append((i,j))\n",
    "        \n",
    "L1"
   ]
  },
  {
   "cell_type": "code",
   "execution_count": 39,
   "metadata": {},
   "outputs": [
    {
     "ename": "NameError",
     "evalue": "name 'color' is not defined",
     "output_type": "error",
     "traceback": [
      "\u001b[1;31m---------------------------------------------------------------------------\u001b[0m",
      "\u001b[1;31mNameError\u001b[0m                                 Traceback (most recent call last)",
      "\u001b[1;32m<ipython-input-39-68199b5f86c9>\u001b[0m in \u001b[0;36m<module>\u001b[1;34m\u001b[0m\n\u001b[1;32m----> 1\u001b[1;33m \u001b[1;33m[\u001b[0m \u001b[1;33m(\u001b[0m\u001b[0mi\u001b[0m\u001b[1;33m,\u001b[0m\u001b[0mj\u001b[0m\u001b[1;33m)\u001b[0m \u001b[1;32mfor\u001b[0m \u001b[0mi\u001b[0m \u001b[1;32min\u001b[0m \u001b[0mcolor\u001b[0m \u001b[1;32mfor\u001b[0m \u001b[0mj\u001b[0m \u001b[1;32min\u001b[0m \u001b[0mthings\u001b[0m \u001b[1;33m]\u001b[0m\u001b[1;33m\u001b[0m\u001b[1;33m\u001b[0m\u001b[0m\n\u001b[0m",
      "\u001b[1;31mNameError\u001b[0m: name 'color' is not defined"
     ]
    }
   ],
   "source": [
    "[ (i,j) for i in color for j in things ]"
   ]
  },
  {
   "cell_type": "markdown",
   "metadata": {},
   "source": [
    "### while\n",
    "\n",
    "#### while 조건식 :\n",
    "    실행코드1\n",
    "    실행코드2 \n",
    "    \n",
    "* 조건식이 True이면 실행코드를 실행, 조건식이 False이면 실행코드를 중단."
   ]
  },
  {
   "cell_type": "code",
   "execution_count": 52,
   "metadata": {},
   "outputs": [
    {
     "name": "stdout",
     "output_type": "stream",
     "text": [
      "0 1 2 3 4 5 6 7 8 9 10 "
     ]
    }
   ],
   "source": [
    "i = 0\n",
    "while i <= 10:\n",
    "    print(i, end = ' ')\n",
    "    i += 1\n",
    "    "
   ]
  },
  {
   "cell_type": "code",
   "execution_count": 53,
   "metadata": {},
   "outputs": [
    {
     "data": {
      "text/plain": [
       "55"
      ]
     },
     "execution_count": 53,
     "metadata": {},
     "output_type": "execute_result"
    }
   ],
   "source": [
    "# 1 ~ 10 까지 정수의 합을 while문을 통해 구하시오\n",
    "i = 1\n",
    "sum1 = 0\n",
    "\n",
    "while i <= 10 :\n",
    "    sum1 += i\n",
    "    i += 1\n",
    "\n",
    "sum1"
   ]
  },
  {
   "cell_type": "code",
   "execution_count": 54,
   "metadata": {},
   "outputs": [
    {
     "data": {
      "text/plain": [
       "30"
      ]
     },
     "execution_count": 54,
     "metadata": {},
     "output_type": "execute_result"
    }
   ],
   "source": [
    "# 1 ~ 10 까지 정수 중에서 짝수의 합을 while문을 통해 구하시오\n",
    "\n",
    "i = 1\n",
    "sum1 = 0\n",
    "\n",
    "while i <= 10 :\n",
    "    i += 1\n",
    "    if i % 2 == 0:\n",
    "        sum1 += i\n",
    "\n",
    "sum1"
   ]
  },
  {
   "cell_type": "markdown",
   "metadata": {},
   "source": [
    "### break, continue\n",
    "#### 1. break\n",
    "    반복문을 반복실행하다가 break가 실행되면 반복문을 빠져나오게 된다.\n",
    "#### 2. continue\n",
    "    반복문을 반복실행하다가 continue가 실행되면 continue아래 코드를 실행하지 않고,\n",
    "    반복문의 처음으로 돌아와서 반복문을 계속 실행한다."
   ]
  },
  {
   "cell_type": "code",
   "execution_count": 55,
   "metadata": {},
   "outputs": [
    {
     "name": "stdout",
     "output_type": "stream",
     "text": [
      "0 1 2 3 4 5 "
     ]
    }
   ],
   "source": [
    "# break를 사용해서 0-5까지만 출력\n",
    "i = 0\n",
    "while i <= 10 :\n",
    "    print(i, end= ' ')\n",
    "    i +=1\n",
    "    if i > 5 : break"
   ]
  },
  {
   "cell_type": "code",
   "execution_count": 56,
   "metadata": {},
   "outputs": [
    {
     "name": "stdout",
     "output_type": "stream",
     "text": [
      "1\n",
      "2\n",
      "4\n",
      "5\n",
      "7\n",
      "8\n",
      "10\n"
     ]
    }
   ],
   "source": [
    "i = 0\n",
    "while i < 10 :\n",
    "    i += 1\n",
    "    if i%3 ==0 :\n",
    "        continue\n",
    "    print(i)"
   ]
  },
  {
   "cell_type": "code",
   "execution_count": 57,
   "metadata": {},
   "outputs": [
    {
     "name": "stdout",
     "output_type": "stream",
     "text": [
      "4\n",
      "5\n",
      "6\n",
      "7\n"
     ]
    }
   ],
   "source": [
    "# 아래의 1~10까지 출력하는 코드에서 break와 continue를 활용해서 4,5,6,7만 출력\n",
    "\n",
    "i = 0\n",
    "while i < 10 :\n",
    "    i += 1\n",
    "    if i < 4 : continue\n",
    "    if i > 7 : break\n",
    "    print(i)"
   ]
  },
  {
   "cell_type": "code",
   "execution_count": 58,
   "metadata": {},
   "outputs": [
    {
     "name": "stdout",
     "output_type": "stream",
     "text": [
      "4\n",
      "5\n",
      "6\n",
      "7\n"
     ]
    }
   ],
   "source": [
    "# break, continue 안쓰는 방법\n",
    "i = 0\n",
    "while i < 10 :\n",
    "    i += 1\n",
    "    if 4 <= i < 8 :\n",
    "        print(i)"
   ]
  },
  {
   "cell_type": "markdown",
   "metadata": {},
   "source": [
    "#### 글자의 길이가 4 이상인 단어만 리스트에 담으시오."
   ]
  },
  {
   "cell_type": "code",
   "execution_count": 59,
   "metadata": {},
   "outputs": [
    {
     "data": {
      "text/plain": [
       "['mountain', 'river', 'cloud']"
      ]
     },
     "execution_count": 59,
     "metadata": {},
     "output_type": "execute_result"
    }
   ],
   "source": [
    "words = ['mountain', 'sea', 'sky', 'river', 'cloud']\n",
    "\n",
    "[i for i in words if len(i)>= 4]"
   ]
  },
  {
   "cell_type": "markdown",
   "metadata": {},
   "source": [
    "#### 글자의 길이가 4 이상인 단어의 수는 몇인가?"
   ]
  },
  {
   "cell_type": "code",
   "execution_count": 60,
   "metadata": {},
   "outputs": [
    {
     "data": {
      "text/plain": [
       "3"
      ]
     },
     "execution_count": 60,
     "metadata": {},
     "output_type": "execute_result"
    }
   ],
   "source": [
    "len([i for i in words if len(i)>= 4])"
   ]
  },
  {
   "cell_type": "code",
   "execution_count": 61,
   "metadata": {
    "scrolled": true
   },
   "outputs": [
    {
     "data": {
      "text/plain": [
       "3"
      ]
     },
     "execution_count": 61,
     "metadata": {},
     "output_type": "execute_result"
    }
   ],
   "source": [
    "words = ['mountain', 'sea', 'sky', 'river', 'cloud']\n",
    "\n",
    "num1 = 0\n",
    "for i in words :\n",
    "    if len(i)>= 4:\n",
    "        num1 += 1\n",
    "num1"
   ]
  },
  {
   "cell_type": "markdown",
   "metadata": {},
   "source": [
    "#### words에서 알파벳순서에 따라\n",
    "    => 1번 : cloud\n",
    "    => 2번 : mountain"
   ]
  },
  {
   "cell_type": "code",
   "execution_count": 62,
   "metadata": {},
   "outputs": [
    {
     "name": "stdout",
     "output_type": "stream",
     "text": [
      "1번 : cloud\n",
      "2번 : mountain\n",
      "3번 : river\n",
      "4번 : sea\n",
      "5번 : sky\n"
     ]
    }
   ],
   "source": [
    "for i,w in enumerate(sorted(words)):\n",
    "    print('{}번 : {}'.format(i+1,w))"
   ]
  },
  {
   "cell_type": "code",
   "execution_count": 40,
   "metadata": {},
   "outputs": [
    {
     "name": "stdout",
     "output_type": "stream",
     "text": [
      "점수를 입력해주세요 : 5\n",
      "점수를 입력해주세요 : 6\n",
      "점수를 입력해주세요 : 5\n",
      "점수를 입력해주세요 : 6\n",
      "점수를 입력해주세요 : 5\n",
      "점수 평균은 4.5입니다.\n"
     ]
    }
   ],
   "source": [
    "# 점수를 5회 입력받은 후\n",
    "# => '점수 평균은 ***입니다.'\n",
    "\n",
    "num1 = 1\n",
    "L1 = []\n",
    "\n",
    "while num1 <= 5 :\n",
    "    num1 += 1\n",
    "    s = int(input('점수를 입력해주세요 : '))\n",
    "    L1.append(s)\n",
    "    w = sum(L1) \n",
    "\n",
    "print('점수 평균은 {}입니다.'.format(w/num1))"
   ]
  },
  {
   "cell_type": "code",
   "execution_count": 42,
   "metadata": {},
   "outputs": [
    {
     "name": "stdout",
     "output_type": "stream",
     "text": [
      "점수를 입력하세요 : 4\n",
      "점수를 입력하세요 : 6\n",
      "점수를 입력하세요 : 4\n",
      "점수를 입력하세요 : 5\n",
      "점수를 입력하세요 : 6\n",
      "당신의 평균점수는 5.0입니다.\n"
     ]
    }
   ],
   "source": [
    "# 강사님 답안\n",
    "\n",
    "sum1 = 0\n",
    "count = 0\n",
    "\n",
    "while count < 5 :\n",
    "    score = int(input('점수를 입력하세요 : '))\n",
    "    count += 1\n",
    "    sum1 += score\n",
    "\n",
    "print('당신의 평균점수는 {}입니다.'.format(sum1/count))"
   ]
  },
  {
   "cell_type": "code",
   "execution_count": 43,
   "metadata": {},
   "outputs": [],
   "source": [
    "# words에서 {'montain' : '산', 'sea':'바다', 'sky':'하늘', 'reiver' : '강' , 'cloud' : '구름'}로 \n",
    "# 전환해서 출력\n",
    "words = ['mountain', 'sea', 'sky', 'river', 'cloud']"
   ]
  },
  {
   "cell_type": "code",
   "execution_count": 45,
   "metadata": {},
   "outputs": [],
   "source": [
    "words = ['mountain', 'sea', 'sky', 'river', 'cloud']\n",
    "keys =['산','바다','하늘','강','구름']"
   ]
  },
  {
   "cell_type": "code",
   "execution_count": 46,
   "metadata": {},
   "outputs": [
    {
     "data": {
      "text/plain": [
       "{'mountain': '산', 'sea': '바다', 'sky': '하늘', 'river': '강', 'cloud': '구름'}"
      ]
     },
     "execution_count": 46,
     "metadata": {},
     "output_type": "execute_result"
    }
   ],
   "source": [
    "# 강사님답안(1)\n",
    "\n",
    "nature = dict()\n",
    "\n",
    "for i in range(len(words)) :\n",
    "    nature[words[i]] = keys[i]\n",
    "\n",
    "nature"
   ]
  },
  {
   "cell_type": "code",
   "execution_count": 47,
   "metadata": {},
   "outputs": [
    {
     "name": "stdout",
     "output_type": "stream",
     "text": [
      "['o', 'o', 'a', 'i', 'i', 'u', 'e', 'u']\n",
      "['P', 'y', 't', 'h', 'n', ' ', 'p', 'r', 'g', 'r', 'm', 'm', 'n', 'g', ' ', 's', ' ', 's', 'f', 'l']\n"
     ]
    }
   ],
   "source": [
    "# 모음은 모음끼리, 모음이 아닌 문자열은 별도의 리스트에 각각 담아서 리런하시오.\n",
    "Text = \"Python programming is useful\"\n",
    "L1 = []\n",
    "L2 = []\n",
    "\n",
    "for i in Text :\n",
    "    if i in m :\n",
    "        L1.append(i)\n",
    "    else :\n",
    "        L2.append(i)\n",
    "        \n",
    "print(L1)\n",
    "print(L2)        "
   ]
  },
  {
   "cell_type": "code",
   "execution_count": 48,
   "metadata": {},
   "outputs": [
    {
     "name": "stdout",
     "output_type": "stream",
     "text": [
      "1 * 1 =  1    2 * 1 =  2    3 * 1 =  3    4 * 1 =  4    5 * 1 =  5    6 * 1 =  6    7 * 1 =  7    8 * 1 =  8    9 * 1 =  9    1 * 2 =  2    2 * 2 =  4    3 * 2 =  6    4 * 2 =  8    5 * 2 = 10    6 * 2 = 12    7 * 2 = 14    8 * 2 = 16    9 * 2 = 18    1 * 3 =  3    2 * 3 =  6    3 * 3 =  9    4 * 3 = 12    5 * 3 = 15    6 * 3 = 18    7 * 3 = 21    8 * 3 = 24    9 * 3 = 27    1 * 4 =  4    2 * 4 =  8    3 * 4 = 12    4 * 4 = 16    5 * 4 = 20    6 * 4 = 24    7 * 4 = 28    8 * 4 = 32    9 * 4 = 36    1 * 5 =  5    2 * 5 = 10    3 * 5 = 15    4 * 5 = 20    5 * 5 = 25    6 * 5 = 30    7 * 5 = 35    8 * 5 = 40    9 * 5 = 45    1 * 6 =  6    2 * 6 = 12    3 * 6 = 18    4 * 6 = 24    5 * 6 = 30    6 * 6 = 36    7 * 6 = 42    8 * 6 = 48    9 * 6 = 54    1 * 7 =  7    2 * 7 = 14    3 * 7 = 21    4 * 7 = 28    5 * 7 = 35    6 * 7 = 42    7 * 7 = 49    8 * 7 = 56    9 * 7 = 63    1 * 8 =  8    2 * 8 = 16    3 * 8 = 24    4 * 8 = 32    5 * 8 = 40    6 * 8 = 48    7 * 8 = 56    8 * 8 = 64    9 * 8 = 72    1 * 9 =  9    2 * 9 = 18    3 * 9 = 27    4 * 9 = 36    5 * 9 = 45    6 * 9 = 54    7 * 9 = 63    8 * 9 = 72    9 * 9 = 81    "
     ]
    }
   ],
   "source": [
    "# 2중 for를 이용하여 구구단을 출력하시오\n",
    "t = range(1,10)\n",
    "for i in t :\n",
    "    for j in t:\n",
    "#        print(i,\"*\",j,'=',i*j, end = ' ')\n",
    "        print(\"{1} * {0} = {2:>2}\". format(i,j,i*j), end = '    ')"
   ]
  },
  {
   "cell_type": "code",
   "execution_count": 51,
   "metadata": {},
   "outputs": [],
   "source": [
    "# '''\n",
    "# *\n",
    "# **\n",
    "# ***\n",
    "# ****\n",
    "# *****\n",
    "# '''"
   ]
  },
  {
   "cell_type": "code",
   "execution_count": 63,
   "metadata": {},
   "outputs": [
    {
     "name": "stdout",
     "output_type": "stream",
     "text": [
      "*\n",
      "**\n",
      "***\n",
      "****\n",
      "*****\n"
     ]
    }
   ],
   "source": [
    "for i in range(1,6) : \n",
    "    print('*'*i)"
   ]
  },
  {
   "cell_type": "code",
   "execution_count": 68,
   "metadata": {},
   "outputs": [
    {
     "name": "stdout",
     "output_type": "stream",
     "text": [
      "*****\n",
      "****\n",
      "***\n",
      "**\n",
      "*\n"
     ]
    }
   ],
   "source": [
    "for i in range(1,6) : \n",
    "\n",
    "    print('*'*(6-i))"
   ]
  },
  {
   "cell_type": "code",
   "execution_count": 70,
   "metadata": {},
   "outputs": [
    {
     "name": "stdout",
     "output_type": "stream",
     "text": [
      "     *\n",
      "    **\n",
      "   ***\n",
      "  ****\n",
      " *****\n"
     ]
    }
   ],
   "source": [
    "for i in range(1,6) : \n",
    "    print(' '*(5-i),'*'*i)"
   ]
  },
  {
   "cell_type": "code",
   "execution_count": 72,
   "metadata": {},
   "outputs": [
    {
     "name": "stdout",
     "output_type": "stream",
     "text": [
      " *****\n",
      "  ****\n",
      "   ***\n",
      "    **\n",
      "     *\n"
     ]
    }
   ],
   "source": [
    "for i in range(1,6) : \n",
    "\n",
    "    print(' '*(i-1),'*'*(6-i))"
   ]
  },
  {
   "cell_type": "code",
   "execution_count": null,
   "metadata": {},
   "outputs": [],
   "source": []
  }
 ],
 "metadata": {
  "kernelspec": {
   "display_name": "Python 3",
   "language": "python",
   "name": "python3"
  },
  "language_info": {
   "codemirror_mode": {
    "name": "ipython",
    "version": 3
   },
   "file_extension": ".py",
   "mimetype": "text/x-python",
   "name": "python",
   "nbconvert_exporter": "python",
   "pygments_lexer": "ipython3",
   "version": "3.8.3"
  }
 },
 "nbformat": 4,
 "nbformat_minor": 4
}
