{
 "cells": [
  {
   "cell_type": "code",
   "execution_count": 2,
   "metadata": {},
   "outputs": [
    {
     "name": "stdout",
     "output_type": "stream",
     "text": [
      "Hello world\n"
     ]
    }
   ],
   "source": [
    "print('Hello world')"
   ]
  },
  {
   "cell_type": "code",
   "execution_count": 3,
   "metadata": {},
   "outputs": [
    {
     "name": "stdout",
     "output_type": "stream",
     "text": [
      "hello python\n"
     ]
    }
   ],
   "source": [
    "# 주석 = 주석부분은 컴퓨터가 프로그램으로 해석하지 않고 텍스트로 처리\n",
    "#        제목, 부연설명 등 사용\n",
    "\n",
    "# 파이썬에서 주석\n",
    "#1. 한 줄 주석 => 앞에 #\n",
    "#2. 여러줄 주석 =>\n",
    "'''\n",
    "파이썬프로그램 여러줄 주석\n",
    "파이썬프로그램 여러줄 주석\n",
    "'''\n",
    "\n",
    "print('hello python')"
   ]
  },
  {
   "cell_type": "code",
   "execution_count": 4,
   "metadata": {},
   "outputs": [],
   "source": [
    "# cell 선택 =>명령모드 => 'dd' => cell 삭제"
   ]
  },
  {
   "cell_type": "code",
   "execution_count": 5,
   "metadata": {},
   "outputs": [],
   "source": [
    "# variable(변수) : data를 담는 그릇. 명령을 받으면 date가 처리된다.\n",
    "# 변수 선언  : =를 통해 변수를 선언한다.\n",
    "# = (할당자) : 오른쪽의 date를 왼쪽의 변수에 닮는다.\n",
    "\n",
    "a = 10  # 정수(int)\n",
    "b = 3.5  # 실수(float)\n",
    "c = 'hello world' # 문자열(str)"
   ]
  },
  {
   "cell_type": "code",
   "execution_count": 6,
   "metadata": {},
   "outputs": [
    {
     "name": "stdout",
     "output_type": "stream",
     "text": [
      "10\n"
     ]
    }
   ],
   "source": [
    "print(a)"
   ]
  },
  {
   "cell_type": "code",
   "execution_count": 7,
   "metadata": {},
   "outputs": [
    {
     "name": "stdout",
     "output_type": "stream",
     "text": [
      "10 3.5 hello world\n"
     ]
    }
   ],
   "source": [
    "print(a, b, c) # 여러개를 화면출력시 ','로 출력"
   ]
  },
  {
   "cell_type": "code",
   "execution_count": null,
   "metadata": {},
   "outputs": [],
   "source": []
  },
  {
   "cell_type": "code",
   "execution_count": null,
   "metadata": {},
   "outputs": [],
   "source": []
  },
  {
   "cell_type": "code",
   "execution_count": null,
   "metadata": {},
   "outputs": [],
   "source": []
  }
 ],
 "metadata": {
  "kernelspec": {
   "display_name": "Python 3",
   "language": "python",
   "name": "python3"
  },
  "language_info": {
   "codemirror_mode": {
    "name": "ipython",
    "version": 3
   },
   "file_extension": ".py",
   "mimetype": "text/x-python",
   "name": "python",
   "nbconvert_exporter": "python",
   "pygments_lexer": "ipython3",
   "version": "3.8.3"
  }
 },
 "nbformat": 4,
 "nbformat_minor": 4
}
