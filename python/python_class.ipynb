{
 "cells": [
  {
   "cell_type": "markdown",
   "metadata": {},
   "source": [
    "### class\n",
    "* 자주 사용하는 함수들과 변수들을 한 덩어리로 묶어서 관리\n",
    "* class를 사용할 때는 class를 복사해서 사용\n",
    "* class를 복사한 것을 instance라고 함\n",
    "* \n",
    "* 속성(attribute) : 클래스 내의 변수\n",
    "* 메소드(method) : 클래스 내의 함수\n",
    "* \n",
    "* class는 설계도와 같음. class를 사용시 class를 복사해서 인스턴스로 사용\n",
    "* \n",
    "* ex ) 클래스 : 붕어빵 틀 / 인스턴스 : 붕어빵"
   ]
  },
  {
   "cell_type": "markdown",
   "metadata": {},
   "source": [
    "####  명찰만드는 코드"
   ]
  },
  {
   "cell_type": "code",
   "execution_count": 1,
   "metadata": {},
   "outputs": [
    {
     "name": "stdout",
     "output_type": "stream",
     "text": [
      "--------------------\n",
      "Name : Kim\n",
      "Email : kim@gmail.com\n",
      "Address : Seoul\n",
      "--------------------\n"
     ]
    }
   ],
   "source": [
    "print('''--------------------\n",
    "Name : {}\n",
    "Email : {}\n",
    "Address : {}\n",
    "--------------------'''.format('Kim', 'kim@gmail.com', 'Seoul'))"
   ]
  },
  {
   "cell_type": "markdown",
   "metadata": {},
   "source": [
    "##### 함수로 변환"
   ]
  },
  {
   "cell_type": "code",
   "execution_count": 4,
   "metadata": {},
   "outputs": [],
   "source": [
    "def BusinessCard() :\n",
    "    print('''--------------------\n",
    "Name : {}\n",
    "Email : {}\n",
    "Address : {}\n",
    "--------------------'''.format('Kim', 'kim@gmail.com', 'Seoul'))"
   ]
  },
  {
   "cell_type": "code",
   "execution_count": 5,
   "metadata": {},
   "outputs": [
    {
     "name": "stdout",
     "output_type": "stream",
     "text": [
      "--------------------\n",
      "Name : Kim\n",
      "Email : kim@gmail.com\n",
      "Address : Seoul\n",
      "--------------------\n"
     ]
    }
   ],
   "source": [
    "BusinessCard()"
   ]
  },
  {
   "cell_type": "code",
   "execution_count": 11,
   "metadata": {},
   "outputs": [],
   "source": [
    "def BusinessCard(name, email, address) :\n",
    "    print('''--------------------\n",
    "Name : {}\n",
    "Email : {}\n",
    "Address : {}\n",
    "--------------------'''.format(name, email, address))"
   ]
  },
  {
   "cell_type": "code",
   "execution_count": 13,
   "metadata": {},
   "outputs": [
    {
     "name": "stdout",
     "output_type": "stream",
     "text": [
      "--------------------\n",
      "Name : Park\n",
      "Email : Park@gmail.com\n",
      "Address : Incheon\n",
      "--------------------\n"
     ]
    }
   ],
   "source": [
    "BusinessCard('Park', 'Park@gmail.com','Incheon')"
   ]
  },
  {
   "cell_type": "code",
   "execution_count": 15,
   "metadata": {},
   "outputs": [
    {
     "name": "stdout",
     "output_type": "stream",
     "text": [
      "--------------------\n",
      "Name : Yuna\n",
      "Email : yuna@gmail.com\n",
      "Address : Busan\n",
      "--------------------\n"
     ]
    }
   ],
   "source": [
    "name = 'Yuna'\n",
    "email = 'yuna@gmail.com'\n",
    "address = 'Busan'\n",
    "\n",
    "def BusinessCard(name, email, address) :\n",
    "    print('''--------------------\n",
    "Name : {}\n",
    "Email : {}\n",
    "Address : {}\n",
    "--------------------'''.format(name, email, address))\n",
    "\n",
    "BusinessCard(name, email, address)"
   ]
  },
  {
   "cell_type": "code",
   "execution_count": 19,
   "metadata": {},
   "outputs": [],
   "source": [
    "def detail_info(job, age, phone) :\n",
    "    print('''--------------------\n",
    "job : {}\n",
    "age : {}\n",
    "phone : {}\n",
    "--------------------'''.format(job, age, phone))"
   ]
  },
  {
   "cell_type": "code",
   "execution_count": 20,
   "metadata": {},
   "outputs": [
    {
     "name": "stdout",
     "output_type": "stream",
     "text": [
      "--------------------\n",
      "job : teacher\n",
      "age : 25\n",
      "phone : 01012345678\n",
      "--------------------\n"
     ]
    }
   ],
   "source": [
    "job = 'teacher'\n",
    "age = 25\n",
    "phone = '01012345678'\n",
    "\n",
    "detail_info(job, age, phone)"
   ]
  },
  {
   "cell_type": "markdown",
   "metadata": {},
   "source": [
    "### class\n",
    "* 클래스 생성"
   ]
  },
  {
   "cell_type": "code",
   "execution_count": 120,
   "metadata": {},
   "outputs": [],
   "source": [
    "class BusinessCard:\n",
    "    \n",
    "    name = 'Yuna'\n",
    "    email = 'Yuna@gamail.com'\n",
    "    address = 'Seoul'\n",
    "    \n",
    "    job = 'teacher'\n",
    "    age = 25\n",
    "    phone = '01012341234'\n",
    "    \n",
    "    def BusinessCard(self) :\n",
    "        print('''--------------------\n",
    "Name : {}\n",
    "Email : {}\n",
    "Address : {}\n",
    "--------------------'''.format(BusinessCard.name, BusinessCard.email, BusinessCard.address))\n",
    "        \n",
    "    def detail_info(self) :\n",
    "        print('''--------------------\n",
    "job : {}\n",
    "age : {}\n",
    "phone : {}\n",
    "--------------------'''.format(BusinessCard.job, BusinessCard.age, BusinessCard.phone))\n"
   ]
  },
  {
   "cell_type": "markdown",
   "metadata": {},
   "source": [
    "#### 클래스 사용 => 클래스를 복사(인스턴스 생성)"
   ]
  },
  {
   "cell_type": "code",
   "execution_count": 121,
   "metadata": {},
   "outputs": [],
   "source": [
    "biz = BusinessCard()"
   ]
  },
  {
   "cell_type": "code",
   "execution_count": 122,
   "metadata": {},
   "outputs": [
    {
     "name": "stdout",
     "output_type": "stream",
     "text": [
      "--------------------\n",
      "Name : Yuna\n",
      "Email : Yuna@gamail.com\n",
      "Address : Seoul\n",
      "--------------------\n"
     ]
    }
   ],
   "source": [
    "biz.BusinessCard()"
   ]
  },
  {
   "cell_type": "code",
   "execution_count": 123,
   "metadata": {},
   "outputs": [
    {
     "name": "stdout",
     "output_type": "stream",
     "text": [
      "--------------------\n",
      "job : teacher\n",
      "age : 25\n",
      "phone : 01012341234\n",
      "--------------------\n"
     ]
    }
   ],
   "source": [
    "biz. detail_info()"
   ]
  },
  {
   "cell_type": "code",
   "execution_count": 30,
   "metadata": {},
   "outputs": [
    {
     "data": {
      "text/plain": [
       "'Yuna'"
      ]
     },
     "execution_count": 30,
     "metadata": {},
     "output_type": "execute_result"
    }
   ],
   "source": [
    "biz. name"
   ]
  },
  {
   "cell_type": "code",
   "execution_count": 31,
   "metadata": {},
   "outputs": [],
   "source": [
    "biz_c = BusinessCard()"
   ]
  },
  {
   "cell_type": "code",
   "execution_count": 32,
   "metadata": {},
   "outputs": [
    {
     "name": "stdout",
     "output_type": "stream",
     "text": [
      "--------------------\n",
      "Name : Yuna\n",
      "Email : Yuna@gamail.com\n",
      "Address : Seoul\n",
      "--------------------\n"
     ]
    }
   ],
   "source": [
    "biz_c. BusinessCard()"
   ]
  },
  {
   "cell_type": "code",
   "execution_count": 34,
   "metadata": {
    "scrolled": true
   },
   "outputs": [
    {
     "name": "stdout",
     "output_type": "stream",
     "text": [
      "--------------------\n",
      "job : teacher\n",
      "age : 25\n",
      "phone : 01012341234\n",
      "--------------------\n"
     ]
    }
   ],
   "source": [
    "biz_c. detail_info()"
   ]
  },
  {
   "cell_type": "code",
   "execution_count": 40,
   "metadata": {},
   "outputs": [],
   "source": [
    "class BusinessCard:\n",
    "    \n",
    "    def set_info(self, name, email, address, job, age, phone) :  # self 를 붙여줘야 한다.(변하는 값들)\n",
    "        self.name = name\n",
    "        self.email = email\n",
    "        self.address = address\n",
    "\n",
    "        self.job = job\n",
    "        self.age = age\n",
    "        self.phone = phone\n",
    "\n",
    "    def BusinessCard(self) :\n",
    "        print('''--------------------\n",
    "Name : {}\n",
    "Email : {}\n",
    "Address : {}\n",
    "--------------------'''.format(self.name, self.email, self.address))\n",
    "        \n",
    "    def detail_info(self) :\n",
    "        print('''--------------------\n",
    "job : {}\n",
    "age : {}\n",
    "phone : {}\n",
    "--------------------'''.format(self.job, self.age, self.phone))\n"
   ]
  },
  {
   "cell_type": "code",
   "execution_count": 41,
   "metadata": {},
   "outputs": [],
   "source": [
    "biz = BusinessCard()"
   ]
  },
  {
   "cell_type": "code",
   "execution_count": 42,
   "metadata": {},
   "outputs": [],
   "source": [
    "biz. set_info('yuna','u@gmail.com','seoul','tea',25, '01012341234')"
   ]
  },
  {
   "cell_type": "code",
   "execution_count": 43,
   "metadata": {
    "collapsed": true
   },
   "outputs": [
    {
     "name": "stdout",
     "output_type": "stream",
     "text": [
      "--------------------\n",
      "Name : yuna\n",
      "Email : u@gmail.com\n",
      "Address : seoul\n",
      "--------------------\n"
     ]
    }
   ],
   "source": [
    "biz. BusinessCard()"
   ]
  },
  {
   "cell_type": "code",
   "execution_count": 44,
   "metadata": {
    "collapsed": true
   },
   "outputs": [
    {
     "name": "stdout",
     "output_type": "stream",
     "text": [
      "--------------------\n",
      "job : tea\n",
      "age : 25\n",
      "phone : 01012341234\n",
      "--------------------\n"
     ]
    }
   ],
   "source": [
    "biz. detail_info()"
   ]
  },
  {
   "cell_type": "code",
   "execution_count": 45,
   "metadata": {},
   "outputs": [],
   "source": [
    "biz1 = BusinessCard()"
   ]
  },
  {
   "cell_type": "code",
   "execution_count": 46,
   "metadata": {},
   "outputs": [],
   "source": [
    "biz1.set_info('kim','k@gmail.com','busan','singer','23','01056785678')"
   ]
  },
  {
   "cell_type": "code",
   "execution_count": 47,
   "metadata": {
    "collapsed": true
   },
   "outputs": [
    {
     "name": "stdout",
     "output_type": "stream",
     "text": [
      "--------------------\n",
      "Name : yuna\n",
      "Email : u@gmail.com\n",
      "Address : seoul\n",
      "--------------------\n"
     ]
    }
   ],
   "source": [
    "biz. BusinessCard()"
   ]
  },
  {
   "cell_type": "code",
   "execution_count": 48,
   "metadata": {
    "collapsed": true
   },
   "outputs": [
    {
     "name": "stdout",
     "output_type": "stream",
     "text": [
      "--------------------\n",
      "job : tea\n",
      "age : 25\n",
      "phone : 01012341234\n",
      "--------------------\n"
     ]
    }
   ],
   "source": [
    "biz. detail_info()"
   ]
  },
  {
   "cell_type": "code",
   "execution_count": 49,
   "metadata": {},
   "outputs": [],
   "source": [
    "biz2 = BusinessCard() # 인스턴스생성 = 클래스 복사"
   ]
  },
  {
   "cell_type": "code",
   "execution_count": 51,
   "metadata": {
    "collapsed": true
   },
   "outputs": [
    {
     "ename": "AttributeError",
     "evalue": "'BusinessCard' object has no attribute 'name'",
     "output_type": "error",
     "traceback": [
      "\u001b[1;31m---------------------------------------------------------------------------\u001b[0m",
      "\u001b[1;31mAttributeError\u001b[0m                            Traceback (most recent call last)",
      "\u001b[1;32m<ipython-input-51-467343fc69bc>\u001b[0m in \u001b[0;36m<module>\u001b[1;34m\u001b[0m\n\u001b[1;32m----> 1\u001b[1;33m \u001b[0mbiz2\u001b[0m\u001b[1;33m.\u001b[0m \u001b[0mBusinessCard\u001b[0m\u001b[1;33m(\u001b[0m\u001b[1;33m)\u001b[0m  \u001b[1;31m# error : 클래스 내에 변수에 값을 입력하지 않고 출력했기 때문\u001b[0m\u001b[1;33m\u001b[0m\u001b[1;33m\u001b[0m\u001b[0m\n\u001b[0m",
      "\u001b[1;32m<ipython-input-40-aa7a5e3b625b>\u001b[0m in \u001b[0;36mBusinessCard\u001b[1;34m(self)\u001b[0m\n\u001b[0;32m     15\u001b[0m \u001b[0mEmail\u001b[0m \u001b[1;33m:\u001b[0m \u001b[1;33m{\u001b[0m\u001b[1;33m}\u001b[0m\u001b[1;33m\u001b[0m\u001b[1;33m\u001b[0m\u001b[0m\n\u001b[0;32m     16\u001b[0m \u001b[0mAddress\u001b[0m \u001b[1;33m:\u001b[0m \u001b[1;33m{\u001b[0m\u001b[1;33m}\u001b[0m\u001b[1;33m\u001b[0m\u001b[1;33m\u001b[0m\u001b[0m\n\u001b[1;32m---> 17\u001b[1;33m --------------------'''.format(self.name, self.email, self.address))\n\u001b[0m\u001b[0;32m     18\u001b[0m \u001b[1;33m\u001b[0m\u001b[0m\n\u001b[0;32m     19\u001b[0m     \u001b[1;32mdef\u001b[0m \u001b[0mdetail_info\u001b[0m\u001b[1;33m(\u001b[0m\u001b[0mself\u001b[0m\u001b[1;33m)\u001b[0m \u001b[1;33m:\u001b[0m\u001b[1;33m\u001b[0m\u001b[1;33m\u001b[0m\u001b[0m\n",
      "\u001b[1;31mAttributeError\u001b[0m: 'BusinessCard' object has no attribute 'name'"
     ]
    }
   ],
   "source": [
    "biz2. BusinessCard()    # error : 클래스 내에 변수에 값을 입력하지 않고 출력했기 때문\n",
    "                        # 클래스 구조는 반드시 set_inf()로 변수값을 입력 후 다른 매소드 호출가능"
   ]
  },
  {
   "cell_type": "markdown",
   "metadata": {},
   "source": [
    "#### 생성자 함수 설정\n",
    "* __init__ : 함수 실행에 필요한 변수들 정의를 안하면 error를 일으키는 함수"
   ]
  },
  {
   "cell_type": "code",
   "execution_count": 53,
   "metadata": {},
   "outputs": [],
   "source": [
    "class BusinessCard:\n",
    "    \n",
    "    def __init__(self, name, email, address, job, age, phone) :  # self 를 붙여줘야 한다.(전체적으로)\n",
    "        '''\n",
    "        생성자 함수\n",
    "        클래스가 복사되어 인스턴스가 생성될 때, 무조건 실행되는 함수'''\n",
    "        self.name = name\n",
    "        self.email = email\n",
    "        self.address = address\n",
    "\n",
    "        self.job = job\n",
    "        self.age = age\n",
    "        self.phone = phone\n",
    "\n",
    "    def BusinessCard(self) :\n",
    "        print('''--------------------\n",
    "Name : {}\n",
    "Email : {}\n",
    "Address : {}\n",
    "--------------------'''.format(self.name, self.email, self.address))\n",
    "        \n",
    "    def detail_info(self) :\n",
    "        print('''--------------------\n",
    "job : {}\n",
    "age : {}\n",
    "phone : {}\n",
    "--------------------'''.format(self.job, self.age, self.phone))\n"
   ]
  },
  {
   "cell_type": "code",
   "execution_count": 55,
   "metadata": {
    "collapsed": true
   },
   "outputs": [
    {
     "ename": "TypeError",
     "evalue": "__init__() missing 6 required positional arguments: 'name', 'email', 'address', 'job', 'age', and 'phone'",
     "output_type": "error",
     "traceback": [
      "\u001b[1;31m---------------------------------------------------------------------------\u001b[0m",
      "\u001b[1;31mTypeError\u001b[0m                                 Traceback (most recent call last)",
      "\u001b[1;32m<ipython-input-55-1f21f9a49dfd>\u001b[0m in \u001b[0;36m<module>\u001b[1;34m\u001b[0m\n\u001b[1;32m----> 1\u001b[1;33m \u001b[0mbiz\u001b[0m \u001b[1;33m=\u001b[0m \u001b[0mBusinessCard\u001b[0m\u001b[1;33m(\u001b[0m\u001b[1;33m)\u001b[0m   \u001b[1;31m# error = : init()함수가 실행되면서 6개 매개변수를 필요로 함.\u001b[0m\u001b[1;33m\u001b[0m\u001b[1;33m\u001b[0m\u001b[0m\n\u001b[0m",
      "\u001b[1;31mTypeError\u001b[0m: __init__() missing 6 required positional arguments: 'name', 'email', 'address', 'job', 'age', and 'phone'"
     ]
    }
   ],
   "source": [
    "biz = BusinessCard()   # error = : init()함수가 실행되면서 6개 매개변수를 필요로 함."
   ]
  },
  {
   "cell_type": "code",
   "execution_count": 57,
   "metadata": {},
   "outputs": [],
   "source": [
    "# 인스턴스 생성하면서 동시 init()함수가 실행됨 - init()가 필요로 하는 매개변수 동시전달\n",
    "biz = BusinessCard('Kim','kim@gmail.com','ky','dancer', 21, '01012121212')"
   ]
  },
  {
   "cell_type": "code",
   "execution_count": 58,
   "metadata": {
    "scrolled": true
   },
   "outputs": [
    {
     "name": "stdout",
     "output_type": "stream",
     "text": [
      "--------------------\n",
      "Name : Kim\n",
      "Email : kim@gmail.com\n",
      "Address : ky\n",
      "--------------------\n"
     ]
    }
   ],
   "source": [
    "biz. BusinessCard()"
   ]
  },
  {
   "cell_type": "code",
   "execution_count": 59,
   "metadata": {},
   "outputs": [
    {
     "name": "stdout",
     "output_type": "stream",
     "text": [
      "--------------------\n",
      "job : dancer\n",
      "age : 21\n",
      "phone : 01012121212\n",
      "--------------------\n"
     ]
    }
   ],
   "source": [
    "biz. detail_info()"
   ]
  },
  {
   "cell_type": "code",
   "execution_count": 60,
   "metadata": {},
   "outputs": [
    {
     "data": {
      "text/plain": [
       "'Kim'"
      ]
     },
     "execution_count": 60,
     "metadata": {},
     "output_type": "execute_result"
    }
   ],
   "source": [
    "biz.name"
   ]
  },
  {
   "cell_type": "markdown",
   "metadata": {},
   "source": [
    "#### class \n",
    "* 매서드(함수) - 원의 면적 계산 함수, 원의 둘레길이를 계산하는 함수\n",
    "* 속성(변수) - 반지름, pi(3.14)\n",
    "* 클래스 변수(인스턴트 간 공유)와 인스턴스 변수(개별 인스턴스가 구별, self)"
   ]
  },
  {
   "cell_type": "markdown",
   "metadata": {},
   "source": [
    "####  self\n",
    "* 각각의 정의값이 다른 부분(인스턴트 변수)에 붙임\n",
    "* self부분에 각 class별 이름이 붙어 별도의 값 지정됨"
   ]
  },
  {
   "cell_type": "code",
   "execution_count": 70,
   "metadata": {},
   "outputs": [],
   "source": [
    "class circle : \n",
    "    \n",
    "    pi = 3.14   # 클래스변수(self 안붙임) : 모든 인스턴스 공유되는 변수\n",
    "    \n",
    "    def __init__(self, radius):  # 생성자 함수 \n",
    "        self. radius = radius    # 인스턴트 변수(self 붙잉) - 각각의 인스턴스 내에서 공유되는 변수\n",
    "        \n",
    "        # self - 각각의 인스턴스의 메모리 주소를 가리킨다.\n",
    "        \n",
    "    def circle_area(self) :\n",
    "        return (self. radius**2) * circle.pi\n",
    "    \n",
    "    def circle_perimeter(self) :\n",
    "        return (self. radius*2) * circle.pi"
   ]
  },
  {
   "cell_type": "code",
   "execution_count": 66,
   "metadata": {
    "collapsed": true
   },
   "outputs": [
    {
     "ename": "TypeError",
     "evalue": "__init__() missing 1 required positional argument: 'radius'",
     "output_type": "error",
     "traceback": [
      "\u001b[1;31m---------------------------------------------------------------------------\u001b[0m",
      "\u001b[1;31mTypeError\u001b[0m                                 Traceback (most recent call last)",
      "\u001b[1;32m<ipython-input-66-09b9cb1fd0c3>\u001b[0m in \u001b[0;36m<module>\u001b[1;34m\u001b[0m\n\u001b[1;32m----> 1\u001b[1;33m \u001b[0mcir\u001b[0m \u001b[1;33m=\u001b[0m \u001b[0mcircle\u001b[0m\u001b[1;33m(\u001b[0m\u001b[1;33m)\u001b[0m  \u001b[1;31m# 인스턴스 생성(클래스 복사)\u001b[0m\u001b[1;33m\u001b[0m\u001b[1;33m\u001b[0m\u001b[0m\n\u001b[0m\u001b[0;32m      2\u001b[0m                 \u001b[1;31m# error - init사용, 값 미기입\u001b[0m\u001b[1;33m\u001b[0m\u001b[1;33m\u001b[0m\u001b[1;33m\u001b[0m\u001b[0m\n",
      "\u001b[1;31mTypeError\u001b[0m: __init__() missing 1 required positional argument: 'radius'"
     ]
    }
   ],
   "source": [
    "cir = circle()  # 인스턴스 생성(클래스 복사)\n",
    "                # error - init사용, 값 미기입"
   ]
  },
  {
   "cell_type": "code",
   "execution_count": 67,
   "metadata": {},
   "outputs": [],
   "source": [
    "cir = circle(3)"
   ]
  },
  {
   "cell_type": "code",
   "execution_count": 68,
   "metadata": {
    "collapsed": true
   },
   "outputs": [
    {
     "data": {
      "text/plain": [
       "28.26"
      ]
     },
     "execution_count": 68,
     "metadata": {},
     "output_type": "execute_result"
    }
   ],
   "source": [
    "cir. circle_area()"
   ]
  },
  {
   "cell_type": "code",
   "execution_count": 69,
   "metadata": {
    "collapsed": true
   },
   "outputs": [
    {
     "data": {
      "text/plain": [
       "18.84"
      ]
     },
     "execution_count": 69,
     "metadata": {},
     "output_type": "execute_result"
    }
   ],
   "source": [
    "cir. circle_perimeter()"
   ]
  },
  {
   "cell_type": "code",
   "execution_count": 71,
   "metadata": {},
   "outputs": [],
   "source": [
    "cir1 = circle(5)"
   ]
  },
  {
   "cell_type": "code",
   "execution_count": 72,
   "metadata": {
    "collapsed": true
   },
   "outputs": [
    {
     "data": {
      "text/plain": [
       "78.5"
      ]
     },
     "execution_count": 72,
     "metadata": {},
     "output_type": "execute_result"
    }
   ],
   "source": [
    "cir1.circle_area()"
   ]
  },
  {
   "cell_type": "code",
   "execution_count": 73,
   "metadata": {
    "collapsed": true
   },
   "outputs": [
    {
     "data": {
      "text/plain": [
       "31.400000000000002"
      ]
     },
     "execution_count": 73,
     "metadata": {},
     "output_type": "execute_result"
    }
   ],
   "source": [
    "cir1.circle_perimeter()"
   ]
  },
  {
   "cell_type": "code",
   "execution_count": 74,
   "metadata": {},
   "outputs": [],
   "source": [
    "cir2 = circle(7)"
   ]
  },
  {
   "cell_type": "code",
   "execution_count": 75,
   "metadata": {
    "collapsed": true
   },
   "outputs": [
    {
     "data": {
      "text/plain": [
       "153.86"
      ]
     },
     "execution_count": 75,
     "metadata": {},
     "output_type": "execute_result"
    }
   ],
   "source": [
    "cir2. circle_area()"
   ]
  },
  {
   "cell_type": "code",
   "execution_count": 76,
   "metadata": {
    "collapsed": true
   },
   "outputs": [
    {
     "data": {
      "text/plain": [
       "43.96"
      ]
     },
     "execution_count": 76,
     "metadata": {},
     "output_type": "execute_result"
    }
   ],
   "source": [
    "cir2.circle_perimeter()"
   ]
  },
  {
   "cell_type": "code",
   "execution_count": 77,
   "metadata": {},
   "outputs": [
    {
     "data": {
      "text/plain": [
       "3.14"
      ]
     },
     "execution_count": 77,
     "metadata": {},
     "output_type": "execute_result"
    }
   ],
   "source": [
    "cir.pi"
   ]
  },
  {
   "cell_type": "code",
   "execution_count": 78,
   "metadata": {},
   "outputs": [
    {
     "data": {
      "text/plain": [
       "3.14"
      ]
     },
     "execution_count": 78,
     "metadata": {},
     "output_type": "execute_result"
    }
   ],
   "source": [
    "cir1.pi"
   ]
  },
  {
   "cell_type": "code",
   "execution_count": 79,
   "metadata": {},
   "outputs": [
    {
     "data": {
      "text/plain": [
       "3.14"
      ]
     },
     "execution_count": 79,
     "metadata": {},
     "output_type": "execute_result"
    }
   ],
   "source": [
    "cir2.pi"
   ]
  },
  {
   "cell_type": "code",
   "execution_count": 80,
   "metadata": {},
   "outputs": [
    {
     "data": {
      "text/plain": [
       "3"
      ]
     },
     "execution_count": 80,
     "metadata": {},
     "output_type": "execute_result"
    }
   ],
   "source": [
    "cir.radius"
   ]
  },
  {
   "cell_type": "code",
   "execution_count": 81,
   "metadata": {},
   "outputs": [
    {
     "data": {
      "text/plain": [
       "5"
      ]
     },
     "execution_count": 81,
     "metadata": {},
     "output_type": "execute_result"
    }
   ],
   "source": [
    "cir1.radius"
   ]
  },
  {
   "cell_type": "code",
   "execution_count": 82,
   "metadata": {},
   "outputs": [
    {
     "data": {
      "text/plain": [
       "7"
      ]
     },
     "execution_count": 82,
     "metadata": {},
     "output_type": "execute_result"
    }
   ],
   "source": [
    "cir2.radius"
   ]
  },
  {
   "cell_type": "markdown",
   "metadata": {},
   "source": [
    "### 상속"
   ]
  },
  {
   "cell_type": "code",
   "execution_count": 83,
   "metadata": {},
   "outputs": [],
   "source": [
    "class Parent :\n",
    "    def can_sing(self) :\n",
    "        print('sing a song')"
   ]
  },
  {
   "cell_type": "code",
   "execution_count": 84,
   "metadata": {},
   "outputs": [
    {
     "name": "stdout",
     "output_type": "stream",
     "text": [
      "sing a song\n"
     ]
    }
   ],
   "source": [
    "a = Parent()\n",
    "a. can_sing()"
   ]
  },
  {
   "cell_type": "code",
   "execution_count": 85,
   "metadata": {},
   "outputs": [
    {
     "name": "stdout",
     "output_type": "stream",
     "text": [
      "sing a song\n"
     ]
    }
   ],
   "source": [
    "b = Parent()\n",
    "b.can_sing()"
   ]
  },
  {
   "cell_type": "code",
   "execution_count": 91,
   "metadata": {},
   "outputs": [],
   "source": [
    "class Child(Parent) :     # Parent class를 상속\n",
    "    pass                  # 정의값을 넣지않고 error가 나지않게 해주는 함수"
   ]
  },
  {
   "cell_type": "code",
   "execution_count": 92,
   "metadata": {},
   "outputs": [],
   "source": [
    "ch1 = Child()"
   ]
  },
  {
   "cell_type": "code",
   "execution_count": 95,
   "metadata": {},
   "outputs": [
    {
     "name": "stdout",
     "output_type": "stream",
     "text": [
      "sing a song\n"
     ]
    }
   ],
   "source": [
    "ch1.can_sing()           # Parent class에서 상속해 옴."
   ]
  },
  {
   "cell_type": "code",
   "execution_count": 98,
   "metadata": {},
   "outputs": [],
   "source": [
    "class Child1(Parent) :   # Parent class 상속 \n",
    "    def can_dance(self):  # 자신의 메소드\n",
    "        print('can dance')"
   ]
  },
  {
   "cell_type": "code",
   "execution_count": 100,
   "metadata": {},
   "outputs": [],
   "source": [
    "chi2 = Child1()"
   ]
  },
  {
   "cell_type": "code",
   "execution_count": 101,
   "metadata": {},
   "outputs": [
    {
     "name": "stdout",
     "output_type": "stream",
     "text": [
      "sing a song\n"
     ]
    }
   ],
   "source": [
    "chi2.can_sing()"
   ]
  },
  {
   "cell_type": "code",
   "execution_count": 102,
   "metadata": {},
   "outputs": [
    {
     "name": "stdout",
     "output_type": "stream",
     "text": [
      "can dance\n"
     ]
    }
   ],
   "source": [
    "chi2.can_dance()"
   ]
  },
  {
   "cell_type": "markdown",
   "metadata": {},
   "source": [
    "####  class (실습)\n",
    "* 임의의 정수 2개를 인스턴스 변수로 가지고 4칙연산 메서드 4개를 가진 클래스를 만드시오(+, -, *, /)"
   ]
  },
  {
   "cell_type": "code",
   "execution_count": 110,
   "metadata": {},
   "outputs": [],
   "source": [
    "class Math_1() :\n",
    "    def __init__ (self, a, b) :\n",
    "        self. a = a \n",
    "        self. b = b\n",
    "    \n",
    "    def plus_ex(self) :\n",
    "        return self. a + self. b\n",
    "    \n",
    "    def minus_ex(self) :\n",
    "        return self. a - self. b\n",
    "    \n",
    "    def time_ex(self) :\n",
    "        return self. a * self. b\n",
    "    \n",
    "    def divided_ex(self) :\n",
    "        return self. a / self. b"
   ]
  },
  {
   "cell_type": "code",
   "execution_count": 111,
   "metadata": {},
   "outputs": [],
   "source": [
    "num1 = Math_1(10,2)"
   ]
  },
  {
   "cell_type": "code",
   "execution_count": 112,
   "metadata": {
    "collapsed": true
   },
   "outputs": [
    {
     "data": {
      "text/plain": [
       "12"
      ]
     },
     "execution_count": 112,
     "metadata": {},
     "output_type": "execute_result"
    }
   ],
   "source": [
    "num1. plus_ex()"
   ]
  },
  {
   "cell_type": "code",
   "execution_count": 113,
   "metadata": {
    "collapsed": true
   },
   "outputs": [
    {
     "data": {
      "text/plain": [
       "8"
      ]
     },
     "execution_count": 113,
     "metadata": {},
     "output_type": "execute_result"
    }
   ],
   "source": [
    "num1.minus_ex()"
   ]
  },
  {
   "cell_type": "code",
   "execution_count": 114,
   "metadata": {
    "collapsed": true
   },
   "outputs": [
    {
     "data": {
      "text/plain": [
       "20"
      ]
     },
     "execution_count": 114,
     "metadata": {},
     "output_type": "execute_result"
    }
   ],
   "source": [
    "num1.time_ex()"
   ]
  },
  {
   "cell_type": "code",
   "execution_count": 115,
   "metadata": {
    "collapsed": true
   },
   "outputs": [
    {
     "data": {
      "text/plain": [
       "5.0"
      ]
     },
     "execution_count": 115,
     "metadata": {},
     "output_type": "execute_result"
    }
   ],
   "source": [
    "num1.divided_ex()"
   ]
  },
  {
   "cell_type": "code",
   "execution_count": 130,
   "metadata": {},
   "outputs": [],
   "source": [
    "class Fourcal(Math_1):        # 상속예제\n",
    "    def pow(self) :\n",
    "        return self.a**self.b"
   ]
  },
  {
   "cell_type": "code",
   "execution_count": 131,
   "metadata": {},
   "outputs": [],
   "source": [
    "cal1 = Fourcal(2,4)"
   ]
  },
  {
   "cell_type": "code",
   "execution_count": 132,
   "metadata": {},
   "outputs": [
    {
     "data": {
      "text/plain": [
       "16"
      ]
     },
     "execution_count": 132,
     "metadata": {},
     "output_type": "execute_result"
    }
   ],
   "source": [
    "cal1.pow()"
   ]
  },
  {
   "cell_type": "code",
   "execution_count": 133,
   "metadata": {},
   "outputs": [
    {
     "data": {
      "text/plain": [
       "6"
      ]
     },
     "execution_count": 133,
     "metadata": {},
     "output_type": "execute_result"
    }
   ],
   "source": [
    "cal1.plus_ex()"
   ]
  },
  {
   "cell_type": "code",
   "execution_count": 141,
   "metadata": {},
   "outputs": [],
   "source": [
    "class SafeFourCal(Math_1) :  # 상속을 받으면서 기존 메소드를 수정 => override\n",
    "    def divided_ex(self) : \n",
    "        if self.b == 0 :\n",
    "            return 0\n",
    "        else :\n",
    "            return seif. a / seif. b"
   ]
  },
  {
   "cell_type": "code",
   "execution_count": 142,
   "metadata": {},
   "outputs": [],
   "source": [
    "cal3 = SafeFourCal(2, 0)"
   ]
  },
  {
   "cell_type": "code",
   "execution_count": 143,
   "metadata": {},
   "outputs": [
    {
     "data": {
      "text/plain": [
       "0"
      ]
     },
     "execution_count": 143,
     "metadata": {},
     "output_type": "execute_result"
    }
   ],
   "source": [
    "cal3. divided_ex()"
   ]
  },
  {
   "cell_type": "markdown",
   "metadata": {},
   "source": [
    "### class method"
   ]
  },
  {
   "cell_type": "markdown",
   "metadata": {},
   "source": [
    "* 객체를 만들어서 접근이 가능한 메소드 => 인스턴스 메소드, self를 매개변수로 가짐\n",
    "* 객체를 만들지 않고 접근이 가능한 메소드 => 클래스 메소드, cis를 매개변수로 가짐\n",
    "* 객체를 만들지 않고 접근이 가능한 메소드 => 스테틱 메소드, cis, self을 받지 않음\n",
    "* \n",
    "* 클래스 메소드 : 클래스 변수를 사용, 인턴스 변수 사용 못 함\n",
    "* 스태틱 메소드 : cis없이 클래스 변수를 사용, 인스턴스 변수 처음 못 함\n"
   ]
  },
  {
   "cell_type": "code",
   "execution_count": 163,
   "metadata": {},
   "outputs": [],
   "source": [
    "class Sam :\n",
    "    data = 'python'    # 클래스 변수\n",
    "    \n",
    "    def __init__(self) :\n",
    "        self. data1 = 'korea'   # 인스턴스 변수\n",
    "        \n",
    "    def instance_method(self) :  # 매개변수 self를 가지는 메소드 : 인스턴스메소드\n",
    "        print('instance method : ' , self.data1)\n",
    "        \n",
    "    @classmethod\n",
    "    def class_method(cis):    # 매개변수 cis를 가지고, @classmethod : 클래스 메소드\n",
    "        print('class method :', cis.data)\n",
    "        \n",
    "    @staticmethod\n",
    "    def static_method():    # 매개변수 self, cis를 가지지 않고, @staticmthod : 스태틱매소드\n",
    "        print('static method : ', Sam.data)"
   ]
  },
  {
   "cell_type": "code",
   "execution_count": 168,
   "metadata": {},
   "outputs": [],
   "source": [
    "s = Sam()"
   ]
  },
  {
   "cell_type": "code",
   "execution_count": 165,
   "metadata": {},
   "outputs": [
    {
     "name": "stdout",
     "output_type": "stream",
     "text": [
      "instance method :  korea\n"
     ]
    }
   ],
   "source": [
    "s. instance_method()"
   ]
  },
  {
   "cell_type": "code",
   "execution_count": 166,
   "metadata": {},
   "outputs": [
    {
     "name": "stdout",
     "output_type": "stream",
     "text": [
      "class method : python\n"
     ]
    }
   ],
   "source": [
    "s.class_method()   # 클래스 메소드 : 인턴스로 접근이 가능"
   ]
  },
  {
   "cell_type": "code",
   "execution_count": 167,
   "metadata": {},
   "outputs": [
    {
     "name": "stdout",
     "output_type": "stream",
     "text": [
      "class method : python\n"
     ]
    }
   ],
   "source": [
    "Sam.class_method()   # 클래스 메소드 : 클래스 명으로도 접근이 가능"
   ]
  },
  {
   "cell_type": "code",
   "execution_count": 169,
   "metadata": {},
   "outputs": [
    {
     "ename": "TypeError",
     "evalue": "instance_method() missing 1 required positional argument: 'self'",
     "output_type": "error",
     "traceback": [
      "\u001b[1;31m---------------------------------------------------------------------------\u001b[0m",
      "\u001b[1;31mTypeError\u001b[0m                                 Traceback (most recent call last)",
      "\u001b[1;32m<ipython-input-169-684dc7c59321>\u001b[0m in \u001b[0;36m<module>\u001b[1;34m\u001b[0m\n\u001b[1;32m----> 1\u001b[1;33m \u001b[0mSam\u001b[0m\u001b[1;33m.\u001b[0m\u001b[0minstance_method\u001b[0m\u001b[1;33m(\u001b[0m\u001b[1;33m)\u001b[0m    \u001b[1;31m# 인스턴스 메소드 : 인스턴스로만 접근이 가능\u001b[0m\u001b[1;33m\u001b[0m\u001b[1;33m\u001b[0m\u001b[0m\n\u001b[0m",
      "\u001b[1;31mTypeError\u001b[0m: instance_method() missing 1 required positional argument: 'self'"
     ]
    }
   ],
   "source": [
    "Sam.instance_method()    # 인스턴스 메소드 : 인스턴스로만 접근이 가능"
   ]
  },
  {
   "cell_type": "code",
   "execution_count": 162,
   "metadata": {},
   "outputs": [
    {
     "name": "stdout",
     "output_type": "stream",
     "text": [
      "static method :  python\n",
      "static method :  python\n"
     ]
    }
   ],
   "source": [
    "s.static_method()  # 스테틱 메소드 : 인스턴스로도 접근이 가능\n",
    "Sam.static_method()   # 스테틱 메소드 : 클래스로도 접근이 가능"
   ]
  },
  {
   "cell_type": "code",
   "execution_count": null,
   "metadata": {},
   "outputs": [],
   "source": []
  },
  {
   "cell_type": "code",
   "execution_count": null,
   "metadata": {},
   "outputs": [],
   "source": []
  },
  {
   "cell_type": "code",
   "execution_count": null,
   "metadata": {},
   "outputs": [],
   "source": []
  },
  {
   "cell_type": "code",
   "execution_count": null,
   "metadata": {},
   "outputs": [],
   "source": []
  },
  {
   "cell_type": "code",
   "execution_count": null,
   "metadata": {},
   "outputs": [],
   "source": []
  },
  {
   "cell_type": "code",
   "execution_count": null,
   "metadata": {},
   "outputs": [],
   "source": []
  },
  {
   "cell_type": "code",
   "execution_count": null,
   "metadata": {},
   "outputs": [],
   "source": []
  }
 ],
 "metadata": {
  "kernelspec": {
   "display_name": "Python 3",
   "language": "python",
   "name": "python3"
  },
  "language_info": {
   "codemirror_mode": {
    "name": "ipython",
    "version": 3
   },
   "file_extension": ".py",
   "mimetype": "text/x-python",
   "name": "python",
   "nbconvert_exporter": "python",
   "pygments_lexer": "ipython3",
   "version": "3.8.3"
  }
 },
 "nbformat": 4,
 "nbformat_minor": 4
}
