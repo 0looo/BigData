{
 "cells": [
  {
   "cell_type": "markdown",
   "metadata": {},
   "source": [
    "### 천단위 구분자 찍기 코드\n",
    "* 임의의 수를 입력받은 후 천단위 구분자 ','를 찍어서 출력하는 코드\n",
    "* ex) 1234567 => 1,234,567"
   ]
  },
  {
   "cell_type": "code",
   "execution_count": 34,
   "metadata": {},
   "outputs": [
    {
     "name": "stdout",
     "output_type": "stream",
     "text": [
      "임의의 숫자를 입력하세요 : 123456789\n"
     ]
    },
    {
     "data": {
      "text/plain": [
       "'123,456,789'"
      ]
     },
     "execution_count": 34,
     "metadata": {},
     "output_type": "execute_result"
    }
   ],
   "source": [
    "num = input('임의의 숫자를 입력하세요 : ')   # 인터넷 검색\n",
    "\n",
    "number =  format(int(num), ',')\n",
    "number"
   ]
  },
  {
   "cell_type": "code",
   "execution_count": 52,
   "metadata": {},
   "outputs": [
    {
     "data": {
      "text/plain": [
       "'12,345,789.1234'"
      ]
     },
     "execution_count": 52,
     "metadata": {},
     "output_type": "execute_result"
    }
   ],
   "source": [
    "num = 12345789.1234\n",
    "format(num, ',')"
   ]
  },
  {
   "cell_type": "code",
   "execution_count": 35,
   "metadata": {},
   "outputs": [],
   "source": [
    "def thousand_separator():    # 강사답안\n",
    "    num = input('임의의 숫자를 입력하세요 : ')\n",
    "    num[::-1]\n",
    "    new_num = ''\n",
    "    \n",
    "    for i, n in enumerate(num[::-1]):\n",
    "        if (i%3 ==0) & (i !=len(num))&(i !=0) :\n",
    "            new_num += ','+n\n",
    "        else :\n",
    "            new_num += n\n",
    "    return new_num[::-1]           "
   ]
  },
  {
   "cell_type": "code",
   "execution_count": 36,
   "metadata": {
    "scrolled": true
   },
   "outputs": [
    {
     "name": "stdout",
     "output_type": "stream",
     "text": [
      "임의의 숫자를 입력하세요 : 123456789\n"
     ]
    },
    {
     "data": {
      "text/plain": [
       "'123,456,789'"
      ]
     },
     "execution_count": 36,
     "metadata": {},
     "output_type": "execute_result"
    }
   ],
   "source": [
    "thousand_separator()"
   ]
  },
  {
   "cell_type": "markdown",
   "metadata": {},
   "source": [
    "#### ex문제  (url에서 필요한 요소를 dice로 저장)\n",
    "url = 'https://news.naver.com/main/read.nhn?mode=LSD&mid=shm&sid1=105&oid=028&aid=003'\n",
    "\n",
    "D = {'mode' : 'LSD', 'mid': 'shm', 'sid1':105, 'oid' : '028', 'aid' : '003'}"
   ]
  },
  {
   "cell_type": "code",
   "execution_count": 54,
   "metadata": {},
   "outputs": [],
   "source": [
    "url = 'https://news.naver.com/main/read.nhn?mode=LSD&mid=shm&sid1=105&oid=028&aid=003'"
   ]
  },
  {
   "cell_type": "code",
   "execution_count": 55,
   "metadata": {},
   "outputs": [
    {
     "data": {
      "text/plain": [
       "{'mode': 'LSD', 'mid': 'shm', 'sid1': '105', 'oid': '028', 'aid': '003'}"
      ]
     },
     "execution_count": 55,
     "metadata": {},
     "output_type": "execute_result"
    }
   ],
   "source": [
    "D = {}\n",
    "a = url.split('mode')\n",
    "b = url.split('mid')\n",
    "c = url.split('sid1')\n",
    "d = url.split('oid')\n",
    "e = url.split('aid')\n",
    "D = {'mode' : a[1][1:4], 'mid': b[1][1:4], 'sid1':c[1][1:4], 'oid' : d[1][1:4], 'aid' : e[1][1:4]}\n",
    "D"
   ]
  },
  {
   "cell_type": "code",
   "execution_count": 56,
   "metadata": {},
   "outputs": [
    {
     "data": {
      "text/plain": [
       "{'mode': 'LSD', 'mid': 'shm', 'sid1': '105', 'oid': '028', 'aid': '003'}"
      ]
     },
     "execution_count": 56,
     "metadata": {},
     "output_type": "execute_result"
    }
   ],
   "source": [
    "d = {}   #  강사답안\n",
    "for i in url.split('?')[1].split('&') :\n",
    "    k, v = i.split('=')\n",
    "    d[k] = v\n",
    "d"
   ]
  },
  {
   "cell_type": "markdown",
   "metadata": {},
   "source": [
    "#### 'poem.txt'을 열어서 각각의 문자가 몇 개 들어있는지 dict로 저장"
   ]
  },
  {
   "cell_type": "code",
   "execution_count": 108,
   "metadata": {
    "collapsed": true
   },
   "outputs": [
    {
     "data": {
      "text/plain": [
       "{'별': 9,\n",
       " '헤': 3,\n",
       " '는': 7,\n",
       " '밤': 2,\n",
       " '계': 1,\n",
       " '절': 1,\n",
       " '이': 9,\n",
       " '지': 3,\n",
       " '나': 10,\n",
       " '가': 5,\n",
       " '하': 9,\n",
       " '늘': 1,\n",
       " '에': 8,\n",
       " '을': 4,\n",
       " '로': 1,\n",
       " '득': 1,\n",
       " '차': 1,\n",
       " '있': 1,\n",
       " '습': 1,\n",
       " '니': 5,\n",
       " '다': 6,\n",
       " '.': 3,\n",
       " '아': 3,\n",
       " '무': 1,\n",
       " '걱': 1,\n",
       " '정': 1,\n",
       " '도': 1,\n",
       " '없': 1,\n",
       " '속': 2,\n",
       " '의': 2,\n",
       " '들': 1,\n",
       " '일': 2,\n",
       " '듯': 1,\n",
       " '합': 1,\n",
       " '슴': 1,\n",
       " '둘': 1,\n",
       " '새': 1,\n",
       " '겨': 1,\n",
       " '제': 1,\n",
       " '못': 1,\n",
       " '것': 1,\n",
       " '은': 3,\n",
       " '쉬': 1,\n",
       " '침': 1,\n",
       " '오': 1,\n",
       " '까': 3,\n",
       " '닭': 3,\n",
       " '요': 2,\n",
       " ',': 3,\n",
       " '내': 1,\n",
       " '남': 1,\n",
       " '직': 1,\n",
       " '청': 1,\n",
       " '춘': 1,\n",
       " '않': 1,\n",
       " '입': 1,\n",
       " '추': 1,\n",
       " '억': 1,\n",
       " '과': 4,\n",
       " '사': 1,\n",
       " '랑': 1,\n",
       " '쓸': 2,\n",
       " '함': 1,\n",
       " '동': 1,\n",
       " '경': 1,\n",
       " '시': 1,\n",
       " '와': 1,\n",
       " '어': 2,\n",
       " '머': 2}"
      ]
     },
     "execution_count": 108,
     "metadata": {},
     "output_type": "execute_result"
    }
   ],
   "source": [
    "with open('poem.txt','r') as f :   # 강사답안\n",
    "    data = f.read()\n",
    "    d = {}\n",
    "    for c in data :\n",
    "        if c == ' ' or c== '\\n':\n",
    "            continue\n",
    "        elif c in d:\n",
    "            d[c] += 1\n",
    "            continue\n",
    "        else :\n",
    "            d[c] = 1\n",
    "d"
   ]
  },
  {
   "cell_type": "code",
   "execution_count": 103,
   "metadata": {
    "collapsed": true
   },
   "outputs": [
    {
     "data": {
      "text/plain": [
       "{'별': 9,\n",
       " '헤': 3,\n",
       " '는': 7,\n",
       " '밤': 2,\n",
       " '계': 1,\n",
       " '절': 1,\n",
       " '이': 9,\n",
       " '지': 3,\n",
       " '나': 10,\n",
       " '가': 5,\n",
       " '하': 9,\n",
       " '늘': 1,\n",
       " '에': 8,\n",
       " '을': 4,\n",
       " '로': 1,\n",
       " '득': 1,\n",
       " '차': 1,\n",
       " '있': 1,\n",
       " '습': 1,\n",
       " '니': 5,\n",
       " '다': 6,\n",
       " '.': 3,\n",
       " '아': 3,\n",
       " '무': 1,\n",
       " '걱': 1,\n",
       " '정': 1,\n",
       " '도': 1,\n",
       " '없': 1,\n",
       " '속': 2,\n",
       " '의': 2,\n",
       " '들': 1,\n",
       " '일': 2,\n",
       " '듯': 1,\n",
       " '합': 1,\n",
       " '슴': 1,\n",
       " '둘': 1,\n",
       " '새': 1,\n",
       " '겨': 1,\n",
       " '제': 1,\n",
       " '못': 1,\n",
       " '것': 1,\n",
       " '은': 3,\n",
       " '쉬': 1,\n",
       " '침': 1,\n",
       " '오': 1,\n",
       " '까': 3,\n",
       " '닭': 3,\n",
       " '요': 2,\n",
       " ',': 3,\n",
       " '내': 1,\n",
       " '남': 1,\n",
       " '직': 1,\n",
       " '청': 1,\n",
       " '춘': 1,\n",
       " '않': 1,\n",
       " '입': 1,\n",
       " '추': 1,\n",
       " '억': 1,\n",
       " '과': 4,\n",
       " '사': 1,\n",
       " '랑': 1,\n",
       " '쓸': 2,\n",
       " '함': 1,\n",
       " '동': 1,\n",
       " '경': 1,\n",
       " '시': 1,\n",
       " '와': 1,\n",
       " '어': 2,\n",
       " '머': 2}"
      ]
     },
     "execution_count": 103,
     "metadata": {},
     "output_type": "execute_result"
    }
   ],
   "source": [
    "with open('poem.txt', 'r') as f:\n",
    "    D = {}\n",
    "    a = f.read()\n",
    "    for i in a :\n",
    "        if i == ' ' or i == '\\n' :\n",
    "            continue\n",
    "        else:\n",
    "            D[i] = a.count(i)\n",
    "D"
   ]
  },
  {
   "cell_type": "markdown",
   "metadata": {},
   "source": [
    "#### 'poem.txt'을 열어서 어절단위로 저장"
   ]
  },
  {
   "cell_type": "code",
   "execution_count": 175,
   "metadata": {
    "collapsed": true
   },
   "outputs": [
    {
     "name": "stdout",
     "output_type": "stream",
     "text": [
      "별 헤는 밤\n",
      "\n",
      "계절이 지나가는 하늘에는\n",
      "가을로 가득 차 있습니다.\n",
      "\n",
      "나는 아무 걱정도 없이\n",
      "가을 속의 별들을 다 헤일 듯합니다.\n",
      "\n",
      "가슴 속에 하나 둘 새겨지는 별을\n",
      "이제 다 못 헤는 것은\n",
      "쉬이 아침이 오는 까닭이요,\n",
      "내일 밤이 남은 까닭이요,\n",
      "아직 나의 청춘이 다하지 않은 까닭입니다.\n",
      "\n",
      "별 하나에 추억과\n",
      "별 하나에 사랑과\n",
      "별 하나에 쓸쓸함과\n",
      "별 하나에 동경과\n",
      "별 하나에 시와\n",
      "별 하나에 어머니, 어머니\n"
     ]
    }
   ],
   "source": [
    "with open('poem.txt','r') as f :   # 강사답안\n",
    "    data = f.read()\n",
    "    print(data)"
   ]
  },
  {
   "cell_type": "code",
   "execution_count": 111,
   "metadata": {
    "collapsed": true
   },
   "outputs": [
    {
     "data": {
      "text/plain": [
       "{'별': 7,\n",
       " '헤는': 2,\n",
       " '밤': 1,\n",
       " '계절이': 1,\n",
       " '지나가는': 1,\n",
       " '하늘에는': 1,\n",
       " '가을로': 1,\n",
       " '가득': 1,\n",
       " '차': 1,\n",
       " '있습니다.': 1,\n",
       " '나는': 1,\n",
       " '아무': 1,\n",
       " '걱정도': 1,\n",
       " '없이': 1,\n",
       " '가을': 1,\n",
       " '속의': 1,\n",
       " '별들을': 1,\n",
       " '다': 2,\n",
       " '헤일': 1,\n",
       " '듯합니다.': 1,\n",
       " '가슴': 1,\n",
       " '속에': 1,\n",
       " '하나': 1,\n",
       " '둘': 1,\n",
       " '새겨지는': 1,\n",
       " '별을': 1,\n",
       " '이제': 1,\n",
       " '못': 1,\n",
       " '것은': 1,\n",
       " '쉬이': 1,\n",
       " '아침이': 1,\n",
       " '오는': 1,\n",
       " '까닭이요,': 2,\n",
       " '내일': 1,\n",
       " '밤이': 1,\n",
       " '남은': 1,\n",
       " '아직': 1,\n",
       " '나의': 1,\n",
       " '청춘이': 1,\n",
       " '다하지': 1,\n",
       " '않은': 1,\n",
       " '까닭입니다.': 1,\n",
       " '하나에': 6,\n",
       " '추억과': 1,\n",
       " '사랑과': 1,\n",
       " '쓸쓸함과': 1,\n",
       " '동경과': 1,\n",
       " '시와': 1,\n",
       " '어머니,': 1,\n",
       " '어머니': 1}"
      ]
     },
     "execution_count": 111,
     "metadata": {},
     "output_type": "execute_result"
    }
   ],
   "source": [
    "with open('poem.txt','r') as f :   # 강사답안\n",
    "    data = f.read()\n",
    "    d = {}\n",
    "    for c in data.split() :\n",
    "        if c in d:\n",
    "            d[c] += 1\n",
    "            continue\n",
    "        else :\n",
    "            d[c] = 1\n",
    "d"
   ]
  },
  {
   "cell_type": "code",
   "execution_count": 176,
   "metadata": {
    "collapsed": true
   },
   "outputs": [
    {
     "data": {
      "text/plain": [
       "{'별': 9,\n",
       " '헤는': 2,\n",
       " '밤': 2,\n",
       " '계절이': 1,\n",
       " '지나가는': 1,\n",
       " '하늘에는': 1,\n",
       " '가을로': 1,\n",
       " '가득': 1,\n",
       " '차': 1,\n",
       " '있습니다.': 1,\n",
       " '나는': 1,\n",
       " '아무': 1,\n",
       " '걱정도': 1,\n",
       " '없이': 1,\n",
       " '가을': 2,\n",
       " '속의': 1,\n",
       " '별들을': 1,\n",
       " '다': 6,\n",
       " '헤일': 1,\n",
       " '듯합니다.': 1,\n",
       " '가슴': 1,\n",
       " '속에': 1,\n",
       " '하나': 7,\n",
       " '둘': 1,\n",
       " '새겨지는': 1,\n",
       " '별을': 1,\n",
       " '이제': 1,\n",
       " '못': 1,\n",
       " '것은': 1,\n",
       " '쉬이': 1,\n",
       " '아침이': 1,\n",
       " '오는': 1,\n",
       " '까닭이요,': 2,\n",
       " '내일': 1,\n",
       " '밤이': 1,\n",
       " '남은': 1,\n",
       " '아직': 1,\n",
       " '나의': 1,\n",
       " '청춘이': 1,\n",
       " '다하지': 1,\n",
       " '않은': 1,\n",
       " '까닭입니다.': 1,\n",
       " '하나에': 6,\n",
       " '추억과': 1,\n",
       " '사랑과': 1,\n",
       " '쓸쓸함과': 1,\n",
       " '동경과': 1,\n",
       " '시와': 1,\n",
       " '어머니,': 1,\n",
       " '어머니': 2}"
      ]
     },
     "execution_count": 176,
     "metadata": {},
     "output_type": "execute_result"
    }
   ],
   "source": [
    "with open('poem.txt', 'r') as f:   # 중복단어가 다른줄에 나올때 count값에 오류발생\n",
    "    D = {}\n",
    "    a = f.read()\n",
    "    for i in a.split() :\n",
    "        if i == ' ' or i == '\\n' :\n",
    "            continue\n",
    "        else:\n",
    "            D[i] = a.count(i)\n",
    "D"
   ]
  },
  {
   "cell_type": "code",
   "execution_count": 113,
   "metadata": {},
   "outputs": [
    {
     "data": {
      "text/plain": [
       "False"
      ]
     },
     "execution_count": 113,
     "metadata": {},
     "output_type": "execute_result"
    }
   ],
   "source": [
    "d == D"
   ]
  },
  {
   "cell_type": "markdown",
   "metadata": {},
   "source": [
    "####  텍스트 파일을 열어서 특정 단어가 몇 개 존재하는 지 출력\n",
    "* def word_count(file, word) : \n",
    "* 단, count를 사용하지 않는다"
   ]
  },
  {
   "cell_type": "code",
   "execution_count": 132,
   "metadata": {},
   "outputs": [],
   "source": [
    "def word_count(file, word):    # 강사답안\n",
    "    with open(file, encoding = 'ANSI') as f:\n",
    "        data = f.read()\n",
    "        count = 0\n",
    "        idx = data.find(word)\n",
    "        while idx != -1 :\n",
    "            count += 1\n",
    "            idx = data.find(word,idx+1)\n",
    "    return count"
   ]
  },
  {
   "cell_type": "code",
   "execution_count": 134,
   "metadata": {},
   "outputs": [
    {
     "data": {
      "text/plain": [
       "160"
      ]
     },
     "execution_count": 134,
     "metadata": {},
     "output_type": "execute_result"
    }
   ],
   "source": [
    "word_count('ex_txt1.txt', '부분')"
   ]
  },
  {
   "cell_type": "code",
   "execution_count": 127,
   "metadata": {},
   "outputs": [],
   "source": [
    "def word_count(file, word) :    # 실습답안 -> 문제점 : 옮긴이 앞뒤로 ' ' 구별되있어야 count됨.\n",
    "    with open(file,'r') as f :\n",
    "        a = f.read()\n",
    "        count = 0\n",
    "        for i in f.read() :\n",
    "            if a.find(word) != 0:\n",
    "                count += 1\n",
    "            else :\n",
    "                d[i] = 1\n",
    "    print(d[word])"
   ]
  },
  {
   "cell_type": "code",
   "execution_count": 129,
   "metadata": {},
   "outputs": [
    {
     "name": "stdout",
     "output_type": "stream",
     "text": [
      "2\n"
     ]
    }
   ],
   "source": [
    "word_count('ex_txt1.txt', '옮긴이')"
   ]
  },
  {
   "cell_type": "markdown",
   "metadata": {},
   "source": [
    "### 문자열에서 택스트를 수정, 삭제, 추가가 안 됨.\n",
    "* 단, replace 함수를 활용하면 가능"
   ]
  },
  {
   "cell_type": "code",
   "execution_count": 135,
   "metadata": {},
   "outputs": [
    {
     "data": {
      "text/plain": [
       "'자바은 재미있습니다..'"
      ]
     },
     "execution_count": 135,
     "metadata": {},
     "output_type": "execute_result"
    }
   ],
   "source": [
    "text = '파이썬은 재미있습니다..'\n",
    "text.replace('파이썬','자바')"
   ]
  },
  {
   "cell_type": "markdown",
   "metadata": {},
   "source": [
    "#### 텍스트 파일에서 특정 단어를 다른 단어로 수정해서 새로운 문서파일로 저장하는 코드를 작성하시오.\n",
    "* file = test.txt\n",
    "* old_word = input('바꿀 단어를 입력하세요. : ')\n",
    "* new_word = input('새로운 단어를 입력하세요. : ')\n",
    "* new_file = test_new.txt"
   ]
  },
  {
   "cell_type": "code",
   "execution_count": 169,
   "metadata": {},
   "outputs": [
    {
     "name": "stdout",
     "output_type": "stream",
     "text": [
      "바꿀 단어를 입력하세요. : 금요일\n",
      "새로운 단어를 입력하세요. : 화요일\n",
      "['문장을 변경합시다.\\n', '내일은 화요일\\n', '\\n', '오늘은 목요일\\n', '오늘도 4시간 남았다아아아아']\n"
     ]
    }
   ],
   "source": [
    "old_word = input('바꿀 단어를 입력하세요. : ')      # 내 답안\n",
    "new_word = input('새로운 단어를 입력하세요. : ')\n",
    "with open('test.txt', 'r') as f :\n",
    "    txt1 = f.readlines()\n",
    "    txt = ''.join(txt1)\n",
    "new_txt = txt.replace(old_word, new_word)\n",
    "g = open('test_new.txt', 'w')\n",
    "g.write(new_txt)\n",
    "g = open('test_new.txt', 'r')\n",
    "print(g.readlines())\n",
    "g.close()"
   ]
  },
  {
   "cell_type": "code",
   "execution_count": 171,
   "metadata": {},
   "outputs": [
    {
     "name": "stdout",
     "output_type": "stream",
     "text": [
      "바꿀 단어를 입력하세요. : 금요일\n",
      "새로운 단어를 입력하세요. : 화요일\n",
      "문장을 변경합시다.\n",
      "내일은 화요일\n",
      "\n",
      "오늘은 목요일\n",
      "오늘도 4시간 남았다아아아아\n"
     ]
    }
   ],
   "source": [
    "old_word = input('바꿀 단어를 입력하세요. : ')   # 강사답안\n",
    "new_word = input('새로운 단어를 입력하세요. : ')\n",
    "\n",
    "with open('test.txt','r') as f :\n",
    "    with open('test_new.','w') as h:\n",
    "        data = f.read()\n",
    "        data1 = data.replace(old_word, new_word)\n",
    "        h.write(data1)\n",
    "        \n",
    "with open('test_new','r') as f:\n",
    "    data = f.read()\n",
    "    print(data)"
   ]
  },
  {
   "cell_type": "code",
   "execution_count": null,
   "metadata": {},
   "outputs": [],
   "source": []
  }
 ],
 "metadata": {
  "kernelspec": {
   "display_name": "Python 3",
   "language": "python",
   "name": "python3"
  },
  "language_info": {
   "codemirror_mode": {
    "name": "ipython",
    "version": 3
   },
   "file_extension": ".py",
   "mimetype": "text/x-python",
   "name": "python",
   "nbconvert_exporter": "python",
   "pygments_lexer": "ipython3",
   "version": "3.8.3"
  }
 },
 "nbformat": 4,
 "nbformat_minor": 4
}
