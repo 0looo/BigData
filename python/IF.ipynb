{
 "cells": [
  {
   "cell_type": "code",
   "execution_count": 8,
   "metadata": {},
   "outputs": [],
   "source": [
    "password = 1234"
   ]
  },
  {
   "cell_type": "code",
   "execution_count": 10,
   "metadata": {},
   "outputs": [
    {
     "name": "stdout",
     "output_type": "stream",
     "text": [
      "비밀번호를 입력하세요 : 1234\n",
      "환영합니다. 어서오세요.\n"
     ]
    }
   ],
   "source": [
    "# 패스워드를 입력받은 후 패스워드가 일치하면 '환영합니다. 어서오세요',\n",
    "# 일치하지 않으면 '패스워드가 일치하지 않습니다.' 출력\n",
    "\n",
    "sec1 = int(input('비밀번호를 입력하세요 : '))\n",
    "if password == sec1:\n",
    "    print('환영합니다. 어서오세요.')\n",
    "else :\n",
    "    print('패스워드가 일치하지 않습니다.')"
   ]
  },
  {
   "cell_type": "code",
   "execution_count": 12,
   "metadata": {},
   "outputs": [
    {
     "name": "stdout",
     "output_type": "stream",
     "text": [
      "임의의 점수를 입력하세요. = 10\n",
      "임의의 점수를 입력하세요. = 2\n",
      "'a'가 'b'보다 큽니다.\n"
     ]
    }
   ],
   "source": [
    "# 임의의 두 점수를 입력받은 후, 어느 값이 더 큰 값인지 아니면 값이 같은지를 출력하는 \n",
    "# 'a'와 'b'는 같습니다.\n",
    "# 'a'가 'b'보다 큽니다.\n",
    "# 'b'가 'a'보다 큽니다.\n",
    "\n",
    "a = int(input('임의의 점수를 입력하세요. = '))\n",
    "b = int(input('임의의 점수를 입력하세요. = '))\n",
    "\n",
    "if a == b :\n",
    "    print(\"'a'와 'b'는 같습니다.\")\n",
    "elif a > b :\n",
    "    print(\"'a'가 'b'보다 큽니다.\")\n",
    "else :\n",
    "    print(\"b'가 'a'보다 큽니다.\")"
   ]
  },
  {
   "cell_type": "code",
   "execution_count": 16,
   "metadata": {},
   "outputs": [
    {
     "name": "stdout",
     "output_type": "stream",
     "text": [
      "임의의 정수를 입력하세요 : 4\n",
      "짝수입니다.\n"
     ]
    }
   ],
   "source": [
    "# 임의의 정수를 받아서 짝수이면 '짝수입니다.', 홀수이면 '홀수입니다.'\n",
    "\n",
    "num1 = int(input('임의의 정수를 입력하세요 : '))\n",
    "\n",
    "if num1%2 == 0 :\n",
    "    print('짝수입니다.')\n",
    "else :\n",
    "    print('홀수입니다.')"
   ]
  },
  {
   "cell_type": "code",
   "execution_count": 55,
   "metadata": {},
   "outputs": [
    {
     "name": "stdout",
     "output_type": "stream",
     "text": [
      "주민번호 앞 6자리와 뒤 1자리를 입력하세요. : 950000-1\n",
      "당신의 나이는 25이고, 성별은 남자입니다.\n"
     ]
    }
   ],
   "source": [
    "# 주민번호 앞 6자리와 뒤 1자리를 입력받은 후\n",
    "# => '당신의 나이는 **이고, 성별은 **입니다.'\n",
    "\n",
    "str1 = (input('주민번호 앞 6자리와 뒤 1자리를 입력하세요. : '))\n",
    "\n",
    "if int(str1[0]) == 0:\n",
    "    age1 = 2020 - int('20'+ str1[0:2])\n",
    "else :\n",
    "    age1 = 2020 - int('19'+ str1[0:2])\n",
    "\n",
    "num2 = int(str1[-1])\n",
    "\n",
    "if num2 == 1 or 3 :\n",
    "    s1 = '남자'\n",
    "else :\n",
    "    s1 = '여자'\n",
    "\n",
    "print('당신의 나이는 {}이고, 성별은 {}입니다.'.format(age1, s1))"
   ]
  },
  {
   "cell_type": "code",
   "execution_count": 49,
   "metadata": {},
   "outputs": [
    {
     "name": "stdout",
     "output_type": "stream",
     "text": [
      "나이를 입력해주세요 : 19\n",
      "\"나이가 너무 어립니다.\"\n"
     ]
    }
   ],
   "source": [
    "# 나이를 입력받은 후,\n",
    "# 20세 미만이면 => \"나이가 너무 어립니다.\"\n",
    "# 20세 이상 50세 미만 => \"적합한 나이입니다.\"\n",
    "# 50세 초과이면 => \"나이가 초과되셨습니다.\"\n",
    "\n",
    "num1 = int(input(\"나이를 입력해주세요 : \"))\n",
    "\n",
    "if num1 < 20 :\n",
    "    print('\"나이가 너무 어립니다.\"')\n",
    "\n",
    "elif num1 < 50 :\n",
    "    print('\"적합한 나이입니다.\"')\n",
    "\n",
    "else :\n",
    "    print('\"나이가 초과되셨습니다.\"')"
   ]
  },
  {
   "cell_type": "code",
   "execution_count": 57,
   "metadata": {},
   "outputs": [
    {
     "name": "stdout",
     "output_type": "stream",
     "text": [
      "점수를 입력하세요. : 90\n",
      "'A'학점입니다.\n"
     ]
    }
   ],
   "source": [
    "# 정수를 입력받은 후,\n",
    "# 90점 이상이면 \"'A'학점입니다.\"를 출력\n",
    "# 80점 이상 90점 미만 \"'B'학점입니다.\"를 출력\n",
    "# 70점 이상 80점 미만 \"'C'학점입니다.\"를 출력\n",
    "# 70점 미만\"'D'학점입니다.\"를 출력\n",
    "\n",
    "score1 = int(input('점수를 입력하세요. : '))\n",
    "\n",
    "if score1 >= 90 :\n",
    "    print(\"'A'학점입니다.\")\n",
    "elif score1 >= 80 :\n",
    "    print(\"'B'학점입니다.\")\n",
    "elif score1 >= 70 :\n",
    "    print(\"'C'학점입니다.\")\n",
    "else :\n",
    "    print(\"'D'학점입니다.\")\n"
   ]
  },
  {
   "cell_type": "code",
   "execution_count": 76,
   "metadata": {},
   "outputs": [
    {
     "name": "stdout",
     "output_type": "stream",
     "text": [
      "이름을 입력해 주세요. : kim\n",
      "{'mary': 95, 'sams': 75, 'amy': 87, 'bob': 65, 'kim': 50}\n",
      "점수는 =  50\n"
     ]
    }
   ],
   "source": [
    "name = { 'mary' : 95, 'sams' : 75, 'amy' : 87, 'bob' : 65 }\n",
    "# 이름을 입력 받은 후, 이름이 있으면 점수를 출력하고, 이름이 없으면 50점을 name dict에 추가\n",
    "\n",
    "name1 = input('이름을 입력해 주세요. : ')\n",
    "\n",
    "if name1 in name :\n",
    "   print('점수는 = ',name[name1])\n",
    "\n",
    "else :\n",
    "    name[name1] = 50\n",
    "    print(name)\n",
    "    print('점수는 = ',name[name1])"
   ]
  },
  {
   "cell_type": "code",
   "execution_count": 70,
   "metadata": {},
   "outputs": [
    {
     "name": "stdout",
     "output_type": "stream",
     "text": [
      "이름을 입력해 주세요. : kim\n",
      "50\n"
     ]
    }
   ],
   "source": [
    "name = { 'marry' : 95, 'sams' : 75, 'amy' : 87, 'bob' : 65 }\n",
    "# 이름을 입력 받은 후, 이름이 있으면 점수를 출력하고, 이름이 없으면 50점을 name dict에 추가\n",
    "\n",
    "name1 = input('이름을 입력해 주세요. : ')\n",
    "\n",
    "print(name.setdefault(name1,50))"
   ]
  },
  {
   "cell_type": "code",
   "execution_count": 88,
   "metadata": {},
   "outputs": [
    {
     "name": "stdout",
     "output_type": "stream",
     "text": [
      "이름을 입력하세요 = kim\n",
      "\"이름이 없습니다.\"\n"
     ]
    }
   ],
   "source": [
    "name = { 'mary' : 95, 'sams' : 75, 'amy' : 87, 'bob' : 65 }\n",
    "# 임의의 이름을 입력 받은 후 name에 이름이 있으면서, 점수가 80점 이상이면 '합격입니다.' 출력\n",
    "# 80점 미만이면 '불합격입니다.' , 이름이 없으면, '이름이 없습니다.' 출력\n",
    "\n",
    "name1 = input('이름을 입력하세요 = ')\n",
    "\n",
    "if name1 in name :\n",
    "    if name[name1] >= 80 :\n",
    "        print('\"합격입니다.\"')\n",
    "    else :\n",
    "        print('\"불합격입니다.\"')\n",
    "else :\n",
    "    print('\"이름이 없습니다.\"')"
   ]
  },
  {
   "cell_type": "code",
   "execution_count": 93,
   "metadata": {},
   "outputs": [
    {
     "name": "stdout",
     "output_type": "stream",
     "text": [
      "mine => 가위, 바위, 보 중 에서 하나를 선택하세요 : 가위\n",
      "yours => 가위, 바위, 보 중 에서 하나를 선택하세요 : 바위\n",
      "지셨습니다.\n"
     ]
    }
   ],
   "source": [
    "# 가위, 바위, 보 게임..\n",
    "\n",
    "mine = input('mine => 가위, 바위, 보 중 에서 하나를 선택하세요 : ')\n",
    "yours = input('yours => 가위, 바위, 보 중 에서 하나를 선택하세요 : ')\n",
    "\n",
    "if mine == yours :\n",
    "    print('비겼습니다.')\n",
    "else :\n",
    "    if mine == '바위' :\n",
    "        if yours == '보' :\n",
    "            print('지셨습니다.')\n",
    "        else :\n",
    "            print('이겼습니다.')\n",
    "\n",
    "    if mine == '가위' :\n",
    "        if yours == '바위' :\n",
    "            print('지셨습니다.')\n",
    "        else :\n",
    "            print('이겼습니다.')\n",
    "\n",
    "    if mine == '보' :\n",
    "        if yours == '가위' :\n",
    "            print('지셨습니다.')\n",
    "        else :\n",
    "            print('이겼습니다.')"
   ]
  },
  {
   "cell_type": "code",
   "execution_count": null,
   "metadata": {},
   "outputs": [],
   "source": []
  }
 ],
 "metadata": {
  "kernelspec": {
   "display_name": "Python 3",
   "language": "python",
   "name": "python3"
  },
  "language_info": {
   "codemirror_mode": {
    "name": "ipython",
    "version": 3
   },
   "file_extension": ".py",
   "mimetype": "text/x-python",
   "name": "python",
   "nbconvert_exporter": "python",
   "pygments_lexer": "ipython3",
   "version": "3.8.3"
  }
 },
 "nbformat": 4,
 "nbformat_minor": 4
}
