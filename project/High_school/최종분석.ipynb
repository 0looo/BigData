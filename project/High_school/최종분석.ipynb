{
 "cells": [
  {
   "cell_type": "code",
   "execution_count": 2,
   "metadata": {},
   "outputs": [],
   "source": [
    "import pandas as pd\n",
    "import numpy as np\n",
    "import matplotlib.pyplot as plt\n",
    "import seaborn as sns\n",
    "import folium\n",
    "from folium.plugins import MarkerCluster"
   ]
  },
  {
   "cell_type": "code",
   "execution_count": 3,
   "metadata": {},
   "outputs": [],
   "source": [
    "import matplotlib as mpl\n",
    "import matplotlib.font_manager as fm\n",
    "mpl.rcParams['axes.unicode_minus']= False\n",
    "path = 'C:/Windows/Fonts/malgun.ttf'\n",
    "font_name = fm.FontProperties(fname = path, size = 50).get_name()\n",
    "plt.rc('font', family=font_name)"
   ]
  },
  {
   "cell_type": "code",
   "execution_count": 9,
   "metadata": {
    "scrolled": true
   },
   "outputs": [
    {
     "data": {
      "text/html": [
       "<div>\n",
       "<style scoped>\n",
       "    .dataframe tbody tr th:only-of-type {\n",
       "        vertical-align: middle;\n",
       "    }\n",
       "\n",
       "    .dataframe tbody tr th {\n",
       "        vertical-align: top;\n",
       "    }\n",
       "\n",
       "    .dataframe thead th {\n",
       "        text-align: right;\n",
       "    }\n",
       "</style>\n",
       "<table border=\"1\" class=\"dataframe\">\n",
       "  <thead>\n",
       "    <tr style=\"text-align: right;\">\n",
       "      <th></th>\n",
       "      <th>자치구</th>\n",
       "      <th>2013사업체수</th>\n",
       "      <th>2013종사자수</th>\n",
       "      <th>2014사업체수</th>\n",
       "      <th>2014종사자수</th>\n",
       "      <th>2015사업체수</th>\n",
       "      <th>2015종사자수</th>\n",
       "      <th>2016사업체수</th>\n",
       "      <th>2016종사자수</th>\n",
       "      <th>2017사업체수</th>\n",
       "      <th>...</th>\n",
       "      <th>2017(총합)</th>\n",
       "      <th>2018(정시)</th>\n",
       "      <th>2018(수시)</th>\n",
       "      <th>2018(총합)</th>\n",
       "      <th>2019(정시)</th>\n",
       "      <th>2019(수시)</th>\n",
       "      <th>2019(총합)</th>\n",
       "      <th>2020(정시)</th>\n",
       "      <th>2020(수시)</th>\n",
       "      <th>2020(총합)</th>\n",
       "    </tr>\n",
       "  </thead>\n",
       "  <tbody>\n",
       "    <tr>\n",
       "      <th>9</th>\n",
       "      <td>중구</td>\n",
       "      <td>510</td>\n",
       "      <td>7644</td>\n",
       "      <td>516</td>\n",
       "      <td>8270</td>\n",
       "      <td>508</td>\n",
       "      <td>9983</td>\n",
       "      <td>481</td>\n",
       "      <td>8849</td>\n",
       "      <td>454</td>\n",
       "      <td>...</td>\n",
       "      <td>NaN</td>\n",
       "      <td>NaN</td>\n",
       "      <td>NaN</td>\n",
       "      <td>NaN</td>\n",
       "      <td>NaN</td>\n",
       "      <td>NaN</td>\n",
       "      <td>NaN</td>\n",
       "      <td>NaN</td>\n",
       "      <td>NaN</td>\n",
       "      <td>NaN</td>\n",
       "    </tr>\n",
       "    <tr>\n",
       "      <th>10</th>\n",
       "      <td>중구</td>\n",
       "      <td>510</td>\n",
       "      <td>7644</td>\n",
       "      <td>516</td>\n",
       "      <td>8270</td>\n",
       "      <td>508</td>\n",
       "      <td>9983</td>\n",
       "      <td>481</td>\n",
       "      <td>8849</td>\n",
       "      <td>454</td>\n",
       "      <td>...</td>\n",
       "      <td>NaN</td>\n",
       "      <td>NaN</td>\n",
       "      <td>NaN</td>\n",
       "      <td>NaN</td>\n",
       "      <td>NaN</td>\n",
       "      <td>NaN</td>\n",
       "      <td>NaN</td>\n",
       "      <td>NaN</td>\n",
       "      <td>NaN</td>\n",
       "      <td>NaN</td>\n",
       "    </tr>\n",
       "    <tr>\n",
       "      <th>11</th>\n",
       "      <td>중구</td>\n",
       "      <td>510</td>\n",
       "      <td>7644</td>\n",
       "      <td>516</td>\n",
       "      <td>8270</td>\n",
       "      <td>508</td>\n",
       "      <td>9983</td>\n",
       "      <td>481</td>\n",
       "      <td>8849</td>\n",
       "      <td>454</td>\n",
       "      <td>...</td>\n",
       "      <td>NaN</td>\n",
       "      <td>NaN</td>\n",
       "      <td>NaN</td>\n",
       "      <td>NaN</td>\n",
       "      <td>NaN</td>\n",
       "      <td>NaN</td>\n",
       "      <td>NaN</td>\n",
       "      <td>NaN</td>\n",
       "      <td>NaN</td>\n",
       "      <td>NaN</td>\n",
       "    </tr>\n",
       "    <tr>\n",
       "      <th>12</th>\n",
       "      <td>중구</td>\n",
       "      <td>510</td>\n",
       "      <td>7644</td>\n",
       "      <td>516</td>\n",
       "      <td>8270</td>\n",
       "      <td>508</td>\n",
       "      <td>9983</td>\n",
       "      <td>481</td>\n",
       "      <td>8849</td>\n",
       "      <td>454</td>\n",
       "      <td>...</td>\n",
       "      <td>NaN</td>\n",
       "      <td>NaN</td>\n",
       "      <td>NaN</td>\n",
       "      <td>NaN</td>\n",
       "      <td>NaN</td>\n",
       "      <td>NaN</td>\n",
       "      <td>NaN</td>\n",
       "      <td>NaN</td>\n",
       "      <td>NaN</td>\n",
       "      <td>NaN</td>\n",
       "    </tr>\n",
       "    <tr>\n",
       "      <th>13</th>\n",
       "      <td>중구</td>\n",
       "      <td>510</td>\n",
       "      <td>7644</td>\n",
       "      <td>516</td>\n",
       "      <td>8270</td>\n",
       "      <td>508</td>\n",
       "      <td>9983</td>\n",
       "      <td>481</td>\n",
       "      <td>8849</td>\n",
       "      <td>454</td>\n",
       "      <td>...</td>\n",
       "      <td>32.0</td>\n",
       "      <td>NaN</td>\n",
       "      <td>NaN</td>\n",
       "      <td>NaN</td>\n",
       "      <td>NaN</td>\n",
       "      <td>NaN</td>\n",
       "      <td>NaN</td>\n",
       "      <td>NaN</td>\n",
       "      <td>NaN</td>\n",
       "      <td>NaN</td>\n",
       "    </tr>\n",
       "    <tr>\n",
       "      <th>...</th>\n",
       "      <td>...</td>\n",
       "      <td>...</td>\n",
       "      <td>...</td>\n",
       "      <td>...</td>\n",
       "      <td>...</td>\n",
       "      <td>...</td>\n",
       "      <td>...</td>\n",
       "      <td>...</td>\n",
       "      <td>...</td>\n",
       "      <td>...</td>\n",
       "      <td>...</td>\n",
       "      <td>...</td>\n",
       "      <td>...</td>\n",
       "      <td>...</td>\n",
       "      <td>...</td>\n",
       "      <td>...</td>\n",
       "      <td>...</td>\n",
       "      <td>...</td>\n",
       "      <td>...</td>\n",
       "      <td>...</td>\n",
       "      <td>...</td>\n",
       "    </tr>\n",
       "    <tr>\n",
       "      <th>140</th>\n",
       "      <td>강동구</td>\n",
       "      <td>1507</td>\n",
       "      <td>10387</td>\n",
       "      <td>1501</td>\n",
       "      <td>10690</td>\n",
       "      <td>1466</td>\n",
       "      <td>10736</td>\n",
       "      <td>1475</td>\n",
       "      <td>10803</td>\n",
       "      <td>1479</td>\n",
       "      <td>...</td>\n",
       "      <td>NaN</td>\n",
       "      <td>NaN</td>\n",
       "      <td>NaN</td>\n",
       "      <td>NaN</td>\n",
       "      <td>NaN</td>\n",
       "      <td>NaN</td>\n",
       "      <td>NaN</td>\n",
       "      <td>NaN</td>\n",
       "      <td>NaN</td>\n",
       "      <td>NaN</td>\n",
       "    </tr>\n",
       "    <tr>\n",
       "      <th>141</th>\n",
       "      <td>강동구</td>\n",
       "      <td>1507</td>\n",
       "      <td>10387</td>\n",
       "      <td>1501</td>\n",
       "      <td>10690</td>\n",
       "      <td>1466</td>\n",
       "      <td>10736</td>\n",
       "      <td>1475</td>\n",
       "      <td>10803</td>\n",
       "      <td>1479</td>\n",
       "      <td>...</td>\n",
       "      <td>36.0</td>\n",
       "      <td>NaN</td>\n",
       "      <td>NaN</td>\n",
       "      <td>NaN</td>\n",
       "      <td>NaN</td>\n",
       "      <td>NaN</td>\n",
       "      <td>NaN</td>\n",
       "      <td>NaN</td>\n",
       "      <td>NaN</td>\n",
       "      <td>NaN</td>\n",
       "    </tr>\n",
       "    <tr>\n",
       "      <th>142</th>\n",
       "      <td>강동구</td>\n",
       "      <td>1507</td>\n",
       "      <td>10387</td>\n",
       "      <td>1501</td>\n",
       "      <td>10690</td>\n",
       "      <td>1466</td>\n",
       "      <td>10736</td>\n",
       "      <td>1475</td>\n",
       "      <td>10803</td>\n",
       "      <td>1479</td>\n",
       "      <td>...</td>\n",
       "      <td>NaN</td>\n",
       "      <td>11.0</td>\n",
       "      <td>31.0</td>\n",
       "      <td>42.0</td>\n",
       "      <td>NaN</td>\n",
       "      <td>NaN</td>\n",
       "      <td>NaN</td>\n",
       "      <td>NaN</td>\n",
       "      <td>NaN</td>\n",
       "      <td>NaN</td>\n",
       "    </tr>\n",
       "    <tr>\n",
       "      <th>143</th>\n",
       "      <td>강동구</td>\n",
       "      <td>1507</td>\n",
       "      <td>10387</td>\n",
       "      <td>1501</td>\n",
       "      <td>10690</td>\n",
       "      <td>1466</td>\n",
       "      <td>10736</td>\n",
       "      <td>1475</td>\n",
       "      <td>10803</td>\n",
       "      <td>1479</td>\n",
       "      <td>...</td>\n",
       "      <td>NaN</td>\n",
       "      <td>NaN</td>\n",
       "      <td>NaN</td>\n",
       "      <td>NaN</td>\n",
       "      <td>11.0</td>\n",
       "      <td>24.0</td>\n",
       "      <td>35.0</td>\n",
       "      <td>NaN</td>\n",
       "      <td>NaN</td>\n",
       "      <td>NaN</td>\n",
       "    </tr>\n",
       "    <tr>\n",
       "      <th>144</th>\n",
       "      <td>강동구</td>\n",
       "      <td>1507</td>\n",
       "      <td>10387</td>\n",
       "      <td>1501</td>\n",
       "      <td>10690</td>\n",
       "      <td>1466</td>\n",
       "      <td>10736</td>\n",
       "      <td>1475</td>\n",
       "      <td>10803</td>\n",
       "      <td>1479</td>\n",
       "      <td>...</td>\n",
       "      <td>NaN</td>\n",
       "      <td>NaN</td>\n",
       "      <td>NaN</td>\n",
       "      <td>NaN</td>\n",
       "      <td>NaN</td>\n",
       "      <td>NaN</td>\n",
       "      <td>NaN</td>\n",
       "      <td>9.0</td>\n",
       "      <td>33.0</td>\n",
       "      <td>42.0</td>\n",
       "    </tr>\n",
       "  </tbody>\n",
       "</table>\n",
       "<p>136 rows × 45 columns</p>\n",
       "</div>"
      ],
      "text/plain": [
       "     자치구  2013사업체수  2013종사자수  2014사업체수  2014종사자수  2015사업체수  2015종사자수  \\\n",
       "9     중구       510      7644       516      8270       508      9983   \n",
       "10    중구       510      7644       516      8270       508      9983   \n",
       "11    중구       510      7644       516      8270       508      9983   \n",
       "12    중구       510      7644       516      8270       508      9983   \n",
       "13    중구       510      7644       516      8270       508      9983   \n",
       "..   ...       ...       ...       ...       ...       ...       ...   \n",
       "140  강동구      1507     10387      1501     10690      1466     10736   \n",
       "141  강동구      1507     10387      1501     10690      1466     10736   \n",
       "142  강동구      1507     10387      1501     10690      1466     10736   \n",
       "143  강동구      1507     10387      1501     10690      1466     10736   \n",
       "144  강동구      1507     10387      1501     10690      1466     10736   \n",
       "\n",
       "     2016사업체수  2016종사자수  2017사업체수  ...  2017(총합)  2018(정시)  2018(수시)  \\\n",
       "9         481      8849       454  ...       NaN       NaN       NaN   \n",
       "10        481      8849       454  ...       NaN       NaN       NaN   \n",
       "11        481      8849       454  ...       NaN       NaN       NaN   \n",
       "12        481      8849       454  ...       NaN       NaN       NaN   \n",
       "13        481      8849       454  ...      32.0       NaN       NaN   \n",
       "..        ...       ...       ...  ...       ...       ...       ...   \n",
       "140      1475     10803      1479  ...       NaN       NaN       NaN   \n",
       "141      1475     10803      1479  ...      36.0       NaN       NaN   \n",
       "142      1475     10803      1479  ...       NaN      11.0      31.0   \n",
       "143      1475     10803      1479  ...       NaN       NaN       NaN   \n",
       "144      1475     10803      1479  ...       NaN       NaN       NaN   \n",
       "\n",
       "     2018(총합)  2019(정시)  2019(수시)  2019(총합)  2020(정시)  2020(수시)  2020(총합)  \n",
       "9         NaN       NaN       NaN       NaN       NaN       NaN       NaN  \n",
       "10        NaN       NaN       NaN       NaN       NaN       NaN       NaN  \n",
       "11        NaN       NaN       NaN       NaN       NaN       NaN       NaN  \n",
       "12        NaN       NaN       NaN       NaN       NaN       NaN       NaN  \n",
       "13        NaN       NaN       NaN       NaN       NaN       NaN       NaN  \n",
       "..        ...       ...       ...       ...       ...       ...       ...  \n",
       "140       NaN       NaN       NaN       NaN       NaN       NaN       NaN  \n",
       "141       NaN       NaN       NaN       NaN       NaN       NaN       NaN  \n",
       "142      42.0       NaN       NaN       NaN       NaN       NaN       NaN  \n",
       "143       NaN      11.0      24.0      35.0       NaN       NaN       NaN  \n",
       "144       NaN       NaN       NaN       NaN       9.0      33.0      42.0  \n",
       "\n",
       "[136 rows x 45 columns]"
      ]
     },
     "execution_count": 9,
     "metadata": {},
     "output_type": "execute_result"
    }
   ],
   "source": [
    "pd.read_excel('D:\\\\BigData\\\\project\\\\High_school\\\\data\\\\병합최종본.xlsx',index_col=0)"
   ]
  },
  {
   "cell_type": "code",
   "execution_count": 8,
   "metadata": {},
   "outputs": [
    {
     "data": {
      "text/plain": [
       "['중구',\n",
       " '용산구',\n",
       " '성동구',\n",
       " '광진구',\n",
       " '동대문구',\n",
       " '중랑구',\n",
       " '성북구',\n",
       " '강북구',\n",
       " '도봉구',\n",
       " '노원구',\n",
       " '은평구',\n",
       " '서대문구',\n",
       " '마포구',\n",
       " '양천구',\n",
       " '강서구',\n",
       " '구로구',\n",
       " '금천구',\n",
       " '영등포구',\n",
       " '동작구',\n",
       " '관악구',\n",
       " '서초구',\n",
       " '강남구',\n",
       " '송파구',\n",
       " '강동구']"
      ]
     },
     "execution_count": 8,
     "metadata": {},
     "output_type": "execute_result"
    }
   ],
   "source": [
    "df.자치구.drop_duplicates().to_list()"
   ]
  },
  {
   "cell_type": "code",
   "execution_count": null,
   "metadata": {},
   "outputs": [],
   "source": []
  },
  {
   "cell_type": "code",
   "execution_count": null,
   "metadata": {},
   "outputs": [],
   "source": []
  },
  {
   "cell_type": "code",
   "execution_count": null,
   "metadata": {},
   "outputs": [],
   "source": []
  },
  {
   "cell_type": "code",
   "execution_count": null,
   "metadata": {},
   "outputs": [],
   "source": []
  },
  {
   "cell_type": "code",
   "execution_count": null,
   "metadata": {},
   "outputs": [],
   "source": []
  },
  {
   "cell_type": "code",
   "execution_count": 17,
   "metadata": {},
   "outputs": [
    {
     "data": {
      "text/html": [
       "<div>\n",
       "<style scoped>\n",
       "    .dataframe tbody tr th:only-of-type {\n",
       "        vertical-align: middle;\n",
       "    }\n",
       "\n",
       "    .dataframe tbody tr th {\n",
       "        vertical-align: top;\n",
       "    }\n",
       "\n",
       "    .dataframe thead th {\n",
       "        text-align: right;\n",
       "    }\n",
       "</style>\n",
       "<table border=\"1\" class=\"dataframe\">\n",
       "  <thead>\n",
       "    <tr style=\"text-align: right;\">\n",
       "      <th></th>\n",
       "      <th>2013사업체수</th>\n",
       "      <th>2013부동산</th>\n",
       "    </tr>\n",
       "  </thead>\n",
       "  <tbody>\n",
       "    <tr>\n",
       "      <th>2013사업체수</th>\n",
       "      <td>1.000000</td>\n",
       "      <td>-0.722928</td>\n",
       "    </tr>\n",
       "    <tr>\n",
       "      <th>2013부동산</th>\n",
       "      <td>-0.722928</td>\n",
       "      <td>1.000000</td>\n",
       "    </tr>\n",
       "  </tbody>\n",
       "</table>\n",
       "</div>"
      ],
      "text/plain": [
       "          2013사업체수   2013부동산\n",
       "2013사업체수  1.000000 -0.722928\n",
       "2013부동산  -0.722928  1.000000"
      ]
     },
     "execution_count": 17,
     "metadata": {},
     "output_type": "execute_result"
    }
   ],
   "source": [
    "df[['자치구','2013사업체수','2013부동산']].drop_duplicates().corr()"
   ]
  },
  {
   "cell_type": "code",
   "execution_count": 310,
   "metadata": {},
   "outputs": [
    {
     "data": {
      "text/plain": [
       "9      0.978964\n",
       "10     0.978964\n",
       "11     0.978964\n",
       "12     0.978964\n",
       "13     0.978964\n",
       "         ...   \n",
       "140    0.920680\n",
       "141    0.920680\n",
       "142    0.920680\n",
       "143    0.920680\n",
       "144    0.920680\n",
       "Name: 2013부동산, Length: 136, dtype: float64"
      ]
     },
     "execution_count": 310,
     "metadata": {},
     "output_type": "execute_result"
    }
   ],
   "source": [
    "df['2013부동산'] /df[(df.자치구=='은평구')]['2013부동산'][68]"
   ]
  },
  {
   "cell_type": "code",
   "execution_count": 309,
   "metadata": {},
   "outputs": [
    {
     "data": {
      "text/plain": [
       "94.125"
      ]
     },
     "execution_count": 309,
     "metadata": {},
     "output_type": "execute_result"
    }
   ],
   "source": [
    "df[(df.자치구=='은평구')]['2013부동산'][68]"
   ]
  },
  {
   "cell_type": "code",
   "execution_count": null,
   "metadata": {},
   "outputs": [],
   "source": []
  },
  {
   "cell_type": "code",
   "execution_count": null,
   "metadata": {},
   "outputs": [],
   "source": []
  },
  {
   "cell_type": "code",
   "execution_count": null,
   "metadata": {},
   "outputs": [],
   "source": []
  },
  {
   "cell_type": "markdown",
   "metadata": {},
   "source": [
    "###  학원_부동산 비교"
   ]
  },
  {
   "cell_type": "code",
   "execution_count": 19,
   "metadata": {},
   "outputs": [],
   "source": [
    "학원_부동산 = {}\n",
    "for i in range(2013,2019) :\n",
    "    학원_부동산[i] = df[['자치구',str(i)+'사업체수',str(i)+'부동산']].drop_duplicates()"
   ]
  },
  {
   "cell_type": "code",
   "execution_count": 21,
   "metadata": {},
   "outputs": [
    {
     "data": {
      "text/html": [
       "<div>\n",
       "<style scoped>\n",
       "    .dataframe tbody tr th:only-of-type {\n",
       "        vertical-align: middle;\n",
       "    }\n",
       "\n",
       "    .dataframe tbody tr th {\n",
       "        vertical-align: top;\n",
       "    }\n",
       "\n",
       "    .dataframe thead th {\n",
       "        text-align: right;\n",
       "    }\n",
       "</style>\n",
       "<table border=\"1\" class=\"dataframe\">\n",
       "  <thead>\n",
       "    <tr style=\"text-align: right;\">\n",
       "      <th></th>\n",
       "      <th>2013사업체수</th>\n",
       "      <th>2013부동산</th>\n",
       "    </tr>\n",
       "  </thead>\n",
       "  <tbody>\n",
       "    <tr>\n",
       "      <th>2013사업체수</th>\n",
       "      <td>1.000000</td>\n",
       "      <td>-0.722928</td>\n",
       "    </tr>\n",
       "    <tr>\n",
       "      <th>2013부동산</th>\n",
       "      <td>-0.722928</td>\n",
       "      <td>1.000000</td>\n",
       "    </tr>\n",
       "  </tbody>\n",
       "</table>\n",
       "</div>"
      ],
      "text/plain": [
       "          2013사업체수   2013부동산\n",
       "2013사업체수  1.000000 -0.722928\n",
       "2013부동산  -0.722928  1.000000"
      ]
     },
     "execution_count": 21,
     "metadata": {},
     "output_type": "execute_result"
    }
   ],
   "source": [
    "학원_부동산[2013].corr()"
   ]
  },
  {
   "cell_type": "code",
   "execution_count": 23,
   "metadata": {
    "collapsed": true
   },
   "outputs": [
    {
     "name": "stdout",
     "output_type": "stream",
     "text": [
      "          2013사업체수   2013부동산\n",
      "2013사업체수  1.000000 -0.722928\n",
      "2013부동산  -0.722928  1.000000\n",
      "          2014사업체수   2014부동산\n",
      "2014사업체수  1.000000 -0.746333\n",
      "2014부동산  -0.746333  1.000000\n",
      "          2015사업체수   2015부동산\n",
      "2015사업체수  1.000000 -0.734125\n",
      "2015부동산  -0.734125  1.000000\n",
      "          2016사업체수  2016부동산\n",
      "2016사업체수   1.00000 -0.72872\n",
      "2016부동산   -0.72872  1.00000\n",
      "          2017사업체수   2017부동산\n",
      "2017사업체수  1.000000 -0.531127\n",
      "2017부동산  -0.531127  1.000000\n",
      "          2018사업체수   2018부동산\n",
      "2018사업체수  1.000000  0.714438\n",
      "2018부동산   0.714438  1.000000\n"
     ]
    }
   ],
   "source": [
    "for i in range(2013,2019) :\n",
    "    print(학원_부동산[i].corr())"
   ]
  },
  {
   "cell_type": "code",
   "execution_count": 29,
   "metadata": {},
   "outputs": [
    {
     "data": {
      "text/html": [
       "<div>\n",
       "<style scoped>\n",
       "    .dataframe tbody tr th:only-of-type {\n",
       "        vertical-align: middle;\n",
       "    }\n",
       "\n",
       "    .dataframe tbody tr th {\n",
       "        vertical-align: top;\n",
       "    }\n",
       "\n",
       "    .dataframe thead th {\n",
       "        text-align: right;\n",
       "    }\n",
       "</style>\n",
       "<table border=\"1\" class=\"dataframe\">\n",
       "  <thead>\n",
       "    <tr style=\"text-align: right;\">\n",
       "      <th></th>\n",
       "      <th>자치구</th>\n",
       "      <th>2013사업체수</th>\n",
       "      <th>2013종사자수</th>\n",
       "      <th>2014사업체수</th>\n",
       "      <th>2014종사자수</th>\n",
       "      <th>2015사업체수</th>\n",
       "      <th>2015종사자수</th>\n",
       "      <th>2016사업체수</th>\n",
       "      <th>2016종사자수</th>\n",
       "      <th>2017사업체수</th>\n",
       "      <th>...</th>\n",
       "      <th>2017(총합)</th>\n",
       "      <th>2018(정시)</th>\n",
       "      <th>2018(수시)</th>\n",
       "      <th>2018(총합)</th>\n",
       "      <th>2019(정시)</th>\n",
       "      <th>2019(수시)</th>\n",
       "      <th>2019(총합)</th>\n",
       "      <th>2020(정시)</th>\n",
       "      <th>2020(수시)</th>\n",
       "      <th>2020(총합)</th>\n",
       "    </tr>\n",
       "  </thead>\n",
       "  <tbody>\n",
       "    <tr>\n",
       "      <th>9</th>\n",
       "      <td>중구</td>\n",
       "      <td>510</td>\n",
       "      <td>7644</td>\n",
       "      <td>516</td>\n",
       "      <td>8270</td>\n",
       "      <td>508</td>\n",
       "      <td>9983</td>\n",
       "      <td>481</td>\n",
       "      <td>8849</td>\n",
       "      <td>454</td>\n",
       "      <td>...</td>\n",
       "      <td>NaN</td>\n",
       "      <td>NaN</td>\n",
       "      <td>NaN</td>\n",
       "      <td>NaN</td>\n",
       "      <td>NaN</td>\n",
       "      <td>NaN</td>\n",
       "      <td>NaN</td>\n",
       "      <td>NaN</td>\n",
       "      <td>NaN</td>\n",
       "      <td>NaN</td>\n",
       "    </tr>\n",
       "  </tbody>\n",
       "</table>\n",
       "<p>1 rows × 45 columns</p>\n",
       "</div>"
      ],
      "text/plain": [
       "  자치구  2013사업체수  2013종사자수  2014사업체수  2014종사자수  2015사업체수  2015종사자수  2016사업체수  \\\n",
       "9  중구       510      7644       516      8270       508      9983       481   \n",
       "\n",
       "   2016종사자수  2017사업체수  ...  2017(총합)  2018(정시)  2018(수시)  2018(총합)  2019(정시)  \\\n",
       "9      8849       454  ...       NaN       NaN       NaN       NaN       NaN   \n",
       "\n",
       "   2019(수시)  2019(총합)  2020(정시)  2020(수시)  2020(총합)  \n",
       "9       NaN       NaN       NaN       NaN       NaN  \n",
       "\n",
       "[1 rows x 45 columns]"
      ]
     },
     "execution_count": 29,
     "metadata": {},
     "output_type": "execute_result"
    }
   ],
   "source": [
    "df.head(1)"
   ]
  },
  {
   "cell_type": "markdown",
   "metadata": {},
   "source": [
    "###  학교_부동산비교"
   ]
  },
  {
   "cell_type": "code",
   "execution_count": 69,
   "metadata": {},
   "outputs": [],
   "source": [
    "학교_부동산 = {}\n",
    "for i in range(2013,2021) :\n",
    "    학교_부동산[i] = df[['자치구',str(i)+'(정시)',str(i)+'부동산']].drop_duplicates()"
   ]
  },
  {
   "cell_type": "code",
   "execution_count": 70,
   "metadata": {
    "collapsed": true
   },
   "outputs": [
    {
     "name": "stdout",
     "output_type": "stream",
     "text": [
      "          2013(정시)   2013부동산\n",
      "2013(정시)  1.000000 -0.344841\n",
      "2013부동산  -0.344841  1.000000\n",
      "          2014(정시)   2014부동산\n",
      "2014(정시)  1.000000 -0.421693\n",
      "2014부동산  -0.421693  1.000000\n",
      "          2015(정시)   2015부동산\n",
      "2015(정시)  1.000000 -0.533251\n",
      "2015부동산  -0.533251  1.000000\n",
      "          2016(정시)   2016부동산\n",
      "2016(정시)  1.000000 -0.512038\n",
      "2016부동산  -0.512038  1.000000\n",
      "          2017(정시)   2017부동산\n",
      "2017(정시)  1.000000 -0.436834\n",
      "2017부동산  -0.436834  1.000000\n",
      "          2018(정시)   2018부동산\n",
      "2018(정시)  1.000000  0.521602\n",
      "2018부동산   0.521602  1.000000\n",
      "          2019(정시)   2019부동산\n",
      "2019(정시)  1.000000  0.305562\n",
      "2019부동산   0.305562  1.000000\n",
      "          2020(정시)   2020부동산\n",
      "2020(정시)  1.000000  0.360538\n",
      "2020부동산   0.360538  1.000000\n"
     ]
    }
   ],
   "source": [
    "for i in range(2013,2021) :\n",
    "    print(학교_부동산[i].corr())   # 1년차이가 가장 연관이 있으나, 크게 영향을 주지 않음."
   ]
  },
  {
   "cell_type": "markdown",
   "metadata": {},
   "source": [
    "###  학교_학원비교\n",
    "    1. 정시입학 & 사업체수랑 연관이 있음(서울전체적기준)"
   ]
  },
  {
   "cell_type": "code",
   "execution_count": 144,
   "metadata": {},
   "outputs": [],
   "source": [
    "학교_학원 = {}\n",
    "for i in range(2013,2019) :\n",
    "    학교_학원[i] = df[['자치구',str(i)+'(정시)',str(i)+'사업체수']].drop_duplicates()"
   ]
  },
  {
   "cell_type": "code",
   "execution_count": 145,
   "metadata": {},
   "outputs": [
    {
     "name": "stdout",
     "output_type": "stream",
     "text": [
      "          2013(정시)  2013사업체수\n",
      "2013(정시)  1.000000  0.529922\n",
      "2013사업체수  0.529922  1.000000\n",
      "          2014(정시)  2014사업체수\n",
      "2014(정시)  1.000000  0.518534\n",
      "2014사업체수  0.518534  1.000000\n",
      "          2015(정시)  2015사업체수\n",
      "2015(정시)  1.000000  0.687406\n",
      "2015사업체수  0.687406  1.000000\n",
      "          2016(정시)  2016사업체수\n",
      "2016(정시)  1.000000  0.648845\n",
      "2016사업체수  0.648845  1.000000\n",
      "          2017(정시)  2017사업체수\n",
      "2017(정시)  1.000000  0.681123\n",
      "2017사업체수  0.681123  1.000000\n",
      "          2018(정시)  2018사업체수\n",
      "2018(정시)  1.000000  0.673108\n",
      "2018사업체수  0.673108  1.000000\n"
     ]
    }
   ],
   "source": [
    "for i in range(2013,2019) :\n",
    "    print(학교_학원[i].corr())   # 1년차이가 가장 연관이 있으나, 크게 영향을 주지 않음."
   ]
  },
  {
   "cell_type": "markdown",
   "metadata": {},
   "source": [
    "# 자치구별 분석 "
   ]
  },
  {
   "cell_type": "markdown",
   "metadata": {},
   "source": [
    "### 사업체 & 입시수"
   ]
  },
  {
   "cell_type": "code",
   "execution_count": 205,
   "metadata": {
    "scrolled": true
   },
   "outputs": [
    {
     "data": {
      "text/html": [
       "<div>\n",
       "<style scoped>\n",
       "    .dataframe tbody tr th:only-of-type {\n",
       "        vertical-align: middle;\n",
       "    }\n",
       "\n",
       "    .dataframe tbody tr th {\n",
       "        vertical-align: top;\n",
       "    }\n",
       "\n",
       "    .dataframe thead th {\n",
       "        text-align: right;\n",
       "    }\n",
       "</style>\n",
       "<table border=\"1\" class=\"dataframe\">\n",
       "  <thead>\n",
       "    <tr style=\"text-align: right;\">\n",
       "      <th></th>\n",
       "      <th>2013(정시)</th>\n",
       "      <th>2013사업체수</th>\n",
       "      <th>2014(정시)</th>\n",
       "      <th>2014사업체수</th>\n",
       "      <th>2015(정시)</th>\n",
       "      <th>2015사업체수</th>\n",
       "      <th>2016(정시)</th>\n",
       "      <th>2016사업체수</th>\n",
       "      <th>2017(정시)</th>\n",
       "      <th>2017사업체수</th>\n",
       "      <th>2018(정시)</th>\n",
       "      <th>2018사업체수</th>\n",
       "    </tr>\n",
       "    <tr>\n",
       "      <th>자치구</th>\n",
       "      <th></th>\n",
       "      <th></th>\n",
       "      <th></th>\n",
       "      <th></th>\n",
       "      <th></th>\n",
       "      <th></th>\n",
       "      <th></th>\n",
       "      <th></th>\n",
       "      <th></th>\n",
       "      <th></th>\n",
       "      <th></th>\n",
       "      <th></th>\n",
       "    </tr>\n",
       "  </thead>\n",
       "  <tbody>\n",
       "    <tr>\n",
       "      <th>강남구</th>\n",
       "      <td>36.0</td>\n",
       "      <td>3179</td>\n",
       "      <td>27.0</td>\n",
       "      <td>3584</td>\n",
       "      <td>43.0</td>\n",
       "      <td>3718</td>\n",
       "      <td>43.0</td>\n",
       "      <td>3765</td>\n",
       "      <td>47.0</td>\n",
       "      <td>3850</td>\n",
       "      <td>53.0</td>\n",
       "      <td>3838</td>\n",
       "    </tr>\n",
       "  </tbody>\n",
       "</table>\n",
       "</div>"
      ],
      "text/plain": [
       "     2013(정시)  2013사업체수  2014(정시)  2014사업체수  2015(정시)  2015사업체수  2016(정시)  \\\n",
       "자치구                                                                         \n",
       "강남구      36.0      3179      27.0      3584      43.0      3718      43.0   \n",
       "\n",
       "     2016사업체수  2017(정시)  2017사업체수  2018(정시)  2018사업체수  \n",
       "자치구                                                    \n",
       "강남구      3765      47.0      3850      53.0      3838  "
      ]
     },
     "execution_count": 205,
     "metadata": {},
     "output_type": "execute_result"
    }
   ],
   "source": [
    "df사업체_총합 = df.groupby('자치구')[새in].mean()\n",
    "df사업체_총합.head(1)   # index = 자치구 / col = 연도별 정시 & 사업체수"
   ]
  },
  {
   "cell_type": "code",
   "execution_count": 215,
   "metadata": {
    "collapsed": true
   },
   "outputs": [
    {
     "data": {
      "text/plain": [
       "['강남구',\n",
       " '강동구',\n",
       " '강북구',\n",
       " '강서구',\n",
       " '관악구',\n",
       " '광진구',\n",
       " '구로구',\n",
       " '금천구',\n",
       " '노원구',\n",
       " '도봉구',\n",
       " '동대문구',\n",
       " '동작구',\n",
       " '마포구',\n",
       " '서대문구',\n",
       " '서초구',\n",
       " '성동구',\n",
       " '성북구',\n",
       " '송파구',\n",
       " '양천구',\n",
       " '영등포구',\n",
       " '용산구',\n",
       " '은평구',\n",
       " '중구',\n",
       " '중랑구']"
      ]
     },
     "execution_count": 215,
     "metadata": {},
     "output_type": "execute_result"
    }
   ],
   "source": [
    "list(df사업체_총합.index)"
   ]
  },
  {
   "cell_type": "code",
   "execution_count": 206,
   "metadata": {},
   "outputs": [],
   "source": [
    "새in=[]\n",
    "for i in range(2013,2019) :\n",
    "    새in.append(str(i)+'(정시)')\n",
    "    새in.append(str(i)+'사업체수')"
   ]
  },
  {
   "cell_type": "code",
   "execution_count": 207,
   "metadata": {},
   "outputs": [],
   "source": [
    "새사in=[]\n",
    "for i in range(2013,2019) :\n",
    "    새사in.append(str(i)+'사업체수')"
   ]
  },
  {
   "cell_type": "code",
   "execution_count": 208,
   "metadata": {},
   "outputs": [],
   "source": [
    "새정in=[]\n",
    "for i in range(2013,2019) :\n",
    "    새정in.append(str(i)+'(정시)')"
   ]
  },
  {
   "cell_type": "code",
   "execution_count": 209,
   "metadata": {},
   "outputs": [],
   "source": [
    "df강남구 = pd.DataFrame(df사업체_총합.iloc[0][새정in])\n",
    "df강남구.index = range(2013,2019)"
   ]
  },
  {
   "cell_type": "code",
   "execution_count": 210,
   "metadata": {},
   "outputs": [],
   "source": [
    "df강남구.columns=['정시']"
   ]
  },
  {
   "cell_type": "code",
   "execution_count": 211,
   "metadata": {},
   "outputs": [],
   "source": [
    "df강남구1 = pd.DataFrame(df사업체_총합.iloc[0][새사in])\n",
    "df강남구1.index = range(2013,2019)"
   ]
  },
  {
   "cell_type": "code",
   "execution_count": 212,
   "metadata": {},
   "outputs": [],
   "source": [
    "df강남구1.columns=['사업체']"
   ]
  },
  {
   "cell_type": "code",
   "execution_count": 213,
   "metadata": {
    "collapsed": true
   },
   "outputs": [
    {
     "data": {
      "text/html": [
       "<div>\n",
       "<style scoped>\n",
       "    .dataframe tbody tr th:only-of-type {\n",
       "        vertical-align: middle;\n",
       "    }\n",
       "\n",
       "    .dataframe tbody tr th {\n",
       "        vertical-align: top;\n",
       "    }\n",
       "\n",
       "    .dataframe thead th {\n",
       "        text-align: right;\n",
       "    }\n",
       "</style>\n",
       "<table border=\"1\" class=\"dataframe\">\n",
       "  <thead>\n",
       "    <tr style=\"text-align: right;\">\n",
       "      <th></th>\n",
       "      <th>정시</th>\n",
       "      <th>사업체</th>\n",
       "    </tr>\n",
       "  </thead>\n",
       "  <tbody>\n",
       "    <tr>\n",
       "      <th>2013</th>\n",
       "      <td>36.0</td>\n",
       "      <td>3179.0</td>\n",
       "    </tr>\n",
       "    <tr>\n",
       "      <th>2014</th>\n",
       "      <td>27.0</td>\n",
       "      <td>3584.0</td>\n",
       "    </tr>\n",
       "    <tr>\n",
       "      <th>2015</th>\n",
       "      <td>43.0</td>\n",
       "      <td>3718.0</td>\n",
       "    </tr>\n",
       "    <tr>\n",
       "      <th>2016</th>\n",
       "      <td>43.0</td>\n",
       "      <td>3765.0</td>\n",
       "    </tr>\n",
       "    <tr>\n",
       "      <th>2017</th>\n",
       "      <td>47.0</td>\n",
       "      <td>3850.0</td>\n",
       "    </tr>\n",
       "    <tr>\n",
       "      <th>2018</th>\n",
       "      <td>53.0</td>\n",
       "      <td>3838.0</td>\n",
       "    </tr>\n",
       "  </tbody>\n",
       "</table>\n",
       "</div>"
      ],
      "text/plain": [
       "        정시     사업체\n",
       "2013  36.0  3179.0\n",
       "2014  27.0  3584.0\n",
       "2015  43.0  3718.0\n",
       "2016  43.0  3765.0\n",
       "2017  47.0  3850.0\n",
       "2018  53.0  3838.0"
      ]
     },
     "execution_count": 213,
     "metadata": {},
     "output_type": "execute_result"
    }
   ],
   "source": [
    "pd.concat([df강남구,df강남구1],axis=1)"
   ]
  },
  {
   "cell_type": "code",
   "execution_count": 214,
   "metadata": {},
   "outputs": [
    {
     "data": {
      "text/html": [
       "<div>\n",
       "<style scoped>\n",
       "    .dataframe tbody tr th:only-of-type {\n",
       "        vertical-align: middle;\n",
       "    }\n",
       "\n",
       "    .dataframe tbody tr th {\n",
       "        vertical-align: top;\n",
       "    }\n",
       "\n",
       "    .dataframe thead th {\n",
       "        text-align: right;\n",
       "    }\n",
       "</style>\n",
       "<table border=\"1\" class=\"dataframe\">\n",
       "  <thead>\n",
       "    <tr style=\"text-align: right;\">\n",
       "      <th></th>\n",
       "      <th>정시</th>\n",
       "      <th>사업체</th>\n",
       "    </tr>\n",
       "  </thead>\n",
       "  <tbody>\n",
       "    <tr>\n",
       "      <th>정시</th>\n",
       "      <td>1.000000</td>\n",
       "      <td>0.621134</td>\n",
       "    </tr>\n",
       "    <tr>\n",
       "      <th>사업체</th>\n",
       "      <td>0.621134</td>\n",
       "      <td>1.000000</td>\n",
       "    </tr>\n",
       "  </tbody>\n",
       "</table>\n",
       "</div>"
      ],
      "text/plain": [
       "           정시       사업체\n",
       "정시   1.000000  0.621134\n",
       "사업체  0.621134  1.000000"
      ]
     },
     "execution_count": 214,
     "metadata": {},
     "output_type": "execute_result"
    }
   ],
   "source": [
    "pd.concat([df강남구,df강남구1],axis=1).corr()"
   ]
  },
  {
   "cell_type": "markdown",
   "metadata": {},
   "source": [
    "####  dict 생성 : key는 지역 / values는 입시생과 학원의 corr()"
   ]
  },
  {
   "cell_type": "code",
   "execution_count": 261,
   "metadata": {},
   "outputs": [],
   "source": [
    "결과dict = {}\n",
    "임시dict1 = {}    # dict1 : 연도(정시)\n",
    "임시dict2 = {}    # dict2 : 사업체수\n",
    "\n",
    "for i in df사업체_총합.index:\n",
    "    임시dict1[i] = pd.DataFrame(df사업체_총합.loc[i][[0,2,4,6,8,10]])\n",
    "    임시dict1[i].index=range(2013,2019)\n",
    "    임시dict1[i].columns=['정시']\n",
    "    \n",
    "    임시dict2[i] = pd.DataFrame(df사업체_총합.loc[i][[1,3,5,7,9,11]])\n",
    "    임시dict2[i].index=range(2013,2019)\n",
    "    임시dict2[i].columns=['사업체수']\n",
    "    \n",
    "    결과dict[i] =  pd.concat([임시dict1[i],임시dict2[i]],axis=1).corr().iloc[0,1]"
   ]
  },
  {
   "cell_type": "code",
   "execution_count": 221,
   "metadata": {
    "collapsed": true
   },
   "outputs": [
    {
     "data": {
      "text/plain": [
       "2013(정시)      36.0\n",
       "2013사업체수    3179.0\n",
       "2014(정시)      27.0\n",
       "2014사업체수    3584.0\n",
       "2015(정시)      43.0\n",
       "2015사업체수    3718.0\n",
       "2016(정시)      43.0\n",
       "2016사업체수    3765.0\n",
       "2017(정시)      47.0\n",
       "2017사업체수    3850.0\n",
       "2018(정시)      53.0\n",
       "2018사업체수    3838.0\n",
       "Name: 강남구, dtype: float64"
      ]
     },
     "execution_count": 221,
     "metadata": {},
     "output_type": "execute_result"
    }
   ],
   "source": [
    "df사업체_총합.loc['강남구']  # i = 강남구~"
   ]
  },
  {
   "cell_type": "code",
   "execution_count": 237,
   "metadata": {},
   "outputs": [],
   "source": [
    "임시dict1['강남구'] = pd.DataFrame(df사업체_총합.loc['강남구'][[0,2,4,6,8,10]])"
   ]
  },
  {
   "cell_type": "code",
   "execution_count": 238,
   "metadata": {},
   "outputs": [],
   "source": [
    "임시dict1['강남구'].index=range(2013,2019)\n",
    "임시dict1['강남구'].columns=['정시']"
   ]
  },
  {
   "cell_type": "code",
   "execution_count": 239,
   "metadata": {
    "collapsed": true
   },
   "outputs": [
    {
     "data": {
      "text/html": [
       "<div>\n",
       "<style scoped>\n",
       "    .dataframe tbody tr th:only-of-type {\n",
       "        vertical-align: middle;\n",
       "    }\n",
       "\n",
       "    .dataframe tbody tr th {\n",
       "        vertical-align: top;\n",
       "    }\n",
       "\n",
       "    .dataframe thead th {\n",
       "        text-align: right;\n",
       "    }\n",
       "</style>\n",
       "<table border=\"1\" class=\"dataframe\">\n",
       "  <thead>\n",
       "    <tr style=\"text-align: right;\">\n",
       "      <th></th>\n",
       "      <th>정시</th>\n",
       "    </tr>\n",
       "  </thead>\n",
       "  <tbody>\n",
       "    <tr>\n",
       "      <th>2013</th>\n",
       "      <td>36.0</td>\n",
       "    </tr>\n",
       "    <tr>\n",
       "      <th>2014</th>\n",
       "      <td>27.0</td>\n",
       "    </tr>\n",
       "    <tr>\n",
       "      <th>2015</th>\n",
       "      <td>43.0</td>\n",
       "    </tr>\n",
       "    <tr>\n",
       "      <th>2016</th>\n",
       "      <td>43.0</td>\n",
       "    </tr>\n",
       "    <tr>\n",
       "      <th>2017</th>\n",
       "      <td>47.0</td>\n",
       "    </tr>\n",
       "    <tr>\n",
       "      <th>2018</th>\n",
       "      <td>53.0</td>\n",
       "    </tr>\n",
       "  </tbody>\n",
       "</table>\n",
       "</div>"
      ],
      "text/plain": [
       "        정시\n",
       "2013  36.0\n",
       "2014  27.0\n",
       "2015  43.0\n",
       "2016  43.0\n",
       "2017  47.0\n",
       "2018  53.0"
      ]
     },
     "execution_count": 239,
     "metadata": {},
     "output_type": "execute_result"
    }
   ],
   "source": [
    "임시dict1['강남구']   # 정시col 완성"
   ]
  },
  {
   "cell_type": "code",
   "execution_count": 240,
   "metadata": {},
   "outputs": [],
   "source": [
    "임시dict2['강남구'] = pd.DataFrame(df사업체_총합.loc['강남구'][[1,3,5,7,9,11]])"
   ]
  },
  {
   "cell_type": "code",
   "execution_count": 242,
   "metadata": {},
   "outputs": [],
   "source": [
    "임시dict2['강남구'].index=range(2013,2019)\n",
    "임시dict2['강남구'].columns=['사업체수']"
   ]
  },
  {
   "cell_type": "code",
   "execution_count": 243,
   "metadata": {
    "collapsed": true
   },
   "outputs": [
    {
     "data": {
      "text/html": [
       "<div>\n",
       "<style scoped>\n",
       "    .dataframe tbody tr th:only-of-type {\n",
       "        vertical-align: middle;\n",
       "    }\n",
       "\n",
       "    .dataframe tbody tr th {\n",
       "        vertical-align: top;\n",
       "    }\n",
       "\n",
       "    .dataframe thead th {\n",
       "        text-align: right;\n",
       "    }\n",
       "</style>\n",
       "<table border=\"1\" class=\"dataframe\">\n",
       "  <thead>\n",
       "    <tr style=\"text-align: right;\">\n",
       "      <th></th>\n",
       "      <th>사업체수</th>\n",
       "    </tr>\n",
       "  </thead>\n",
       "  <tbody>\n",
       "    <tr>\n",
       "      <th>2013</th>\n",
       "      <td>3179.0</td>\n",
       "    </tr>\n",
       "    <tr>\n",
       "      <th>2014</th>\n",
       "      <td>3584.0</td>\n",
       "    </tr>\n",
       "    <tr>\n",
       "      <th>2015</th>\n",
       "      <td>3718.0</td>\n",
       "    </tr>\n",
       "    <tr>\n",
       "      <th>2016</th>\n",
       "      <td>3765.0</td>\n",
       "    </tr>\n",
       "    <tr>\n",
       "      <th>2017</th>\n",
       "      <td>3850.0</td>\n",
       "    </tr>\n",
       "    <tr>\n",
       "      <th>2018</th>\n",
       "      <td>3838.0</td>\n",
       "    </tr>\n",
       "  </tbody>\n",
       "</table>\n",
       "</div>"
      ],
      "text/plain": [
       "        사업체수\n",
       "2013  3179.0\n",
       "2014  3584.0\n",
       "2015  3718.0\n",
       "2016  3765.0\n",
       "2017  3850.0\n",
       "2018  3838.0"
      ]
     },
     "execution_count": 243,
     "metadata": {},
     "output_type": "execute_result"
    }
   ],
   "source": [
    "임시dict2['강남구']"
   ]
  },
  {
   "cell_type": "code",
   "execution_count": 260,
   "metadata": {},
   "outputs": [
    {
     "data": {
      "text/plain": [
       "0.6211337370975734"
      ]
     },
     "execution_count": 260,
     "metadata": {},
     "output_type": "execute_result"
    }
   ],
   "source": [
    "pd.concat([임시dict1['강남구'],임시dict2['강남구']],axis=1).corr().iloc[0,1]   # 최종 강남구 df"
   ]
  },
  {
   "cell_type": "code",
   "execution_count": 300,
   "metadata": {},
   "outputs": [],
   "source": [
    "최종dict = {}\n",
    "for i in 결과dict.keys():\n",
    "    if 결과dict[i] > 0.5 :\n",
    "        최종dict[i] = 결과dict[i]"
   ]
  },
  {
   "cell_type": "code",
   "execution_count": 301,
   "metadata": {},
   "outputs": [
    {
     "data": {
      "text/plain": [
       "{'강남구': 0.6211337370975734,\n",
       " '노원구': 0.7004144990897623,\n",
       " '서대문구': 0.6232719786895167,\n",
       " '서초구': 0.7592493103920201}"
      ]
     },
     "execution_count": 301,
     "metadata": {},
     "output_type": "execute_result"
    }
   ],
   "source": [
    "최종dict"
   ]
  },
  {
   "cell_type": "code",
   "execution_count": null,
   "metadata": {},
   "outputs": [],
   "source": []
  },
  {
   "cell_type": "code",
   "execution_count": null,
   "metadata": {},
   "outputs": [],
   "source": []
  },
  {
   "cell_type": "markdown",
   "metadata": {},
   "source": [
    "# 강남구, 노원구, 서대문구, 서초구 만 추출 "
   ]
  },
  {
   "cell_type": "code",
   "execution_count": 315,
   "metadata": {},
   "outputs": [],
   "source": [
    "df[df.자치구.isin(['강남구','노원구','서대문구','서초구'])].to_excel('D:\\\\BigData\\\\project\\\\High_school\\\\data\\\\병합(4구역).xlsx')"
   ]
  },
  {
   "cell_type": "code",
   "execution_count": null,
   "metadata": {},
   "outputs": [],
   "source": []
  }
 ],
 "metadata": {
  "kernelspec": {
   "display_name": "Python 3",
   "language": "python",
   "name": "python3"
  },
  "language_info": {
   "codemirror_mode": {
    "name": "ipython",
    "version": 3
   },
   "file_extension": ".py",
   "mimetype": "text/x-python",
   "name": "python",
   "nbconvert_exporter": "python",
   "pygments_lexer": "ipython3",
   "version": "3.8.3"
  }
 },
 "nbformat": 4,
 "nbformat_minor": 4
}
