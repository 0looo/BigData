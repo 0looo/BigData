{
 "cells": [
  {
   "cell_type": "code",
   "execution_count": 1,
   "metadata": {},
   "outputs": [],
   "source": [
    "import pandas as pd\n",
    "import numpy as np\n",
    "import matplotlib as plt\n",
    "import seaborn"
   ]
  },
  {
   "cell_type": "code",
   "execution_count": 15,
   "metadata": {},
   "outputs": [],
   "source": [
    "df_t = pd.read_excel('./data/서울대출신고등학교수정.xlsx', index_col=0)"
   ]
  },
  {
   "cell_type": "code",
   "execution_count": 16,
   "metadata": {
    "collapsed": true
   },
   "outputs": [
    {
     "data": {
      "text/html": [
       "<div>\n",
       "<style scoped>\n",
       "    .dataframe tbody tr th:only-of-type {\n",
       "        vertical-align: middle;\n",
       "    }\n",
       "\n",
       "    .dataframe tbody tr th {\n",
       "        vertical-align: top;\n",
       "    }\n",
       "\n",
       "    .dataframe thead th {\n",
       "        text-align: right;\n",
       "    }\n",
       "</style>\n",
       "<table border=\"1\" class=\"dataframe\">\n",
       "  <thead>\n",
       "    <tr style=\"text-align: right;\">\n",
       "      <th></th>\n",
       "      <th>학교명</th>\n",
       "      <th>2020(총합)</th>\n",
       "      <th>2020(정시)</th>\n",
       "      <th>2020(수시)</th>\n",
       "      <th>2019(총합)</th>\n",
       "      <th>2019(정시)</th>\n",
       "      <th>2019(수시)</th>\n",
       "      <th>2018(총합)</th>\n",
       "      <th>2018(정시)</th>\n",
       "      <th>2018(수시)</th>\n",
       "      <th>...</th>\n",
       "      <th>2015(수시)</th>\n",
       "      <th>2014(총합)</th>\n",
       "      <th>2014(정시)</th>\n",
       "      <th>2014(수시)</th>\n",
       "      <th>2013(총합)</th>\n",
       "      <th>2013(정시)</th>\n",
       "      <th>2013(수시)</th>\n",
       "      <th>위도</th>\n",
       "      <th>경도</th>\n",
       "      <th>주소</th>\n",
       "    </tr>\n",
       "  </thead>\n",
       "  <tbody>\n",
       "    <tr>\n",
       "      <th>0</th>\n",
       "      <td>외대부고등학교</td>\n",
       "      <td>69</td>\n",
       "      <td>39</td>\n",
       "      <td>30</td>\n",
       "      <td>73.0</td>\n",
       "      <td>36.0</td>\n",
       "      <td>37.0</td>\n",
       "      <td>55</td>\n",
       "      <td>24</td>\n",
       "      <td>31</td>\n",
       "      <td>...</td>\n",
       "      <td>30.0</td>\n",
       "      <td>92</td>\n",
       "      <td>34.0</td>\n",
       "      <td>58.0</td>\n",
       "      <td>45.0</td>\n",
       "      <td>20.0</td>\n",
       "      <td>25.0</td>\n",
       "      <td>37.330141</td>\n",
       "      <td>127.253816</td>\n",
       "      <td>경기도 용인시 처인구 모현면 왕산리 232</td>\n",
       "    </tr>\n",
       "    <tr>\n",
       "      <th>1</th>\n",
       "      <td>하나고등학교</td>\n",
       "      <td>62</td>\n",
       "      <td>5</td>\n",
       "      <td>57</td>\n",
       "      <td>51.0</td>\n",
       "      <td>2.0</td>\n",
       "      <td>49.0</td>\n",
       "      <td>55</td>\n",
       "      <td>3</td>\n",
       "      <td>52</td>\n",
       "      <td>...</td>\n",
       "      <td>46.0</td>\n",
       "      <td>60</td>\n",
       "      <td>8.0</td>\n",
       "      <td>52.0</td>\n",
       "      <td>44.0</td>\n",
       "      <td>2.0</td>\n",
       "      <td>42.0</td>\n",
       "      <td>37.641704</td>\n",
       "      <td>126.935000</td>\n",
       "      <td>서울특별시 은평구 진관동 연서로 535</td>\n",
       "    </tr>\n",
       "  </tbody>\n",
       "</table>\n",
       "<p>2 rows × 28 columns</p>\n",
       "</div>"
      ],
      "text/plain": [
       "       학교명  2020(총합)  2020(정시)  2020(수시)  2019(총합)  2019(정시)  2019(수시)  \\\n",
       "0  외대부고등학교        69        39        30      73.0      36.0      37.0   \n",
       "1   하나고등학교        62         5        57      51.0       2.0      49.0   \n",
       "\n",
       "   2018(총합)  2018(정시)  2018(수시)  ...  2015(수시)  2014(총합)  2014(정시)  2014(수시)  \\\n",
       "0        55        24        31  ...      30.0        92      34.0      58.0   \n",
       "1        55         3        52  ...      46.0        60       8.0      52.0   \n",
       "\n",
       "   2013(총합)  2013(정시)  2013(수시)         위도          경도  \\\n",
       "0      45.0      20.0      25.0  37.330141  127.253816   \n",
       "1      44.0       2.0      42.0  37.641704  126.935000   \n",
       "\n",
       "                        주소  \n",
       "0  경기도 용인시 처인구 모현면 왕산리 232  \n",
       "1    서울특별시 은평구 진관동 연서로 535  \n",
       "\n",
       "[2 rows x 28 columns]"
      ]
     },
     "execution_count": 16,
     "metadata": {},
     "output_type": "execute_result"
    }
   ],
   "source": [
    "df_t['학교명'] = df_t.학교명.apply(lambda x : x+'등학교')\n",
    "df_t.head(2)   # 학교 이름 수정 및 고등학교 붙힘"
   ]
  },
  {
   "cell_type": "code",
   "execution_count": 18,
   "metadata": {
    "collapsed": true
   },
   "outputs": [
    {
     "data": {
      "text/html": [
       "<div>\n",
       "<style scoped>\n",
       "    .dataframe tbody tr th:only-of-type {\n",
       "        vertical-align: middle;\n",
       "    }\n",
       "\n",
       "    .dataframe tbody tr th {\n",
       "        vertical-align: top;\n",
       "    }\n",
       "\n",
       "    .dataframe thead th {\n",
       "        text-align: right;\n",
       "    }\n",
       "</style>\n",
       "<table border=\"1\" class=\"dataframe\">\n",
       "  <thead>\n",
       "    <tr style=\"text-align: right;\">\n",
       "      <th></th>\n",
       "      <th>학교명</th>\n",
       "      <th>2020(총합)</th>\n",
       "      <th>2020(정시)</th>\n",
       "      <th>2020(수시)</th>\n",
       "      <th>2019(총합)</th>\n",
       "      <th>2019(정시)</th>\n",
       "      <th>2019(수시)</th>\n",
       "      <th>2018(총합)</th>\n",
       "      <th>2018(정시)</th>\n",
       "      <th>2018(수시)</th>\n",
       "      <th>...</th>\n",
       "      <th>2014(총합)</th>\n",
       "      <th>2014(정시)</th>\n",
       "      <th>2014(수시)</th>\n",
       "      <th>2013(총합)</th>\n",
       "      <th>2013(정시)</th>\n",
       "      <th>2013(수시)</th>\n",
       "      <th>위도</th>\n",
       "      <th>경도</th>\n",
       "      <th>주소</th>\n",
       "      <th>시,구</th>\n",
       "    </tr>\n",
       "  </thead>\n",
       "  <tbody>\n",
       "    <tr>\n",
       "      <th>0</th>\n",
       "      <td>외대부고등학교</td>\n",
       "      <td>69</td>\n",
       "      <td>39</td>\n",
       "      <td>30</td>\n",
       "      <td>73.0</td>\n",
       "      <td>36.0</td>\n",
       "      <td>37.0</td>\n",
       "      <td>55</td>\n",
       "      <td>24</td>\n",
       "      <td>31</td>\n",
       "      <td>...</td>\n",
       "      <td>92</td>\n",
       "      <td>34.0</td>\n",
       "      <td>58.0</td>\n",
       "      <td>45.0</td>\n",
       "      <td>20.0</td>\n",
       "      <td>25.0</td>\n",
       "      <td>37.330141</td>\n",
       "      <td>127.253816</td>\n",
       "      <td>경기도 용인시 처인구 모현면 왕산리 232</td>\n",
       "      <td>용인시</td>\n",
       "    </tr>\n",
       "    <tr>\n",
       "      <th>1</th>\n",
       "      <td>하나고등학교</td>\n",
       "      <td>62</td>\n",
       "      <td>5</td>\n",
       "      <td>57</td>\n",
       "      <td>51.0</td>\n",
       "      <td>2.0</td>\n",
       "      <td>49.0</td>\n",
       "      <td>55</td>\n",
       "      <td>3</td>\n",
       "      <td>52</td>\n",
       "      <td>...</td>\n",
       "      <td>60</td>\n",
       "      <td>8.0</td>\n",
       "      <td>52.0</td>\n",
       "      <td>44.0</td>\n",
       "      <td>2.0</td>\n",
       "      <td>42.0</td>\n",
       "      <td>37.641704</td>\n",
       "      <td>126.935000</td>\n",
       "      <td>서울특별시 은평구 진관동 연서로 535</td>\n",
       "      <td>은평구</td>\n",
       "    </tr>\n",
       "  </tbody>\n",
       "</table>\n",
       "<p>2 rows × 29 columns</p>\n",
       "</div>"
      ],
      "text/plain": [
       "       학교명  2020(총합)  2020(정시)  2020(수시)  2019(총합)  2019(정시)  2019(수시)  \\\n",
       "0  외대부고등학교        69        39        30      73.0      36.0      37.0   \n",
       "1   하나고등학교        62         5        57      51.0       2.0      49.0   \n",
       "\n",
       "   2018(총합)  2018(정시)  2018(수시)  ...  2014(총합)  2014(정시)  2014(수시)  2013(총합)  \\\n",
       "0        55        24        31  ...        92      34.0      58.0      45.0   \n",
       "1        55         3        52  ...        60       8.0      52.0      44.0   \n",
       "\n",
       "   2013(정시)  2013(수시)         위도          경도                       주소  시,구  \n",
       "0      20.0      25.0  37.330141  127.253816  경기도 용인시 처인구 모현면 왕산리 232  용인시  \n",
       "1       2.0      42.0  37.641704  126.935000    서울특별시 은평구 진관동 연서로 535  은평구  \n",
       "\n",
       "[2 rows x 29 columns]"
      ]
     },
     "execution_count": 18,
     "metadata": {},
     "output_type": "execute_result"
    }
   ],
   "source": [
    "# 시, 구 col 추가\n",
    "df_t['시,구'] = df_t.주소.apply(lambda x : x.split(' ')[1])\n",
    "df_t.head(2)  "
   ]
  },
  {
   "cell_type": "code",
   "execution_count": 25,
   "metadata": {},
   "outputs": [],
   "source": [
    "df_t.to_excel('./data/서울대출신고등학교수정1.xlsx')"
   ]
  },
  {
   "cell_type": "code",
   "execution_count": null,
   "metadata": {},
   "outputs": [],
   "source": []
  },
  {
   "cell_type": "code",
   "execution_count": 27,
   "metadata": {},
   "outputs": [],
   "source": [
    "df_dic = {}\n",
    "for i in range(2013,2021) :\n",
    "    sub = str(i)+'(총합)'\n",
    "    sub1 = str(i)+'(수시)'\n",
    "    sub2 = str(i)+'(정시)'\n",
    "    df1 = df[['학교명',sub,sub1,sub2,'위도','경도','주소','시,구']].sort_values(sub,ascending = False)[:50]\n",
    "    df_dic[i] = df1"
   ]
  },
  {
   "cell_type": "code",
   "execution_count": 28,
   "metadata": {},
   "outputs": [],
   "source": [
    "for i in df_dic.keys() :\n",
    "    na = str(i)+'상위50_수정1'\n",
    "    df_dic[i].to_excel('./data/'+na+'.xlsx')"
   ]
  },
  {
   "cell_type": "code",
   "execution_count": null,
   "metadata": {},
   "outputs": [],
   "source": []
  },
  {
   "cell_type": "code",
   "execution_count": 2,
   "metadata": {},
   "outputs": [
    {
     "data": {
      "text/html": [
       "<div>\n",
       "<style scoped>\n",
       "    .dataframe tbody tr th:only-of-type {\n",
       "        vertical-align: middle;\n",
       "    }\n",
       "\n",
       "    .dataframe tbody tr th {\n",
       "        vertical-align: top;\n",
       "    }\n",
       "\n",
       "    .dataframe thead th {\n",
       "        text-align: right;\n",
       "    }\n",
       "</style>\n",
       "<table border=\"1\" class=\"dataframe\">\n",
       "  <thead>\n",
       "    <tr style=\"text-align: right;\">\n",
       "      <th></th>\n",
       "      <th>학교명</th>\n",
       "      <th>2013(총합)</th>\n",
       "      <th>2013(수시)</th>\n",
       "      <th>2013(정시)</th>\n",
       "      <th>위도</th>\n",
       "      <th>경도</th>\n",
       "      <th>주소</th>\n",
       "    </tr>\n",
       "  </thead>\n",
       "  <tbody>\n",
       "    <tr>\n",
       "      <th>2</th>\n",
       "      <td>대원외고</td>\n",
       "      <td>83</td>\n",
       "      <td>39</td>\n",
       "      <td>44</td>\n",
       "      <td>37.563696</td>\n",
       "      <td>127.086938</td>\n",
       "      <td>서울특별시 광진구 중곡4동 용마산로22길 26</td>\n",
       "    </tr>\n",
       "  </tbody>\n",
       "</table>\n",
       "</div>"
      ],
      "text/plain": [
       "    학교명  2013(총합)  2013(수시)  2013(정시)         위도          경도  \\\n",
       "2  대원외고        83        39        44  37.563696  127.086938   \n",
       "\n",
       "                          주소  \n",
       "2  서울특별시 광진구 중곡4동 용마산로22길 26  "
      ]
     },
     "execution_count": 2,
     "metadata": {},
     "output_type": "execute_result"
    }
   ],
   "source": [
    "df = pd.read_excel('./data/2013상위50.xlsx', index_col=0)\n",
    "df.head(1)"
   ]
  },
  {
   "cell_type": "code",
   "execution_count": 7,
   "metadata": {},
   "outputs": [
    {
     "data": {
      "text/plain": [
       "'용인시'"
      ]
     },
     "execution_count": 7,
     "metadata": {},
     "output_type": "execute_result"
    }
   ],
   "source": [
    "df.주소[0].split(' ')[1]"
   ]
  },
  {
   "cell_type": "code",
   "execution_count": 4,
   "metadata": {},
   "outputs": [],
   "source": []
  },
  {
   "cell_type": "code",
   "execution_count": 6,
   "metadata": {},
   "outputs": [
    {
     "data": {
      "text/html": [
       "<div>\n",
       "<style scoped>\n",
       "    .dataframe tbody tr th:only-of-type {\n",
       "        vertical-align: middle;\n",
       "    }\n",
       "\n",
       "    .dataframe tbody tr th {\n",
       "        vertical-align: top;\n",
       "    }\n",
       "\n",
       "    .dataframe thead th {\n",
       "        text-align: right;\n",
       "    }\n",
       "</style>\n",
       "<table border=\"1\" class=\"dataframe\">\n",
       "  <thead>\n",
       "    <tr style=\"text-align: right;\">\n",
       "      <th></th>\n",
       "      <th>학교명</th>\n",
       "      <th>2013(총합)</th>\n",
       "      <th>2013(수시)</th>\n",
       "      <th>2013(정시)</th>\n",
       "      <th>위도</th>\n",
       "      <th>경도</th>\n",
       "      <th>주소</th>\n",
       "      <th>시,구</th>\n",
       "    </tr>\n",
       "  </thead>\n",
       "  <tbody>\n",
       "    <tr>\n",
       "      <th>2</th>\n",
       "      <td>대원외고</td>\n",
       "      <td>83</td>\n",
       "      <td>39</td>\n",
       "      <td>44</td>\n",
       "      <td>37.563696</td>\n",
       "      <td>127.086938</td>\n",
       "      <td>서울특별시 광진구 중곡4동 용마산로22길 26</td>\n",
       "      <td>광진구</td>\n",
       "    </tr>\n",
       "  </tbody>\n",
       "</table>\n",
       "</div>"
      ],
      "text/plain": [
       "    학교명  2013(총합)  2013(수시)  2013(정시)         위도          경도  \\\n",
       "2  대원외고        83        39        44  37.563696  127.086938   \n",
       "\n",
       "                          주소  시,구  \n",
       "2  서울특별시 광진구 중곡4동 용마산로22길 26  광진구  "
      ]
     },
     "execution_count": 6,
     "metadata": {},
     "output_type": "execute_result"
    }
   ],
   "source": [
    "df.head(1)"
   ]
  },
  {
   "cell_type": "code",
   "execution_count": null,
   "metadata": {},
   "outputs": [],
   "source": [
    "for i in range(2013,2021):\n",
    "    ex = str(i)"
   ]
  }
 ],
 "metadata": {
  "kernelspec": {
   "display_name": "Python 3",
   "language": "python",
   "name": "python3"
  },
  "language_info": {
   "codemirror_mode": {
    "name": "ipython",
    "version": 3
   },
   "file_extension": ".py",
   "mimetype": "text/x-python",
   "name": "python",
   "nbconvert_exporter": "python",
   "pygments_lexer": "ipython3",
   "version": "3.8.3"
  }
 },
 "nbformat": 4,
 "nbformat_minor": 4
}
