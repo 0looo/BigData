{
 "cells": [
  {
   "cell_type": "code",
   "execution_count": 1,
   "metadata": {},
   "outputs": [],
   "source": [
    "import numpy as np\n",
    "import pandas as pd\n",
    "import matplotlib.pyplot as plt\n",
    "import seaborn as sns"
   ]
  },
  {
   "cell_type": "code",
   "execution_count": 2,
   "metadata": {},
   "outputs": [],
   "source": [
    "from matplotlib import font_manager, rc\n",
    "font_fname = 'c:/windows/fonts/gulim.ttc'\n",
    "font_name = font_manager.FontProperties(fname=font_fname).get_name()\n",
    "rc('font', family=font_name)"
   ]
  },
  {
   "cell_type": "code",
   "execution_count": 255,
   "metadata": {},
   "outputs": [],
   "source": [
    "from wordcloud import WordCloud\n",
    "from datetime import datetime\n",
    "from PIL import Image"
   ]
  },
  {
   "cell_type": "markdown",
   "metadata": {},
   "source": [
    "# 자료 불러오기"
   ]
  },
  {
   "cell_type": "code",
   "execution_count": 5,
   "metadata": {},
   "outputs": [],
   "source": [
    "TotalData = \"./data/DNI과제데이터_거래일반.xlsx\""
   ]
  },
  {
   "cell_type": "markdown",
   "metadata": {},
   "source": [
    "# ==============================================="
   ]
  },
  {
   "cell_type": "markdown",
   "metadata": {},
   "source": [
    "#  고객정보"
   ]
  },
  {
   "cell_type": "markdown",
   "metadata": {},
   "source": [
    "### EDA"
   ]
  },
  {
   "cell_type": "code",
   "execution_count": 231,
   "metadata": {
    "scrolled": true
   },
   "outputs": [
    {
     "data": {
      "text/html": [
       "<div>\n",
       "<style scoped>\n",
       "    .dataframe tbody tr th:only-of-type {\n",
       "        vertical-align: middle;\n",
       "    }\n",
       "\n",
       "    .dataframe tbody tr th {\n",
       "        vertical-align: top;\n",
       "    }\n",
       "\n",
       "    .dataframe thead th {\n",
       "        text-align: right;\n",
       "    }\n",
       "</style>\n",
       "<table border=\"1\" class=\"dataframe\">\n",
       "  <thead>\n",
       "    <tr style=\"text-align: right;\">\n",
       "      <th></th>\n",
       "      <th>고객번호</th>\n",
       "      <th>업장구분</th>\n",
       "      <th>고객분류</th>\n",
       "      <th>생년월일</th>\n",
       "      <th>고객상태</th>\n",
       "      <th>가입일</th>\n",
       "      <th>탈퇴일</th>\n",
       "    </tr>\n",
       "  </thead>\n",
       "  <tbody>\n",
       "    <tr>\n",
       "      <th>20584</th>\n",
       "      <td>517588</td>\n",
       "      <td>무점포</td>\n",
       "      <td>1형고객</td>\n",
       "      <td>1970-0417</td>\n",
       "      <td>회원대기</td>\n",
       "      <td>20201130</td>\n",
       "      <td>.</td>\n",
       "    </tr>\n",
       "    <tr>\n",
       "      <th>20585</th>\n",
       "      <td>517595</td>\n",
       "      <td>C점포</td>\n",
       "      <td>1형고객</td>\n",
       "      <td>1969-0107</td>\n",
       "      <td>회원가입</td>\n",
       "      <td>20201130</td>\n",
       "      <td>.</td>\n",
       "    </tr>\n",
       "    <tr>\n",
       "      <th>20586</th>\n",
       "      <td>517602</td>\n",
       "      <td>D점포</td>\n",
       "      <td>단체고객</td>\n",
       "      <td>NaN</td>\n",
       "      <td>회원가입</td>\n",
       "      <td>20201130</td>\n",
       "      <td>.</td>\n",
       "    </tr>\n",
       "    <tr>\n",
       "      <th>20587</th>\n",
       "      <td>517611</td>\n",
       "      <td>무점포</td>\n",
       "      <td>3형고객</td>\n",
       "      <td>1997-0704</td>\n",
       "      <td>회원가입</td>\n",
       "      <td>20201130</td>\n",
       "      <td>.</td>\n",
       "    </tr>\n",
       "    <tr>\n",
       "      <th>20588</th>\n",
       "      <td>517650</td>\n",
       "      <td>무점포</td>\n",
       "      <td>1형고객</td>\n",
       "      <td>1987-0304</td>\n",
       "      <td>회원대기</td>\n",
       "      <td>20201130</td>\n",
       "      <td>.</td>\n",
       "    </tr>\n",
       "  </tbody>\n",
       "</table>\n",
       "</div>"
      ],
      "text/plain": [
       "         고객번호 업장구분  고객분류       생년월일  고객상태       가입일 탈퇴일\n",
       "20584  517588  무점포  1형고객  1970-0417  회원대기  20201130   .\n",
       "20585  517595  C점포  1형고객  1969-0107  회원가입  20201130   .\n",
       "20586  517602  D점포  단체고객        NaN  회원가입  20201130   .\n",
       "20587  517611  무점포  3형고객  1997-0704  회원가입  20201130   .\n",
       "20588  517650  무점포  1형고객  1987-0304  회원대기  20201130   ."
      ]
     },
     "execution_count": 231,
     "metadata": {},
     "output_type": "execute_result"
    }
   ],
   "source": [
    "고객정보 = pd.read_excel(TotalData, sheet_name = 3)\n",
    "고객정보.tail()"
   ]
  },
  {
   "cell_type": "code",
   "execution_count": 136,
   "metadata": {},
   "outputs": [],
   "source": [
    "custom = 고객정보.copy()"
   ]
  },
  {
   "cell_type": "code",
   "execution_count": 385,
   "metadata": {
    "scrolled": true
   },
   "outputs": [
    {
     "name": "stdout",
     "output_type": "stream",
     "text": [
      "<class 'pandas.core.frame.DataFrame'>\n",
      "RangeIndex: 20589 entries, 0 to 20588\n",
      "Data columns (total 8 columns):\n",
      " #   Column  Non-Null Count  Dtype\n",
      "---  ------  --------------  -----\n",
      " 0   고객번호    20589 non-null  bool \n",
      " 1   업장구분    20589 non-null  bool \n",
      " 2   고객분류    20589 non-null  bool \n",
      " 3   생년월일    20589 non-null  bool \n",
      " 4   고객상태    20589 non-null  bool \n",
      " 5   가입일     20589 non-null  bool \n",
      " 6   탈퇴일     20589 non-null  bool \n",
      " 7   가입기간    20589 non-null  bool \n",
      "dtypes: bool(8)\n",
      "memory usage: 161.0 KB\n"
     ]
    }
   ],
   "source": [
    "custom.isnull().info()"
   ]
  },
  {
   "cell_type": "code",
   "execution_count": 387,
   "metadata": {},
   "outputs": [
    {
     "data": {
      "text/plain": [
       "고객번호        0\n",
       "업장구분      993\n",
       "고객분류        0\n",
       "생년월일     6926\n",
       "고객상태        0\n",
       "가입일       119\n",
       "탈퇴일     15137\n",
       "가입기간    15189\n",
       "dtype: int64"
      ]
     },
     "execution_count": 387,
     "metadata": {},
     "output_type": "execute_result"
    }
   ],
   "source": [
    "## col별 null값 갯수 확인\n",
    "custom.isnull().sum()"
   ]
  },
  {
   "cell_type": "code",
   "execution_count": 8,
   "metadata": {},
   "outputs": [
    {
     "name": "stdout",
     "output_type": "stream",
     "text": [
      "고객 수 : 20589.0, \n",
      "max : 517650,\n",
      "min : 72352\n"
     ]
    },
    {
     "data": {
      "text/html": [
       "<div>\n",
       "<style scoped>\n",
       "    .dataframe tbody tr th:only-of-type {\n",
       "        vertical-align: middle;\n",
       "    }\n",
       "\n",
       "    .dataframe tbody tr th {\n",
       "        vertical-align: top;\n",
       "    }\n",
       "\n",
       "    .dataframe thead th {\n",
       "        text-align: right;\n",
       "    }\n",
       "</style>\n",
       "<table border=\"1\" class=\"dataframe\">\n",
       "  <thead>\n",
       "    <tr style=\"text-align: right;\">\n",
       "      <th></th>\n",
       "      <th>고객번호</th>\n",
       "    </tr>\n",
       "  </thead>\n",
       "  <tbody>\n",
       "    <tr>\n",
       "      <th>count</th>\n",
       "      <td>20589.000000</td>\n",
       "    </tr>\n",
       "    <tr>\n",
       "      <th>mean</th>\n",
       "      <td>303121.797465</td>\n",
       "    </tr>\n",
       "    <tr>\n",
       "      <th>std</th>\n",
       "      <td>151678.511943</td>\n",
       "    </tr>\n",
       "    <tr>\n",
       "      <th>min</th>\n",
       "      <td>72352.000000</td>\n",
       "    </tr>\n",
       "    <tr>\n",
       "      <th>25%</th>\n",
       "      <td>155494.000000</td>\n",
       "    </tr>\n",
       "    <tr>\n",
       "      <th>50%</th>\n",
       "      <td>313461.000000</td>\n",
       "    </tr>\n",
       "    <tr>\n",
       "      <th>75%</th>\n",
       "      <td>450934.000000</td>\n",
       "    </tr>\n",
       "    <tr>\n",
       "      <th>max</th>\n",
       "      <td>517650.000000</td>\n",
       "    </tr>\n",
       "  </tbody>\n",
       "</table>\n",
       "</div>"
      ],
      "text/plain": [
       "                고객번호\n",
       "count   20589.000000\n",
       "mean   303121.797465\n",
       "std    151678.511943\n",
       "min     72352.000000\n",
       "25%    155494.000000\n",
       "50%    313461.000000\n",
       "75%    450934.000000\n",
       "max    517650.000000"
      ]
     },
     "execution_count": 8,
     "metadata": {},
     "output_type": "execute_result"
    }
   ],
   "source": [
    "# 고객번호 col 분석\n",
    "print('''고객 수 : {}, \n",
    "max : {},\n",
    "min : {}'''.format(고객정보.describe().iloc[0,0],고객정보.고객번호.max(),고객정보.고객번호.min()))\n",
    "고객정보.describe()"
   ]
  },
  {
   "cell_type": "code",
   "execution_count": 137,
   "metadata": {},
   "outputs": [
    {
     "data": {
      "text/html": [
       "<div>\n",
       "<style scoped>\n",
       "    .dataframe tbody tr th:only-of-type {\n",
       "        vertical-align: middle;\n",
       "    }\n",
       "\n",
       "    .dataframe tbody tr th {\n",
       "        vertical-align: top;\n",
       "    }\n",
       "\n",
       "    .dataframe thead th {\n",
       "        text-align: right;\n",
       "    }\n",
       "</style>\n",
       "<table border=\"1\" class=\"dataframe\">\n",
       "  <thead>\n",
       "    <tr style=\"text-align: right;\">\n",
       "      <th></th>\n",
       "      <th>고객번호</th>\n",
       "      <th>업장구분</th>\n",
       "      <th>고객분류</th>\n",
       "      <th>생년월일</th>\n",
       "      <th>고객상태</th>\n",
       "      <th>가입일</th>\n",
       "      <th>탈퇴일</th>\n",
       "    </tr>\n",
       "  </thead>\n",
       "  <tbody>\n",
       "    <tr>\n",
       "      <th>20584</th>\n",
       "      <td>517588</td>\n",
       "      <td>무점포</td>\n",
       "      <td>1형고객</td>\n",
       "      <td>1970-04-17</td>\n",
       "      <td>회원대기</td>\n",
       "      <td>2020-11-30</td>\n",
       "      <td>NaT</td>\n",
       "    </tr>\n",
       "    <tr>\n",
       "      <th>20585</th>\n",
       "      <td>517595</td>\n",
       "      <td>C점포</td>\n",
       "      <td>1형고객</td>\n",
       "      <td>1969-01-07</td>\n",
       "      <td>회원가입</td>\n",
       "      <td>2020-11-30</td>\n",
       "      <td>NaT</td>\n",
       "    </tr>\n",
       "    <tr>\n",
       "      <th>20586</th>\n",
       "      <td>517602</td>\n",
       "      <td>D점포</td>\n",
       "      <td>단체고객</td>\n",
       "      <td>NaT</td>\n",
       "      <td>회원가입</td>\n",
       "      <td>2020-11-30</td>\n",
       "      <td>NaT</td>\n",
       "    </tr>\n",
       "    <tr>\n",
       "      <th>20587</th>\n",
       "      <td>517611</td>\n",
       "      <td>무점포</td>\n",
       "      <td>3형고객</td>\n",
       "      <td>1997-07-04</td>\n",
       "      <td>회원가입</td>\n",
       "      <td>2020-11-30</td>\n",
       "      <td>NaT</td>\n",
       "    </tr>\n",
       "    <tr>\n",
       "      <th>20588</th>\n",
       "      <td>517650</td>\n",
       "      <td>무점포</td>\n",
       "      <td>1형고객</td>\n",
       "      <td>1987-03-04</td>\n",
       "      <td>회원대기</td>\n",
       "      <td>2020-11-30</td>\n",
       "      <td>NaT</td>\n",
       "    </tr>\n",
       "  </tbody>\n",
       "</table>\n",
       "</div>"
      ],
      "text/plain": [
       "         고객번호 업장구분  고객분류       생년월일  고객상태        가입일 탈퇴일\n",
       "20584  517588  무점포  1형고객 1970-04-17  회원대기 2020-11-30 NaT\n",
       "20585  517595  C점포  1형고객 1969-01-07  회원가입 2020-11-30 NaT\n",
       "20586  517602  D점포  단체고객        NaT  회원가입 2020-11-30 NaT\n",
       "20587  517611  무점포  3형고객 1997-07-04  회원가입 2020-11-30 NaT\n",
       "20588  517650  무점포  1형고객 1987-03-04  회원대기 2020-11-30 NaT"
      ]
     },
     "execution_count": 137,
     "metadata": {},
     "output_type": "execute_result"
    }
   ],
   "source": [
    "# 생일, 가입일, 탈퇴일 datetime으로 변경\n",
    "custom.생년월일 = pd.to_datetime(custom['생년월일'], format='%Y-%m%d', errors='coerce')\n",
    "custom.가입일 = pd.to_datetime(custom['가입일'], format='%Y%m%d', errors='coerce')\n",
    "custom.탈퇴일 = pd.to_datetime(custom['탈퇴일'], format='%Y%m%d', errors='coerce')\n",
    "\n",
    "custom.tail()"
   ]
  },
  {
   "cell_type": "code",
   "execution_count": 138,
   "metadata": {},
   "outputs": [
    {
     "data": {
      "text/html": [
       "<div>\n",
       "<style scoped>\n",
       "    .dataframe tbody tr th:only-of-type {\n",
       "        vertical-align: middle;\n",
       "    }\n",
       "\n",
       "    .dataframe tbody tr th {\n",
       "        vertical-align: top;\n",
       "    }\n",
       "\n",
       "    .dataframe thead th {\n",
       "        text-align: right;\n",
       "    }\n",
       "</style>\n",
       "<table border=\"1\" class=\"dataframe\">\n",
       "  <thead>\n",
       "    <tr style=\"text-align: right;\">\n",
       "      <th></th>\n",
       "      <th>고객번호</th>\n",
       "      <th>업장구분</th>\n",
       "      <th>고객분류</th>\n",
       "      <th>생년월일</th>\n",
       "      <th>고객상태</th>\n",
       "      <th>가입일</th>\n",
       "      <th>탈퇴일</th>\n",
       "    </tr>\n",
       "  </thead>\n",
       "  <tbody>\n",
       "    <tr>\n",
       "      <th>2</th>\n",
       "      <td>72357</td>\n",
       "      <td>무점포</td>\n",
       "      <td>1형고객</td>\n",
       "      <td>1968-04-20</td>\n",
       "      <td>회원가입</td>\n",
       "      <td>2001-02-11</td>\n",
       "      <td>NaT</td>\n",
       "    </tr>\n",
       "    <tr>\n",
       "      <th>3</th>\n",
       "      <td>72358</td>\n",
       "      <td>무점포</td>\n",
       "      <td>1형고객</td>\n",
       "      <td>1952-06-16</td>\n",
       "      <td>회원가입</td>\n",
       "      <td>2001-02-12</td>\n",
       "      <td>NaT</td>\n",
       "    </tr>\n",
       "    <tr>\n",
       "      <th>4</th>\n",
       "      <td>72359</td>\n",
       "      <td>무점포</td>\n",
       "      <td>1형고객</td>\n",
       "      <td>1960-02-05</td>\n",
       "      <td>회원가입</td>\n",
       "      <td>2001-02-14</td>\n",
       "      <td>NaT</td>\n",
       "    </tr>\n",
       "    <tr>\n",
       "      <th>5</th>\n",
       "      <td>72360</td>\n",
       "      <td>무점포</td>\n",
       "      <td>1형고객</td>\n",
       "      <td>1966-12-20</td>\n",
       "      <td>휴면고객</td>\n",
       "      <td>2001-02-16</td>\n",
       "      <td>NaT</td>\n",
       "    </tr>\n",
       "    <tr>\n",
       "      <th>6</th>\n",
       "      <td>72361</td>\n",
       "      <td>무점포</td>\n",
       "      <td>1형고객</td>\n",
       "      <td>1955-10-23</td>\n",
       "      <td>사용정지</td>\n",
       "      <td>2001-02-17</td>\n",
       "      <td>NaT</td>\n",
       "    </tr>\n",
       "    <tr>\n",
       "      <th>...</th>\n",
       "      <td>...</td>\n",
       "      <td>...</td>\n",
       "      <td>...</td>\n",
       "      <td>...</td>\n",
       "      <td>...</td>\n",
       "      <td>...</td>\n",
       "      <td>...</td>\n",
       "    </tr>\n",
       "    <tr>\n",
       "      <th>20583</th>\n",
       "      <td>517569</td>\n",
       "      <td>무점포</td>\n",
       "      <td>3형고객</td>\n",
       "      <td>1985-12-19</td>\n",
       "      <td>회원가입</td>\n",
       "      <td>2020-11-30</td>\n",
       "      <td>NaT</td>\n",
       "    </tr>\n",
       "    <tr>\n",
       "      <th>20584</th>\n",
       "      <td>517588</td>\n",
       "      <td>무점포</td>\n",
       "      <td>1형고객</td>\n",
       "      <td>1970-04-17</td>\n",
       "      <td>회원대기</td>\n",
       "      <td>2020-11-30</td>\n",
       "      <td>NaT</td>\n",
       "    </tr>\n",
       "    <tr>\n",
       "      <th>20585</th>\n",
       "      <td>517595</td>\n",
       "      <td>C점포</td>\n",
       "      <td>1형고객</td>\n",
       "      <td>1969-01-07</td>\n",
       "      <td>회원가입</td>\n",
       "      <td>2020-11-30</td>\n",
       "      <td>NaT</td>\n",
       "    </tr>\n",
       "    <tr>\n",
       "      <th>20587</th>\n",
       "      <td>517611</td>\n",
       "      <td>무점포</td>\n",
       "      <td>3형고객</td>\n",
       "      <td>1997-07-04</td>\n",
       "      <td>회원가입</td>\n",
       "      <td>2020-11-30</td>\n",
       "      <td>NaT</td>\n",
       "    </tr>\n",
       "    <tr>\n",
       "      <th>20588</th>\n",
       "      <td>517650</td>\n",
       "      <td>무점포</td>\n",
       "      <td>1형고객</td>\n",
       "      <td>1987-03-04</td>\n",
       "      <td>회원대기</td>\n",
       "      <td>2020-11-30</td>\n",
       "      <td>NaT</td>\n",
       "    </tr>\n",
       "  </tbody>\n",
       "</table>\n",
       "<p>13663 rows × 7 columns</p>\n",
       "</div>"
      ],
      "text/plain": [
       "         고객번호 업장구분  고객분류       생년월일  고객상태        가입일 탈퇴일\n",
       "2       72357  무점포  1형고객 1968-04-20  회원가입 2001-02-11 NaT\n",
       "3       72358  무점포  1형고객 1952-06-16  회원가입 2001-02-12 NaT\n",
       "4       72359  무점포  1형고객 1960-02-05  회원가입 2001-02-14 NaT\n",
       "5       72360  무점포  1형고객 1966-12-20  휴면고객 2001-02-16 NaT\n",
       "6       72361  무점포  1형고객 1955-10-23  사용정지 2001-02-17 NaT\n",
       "...       ...  ...   ...        ...   ...        ...  ..\n",
       "20583  517569  무점포  3형고객 1985-12-19  회원가입 2020-11-30 NaT\n",
       "20584  517588  무점포  1형고객 1970-04-17  회원대기 2020-11-30 NaT\n",
       "20585  517595  C점포  1형고객 1969-01-07  회원가입 2020-11-30 NaT\n",
       "20587  517611  무점포  3형고객 1997-07-04  회원가입 2020-11-30 NaT\n",
       "20588  517650  무점포  1형고객 1987-03-04  회원대기 2020-11-30 NaT\n",
       "\n",
       "[13663 rows x 7 columns]"
      ]
     },
     "execution_count": 138,
     "metadata": {},
     "output_type": "execute_result"
    }
   ],
   "source": [
    "custom[custom.생년월일.notnull()]"
   ]
  },
  {
   "cell_type": "code",
   "execution_count": 139,
   "metadata": {},
   "outputs": [
    {
     "data": {
      "image/png": "[encoded data removed]",
      "text/plain": [
       "<Figure size 432x288 with 2 Axes>"
      ]
     },
     "metadata": {
      "needs_background": "light"
     },
     "output_type": "display_data"
    }
   ],
   "source": [
    "sns.heatmap(custom.isnull())\n",
    "plt.xticks(rotation = 45)\n",
    "plt.show()"
   ]
  },
  {
   "cell_type": "markdown",
   "metadata": {},
   "source": [
    "## 분석 주제\n",
    "### 1. 가입일과 탈퇴일 비교\n",
    "        => 탈퇴가 가장 많은 일자 확인.\n",
    "        => 어느기간에 고객관리를 많이 해야할 것인지 확인    "
   ]
  },
  {
   "cell_type": "markdown",
   "metadata": {},
   "source": [
    "## 가입기간 분석\n",
    "    탈퇴까지의 기간을 분석해서 고객유지를 도모하고자 함."
   ]
  },
  {
   "cell_type": "code",
   "execution_count": 171,
   "metadata": {},
   "outputs": [
    {
     "data": {
      "text/html": [
       "<div>\n",
       "<style scoped>\n",
       "    .dataframe tbody tr th:only-of-type {\n",
       "        vertical-align: middle;\n",
       "    }\n",
       "\n",
       "    .dataframe tbody tr th {\n",
       "        vertical-align: top;\n",
       "    }\n",
       "\n",
       "    .dataframe thead th {\n",
       "        text-align: right;\n",
       "    }\n",
       "</style>\n",
       "<table border=\"1\" class=\"dataframe\">\n",
       "  <thead>\n",
       "    <tr style=\"text-align: right;\">\n",
       "      <th></th>\n",
       "      <th>고객번호</th>\n",
       "      <th>업장구분</th>\n",
       "      <th>고객분류</th>\n",
       "      <th>생년월일</th>\n",
       "      <th>고객상태</th>\n",
       "      <th>가입일</th>\n",
       "      <th>탈퇴일</th>\n",
       "      <th>가입기간</th>\n",
       "    </tr>\n",
       "  </thead>\n",
       "  <tbody>\n",
       "    <tr>\n",
       "      <th>20584</th>\n",
       "      <td>517588</td>\n",
       "      <td>무점포</td>\n",
       "      <td>1형고객</td>\n",
       "      <td>1970-04-17</td>\n",
       "      <td>회원대기</td>\n",
       "      <td>2020-11-30</td>\n",
       "      <td>NaT</td>\n",
       "      <td>NaT</td>\n",
       "    </tr>\n",
       "    <tr>\n",
       "      <th>20585</th>\n",
       "      <td>517595</td>\n",
       "      <td>C점포</td>\n",
       "      <td>1형고객</td>\n",
       "      <td>1969-01-07</td>\n",
       "      <td>회원가입</td>\n",
       "      <td>2020-11-30</td>\n",
       "      <td>NaT</td>\n",
       "      <td>NaT</td>\n",
       "    </tr>\n",
       "    <tr>\n",
       "      <th>20586</th>\n",
       "      <td>517602</td>\n",
       "      <td>D점포</td>\n",
       "      <td>단체고객</td>\n",
       "      <td>NaT</td>\n",
       "      <td>회원가입</td>\n",
       "      <td>2020-11-30</td>\n",
       "      <td>NaT</td>\n",
       "      <td>NaT</td>\n",
       "    </tr>\n",
       "    <tr>\n",
       "      <th>20587</th>\n",
       "      <td>517611</td>\n",
       "      <td>무점포</td>\n",
       "      <td>3형고객</td>\n",
       "      <td>1997-07-04</td>\n",
       "      <td>회원가입</td>\n",
       "      <td>2020-11-30</td>\n",
       "      <td>NaT</td>\n",
       "      <td>NaT</td>\n",
       "    </tr>\n",
       "    <tr>\n",
       "      <th>20588</th>\n",
       "      <td>517650</td>\n",
       "      <td>무점포</td>\n",
       "      <td>1형고객</td>\n",
       "      <td>1987-03-04</td>\n",
       "      <td>회원대기</td>\n",
       "      <td>2020-11-30</td>\n",
       "      <td>NaT</td>\n",
       "      <td>NaT</td>\n",
       "    </tr>\n",
       "  </tbody>\n",
       "</table>\n",
       "</div>"
      ],
      "text/plain": [
       "         고객번호 업장구분  고객분류       생년월일  고객상태        가입일 탈퇴일 가입기간\n",
       "20584  517588  무점포  1형고객 1970-04-17  회원대기 2020-11-30 NaT  NaT\n",
       "20585  517595  C점포  1형고객 1969-01-07  회원가입 2020-11-30 NaT  NaT\n",
       "20586  517602  D점포  단체고객        NaT  회원가입 2020-11-30 NaT  NaT\n",
       "20587  517611  무점포  3형고객 1997-07-04  회원가입 2020-11-30 NaT  NaT\n",
       "20588  517650  무점포  1형고객 1987-03-04  회원대기 2020-11-30 NaT  NaT"
      ]
     },
     "execution_count": 171,
     "metadata": {},
     "output_type": "execute_result"
    }
   ],
   "source": [
    "custom['가입기간'] = custom.탈퇴일 - custom.가입일\n",
    "custom.tail()"
   ]
  },
  {
   "cell_type": "code",
   "execution_count": 218,
   "metadata": {},
   "outputs": [
    {
     "data": {
      "text/plain": [
       "7105"
      ]
     },
     "execution_count": 218,
     "metadata": {},
     "output_type": "execute_result"
    }
   ],
   "source": [
    "max(custom.가입기간[custom.가입기간.notnull()].dt.days)"
   ]
  },
  {
   "cell_type": "code",
   "execution_count": 377,
   "metadata": {},
   "outputs": [
    {
     "data": {
      "image/png": "[encoded data removed]",
      "text/plain": [
       "<Figure size 432x288 with 1 Axes>"
      ]
     },
     "metadata": {
      "needs_background": "light"
     },
     "output_type": "display_data"
    }
   ],
   "source": [
    "## 가입~탈퇴까지 기간 시각화\n",
    "sns.histplot(custom.가입기간[custom.가입기간.notnull()].dt.days, bins=142, color = \"#FAC3BE\"\n",
    "             , element='poly')\n",
    "plt.show()"
   ]
  },
  {
   "cell_type": "code",
   "execution_count": 378,
   "metadata": {},
   "outputs": [
    {
     "data": {
      "image/png": "[encoded data removed]",
      "text/plain": [
       "<Figure size 432x288 with 1 Axes>"
      ]
     },
     "metadata": {
      "needs_background": "light"
     },
     "output_type": "display_data"
    }
   ],
   "source": [
    "sns.histplot(custom.가입기간[custom.가입기간.notnull()].dt.days, bins=142, color='#FAC3BE')\n",
    "plt.xlim(0,500)\n",
    "plt.show()\n",
    "\n",
    "## 50~100일 사이에 많은 수의 탈퇴자가 발생함."
   ]
  },
  {
   "cell_type": "markdown",
   "metadata": {},
   "source": [
    "==============================================================\n",
    "#####  업장구분\n",
    "    업장 수 : 10 (null 제외 = 9)"
   ]
  },
  {
   "cell_type": "code",
   "execution_count": 140,
   "metadata": {},
   "outputs": [
    {
     "data": {
      "text/plain": [
       "array([nan, '무점포', 'A점포', 'B점포', 'C점포', 'D점포', 'E점포', 'F점포', 'H점포', 'G점포'],\n",
       "      dtype=object)"
      ]
     },
     "execution_count": 140,
     "metadata": {},
     "output_type": "execute_result"
    }
   ],
   "source": [
    "custom.업장구분.unique()"
   ]
  },
  {
   "cell_type": "code",
   "execution_count": 141,
   "metadata": {},
   "outputs": [
    {
     "data": {
      "text/plain": [
       "10"
      ]
     },
     "execution_count": 141,
     "metadata": {},
     "output_type": "execute_result"
    }
   ],
   "source": [
    "# 업장 수\n",
    "len(custom.업장구분.unique())"
   ]
  },
  {
   "cell_type": "code",
   "execution_count": 142,
   "metadata": {},
   "outputs": [
    {
     "data": {
      "text/plain": [
       "업장구분\n",
       "A점포    1854\n",
       "B점포     927\n",
       "C점포    2411\n",
       "D점포     881\n",
       "E점포    2279\n",
       "F점포    3031\n",
       "G점포       1\n",
       "H점포    1737\n",
       "무점포    6475\n",
       "Name: 고객번호, dtype: int64"
      ]
     },
     "execution_count": 142,
     "metadata": {},
     "output_type": "execute_result"
    }
   ],
   "source": [
    "custom.groupby('업장구분')['고객번호'].count()"
   ]
  },
  {
   "cell_type": "code",
   "execution_count": 628,
   "metadata": {},
   "outputs": [
    {
     "data": {
      "text/html": [
       "<div>\n",
       "<style scoped>\n",
       "    .dataframe tbody tr th:only-of-type {\n",
       "        vertical-align: middle;\n",
       "    }\n",
       "\n",
       "    .dataframe tbody tr th {\n",
       "        vertical-align: top;\n",
       "    }\n",
       "\n",
       "    .dataframe thead th {\n",
       "        text-align: right;\n",
       "    }\n",
       "</style>\n",
       "<table border=\"1\" class=\"dataframe\">\n",
       "  <thead>\n",
       "    <tr style=\"text-align: right;\">\n",
       "      <th></th>\n",
       "      <th>고객번호</th>\n",
       "      <th>업장구분</th>\n",
       "      <th>고객분류</th>\n",
       "      <th>생년월일</th>\n",
       "      <th>고객상태</th>\n",
       "      <th>가입일</th>\n",
       "      <th>탈퇴일</th>\n",
       "      <th>가입기간</th>\n",
       "    </tr>\n",
       "  </thead>\n",
       "  <tbody>\n",
       "    <tr>\n",
       "      <th>0</th>\n",
       "      <td>72352</td>\n",
       "      <td>NaN</td>\n",
       "      <td>기타</td>\n",
       "      <td>NaT</td>\n",
       "      <td>회원가입</td>\n",
       "      <td>2006-06-12</td>\n",
       "      <td>NaT</td>\n",
       "      <td>NaT</td>\n",
       "    </tr>\n",
       "    <tr>\n",
       "      <th>1722</th>\n",
       "      <td>75174</td>\n",
       "      <td>NaN</td>\n",
       "      <td>생산업체</td>\n",
       "      <td>NaT</td>\n",
       "      <td>사용정지</td>\n",
       "      <td>2006-06-22</td>\n",
       "      <td>NaT</td>\n",
       "      <td>NaT</td>\n",
       "    </tr>\n",
       "    <tr>\n",
       "      <th>1723</th>\n",
       "      <td>75176</td>\n",
       "      <td>NaN</td>\n",
       "      <td>생산업체</td>\n",
       "      <td>NaT</td>\n",
       "      <td>사용정지</td>\n",
       "      <td>2006-06-22</td>\n",
       "      <td>NaT</td>\n",
       "      <td>NaT</td>\n",
       "    </tr>\n",
       "    <tr>\n",
       "      <th>1724</th>\n",
       "      <td>75178</td>\n",
       "      <td>NaN</td>\n",
       "      <td>생산업체</td>\n",
       "      <td>NaT</td>\n",
       "      <td>회원가입</td>\n",
       "      <td>2006-06-22</td>\n",
       "      <td>NaT</td>\n",
       "      <td>NaT</td>\n",
       "    </tr>\n",
       "    <tr>\n",
       "      <th>1725</th>\n",
       "      <td>75204</td>\n",
       "      <td>NaN</td>\n",
       "      <td>생산업체</td>\n",
       "      <td>NaT</td>\n",
       "      <td>사용정지</td>\n",
       "      <td>2006-06-22</td>\n",
       "      <td>NaT</td>\n",
       "      <td>NaT</td>\n",
       "    </tr>\n",
       "    <tr>\n",
       "      <th>...</th>\n",
       "      <td>...</td>\n",
       "      <td>...</td>\n",
       "      <td>...</td>\n",
       "      <td>...</td>\n",
       "      <td>...</td>\n",
       "      <td>...</td>\n",
       "      <td>...</td>\n",
       "      <td>...</td>\n",
       "    </tr>\n",
       "    <tr>\n",
       "      <th>14049</th>\n",
       "      <td>423348</td>\n",
       "      <td>NaN</td>\n",
       "      <td>일반거래처</td>\n",
       "      <td>NaT</td>\n",
       "      <td>회원가입</td>\n",
       "      <td>2017-12-01</td>\n",
       "      <td>NaT</td>\n",
       "      <td>NaT</td>\n",
       "    </tr>\n",
       "    <tr>\n",
       "      <th>14062</th>\n",
       "      <td>423801</td>\n",
       "      <td>NaN</td>\n",
       "      <td>일반거래처</td>\n",
       "      <td>NaT</td>\n",
       "      <td>회원가입</td>\n",
       "      <td>2017-12-08</td>\n",
       "      <td>NaT</td>\n",
       "      <td>NaT</td>\n",
       "    </tr>\n",
       "    <tr>\n",
       "      <th>14083</th>\n",
       "      <td>424773</td>\n",
       "      <td>NaN</td>\n",
       "      <td>일반거래처</td>\n",
       "      <td>NaT</td>\n",
       "      <td>회원가입</td>\n",
       "      <td>2017-12-26</td>\n",
       "      <td>NaT</td>\n",
       "      <td>NaT</td>\n",
       "    </tr>\n",
       "    <tr>\n",
       "      <th>14084</th>\n",
       "      <td>424779</td>\n",
       "      <td>NaN</td>\n",
       "      <td>일반거래처</td>\n",
       "      <td>NaT</td>\n",
       "      <td>회원가입</td>\n",
       "      <td>2017-12-26</td>\n",
       "      <td>NaT</td>\n",
       "      <td>NaT</td>\n",
       "    </tr>\n",
       "    <tr>\n",
       "      <th>14179</th>\n",
       "      <td>428661</td>\n",
       "      <td>NaN</td>\n",
       "      <td>일반거래처</td>\n",
       "      <td>NaT</td>\n",
       "      <td>회원가입</td>\n",
       "      <td>2018-02-19</td>\n",
       "      <td>NaT</td>\n",
       "      <td>NaT</td>\n",
       "    </tr>\n",
       "  </tbody>\n",
       "</table>\n",
       "<p>993 rows × 8 columns</p>\n",
       "</div>"
      ],
      "text/plain": [
       "         고객번호 업장구분   고객분류 생년월일  고객상태        가입일 탈퇴일 가입기간\n",
       "0       72352  NaN     기타  NaT  회원가입 2006-06-12 NaT  NaT\n",
       "1722    75174  NaN   생산업체  NaT  사용정지 2006-06-22 NaT  NaT\n",
       "1723    75176  NaN   생산업체  NaT  사용정지 2006-06-22 NaT  NaT\n",
       "1724    75178  NaN   생산업체  NaT  회원가입 2006-06-22 NaT  NaT\n",
       "1725    75204  NaN   생산업체  NaT  사용정지 2006-06-22 NaT  NaT\n",
       "...       ...  ...    ...  ...   ...        ...  ..  ...\n",
       "14049  423348  NaN  일반거래처  NaT  회원가입 2017-12-01 NaT  NaT\n",
       "14062  423801  NaN  일반거래처  NaT  회원가입 2017-12-08 NaT  NaT\n",
       "14083  424773  NaN  일반거래처  NaT  회원가입 2017-12-26 NaT  NaT\n",
       "14084  424779  NaN  일반거래처  NaT  회원가입 2017-12-26 NaT  NaT\n",
       "14179  428661  NaN  일반거래처  NaT  회원가입 2018-02-19 NaT  NaT\n",
       "\n",
       "[993 rows x 8 columns]"
      ]
     },
     "execution_count": 628,
     "metadata": {},
     "output_type": "execute_result"
    }
   ],
   "source": [
    "## null값 = 993\n",
    "custom[custom.업장구분.isnull()]"
   ]
  },
  {
   "cell_type": "code",
   "execution_count": 388,
   "metadata": {
    "scrolled": true
   },
   "outputs": [
    {
     "data": {
      "text/plain": [
       "<AxesSubplot:xlabel='업장구분', ylabel='count'>"
      ]
     },
     "execution_count": 388,
     "metadata": {},
     "output_type": "execute_result"
    },
    {
     "data": {
      "image/png": "[encoded data removed]",
      "text/plain": [
       "<Figure size 432x288 with 1 Axes>"
      ]
     },
     "metadata": {
      "needs_background": "light"
     },
     "output_type": "display_data"
    }
   ],
   "source": [
    "## barchart\n",
    "sns.countplot(data = custom, x='업장구분')"
   ]
  },
  {
   "cell_type": "code",
   "execution_count": 389,
   "metadata": {},
   "outputs": [
    {
     "data": {
      "text/plain": [
       "['A점포', 'B점포', 'C점포', 'D점포', 'E점포', 'F점포', 'G점포', 'H점포', '무점포', '미기입']"
      ]
     },
     "execution_count": 389,
     "metadata": {},
     "output_type": "execute_result"
    }
   ],
   "source": [
    "## pie chart\n",
    "labels = custom.groupby('업장구분')['고객번호'].count().index.tolist()\n",
    "labels.append('미기입')\n",
    "labels"
   ]
  },
  {
   "cell_type": "code",
   "execution_count": 314,
   "metadata": {},
   "outputs": [
    {
     "data": {
      "text/plain": [
       "[1854, 927, 2411, 881, 2279, 3031, 1, 1737, 6475, 993]"
      ]
     },
     "execution_count": 314,
     "metadata": {},
     "output_type": "execute_result"
    }
   ],
   "source": [
    "ratio = custom.groupby('업장구분')['고객번호'].count().tolist()\n",
    "ratio.append(sum(custom.업장구분.isnull()))\n",
    "ratio"
   ]
  },
  {
   "cell_type": "code",
   "execution_count": 381,
   "metadata": {
    "scrolled": false
   },
   "outputs": [
    {
     "data": {
      "image/png": "[encoded data removed]",
      "text/plain": [
       "<Figure size 432x288 with 1 Axes>"
      ]
     },
     "metadata": {},
     "output_type": "display_data"
    }
   ],
   "source": [
    "plt.pie(ratio, labels=labels,\n",
    "        autopct='%1.2f%%', \n",
    "        pctdistance=.7,\n",
    "        startangle=90,\n",
    "        radius=2,\n",
    "        shadow=True,\n",
    "        textprops={'fontsize': 12})\n",
    "plt.show()"
   ]
  },
  {
   "cell_type": "markdown",
   "metadata": {},
   "source": [
    "### 2. 업장별 분석\n",
    "        1) 어느 업장이 많은지\n",
    "        2) 업장별 고객분류비율, 고객상태 비율 확인"
   ]
  },
  {
   "cell_type": "code",
   "execution_count": 411,
   "metadata": {},
   "outputs": [
    {
     "data": {
      "text/plain": [
       "고객상태\n",
       "사용정지      19\n",
       "회원가입    1411\n",
       "회원탈퇴     423\n",
       "휴면고객       1\n",
       "Name: 고객번호, dtype: int64"
      ]
     },
     "execution_count": 411,
     "metadata": {},
     "output_type": "execute_result"
    }
   ],
   "source": [
    "# 업장구분 = null 제외 분석\n",
    "## 점포별 고객상태 분석\n",
    "custom.groupby(['업장구분','고객상태'])['고객번호'].count().loc['A점포']"
   ]
  },
  {
   "cell_type": "code",
   "execution_count": 390,
   "metadata": {},
   "outputs": [
    {
     "data": {
      "text/plain": [
       "<AxesSubplot:xlabel='업장구분', ylabel='count'>"
      ]
     },
     "execution_count": 390,
     "metadata": {},
     "output_type": "execute_result"
    },
    {
     "data": {
      "image/png": "[encoded data removed]",
      "text/plain": [
       "<Figure size 432x288 with 1 Axes>"
      ]
     },
     "metadata": {
      "needs_background": "light"
     },
     "output_type": "display_data"
    }
   ],
   "source": [
    "# 점포별 고객상태 분석\n",
    "## 비율로 바꾸서 비교할것.\n",
    "sns.countplot(data = custom, x='업장구분', hue='고객상태')"
   ]
  },
  {
   "cell_type": "code",
   "execution_count": null,
   "metadata": {},
   "outputs": [],
   "source": []
  },
  {
   "cell_type": "code",
   "execution_count": null,
   "metadata": {},
   "outputs": [],
   "source": []
  },
  {
   "cell_type": "markdown",
   "metadata": {},
   "source": [
    "### 3. 고객 연령분석\n",
    "        1) 전체 \n",
    "        2) 고객분류별\n",
    "        3) 업장별"
   ]
  },
  {
   "cell_type": "code",
   "execution_count": 428,
   "metadata": {},
   "outputs": [
    {
     "data": {
      "text/html": [
       "<div>\n",
       "<style scoped>\n",
       "    .dataframe tbody tr th:only-of-type {\n",
       "        vertical-align: middle;\n",
       "    }\n",
       "\n",
       "    .dataframe tbody tr th {\n",
       "        vertical-align: top;\n",
       "    }\n",
       "\n",
       "    .dataframe thead th {\n",
       "        text-align: right;\n",
       "    }\n",
       "</style>\n",
       "<table border=\"1\" class=\"dataframe\">\n",
       "  <thead>\n",
       "    <tr style=\"text-align: right;\">\n",
       "      <th></th>\n",
       "      <th>고객번호</th>\n",
       "      <th>업장구분</th>\n",
       "      <th>고객분류</th>\n",
       "      <th>생년월일</th>\n",
       "      <th>고객상태</th>\n",
       "      <th>가입일</th>\n",
       "      <th>탈퇴일</th>\n",
       "      <th>가입기간</th>\n",
       "    </tr>\n",
       "  </thead>\n",
       "  <tbody>\n",
       "    <tr>\n",
       "      <th>0</th>\n",
       "      <td>72357</td>\n",
       "      <td>무점포</td>\n",
       "      <td>1형고객</td>\n",
       "      <td>1968-04-20</td>\n",
       "      <td>회원가입</td>\n",
       "      <td>2001-02-11</td>\n",
       "      <td>NaT</td>\n",
       "      <td>NaT</td>\n",
       "    </tr>\n",
       "    <tr>\n",
       "      <th>1</th>\n",
       "      <td>72358</td>\n",
       "      <td>무점포</td>\n",
       "      <td>1형고객</td>\n",
       "      <td>1952-06-16</td>\n",
       "      <td>회원가입</td>\n",
       "      <td>2001-02-12</td>\n",
       "      <td>NaT</td>\n",
       "      <td>NaT</td>\n",
       "    </tr>\n",
       "    <tr>\n",
       "      <th>2</th>\n",
       "      <td>72359</td>\n",
       "      <td>무점포</td>\n",
       "      <td>1형고객</td>\n",
       "      <td>1960-02-05</td>\n",
       "      <td>회원가입</td>\n",
       "      <td>2001-02-14</td>\n",
       "      <td>NaT</td>\n",
       "      <td>NaT</td>\n",
       "    </tr>\n",
       "    <tr>\n",
       "      <th>3</th>\n",
       "      <td>72360</td>\n",
       "      <td>무점포</td>\n",
       "      <td>1형고객</td>\n",
       "      <td>1966-12-20</td>\n",
       "      <td>휴면고객</td>\n",
       "      <td>2001-02-16</td>\n",
       "      <td>NaT</td>\n",
       "      <td>NaT</td>\n",
       "    </tr>\n",
       "    <tr>\n",
       "      <th>4</th>\n",
       "      <td>72361</td>\n",
       "      <td>무점포</td>\n",
       "      <td>1형고객</td>\n",
       "      <td>1955-10-23</td>\n",
       "      <td>사용정지</td>\n",
       "      <td>2001-02-17</td>\n",
       "      <td>NaT</td>\n",
       "      <td>NaT</td>\n",
       "    </tr>\n",
       "  </tbody>\n",
       "</table>\n",
       "</div>"
      ],
      "text/plain": [
       "    고객번호 업장구분  고객분류       생년월일  고객상태        가입일 탈퇴일 가입기간\n",
       "0  72357  무점포  1형고객 1968-04-20  회원가입 2001-02-11 NaT  NaT\n",
       "1  72358  무점포  1형고객 1952-06-16  회원가입 2001-02-12 NaT  NaT\n",
       "2  72359  무점포  1형고객 1960-02-05  회원가입 2001-02-14 NaT  NaT\n",
       "3  72360  무점포  1형고객 1966-12-20  휴면고객 2001-02-16 NaT  NaT\n",
       "4  72361  무점포  1형고객 1955-10-23  사용정지 2001-02-17 NaT  NaT"
      ]
     },
     "execution_count": 428,
     "metadata": {},
     "output_type": "execute_result"
    }
   ],
   "source": [
    "cus_birth = custom[custom.생년월일.notnull()]  ## sql 문제에도 넣기\n",
    "cus_birth =  cus_birth.reset_index(drop = True)\n",
    "cus_birth.head()"
   ]
  },
  {
   "cell_type": "code",
   "execution_count": 429,
   "metadata": {},
   "outputs": [
    {
     "data": {
      "text/html": [
       "<div>\n",
       "<style scoped>\n",
       "    .dataframe tbody tr th:only-of-type {\n",
       "        vertical-align: middle;\n",
       "    }\n",
       "\n",
       "    .dataframe tbody tr th {\n",
       "        vertical-align: top;\n",
       "    }\n",
       "\n",
       "    .dataframe thead th {\n",
       "        text-align: right;\n",
       "    }\n",
       "</style>\n",
       "<table border=\"1\" class=\"dataframe\">\n",
       "  <thead>\n",
       "    <tr style=\"text-align: right;\">\n",
       "      <th></th>\n",
       "      <th>고객번호</th>\n",
       "      <th>업장구분</th>\n",
       "      <th>고객분류</th>\n",
       "      <th>생년월일</th>\n",
       "      <th>고객상태</th>\n",
       "      <th>가입일</th>\n",
       "      <th>탈퇴일</th>\n",
       "      <th>가입기간</th>\n",
       "      <th>연령대</th>\n",
       "    </tr>\n",
       "  </thead>\n",
       "  <tbody>\n",
       "    <tr>\n",
       "      <th>0</th>\n",
       "      <td>72357</td>\n",
       "      <td>무점포</td>\n",
       "      <td>1형고객</td>\n",
       "      <td>1968-04-20</td>\n",
       "      <td>회원가입</td>\n",
       "      <td>2001-02-11</td>\n",
       "      <td>NaT</td>\n",
       "      <td>NaT</td>\n",
       "      <td>미입력</td>\n",
       "    </tr>\n",
       "    <tr>\n",
       "      <th>1</th>\n",
       "      <td>72358</td>\n",
       "      <td>무점포</td>\n",
       "      <td>1형고객</td>\n",
       "      <td>1952-06-16</td>\n",
       "      <td>회원가입</td>\n",
       "      <td>2001-02-12</td>\n",
       "      <td>NaT</td>\n",
       "      <td>NaT</td>\n",
       "      <td>미입력</td>\n",
       "    </tr>\n",
       "    <tr>\n",
       "      <th>2</th>\n",
       "      <td>72359</td>\n",
       "      <td>무점포</td>\n",
       "      <td>1형고객</td>\n",
       "      <td>1960-02-05</td>\n",
       "      <td>회원가입</td>\n",
       "      <td>2001-02-14</td>\n",
       "      <td>NaT</td>\n",
       "      <td>NaT</td>\n",
       "      <td>미입력</td>\n",
       "    </tr>\n",
       "    <tr>\n",
       "      <th>3</th>\n",
       "      <td>72360</td>\n",
       "      <td>무점포</td>\n",
       "      <td>1형고객</td>\n",
       "      <td>1966-12-20</td>\n",
       "      <td>휴면고객</td>\n",
       "      <td>2001-02-16</td>\n",
       "      <td>NaT</td>\n",
       "      <td>NaT</td>\n",
       "      <td>미입력</td>\n",
       "    </tr>\n",
       "    <tr>\n",
       "      <th>4</th>\n",
       "      <td>72361</td>\n",
       "      <td>무점포</td>\n",
       "      <td>1형고객</td>\n",
       "      <td>1955-10-23</td>\n",
       "      <td>사용정지</td>\n",
       "      <td>2001-02-17</td>\n",
       "      <td>NaT</td>\n",
       "      <td>NaT</td>\n",
       "      <td>미입력</td>\n",
       "    </tr>\n",
       "  </tbody>\n",
       "</table>\n",
       "</div>"
      ],
      "text/plain": [
       "    고객번호 업장구분  고객분류       생년월일  고객상태        가입일 탈퇴일 가입기간  연령대\n",
       "0  72357  무점포  1형고객 1968-04-20  회원가입 2001-02-11 NaT  NaT  미입력\n",
       "1  72358  무점포  1형고객 1952-06-16  회원가입 2001-02-12 NaT  NaT  미입력\n",
       "2  72359  무점포  1형고객 1960-02-05  회원가입 2001-02-14 NaT  NaT  미입력\n",
       "3  72360  무점포  1형고객 1966-12-20  휴면고객 2001-02-16 NaT  NaT  미입력\n",
       "4  72361  무점포  1형고객 1955-10-23  사용정지 2001-02-17 NaT  NaT  미입력"
      ]
     },
     "execution_count": 429,
     "metadata": {},
     "output_type": "execute_result"
    }
   ],
   "source": [
    "cus_birth['연령대'] = '미입력'\n",
    "cus_birth.head()"
   ]
  },
  {
   "cell_type": "code",
   "execution_count": 430,
   "metadata": {},
   "outputs": [
    {
     "name": "stdout",
     "output_type": "stream",
     "text": [
      "1901\n",
      "1999\n"
     ]
    }
   ],
   "source": [
    "## 고객 연령대 분석\n",
    "print(min(cus_birth.생년월일.dt.year))\n",
    "print(max(cus_birth.생년월일.dt.year))"
   ]
  },
  {
   "cell_type": "code",
   "execution_count": 432,
   "metadata": {},
   "outputs": [
    {
     "name": "stderr",
     "output_type": "stream",
     "text": [
      "C:\\ProgramData\\Anaconda3\\lib\\site-packages\\pandas\\core\\indexing.py:670: SettingWithCopyWarning: \n",
      "A value is trying to be set on a copy of a slice from a DataFrame\n",
      "\n",
      "See the caveats in the documentation: https://pandas.pydata.org/pandas-docs/stable/user_guide/indexing.html#returning-a-view-versus-a-copy\n",
      "  iloc._setitem_with_indexer(indexer, value)\n"
     ]
    }
   ],
   "source": [
    "ind = 0\n",
    "for i in cus_birth.생년월일.dt.year: \n",
    "    if i > 1991 :\n",
    "        cus_birth['연령대'].iloc[ind] = '20대'\n",
    "    elif i > 1981 :\n",
    "        cus_birth['연령대'].iloc[ind] = '30대'\n",
    "    elif i > 1971 :\n",
    "        cus_birth['연령대'].iloc[ind] = '40대'\n",
    "    elif i > 1961 :\n",
    "        cus_birth['연령대'].iloc[ind] = '50대'\n",
    "    elif i > 1951 :\n",
    "        cus_birth['연령대'].iloc[ind] = '60대'\n",
    "    elif i > 1941 :\n",
    "        cus_birth['연령대'].iloc[ind] = '70대'\n",
    "    elif i > 1931 :\n",
    "        cus_birth['연령대'].iloc[ind] = '80대'\n",
    "    elif i > 1921 :\n",
    "        cus_birth['연령대'].iloc[ind] = '90대'\n",
    "    else : \n",
    "        cus_birth['연령대'].iloc[ind] = '그외'\n",
    "    ind+=1    "
   ]
  },
  {
   "cell_type": "code",
   "execution_count": 437,
   "metadata": {},
   "outputs": [
    {
     "data": {
      "text/html": [
       "<div>\n",
       "<style scoped>\n",
       "    .dataframe tbody tr th:only-of-type {\n",
       "        vertical-align: middle;\n",
       "    }\n",
       "\n",
       "    .dataframe tbody tr th {\n",
       "        vertical-align: top;\n",
       "    }\n",
       "\n",
       "    .dataframe thead th {\n",
       "        text-align: right;\n",
       "    }\n",
       "</style>\n",
       "<table border=\"1\" class=\"dataframe\">\n",
       "  <thead>\n",
       "    <tr style=\"text-align: right;\">\n",
       "      <th></th>\n",
       "      <th>고객번호</th>\n",
       "      <th>업장구분</th>\n",
       "      <th>고객분류</th>\n",
       "      <th>생년월일</th>\n",
       "      <th>고객상태</th>\n",
       "      <th>가입일</th>\n",
       "      <th>탈퇴일</th>\n",
       "      <th>가입기간</th>\n",
       "      <th>연령대</th>\n",
       "    </tr>\n",
       "  </thead>\n",
       "  <tbody>\n",
       "    <tr>\n",
       "      <th>13658</th>\n",
       "      <td>517569</td>\n",
       "      <td>무점포</td>\n",
       "      <td>3형고객</td>\n",
       "      <td>1985-12-19</td>\n",
       "      <td>회원가입</td>\n",
       "      <td>2020-11-30</td>\n",
       "      <td>NaT</td>\n",
       "      <td>NaT</td>\n",
       "      <td>30대</td>\n",
       "    </tr>\n",
       "    <tr>\n",
       "      <th>13659</th>\n",
       "      <td>517588</td>\n",
       "      <td>무점포</td>\n",
       "      <td>1형고객</td>\n",
       "      <td>1970-04-17</td>\n",
       "      <td>회원대기</td>\n",
       "      <td>2020-11-30</td>\n",
       "      <td>NaT</td>\n",
       "      <td>NaT</td>\n",
       "      <td>50대</td>\n",
       "    </tr>\n",
       "    <tr>\n",
       "      <th>13660</th>\n",
       "      <td>517595</td>\n",
       "      <td>C점포</td>\n",
       "      <td>1형고객</td>\n",
       "      <td>1969-01-07</td>\n",
       "      <td>회원가입</td>\n",
       "      <td>2020-11-30</td>\n",
       "      <td>NaT</td>\n",
       "      <td>NaT</td>\n",
       "      <td>50대</td>\n",
       "    </tr>\n",
       "    <tr>\n",
       "      <th>13661</th>\n",
       "      <td>517611</td>\n",
       "      <td>무점포</td>\n",
       "      <td>3형고객</td>\n",
       "      <td>1997-07-04</td>\n",
       "      <td>회원가입</td>\n",
       "      <td>2020-11-30</td>\n",
       "      <td>NaT</td>\n",
       "      <td>NaT</td>\n",
       "      <td>20대</td>\n",
       "    </tr>\n",
       "    <tr>\n",
       "      <th>13662</th>\n",
       "      <td>517650</td>\n",
       "      <td>무점포</td>\n",
       "      <td>1형고객</td>\n",
       "      <td>1987-03-04</td>\n",
       "      <td>회원대기</td>\n",
       "      <td>2020-11-30</td>\n",
       "      <td>NaT</td>\n",
       "      <td>NaT</td>\n",
       "      <td>30대</td>\n",
       "    </tr>\n",
       "  </tbody>\n",
       "</table>\n",
       "</div>"
      ],
      "text/plain": [
       "         고객번호 업장구분  고객분류       생년월일  고객상태        가입일 탈퇴일 가입기간  연령대\n",
       "13658  517569  무점포  3형고객 1985-12-19  회원가입 2020-11-30 NaT  NaT  30대\n",
       "13659  517588  무점포  1형고객 1970-04-17  회원대기 2020-11-30 NaT  NaT  50대\n",
       "13660  517595  C점포  1형고객 1969-01-07  회원가입 2020-11-30 NaT  NaT  50대\n",
       "13661  517611  무점포  3형고객 1997-07-04  회원가입 2020-11-30 NaT  NaT  20대\n",
       "13662  517650  무점포  1형고객 1987-03-04  회원대기 2020-11-30 NaT  NaT  30대"
      ]
     },
     "execution_count": 437,
     "metadata": {},
     "output_type": "execute_result"
    }
   ],
   "source": [
    "cus_birth.tail()"
   ]
  },
  {
   "cell_type": "code",
   "execution_count": 444,
   "metadata": {},
   "outputs": [
    {
     "data": {
      "text/html": [
       "<div>\n",
       "<style scoped>\n",
       "    .dataframe tbody tr th:only-of-type {\n",
       "        vertical-align: middle;\n",
       "    }\n",
       "\n",
       "    .dataframe tbody tr th {\n",
       "        vertical-align: top;\n",
       "    }\n",
       "\n",
       "    .dataframe thead th {\n",
       "        text-align: right;\n",
       "    }\n",
       "</style>\n",
       "<table border=\"1\" class=\"dataframe\">\n",
       "  <thead>\n",
       "    <tr style=\"text-align: right;\">\n",
       "      <th></th>\n",
       "      <th>고객번호</th>\n",
       "    </tr>\n",
       "    <tr>\n",
       "      <th>연령대</th>\n",
       "      <th></th>\n",
       "    </tr>\n",
       "  </thead>\n",
       "  <tbody>\n",
       "    <tr>\n",
       "      <th>20대</th>\n",
       "      <td>253</td>\n",
       "    </tr>\n",
       "    <tr>\n",
       "      <th>30대</th>\n",
       "      <td>2809</td>\n",
       "    </tr>\n",
       "    <tr>\n",
       "      <th>40대</th>\n",
       "      <td>4299</td>\n",
       "    </tr>\n",
       "    <tr>\n",
       "      <th>50대</th>\n",
       "      <td>3720</td>\n",
       "    </tr>\n",
       "    <tr>\n",
       "      <th>60대</th>\n",
       "      <td>1865</td>\n",
       "    </tr>\n",
       "    <tr>\n",
       "      <th>70대</th>\n",
       "      <td>548</td>\n",
       "    </tr>\n",
       "    <tr>\n",
       "      <th>80대</th>\n",
       "      <td>132</td>\n",
       "    </tr>\n",
       "    <tr>\n",
       "      <th>90대</th>\n",
       "      <td>10</td>\n",
       "    </tr>\n",
       "    <tr>\n",
       "      <th>그외</th>\n",
       "      <td>27</td>\n",
       "    </tr>\n",
       "  </tbody>\n",
       "</table>\n",
       "</div>"
      ],
      "text/plain": [
       "     고객번호\n",
       "연령대      \n",
       "20대   253\n",
       "30대  2809\n",
       "40대  4299\n",
       "50대  3720\n",
       "60대  1865\n",
       "70대   548\n",
       "80대   132\n",
       "90대    10\n",
       "그외     27"
      ]
     },
     "execution_count": 444,
     "metadata": {},
     "output_type": "execute_result"
    }
   ],
   "source": [
    "## 고객 연령대 분포분석\n",
    "bir_range = cus_birth.groupby('연령대')['고객번호'].count().to_frame().sort_values(by='연령대')\n",
    "bir_range"
   ]
  },
  {
   "cell_type": "code",
   "execution_count": 454,
   "metadata": {},
   "outputs": [
    {
     "data": {
      "image/png": "[encoded data removed]",
      "text/plain": [
       "<Figure size 432x288 with 1 Axes>"
      ]
     },
     "metadata": {
      "needs_background": "light"
     },
     "output_type": "display_data"
    }
   ],
   "source": [
    "## barchart\n",
    "sns.barplot(data = bir_range, x = bir_range.index, y=\"고객번호\", palette=\"flare\")\n",
    "plt.ylabel('count')\n",
    "plt.show()\n",
    "## 연령대가 등록된 주 고객은 30~ 60대 고객"
   ]
  },
  {
   "cell_type": "code",
   "execution_count": 461,
   "metadata": {
    "scrolled": true
   },
   "outputs": [
    {
     "data": {
      "text/html": [
       "<div>\n",
       "<style scoped>\n",
       "    .dataframe tbody tr th:only-of-type {\n",
       "        vertical-align: middle;\n",
       "    }\n",
       "\n",
       "    .dataframe tbody tr th {\n",
       "        vertical-align: top;\n",
       "    }\n",
       "\n",
       "    .dataframe thead th {\n",
       "        text-align: right;\n",
       "    }\n",
       "</style>\n",
       "<table border=\"1\" class=\"dataframe\">\n",
       "  <thead>\n",
       "    <tr style=\"text-align: right;\">\n",
       "      <th></th>\n",
       "      <th></th>\n",
       "      <th>고객번호</th>\n",
       "    </tr>\n",
       "    <tr>\n",
       "      <th>연령대</th>\n",
       "      <th>고객상태</th>\n",
       "      <th></th>\n",
       "    </tr>\n",
       "  </thead>\n",
       "  <tbody>\n",
       "    <tr>\n",
       "      <th rowspan=\"3\" valign=\"top\">20대</th>\n",
       "      <th>회원가입</th>\n",
       "      <td>251</td>\n",
       "    </tr>\n",
       "    <tr>\n",
       "      <th>회원대기</th>\n",
       "      <td>1</td>\n",
       "    </tr>\n",
       "    <tr>\n",
       "      <th>회원탈퇴</th>\n",
       "      <td>1</td>\n",
       "    </tr>\n",
       "    <tr>\n",
       "      <th rowspan=\"5\" valign=\"top\">30대</th>\n",
       "      <th>사용정지</th>\n",
       "      <td>7</td>\n",
       "    </tr>\n",
       "    <tr>\n",
       "      <th>회원가입</th>\n",
       "      <td>2764</td>\n",
       "    </tr>\n",
       "    <tr>\n",
       "      <th>회원대기</th>\n",
       "      <td>29</td>\n",
       "    </tr>\n",
       "    <tr>\n",
       "      <th>회원탈퇴</th>\n",
       "      <td>7</td>\n",
       "    </tr>\n",
       "    <tr>\n",
       "      <th>휴면고객</th>\n",
       "      <td>2</td>\n",
       "    </tr>\n",
       "    <tr>\n",
       "      <th rowspan=\"5\" valign=\"top\">40대</th>\n",
       "      <th>사용정지</th>\n",
       "      <td>110</td>\n",
       "    </tr>\n",
       "    <tr>\n",
       "      <th>회원가입</th>\n",
       "      <td>4155</td>\n",
       "    </tr>\n",
       "    <tr>\n",
       "      <th>회원대기</th>\n",
       "      <td>14</td>\n",
       "    </tr>\n",
       "    <tr>\n",
       "      <th>회원탈퇴</th>\n",
       "      <td>3</td>\n",
       "    </tr>\n",
       "    <tr>\n",
       "      <th>휴면고객</th>\n",
       "      <td>17</td>\n",
       "    </tr>\n",
       "    <tr>\n",
       "      <th rowspan=\"5\" valign=\"top\">50대</th>\n",
       "      <th>사용정지</th>\n",
       "      <td>154</td>\n",
       "    </tr>\n",
       "    <tr>\n",
       "      <th>회원가입</th>\n",
       "      <td>3529</td>\n",
       "    </tr>\n",
       "    <tr>\n",
       "      <th>회원대기</th>\n",
       "      <td>10</td>\n",
       "    </tr>\n",
       "    <tr>\n",
       "      <th>회원탈퇴</th>\n",
       "      <td>4</td>\n",
       "    </tr>\n",
       "    <tr>\n",
       "      <th>휴면고객</th>\n",
       "      <td>23</td>\n",
       "    </tr>\n",
       "    <tr>\n",
       "      <th rowspan=\"4\" valign=\"top\">60대</th>\n",
       "      <th>사용정지</th>\n",
       "      <td>62</td>\n",
       "    </tr>\n",
       "    <tr>\n",
       "      <th>회원가입</th>\n",
       "      <td>1798</td>\n",
       "    </tr>\n",
       "    <tr>\n",
       "      <th>회원대기</th>\n",
       "      <td>1</td>\n",
       "    </tr>\n",
       "    <tr>\n",
       "      <th>휴면고객</th>\n",
       "      <td>4</td>\n",
       "    </tr>\n",
       "    <tr>\n",
       "      <th rowspan=\"2\" valign=\"top\">70대</th>\n",
       "      <th>사용정지</th>\n",
       "      <td>14</td>\n",
       "    </tr>\n",
       "    <tr>\n",
       "      <th>회원가입</th>\n",
       "      <td>534</td>\n",
       "    </tr>\n",
       "    <tr>\n",
       "      <th rowspan=\"3\" valign=\"top\">80대</th>\n",
       "      <th>사용정지</th>\n",
       "      <td>7</td>\n",
       "    </tr>\n",
       "    <tr>\n",
       "      <th>회원가입</th>\n",
       "      <td>122</td>\n",
       "    </tr>\n",
       "    <tr>\n",
       "      <th>회원탈퇴</th>\n",
       "      <td>3</td>\n",
       "    </tr>\n",
       "    <tr>\n",
       "      <th>90대</th>\n",
       "      <th>회원가입</th>\n",
       "      <td>10</td>\n",
       "    </tr>\n",
       "    <tr>\n",
       "      <th rowspan=\"4\" valign=\"top\">그외</th>\n",
       "      <th>사용정지</th>\n",
       "      <td>2</td>\n",
       "    </tr>\n",
       "    <tr>\n",
       "      <th>회원가입</th>\n",
       "      <td>23</td>\n",
       "    </tr>\n",
       "    <tr>\n",
       "      <th>회원대기</th>\n",
       "      <td>1</td>\n",
       "    </tr>\n",
       "    <tr>\n",
       "      <th>휴면고객</th>\n",
       "      <td>1</td>\n",
       "    </tr>\n",
       "  </tbody>\n",
       "</table>\n",
       "</div>"
      ],
      "text/plain": [
       "          고객번호\n",
       "연령대 고객상태      \n",
       "20대 회원가입   251\n",
       "    회원대기     1\n",
       "    회원탈퇴     1\n",
       "30대 사용정지     7\n",
       "    회원가입  2764\n",
       "    회원대기    29\n",
       "    회원탈퇴     7\n",
       "    휴면고객     2\n",
       "40대 사용정지   110\n",
       "    회원가입  4155\n",
       "    회원대기    14\n",
       "    회원탈퇴     3\n",
       "    휴면고객    17\n",
       "50대 사용정지   154\n",
       "    회원가입  3529\n",
       "    회원대기    10\n",
       "    회원탈퇴     4\n",
       "    휴면고객    23\n",
       "60대 사용정지    62\n",
       "    회원가입  1798\n",
       "    회원대기     1\n",
       "    휴면고객     4\n",
       "70대 사용정지    14\n",
       "    회원가입   534\n",
       "80대 사용정지     7\n",
       "    회원가입   122\n",
       "    회원탈퇴     3\n",
       "90대 회원가입    10\n",
       "그외  사용정지     2\n",
       "    회원가입    23\n",
       "    회원대기     1\n",
       "    휴면고객     1"
      ]
     },
     "execution_count": 461,
     "metadata": {},
     "output_type": "execute_result"
    }
   ],
   "source": [
    "## 연령대별 고객상태\n",
    "cus_birth.groupby(['연령대','고객상태'])['고객번호'].count().to_frame()"
   ]
  },
  {
   "cell_type": "code",
   "execution_count": 462,
   "metadata": {},
   "outputs": [
    {
     "data": {
      "text/html": [
       "<div>\n",
       "<style scoped>\n",
       "    .dataframe tbody tr th:only-of-type {\n",
       "        vertical-align: middle;\n",
       "    }\n",
       "\n",
       "    .dataframe tbody tr th {\n",
       "        vertical-align: top;\n",
       "    }\n",
       "\n",
       "    .dataframe thead th {\n",
       "        text-align: right;\n",
       "    }\n",
       "</style>\n",
       "<table border=\"1\" class=\"dataframe\">\n",
       "  <thead>\n",
       "    <tr style=\"text-align: right;\">\n",
       "      <th></th>\n",
       "      <th></th>\n",
       "      <th>고객번호</th>\n",
       "    </tr>\n",
       "    <tr>\n",
       "      <th>연령대</th>\n",
       "      <th>업장구분</th>\n",
       "      <th></th>\n",
       "    </tr>\n",
       "  </thead>\n",
       "  <tbody>\n",
       "    <tr>\n",
       "      <th rowspan=\"5\" valign=\"top\">20대</th>\n",
       "      <th>A점포</th>\n",
       "      <td>1</td>\n",
       "    </tr>\n",
       "    <tr>\n",
       "      <th>B점포</th>\n",
       "      <td>2</td>\n",
       "    </tr>\n",
       "    <tr>\n",
       "      <th>C점포</th>\n",
       "      <td>5</td>\n",
       "    </tr>\n",
       "    <tr>\n",
       "      <th>D점포</th>\n",
       "      <td>16</td>\n",
       "    </tr>\n",
       "    <tr>\n",
       "      <th>E점포</th>\n",
       "      <td>5</td>\n",
       "    </tr>\n",
       "    <tr>\n",
       "      <th>...</th>\n",
       "      <th>...</th>\n",
       "      <td>...</td>\n",
       "    </tr>\n",
       "    <tr>\n",
       "      <th rowspan=\"5\" valign=\"top\">그외</th>\n",
       "      <th>D점포</th>\n",
       "      <td>2</td>\n",
       "    </tr>\n",
       "    <tr>\n",
       "      <th>E점포</th>\n",
       "      <td>3</td>\n",
       "    </tr>\n",
       "    <tr>\n",
       "      <th>F점포</th>\n",
       "      <td>5</td>\n",
       "    </tr>\n",
       "    <tr>\n",
       "      <th>H점포</th>\n",
       "      <td>1</td>\n",
       "    </tr>\n",
       "    <tr>\n",
       "      <th>무점포</th>\n",
       "      <td>9</td>\n",
       "    </tr>\n",
       "  </tbody>\n",
       "</table>\n",
       "<p>70 rows × 1 columns</p>\n",
       "</div>"
      ],
      "text/plain": [
       "          고객번호\n",
       "연령대 업장구분      \n",
       "20대 A점포      1\n",
       "    B점포      2\n",
       "    C점포      5\n",
       "    D점포     16\n",
       "    E점포      5\n",
       "...        ...\n",
       "그외  D점포      2\n",
       "    E점포      3\n",
       "    F점포      5\n",
       "    H점포      1\n",
       "    무점포      9\n",
       "\n",
       "[70 rows x 1 columns]"
      ]
     },
     "execution_count": 462,
     "metadata": {},
     "output_type": "execute_result"
    }
   ],
   "source": [
    "## 연령대별 업장분석\n",
    "cus_birth.groupby(['연령대','업장구분'])['고객번호'].count().to_frame()"
   ]
  },
  {
   "cell_type": "code",
   "execution_count": 555,
   "metadata": {},
   "outputs": [
    {
     "data": {
      "text/html": [
       "<div>\n",
       "<style scoped>\n",
       "    .dataframe tbody tr th:only-of-type {\n",
       "        vertical-align: middle;\n",
       "    }\n",
       "\n",
       "    .dataframe tbody tr th {\n",
       "        vertical-align: top;\n",
       "    }\n",
       "\n",
       "    .dataframe thead th {\n",
       "        text-align: right;\n",
       "    }\n",
       "</style>\n",
       "<table border=\"1\" class=\"dataframe\">\n",
       "  <thead>\n",
       "    <tr style=\"text-align: right;\">\n",
       "      <th></th>\n",
       "      <th>고객번호</th>\n",
       "      <th>업장구분</th>\n",
       "      <th>고객분류</th>\n",
       "      <th>생년월일</th>\n",
       "      <th>고객상태</th>\n",
       "      <th>가입일</th>\n",
       "      <th>탈퇴일</th>\n",
       "      <th>가입기간</th>\n",
       "    </tr>\n",
       "  </thead>\n",
       "  <tbody>\n",
       "    <tr>\n",
       "      <th>18146</th>\n",
       "      <td>495094</td>\n",
       "      <td>무점포</td>\n",
       "      <td>단체고객</td>\n",
       "      <td>1984-05-27</td>\n",
       "      <td>회원가입</td>\n",
       "      <td>2020-05-29</td>\n",
       "      <td>NaT</td>\n",
       "      <td>NaT</td>\n",
       "    </tr>\n",
       "  </tbody>\n",
       "</table>\n",
       "</div>"
      ],
      "text/plain": [
       "         고객번호 업장구분  고객분류       생년월일  고객상태        가입일 탈퇴일 가입기간\n",
       "18146  495094  무점포  단체고객 1984-05-27  회원가입 2020-05-29 NaT  NaT"
      ]
     },
     "execution_count": 555,
     "metadata": {},
     "output_type": "execute_result"
    }
   ],
   "source": [
    "custom[custom.고객번호==495094]"
   ]
  },
  {
   "cell_type": "code",
   "execution_count": null,
   "metadata": {},
   "outputs": [],
   "source": []
  },
  {
   "cell_type": "markdown",
   "metadata": {},
   "source": [
    "# ==============================================="
   ]
  },
  {
   "cell_type": "markdown",
   "metadata": {},
   "source": [
    "# 거래데이터"
   ]
  },
  {
   "cell_type": "markdown",
   "metadata": {},
   "source": [
    "## EDA"
   ]
  },
  {
   "cell_type": "code",
   "execution_count": 146,
   "metadata": {},
   "outputs": [
    {
     "data": {
      "text/html": [
       "<div>\n",
       "<style scoped>\n",
       "    .dataframe tbody tr th:only-of-type {\n",
       "        vertical-align: middle;\n",
       "    }\n",
       "\n",
       "    .dataframe tbody tr th {\n",
       "        vertical-align: top;\n",
       "    }\n",
       "\n",
       "    .dataframe thead th {\n",
       "        text-align: right;\n",
       "    }\n",
       "</style>\n",
       "<table border=\"1\" class=\"dataframe\">\n",
       "  <thead>\n",
       "    <tr style=\"text-align: right;\">\n",
       "      <th></th>\n",
       "      <th>고객번호</th>\n",
       "      <th>매장</th>\n",
       "      <th>구매일자</th>\n",
       "      <th>상품번호</th>\n",
       "      <th>상품명</th>\n",
       "      <th>구매단가</th>\n",
       "      <th>구매수량</th>\n",
       "      <th>실제구매액</th>\n",
       "      <th>할인금액</th>\n",
       "    </tr>\n",
       "  </thead>\n",
       "  <tbody>\n",
       "    <tr>\n",
       "      <th>491150</th>\n",
       "      <td>517602</td>\n",
       "      <td>F점포</td>\n",
       "      <td>20201130</td>\n",
       "      <td>32215</td>\n",
       "      <td>돼지앞다리살(불고기</td>\n",
       "      <td>10600</td>\n",
       "      <td>75</td>\n",
       "      <td>795000</td>\n",
       "      <td>NaN</td>\n",
       "    </tr>\n",
       "    <tr>\n",
       "      <th>491151</th>\n",
       "      <td>517602</td>\n",
       "      <td>F점포</td>\n",
       "      <td>20201130</td>\n",
       "      <td>20397</td>\n",
       "      <td>양파(1kg/대과/무농약</td>\n",
       "      <td>3450</td>\n",
       "      <td>25</td>\n",
       "      <td>86250</td>\n",
       "      <td>NaN</td>\n",
       "    </tr>\n",
       "    <tr>\n",
       "      <th>491152</th>\n",
       "      <td>517602</td>\n",
       "      <td>F점포</td>\n",
       "      <td>20201130</td>\n",
       "      <td>10376</td>\n",
       "      <td>팽이버섯(450g/무농약</td>\n",
       "      <td>1900</td>\n",
       "      <td>25</td>\n",
       "      <td>47500</td>\n",
       "      <td>NaN</td>\n",
       "    </tr>\n",
       "    <tr>\n",
       "      <th>491153</th>\n",
       "      <td>517602</td>\n",
       "      <td>F점포</td>\n",
       "      <td>20201130</td>\n",
       "      <td>5959</td>\n",
       "      <td>(영)중파(300g/)</td>\n",
       "      <td>1700</td>\n",
       "      <td>25</td>\n",
       "      <td>42500</td>\n",
       "      <td>NaN</td>\n",
       "    </tr>\n",
       "    <tr>\n",
       "      <th>491154</th>\n",
       "      <td>517602</td>\n",
       "      <td>F점포</td>\n",
       "      <td>20201130</td>\n",
       "      <td>9</td>\n",
       "      <td>생명나눔 햅쌀백미(2k</td>\n",
       "      <td>8000</td>\n",
       "      <td>75</td>\n",
       "      <td>600000</td>\n",
       "      <td>NaN</td>\n",
       "    </tr>\n",
       "  </tbody>\n",
       "</table>\n",
       "</div>"
      ],
      "text/plain": [
       "          고객번호   매장      구매일자   상품번호            상품명   구매단가  구매수량   실제구매액  할인금액\n",
       "491150  517602  F점포  20201130  32215     돼지앞다리살(불고기  10600    75  795000   NaN\n",
       "491151  517602  F점포  20201130  20397  양파(1kg/대과/무농약   3450    25   86250   NaN\n",
       "491152  517602  F점포  20201130  10376  팽이버섯(450g/무농약   1900    25   47500   NaN\n",
       "491153  517602  F점포  20201130   5959   (영)중파(300g/)   1700    25   42500   NaN\n",
       "491154  517602  F점포  20201130      9   생명나눔 햅쌀백미(2k   8000    75  600000   NaN"
      ]
     },
     "execution_count": 146,
     "metadata": {},
     "output_type": "execute_result"
    }
   ],
   "source": [
    "거래데이터 = pd.read_excel(TotalData, sheet_name = 4)\n",
    "거래데이터.tail()"
   ]
  },
  {
   "cell_type": "code",
   "execution_count": 464,
   "metadata": {},
   "outputs": [
    {
     "data": {
      "text/html": [
       "<div>\n",
       "<style scoped>\n",
       "    .dataframe tbody tr th:only-of-type {\n",
       "        vertical-align: middle;\n",
       "    }\n",
       "\n",
       "    .dataframe tbody tr th {\n",
       "        vertical-align: top;\n",
       "    }\n",
       "\n",
       "    .dataframe thead th {\n",
       "        text-align: right;\n",
       "    }\n",
       "</style>\n",
       "<table border=\"1\" class=\"dataframe\">\n",
       "  <thead>\n",
       "    <tr style=\"text-align: right;\">\n",
       "      <th></th>\n",
       "      <th>고객번호</th>\n",
       "      <th>매장</th>\n",
       "      <th>구매일자</th>\n",
       "      <th>상품번호</th>\n",
       "      <th>상품명</th>\n",
       "      <th>구매단가</th>\n",
       "      <th>구매수량</th>\n",
       "      <th>실제구매액</th>\n",
       "      <th>할인금액</th>\n",
       "    </tr>\n",
       "  </thead>\n",
       "  <tbody>\n",
       "    <tr>\n",
       "      <th>491150</th>\n",
       "      <td>517602</td>\n",
       "      <td>F점포</td>\n",
       "      <td>20201130</td>\n",
       "      <td>32215</td>\n",
       "      <td>돼지앞다리살(불고기</td>\n",
       "      <td>10600</td>\n",
       "      <td>75</td>\n",
       "      <td>795000</td>\n",
       "      <td>NaN</td>\n",
       "    </tr>\n",
       "    <tr>\n",
       "      <th>491151</th>\n",
       "      <td>517602</td>\n",
       "      <td>F점포</td>\n",
       "      <td>20201130</td>\n",
       "      <td>20397</td>\n",
       "      <td>양파(1kg/대과/무농약</td>\n",
       "      <td>3450</td>\n",
       "      <td>25</td>\n",
       "      <td>86250</td>\n",
       "      <td>NaN</td>\n",
       "    </tr>\n",
       "    <tr>\n",
       "      <th>491152</th>\n",
       "      <td>517602</td>\n",
       "      <td>F점포</td>\n",
       "      <td>20201130</td>\n",
       "      <td>10376</td>\n",
       "      <td>팽이버섯(450g/무농약</td>\n",
       "      <td>1900</td>\n",
       "      <td>25</td>\n",
       "      <td>47500</td>\n",
       "      <td>NaN</td>\n",
       "    </tr>\n",
       "    <tr>\n",
       "      <th>491153</th>\n",
       "      <td>517602</td>\n",
       "      <td>F점포</td>\n",
       "      <td>20201130</td>\n",
       "      <td>5959</td>\n",
       "      <td>(영)중파(300g/)</td>\n",
       "      <td>1700</td>\n",
       "      <td>25</td>\n",
       "      <td>42500</td>\n",
       "      <td>NaN</td>\n",
       "    </tr>\n",
       "    <tr>\n",
       "      <th>491154</th>\n",
       "      <td>517602</td>\n",
       "      <td>F점포</td>\n",
       "      <td>20201130</td>\n",
       "      <td>9</td>\n",
       "      <td>생명나눔 햅쌀백미(2k</td>\n",
       "      <td>8000</td>\n",
       "      <td>75</td>\n",
       "      <td>600000</td>\n",
       "      <td>NaN</td>\n",
       "    </tr>\n",
       "  </tbody>\n",
       "</table>\n",
       "</div>"
      ],
      "text/plain": [
       "          고객번호   매장      구매일자   상품번호            상품명   구매단가  구매수량   실제구매액  할인금액\n",
       "491150  517602  F점포  20201130  32215     돼지앞다리살(불고기  10600    75  795000   NaN\n",
       "491151  517602  F점포  20201130  20397  양파(1kg/대과/무농약   3450    25   86250   NaN\n",
       "491152  517602  F점포  20201130  10376  팽이버섯(450g/무농약   1900    25   47500   NaN\n",
       "491153  517602  F점포  20201130   5959   (영)중파(300g/)   1700    25   42500   NaN\n",
       "491154  517602  F점포  20201130      9   생명나눔 햅쌀백미(2k   8000    75  600000   NaN"
      ]
     },
     "execution_count": 464,
     "metadata": {},
     "output_type": "execute_result"
    }
   ],
   "source": [
    "deal = 거래데이터.copy()\n",
    "deal.tail()"
   ]
  },
  {
   "cell_type": "code",
   "execution_count": 465,
   "metadata": {},
   "outputs": [
    {
     "data": {
      "text/html": [
       "<div>\n",
       "<style scoped>\n",
       "    .dataframe tbody tr th:only-of-type {\n",
       "        vertical-align: middle;\n",
       "    }\n",
       "\n",
       "    .dataframe tbody tr th {\n",
       "        vertical-align: top;\n",
       "    }\n",
       "\n",
       "    .dataframe thead th {\n",
       "        text-align: right;\n",
       "    }\n",
       "</style>\n",
       "<table border=\"1\" class=\"dataframe\">\n",
       "  <thead>\n",
       "    <tr style=\"text-align: right;\">\n",
       "      <th></th>\n",
       "      <th>고객번호</th>\n",
       "      <th>매장</th>\n",
       "      <th>구매일자</th>\n",
       "      <th>상품번호</th>\n",
       "      <th>상품명</th>\n",
       "      <th>구매단가</th>\n",
       "      <th>구매수량</th>\n",
       "      <th>실제구매액</th>\n",
       "      <th>할인금액</th>\n",
       "    </tr>\n",
       "  </thead>\n",
       "  <tbody>\n",
       "    <tr>\n",
       "      <th>491150</th>\n",
       "      <td>517602</td>\n",
       "      <td>F점포</td>\n",
       "      <td>2020-11-30</td>\n",
       "      <td>32215</td>\n",
       "      <td>돼지앞다리살(불고기</td>\n",
       "      <td>10600</td>\n",
       "      <td>75</td>\n",
       "      <td>795000</td>\n",
       "      <td>NaN</td>\n",
       "    </tr>\n",
       "    <tr>\n",
       "      <th>491151</th>\n",
       "      <td>517602</td>\n",
       "      <td>F점포</td>\n",
       "      <td>2020-11-30</td>\n",
       "      <td>20397</td>\n",
       "      <td>양파(1kg/대과/무농약</td>\n",
       "      <td>3450</td>\n",
       "      <td>25</td>\n",
       "      <td>86250</td>\n",
       "      <td>NaN</td>\n",
       "    </tr>\n",
       "    <tr>\n",
       "      <th>491152</th>\n",
       "      <td>517602</td>\n",
       "      <td>F점포</td>\n",
       "      <td>2020-11-30</td>\n",
       "      <td>10376</td>\n",
       "      <td>팽이버섯(450g/무농약</td>\n",
       "      <td>1900</td>\n",
       "      <td>25</td>\n",
       "      <td>47500</td>\n",
       "      <td>NaN</td>\n",
       "    </tr>\n",
       "    <tr>\n",
       "      <th>491153</th>\n",
       "      <td>517602</td>\n",
       "      <td>F점포</td>\n",
       "      <td>2020-11-30</td>\n",
       "      <td>5959</td>\n",
       "      <td>(영)중파(300g/)</td>\n",
       "      <td>1700</td>\n",
       "      <td>25</td>\n",
       "      <td>42500</td>\n",
       "      <td>NaN</td>\n",
       "    </tr>\n",
       "    <tr>\n",
       "      <th>491154</th>\n",
       "      <td>517602</td>\n",
       "      <td>F점포</td>\n",
       "      <td>2020-11-30</td>\n",
       "      <td>9</td>\n",
       "      <td>생명나눔 햅쌀백미(2k</td>\n",
       "      <td>8000</td>\n",
       "      <td>75</td>\n",
       "      <td>600000</td>\n",
       "      <td>NaN</td>\n",
       "    </tr>\n",
       "  </tbody>\n",
       "</table>\n",
       "</div>"
      ],
      "text/plain": [
       "          고객번호   매장       구매일자   상품번호            상품명   구매단가  구매수량   실제구매액  \\\n",
       "491150  517602  F점포 2020-11-30  32215     돼지앞다리살(불고기  10600    75  795000   \n",
       "491151  517602  F점포 2020-11-30  20397  양파(1kg/대과/무농약   3450    25   86250   \n",
       "491152  517602  F점포 2020-11-30  10376  팽이버섯(450g/무농약   1900    25   47500   \n",
       "491153  517602  F점포 2020-11-30   5959   (영)중파(300g/)   1700    25   42500   \n",
       "491154  517602  F점포 2020-11-30      9   생명나눔 햅쌀백미(2k   8000    75  600000   \n",
       "\n",
       "        할인금액  \n",
       "491150   NaN  \n",
       "491151   NaN  \n",
       "491152   NaN  \n",
       "491153   NaN  \n",
       "491154   NaN  "
      ]
     },
     "execution_count": 465,
     "metadata": {},
     "output_type": "execute_result"
    }
   ],
   "source": [
    "## 구매일자 datatype변경\n",
    "deal.구매일자 = pd.to_datetime(deal['구매일자'], format='%Y%m%d', errors='coerce')\n",
    "deal.tail()"
   ]
  },
  {
   "cell_type": "code",
   "execution_count": 466,
   "metadata": {},
   "outputs": [
    {
     "name": "stdout",
     "output_type": "stream",
     "text": [
      "<class 'pandas.core.frame.DataFrame'>\n",
      "RangeIndex: 491155 entries, 0 to 491154\n",
      "Data columns (total 9 columns):\n",
      " #   Column  Non-Null Count   Dtype         \n",
      "---  ------  --------------   -----         \n",
      " 0   고객번호    491155 non-null  int64         \n",
      " 1   매장      491155 non-null  object        \n",
      " 2   구매일자    491155 non-null  datetime64[ns]\n",
      " 3   상품번호    491155 non-null  int64         \n",
      " 4   상품명     489670 non-null  object        \n",
      " 5   구매단가    491155 non-null  int64         \n",
      " 6   구매수량    491155 non-null  int64         \n",
      " 7   실제구매액   491155 non-null  int64         \n",
      " 8   할인금액    252360 non-null  float64       \n",
      "dtypes: datetime64[ns](1), float64(1), int64(5), object(2)\n",
      "memory usage: 33.7+ MB\n"
     ]
    }
   ],
   "source": [
    "deal.info()"
   ]
  },
  {
   "cell_type": "code",
   "execution_count": 467,
   "metadata": {},
   "outputs": [
    {
     "data": {
      "image/png": "[encoded data removed]",
      "text/plain": [
       "<Figure size 432x288 with 2 Axes>"
      ]
     },
     "metadata": {
      "needs_background": "light"
     },
     "output_type": "display_data"
    }
   ],
   "source": [
    "sns.heatmap(deal.isnull())\n",
    "plt.xticks(rotation = 45)\n",
    "plt.show()"
   ]
  },
  {
   "cell_type": "code",
   "execution_count": 468,
   "metadata": {},
   "outputs": [
    {
     "data": {
      "text/html": [
       "<div>\n",
       "<style scoped>\n",
       "    .dataframe tbody tr th:only-of-type {\n",
       "        vertical-align: middle;\n",
       "    }\n",
       "\n",
       "    .dataframe tbody tr th {\n",
       "        vertical-align: top;\n",
       "    }\n",
       "\n",
       "    .dataframe thead th {\n",
       "        text-align: right;\n",
       "    }\n",
       "</style>\n",
       "<table border=\"1\" class=\"dataframe\">\n",
       "  <thead>\n",
       "    <tr style=\"text-align: right;\">\n",
       "      <th></th>\n",
       "      <th>고객번호</th>\n",
       "      <th>매장</th>\n",
       "      <th>구매일자</th>\n",
       "      <th>상품번호</th>\n",
       "      <th>상품명</th>\n",
       "      <th>구매단가</th>\n",
       "      <th>구매수량</th>\n",
       "      <th>실제구매액</th>\n",
       "      <th>할인금액</th>\n",
       "    </tr>\n",
       "  </thead>\n",
       "  <tbody>\n",
       "    <tr>\n",
       "      <th>491150</th>\n",
       "      <td>517602</td>\n",
       "      <td>F점포</td>\n",
       "      <td>2020-11-30</td>\n",
       "      <td>32215</td>\n",
       "      <td>돼지앞다리살(불고기</td>\n",
       "      <td>10600</td>\n",
       "      <td>75</td>\n",
       "      <td>795000</td>\n",
       "      <td>0.0</td>\n",
       "    </tr>\n",
       "    <tr>\n",
       "      <th>491151</th>\n",
       "      <td>517602</td>\n",
       "      <td>F점포</td>\n",
       "      <td>2020-11-30</td>\n",
       "      <td>20397</td>\n",
       "      <td>양파(1kg/대과/무농약</td>\n",
       "      <td>3450</td>\n",
       "      <td>25</td>\n",
       "      <td>86250</td>\n",
       "      <td>0.0</td>\n",
       "    </tr>\n",
       "    <tr>\n",
       "      <th>491152</th>\n",
       "      <td>517602</td>\n",
       "      <td>F점포</td>\n",
       "      <td>2020-11-30</td>\n",
       "      <td>10376</td>\n",
       "      <td>팽이버섯(450g/무농약</td>\n",
       "      <td>1900</td>\n",
       "      <td>25</td>\n",
       "      <td>47500</td>\n",
       "      <td>0.0</td>\n",
       "    </tr>\n",
       "    <tr>\n",
       "      <th>491153</th>\n",
       "      <td>517602</td>\n",
       "      <td>F점포</td>\n",
       "      <td>2020-11-30</td>\n",
       "      <td>5959</td>\n",
       "      <td>(영)중파(300g/)</td>\n",
       "      <td>1700</td>\n",
       "      <td>25</td>\n",
       "      <td>42500</td>\n",
       "      <td>0.0</td>\n",
       "    </tr>\n",
       "    <tr>\n",
       "      <th>491154</th>\n",
       "      <td>517602</td>\n",
       "      <td>F점포</td>\n",
       "      <td>2020-11-30</td>\n",
       "      <td>9</td>\n",
       "      <td>생명나눔 햅쌀백미(2k</td>\n",
       "      <td>8000</td>\n",
       "      <td>75</td>\n",
       "      <td>600000</td>\n",
       "      <td>0.0</td>\n",
       "    </tr>\n",
       "  </tbody>\n",
       "</table>\n",
       "</div>"
      ],
      "text/plain": [
       "          고객번호   매장       구매일자   상품번호            상품명   구매단가  구매수량   실제구매액  \\\n",
       "491150  517602  F점포 2020-11-30  32215     돼지앞다리살(불고기  10600    75  795000   \n",
       "491151  517602  F점포 2020-11-30  20397  양파(1kg/대과/무농약   3450    25   86250   \n",
       "491152  517602  F점포 2020-11-30  10376  팽이버섯(450g/무농약   1900    25   47500   \n",
       "491153  517602  F점포 2020-11-30   5959   (영)중파(300g/)   1700    25   42500   \n",
       "491154  517602  F점포 2020-11-30      9   생명나눔 햅쌀백미(2k   8000    75  600000   \n",
       "\n",
       "        할인금액  \n",
       "491150   0.0  \n",
       "491151   0.0  \n",
       "491152   0.0  \n",
       "491153   0.0  \n",
       "491154   0.0  "
      ]
     },
     "execution_count": 468,
     "metadata": {},
     "output_type": "execute_result"
    }
   ],
   "source": [
    "## 할인금액의 nan값 = 0으로 변경\n",
    "deal.할인금액.fillna(0, inplace=True)\n",
    "deal.tail()"
   ]
  },
  {
   "cell_type": "code",
   "execution_count": 469,
   "metadata": {
    "scrolled": true
   },
   "outputs": [
    {
     "data": {
      "image/png": "[encoded data removed]",
      "text/plain": [
       "<Figure size 432x288 with 2 Axes>"
      ]
     },
     "metadata": {
      "needs_background": "light"
     },
     "output_type": "display_data"
    }
   ],
   "source": [
    "sns.heatmap(deal.isnull())\n",
    "plt.xticks(rotation = 45)\n",
    "plt.show()"
   ]
  },
  {
   "cell_type": "code",
   "execution_count": 470,
   "metadata": {},
   "outputs": [
    {
     "name": "stdout",
     "output_type": "stream",
     "text": [
      "<class 'pandas.core.frame.DataFrame'>\n",
      "RangeIndex: 491155 entries, 0 to 491154\n",
      "Data columns (total 9 columns):\n",
      " #   Column  Non-Null Count   Dtype         \n",
      "---  ------  --------------   -----         \n",
      " 0   고객번호    491155 non-null  int64         \n",
      " 1   매장      491155 non-null  object        \n",
      " 2   구매일자    491155 non-null  datetime64[ns]\n",
      " 3   상품번호    491155 non-null  int64         \n",
      " 4   상품명     489670 non-null  object        \n",
      " 5   구매단가    491155 non-null  int64         \n",
      " 6   구매수량    491155 non-null  int64         \n",
      " 7   실제구매액   491155 non-null  int64         \n",
      " 8   할인금액    491155 non-null  float64       \n",
      "dtypes: datetime64[ns](1), float64(1), int64(5), object(2)\n",
      "memory usage: 33.7+ MB\n"
     ]
    }
   ],
   "source": [
    "deal.info()"
   ]
  },
  {
   "cell_type": "markdown",
   "metadata": {},
   "source": [
    "## 분석 주제\n",
    "    1. 우수고객(구매금액 기준)\n",
    "        1.통합 우수고객\n",
    "        2.점포별 우수고객\n",
    "    \n",
    "    2. 인기상품\n",
    "        : 많이 팔린 상품\n",
    "    \n",
    "    3. 최대 수익 상품\n",
    "        : 수익이 좋은 상품"
   ]
  },
  {
   "cell_type": "markdown",
   "metadata": {},
   "source": [
    "## 우수고객\n",
    "    1. 통합 우수고객\n",
    "    2. 업장별 우수고객"
   ]
  },
  {
   "cell_type": "code",
   "execution_count": 472,
   "metadata": {},
   "outputs": [],
   "source": [
    "## 우수고객 : max(총구매액)\n",
    "deal['총구매액'] = deal.실제구매액 - deal.할인금액"
   ]
  },
  {
   "cell_type": "code",
   "execution_count": 473,
   "metadata": {},
   "outputs": [
    {
     "data": {
      "text/html": [
       "<div>\n",
       "<style scoped>\n",
       "    .dataframe tbody tr th:only-of-type {\n",
       "        vertical-align: middle;\n",
       "    }\n",
       "\n",
       "    .dataframe tbody tr th {\n",
       "        vertical-align: top;\n",
       "    }\n",
       "\n",
       "    .dataframe thead th {\n",
       "        text-align: right;\n",
       "    }\n",
       "</style>\n",
       "<table border=\"1\" class=\"dataframe\">\n",
       "  <thead>\n",
       "    <tr style=\"text-align: right;\">\n",
       "      <th></th>\n",
       "      <th>고객번호</th>\n",
       "      <th>매장</th>\n",
       "      <th>구매일자</th>\n",
       "      <th>상품번호</th>\n",
       "      <th>상품명</th>\n",
       "      <th>구매단가</th>\n",
       "      <th>구매수량</th>\n",
       "      <th>실제구매액</th>\n",
       "      <th>할인금액</th>\n",
       "      <th>총구매액</th>\n",
       "    </tr>\n",
       "  </thead>\n",
       "  <tbody>\n",
       "    <tr>\n",
       "      <th>491150</th>\n",
       "      <td>517602</td>\n",
       "      <td>F점포</td>\n",
       "      <td>2020-11-30</td>\n",
       "      <td>32215</td>\n",
       "      <td>돼지앞다리살(불고기</td>\n",
       "      <td>10600</td>\n",
       "      <td>75</td>\n",
       "      <td>795000</td>\n",
       "      <td>0.0</td>\n",
       "      <td>795000.0</td>\n",
       "    </tr>\n",
       "    <tr>\n",
       "      <th>491151</th>\n",
       "      <td>517602</td>\n",
       "      <td>F점포</td>\n",
       "      <td>2020-11-30</td>\n",
       "      <td>20397</td>\n",
       "      <td>양파(1kg/대과/무농약</td>\n",
       "      <td>3450</td>\n",
       "      <td>25</td>\n",
       "      <td>86250</td>\n",
       "      <td>0.0</td>\n",
       "      <td>86250.0</td>\n",
       "    </tr>\n",
       "    <tr>\n",
       "      <th>491152</th>\n",
       "      <td>517602</td>\n",
       "      <td>F점포</td>\n",
       "      <td>2020-11-30</td>\n",
       "      <td>10376</td>\n",
       "      <td>팽이버섯(450g/무농약</td>\n",
       "      <td>1900</td>\n",
       "      <td>25</td>\n",
       "      <td>47500</td>\n",
       "      <td>0.0</td>\n",
       "      <td>47500.0</td>\n",
       "    </tr>\n",
       "    <tr>\n",
       "      <th>491153</th>\n",
       "      <td>517602</td>\n",
       "      <td>F점포</td>\n",
       "      <td>2020-11-30</td>\n",
       "      <td>5959</td>\n",
       "      <td>(영)중파(300g/)</td>\n",
       "      <td>1700</td>\n",
       "      <td>25</td>\n",
       "      <td>42500</td>\n",
       "      <td>0.0</td>\n",
       "      <td>42500.0</td>\n",
       "    </tr>\n",
       "    <tr>\n",
       "      <th>491154</th>\n",
       "      <td>517602</td>\n",
       "      <td>F점포</td>\n",
       "      <td>2020-11-30</td>\n",
       "      <td>9</td>\n",
       "      <td>생명나눔 햅쌀백미(2k</td>\n",
       "      <td>8000</td>\n",
       "      <td>75</td>\n",
       "      <td>600000</td>\n",
       "      <td>0.0</td>\n",
       "      <td>600000.0</td>\n",
       "    </tr>\n",
       "  </tbody>\n",
       "</table>\n",
       "</div>"
      ],
      "text/plain": [
       "          고객번호   매장       구매일자   상품번호            상품명   구매단가  구매수량   실제구매액  \\\n",
       "491150  517602  F점포 2020-11-30  32215     돼지앞다리살(불고기  10600    75  795000   \n",
       "491151  517602  F점포 2020-11-30  20397  양파(1kg/대과/무농약   3450    25   86250   \n",
       "491152  517602  F점포 2020-11-30  10376  팽이버섯(450g/무농약   1900    25   47500   \n",
       "491153  517602  F점포 2020-11-30   5959   (영)중파(300g/)   1700    25   42500   \n",
       "491154  517602  F점포 2020-11-30      9   생명나눔 햅쌀백미(2k   8000    75  600000   \n",
       "\n",
       "        할인금액      총구매액  \n",
       "491150   0.0  795000.0  \n",
       "491151   0.0   86250.0  \n",
       "491152   0.0   47500.0  \n",
       "491153   0.0   42500.0  \n",
       "491154   0.0  600000.0  "
      ]
     },
     "execution_count": 473,
     "metadata": {},
     "output_type": "execute_result"
    }
   ],
   "source": [
    "deal.tail()"
   ]
  },
  {
   "cell_type": "code",
   "execution_count": 500,
   "metadata": {},
   "outputs": [
    {
     "data": {
      "text/plain": [
       "고객번호\n",
       "495094    445476000.0\n",
       "497429    217450000.0\n",
       "75432      57206829.0\n",
       "497820     42299400.0\n",
       "309486     24323269.0\n",
       "165339     24110587.0\n",
       "222777     21825560.0\n",
       "75169      21794954.0\n",
       "73893      21047770.0\n",
       "73481      20530031.0\n",
       "Name: 총구매액, dtype: float64"
      ]
     },
     "execution_count": 500,
     "metadata": {},
     "output_type": "execute_result"
    }
   ],
   "source": [
    "## 상위 10개 우수고객의 고객번호\n",
    "deal.groupby('고객번호')['총구매액'].sum().sort_values(ascending=False)[:10]"
   ]
  },
  {
   "cell_type": "code",
   "execution_count": 501,
   "metadata": {},
   "outputs": [
    {
     "data": {
      "text/plain": [
       "고객번호\n",
       "495094    445476000.0\n",
       "497429    217450000.0\n",
       "75432      57206829.0\n",
       "497820     42299400.0\n",
       "309486     24323269.0\n",
       "             ...     \n",
       "128793            0.0\n",
       "227441            0.0\n",
       "493950            0.0\n",
       "170352       -54400.0\n",
       "440404      -186800.0\n",
       "Name: 총구매액, Length: 8283, dtype: float64"
      ]
     },
     "execution_count": 501,
     "metadata": {},
     "output_type": "execute_result"
    }
   ],
   "source": [
    "deal.groupby('고객번호')['총구매액'].sum().sort_values(ascending=False)"
   ]
  },
  {
   "cell_type": "code",
   "execution_count": 509,
   "metadata": {},
   "outputs": [
    {
     "data": {
      "text/html": [
       "<div>\n",
       "<style scoped>\n",
       "    .dataframe tbody tr th:only-of-type {\n",
       "        vertical-align: middle;\n",
       "    }\n",
       "\n",
       "    .dataframe tbody tr th {\n",
       "        vertical-align: top;\n",
       "    }\n",
       "\n",
       "    .dataframe thead th {\n",
       "        text-align: right;\n",
       "    }\n",
       "</style>\n",
       "<table border=\"1\" class=\"dataframe\">\n",
       "  <thead>\n",
       "    <tr style=\"text-align: right;\">\n",
       "      <th></th>\n",
       "      <th>고객번호</th>\n",
       "      <th>매장</th>\n",
       "      <th>구매일자</th>\n",
       "      <th>상품번호</th>\n",
       "      <th>상품명</th>\n",
       "      <th>구매단가</th>\n",
       "      <th>구매수량</th>\n",
       "      <th>실제구매액</th>\n",
       "      <th>할인금액</th>\n",
       "      <th>총구매액</th>\n",
       "    </tr>\n",
       "  </thead>\n",
       "  <tbody>\n",
       "    <tr>\n",
       "      <th>2134</th>\n",
       "      <td>440404</td>\n",
       "      <td>A점포</td>\n",
       "      <td>2020-06-01</td>\n",
       "      <td>3007</td>\n",
       "      <td>대추방울토마토(500g/</td>\n",
       "      <td>4100</td>\n",
       "      <td>-1</td>\n",
       "      <td>-4100</td>\n",
       "      <td>0.0</td>\n",
       "      <td>-4100.0</td>\n",
       "    </tr>\n",
       "    <tr>\n",
       "      <th>2135</th>\n",
       "      <td>440404</td>\n",
       "      <td>A점포</td>\n",
       "      <td>2020-06-01</td>\n",
       "      <td>166</td>\n",
       "      <td>토마토(2kg/무농약)</td>\n",
       "      <td>8500</td>\n",
       "      <td>-3</td>\n",
       "      <td>-25500</td>\n",
       "      <td>0.0</td>\n",
       "      <td>-25500.0</td>\n",
       "    </tr>\n",
       "    <tr>\n",
       "      <th>2136</th>\n",
       "      <td>440404</td>\n",
       "      <td>A점포</td>\n",
       "      <td>2020-06-01</td>\n",
       "      <td>13322</td>\n",
       "      <td>순살어묵(250g)</td>\n",
       "      <td>4200</td>\n",
       "      <td>-1</td>\n",
       "      <td>-4200</td>\n",
       "      <td>0.0</td>\n",
       "      <td>-4200.0</td>\n",
       "    </tr>\n",
       "    <tr>\n",
       "      <th>2137</th>\n",
       "      <td>440404</td>\n",
       "      <td>A점포</td>\n",
       "      <td>2020-06-01</td>\n",
       "      <td>25314</td>\n",
       "      <td>딸기잼(대)</td>\n",
       "      <td>9000</td>\n",
       "      <td>-2</td>\n",
       "      <td>-18000</td>\n",
       "      <td>0.0</td>\n",
       "      <td>-18000.0</td>\n",
       "    </tr>\n",
       "    <tr>\n",
       "      <th>2138</th>\n",
       "      <td>440404</td>\n",
       "      <td>A점포</td>\n",
       "      <td>2020-06-01</td>\n",
       "      <td>579</td>\n",
       "      <td>두부어묵(270g)</td>\n",
       "      <td>4400</td>\n",
       "      <td>-1</td>\n",
       "      <td>-4400</td>\n",
       "      <td>0.0</td>\n",
       "      <td>-4400.0</td>\n",
       "    </tr>\n",
       "    <tr>\n",
       "      <th>2139</th>\n",
       "      <td>440404</td>\n",
       "      <td>A점포</td>\n",
       "      <td>2020-06-01</td>\n",
       "      <td>1432</td>\n",
       "      <td>황태채(200g)/러시아</td>\n",
       "      <td>12300</td>\n",
       "      <td>-1</td>\n",
       "      <td>-12300</td>\n",
       "      <td>0.0</td>\n",
       "      <td>-12300.0</td>\n",
       "    </tr>\n",
       "    <tr>\n",
       "      <th>2140</th>\n",
       "      <td>440404</td>\n",
       "      <td>A점포</td>\n",
       "      <td>2020-06-01</td>\n",
       "      <td>580</td>\n",
       "      <td>옛날어묵(300g)</td>\n",
       "      <td>4400</td>\n",
       "      <td>-1</td>\n",
       "      <td>-4400</td>\n",
       "      <td>0.0</td>\n",
       "      <td>-4400.0</td>\n",
       "    </tr>\n",
       "    <tr>\n",
       "      <th>2141</th>\n",
       "      <td>440404</td>\n",
       "      <td>A점포</td>\n",
       "      <td>2020-06-01</td>\n",
       "      <td>29294</td>\n",
       "      <td>착한식빵</td>\n",
       "      <td>2800</td>\n",
       "      <td>-2</td>\n",
       "      <td>-5600</td>\n",
       "      <td>0.0</td>\n",
       "      <td>-5600.0</td>\n",
       "    </tr>\n",
       "    <tr>\n",
       "      <th>2142</th>\n",
       "      <td>440404</td>\n",
       "      <td>A점포</td>\n",
       "      <td>2020-06-01</td>\n",
       "      <td>652</td>\n",
       "      <td>우유식빵</td>\n",
       "      <td>4800</td>\n",
       "      <td>-2</td>\n",
       "      <td>-9600</td>\n",
       "      <td>0.0</td>\n",
       "      <td>-9600.0</td>\n",
       "    </tr>\n",
       "    <tr>\n",
       "      <th>2143</th>\n",
       "      <td>440404</td>\n",
       "      <td>A점포</td>\n",
       "      <td>2020-06-01</td>\n",
       "      <td>7572</td>\n",
       "      <td>(영)숙주나물(300g</td>\n",
       "      <td>2500</td>\n",
       "      <td>-2</td>\n",
       "      <td>-5000</td>\n",
       "      <td>0.0</td>\n",
       "      <td>-5000.0</td>\n",
       "    </tr>\n",
       "    <tr>\n",
       "      <th>2144</th>\n",
       "      <td>440404</td>\n",
       "      <td>A점포</td>\n",
       "      <td>2020-06-01</td>\n",
       "      <td>5766</td>\n",
       "      <td>쌀식빵</td>\n",
       "      <td>5600</td>\n",
       "      <td>-2</td>\n",
       "      <td>-11200</td>\n",
       "      <td>0.0</td>\n",
       "      <td>-11200.0</td>\n",
       "    </tr>\n",
       "    <tr>\n",
       "      <th>2145</th>\n",
       "      <td>440404</td>\n",
       "      <td>A점포</td>\n",
       "      <td>2020-06-01</td>\n",
       "      <td>31589</td>\n",
       "      <td>오분도미(4kg/유기)</td>\n",
       "      <td>17900</td>\n",
       "      <td>-1</td>\n",
       "      <td>-17900</td>\n",
       "      <td>0.0</td>\n",
       "      <td>-17900.0</td>\n",
       "    </tr>\n",
       "    <tr>\n",
       "      <th>2146</th>\n",
       "      <td>440404</td>\n",
       "      <td>A점포</td>\n",
       "      <td>2020-06-01</td>\n",
       "      <td>22965</td>\n",
       "      <td>무(1kg/무농약이상)</td>\n",
       "      <td>2300</td>\n",
       "      <td>-1</td>\n",
       "      <td>-2300</td>\n",
       "      <td>0.0</td>\n",
       "      <td>-2300.0</td>\n",
       "    </tr>\n",
       "    <tr>\n",
       "      <th>2147</th>\n",
       "      <td>440404</td>\n",
       "      <td>A점포</td>\n",
       "      <td>2020-06-01</td>\n",
       "      <td>22237</td>\n",
       "      <td>참외(1.5kg/무농약/성</td>\n",
       "      <td>17100</td>\n",
       "      <td>-2</td>\n",
       "      <td>-15200</td>\n",
       "      <td>-1900.0</td>\n",
       "      <td>-13300.0</td>\n",
       "    </tr>\n",
       "    <tr>\n",
       "      <th>2148</th>\n",
       "      <td>440404</td>\n",
       "      <td>A점포</td>\n",
       "      <td>2020-06-01</td>\n",
       "      <td>38914</td>\n",
       "      <td>지리산건고사리(80g/</td>\n",
       "      <td>10000</td>\n",
       "      <td>-2</td>\n",
       "      <td>-20000</td>\n",
       "      <td>0.0</td>\n",
       "      <td>-20000.0</td>\n",
       "    </tr>\n",
       "    <tr>\n",
       "      <th>2149</th>\n",
       "      <td>440404</td>\n",
       "      <td>A점포</td>\n",
       "      <td>2020-06-01</td>\n",
       "      <td>21762</td>\n",
       "      <td>잣(280g/포천/실백)</td>\n",
       "      <td>29000</td>\n",
       "      <td>-1</td>\n",
       "      <td>-29000</td>\n",
       "      <td>0.0</td>\n",
       "      <td>-29000.0</td>\n",
       "    </tr>\n",
       "    <tr>\n",
       "      <th>332755</th>\n",
       "      <td>170352</td>\n",
       "      <td>B점포</td>\n",
       "      <td>2020-09-29</td>\n",
       "      <td>44172</td>\n",
       "      <td>친환경 포도(켐벨)</td>\n",
       "      <td>6800</td>\n",
       "      <td>2</td>\n",
       "      <td>-6800</td>\n",
       "      <td>20400.0</td>\n",
       "      <td>-27200.0</td>\n",
       "    </tr>\n",
       "    <tr>\n",
       "      <th>332756</th>\n",
       "      <td>170352</td>\n",
       "      <td>B점포</td>\n",
       "      <td>2020-09-29</td>\n",
       "      <td>44172</td>\n",
       "      <td>친환경 포도(켐벨)</td>\n",
       "      <td>6800</td>\n",
       "      <td>2</td>\n",
       "      <td>-6800</td>\n",
       "      <td>20400.0</td>\n",
       "      <td>-27200.0</td>\n",
       "    </tr>\n",
       "  </tbody>\n",
       "</table>\n",
       "</div>"
      ],
      "text/plain": [
       "          고객번호   매장       구매일자   상품번호             상품명   구매단가  구매수량  실제구매액  \\\n",
       "2134    440404  A점포 2020-06-01   3007   대추방울토마토(500g/   4100    -1  -4100   \n",
       "2135    440404  A점포 2020-06-01    166    토마토(2kg/무농약)   8500    -3 -25500   \n",
       "2136    440404  A점포 2020-06-01  13322      순살어묵(250g)   4200    -1  -4200   \n",
       "2137    440404  A점포 2020-06-01  25314          딸기잼(대)   9000    -2 -18000   \n",
       "2138    440404  A점포 2020-06-01    579      두부어묵(270g)   4400    -1  -4400   \n",
       "2139    440404  A점포 2020-06-01   1432   황태채(200g)/러시아  12300    -1 -12300   \n",
       "2140    440404  A점포 2020-06-01    580      옛날어묵(300g)   4400    -1  -4400   \n",
       "2141    440404  A점포 2020-06-01  29294            착한식빵   2800    -2  -5600   \n",
       "2142    440404  A점포 2020-06-01    652            우유식빵   4800    -2  -9600   \n",
       "2143    440404  A점포 2020-06-01   7572    (영)숙주나물(300g   2500    -2  -5000   \n",
       "2144    440404  A점포 2020-06-01   5766             쌀식빵   5600    -2 -11200   \n",
       "2145    440404  A점포 2020-06-01  31589    오분도미(4kg/유기)  17900    -1 -17900   \n",
       "2146    440404  A점포 2020-06-01  22965    무(1kg/무농약이상)   2300    -1  -2300   \n",
       "2147    440404  A점포 2020-06-01  22237  참외(1.5kg/무농약/성  17100    -2 -15200   \n",
       "2148    440404  A점포 2020-06-01  38914    지리산건고사리(80g/  10000    -2 -20000   \n",
       "2149    440404  A점포 2020-06-01  21762   잣(280g/포천/실백)  29000    -1 -29000   \n",
       "332755  170352  B점포 2020-09-29  44172      친환경 포도(켐벨)   6800     2  -6800   \n",
       "332756  170352  B점포 2020-09-29  44172      친환경 포도(켐벨)   6800     2  -6800   \n",
       "\n",
       "           할인금액     총구매액  \n",
       "2134        0.0  -4100.0  \n",
       "2135        0.0 -25500.0  \n",
       "2136        0.0  -4200.0  \n",
       "2137        0.0 -18000.0  \n",
       "2138        0.0  -4400.0  \n",
       "2139        0.0 -12300.0  \n",
       "2140        0.0  -4400.0  \n",
       "2141        0.0  -5600.0  \n",
       "2142        0.0  -9600.0  \n",
       "2143        0.0  -5000.0  \n",
       "2144        0.0 -11200.0  \n",
       "2145        0.0 -17900.0  \n",
       "2146        0.0  -2300.0  \n",
       "2147    -1900.0 -13300.0  \n",
       "2148        0.0 -20000.0  \n",
       "2149        0.0 -29000.0  \n",
       "332755  20400.0 -27200.0  \n",
       "332756  20400.0 -27200.0  "
      ]
     },
     "execution_count": 509,
     "metadata": {},
     "output_type": "execute_result"
    }
   ],
   "source": [
    "## -값이 나오는 고객 확인\n",
    "deal[(deal.고객번호==440404)|(deal.고객번호==170352)]"
   ]
  },
  {
   "cell_type": "code",
   "execution_count": 524,
   "metadata": {},
   "outputs": [
    {
     "data": {
      "text/html": [
       "<div>\n",
       "<style scoped>\n",
       "    .dataframe tbody tr th:only-of-type {\n",
       "        vertical-align: middle;\n",
       "    }\n",
       "\n",
       "    .dataframe tbody tr th {\n",
       "        vertical-align: top;\n",
       "    }\n",
       "\n",
       "    .dataframe thead th {\n",
       "        text-align: right;\n",
       "    }\n",
       "</style>\n",
       "<table border=\"1\" class=\"dataframe\">\n",
       "  <thead>\n",
       "    <tr style=\"text-align: right;\">\n",
       "      <th>매장</th>\n",
       "      <th>A점포</th>\n",
       "      <th>B점포</th>\n",
       "      <th>C점포</th>\n",
       "      <th>D점포</th>\n",
       "      <th>ERP</th>\n",
       "      <th>E점포</th>\n",
       "      <th>F점포</th>\n",
       "      <th>H점포</th>\n",
       "      <th>선물</th>\n",
       "      <th>쇼핑몰</th>\n",
       "      <th>예약</th>\n",
       "    </tr>\n",
       "    <tr>\n",
       "      <th>고객번호</th>\n",
       "      <th></th>\n",
       "      <th></th>\n",
       "      <th></th>\n",
       "      <th></th>\n",
       "      <th></th>\n",
       "      <th></th>\n",
       "      <th></th>\n",
       "      <th></th>\n",
       "      <th></th>\n",
       "      <th></th>\n",
       "      <th></th>\n",
       "    </tr>\n",
       "  </thead>\n",
       "  <tbody>\n",
       "    <tr>\n",
       "      <th>1297</th>\n",
       "      <td>NaN</td>\n",
       "      <td>NaN</td>\n",
       "      <td>NaN</td>\n",
       "      <td>NaN</td>\n",
       "      <td>NaN</td>\n",
       "      <td>NaN</td>\n",
       "      <td>NaN</td>\n",
       "      <td>490740.0</td>\n",
       "      <td>NaN</td>\n",
       "      <td>NaN</td>\n",
       "      <td>NaN</td>\n",
       "    </tr>\n",
       "    <tr>\n",
       "      <th>9773</th>\n",
       "      <td>102200.0</td>\n",
       "      <td>NaN</td>\n",
       "      <td>NaN</td>\n",
       "      <td>NaN</td>\n",
       "      <td>NaN</td>\n",
       "      <td>NaN</td>\n",
       "      <td>NaN</td>\n",
       "      <td>NaN</td>\n",
       "      <td>NaN</td>\n",
       "      <td>NaN</td>\n",
       "      <td>NaN</td>\n",
       "    </tr>\n",
       "    <tr>\n",
       "      <th>9829</th>\n",
       "      <td>219290.0</td>\n",
       "      <td>NaN</td>\n",
       "      <td>NaN</td>\n",
       "      <td>NaN</td>\n",
       "      <td>NaN</td>\n",
       "      <td>NaN</td>\n",
       "      <td>NaN</td>\n",
       "      <td>NaN</td>\n",
       "      <td>NaN</td>\n",
       "      <td>NaN</td>\n",
       "      <td>NaN</td>\n",
       "    </tr>\n",
       "    <tr>\n",
       "      <th>11434</th>\n",
       "      <td>82250.0</td>\n",
       "      <td>NaN</td>\n",
       "      <td>NaN</td>\n",
       "      <td>NaN</td>\n",
       "      <td>NaN</td>\n",
       "      <td>NaN</td>\n",
       "      <td>NaN</td>\n",
       "      <td>NaN</td>\n",
       "      <td>NaN</td>\n",
       "      <td>NaN</td>\n",
       "      <td>NaN</td>\n",
       "    </tr>\n",
       "    <tr>\n",
       "      <th>11485</th>\n",
       "      <td>NaN</td>\n",
       "      <td>NaN</td>\n",
       "      <td>NaN</td>\n",
       "      <td>85300.0</td>\n",
       "      <td>NaN</td>\n",
       "      <td>NaN</td>\n",
       "      <td>NaN</td>\n",
       "      <td>NaN</td>\n",
       "      <td>NaN</td>\n",
       "      <td>NaN</td>\n",
       "      <td>NaN</td>\n",
       "    </tr>\n",
       "  </tbody>\n",
       "</table>\n",
       "</div>"
      ],
      "text/plain": [
       "매장          A점포  B점포  C점포      D점포  ERP  E점포  F점포       H점포  선물  쇼핑몰  예약\n",
       "고객번호                                                                    \n",
       "1297        NaN  NaN  NaN      NaN  NaN  NaN  NaN  490740.0 NaN  NaN NaN\n",
       "9773   102200.0  NaN  NaN      NaN  NaN  NaN  NaN       NaN NaN  NaN NaN\n",
       "9829   219290.0  NaN  NaN      NaN  NaN  NaN  NaN       NaN NaN  NaN NaN\n",
       "11434   82250.0  NaN  NaN      NaN  NaN  NaN  NaN       NaN NaN  NaN NaN\n",
       "11485       NaN  NaN  NaN  85300.0  NaN  NaN  NaN       NaN NaN  NaN NaN"
      ]
     },
     "execution_count": 524,
     "metadata": {},
     "output_type": "execute_result"
    }
   ],
   "source": [
    "## 업장별 우수고객\n",
    "### shop_cus :: index = 고객번호, col = 매장, values = 총구매액\n",
    "shop_cus = deal.groupby(['고객번호','매장'])['총구매액'].sum().sort_values(ascending=False).unstack()\n",
    "shop_cus.head()"
   ]
  },
  {
   "cell_type": "code",
   "execution_count": 521,
   "metadata": {},
   "outputs": [
    {
     "data": {
      "text/html": [
       "<div>\n",
       "<style scoped>\n",
       "    .dataframe tbody tr th:only-of-type {\n",
       "        vertical-align: middle;\n",
       "    }\n",
       "\n",
       "    .dataframe tbody tr th {\n",
       "        vertical-align: top;\n",
       "    }\n",
       "\n",
       "    .dataframe thead th {\n",
       "        text-align: right;\n",
       "    }\n",
       "</style>\n",
       "<table border=\"1\" class=\"dataframe\">\n",
       "  <thead>\n",
       "    <tr style=\"text-align: right;\">\n",
       "      <th>매장</th>\n",
       "      <th>A점포</th>\n",
       "      <th>B점포</th>\n",
       "      <th>C점포</th>\n",
       "      <th>D점포</th>\n",
       "      <th>ERP</th>\n",
       "      <th>E점포</th>\n",
       "      <th>F점포</th>\n",
       "      <th>H점포</th>\n",
       "      <th>선물</th>\n",
       "      <th>쇼핑몰</th>\n",
       "      <th>예약</th>\n",
       "    </tr>\n",
       "    <tr>\n",
       "      <th>고객번호</th>\n",
       "      <th></th>\n",
       "      <th></th>\n",
       "      <th></th>\n",
       "      <th></th>\n",
       "      <th></th>\n",
       "      <th></th>\n",
       "      <th></th>\n",
       "      <th></th>\n",
       "      <th></th>\n",
       "      <th></th>\n",
       "      <th></th>\n",
       "    </tr>\n",
       "  </thead>\n",
       "  <tbody>\n",
       "    <tr>\n",
       "      <th>1297</th>\n",
       "      <td>NaN</td>\n",
       "      <td>NaN</td>\n",
       "      <td>NaN</td>\n",
       "      <td>NaN</td>\n",
       "      <td>NaN</td>\n",
       "      <td>NaN</td>\n",
       "      <td>NaN</td>\n",
       "      <td>490740.0</td>\n",
       "      <td>NaN</td>\n",
       "      <td>NaN</td>\n",
       "      <td>NaN</td>\n",
       "    </tr>\n",
       "    <tr>\n",
       "      <th>9773</th>\n",
       "      <td>102200.0</td>\n",
       "      <td>NaN</td>\n",
       "      <td>NaN</td>\n",
       "      <td>NaN</td>\n",
       "      <td>NaN</td>\n",
       "      <td>NaN</td>\n",
       "      <td>NaN</td>\n",
       "      <td>NaN</td>\n",
       "      <td>NaN</td>\n",
       "      <td>NaN</td>\n",
       "      <td>NaN</td>\n",
       "    </tr>\n",
       "    <tr>\n",
       "      <th>9829</th>\n",
       "      <td>219290.0</td>\n",
       "      <td>NaN</td>\n",
       "      <td>NaN</td>\n",
       "      <td>NaN</td>\n",
       "      <td>NaN</td>\n",
       "      <td>NaN</td>\n",
       "      <td>NaN</td>\n",
       "      <td>NaN</td>\n",
       "      <td>NaN</td>\n",
       "      <td>NaN</td>\n",
       "      <td>NaN</td>\n",
       "    </tr>\n",
       "    <tr>\n",
       "      <th>11434</th>\n",
       "      <td>82250.0</td>\n",
       "      <td>NaN</td>\n",
       "      <td>NaN</td>\n",
       "      <td>NaN</td>\n",
       "      <td>NaN</td>\n",
       "      <td>NaN</td>\n",
       "      <td>NaN</td>\n",
       "      <td>NaN</td>\n",
       "      <td>NaN</td>\n",
       "      <td>NaN</td>\n",
       "      <td>NaN</td>\n",
       "    </tr>\n",
       "    <tr>\n",
       "      <th>11485</th>\n",
       "      <td>NaN</td>\n",
       "      <td>NaN</td>\n",
       "      <td>NaN</td>\n",
       "      <td>85300.0</td>\n",
       "      <td>NaN</td>\n",
       "      <td>NaN</td>\n",
       "      <td>NaN</td>\n",
       "      <td>NaN</td>\n",
       "      <td>NaN</td>\n",
       "      <td>NaN</td>\n",
       "      <td>NaN</td>\n",
       "    </tr>\n",
       "    <tr>\n",
       "      <th>...</th>\n",
       "      <td>...</td>\n",
       "      <td>...</td>\n",
       "      <td>...</td>\n",
       "      <td>...</td>\n",
       "      <td>...</td>\n",
       "      <td>...</td>\n",
       "      <td>...</td>\n",
       "      <td>...</td>\n",
       "      <td>...</td>\n",
       "      <td>...</td>\n",
       "      <td>...</td>\n",
       "    </tr>\n",
       "    <tr>\n",
       "      <th>517330</th>\n",
       "      <td>NaN</td>\n",
       "      <td>NaN</td>\n",
       "      <td>NaN</td>\n",
       "      <td>NaN</td>\n",
       "      <td>NaN</td>\n",
       "      <td>31500.0</td>\n",
       "      <td>NaN</td>\n",
       "      <td>NaN</td>\n",
       "      <td>NaN</td>\n",
       "      <td>NaN</td>\n",
       "      <td>NaN</td>\n",
       "    </tr>\n",
       "    <tr>\n",
       "      <th>517365</th>\n",
       "      <td>NaN</td>\n",
       "      <td>NaN</td>\n",
       "      <td>NaN</td>\n",
       "      <td>NaN</td>\n",
       "      <td>NaN</td>\n",
       "      <td>NaN</td>\n",
       "      <td>NaN</td>\n",
       "      <td>NaN</td>\n",
       "      <td>NaN</td>\n",
       "      <td>54000.0</td>\n",
       "      <td>NaN</td>\n",
       "    </tr>\n",
       "    <tr>\n",
       "      <th>517459</th>\n",
       "      <td>NaN</td>\n",
       "      <td>NaN</td>\n",
       "      <td>NaN</td>\n",
       "      <td>NaN</td>\n",
       "      <td>NaN</td>\n",
       "      <td>NaN</td>\n",
       "      <td>5000.0</td>\n",
       "      <td>NaN</td>\n",
       "      <td>NaN</td>\n",
       "      <td>NaN</td>\n",
       "      <td>NaN</td>\n",
       "    </tr>\n",
       "    <tr>\n",
       "      <th>517595</th>\n",
       "      <td>NaN</td>\n",
       "      <td>NaN</td>\n",
       "      <td>33800.0</td>\n",
       "      <td>NaN</td>\n",
       "      <td>NaN</td>\n",
       "      <td>NaN</td>\n",
       "      <td>NaN</td>\n",
       "      <td>NaN</td>\n",
       "      <td>NaN</td>\n",
       "      <td>NaN</td>\n",
       "      <td>NaN</td>\n",
       "    </tr>\n",
       "    <tr>\n",
       "      <th>517602</th>\n",
       "      <td>NaN</td>\n",
       "      <td>NaN</td>\n",
       "      <td>NaN</td>\n",
       "      <td>1812450.0</td>\n",
       "      <td>NaN</td>\n",
       "      <td>NaN</td>\n",
       "      <td>1725000.0</td>\n",
       "      <td>NaN</td>\n",
       "      <td>NaN</td>\n",
       "      <td>NaN</td>\n",
       "      <td>NaN</td>\n",
       "    </tr>\n",
       "  </tbody>\n",
       "</table>\n",
       "<p>8283 rows × 11 columns</p>\n",
       "</div>"
      ],
      "text/plain": [
       "매장           A점포  B점포      C점포        D점포  ERP      E점포        F점포       H점포  \\\n",
       "고객번호                                                                           \n",
       "1297         NaN  NaN      NaN        NaN  NaN      NaN        NaN  490740.0   \n",
       "9773    102200.0  NaN      NaN        NaN  NaN      NaN        NaN       NaN   \n",
       "9829    219290.0  NaN      NaN        NaN  NaN      NaN        NaN       NaN   \n",
       "11434    82250.0  NaN      NaN        NaN  NaN      NaN        NaN       NaN   \n",
       "11485        NaN  NaN      NaN    85300.0  NaN      NaN        NaN       NaN   \n",
       "...          ...  ...      ...        ...  ...      ...        ...       ...   \n",
       "517330       NaN  NaN      NaN        NaN  NaN  31500.0        NaN       NaN   \n",
       "517365       NaN  NaN      NaN        NaN  NaN      NaN        NaN       NaN   \n",
       "517459       NaN  NaN      NaN        NaN  NaN      NaN     5000.0       NaN   \n",
       "517595       NaN  NaN  33800.0        NaN  NaN      NaN        NaN       NaN   \n",
       "517602       NaN  NaN      NaN  1812450.0  NaN      NaN  1725000.0       NaN   \n",
       "\n",
       "매장      선물      쇼핑몰  예약  \n",
       "고객번호                     \n",
       "1297   NaN      NaN NaN  \n",
       "9773   NaN      NaN NaN  \n",
       "9829   NaN      NaN NaN  \n",
       "11434  NaN      NaN NaN  \n",
       "11485  NaN      NaN NaN  \n",
       "...     ..      ...  ..  \n",
       "517330 NaN      NaN NaN  \n",
       "517365 NaN  54000.0 NaN  \n",
       "517459 NaN      NaN NaN  \n",
       "517595 NaN      NaN NaN  \n",
       "517602 NaN      NaN NaN  \n",
       "\n",
       "[8283 rows x 11 columns]"
      ]
     },
     "execution_count": 521,
     "metadata": {},
     "output_type": "execute_result"
    }
   ],
   "source": [
    "deal.groupby(['고객번호','매장'])['총구매액'].sum().sort_values(ascending=False).unstack()"
   ]
  },
  {
   "cell_type": "code",
   "execution_count": 551,
   "metadata": {
    "scrolled": true
   },
   "outputs": [
    {
     "name": "stdout",
     "output_type": "stream",
     "text": [
      "A점포 [495094, 497429, 114949, 496599, 75432]\n",
      "B점포 [449821, 97218, 108615, 450509, 450406]\n",
      "C점포 [437667, 75432, 343532, 107142, 427571]\n",
      "D점포 [459839, 494943, 75432, 163840, 134621]\n",
      "ERP [497820, 75169, 72405, 75171, 73893]\n",
      "E점포 [75432, 131083, 134777, 116051, 222792]\n",
      "F점포 [75432, 437669, 447147, 73364, 166625]\n",
      "H점포 [180302, 437670, 73179, 73831, 73413]\n",
      "선물 [444703, 403855, 444971, 293950, 73543]\n",
      "쇼핑몰 [309486, 165339, 222777, 73481, 75068]\n",
      "예약 [73481, 267462, 73772, 303047, 468548]\n"
     ]
    }
   ],
   "source": [
    "## 업장별 우수고객\n",
    "for i in shop_cus.columns:\n",
    "        print(i,shop_cus[i].sort_values(ascending=False)[:5].to_frame().index.tolist())"
   ]
  },
  {
   "cell_type": "markdown",
   "metadata": {},
   "source": [
    "## 최대 구매액\n",
    "    단품기준"
   ]
  },
  {
   "cell_type": "code",
   "execution_count": 577,
   "metadata": {},
   "outputs": [
    {
     "data": {
      "text/plain": [
       "상품명\n",
       "백미4kg(무농약/연천)     73612560.0\n",
       "유기농백미즉석밥(210      71640125.0\n",
       "백미(4kg/유기/삼광)     60737204.0\n",
       "(영)유정란(30알/       58349425.0\n",
       "혼합15곡(1kg/무농약)    52090070.0\n",
       "Name: 총구매액, dtype: float64"
      ]
     },
     "execution_count": 577,
     "metadata": {},
     "output_type": "execute_result"
    }
   ],
   "source": [
    "## 단품기준 최대매출상품\n",
    "deal.groupby('상품명')['총구매액'].sum().sort_values(ascending=False)[:5]"
   ]
  },
  {
   "cell_type": "code",
   "execution_count": null,
   "metadata": {},
   "outputs": [],
   "source": []
  },
  {
   "cell_type": "code",
   "execution_count": null,
   "metadata": {},
   "outputs": [],
   "source": []
  },
  {
   "cell_type": "markdown",
   "metadata": {},
   "source": [
    "## 인기상품(많이 팔린 기준)\n",
    "    1. 단품기준\n",
    "    2. 소분류 기준(&& 상품데이터 )"
   ]
  },
  {
   "cell_type": "code",
   "execution_count": 605,
   "metadata": {},
   "outputs": [
    {
     "data": {
      "text/plain": [
       "<wordcloud.wordcloud.WordCloud at 0x2504c1d6250>"
      ]
     },
     "execution_count": 605,
     "metadata": {},
     "output_type": "execute_result"
    },
    {
     "data": {
      "image/png": "[encoded data removed]",
      "text/plain": [
       "<Figure size 432x288 with 1 Axes>"
      ]
     },
     "metadata": {
      "needs_background": "light"
     },
     "output_type": "display_data"
    }
   ],
   "source": [
    "## 소분류 wordcloud\n",
    "icon = Image.open('./data/cart.png')\n",
    "mask = Image.new(\"RGB\", icon.size, (255,255,255))\n",
    "mask.paste(icon,icon)\n",
    "mask = np.array(mask)\n",
    "\n",
    "\n",
    "WC = WordCloud(background_color=\"white\",font_path='c:/windows/fonts/gulim.ttc', mask=mask)\n",
    "cloud=WC.generate_from_frequencies(deal.groupby('상품명')['구매수량'].sum())\n",
    "plt.axis('off')\n",
    "\n",
    "plt.imshow(cloud)\n",
    "\n",
    "cloud.to_file('인기상품.png')"
   ]
  },
  {
   "cell_type": "code",
   "execution_count": 589,
   "metadata": {},
   "outputs": [
    {
     "data": {
      "text/plain": [
       "상품명\n",
       "유기농백미즉석밥(210    42147\n",
       "우리밀김치라면         22403\n",
       "쌀라면             22372\n",
       "유기김자반볶음(40g)    11762\n",
       "간편미역블럭국(해체)      9540\n",
       "Name: 구매수량, dtype: int64"
      ]
     },
     "execution_count": 589,
     "metadata": {},
     "output_type": "execute_result"
    }
   ],
   "source": [
    "deal.groupby('상품명')['구매수량'].sum().sort_values(ascending=False)[:5]"
   ]
  },
  {
   "cell_type": "code",
   "execution_count": null,
   "metadata": {},
   "outputs": [],
   "source": []
  },
  {
   "cell_type": "code",
   "execution_count": null,
   "metadata": {},
   "outputs": [],
   "source": []
  },
  {
   "cell_type": "code",
   "execution_count": null,
   "metadata": {},
   "outputs": [],
   "source": []
  },
  {
   "cell_type": "code",
   "execution_count": null,
   "metadata": {},
   "outputs": [],
   "source": []
  },
  {
   "cell_type": "code",
   "execution_count": null,
   "metadata": {},
   "outputs": [],
   "source": []
  },
  {
   "cell_type": "markdown",
   "metadata": {},
   "source": [
    "# ==============================================="
   ]
  },
  {
   "cell_type": "markdown",
   "metadata": {},
   "source": [
    "## 상품데이터"
   ]
  },
  {
   "cell_type": "markdown",
   "metadata": {},
   "source": [
    "    수익률 좋은 상품 / 나쁜상품"
   ]
  },
  {
   "cell_type": "code",
   "execution_count": 148,
   "metadata": {},
   "outputs": [
    {
     "data": {
      "text/html": [
       "<div>\n",
       "<style scoped>\n",
       "    .dataframe tbody tr th:only-of-type {\n",
       "        vertical-align: middle;\n",
       "    }\n",
       "\n",
       "    .dataframe tbody tr th {\n",
       "        vertical-align: top;\n",
       "    }\n",
       "\n",
       "    .dataframe thead th {\n",
       "        text-align: right;\n",
       "    }\n",
       "</style>\n",
       "<table border=\"1\" class=\"dataframe\">\n",
       "  <thead>\n",
       "    <tr style=\"text-align: right;\">\n",
       "      <th></th>\n",
       "      <th>상품번호</th>\n",
       "      <th>대분류명</th>\n",
       "      <th>중분류명</th>\n",
       "      <th>소분류명</th>\n",
       "      <th>상품명</th>\n",
       "      <th>매입단가</th>\n",
       "      <th>판매가</th>\n",
       "    </tr>\n",
       "  </thead>\n",
       "  <tbody>\n",
       "    <tr>\n",
       "      <th>6270</th>\n",
       "      <td>34799</td>\n",
       "      <td>환경생활용품</td>\n",
       "      <td>홈인테리어</td>\n",
       "      <td>패드겸이불</td>\n",
       "      <td>인견 패드겸이불(숯/퀸이상)</td>\n",
       "      <td>99,000</td>\n",
       "      <td>151300.0</td>\n",
       "    </tr>\n",
       "    <tr>\n",
       "      <th>6271</th>\n",
       "      <td>34789</td>\n",
       "      <td>환경생활용품</td>\n",
       "      <td>홈인테리어</td>\n",
       "      <td>패드겸이불</td>\n",
       "      <td>인견 패드겸이불(워싱/더블)</td>\n",
       "      <td>67,000</td>\n",
       "      <td>98800.0</td>\n",
       "    </tr>\n",
       "    <tr>\n",
       "      <th>6272</th>\n",
       "      <td>34800</td>\n",
       "      <td>환경생활용품</td>\n",
       "      <td>홈인테리어</td>\n",
       "      <td>패드겸이불</td>\n",
       "      <td>인견 패드겸이불(황토/더블)</td>\n",
       "      <td>82,000</td>\n",
       "      <td>120000.0</td>\n",
       "    </tr>\n",
       "    <tr>\n",
       "      <th>6273</th>\n",
       "      <td>34801</td>\n",
       "      <td>환경생활용품</td>\n",
       "      <td>홈인테리어</td>\n",
       "      <td>패드겸이불</td>\n",
       "      <td>인견 패드겸이불(황토/퀸이상)</td>\n",
       "      <td>99,000</td>\n",
       "      <td>151300.0</td>\n",
       "    </tr>\n",
       "    <tr>\n",
       "      <th>6274</th>\n",
       "      <td>28144</td>\n",
       "      <td>환경생활용품</td>\n",
       "      <td>홈인테리어</td>\n",
       "      <td>패드겸이불</td>\n",
       "      <td>황토 인견 줄누비패드 Q</td>\n",
       "      <td>81,000</td>\n",
       "      <td>120000.0</td>\n",
       "    </tr>\n",
       "  </tbody>\n",
       "</table>\n",
       "</div>"
      ],
      "text/plain": [
       "       상품번호    대분류명   중분류명   소분류명               상품명     매입단가       판매가\n",
       "6270  34799  환경생활용품  홈인테리어  패드겸이불   인견 패드겸이불(숯/퀸이상)   99,000  151300.0\n",
       "6271  34789  환경생활용품  홈인테리어  패드겸이불   인견 패드겸이불(워싱/더블)   67,000   98800.0\n",
       "6272  34800  환경생활용품  홈인테리어  패드겸이불   인견 패드겸이불(황토/더블)   82,000  120000.0\n",
       "6273  34801  환경생활용품  홈인테리어  패드겸이불  인견 패드겸이불(황토/퀸이상)   99,000  151300.0\n",
       "6274  28144  환경생활용품  홈인테리어  패드겸이불     황토 인견 줄누비패드 Q   81,000  120000.0"
      ]
     },
     "execution_count": 148,
     "metadata": {},
     "output_type": "execute_result"
    }
   ],
   "source": [
    "상품데이터 = pd.read_excel(TotalData, sheet_name = 5)\n",
    "상품데이터.tail()"
   ]
  },
  {
   "cell_type": "code",
   "execution_count": 150,
   "metadata": {},
   "outputs": [
    {
     "data": {
      "text/html": [
       "<div>\n",
       "<style scoped>\n",
       "    .dataframe tbody tr th:only-of-type {\n",
       "        vertical-align: middle;\n",
       "    }\n",
       "\n",
       "    .dataframe tbody tr th {\n",
       "        vertical-align: top;\n",
       "    }\n",
       "\n",
       "    .dataframe thead th {\n",
       "        text-align: right;\n",
       "    }\n",
       "</style>\n",
       "<table border=\"1\" class=\"dataframe\">\n",
       "  <thead>\n",
       "    <tr style=\"text-align: right;\">\n",
       "      <th></th>\n",
       "      <th>상품번호</th>\n",
       "      <th>대분류명</th>\n",
       "      <th>중분류명</th>\n",
       "      <th>소분류명</th>\n",
       "      <th>상품명</th>\n",
       "      <th>매입단가</th>\n",
       "      <th>판매가</th>\n",
       "    </tr>\n",
       "  </thead>\n",
       "  <tbody>\n",
       "    <tr>\n",
       "      <th>6270</th>\n",
       "      <td>34799</td>\n",
       "      <td>환경생활용품</td>\n",
       "      <td>홈인테리어</td>\n",
       "      <td>패드겸이불</td>\n",
       "      <td>인견 패드겸이불(숯/퀸이상)</td>\n",
       "      <td>99,000</td>\n",
       "      <td>151300.0</td>\n",
       "    </tr>\n",
       "    <tr>\n",
       "      <th>6271</th>\n",
       "      <td>34789</td>\n",
       "      <td>환경생활용품</td>\n",
       "      <td>홈인테리어</td>\n",
       "      <td>패드겸이불</td>\n",
       "      <td>인견 패드겸이불(워싱/더블)</td>\n",
       "      <td>67,000</td>\n",
       "      <td>98800.0</td>\n",
       "    </tr>\n",
       "    <tr>\n",
       "      <th>6272</th>\n",
       "      <td>34800</td>\n",
       "      <td>환경생활용품</td>\n",
       "      <td>홈인테리어</td>\n",
       "      <td>패드겸이불</td>\n",
       "      <td>인견 패드겸이불(황토/더블)</td>\n",
       "      <td>82,000</td>\n",
       "      <td>120000.0</td>\n",
       "    </tr>\n",
       "    <tr>\n",
       "      <th>6273</th>\n",
       "      <td>34801</td>\n",
       "      <td>환경생활용품</td>\n",
       "      <td>홈인테리어</td>\n",
       "      <td>패드겸이불</td>\n",
       "      <td>인견 패드겸이불(황토/퀸이상)</td>\n",
       "      <td>99,000</td>\n",
       "      <td>151300.0</td>\n",
       "    </tr>\n",
       "    <tr>\n",
       "      <th>6274</th>\n",
       "      <td>28144</td>\n",
       "      <td>환경생활용품</td>\n",
       "      <td>홈인테리어</td>\n",
       "      <td>패드겸이불</td>\n",
       "      <td>황토 인견 줄누비패드 Q</td>\n",
       "      <td>81,000</td>\n",
       "      <td>120000.0</td>\n",
       "    </tr>\n",
       "  </tbody>\n",
       "</table>\n",
       "</div>"
      ],
      "text/plain": [
       "       상품번호    대분류명   중분류명   소분류명               상품명     매입단가       판매가\n",
       "6270  34799  환경생활용품  홈인테리어  패드겸이불   인견 패드겸이불(숯/퀸이상)   99,000  151300.0\n",
       "6271  34789  환경생활용품  홈인테리어  패드겸이불   인견 패드겸이불(워싱/더블)   67,000   98800.0\n",
       "6272  34800  환경생활용품  홈인테리어  패드겸이불   인견 패드겸이불(황토/더블)   82,000  120000.0\n",
       "6273  34801  환경생활용품  홈인테리어  패드겸이불  인견 패드겸이불(황토/퀸이상)   99,000  151300.0\n",
       "6274  28144  환경생활용품  홈인테리어  패드겸이불     황토 인견 줄누비패드 Q   81,000  120000.0"
      ]
     },
     "execution_count": 150,
     "metadata": {},
     "output_type": "execute_result"
    }
   ],
   "source": [
    "product = 상품데이터.copy()\n",
    "product.tail()"
   ]
  },
  {
   "cell_type": "code",
   "execution_count": 243,
   "metadata": {},
   "outputs": [
    {
     "data": {
      "image/png": "[encoded data removed]",
      "text/plain": [
       "<Figure size 432x288 with 2 Axes>"
      ]
     },
     "metadata": {
      "needs_background": "light"
     },
     "output_type": "display_data"
    }
   ],
   "source": [
    "sns.heatmap(product.isnull())\n",
    "plt.xticks(rotation = 45)\n",
    "plt.show()"
   ]
  },
  {
   "cell_type": "code",
   "execution_count": 622,
   "metadata": {},
   "outputs": [
    {
     "name": "stdout",
     "output_type": "stream",
     "text": [
      "<class 'pandas.core.frame.DataFrame'>\n",
      "RangeIndex: 6275 entries, 0 to 6274\n",
      "Data columns (total 7 columns):\n",
      " #   Column  Non-Null Count  Dtype  \n",
      "---  ------  --------------  -----  \n",
      " 0   상품번호    6275 non-null   int64  \n",
      " 1   대분류명    6275 non-null   object \n",
      " 2   중분류명    6275 non-null   object \n",
      " 3   소분류명    6275 non-null   object \n",
      " 4   상품명     6274 non-null   object \n",
      " 5   매입단가    5925 non-null   object \n",
      " 6   판매가     5925 non-null   float64\n",
      "dtypes: float64(1), int64(1), object(5)\n",
      "memory usage: 343.3+ KB\n"
     ]
    }
   ],
   "source": [
    "product.info()"
   ]
  },
  {
   "cell_type": "code",
   "execution_count": 613,
   "metadata": {},
   "outputs": [
    {
     "data": {
      "text/html": [
       "<div>\n",
       "<style scoped>\n",
       "    .dataframe tbody tr th:only-of-type {\n",
       "        vertical-align: middle;\n",
       "    }\n",
       "\n",
       "    .dataframe tbody tr th {\n",
       "        vertical-align: top;\n",
       "    }\n",
       "\n",
       "    .dataframe thead th {\n",
       "        text-align: right;\n",
       "    }\n",
       "</style>\n",
       "<table border=\"1\" class=\"dataframe\">\n",
       "  <thead>\n",
       "    <tr style=\"text-align: right;\">\n",
       "      <th></th>\n",
       "      <th>상품번호</th>\n",
       "      <th>판매가</th>\n",
       "    </tr>\n",
       "  </thead>\n",
       "  <tbody>\n",
       "    <tr>\n",
       "      <th>count</th>\n",
       "      <td>6275.000000</td>\n",
       "      <td>5.925000e+03</td>\n",
       "    </tr>\n",
       "    <tr>\n",
       "      <th>mean</th>\n",
       "      <td>24667.659124</td>\n",
       "      <td>2.023221e+04</td>\n",
       "    </tr>\n",
       "    <tr>\n",
       "      <th>std</th>\n",
       "      <td>12236.636198</td>\n",
       "      <td>4.312499e+04</td>\n",
       "    </tr>\n",
       "    <tr>\n",
       "      <th>min</th>\n",
       "      <td>1.000000</td>\n",
       "      <td>2.000000e+02</td>\n",
       "    </tr>\n",
       "    <tr>\n",
       "      <th>25%</th>\n",
       "      <td>15634.500000</td>\n",
       "      <td>4.700000e+03</td>\n",
       "    </tr>\n",
       "    <tr>\n",
       "      <th>50%</th>\n",
       "      <td>26667.000000</td>\n",
       "      <td>9.800000e+03</td>\n",
       "    </tr>\n",
       "    <tr>\n",
       "      <th>75%</th>\n",
       "      <td>35062.000000</td>\n",
       "      <td>2.160000e+04</td>\n",
       "    </tr>\n",
       "    <tr>\n",
       "      <th>max</th>\n",
       "      <td>42123.000000</td>\n",
       "      <td>2.132000e+06</td>\n",
       "    </tr>\n",
       "  </tbody>\n",
       "</table>\n",
       "</div>"
      ],
      "text/plain": [
       "               상품번호           판매가\n",
       "count   6275.000000  5.925000e+03\n",
       "mean   24667.659124  2.023221e+04\n",
       "std    12236.636198  4.312499e+04\n",
       "min        1.000000  2.000000e+02\n",
       "25%    15634.500000  4.700000e+03\n",
       "50%    26667.000000  9.800000e+03\n",
       "75%    35062.000000  2.160000e+04\n",
       "max    42123.000000  2.132000e+06"
      ]
     },
     "execution_count": 613,
     "metadata": {},
     "output_type": "execute_result"
    }
   ],
   "source": [
    "product.describe()"
   ]
  },
  {
   "cell_type": "code",
   "execution_count": 244,
   "metadata": {},
   "outputs": [
    {
     "data": {
      "image/png": "[encoded data removed]",
      "text/plain": [
       "<Figure size 432x288 with 1 Axes>"
      ]
     },
     "metadata": {
      "needs_background": "light"
     },
     "output_type": "display_data"
    }
   ],
   "source": [
    "sns.countplot(data = product, x='대분류명')\n",
    "plt.xticks(rotation=270)\n",
    "plt.show()"
   ]
  },
  {
   "cell_type": "code",
   "execution_count": 588,
   "metadata": {},
   "outputs": [
    {
     "data": {
      "text/plain": [
       "<wordcloud.wordcloud.WordCloud at 0x25001d98e20>"
      ]
     },
     "execution_count": 588,
     "metadata": {},
     "output_type": "execute_result"
    },
    {
     "data": {
      "image/png": "[encoded data removed]",
      "text/plain": [
       "<Figure size 432x288 with 1 Axes>"
      ]
     },
     "metadata": {
      "needs_background": "light"
     },
     "output_type": "display_data"
    }
   ],
   "source": [
    "## 소분류 wordcloud\n",
    "icon = Image.open('./data/mart1.png')\n",
    "mask = Image.new(\"RGB\", icon.size, (255,255,255))\n",
    "mask.paste(icon,icon)\n",
    "mask = np.array(mask)\n",
    "\n",
    "\n",
    "WC = WordCloud(background_color=\"white\",font_path='c:/windows/fonts/gulim.ttc', mask=mask)\n",
    "cloud=WC.generate_from_frequencies(product.groupby('소분류명')['상품번호'].count())\n",
    "plt.axis('off')\n",
    "plt.imshow(cloud)\n",
    "cloud.to_file('소분류.png')"
   ]
  },
  {
   "cell_type": "markdown",
   "metadata": {},
   "source": [
    "##  상품별 수익률"
   ]
  },
  {
   "cell_type": "code",
   "execution_count": 627,
   "metadata": {},
   "outputs": [
    {
     "name": "stdout",
     "output_type": "stream",
     "text": [
      "<class 'pandas.core.frame.DataFrame'>\n",
      "Int64Index: 5925 entries, 1 to 6274\n",
      "Data columns (total 7 columns):\n",
      " #   Column  Non-Null Count  Dtype  \n",
      "---  ------  --------------  -----  \n",
      " 0   상품번호    5925 non-null   int64  \n",
      " 1   대분류명    5925 non-null   object \n",
      " 2   중분류명    5925 non-null   object \n",
      " 3   소분류명    5925 non-null   object \n",
      " 4   상품명     5925 non-null   object \n",
      " 5   매입단가    5925 non-null   object \n",
      " 6   판매가     5925 non-null   float64\n",
      "dtypes: float64(1), int64(1), object(5)\n",
      "memory usage: 370.3+ KB\n"
     ]
    }
   ],
   "source": [
    "pro_rate.info()"
   ]
  },
  {
   "cell_type": "code",
   "execution_count": null,
   "metadata": {},
   "outputs": [],
   "source": []
  },
  {
   "cell_type": "code",
   "execution_count": null,
   "metadata": {},
   "outputs": [],
   "source": []
  },
  {
   "cell_type": "code",
   "execution_count": null,
   "metadata": {},
   "outputs": [],
   "source": []
  },
  {
   "cell_type": "markdown",
   "metadata": {},
   "source": [
    "# 데이터 병합\n",
    "    전체데이터가 아니기 때문에 일부 오류존재"
   ]
  },
  {
   "cell_type": "code",
   "execution_count": null,
   "metadata": {},
   "outputs": [],
   "source": []
  }
 ],
 "metadata": {
  "kernelspec": {
   "display_name": "Python 3",
   "language": "python",
   "name": "python3"
  },
  "language_info": {
   "codemirror_mode": {
    "name": "ipython",
    "version": 3
   },
   "file_extension": ".py",
   "mimetype": "text/x-python",
   "name": "python",
   "nbconvert_exporter": "python",
   "pygments_lexer": "ipython3",
   "version": "3.8.5"
  }
 },
 "nbformat": 4,
 "nbformat_minor": 4
}
