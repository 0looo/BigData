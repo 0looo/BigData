{
 "cells": [
  {
   "cell_type": "code",
   "execution_count": 37,
   "metadata": {},
   "outputs": [],
   "source": [
    "import pandas as pd\n",
    "import numpy as np\n",
    "import matplotlib.pyplot as plt\n",
    "import seaborn as sns"
   ]
  },
  {
   "cell_type": "code",
   "execution_count": 38,
   "metadata": {},
   "outputs": [],
   "source": [
    "import matplotlib as mpl\n",
    "import matplotlib.font_manager as fm\n",
    "\n",
    "mpl.rcParams['axes.unicode_minus']= False\n",
    "\n",
    "path = 'C:/Windows/Fonts/malgun.ttf'\n",
    "font_name = fm.FontProperties(fname = path, size = 50).get_name()\n",
    "plt.rc('font', family=font_name)"
   ]
  },
  {
   "cell_type": "code",
   "execution_count": null,
   "metadata": {},
   "outputs": [],
   "source": [
    "# http://www.ad.co.kr/stat/index.hjsp"
   ]
  },
  {
   "cell_type": "code",
   "execution_count": 23,
   "metadata": {},
   "outputs": [
    {
     "data": {
      "text/html": [
       "<div>\n",
       "<style scoped>\n",
       "    .dataframe tbody tr th:only-of-type {\n",
       "        vertical-align: middle;\n",
       "    }\n",
       "\n",
       "    .dataframe tbody tr th {\n",
       "        vertical-align: top;\n",
       "    }\n",
       "\n",
       "    .dataframe thead th {\n",
       "        text-align: right;\n",
       "    }\n",
       "</style>\n",
       "<table border=\"1\" class=\"dataframe\">\n",
       "  <thead>\n",
       "    <tr style=\"text-align: right;\">\n",
       "      <th></th>\n",
       "      <th>Unnamed: 0</th>\n",
       "      <th>firm</th>\n",
       "      <th>tv</th>\n",
       "      <th>radio</th>\n",
       "      <th>newpaper</th>\n",
       "      <th>magazine</th>\n",
       "    </tr>\n",
       "  </thead>\n",
       "  <tbody>\n",
       "    <tr>\n",
       "      <th>0</th>\n",
       "      <td>0</td>\n",
       "      <td>회사명</td>\n",
       "      <td>TV</td>\n",
       "      <td>라디오</td>\n",
       "      <td>신문</td>\n",
       "      <td>잡지</td>\n",
       "    </tr>\n",
       "    <tr>\n",
       "      <th>1</th>\n",
       "      <td>1</td>\n",
       "      <td>삼성전자</td>\n",
       "      <td>8571937</td>\n",
       "      <td>255932</td>\n",
       "      <td>6769684</td>\n",
       "      <td>223800</td>\n",
       "    </tr>\n",
       "    <tr>\n",
       "      <th>2</th>\n",
       "      <td>2</td>\n",
       "      <td>현대자동차</td>\n",
       "      <td>4929457</td>\n",
       "      <td>448627</td>\n",
       "      <td>2711580</td>\n",
       "      <td>115300</td>\n",
       "    </tr>\n",
       "    <tr>\n",
       "      <th>3</th>\n",
       "      <td>3</td>\n",
       "      <td>아모레퍼시픽</td>\n",
       "      <td>4563944</td>\n",
       "      <td>222294</td>\n",
       "      <td>1742959</td>\n",
       "      <td>987600</td>\n",
       "    </tr>\n",
       "    <tr>\n",
       "      <th>4</th>\n",
       "      <td>4</td>\n",
       "      <td>LG전자</td>\n",
       "      <td>5587791</td>\n",
       "      <td>72904</td>\n",
       "      <td>1298358</td>\n",
       "      <td>184400</td>\n",
       "    </tr>\n",
       "  </tbody>\n",
       "</table>\n",
       "</div>"
      ],
      "text/plain": [
       "   Unnamed: 0    firm       tv   radio newpaper magazine\n",
       "0           0     회사명       TV     라디오       신문       잡지\n",
       "1           1    삼성전자  8571937  255932  6769684   223800\n",
       "2           2   현대자동차  4929457  448627  2711580   115300\n",
       "3           3  아모레퍼시픽  4563944  222294  1742959   987600\n",
       "4           4    LG전자  5587791   72904  1298358   184400"
      ]
     },
     "execution_count": 23,
     "metadata": {},
     "output_type": "execute_result"
    }
   ],
   "source": [
    "df = pd.read_csv('2016ad.csv')\n",
    "df.head()"
   ]
  },
  {
   "cell_type": "code",
   "execution_count": 24,
   "metadata": {},
   "outputs": [],
   "source": [
    "df.drop('Unnamed: 0', axis=1, inplace=True)"
   ]
  },
  {
   "cell_type": "code",
   "execution_count": 25,
   "metadata": {},
   "outputs": [
    {
     "data": {
      "text/html": [
       "<div>\n",
       "<style scoped>\n",
       "    .dataframe tbody tr th:only-of-type {\n",
       "        vertical-align: middle;\n",
       "    }\n",
       "\n",
       "    .dataframe tbody tr th {\n",
       "        vertical-align: top;\n",
       "    }\n",
       "\n",
       "    .dataframe thead th {\n",
       "        text-align: right;\n",
       "    }\n",
       "</style>\n",
       "<table border=\"1\" class=\"dataframe\">\n",
       "  <thead>\n",
       "    <tr style=\"text-align: right;\">\n",
       "      <th></th>\n",
       "      <th>firm</th>\n",
       "      <th>tv</th>\n",
       "      <th>radio</th>\n",
       "      <th>newpaper</th>\n",
       "      <th>magazine</th>\n",
       "    </tr>\n",
       "  </thead>\n",
       "  <tbody>\n",
       "    <tr>\n",
       "      <th>1</th>\n",
       "      <td>삼성전자</td>\n",
       "      <td>8571937</td>\n",
       "      <td>255932</td>\n",
       "      <td>6769684</td>\n",
       "      <td>223800</td>\n",
       "    </tr>\n",
       "    <tr>\n",
       "      <th>2</th>\n",
       "      <td>현대자동차</td>\n",
       "      <td>4929457</td>\n",
       "      <td>448627</td>\n",
       "      <td>2711580</td>\n",
       "      <td>115300</td>\n",
       "    </tr>\n",
       "    <tr>\n",
       "      <th>3</th>\n",
       "      <td>아모레퍼시픽</td>\n",
       "      <td>4563944</td>\n",
       "      <td>222294</td>\n",
       "      <td>1742959</td>\n",
       "      <td>987600</td>\n",
       "    </tr>\n",
       "    <tr>\n",
       "      <th>4</th>\n",
       "      <td>LG전자</td>\n",
       "      <td>5587791</td>\n",
       "      <td>72904</td>\n",
       "      <td>1298358</td>\n",
       "      <td>184400</td>\n",
       "    </tr>\n",
       "    <tr>\n",
       "      <th>5</th>\n",
       "      <td>KT</td>\n",
       "      <td>4792340</td>\n",
       "      <td>317334</td>\n",
       "      <td>1120930</td>\n",
       "      <td>33100</td>\n",
       "    </tr>\n",
       "  </tbody>\n",
       "</table>\n",
       "</div>"
      ],
      "text/plain": [
       "     firm       tv   radio newpaper magazine\n",
       "1    삼성전자  8571937  255932  6769684   223800\n",
       "2   현대자동차  4929457  448627  2711580   115300\n",
       "3  아모레퍼시픽  4563944  222294  1742959   987600\n",
       "4    LG전자  5587791   72904  1298358   184400\n",
       "5      KT  4792340  317334  1120930    33100"
      ]
     },
     "execution_count": 25,
     "metadata": {},
     "output_type": "execute_result"
    }
   ],
   "source": [
    "df.drop(0, axis=0, inplace=True)\n",
    "df.head()"
   ]
  },
  {
   "cell_type": "code",
   "execution_count": 26,
   "metadata": {},
   "outputs": [
    {
     "name": "stdout",
     "output_type": "stream",
     "text": [
      "<class 'pandas.core.frame.DataFrame'>\n",
      "Int64Index: 100 entries, 1 to 100\n",
      "Data columns (total 5 columns):\n",
      " #   Column    Non-Null Count  Dtype \n",
      "---  ------    --------------  ----- \n",
      " 0   firm      100 non-null    object\n",
      " 1   tv        100 non-null    object\n",
      " 2   radio     100 non-null    object\n",
      " 3   newpaper  100 non-null    object\n",
      " 4   magazine  100 non-null    object\n",
      "dtypes: object(5)\n",
      "memory usage: 4.7+ KB\n"
     ]
    }
   ],
   "source": [
    "df.info()"
   ]
  },
  {
   "cell_type": "code",
   "execution_count": 27,
   "metadata": {},
   "outputs": [],
   "source": [
    "# 문자열 칼럼 => 숫자\n",
    "# df['칼럼명'] = df['칼럼명'].astype('int')\n",
    "# df['칼럼명'] = pd.to_numeric(df['칼럼명'])"
   ]
  },
  {
   "cell_type": "code",
   "execution_count": 28,
   "metadata": {},
   "outputs": [],
   "source": [
    "df['tv'] = df['tv'].astype('int')\n",
    "df['radio'] = df['radio'].astype('int')\n",
    "df['newpaper'] = df['newpaper'].astype('int')\n",
    "df['magazine'] = df['magazine'].astype('int')"
   ]
  },
  {
   "cell_type": "code",
   "execution_count": 29,
   "metadata": {
    "collapsed": true
   },
   "outputs": [
    {
     "name": "stdout",
     "output_type": "stream",
     "text": [
      "<class 'pandas.core.frame.DataFrame'>\n",
      "Int64Index: 100 entries, 1 to 100\n",
      "Data columns (total 5 columns):\n",
      " #   Column    Non-Null Count  Dtype \n",
      "---  ------    --------------  ----- \n",
      " 0   firm      100 non-null    object\n",
      " 1   tv        100 non-null    int32 \n",
      " 2   radio     100 non-null    int32 \n",
      " 3   newpaper  100 non-null    int32 \n",
      " 4   magazine  100 non-null    int32 \n",
      "dtypes: int32(4), object(1)\n",
      "memory usage: 3.1+ KB\n"
     ]
    }
   ],
   "source": [
    "df.info()"
   ]
  },
  {
   "cell_type": "code",
   "execution_count": 30,
   "metadata": {
    "collapsed": true
   },
   "outputs": [
    {
     "data": {
      "text/html": [
       "<div>\n",
       "<style scoped>\n",
       "    .dataframe tbody tr th:only-of-type {\n",
       "        vertical-align: middle;\n",
       "    }\n",
       "\n",
       "    .dataframe tbody tr th {\n",
       "        vertical-align: top;\n",
       "    }\n",
       "\n",
       "    .dataframe thead th {\n",
       "        text-align: right;\n",
       "    }\n",
       "</style>\n",
       "<table border=\"1\" class=\"dataframe\">\n",
       "  <thead>\n",
       "    <tr style=\"text-align: right;\">\n",
       "      <th></th>\n",
       "      <th>firm</th>\n",
       "      <th>tv</th>\n",
       "      <th>radio</th>\n",
       "      <th>newpaper</th>\n",
       "      <th>magazine</th>\n",
       "    </tr>\n",
       "  </thead>\n",
       "  <tbody>\n",
       "    <tr>\n",
       "      <th>1</th>\n",
       "      <td>삼성전자</td>\n",
       "      <td>8571937</td>\n",
       "      <td>255932</td>\n",
       "      <td>6769684</td>\n",
       "      <td>223800</td>\n",
       "    </tr>\n",
       "    <tr>\n",
       "      <th>2</th>\n",
       "      <td>현대자동차</td>\n",
       "      <td>4929457</td>\n",
       "      <td>448627</td>\n",
       "      <td>2711580</td>\n",
       "      <td>115300</td>\n",
       "    </tr>\n",
       "    <tr>\n",
       "      <th>3</th>\n",
       "      <td>아모레퍼시픽</td>\n",
       "      <td>4563944</td>\n",
       "      <td>222294</td>\n",
       "      <td>1742959</td>\n",
       "      <td>987600</td>\n",
       "    </tr>\n",
       "    <tr>\n",
       "      <th>4</th>\n",
       "      <td>LG전자</td>\n",
       "      <td>5587791</td>\n",
       "      <td>72904</td>\n",
       "      <td>1298358</td>\n",
       "      <td>184400</td>\n",
       "    </tr>\n",
       "    <tr>\n",
       "      <th>5</th>\n",
       "      <td>KT</td>\n",
       "      <td>4792340</td>\n",
       "      <td>317334</td>\n",
       "      <td>1120930</td>\n",
       "      <td>33100</td>\n",
       "    </tr>\n",
       "  </tbody>\n",
       "</table>\n",
       "</div>"
      ],
      "text/plain": [
       "     firm       tv   radio  newpaper  magazine\n",
       "1    삼성전자  8571937  255932   6769684    223800\n",
       "2   현대자동차  4929457  448627   2711580    115300\n",
       "3  아모레퍼시픽  4563944  222294   1742959    987600\n",
       "4    LG전자  5587791   72904   1298358    184400\n",
       "5      KT  4792340  317334   1120930     33100"
      ]
     },
     "execution_count": 30,
     "metadata": {},
     "output_type": "execute_result"
    }
   ],
   "source": [
    "df.head()"
   ]
  },
  {
   "cell_type": "code",
   "execution_count": 32,
   "metadata": {},
   "outputs": [],
   "source": [
    "df.set_index('firm', inplace=True)"
   ]
  },
  {
   "cell_type": "code",
   "execution_count": 33,
   "metadata": {},
   "outputs": [
    {
     "data": {
      "text/html": [
       "<div>\n",
       "<style scoped>\n",
       "    .dataframe tbody tr th:only-of-type {\n",
       "        vertical-align: middle;\n",
       "    }\n",
       "\n",
       "    .dataframe tbody tr th {\n",
       "        vertical-align: top;\n",
       "    }\n",
       "\n",
       "    .dataframe thead th {\n",
       "        text-align: right;\n",
       "    }\n",
       "</style>\n",
       "<table border=\"1\" class=\"dataframe\">\n",
       "  <thead>\n",
       "    <tr style=\"text-align: right;\">\n",
       "      <th></th>\n",
       "      <th>tv</th>\n",
       "      <th>radio</th>\n",
       "      <th>newpaper</th>\n",
       "      <th>magazine</th>\n",
       "    </tr>\n",
       "    <tr>\n",
       "      <th>firm</th>\n",
       "      <th></th>\n",
       "      <th></th>\n",
       "      <th></th>\n",
       "      <th></th>\n",
       "    </tr>\n",
       "  </thead>\n",
       "  <tbody>\n",
       "    <tr>\n",
       "      <th>삼성전자</th>\n",
       "      <td>8571937</td>\n",
       "      <td>255932</td>\n",
       "      <td>6769684</td>\n",
       "      <td>223800</td>\n",
       "    </tr>\n",
       "    <tr>\n",
       "      <th>현대자동차</th>\n",
       "      <td>4929457</td>\n",
       "      <td>448627</td>\n",
       "      <td>2711580</td>\n",
       "      <td>115300</td>\n",
       "    </tr>\n",
       "    <tr>\n",
       "      <th>아모레퍼시픽</th>\n",
       "      <td>4563944</td>\n",
       "      <td>222294</td>\n",
       "      <td>1742959</td>\n",
       "      <td>987600</td>\n",
       "    </tr>\n",
       "    <tr>\n",
       "      <th>LG전자</th>\n",
       "      <td>5587791</td>\n",
       "      <td>72904</td>\n",
       "      <td>1298358</td>\n",
       "      <td>184400</td>\n",
       "    </tr>\n",
       "    <tr>\n",
       "      <th>KT</th>\n",
       "      <td>4792340</td>\n",
       "      <td>317334</td>\n",
       "      <td>1120930</td>\n",
       "      <td>33100</td>\n",
       "    </tr>\n",
       "  </tbody>\n",
       "</table>\n",
       "</div>"
      ],
      "text/plain": [
       "             tv   radio  newpaper  magazine\n",
       "firm                                       \n",
       "삼성전자    8571937  255932   6769684    223800\n",
       "현대자동차   4929457  448627   2711580    115300\n",
       "아모레퍼시픽  4563944  222294   1742959    987600\n",
       "LG전자    5587791   72904   1298358    184400\n",
       "KT      4792340  317334   1120930     33100"
      ]
     },
     "execution_count": 33,
     "metadata": {},
     "output_type": "execute_result"
    }
   ],
   "source": [
    "df.head()"
   ]
  },
  {
   "cell_type": "code",
   "execution_count": 34,
   "metadata": {},
   "outputs": [],
   "source": [
    "# 2016년도에 tv광고를 가장 많이 한 10대기업 은..?"
   ]
  },
  {
   "cell_type": "code",
   "execution_count": 35,
   "metadata": {
    "collapsed": true
   },
   "outputs": [
    {
     "data": {
      "text/html": [
       "<div>\n",
       "<style scoped>\n",
       "    .dataframe tbody tr th:only-of-type {\n",
       "        vertical-align: middle;\n",
       "    }\n",
       "\n",
       "    .dataframe tbody tr th {\n",
       "        vertical-align: top;\n",
       "    }\n",
       "\n",
       "    .dataframe thead th {\n",
       "        text-align: right;\n",
       "    }\n",
       "</style>\n",
       "<table border=\"1\" class=\"dataframe\">\n",
       "  <thead>\n",
       "    <tr style=\"text-align: right;\">\n",
       "      <th></th>\n",
       "      <th>tv</th>\n",
       "      <th>radio</th>\n",
       "      <th>newpaper</th>\n",
       "      <th>magazine</th>\n",
       "    </tr>\n",
       "    <tr>\n",
       "      <th>firm</th>\n",
       "      <th></th>\n",
       "      <th></th>\n",
       "      <th></th>\n",
       "      <th></th>\n",
       "    </tr>\n",
       "  </thead>\n",
       "  <tbody>\n",
       "    <tr>\n",
       "      <th>삼성전자</th>\n",
       "      <td>8571937</td>\n",
       "      <td>255932</td>\n",
       "      <td>6769684</td>\n",
       "      <td>223800</td>\n",
       "    </tr>\n",
       "    <tr>\n",
       "      <th>LG전자</th>\n",
       "      <td>5587791</td>\n",
       "      <td>72904</td>\n",
       "      <td>1298358</td>\n",
       "      <td>184400</td>\n",
       "    </tr>\n",
       "    <tr>\n",
       "      <th>현대자동차</th>\n",
       "      <td>4929457</td>\n",
       "      <td>448627</td>\n",
       "      <td>2711580</td>\n",
       "      <td>115300</td>\n",
       "    </tr>\n",
       "    <tr>\n",
       "      <th>KT</th>\n",
       "      <td>4792340</td>\n",
       "      <td>317334</td>\n",
       "      <td>1120930</td>\n",
       "      <td>33100</td>\n",
       "    </tr>\n",
       "    <tr>\n",
       "      <th>아모레퍼시픽</th>\n",
       "      <td>4563944</td>\n",
       "      <td>222294</td>\n",
       "      <td>1742959</td>\n",
       "      <td>987600</td>\n",
       "    </tr>\n",
       "    <tr>\n",
       "      <th>한국인삼공사</th>\n",
       "      <td>4486631</td>\n",
       "      <td>193680</td>\n",
       "      <td>14399</td>\n",
       "      <td>48000</td>\n",
       "    </tr>\n",
       "    <tr>\n",
       "      <th>시몬스</th>\n",
       "      <td>3390080</td>\n",
       "      <td>0</td>\n",
       "      <td>0</td>\n",
       "      <td>262000</td>\n",
       "    </tr>\n",
       "    <tr>\n",
       "      <th>명인제약</th>\n",
       "      <td>3058292</td>\n",
       "      <td>36700</td>\n",
       "      <td>131642</td>\n",
       "      <td>0</td>\n",
       "    </tr>\n",
       "    <tr>\n",
       "      <th>FRL코리아</th>\n",
       "      <td>2834517</td>\n",
       "      <td>0</td>\n",
       "      <td>0</td>\n",
       "      <td>4000</td>\n",
       "    </tr>\n",
       "    <tr>\n",
       "      <th>NHN엔터테인먼트</th>\n",
       "      <td>2673469</td>\n",
       "      <td>0</td>\n",
       "      <td>0</td>\n",
       "      <td>1500</td>\n",
       "    </tr>\n",
       "  </tbody>\n",
       "</table>\n",
       "</div>"
      ],
      "text/plain": [
       "                tv   radio  newpaper  magazine\n",
       "firm                                          \n",
       "삼성전자       8571937  255932   6769684    223800\n",
       "LG전자       5587791   72904   1298358    184400\n",
       "현대자동차      4929457  448627   2711580    115300\n",
       "KT         4792340  317334   1120930     33100\n",
       "아모레퍼시픽     4563944  222294   1742959    987600\n",
       "한국인삼공사     4486631  193680     14399     48000\n",
       "시몬스        3390080       0         0    262000\n",
       "명인제약       3058292   36700    131642         0\n",
       "FRL코리아     2834517       0         0      4000\n",
       "NHN엔터테인먼트  2673469       0         0      1500"
      ]
     },
     "execution_count": 35,
     "metadata": {},
     "output_type": "execute_result"
    }
   ],
   "source": [
    "df.sort_values('tv', ascending=False)[:10]"
   ]
  },
  {
   "cell_type": "code",
   "execution_count": 36,
   "metadata": {
    "collapsed": true
   },
   "outputs": [
    {
     "data": {
      "text/plain": [
       "<matplotlib.axes._subplots.AxesSubplot at 0x213463aa400>"
      ]
     },
     "execution_count": 36,
     "metadata": {},
     "output_type": "execute_result"
    },
    {
     "data": {
      "image/png": "[encoded data removed]",
      "text/plain": [
       "<Figure size 432x288 with 1 Axes>"
      ]
     },
     "metadata": {
      "needs_background": "light"
     },
     "output_type": "display_data"
    }
   ],
   "source": [
    "df.sort_values('tv', ascending=False)[:10].plot(kind='bar')"
   ]
  },
  {
   "cell_type": "code",
   "execution_count": 37,
   "metadata": {},
   "outputs": [],
   "source": [
    "# 2016년도 4대 광고 최대 집행기업??"
   ]
  },
  {
   "cell_type": "code",
   "execution_count": 43,
   "metadata": {},
   "outputs": [
    {
     "data": {
      "text/html": [
       "<div>\n",
       "<style scoped>\n",
       "    .dataframe tbody tr th:only-of-type {\n",
       "        vertical-align: middle;\n",
       "    }\n",
       "\n",
       "    .dataframe tbody tr th {\n",
       "        vertical-align: top;\n",
       "    }\n",
       "\n",
       "    .dataframe thead th {\n",
       "        text-align: right;\n",
       "    }\n",
       "</style>\n",
       "<table border=\"1\" class=\"dataframe\">\n",
       "  <thead>\n",
       "    <tr style=\"text-align: right;\">\n",
       "      <th></th>\n",
       "      <th>tv</th>\n",
       "      <th>radio</th>\n",
       "      <th>newpaper</th>\n",
       "      <th>magazine</th>\n",
       "      <th>total</th>\n",
       "    </tr>\n",
       "    <tr>\n",
       "      <th>firm</th>\n",
       "      <th></th>\n",
       "      <th></th>\n",
       "      <th></th>\n",
       "      <th></th>\n",
       "      <th></th>\n",
       "    </tr>\n",
       "  </thead>\n",
       "  <tbody>\n",
       "    <tr>\n",
       "      <th>삼성전자</th>\n",
       "      <td>8571937</td>\n",
       "      <td>255932</td>\n",
       "      <td>6769684</td>\n",
       "      <td>223800</td>\n",
       "      <td>31642706</td>\n",
       "    </tr>\n",
       "    <tr>\n",
       "      <th>현대자동차</th>\n",
       "      <td>4929457</td>\n",
       "      <td>448627</td>\n",
       "      <td>2711580</td>\n",
       "      <td>115300</td>\n",
       "      <td>16409928</td>\n",
       "    </tr>\n",
       "    <tr>\n",
       "      <th>아모레퍼시픽</th>\n",
       "      <td>4563944</td>\n",
       "      <td>222294</td>\n",
       "      <td>1742959</td>\n",
       "      <td>987600</td>\n",
       "      <td>15033594</td>\n",
       "    </tr>\n",
       "    <tr>\n",
       "      <th>LG전자</th>\n",
       "      <td>5587791</td>\n",
       "      <td>72904</td>\n",
       "      <td>1298358</td>\n",
       "      <td>184400</td>\n",
       "      <td>14286906</td>\n",
       "    </tr>\n",
       "    <tr>\n",
       "      <th>KT</th>\n",
       "      <td>4792340</td>\n",
       "      <td>317334</td>\n",
       "      <td>1120930</td>\n",
       "      <td>33100</td>\n",
       "      <td>12527408</td>\n",
       "    </tr>\n",
       "  </tbody>\n",
       "</table>\n",
       "</div>"
      ],
      "text/plain": [
       "             tv   radio  newpaper  magazine     total\n",
       "firm                                                 \n",
       "삼성전자    8571937  255932   6769684    223800  31642706\n",
       "현대자동차   4929457  448627   2711580    115300  16409928\n",
       "아모레퍼시픽  4563944  222294   1742959    987600  15033594\n",
       "LG전자    5587791   72904   1298358    184400  14286906\n",
       "KT      4792340  317334   1120930     33100  12527408"
      ]
     },
     "execution_count": 43,
     "metadata": {},
     "output_type": "execute_result"
    }
   ],
   "source": [
    "df['total'] = df.sum(axis=1)\n",
    "df.head()"
   ]
  },
  {
   "cell_type": "code",
   "execution_count": 44,
   "metadata": {
    "collapsed": true
   },
   "outputs": [
    {
     "data": {
      "text/html": [
       "<div>\n",
       "<style scoped>\n",
       "    .dataframe tbody tr th:only-of-type {\n",
       "        vertical-align: middle;\n",
       "    }\n",
       "\n",
       "    .dataframe tbody tr th {\n",
       "        vertical-align: top;\n",
       "    }\n",
       "\n",
       "    .dataframe thead th {\n",
       "        text-align: right;\n",
       "    }\n",
       "</style>\n",
       "<table border=\"1\" class=\"dataframe\">\n",
       "  <thead>\n",
       "    <tr style=\"text-align: right;\">\n",
       "      <th></th>\n",
       "      <th>tv</th>\n",
       "      <th>radio</th>\n",
       "      <th>newpaper</th>\n",
       "      <th>magazine</th>\n",
       "      <th>total</th>\n",
       "    </tr>\n",
       "    <tr>\n",
       "      <th>firm</th>\n",
       "      <th></th>\n",
       "      <th></th>\n",
       "      <th></th>\n",
       "      <th></th>\n",
       "      <th></th>\n",
       "    </tr>\n",
       "  </thead>\n",
       "  <tbody>\n",
       "    <tr>\n",
       "      <th>삼성전자</th>\n",
       "      <td>8571937</td>\n",
       "      <td>255932</td>\n",
       "      <td>6769684</td>\n",
       "      <td>223800</td>\n",
       "      <td>31642706</td>\n",
       "    </tr>\n",
       "    <tr>\n",
       "      <th>현대자동차</th>\n",
       "      <td>4929457</td>\n",
       "      <td>448627</td>\n",
       "      <td>2711580</td>\n",
       "      <td>115300</td>\n",
       "      <td>16409928</td>\n",
       "    </tr>\n",
       "    <tr>\n",
       "      <th>아모레퍼시픽</th>\n",
       "      <td>4563944</td>\n",
       "      <td>222294</td>\n",
       "      <td>1742959</td>\n",
       "      <td>987600</td>\n",
       "      <td>15033594</td>\n",
       "    </tr>\n",
       "    <tr>\n",
       "      <th>LG전자</th>\n",
       "      <td>5587791</td>\n",
       "      <td>72904</td>\n",
       "      <td>1298358</td>\n",
       "      <td>184400</td>\n",
       "      <td>14286906</td>\n",
       "    </tr>\n",
       "    <tr>\n",
       "      <th>KT</th>\n",
       "      <td>4792340</td>\n",
       "      <td>317334</td>\n",
       "      <td>1120930</td>\n",
       "      <td>33100</td>\n",
       "      <td>12527408</td>\n",
       "    </tr>\n",
       "    <tr>\n",
       "      <th>롯데쇼핑</th>\n",
       "      <td>2110688</td>\n",
       "      <td>0</td>\n",
       "      <td>2881916</td>\n",
       "      <td>220000</td>\n",
       "      <td>10425208</td>\n",
       "    </tr>\n",
       "    <tr>\n",
       "      <th>한국인삼공사</th>\n",
       "      <td>4486631</td>\n",
       "      <td>193680</td>\n",
       "      <td>14399</td>\n",
       "      <td>48000</td>\n",
       "      <td>9485420</td>\n",
       "    </tr>\n",
       "    <tr>\n",
       "      <th>기아자동차</th>\n",
       "      <td>2635105</td>\n",
       "      <td>627827</td>\n",
       "      <td>1147797</td>\n",
       "      <td>57500</td>\n",
       "      <td>8936458</td>\n",
       "    </tr>\n",
       "    <tr>\n",
       "      <th>시몬스</th>\n",
       "      <td>3390080</td>\n",
       "      <td>0</td>\n",
       "      <td>0</td>\n",
       "      <td>262000</td>\n",
       "      <td>7304160</td>\n",
       "    </tr>\n",
       "    <tr>\n",
       "      <th>동국제약</th>\n",
       "      <td>2646366</td>\n",
       "      <td>281995</td>\n",
       "      <td>609680</td>\n",
       "      <td>65500</td>\n",
       "      <td>7207082</td>\n",
       "    </tr>\n",
       "  </tbody>\n",
       "</table>\n",
       "</div>"
      ],
      "text/plain": [
       "             tv   radio  newpaper  magazine     total\n",
       "firm                                                 \n",
       "삼성전자    8571937  255932   6769684    223800  31642706\n",
       "현대자동차   4929457  448627   2711580    115300  16409928\n",
       "아모레퍼시픽  4563944  222294   1742959    987600  15033594\n",
       "LG전자    5587791   72904   1298358    184400  14286906\n",
       "KT      4792340  317334   1120930     33100  12527408\n",
       "롯데쇼핑    2110688       0   2881916    220000  10425208\n",
       "한국인삼공사  4486631  193680     14399     48000   9485420\n",
       "기아자동차   2635105  627827   1147797     57500   8936458\n",
       "시몬스     3390080       0         0    262000   7304160\n",
       "동국제약    2646366  281995    609680     65500   7207082"
      ]
     },
     "execution_count": 44,
     "metadata": {},
     "output_type": "execute_result"
    }
   ],
   "source": [
    "df.sort_values('total', ascending=False)[:10]"
   ]
  },
  {
   "cell_type": "code",
   "execution_count": 45,
   "metadata": {
    "collapsed": true
   },
   "outputs": [
    {
     "data": {
      "text/html": [
       "<div>\n",
       "<style scoped>\n",
       "    .dataframe tbody tr th:only-of-type {\n",
       "        vertical-align: middle;\n",
       "    }\n",
       "\n",
       "    .dataframe tbody tr th {\n",
       "        vertical-align: top;\n",
       "    }\n",
       "\n",
       "    .dataframe thead th {\n",
       "        text-align: right;\n",
       "    }\n",
       "</style>\n",
       "<table border=\"1\" class=\"dataframe\">\n",
       "  <thead>\n",
       "    <tr style=\"text-align: right;\">\n",
       "      <th></th>\n",
       "      <th>tv</th>\n",
       "      <th>radio</th>\n",
       "      <th>newpaper</th>\n",
       "      <th>magazine</th>\n",
       "      <th>total</th>\n",
       "    </tr>\n",
       "    <tr>\n",
       "      <th>firm</th>\n",
       "      <th></th>\n",
       "      <th></th>\n",
       "      <th></th>\n",
       "      <th></th>\n",
       "      <th></th>\n",
       "    </tr>\n",
       "  </thead>\n",
       "  <tbody>\n",
       "    <tr>\n",
       "      <th>삼성전자</th>\n",
       "      <td>8571937</td>\n",
       "      <td>255932</td>\n",
       "      <td>6769684</td>\n",
       "      <td>223800</td>\n",
       "      <td>31642706</td>\n",
       "    </tr>\n",
       "    <tr>\n",
       "      <th>현대자동차</th>\n",
       "      <td>4929457</td>\n",
       "      <td>448627</td>\n",
       "      <td>2711580</td>\n",
       "      <td>115300</td>\n",
       "      <td>16409928</td>\n",
       "    </tr>\n",
       "    <tr>\n",
       "      <th>아모레퍼시픽</th>\n",
       "      <td>4563944</td>\n",
       "      <td>222294</td>\n",
       "      <td>1742959</td>\n",
       "      <td>987600</td>\n",
       "      <td>15033594</td>\n",
       "    </tr>\n",
       "    <tr>\n",
       "      <th>LG전자</th>\n",
       "      <td>5587791</td>\n",
       "      <td>72904</td>\n",
       "      <td>1298358</td>\n",
       "      <td>184400</td>\n",
       "      <td>14286906</td>\n",
       "    </tr>\n",
       "    <tr>\n",
       "      <th>KT</th>\n",
       "      <td>4792340</td>\n",
       "      <td>317334</td>\n",
       "      <td>1120930</td>\n",
       "      <td>33100</td>\n",
       "      <td>12527408</td>\n",
       "    </tr>\n",
       "  </tbody>\n",
       "</table>\n",
       "</div>"
      ],
      "text/plain": [
       "             tv   radio  newpaper  magazine     total\n",
       "firm                                                 \n",
       "삼성전자    8571937  255932   6769684    223800  31642706\n",
       "현대자동차   4929457  448627   2711580    115300  16409928\n",
       "아모레퍼시픽  4563944  222294   1742959    987600  15033594\n",
       "LG전자    5587791   72904   1298358    184400  14286906\n",
       "KT      4792340  317334   1120930     33100  12527408"
      ]
     },
     "execution_count": 45,
     "metadata": {},
     "output_type": "execute_result"
    }
   ],
   "source": [
    "df.sort_values('total', ascending=False)[:10].head()"
   ]
  },
  {
   "cell_type": "code",
   "execution_count": 47,
   "metadata": {
    "collapsed": true
   },
   "outputs": [
    {
     "data": {
      "text/html": [
       "<div>\n",
       "<style scoped>\n",
       "    .dataframe tbody tr th:only-of-type {\n",
       "        vertical-align: middle;\n",
       "    }\n",
       "\n",
       "    .dataframe tbody tr th {\n",
       "        vertical-align: top;\n",
       "    }\n",
       "\n",
       "    .dataframe thead th {\n",
       "        text-align: right;\n",
       "    }\n",
       "</style>\n",
       "<table border=\"1\" class=\"dataframe\">\n",
       "  <thead>\n",
       "    <tr style=\"text-align: right;\">\n",
       "      <th></th>\n",
       "      <th>tv</th>\n",
       "      <th>radio</th>\n",
       "      <th>newpaper</th>\n",
       "      <th>magazine</th>\n",
       "      <th>total</th>\n",
       "      <th>date</th>\n",
       "    </tr>\n",
       "    <tr>\n",
       "      <th>firm</th>\n",
       "      <th></th>\n",
       "      <th></th>\n",
       "      <th></th>\n",
       "      <th></th>\n",
       "      <th></th>\n",
       "      <th></th>\n",
       "    </tr>\n",
       "  </thead>\n",
       "  <tbody>\n",
       "    <tr>\n",
       "      <th>삼성전자</th>\n",
       "      <td>8571937</td>\n",
       "      <td>255932</td>\n",
       "      <td>6769684</td>\n",
       "      <td>223800</td>\n",
       "      <td>31642706</td>\n",
       "      <td>2016.09</td>\n",
       "    </tr>\n",
       "    <tr>\n",
       "      <th>현대자동차</th>\n",
       "      <td>4929457</td>\n",
       "      <td>448627</td>\n",
       "      <td>2711580</td>\n",
       "      <td>115300</td>\n",
       "      <td>16409928</td>\n",
       "      <td>2016.09</td>\n",
       "    </tr>\n",
       "    <tr>\n",
       "      <th>아모레퍼시픽</th>\n",
       "      <td>4563944</td>\n",
       "      <td>222294</td>\n",
       "      <td>1742959</td>\n",
       "      <td>987600</td>\n",
       "      <td>15033594</td>\n",
       "      <td>2016.09</td>\n",
       "    </tr>\n",
       "    <tr>\n",
       "      <th>LG전자</th>\n",
       "      <td>5587791</td>\n",
       "      <td>72904</td>\n",
       "      <td>1298358</td>\n",
       "      <td>184400</td>\n",
       "      <td>14286906</td>\n",
       "      <td>2016.09</td>\n",
       "    </tr>\n",
       "    <tr>\n",
       "      <th>KT</th>\n",
       "      <td>4792340</td>\n",
       "      <td>317334</td>\n",
       "      <td>1120930</td>\n",
       "      <td>33100</td>\n",
       "      <td>12527408</td>\n",
       "      <td>2016.09</td>\n",
       "    </tr>\n",
       "  </tbody>\n",
       "</table>\n",
       "</div>"
      ],
      "text/plain": [
       "             tv   radio  newpaper  magazine     total     date\n",
       "firm                                                          \n",
       "삼성전자    8571937  255932   6769684    223800  31642706  2016.09\n",
       "현대자동차   4929457  448627   2711580    115300  16409928  2016.09\n",
       "아모레퍼시픽  4563944  222294   1742959    987600  15033594  2016.09\n",
       "LG전자    5587791   72904   1298358    184400  14286906  2016.09\n",
       "KT      4792340  317334   1120930     33100  12527408  2016.09"
      ]
     },
     "execution_count": 47,
     "metadata": {},
     "output_type": "execute_result"
    }
   ],
   "source": [
    "df['date'] = '2016.09'\n",
    "df.head()"
   ]
  },
  {
   "cell_type": "code",
   "execution_count": null,
   "metadata": {},
   "outputs": [],
   "source": [
    "# df2015 ~ df2019 모든 파일을 동일한 방식으로 변형해서 하나의 dataframe으로 합하라.."
   ]
  },
  {
   "cell_type": "code",
   "execution_count": 48,
   "metadata": {},
   "outputs": [],
   "source": [
    "import os "
   ]
  },
  {
   "cell_type": "code",
   "execution_count": 40,
   "metadata": {},
   "outputs": [
    {
     "name": "stdout",
     "output_type": "stream",
     "text": [
      "             tv   radio  newpaper  magazine     total    date\n",
      "firm                                                         \n",
      "삼성전자   11479225  423815   6203885    242300  18349225  201509\n",
      "KT      8380633  368017    905887     25100   9679637  201509\n",
      "LG전자    6748621  342048   1969787    114800   9175256  201509\n",
      "한국지엠    6791838  596281    662799     35200   8086118  201509\n",
      "현대자동차   4453752  414230   2817550    108300   7793832  201509\n",
      "             tv   radio  newpaper  magazine     total    date\n",
      "firm                                                         \n",
      "삼성전자    8571937  255932   6769684    223800  15821353  201609\n",
      "현대자동차   4929457  448627   2711580    115300   8204964  201609\n",
      "아모레퍼시픽  4563944  222294   1742959    987600   7516797  201609\n",
      "LG전자    5587791   72904   1298358    184400   7143453  201609\n",
      "KT      4792340  317334   1120930     33100   6263704  201609\n",
      "              tv   radio  newpaper  magazine     total    date\n",
      "firm                                                          \n",
      "삼성전자    11668720  242469   7356007    391700  19658896  201709\n",
      "LG전자    13776012  322223   2679913    155700  16933848  201709\n",
      "KT       4768380  265896   1544589     22500   6601365  201709\n",
      "현대자동차    2837608  359010   1861762    119500   5177880  201709\n",
      "한국인삼공사   3873921  298050    518108    170500   4860579  201709\n",
      "             tv   radio  newpaper  magazine     total    date\n",
      "firm                                                         \n",
      "LG전자   17908248   89237   1516482    160100  19674067  201809\n",
      "삼성전자   12279508  291138   6285213    268100  19123959  201809\n",
      "KT      3554634  168158   1717394     26000   5466186  201809\n",
      "삼성화재    2001163   63883   3183392     13600   5262038  201809\n",
      "현대자동차   2655603  480837   1782310     76700   4995450  201809\n",
      "            tv   radio  newpaper  magazine     total    date\n",
      "firm                                                        \n",
      "삼성전자   7597926  401512   7192464    289000  15480902  201909\n",
      "LG전자  12913571       0   1135883     62100  14111554  201909\n",
      "한화공동   6380516  120920    855486     60500   7417422  201909\n",
      "KT     4852147   67687   1993508     22300   6935642  201909\n",
      "대웅제약   6033183       0    351571      6000   6390754  201909\n"
     ]
    }
   ],
   "source": [
    "addf_lists = []\n",
    "\n",
    "for i, f in enumerate(os.listdir(\"./data/ad\")):\n",
    "\n",
    "    df = pd.read_csv('./data/ad/' + f)\n",
    "    df.drop('Unnamed: 0', axis=1, inplace=True)\n",
    "    df.drop(0, axis=0, inplace=True)\n",
    "    \n",
    "    df['tv'] = df['tv'].astype('int')\n",
    "    df['radio'] = df['radio'].astype('int')\n",
    "    df['newpaper'] = df['newpaper'].astype('int')\n",
    "    df['magazine'] = df['magazine'].astype('int')\n",
    "    \n",
    "    df.set_index('firm', inplace=True)\n",
    "    df['total'] = df.sum(axis=1)\n",
    "    df['date'] = str(2015+i) + '09'\n",
    "    \n",
    "    print(df.head())\n",
    "    addf_lists.append(df)"
   ]
  },
  {
   "cell_type": "code",
   "execution_count": 41,
   "metadata": {},
   "outputs": [
    {
     "data": {
      "text/plain": [
       "5"
      ]
     },
     "execution_count": 41,
     "metadata": {},
     "output_type": "execute_result"
    }
   ],
   "source": [
    "len(addf_lists)"
   ]
  },
  {
   "cell_type": "code",
   "execution_count": 42,
   "metadata": {},
   "outputs": [],
   "source": [
    "df = pd.concat(addf_lists)  "
   ]
  },
  {
   "cell_type": "code",
   "execution_count": 43,
   "metadata": {},
   "outputs": [
    {
     "data": {
      "text/html": [
       "<div>\n",
       "<style scoped>\n",
       "    .dataframe tbody tr th:only-of-type {\n",
       "        vertical-align: middle;\n",
       "    }\n",
       "\n",
       "    .dataframe tbody tr th {\n",
       "        vertical-align: top;\n",
       "    }\n",
       "\n",
       "    .dataframe thead th {\n",
       "        text-align: right;\n",
       "    }\n",
       "</style>\n",
       "<table border=\"1\" class=\"dataframe\">\n",
       "  <thead>\n",
       "    <tr style=\"text-align: right;\">\n",
       "      <th></th>\n",
       "      <th>tv</th>\n",
       "      <th>radio</th>\n",
       "      <th>newpaper</th>\n",
       "      <th>magazine</th>\n",
       "      <th>total</th>\n",
       "      <th>date</th>\n",
       "    </tr>\n",
       "    <tr>\n",
       "      <th>firm</th>\n",
       "      <th></th>\n",
       "      <th></th>\n",
       "      <th></th>\n",
       "      <th></th>\n",
       "      <th></th>\n",
       "      <th></th>\n",
       "    </tr>\n",
       "  </thead>\n",
       "  <tbody>\n",
       "    <tr>\n",
       "      <th>삼성전자</th>\n",
       "      <td>11479225</td>\n",
       "      <td>423815</td>\n",
       "      <td>6203885</td>\n",
       "      <td>242300</td>\n",
       "      <td>18349225</td>\n",
       "      <td>201509</td>\n",
       "    </tr>\n",
       "    <tr>\n",
       "      <th>KT</th>\n",
       "      <td>8380633</td>\n",
       "      <td>368017</td>\n",
       "      <td>905887</td>\n",
       "      <td>25100</td>\n",
       "      <td>9679637</td>\n",
       "      <td>201509</td>\n",
       "    </tr>\n",
       "    <tr>\n",
       "      <th>LG전자</th>\n",
       "      <td>6748621</td>\n",
       "      <td>342048</td>\n",
       "      <td>1969787</td>\n",
       "      <td>114800</td>\n",
       "      <td>9175256</td>\n",
       "      <td>201509</td>\n",
       "    </tr>\n",
       "    <tr>\n",
       "      <th>한국지엠</th>\n",
       "      <td>6791838</td>\n",
       "      <td>596281</td>\n",
       "      <td>662799</td>\n",
       "      <td>35200</td>\n",
       "      <td>8086118</td>\n",
       "      <td>201509</td>\n",
       "    </tr>\n",
       "    <tr>\n",
       "      <th>현대자동차</th>\n",
       "      <td>4453752</td>\n",
       "      <td>414230</td>\n",
       "      <td>2817550</td>\n",
       "      <td>108300</td>\n",
       "      <td>7793832</td>\n",
       "      <td>201509</td>\n",
       "    </tr>\n",
       "  </tbody>\n",
       "</table>\n",
       "</div>"
      ],
      "text/plain": [
       "             tv   radio  newpaper  magazine     total    date\n",
       "firm                                                         \n",
       "삼성전자   11479225  423815   6203885    242300  18349225  201509\n",
       "KT      8380633  368017    905887     25100   9679637  201509\n",
       "LG전자    6748621  342048   1969787    114800   9175256  201509\n",
       "한국지엠    6791838  596281    662799     35200   8086118  201509\n",
       "현대자동차   4453752  414230   2817550    108300   7793832  201509"
      ]
     },
     "execution_count": 43,
     "metadata": {},
     "output_type": "execute_result"
    }
   ],
   "source": [
    "df.head()"
   ]
  },
  {
   "cell_type": "code",
   "execution_count": 44,
   "metadata": {},
   "outputs": [
    {
     "data": {
      "text/html": [
       "<div>\n",
       "<style scoped>\n",
       "    .dataframe tbody tr th:only-of-type {\n",
       "        vertical-align: middle;\n",
       "    }\n",
       "\n",
       "    .dataframe tbody tr th {\n",
       "        vertical-align: top;\n",
       "    }\n",
       "\n",
       "    .dataframe thead th {\n",
       "        text-align: right;\n",
       "    }\n",
       "</style>\n",
       "<table border=\"1\" class=\"dataframe\">\n",
       "  <thead>\n",
       "    <tr style=\"text-align: right;\">\n",
       "      <th></th>\n",
       "      <th>tv</th>\n",
       "      <th>radio</th>\n",
       "      <th>newpaper</th>\n",
       "      <th>magazine</th>\n",
       "      <th>total</th>\n",
       "      <th>date</th>\n",
       "    </tr>\n",
       "    <tr>\n",
       "      <th>firm</th>\n",
       "      <th></th>\n",
       "      <th></th>\n",
       "      <th></th>\n",
       "      <th></th>\n",
       "      <th></th>\n",
       "      <th></th>\n",
       "    </tr>\n",
       "  </thead>\n",
       "  <tbody>\n",
       "    <tr>\n",
       "      <th>동원F&amp;B</th>\n",
       "      <td>968138</td>\n",
       "      <td>0</td>\n",
       "      <td>0</td>\n",
       "      <td>5500</td>\n",
       "      <td>973638</td>\n",
       "      <td>201909</td>\n",
       "    </tr>\n",
       "    <tr>\n",
       "      <th>SK(주)</th>\n",
       "      <td>0</td>\n",
       "      <td>0</td>\n",
       "      <td>959321</td>\n",
       "      <td>4500</td>\n",
       "      <td>963821</td>\n",
       "      <td>201909</td>\n",
       "    </tr>\n",
       "    <tr>\n",
       "      <th>어린이재단</th>\n",
       "      <td>292914</td>\n",
       "      <td>0</td>\n",
       "      <td>657228</td>\n",
       "      <td>5600</td>\n",
       "      <td>955742</td>\n",
       "      <td>201909</td>\n",
       "    </tr>\n",
       "    <tr>\n",
       "      <th>케이티스카이라이프</th>\n",
       "      <td>929695</td>\n",
       "      <td>0</td>\n",
       "      <td>0</td>\n",
       "      <td>0</td>\n",
       "      <td>929695</td>\n",
       "      <td>201909</td>\n",
       "    </tr>\n",
       "    <tr>\n",
       "      <th>경북도청</th>\n",
       "      <td>272250</td>\n",
       "      <td>0</td>\n",
       "      <td>643796</td>\n",
       "      <td>7000</td>\n",
       "      <td>923046</td>\n",
       "      <td>201909</td>\n",
       "    </tr>\n",
       "  </tbody>\n",
       "</table>\n",
       "</div>"
      ],
      "text/plain": [
       "               tv  radio  newpaper  magazine   total    date\n",
       "firm                                                        \n",
       "동원F&B      968138      0         0      5500  973638  201909\n",
       "SK(주)           0      0    959321      4500  963821  201909\n",
       "어린이재단      292914      0    657228      5600  955742  201909\n",
       "케이티스카이라이프  929695      0         0         0  929695  201909\n",
       "경북도청       272250      0    643796      7000  923046  201909"
      ]
     },
     "execution_count": 44,
     "metadata": {},
     "output_type": "execute_result"
    }
   ],
   "source": [
    "df.tail()"
   ]
  },
  {
   "cell_type": "code",
   "execution_count": 61,
   "metadata": {},
   "outputs": [],
   "source": [
    "# 연도별 광고비 총액.."
   ]
  },
  {
   "cell_type": "code",
   "execution_count": 45,
   "metadata": {},
   "outputs": [],
   "source": [
    "# pd.to_datetime('날짜형식칼럼') => 칼럼을 '날짜'형식으로 변형..\n",
    "\n",
    "df['date'] = pd.to_datetime(df['date'], format='%Y%m')"
   ]
  },
  {
   "cell_type": "code",
   "execution_count": 46,
   "metadata": {},
   "outputs": [
    {
     "name": "stdout",
     "output_type": "stream",
     "text": [
      "<class 'pandas.core.frame.DataFrame'>\n",
      "Index: 499 entries, 삼성전자 to 경북도청\n",
      "Data columns (total 6 columns):\n",
      " #   Column    Non-Null Count  Dtype         \n",
      "---  ------    --------------  -----         \n",
      " 0   tv        499 non-null    int32         \n",
      " 1   radio     499 non-null    int32         \n",
      " 2   newpaper  499 non-null    int32         \n",
      " 3   magazine  499 non-null    int32         \n",
      " 4   total     499 non-null    int64         \n",
      " 5   date      499 non-null    datetime64[ns]\n",
      "dtypes: datetime64[ns](1), int32(4), int64(1)\n",
      "memory usage: 19.5+ KB\n"
     ]
    }
   ],
   "source": [
    "df.info()"
   ]
  },
  {
   "cell_type": "code",
   "execution_count": 51,
   "metadata": {},
   "outputs": [],
   "source": [
    "df['year']=df['date'].dt.year"
   ]
  },
  {
   "cell_type": "code",
   "execution_count": 52,
   "metadata": {},
   "outputs": [
    {
     "data": {
      "text/html": [
       "<div>\n",
       "<style scoped>\n",
       "    .dataframe tbody tr th:only-of-type {\n",
       "        vertical-align: middle;\n",
       "    }\n",
       "\n",
       "    .dataframe tbody tr th {\n",
       "        vertical-align: top;\n",
       "    }\n",
       "\n",
       "    .dataframe thead th {\n",
       "        text-align: right;\n",
       "    }\n",
       "</style>\n",
       "<table border=\"1\" class=\"dataframe\">\n",
       "  <thead>\n",
       "    <tr style=\"text-align: right;\">\n",
       "      <th></th>\n",
       "      <th>tv</th>\n",
       "      <th>radio</th>\n",
       "      <th>newpaper</th>\n",
       "      <th>magazine</th>\n",
       "      <th>total</th>\n",
       "      <th>date</th>\n",
       "      <th>year</th>\n",
       "    </tr>\n",
       "    <tr>\n",
       "      <th>firm</th>\n",
       "      <th></th>\n",
       "      <th></th>\n",
       "      <th></th>\n",
       "      <th></th>\n",
       "      <th></th>\n",
       "      <th></th>\n",
       "      <th></th>\n",
       "    </tr>\n",
       "  </thead>\n",
       "  <tbody>\n",
       "    <tr>\n",
       "      <th>삼성전자</th>\n",
       "      <td>11479225</td>\n",
       "      <td>423815</td>\n",
       "      <td>6203885</td>\n",
       "      <td>242300</td>\n",
       "      <td>18349225</td>\n",
       "      <td>2015-09-01</td>\n",
       "      <td>2015</td>\n",
       "    </tr>\n",
       "    <tr>\n",
       "      <th>KT</th>\n",
       "      <td>8380633</td>\n",
       "      <td>368017</td>\n",
       "      <td>905887</td>\n",
       "      <td>25100</td>\n",
       "      <td>9679637</td>\n",
       "      <td>2015-09-01</td>\n",
       "      <td>2015</td>\n",
       "    </tr>\n",
       "    <tr>\n",
       "      <th>LG전자</th>\n",
       "      <td>6748621</td>\n",
       "      <td>342048</td>\n",
       "      <td>1969787</td>\n",
       "      <td>114800</td>\n",
       "      <td>9175256</td>\n",
       "      <td>2015-09-01</td>\n",
       "      <td>2015</td>\n",
       "    </tr>\n",
       "    <tr>\n",
       "      <th>한국지엠</th>\n",
       "      <td>6791838</td>\n",
       "      <td>596281</td>\n",
       "      <td>662799</td>\n",
       "      <td>35200</td>\n",
       "      <td>8086118</td>\n",
       "      <td>2015-09-01</td>\n",
       "      <td>2015</td>\n",
       "    </tr>\n",
       "    <tr>\n",
       "      <th>현대자동차</th>\n",
       "      <td>4453752</td>\n",
       "      <td>414230</td>\n",
       "      <td>2817550</td>\n",
       "      <td>108300</td>\n",
       "      <td>7793832</td>\n",
       "      <td>2015-09-01</td>\n",
       "      <td>2015</td>\n",
       "    </tr>\n",
       "  </tbody>\n",
       "</table>\n",
       "</div>"
      ],
      "text/plain": [
       "             tv   radio  newpaper  magazine     total       date  year\n",
       "firm                                                                  \n",
       "삼성전자   11479225  423815   6203885    242300  18349225 2015-09-01  2015\n",
       "KT      8380633  368017    905887     25100   9679637 2015-09-01  2015\n",
       "LG전자    6748621  342048   1969787    114800   9175256 2015-09-01  2015\n",
       "한국지엠    6791838  596281    662799     35200   8086118 2015-09-01  2015\n",
       "현대자동차   4453752  414230   2817550    108300   7793832 2015-09-01  2015"
      ]
     },
     "execution_count": 52,
     "metadata": {},
     "output_type": "execute_result"
    }
   ],
   "source": [
    "df.head()"
   ]
  },
  {
   "cell_type": "code",
   "execution_count": 53,
   "metadata": {},
   "outputs": [
    {
     "data": {
      "text/plain": [
       "year\n",
       "2015    238238536\n",
       "2016    206599750\n",
       "2017    221822367\n",
       "2018    220839376\n",
       "2019    241651753\n",
       "Name: total, dtype: int64"
      ]
     },
     "execution_count": 53,
     "metadata": {},
     "output_type": "execute_result"
    }
   ],
   "source": [
    "df.groupby('year')['total'].sum()"
   ]
  },
  {
   "cell_type": "code",
   "execution_count": 54,
   "metadata": {},
   "outputs": [
    {
     "data": {
      "text/plain": [
       "<matplotlib.axes._subplots.AxesSubplot at 0x27cc968fd00>"
      ]
     },
     "execution_count": 54,
     "metadata": {},
     "output_type": "execute_result"
    },
    {
     "data": {
      "image/png": "[encoded data removed]",
      "text/plain": [
       "<Figure size 432x288 with 1 Axes>"
      ]
     },
     "metadata": {
      "needs_background": "light"
     },
     "output_type": "display_data"
    }
   ],
   "source": [
    "df.groupby('year')['total'].sum().plot(kind='bar')"
   ]
  },
  {
   "cell_type": "code",
   "execution_count": 55,
   "metadata": {},
   "outputs": [],
   "source": [
    "# 연도별 광고비 총액 최대기업?"
   ]
  },
  {
   "cell_type": "code",
   "execution_count": 56,
   "metadata": {},
   "outputs": [],
   "source": [
    "# 방식 1"
   ]
  },
  {
   "cell_type": "code",
   "execution_count": 57,
   "metadata": {},
   "outputs": [
    {
     "data": {
      "text/plain": [
       "[18349225, 15821353, 19658896, 19674067, 15480902]"
      ]
     },
     "execution_count": 57,
     "metadata": {},
     "output_type": "execute_result"
    }
   ],
   "source": [
    "# 연도별 광고비 총액..\n",
    "total_maxes = df.groupby('year')['total'].max().values.tolist()\n",
    "total_maxes"
   ]
  },
  {
   "cell_type": "code",
   "execution_count": 58,
   "metadata": {},
   "outputs": [],
   "source": [
    "# 연도별 광고비 총액 데이터 인덱스를 저장..\n",
    "max_idx = []\n",
    "for i, t in enumerate(df['total']):\n",
    "    if t in total_maxes:\n",
    "        max_idx.append(i)"
   ]
  },
  {
   "cell_type": "code",
   "execution_count": 59,
   "metadata": {},
   "outputs": [
    {
     "data": {
      "text/html": [
       "<div>\n",
       "<style scoped>\n",
       "    .dataframe tbody tr th:only-of-type {\n",
       "        vertical-align: middle;\n",
       "    }\n",
       "\n",
       "    .dataframe tbody tr th {\n",
       "        vertical-align: top;\n",
       "    }\n",
       "\n",
       "    .dataframe thead th {\n",
       "        text-align: right;\n",
       "    }\n",
       "</style>\n",
       "<table border=\"1\" class=\"dataframe\">\n",
       "  <thead>\n",
       "    <tr style=\"text-align: right;\">\n",
       "      <th></th>\n",
       "      <th>tv</th>\n",
       "      <th>radio</th>\n",
       "      <th>newpaper</th>\n",
       "      <th>magazine</th>\n",
       "      <th>total</th>\n",
       "      <th>date</th>\n",
       "      <th>year</th>\n",
       "    </tr>\n",
       "    <tr>\n",
       "      <th>firm</th>\n",
       "      <th></th>\n",
       "      <th></th>\n",
       "      <th></th>\n",
       "      <th></th>\n",
       "      <th></th>\n",
       "      <th></th>\n",
       "      <th></th>\n",
       "    </tr>\n",
       "  </thead>\n",
       "  <tbody>\n",
       "    <tr>\n",
       "      <th>삼성전자</th>\n",
       "      <td>11479225</td>\n",
       "      <td>423815</td>\n",
       "      <td>6203885</td>\n",
       "      <td>242300</td>\n",
       "      <td>18349225</td>\n",
       "      <td>2015-09-01</td>\n",
       "      <td>2015</td>\n",
       "    </tr>\n",
       "    <tr>\n",
       "      <th>삼성전자</th>\n",
       "      <td>8571937</td>\n",
       "      <td>255932</td>\n",
       "      <td>6769684</td>\n",
       "      <td>223800</td>\n",
       "      <td>15821353</td>\n",
       "      <td>2016-09-01</td>\n",
       "      <td>2016</td>\n",
       "    </tr>\n",
       "    <tr>\n",
       "      <th>삼성전자</th>\n",
       "      <td>11668720</td>\n",
       "      <td>242469</td>\n",
       "      <td>7356007</td>\n",
       "      <td>391700</td>\n",
       "      <td>19658896</td>\n",
       "      <td>2017-09-01</td>\n",
       "      <td>2017</td>\n",
       "    </tr>\n",
       "    <tr>\n",
       "      <th>LG전자</th>\n",
       "      <td>17908248</td>\n",
       "      <td>89237</td>\n",
       "      <td>1516482</td>\n",
       "      <td>160100</td>\n",
       "      <td>19674067</td>\n",
       "      <td>2018-09-01</td>\n",
       "      <td>2018</td>\n",
       "    </tr>\n",
       "    <tr>\n",
       "      <th>삼성전자</th>\n",
       "      <td>7597926</td>\n",
       "      <td>401512</td>\n",
       "      <td>7192464</td>\n",
       "      <td>289000</td>\n",
       "      <td>15480902</td>\n",
       "      <td>2019-09-01</td>\n",
       "      <td>2019</td>\n",
       "    </tr>\n",
       "  </tbody>\n",
       "</table>\n",
       "</div>"
      ],
      "text/plain": [
       "            tv   radio  newpaper  magazine     total       date  year\n",
       "firm                                                                 \n",
       "삼성전자  11479225  423815   6203885    242300  18349225 2015-09-01  2015\n",
       "삼성전자   8571937  255932   6769684    223800  15821353 2016-09-01  2016\n",
       "삼성전자  11668720  242469   7356007    391700  19658896 2017-09-01  2017\n",
       "LG전자  17908248   89237   1516482    160100  19674067 2018-09-01  2018\n",
       "삼성전자   7597926  401512   7192464    289000  15480902 2019-09-01  2019"
      ]
     },
     "execution_count": 59,
     "metadata": {},
     "output_type": "execute_result"
    }
   ],
   "source": [
    "# 인덱싱..\n",
    "df.iloc[max_idx]"
   ]
  },
  {
   "cell_type": "code",
   "execution_count": 60,
   "metadata": {},
   "outputs": [],
   "source": [
    "# 방식 2"
   ]
  },
  {
   "cell_type": "code",
   "execution_count": 61,
   "metadata": {},
   "outputs": [
    {
     "data": {
      "text/html": [
       "<div>\n",
       "<style scoped>\n",
       "    .dataframe tbody tr th:only-of-type {\n",
       "        vertical-align: middle;\n",
       "    }\n",
       "\n",
       "    .dataframe tbody tr th {\n",
       "        vertical-align: top;\n",
       "    }\n",
       "\n",
       "    .dataframe thead th {\n",
       "        text-align: right;\n",
       "    }\n",
       "</style>\n",
       "<table border=\"1\" class=\"dataframe\">\n",
       "  <thead>\n",
       "    <tr style=\"text-align: right;\">\n",
       "      <th></th>\n",
       "      <th>tv</th>\n",
       "      <th>radio</th>\n",
       "      <th>newpaper</th>\n",
       "      <th>magazine</th>\n",
       "      <th>total</th>\n",
       "      <th>date</th>\n",
       "      <th>year</th>\n",
       "    </tr>\n",
       "    <tr>\n",
       "      <th>firm</th>\n",
       "      <th></th>\n",
       "      <th></th>\n",
       "      <th></th>\n",
       "      <th></th>\n",
       "      <th></th>\n",
       "      <th></th>\n",
       "      <th></th>\n",
       "    </tr>\n",
       "  </thead>\n",
       "  <tbody>\n",
       "    <tr>\n",
       "      <th>삼성전자</th>\n",
       "      <td>11479225</td>\n",
       "      <td>423815</td>\n",
       "      <td>6203885</td>\n",
       "      <td>242300</td>\n",
       "      <td>18349225</td>\n",
       "      <td>2015-09-01</td>\n",
       "      <td>2015</td>\n",
       "    </tr>\n",
       "    <tr>\n",
       "      <th>삼성전자</th>\n",
       "      <td>8571937</td>\n",
       "      <td>255932</td>\n",
       "      <td>6769684</td>\n",
       "      <td>223800</td>\n",
       "      <td>15821353</td>\n",
       "      <td>2016-09-01</td>\n",
       "      <td>2016</td>\n",
       "    </tr>\n",
       "    <tr>\n",
       "      <th>삼성전자</th>\n",
       "      <td>11668720</td>\n",
       "      <td>242469</td>\n",
       "      <td>7356007</td>\n",
       "      <td>391700</td>\n",
       "      <td>19658896</td>\n",
       "      <td>2017-09-01</td>\n",
       "      <td>2017</td>\n",
       "    </tr>\n",
       "    <tr>\n",
       "      <th>LG전자</th>\n",
       "      <td>17908248</td>\n",
       "      <td>89237</td>\n",
       "      <td>1516482</td>\n",
       "      <td>160100</td>\n",
       "      <td>19674067</td>\n",
       "      <td>2018-09-01</td>\n",
       "      <td>2018</td>\n",
       "    </tr>\n",
       "    <tr>\n",
       "      <th>삼성전자</th>\n",
       "      <td>7597926</td>\n",
       "      <td>401512</td>\n",
       "      <td>7192464</td>\n",
       "      <td>289000</td>\n",
       "      <td>15480902</td>\n",
       "      <td>2019-09-01</td>\n",
       "      <td>2019</td>\n",
       "    </tr>\n",
       "  </tbody>\n",
       "</table>\n",
       "</div>"
      ],
      "text/plain": [
       "            tv   radio  newpaper  magazine     total       date  year\n",
       "firm                                                                 \n",
       "삼성전자  11479225  423815   6203885    242300  18349225 2015-09-01  2015\n",
       "삼성전자   8571937  255932   6769684    223800  15821353 2016-09-01  2016\n",
       "삼성전자  11668720  242469   7356007    391700  19658896 2017-09-01  2017\n",
       "LG전자  17908248   89237   1516482    160100  19674067 2018-09-01  2018\n",
       "삼성전자   7597926  401512   7192464    289000  15480902 2019-09-01  2019"
      ]
     },
     "execution_count": 61,
     "metadata": {},
     "output_type": "execute_result"
    }
   ],
   "source": [
    "total_maxes = df.groupby('year')['total'].max().values.tolist()\n",
    "df[df.total.isin(total_maxes)]"
   ]
  },
  {
   "cell_type": "code",
   "execution_count": 62,
   "metadata": {},
   "outputs": [],
   "source": [
    "# 9월기준 연도별 광고비의 추세를 그래프로 나타내시오\n",
    "#(2019년 09월 기준 광고비 총액 10위 기업대상)"
   ]
  },
  {
   "cell_type": "code",
   "execution_count": 136,
   "metadata": {},
   "outputs": [
    {
     "data": {
      "image/png": "[encoded data removed]",
      "text/plain": [
       "<Figure size 432x288 with 1 Axes>"
      ]
     },
     "metadata": {
      "needs_background": "light"
     },
     "output_type": "display_data"
    }
   ],
   "source": [
    "f = list(df[df.year == 2019].total.sort_values(ascending = False).head(10).index)\n",
    "for i in f :\n",
    "    df.groupby('firm').get_group(i).total.plot()"
   ]
  },
  {
   "cell_type": "code",
   "execution_count": 146,
   "metadata": {},
   "outputs": [
    {
     "data": {
      "text/plain": [
       "firm\n",
       "한화공동    2424043\n",
       "한화공동    2248518\n",
       "한화공동    1793345\n",
       "한화공동    7417422\n",
       "Name: total, dtype: int64"
      ]
     },
     "execution_count": 146,
     "metadata": {},
     "output_type": "execute_result"
    }
   ],
   "source": [
    "df.groupby('firm').get_group('한화공동').total"
   ]
  },
  {
   "cell_type": "code",
   "execution_count": 133,
   "metadata": {},
   "outputs": [
    {
     "data": {
      "text/plain": [
       "<matplotlib.axes._subplots.AxesSubplot at 0x27cca14b970>"
      ]
     },
     "execution_count": 133,
     "metadata": {},
     "output_type": "execute_result"
    },
    {
     "data": {
      "image/png": "[encoded data removed]",
      "text/plain": [
       "<Figure size 432x288 with 1 Axes>"
      ]
     },
     "metadata": {
      "needs_background": "light"
     },
     "output_type": "display_data"
    }
   ],
   "source": [
    "df.loc[f].groupby(['firm','year'])['total'].sum().unstack().T.plot()"
   ]
  },
  {
   "cell_type": "code",
   "execution_count": 103,
   "metadata": {},
   "outputs": [
    {
     "data": {
      "text/plain": [
       "['삼성전자',\n",
       " 'LG전자',\n",
       " '한화공동',\n",
       " 'KT',\n",
       " '대웅제약',\n",
       " '현대자동차',\n",
       " '동국제약',\n",
       " 'SK텔레콤',\n",
       " '기아자동차',\n",
       " 'LG생활건강']"
      ]
     },
     "execution_count": 103,
     "metadata": {},
     "output_type": "execute_result"
    }
   ],
   "source": [
    "f"
   ]
  },
  {
   "cell_type": "code",
   "execution_count": null,
   "metadata": {},
   "outputs": [],
   "source": []
  }
 ],
 "metadata": {
  "kernelspec": {
   "display_name": "Python 3",
   "language": "python",
   "name": "python3"
  },
  "language_info": {
   "codemirror_mode": {
    "name": "ipython",
    "version": 3
   },
   "file_extension": ".py",
   "mimetype": "text/x-python",
   "name": "python",
   "nbconvert_exporter": "python",
   "pygments_lexer": "ipython3",
   "version": "3.8.3"
  }
 },
 "nbformat": 4,
 "nbformat_minor": 4
}
