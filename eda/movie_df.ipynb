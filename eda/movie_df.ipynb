{
 "cells": [
  {
   "cell_type": "code",
   "execution_count": 1,
   "metadata": {},
   "outputs": [],
   "source": [
    "import pandas as pd\n",
    "import numpy as np\n",
    "import matplotlib.pyplot as plt\n",
    "import seaborn as sns"
   ]
  },
  {
   "cell_type": "code",
   "execution_count": 2,
   "metadata": {},
   "outputs": [
    {
     "data": {
      "text/html": [
       "<div>\n",
       "<style scoped>\n",
       "    .dataframe tbody tr th:only-of-type {\n",
       "        vertical-align: middle;\n",
       "    }\n",
       "\n",
       "    .dataframe tbody tr th {\n",
       "        vertical-align: top;\n",
       "    }\n",
       "\n",
       "    .dataframe thead th {\n",
       "        text-align: right;\n",
       "    }\n",
       "</style>\n",
       "<table border=\"1\" class=\"dataframe\">\n",
       "  <thead>\n",
       "    <tr style=\"text-align: right;\">\n",
       "      <th></th>\n",
       "      <th>순번</th>\n",
       "      <th>영화명</th>\n",
       "      <th>감독</th>\n",
       "      <th>제작사</th>\n",
       "      <th>수입사</th>\n",
       "      <th>배급사</th>\n",
       "      <th>개봉일</th>\n",
       "      <th>영화유형</th>\n",
       "      <th>영화형태</th>\n",
       "      <th>국적</th>\n",
       "      <th>전국</th>\n",
       "      <th>전국.1</th>\n",
       "      <th>전국.2</th>\n",
       "      <th>서울</th>\n",
       "      <th>서울.1</th>\n",
       "      <th>장르</th>\n",
       "      <th>등급</th>\n",
       "      <th>영화구분</th>\n",
       "    </tr>\n",
       "  </thead>\n",
       "  <tbody>\n",
       "    <tr>\n",
       "      <th>0</th>\n",
       "      <td>NaN</td>\n",
       "      <td>NaN</td>\n",
       "      <td>NaN</td>\n",
       "      <td>NaN</td>\n",
       "      <td>NaN</td>\n",
       "      <td>NaN</td>\n",
       "      <td>NaN</td>\n",
       "      <td>NaN</td>\n",
       "      <td>NaN</td>\n",
       "      <td>NaN</td>\n",
       "      <td>스크린수</td>\n",
       "      <td>매출액</td>\n",
       "      <td>관객수</td>\n",
       "      <td>매출액</td>\n",
       "      <td>관객수</td>\n",
       "      <td>NaN</td>\n",
       "      <td>NaN</td>\n",
       "      <td>NaN</td>\n",
       "    </tr>\n",
       "    <tr>\n",
       "      <th>1</th>\n",
       "      <td>1.0</td>\n",
       "      <td>명량</td>\n",
       "      <td>김한민</td>\n",
       "      <td>(주)빅스톤픽쳐스</td>\n",
       "      <td>NaN</td>\n",
       "      <td>씨제이이앤엠(주)</td>\n",
       "      <td>2014-07-30</td>\n",
       "      <td>개봉영화</td>\n",
       "      <td>장편</td>\n",
       "      <td>한국</td>\n",
       "      <td>1,587</td>\n",
       "      <td>135,748,398,910</td>\n",
       "      <td>17,613,682</td>\n",
       "      <td>33,121,225,810</td>\n",
       "      <td>4,163,666</td>\n",
       "      <td>사극</td>\n",
       "      <td>15세이상관람가</td>\n",
       "      <td>일반영화</td>\n",
       "    </tr>\n",
       "    <tr>\n",
       "      <th>2</th>\n",
       "      <td>2.0</td>\n",
       "      <td>극한직업</td>\n",
       "      <td>이병헌</td>\n",
       "      <td>(주)어바웃필름,영화사 해그림 주식회사,씨제이이앤엠(주)</td>\n",
       "      <td>NaN</td>\n",
       "      <td>씨제이이앤엠(주)</td>\n",
       "      <td>2019-01-23</td>\n",
       "      <td>개봉영화</td>\n",
       "      <td>장편</td>\n",
       "      <td>한국</td>\n",
       "      <td>1,978</td>\n",
       "      <td>139,647,979,516</td>\n",
       "      <td>16,264,944</td>\n",
       "      <td>31,858,660,536</td>\n",
       "      <td>3,638,287</td>\n",
       "      <td>코미디</td>\n",
       "      <td>15세이상관람가</td>\n",
       "      <td>일반영화</td>\n",
       "    </tr>\n",
       "    <tr>\n",
       "      <th>3</th>\n",
       "      <td>3.0</td>\n",
       "      <td>신과함께-죄와 벌</td>\n",
       "      <td>김용화</td>\n",
       "      <td>리얼라이즈픽쳐스(주),(주)덱스터스튜디오</td>\n",
       "      <td>NaN</td>\n",
       "      <td>롯데쇼핑㈜롯데엔터테인먼트</td>\n",
       "      <td>2017-12-20</td>\n",
       "      <td>개봉영화</td>\n",
       "      <td>장편</td>\n",
       "      <td>한국</td>\n",
       "      <td>1,912</td>\n",
       "      <td>115,698,654,137</td>\n",
       "      <td>14,410,754</td>\n",
       "      <td>27,530,825,087</td>\n",
       "      <td>3,346,172</td>\n",
       "      <td>판타지</td>\n",
       "      <td>12세이상관람가</td>\n",
       "      <td>일반영화</td>\n",
       "    </tr>\n",
       "    <tr>\n",
       "      <th>4</th>\n",
       "      <td>4.0</td>\n",
       "      <td>국제시장</td>\n",
       "      <td>윤제균</td>\n",
       "      <td>(주)제이케이필름,씨제이이앤엠(주)</td>\n",
       "      <td>NaN</td>\n",
       "      <td>씨제이이앤엠(주)</td>\n",
       "      <td>2014-12-17</td>\n",
       "      <td>개봉영화</td>\n",
       "      <td>장편</td>\n",
       "      <td>한국</td>\n",
       "      <td>966</td>\n",
       "      <td>110,828,014,630</td>\n",
       "      <td>14,245,998</td>\n",
       "      <td>25,842,519,330</td>\n",
       "      <td>3,233,946</td>\n",
       "      <td>드라마</td>\n",
       "      <td>12세이상관람가</td>\n",
       "      <td>일반영화</td>\n",
       "    </tr>\n",
       "  </tbody>\n",
       "</table>\n",
       "</div>"
      ],
      "text/plain": [
       "    순번        영화명   감독                              제작사  수입사            배급사  \\\n",
       "0  NaN        NaN  NaN                              NaN  NaN            NaN   \n",
       "1  1.0         명량  김한민                        (주)빅스톤픽쳐스  NaN      씨제이이앤엠(주)   \n",
       "2  2.0       극한직업  이병헌  (주)어바웃필름,영화사 해그림 주식회사,씨제이이앤엠(주)  NaN      씨제이이앤엠(주)   \n",
       "3  3.0  신과함께-죄와 벌  김용화           리얼라이즈픽쳐스(주),(주)덱스터스튜디오  NaN  롯데쇼핑㈜롯데엔터테인먼트   \n",
       "4  4.0       국제시장  윤제균              (주)제이케이필름,씨제이이앤엠(주)  NaN      씨제이이앤엠(주)   \n",
       "\n",
       "          개봉일  영화유형 영화형태   국적     전국             전국.1        전국.2  \\\n",
       "0         NaN   NaN  NaN  NaN   스크린수              매출액         관객수   \n",
       "1  2014-07-30  개봉영화   장편   한국  1,587  135,748,398,910  17,613,682   \n",
       "2  2019-01-23  개봉영화   장편   한국  1,978  139,647,979,516  16,264,944   \n",
       "3  2017-12-20  개봉영화   장편   한국  1,912  115,698,654,137  14,410,754   \n",
       "4  2014-12-17  개봉영화   장편   한국    966  110,828,014,630  14,245,998   \n",
       "\n",
       "               서울       서울.1   장르        등급  영화구분  \n",
       "0             매출액        관객수  NaN       NaN   NaN  \n",
       "1  33,121,225,810  4,163,666   사극  15세이상관람가  일반영화  \n",
       "2  31,858,660,536  3,638,287  코미디  15세이상관람가  일반영화  \n",
       "3  27,530,825,087  3,346,172  판타지  12세이상관람가  일반영화  \n",
       "4  25,842,519,330  3,233,946  드라마  12세이상관람가  일반영화  "
      ]
     },
     "execution_count": 2,
     "metadata": {},
     "output_type": "execute_result"
    }
   ],
   "source": [
    "df = pd.read_csv('KOBIS_개봉일람_2019-10-26.csv', skiprows =5)         # skiprows -> 넘겨서 가져옴\n",
    "df.head()"
   ]
  },
  {
   "cell_type": "code",
   "execution_count": 3,
   "metadata": {},
   "outputs": [
    {
     "data": {
      "text/html": [
       "<div>\n",
       "<style scoped>\n",
       "    .dataframe tbody tr th:only-of-type {\n",
       "        vertical-align: middle;\n",
       "    }\n",
       "\n",
       "    .dataframe tbody tr th {\n",
       "        vertical-align: top;\n",
       "    }\n",
       "\n",
       "    .dataframe thead th {\n",
       "        text-align: right;\n",
       "    }\n",
       "</style>\n",
       "<table border=\"1\" class=\"dataframe\">\n",
       "  <thead>\n",
       "    <tr style=\"text-align: right;\">\n",
       "      <th></th>\n",
       "      <th>순번</th>\n",
       "      <th>영화명</th>\n",
       "      <th>감독</th>\n",
       "      <th>제작사</th>\n",
       "      <th>수입사</th>\n",
       "      <th>배급사</th>\n",
       "      <th>개봉일</th>\n",
       "      <th>영화유형</th>\n",
       "      <th>영화형태</th>\n",
       "      <th>국적</th>\n",
       "      <th>스크린수</th>\n",
       "      <th>매출액</th>\n",
       "      <th>관객수</th>\n",
       "      <th>서울매출액</th>\n",
       "      <th>서울관객수</th>\n",
       "      <th>장르</th>\n",
       "      <th>등급</th>\n",
       "      <th>영화구분</th>\n",
       "    </tr>\n",
       "  </thead>\n",
       "  <tbody>\n",
       "    <tr>\n",
       "      <th>0</th>\n",
       "      <td>NaN</td>\n",
       "      <td>NaN</td>\n",
       "      <td>NaN</td>\n",
       "      <td>NaN</td>\n",
       "      <td>NaN</td>\n",
       "      <td>NaN</td>\n",
       "      <td>NaN</td>\n",
       "      <td>NaN</td>\n",
       "      <td>NaN</td>\n",
       "      <td>NaN</td>\n",
       "      <td>스크린수</td>\n",
       "      <td>매출액</td>\n",
       "      <td>관객수</td>\n",
       "      <td>매출액</td>\n",
       "      <td>관객수</td>\n",
       "      <td>NaN</td>\n",
       "      <td>NaN</td>\n",
       "      <td>NaN</td>\n",
       "    </tr>\n",
       "    <tr>\n",
       "      <th>1</th>\n",
       "      <td>1.0</td>\n",
       "      <td>명량</td>\n",
       "      <td>김한민</td>\n",
       "      <td>(주)빅스톤픽쳐스</td>\n",
       "      <td>NaN</td>\n",
       "      <td>씨제이이앤엠(주)</td>\n",
       "      <td>2014-07-30</td>\n",
       "      <td>개봉영화</td>\n",
       "      <td>장편</td>\n",
       "      <td>한국</td>\n",
       "      <td>1,587</td>\n",
       "      <td>135,748,398,910</td>\n",
       "      <td>17,613,682</td>\n",
       "      <td>33,121,225,810</td>\n",
       "      <td>4,163,666</td>\n",
       "      <td>사극</td>\n",
       "      <td>15세이상관람가</td>\n",
       "      <td>일반영화</td>\n",
       "    </tr>\n",
       "    <tr>\n",
       "      <th>2</th>\n",
       "      <td>2.0</td>\n",
       "      <td>극한직업</td>\n",
       "      <td>이병헌</td>\n",
       "      <td>(주)어바웃필름,영화사 해그림 주식회사,씨제이이앤엠(주)</td>\n",
       "      <td>NaN</td>\n",
       "      <td>씨제이이앤엠(주)</td>\n",
       "      <td>2019-01-23</td>\n",
       "      <td>개봉영화</td>\n",
       "      <td>장편</td>\n",
       "      <td>한국</td>\n",
       "      <td>1,978</td>\n",
       "      <td>139,647,979,516</td>\n",
       "      <td>16,264,944</td>\n",
       "      <td>31,858,660,536</td>\n",
       "      <td>3,638,287</td>\n",
       "      <td>코미디</td>\n",
       "      <td>15세이상관람가</td>\n",
       "      <td>일반영화</td>\n",
       "    </tr>\n",
       "    <tr>\n",
       "      <th>3</th>\n",
       "      <td>3.0</td>\n",
       "      <td>신과함께-죄와 벌</td>\n",
       "      <td>김용화</td>\n",
       "      <td>리얼라이즈픽쳐스(주),(주)덱스터스튜디오</td>\n",
       "      <td>NaN</td>\n",
       "      <td>롯데쇼핑㈜롯데엔터테인먼트</td>\n",
       "      <td>2017-12-20</td>\n",
       "      <td>개봉영화</td>\n",
       "      <td>장편</td>\n",
       "      <td>한국</td>\n",
       "      <td>1,912</td>\n",
       "      <td>115,698,654,137</td>\n",
       "      <td>14,410,754</td>\n",
       "      <td>27,530,825,087</td>\n",
       "      <td>3,346,172</td>\n",
       "      <td>판타지</td>\n",
       "      <td>12세이상관람가</td>\n",
       "      <td>일반영화</td>\n",
       "    </tr>\n",
       "    <tr>\n",
       "      <th>4</th>\n",
       "      <td>4.0</td>\n",
       "      <td>국제시장</td>\n",
       "      <td>윤제균</td>\n",
       "      <td>(주)제이케이필름,씨제이이앤엠(주)</td>\n",
       "      <td>NaN</td>\n",
       "      <td>씨제이이앤엠(주)</td>\n",
       "      <td>2014-12-17</td>\n",
       "      <td>개봉영화</td>\n",
       "      <td>장편</td>\n",
       "      <td>한국</td>\n",
       "      <td>966</td>\n",
       "      <td>110,828,014,630</td>\n",
       "      <td>14,245,998</td>\n",
       "      <td>25,842,519,330</td>\n",
       "      <td>3,233,946</td>\n",
       "      <td>드라마</td>\n",
       "      <td>12세이상관람가</td>\n",
       "      <td>일반영화</td>\n",
       "    </tr>\n",
       "  </tbody>\n",
       "</table>\n",
       "</div>"
      ],
      "text/plain": [
       "    순번        영화명   감독                              제작사  수입사            배급사  \\\n",
       "0  NaN        NaN  NaN                              NaN  NaN            NaN   \n",
       "1  1.0         명량  김한민                        (주)빅스톤픽쳐스  NaN      씨제이이앤엠(주)   \n",
       "2  2.0       극한직업  이병헌  (주)어바웃필름,영화사 해그림 주식회사,씨제이이앤엠(주)  NaN      씨제이이앤엠(주)   \n",
       "3  3.0  신과함께-죄와 벌  김용화           리얼라이즈픽쳐스(주),(주)덱스터스튜디오  NaN  롯데쇼핑㈜롯데엔터테인먼트   \n",
       "4  4.0       국제시장  윤제균              (주)제이케이필름,씨제이이앤엠(주)  NaN      씨제이이앤엠(주)   \n",
       "\n",
       "          개봉일  영화유형 영화형태   국적   스크린수              매출액         관객수  \\\n",
       "0         NaN   NaN  NaN  NaN   스크린수              매출액         관객수   \n",
       "1  2014-07-30  개봉영화   장편   한국  1,587  135,748,398,910  17,613,682   \n",
       "2  2019-01-23  개봉영화   장편   한국  1,978  139,647,979,516  16,264,944   \n",
       "3  2017-12-20  개봉영화   장편   한국  1,912  115,698,654,137  14,410,754   \n",
       "4  2014-12-17  개봉영화   장편   한국    966  110,828,014,630  14,245,998   \n",
       "\n",
       "            서울매출액      서울관객수   장르        등급  영화구분  \n",
       "0             매출액        관객수  NaN       NaN   NaN  \n",
       "1  33,121,225,810  4,163,666   사극  15세이상관람가  일반영화  \n",
       "2  31,858,660,536  3,638,287  코미디  15세이상관람가  일반영화  \n",
       "3  27,530,825,087  3,346,172  판타지  12세이상관람가  일반영화  \n",
       "4  25,842,519,330  3,233,946  드라마  12세이상관람가  일반영화  "
      ]
     },
     "execution_count": 3,
     "metadata": {},
     "output_type": "execute_result"
    }
   ],
   "source": [
    "df.rename(columns={'전국':'스크린수','전국.1':'매출액','전국.2':'관객수','서울':'서울매출액','서울.1':'서울관객수'},inplace=True)\n",
    "df.head()"
   ]
  },
  {
   "cell_type": "code",
   "execution_count": 4,
   "metadata": {},
   "outputs": [
    {
     "data": {
      "text/html": [
       "<div>\n",
       "<style scoped>\n",
       "    .dataframe tbody tr th:only-of-type {\n",
       "        vertical-align: middle;\n",
       "    }\n",
       "\n",
       "    .dataframe tbody tr th {\n",
       "        vertical-align: top;\n",
       "    }\n",
       "\n",
       "    .dataframe thead th {\n",
       "        text-align: right;\n",
       "    }\n",
       "</style>\n",
       "<table border=\"1\" class=\"dataframe\">\n",
       "  <thead>\n",
       "    <tr style=\"text-align: right;\">\n",
       "      <th></th>\n",
       "      <th>순번</th>\n",
       "      <th>영화명</th>\n",
       "      <th>감독</th>\n",
       "      <th>제작사</th>\n",
       "      <th>수입사</th>\n",
       "      <th>배급사</th>\n",
       "      <th>개봉일</th>\n",
       "      <th>영화유형</th>\n",
       "      <th>영화형태</th>\n",
       "      <th>국적</th>\n",
       "      <th>스크린수</th>\n",
       "      <th>매출액</th>\n",
       "      <th>관객수</th>\n",
       "      <th>서울매출액</th>\n",
       "      <th>서울관객수</th>\n",
       "      <th>장르</th>\n",
       "      <th>등급</th>\n",
       "      <th>영화구분</th>\n",
       "    </tr>\n",
       "  </thead>\n",
       "  <tbody>\n",
       "    <tr>\n",
       "      <th>1</th>\n",
       "      <td>1.0</td>\n",
       "      <td>명량</td>\n",
       "      <td>김한민</td>\n",
       "      <td>(주)빅스톤픽쳐스</td>\n",
       "      <td>NaN</td>\n",
       "      <td>씨제이이앤엠(주)</td>\n",
       "      <td>2014-07-30</td>\n",
       "      <td>개봉영화</td>\n",
       "      <td>장편</td>\n",
       "      <td>한국</td>\n",
       "      <td>1,587</td>\n",
       "      <td>135,748,398,910</td>\n",
       "      <td>17,613,682</td>\n",
       "      <td>33,121,225,810</td>\n",
       "      <td>4,163,666</td>\n",
       "      <td>사극</td>\n",
       "      <td>15세이상관람가</td>\n",
       "      <td>일반영화</td>\n",
       "    </tr>\n",
       "    <tr>\n",
       "      <th>2</th>\n",
       "      <td>2.0</td>\n",
       "      <td>극한직업</td>\n",
       "      <td>이병헌</td>\n",
       "      <td>(주)어바웃필름,영화사 해그림 주식회사,씨제이이앤엠(주)</td>\n",
       "      <td>NaN</td>\n",
       "      <td>씨제이이앤엠(주)</td>\n",
       "      <td>2019-01-23</td>\n",
       "      <td>개봉영화</td>\n",
       "      <td>장편</td>\n",
       "      <td>한국</td>\n",
       "      <td>1,978</td>\n",
       "      <td>139,647,979,516</td>\n",
       "      <td>16,264,944</td>\n",
       "      <td>31,858,660,536</td>\n",
       "      <td>3,638,287</td>\n",
       "      <td>코미디</td>\n",
       "      <td>15세이상관람가</td>\n",
       "      <td>일반영화</td>\n",
       "    </tr>\n",
       "    <tr>\n",
       "      <th>3</th>\n",
       "      <td>3.0</td>\n",
       "      <td>신과함께-죄와 벌</td>\n",
       "      <td>김용화</td>\n",
       "      <td>리얼라이즈픽쳐스(주),(주)덱스터스튜디오</td>\n",
       "      <td>NaN</td>\n",
       "      <td>롯데쇼핑㈜롯데엔터테인먼트</td>\n",
       "      <td>2017-12-20</td>\n",
       "      <td>개봉영화</td>\n",
       "      <td>장편</td>\n",
       "      <td>한국</td>\n",
       "      <td>1,912</td>\n",
       "      <td>115,698,654,137</td>\n",
       "      <td>14,410,754</td>\n",
       "      <td>27,530,825,087</td>\n",
       "      <td>3,346,172</td>\n",
       "      <td>판타지</td>\n",
       "      <td>12세이상관람가</td>\n",
       "      <td>일반영화</td>\n",
       "    </tr>\n",
       "    <tr>\n",
       "      <th>4</th>\n",
       "      <td>4.0</td>\n",
       "      <td>국제시장</td>\n",
       "      <td>윤제균</td>\n",
       "      <td>(주)제이케이필름,씨제이이앤엠(주)</td>\n",
       "      <td>NaN</td>\n",
       "      <td>씨제이이앤엠(주)</td>\n",
       "      <td>2014-12-17</td>\n",
       "      <td>개봉영화</td>\n",
       "      <td>장편</td>\n",
       "      <td>한국</td>\n",
       "      <td>966</td>\n",
       "      <td>110,828,014,630</td>\n",
       "      <td>14,245,998</td>\n",
       "      <td>25,842,519,330</td>\n",
       "      <td>3,233,946</td>\n",
       "      <td>드라마</td>\n",
       "      <td>12세이상관람가</td>\n",
       "      <td>일반영화</td>\n",
       "    </tr>\n",
       "    <tr>\n",
       "      <th>5</th>\n",
       "      <td>5.0</td>\n",
       "      <td>어벤져스: 엔드게임</td>\n",
       "      <td>안소니 루소,조 루소</td>\n",
       "      <td>NaN</td>\n",
       "      <td>월트디즈니컴퍼니코리아 유한책임회사</td>\n",
       "      <td>월트디즈니컴퍼니코리아 유한책임회사</td>\n",
       "      <td>2019-04-24</td>\n",
       "      <td>개봉영화</td>\n",
       "      <td>장편</td>\n",
       "      <td>미국</td>\n",
       "      <td>2,835</td>\n",
       "      <td>122,182,694,160</td>\n",
       "      <td>13,934,592</td>\n",
       "      <td>33,577,136,860</td>\n",
       "      <td>3,597,963</td>\n",
       "      <td>액션</td>\n",
       "      <td>12세이상관람가</td>\n",
       "      <td>일반영화</td>\n",
       "    </tr>\n",
       "  </tbody>\n",
       "</table>\n",
       "</div>"
      ],
      "text/plain": [
       "    순번         영화명           감독                              제작사  \\\n",
       "1  1.0          명량          김한민                        (주)빅스톤픽쳐스   \n",
       "2  2.0        극한직업          이병헌  (주)어바웃필름,영화사 해그림 주식회사,씨제이이앤엠(주)   \n",
       "3  3.0   신과함께-죄와 벌          김용화           리얼라이즈픽쳐스(주),(주)덱스터스튜디오   \n",
       "4  4.0        국제시장          윤제균              (주)제이케이필름,씨제이이앤엠(주)   \n",
       "5  5.0  어벤져스: 엔드게임  안소니 루소,조 루소                              NaN   \n",
       "\n",
       "                  수입사                 배급사         개봉일  영화유형 영화형태  국적   스크린수  \\\n",
       "1                 NaN           씨제이이앤엠(주)  2014-07-30  개봉영화   장편  한국  1,587   \n",
       "2                 NaN           씨제이이앤엠(주)  2019-01-23  개봉영화   장편  한국  1,978   \n",
       "3                 NaN       롯데쇼핑㈜롯데엔터테인먼트  2017-12-20  개봉영화   장편  한국  1,912   \n",
       "4                 NaN           씨제이이앤엠(주)  2014-12-17  개봉영화   장편  한국    966   \n",
       "5  월트디즈니컴퍼니코리아 유한책임회사  월트디즈니컴퍼니코리아 유한책임회사  2019-04-24  개봉영화   장편  미국  2,835   \n",
       "\n",
       "               매출액         관객수           서울매출액      서울관객수   장르        등급  영화구분  \n",
       "1  135,748,398,910  17,613,682  33,121,225,810  4,163,666   사극  15세이상관람가  일반영화  \n",
       "2  139,647,979,516  16,264,944  31,858,660,536  3,638,287  코미디  15세이상관람가  일반영화  \n",
       "3  115,698,654,137  14,410,754  27,530,825,087  3,346,172  판타지  12세이상관람가  일반영화  \n",
       "4  110,828,014,630  14,245,998  25,842,519,330  3,233,946  드라마  12세이상관람가  일반영화  \n",
       "5  122,182,694,160  13,934,592  33,577,136,860  3,597,963   액션  12세이상관람가  일반영화  "
      ]
     },
     "execution_count": 4,
     "metadata": {},
     "output_type": "execute_result"
    }
   ],
   "source": [
    "df.drop(0,inplace=True)\n",
    "df.head()"
   ]
  },
  {
   "cell_type": "code",
   "execution_count": 5,
   "metadata": {},
   "outputs": [
    {
     "data": {
      "text/html": [
       "<div>\n",
       "<style scoped>\n",
       "    .dataframe tbody tr th:only-of-type {\n",
       "        vertical-align: middle;\n",
       "    }\n",
       "\n",
       "    .dataframe tbody tr th {\n",
       "        vertical-align: top;\n",
       "    }\n",
       "\n",
       "    .dataframe thead th {\n",
       "        text-align: right;\n",
       "    }\n",
       "</style>\n",
       "<table border=\"1\" class=\"dataframe\">\n",
       "  <thead>\n",
       "    <tr style=\"text-align: right;\">\n",
       "      <th></th>\n",
       "      <th>영화명</th>\n",
       "      <th>감독</th>\n",
       "      <th>개봉일</th>\n",
       "      <th>영화형태</th>\n",
       "      <th>국적</th>\n",
       "      <th>스크린수</th>\n",
       "      <th>매출액</th>\n",
       "      <th>관객수</th>\n",
       "      <th>장르</th>\n",
       "      <th>영화구분</th>\n",
       "    </tr>\n",
       "  </thead>\n",
       "  <tbody>\n",
       "    <tr>\n",
       "      <th>1</th>\n",
       "      <td>명량</td>\n",
       "      <td>김한민</td>\n",
       "      <td>2014-07-30</td>\n",
       "      <td>장편</td>\n",
       "      <td>한국</td>\n",
       "      <td>1,587</td>\n",
       "      <td>135,748,398,910</td>\n",
       "      <td>17,613,682</td>\n",
       "      <td>사극</td>\n",
       "      <td>일반영화</td>\n",
       "    </tr>\n",
       "    <tr>\n",
       "      <th>2</th>\n",
       "      <td>극한직업</td>\n",
       "      <td>이병헌</td>\n",
       "      <td>2019-01-23</td>\n",
       "      <td>장편</td>\n",
       "      <td>한국</td>\n",
       "      <td>1,978</td>\n",
       "      <td>139,647,979,516</td>\n",
       "      <td>16,264,944</td>\n",
       "      <td>코미디</td>\n",
       "      <td>일반영화</td>\n",
       "    </tr>\n",
       "    <tr>\n",
       "      <th>3</th>\n",
       "      <td>신과함께-죄와 벌</td>\n",
       "      <td>김용화</td>\n",
       "      <td>2017-12-20</td>\n",
       "      <td>장편</td>\n",
       "      <td>한국</td>\n",
       "      <td>1,912</td>\n",
       "      <td>115,698,654,137</td>\n",
       "      <td>14,410,754</td>\n",
       "      <td>판타지</td>\n",
       "      <td>일반영화</td>\n",
       "    </tr>\n",
       "    <tr>\n",
       "      <th>4</th>\n",
       "      <td>국제시장</td>\n",
       "      <td>윤제균</td>\n",
       "      <td>2014-12-17</td>\n",
       "      <td>장편</td>\n",
       "      <td>한국</td>\n",
       "      <td>966</td>\n",
       "      <td>110,828,014,630</td>\n",
       "      <td>14,245,998</td>\n",
       "      <td>드라마</td>\n",
       "      <td>일반영화</td>\n",
       "    </tr>\n",
       "    <tr>\n",
       "      <th>5</th>\n",
       "      <td>어벤져스: 엔드게임</td>\n",
       "      <td>안소니 루소,조 루소</td>\n",
       "      <td>2019-04-24</td>\n",
       "      <td>장편</td>\n",
       "      <td>미국</td>\n",
       "      <td>2,835</td>\n",
       "      <td>122,182,694,160</td>\n",
       "      <td>13,934,592</td>\n",
       "      <td>액션</td>\n",
       "      <td>일반영화</td>\n",
       "    </tr>\n",
       "    <tr>\n",
       "      <th>...</th>\n",
       "      <td>...</td>\n",
       "      <td>...</td>\n",
       "      <td>...</td>\n",
       "      <td>...</td>\n",
       "      <td>...</td>\n",
       "      <td>...</td>\n",
       "      <td>...</td>\n",
       "      <td>...</td>\n",
       "      <td>...</td>\n",
       "      <td>...</td>\n",
       "    </tr>\n",
       "    <tr>\n",
       "      <th>19700</th>\n",
       "      <td>UFO를 타고 온 외계인 왕자</td>\n",
       "      <td>NaN</td>\n",
       "      <td>1984-01-01</td>\n",
       "      <td>장편</td>\n",
       "      <td>한국</td>\n",
       "      <td>0</td>\n",
       "      <td>0</td>\n",
       "      <td>0</td>\n",
       "      <td>SF</td>\n",
       "      <td>일반영화</td>\n",
       "    </tr>\n",
       "    <tr>\n",
       "      <th>19701</th>\n",
       "      <td>W의 비극</td>\n",
       "      <td>김수형</td>\n",
       "      <td>1985-06-09</td>\n",
       "      <td>장편</td>\n",
       "      <td>한국</td>\n",
       "      <td>0</td>\n",
       "      <td>0</td>\n",
       "      <td>0</td>\n",
       "      <td>드라마</td>\n",
       "      <td>일반영화</td>\n",
       "    </tr>\n",
       "    <tr>\n",
       "      <th>19702</th>\n",
       "      <td>X게임</td>\n",
       "      <td>엠마뉴엘 그리센티</td>\n",
       "      <td>1997-07-05</td>\n",
       "      <td>장편</td>\n",
       "      <td>이탈리아</td>\n",
       "      <td>0</td>\n",
       "      <td>0</td>\n",
       "      <td>0</td>\n",
       "      <td>범죄</td>\n",
       "      <td>일반영화</td>\n",
       "    </tr>\n",
       "    <tr>\n",
       "      <th>19703</th>\n",
       "      <td>Y의 체험</td>\n",
       "      <td>이장호</td>\n",
       "      <td>1987-10-03</td>\n",
       "      <td>장편</td>\n",
       "      <td>한국</td>\n",
       "      <td>0</td>\n",
       "      <td>0</td>\n",
       "      <td>0</td>\n",
       "      <td>드라마</td>\n",
       "      <td>일반영화</td>\n",
       "    </tr>\n",
       "    <tr>\n",
       "      <th>19704</th>\n",
       "      <td>YMCA야구단</td>\n",
       "      <td>김현석</td>\n",
       "      <td>2002-10-02</td>\n",
       "      <td>장편</td>\n",
       "      <td>한국</td>\n",
       "      <td>0</td>\n",
       "      <td>NaN</td>\n",
       "      <td>0</td>\n",
       "      <td>드라마</td>\n",
       "      <td>일반영화</td>\n",
       "    </tr>\n",
       "  </tbody>\n",
       "</table>\n",
       "<p>19704 rows × 10 columns</p>\n",
       "</div>"
      ],
      "text/plain": [
       "                    영화명           감독         개봉일 영화형태    국적   스크린수  \\\n",
       "1                    명량          김한민  2014-07-30   장편    한국  1,587   \n",
       "2                  극한직업          이병헌  2019-01-23   장편    한국  1,978   \n",
       "3             신과함께-죄와 벌          김용화  2017-12-20   장편    한국  1,912   \n",
       "4                  국제시장          윤제균  2014-12-17   장편    한국    966   \n",
       "5            어벤져스: 엔드게임  안소니 루소,조 루소  2019-04-24   장편    미국  2,835   \n",
       "...                 ...          ...         ...  ...   ...    ...   \n",
       "19700  UFO를 타고 온 외계인 왕자          NaN  1984-01-01   장편    한국      0   \n",
       "19701             W의 비극          김수형  1985-06-09   장편    한국      0   \n",
       "19702               X게임    엠마뉴엘 그리센티  1997-07-05   장편  이탈리아      0   \n",
       "19703             Y의 체험          이장호  1987-10-03   장편    한국      0   \n",
       "19704           YMCA야구단          김현석  2002-10-02   장편    한국      0   \n",
       "\n",
       "                   매출액         관객수   장르  영화구분  \n",
       "1      135,748,398,910  17,613,682   사극  일반영화  \n",
       "2      139,647,979,516  16,264,944  코미디  일반영화  \n",
       "3      115,698,654,137  14,410,754  판타지  일반영화  \n",
       "4      110,828,014,630  14,245,998  드라마  일반영화  \n",
       "5      122,182,694,160  13,934,592   액션  일반영화  \n",
       "...                ...         ...  ...   ...  \n",
       "19700                0           0   SF  일반영화  \n",
       "19701                0           0  드라마  일반영화  \n",
       "19702                0           0   범죄  일반영화  \n",
       "19703                0           0  드라마  일반영화  \n",
       "19704              NaN           0  드라마  일반영화  \n",
       "\n",
       "[19704 rows x 10 columns]"
      ]
     },
     "execution_count": 5,
     "metadata": {},
     "output_type": "execute_result"
    }
   ],
   "source": [
    "df.drop(['서울매출액','서울관객수','순번','영화유형','제작사','등급','수입사'],axis =1, inplace=True)\n",
    "df.drop('배급사',axis=1,inplace=True)\n",
    "df"
   ]
  },
  {
   "cell_type": "code",
   "execution_count": 6,
   "metadata": {},
   "outputs": [
    {
     "name": "stdout",
     "output_type": "stream",
     "text": [
      "<class 'pandas.core.frame.DataFrame'>\n",
      "Int64Index: 19704 entries, 1 to 19704\n",
      "Data columns (total 10 columns):\n",
      " #   Column  Non-Null Count  Dtype \n",
      "---  ------  --------------  ----- \n",
      " 0   영화명     19704 non-null  object\n",
      " 1   감독      19150 non-null  object\n",
      " 2   개봉일     19686 non-null  object\n",
      " 3   영화형태    19690 non-null  object\n",
      " 4   국적      19695 non-null  object\n",
      " 5   스크린수    19704 non-null  object\n",
      " 6   매출액     19477 non-null  object\n",
      " 7   관객수     19704 non-null  object\n",
      " 8   장르      19603 non-null  object\n",
      " 9   영화구분    19704 non-null  object\n",
      "dtypes: object(10)\n",
      "memory usage: 1.7+ MB\n"
     ]
    }
   ],
   "source": [
    "df.info()"
   ]
  },
  {
   "cell_type": "markdown",
   "metadata": {},
   "source": [
    "### col별  null갯수 확인"
   ]
  },
  {
   "cell_type": "code",
   "execution_count": 7,
   "metadata": {},
   "outputs": [
    {
     "data": {
      "text/plain": [
       "영화명       0\n",
       "감독      554\n",
       "개봉일      18\n",
       "영화형태     14\n",
       "국적        9\n",
       "스크린수      0\n",
       "매출액     227\n",
       "관객수       0\n",
       "장르      101\n",
       "영화구분      0\n",
       "dtype: int64"
      ]
     },
     "execution_count": 7,
     "metadata": {},
     "output_type": "execute_result"
    }
   ],
   "source": [
    "df.isnull().sum()"
   ]
  },
  {
   "cell_type": "markdown",
   "metadata": {},
   "source": [
    "##### 국적별 영화매출액"
   ]
  },
  {
   "cell_type": "code",
   "execution_count": 10,
   "metadata": {
    "scrolled": true
   },
   "outputs": [],
   "source": [
    "df.fillna(0, inplace=True)"
   ]
  },
  {
   "cell_type": "code",
   "execution_count": 11,
   "metadata": {},
   "outputs": [],
   "source": [
    "df['스크린수'] = df['스크린수'].apply(lambda x: int(str(x).replace(',', '')))\n",
    "df['매출액'] = df['매출액'].apply(lambda x: int(str(x).replace(',', '')))\n",
    "df['관객수'] = df['관객수'].apply(lambda x: int(str(x).replace(',', '')))"
   ]
  },
  {
   "cell_type": "code",
   "execution_count": 12,
   "metadata": {},
   "outputs": [
    {
     "data": {
      "text/plain": [
       "국적\n",
       "0                       0\n",
       "그리스             257030800\n",
       "기타             1405903239\n",
       "남아프리카공화국       3856086900\n",
       "네덜란드            270420038\n",
       "                ...      \n",
       "필리핀                102000\n",
       "한국          8984898889995\n",
       "헝가리             358553743\n",
       "호주             6092849425\n",
       "홍콩            16922904238\n",
       "Name: 매출액, Length: 75, dtype: int64"
      ]
     },
     "execution_count": 12,
     "metadata": {},
     "output_type": "execute_result"
    }
   ],
   "source": [
    "df.groupby('국적').매출액.sum()"
   ]
  },
  {
   "cell_type": "markdown",
   "metadata": {},
   "source": [
    "##### 국적별 영화 매출액 합계 상위 10개국"
   ]
  },
  {
   "cell_type": "code",
   "execution_count": 13,
   "metadata": {},
   "outputs": [],
   "source": [
    "import matplotlib as mpl\n",
    "import matplotlib.font_manager as fm\n",
    "\n",
    "mpl.rcParams['axes.unicode_minus']= False\n",
    "\n",
    "path = 'C:/Windows/Fonts/malgun.ttf'\n",
    "font_name = fm.FontProperties(fname = path, size = 50).get_name()\n",
    "plt.rc('font', family=font_name)"
   ]
  },
  {
   "cell_type": "code",
   "execution_count": 14,
   "metadata": {
    "scrolled": true
   },
   "outputs": [
    {
     "data": {
      "image/png": "[encoded data removed]",
      "text/plain": [
       "<Figure size 432x288 with 1 Axes>"
      ]
     },
     "metadata": {
      "needs_background": "light"
     },
     "output_type": "display_data"
    }
   ],
   "source": [
    "df.groupby('국적').매출액.sum().sort_values(ascending=False)[:10].plot(kind='bar')\n",
    "plt.show()"
   ]
  },
  {
   "cell_type": "markdown",
   "metadata": {},
   "source": [
    "## exercise"
   ]
  },
  {
   "cell_type": "markdown",
   "metadata": {},
   "source": [
    "##### 스크린수와 매출액의 관계를 분포그래프로 표시 그리고 회귀직선을 나타내시오"
   ]
  },
  {
   "cell_type": "code",
   "execution_count": 73,
   "metadata": {},
   "outputs": [
    {
     "data": {
      "text/plain": [
       "<seaborn.axisgrid.JointGrid at 0x16680e3cb50>"
      ]
     },
     "execution_count": 73,
     "metadata": {},
     "output_type": "execute_result"
    },
    {
     "data": {
      "image/png": "[encoded data removed]",
      "text/plain": [
       "<Figure size 432x432 with 3 Axes>"
      ]
     },
     "metadata": {
      "needs_background": "light"
     },
     "output_type": "display_data"
    }
   ],
   "source": [
    "sns.jointplot(x= '스크린수', y='매출액', data=df)"
   ]
  },
  {
   "cell_type": "markdown",
   "metadata": {},
   "source": [
    "##### 역대 관객수가 최대인 영화는 무엇인가?"
   ]
  },
  {
   "cell_type": "code",
   "execution_count": 75,
   "metadata": {},
   "outputs": [
    {
     "data": {
      "text/plain": [
       "1    명량\n",
       "Name: 영화명, dtype: object"
      ]
     },
     "execution_count": 75,
     "metadata": {},
     "output_type": "execute_result"
    }
   ],
   "source": [
    "df[df.관객수 == df.관객수.max()].영화명"
   ]
  },
  {
   "cell_type": "markdown",
   "metadata": {},
   "source": [
    "##### 스크린수 대비 매출액이 최대인 영화는 무엇인가?"
   ]
  },
  {
   "cell_type": "code",
   "execution_count": 79,
   "metadata": {},
   "outputs": [
    {
     "data": {
      "text/html": [
       "<div>\n",
       "<style scoped>\n",
       "    .dataframe tbody tr th:only-of-type {\n",
       "        vertical-align: middle;\n",
       "    }\n",
       "\n",
       "    .dataframe tbody tr th {\n",
       "        vertical-align: top;\n",
       "    }\n",
       "\n",
       "    .dataframe thead th {\n",
       "        text-align: right;\n",
       "    }\n",
       "</style>\n",
       "<table border=\"1\" class=\"dataframe\">\n",
       "  <thead>\n",
       "    <tr style=\"text-align: right;\">\n",
       "      <th></th>\n",
       "      <th>영화명</th>\n",
       "      <th>감독</th>\n",
       "      <th>개봉일</th>\n",
       "      <th>영화형태</th>\n",
       "      <th>국적</th>\n",
       "      <th>스크린수</th>\n",
       "      <th>매출액</th>\n",
       "      <th>관객수</th>\n",
       "      <th>장르</th>\n",
       "      <th>영화구분</th>\n",
       "      <th>개봉연도</th>\n",
       "      <th>매출/스크린</th>\n",
       "    </tr>\n",
       "  </thead>\n",
       "  <tbody>\n",
       "    <tr>\n",
       "      <th>258</th>\n",
       "      <td>워낭소리</td>\n",
       "      <td>이충렬</td>\n",
       "      <td>2009-01-15</td>\n",
       "      <td>장편</td>\n",
       "      <td>한국</td>\n",
       "      <td>20</td>\n",
       "      <td>19259975032</td>\n",
       "      <td>2962897</td>\n",
       "      <td>다큐멘터리</td>\n",
       "      <td>독립/예술영화</td>\n",
       "      <td>2009</td>\n",
       "      <td>962998751.6</td>\n",
       "    </tr>\n",
       "  </tbody>\n",
       "</table>\n",
       "</div>"
      ],
      "text/plain": [
       "      영화명   감독         개봉일 영화형태  국적  스크린수          매출액      관객수     장르  \\\n",
       "258  워낭소리  이충렬  2009-01-15   장편  한국    20  19259975032  2962897  다큐멘터리   \n",
       "\n",
       "        영화구분  개봉연도       매출/스크린  \n",
       "258  독립/예술영화  2009  962998751.6  "
      ]
     },
     "execution_count": 79,
     "metadata": {},
     "output_type": "execute_result"
    }
   ],
   "source": [
    "df['매출/스크린'] = (df['매출액']/df['스크린수'])\n",
    "df[df['스크린수'] != 0].sort_values('매출/스크린', ascending=False)[:1]"
   ]
  },
  {
   "cell_type": "markdown",
   "metadata": {},
   "source": [
    "##### 평균매출이 가장 높은 장르는 무엇인가?"
   ]
  },
  {
   "cell_type": "code",
   "execution_count": 60,
   "metadata": {},
   "outputs": [
    {
     "data": {
      "text/plain": [
       "장르\n",
       "사극    4.059458e+09\n",
       "Name: 매출액, dtype: float64"
      ]
     },
     "execution_count": 60,
     "metadata": {},
     "output_type": "execute_result"
    }
   ],
   "source": [
    "df.groupby('장르')['매출액'].mean().sort_values(ascending=False)[:1]"
   ]
  },
  {
   "cell_type": "markdown",
   "metadata": {},
   "source": [
    "##### 연도별 개봉영화수 추이를 line chart로 표시하시오."
   ]
  },
  {
   "cell_type": "code",
   "execution_count": 82,
   "metadata": {},
   "outputs": [
    {
     "data": {
      "text/plain": [
       "array(['2014', '2019', '2017', '2009', '2015', '2006', '2012', '2013',\n",
       "       '2005', '2018', '2004', '2016', '2003', '2007', '2008', '2011',\n",
       "       '2010', '1999', '2002', '1977', '0', '1998', '1994', '1997',\n",
       "       '2001', '1986', '1993', '1991', '1988', '1996', '1990', '1987',\n",
       "       '1995', '1981', '1992', '2000', '1989', '1984', '1982', '1980',\n",
       "       '1983', '1985', '1972', '1979', '1971', '1978', '1973', '1974',\n",
       "       '1975', '1976', '1962', '1968'], dtype=object)"
      ]
     },
     "execution_count": 82,
     "metadata": {},
     "output_type": "execute_result"
    }
   ],
   "source": [
    "df['개봉연도'].unique()"
   ]
  },
  {
   "cell_type": "code",
   "execution_count": 105,
   "metadata": {},
   "outputs": [
    {
     "data": {
      "text/plain": [
       "<matplotlib.axes._subplots.AxesSubplot at 0x16682036af0>"
      ]
     },
     "execution_count": 105,
     "metadata": {},
     "output_type": "execute_result"
    },
    {
     "data": {
      "image/png": "[encoded data removed]",
      "text/plain": [
       "<Figure size 432x288 with 1 Axes>"
      ]
     },
     "metadata": {
      "needs_background": "light"
     },
     "output_type": "display_data"
    }
   ],
   "source": [
    "df['개봉연도'] = df.개봉일.apply(lambda x : str(x)[:4])    # 개봉일에서 연도추출\n",
    "df[df.개봉연도 != '0'].groupby('개봉연도')['국적'].count().plot()"
   ]
  },
  {
   "cell_type": "markdown",
   "metadata": {},
   "source": [
    "##### 12 개월 중 영화개봉수가 가장 많은 달과 적은 달을 표시하시오."
   ]
  },
  {
   "cell_type": "code",
   "execution_count": 135,
   "metadata": {
    "scrolled": true
   },
   "outputs": [
    {
     "name": "stdout",
     "output_type": "stream",
     "text": [
      "가장 적은 달은 2\n",
      "가장 많은 달은 11\n"
     ]
    }
   ],
   "source": [
    "mon = []\n",
    "df['Month'] = df.개봉일.apply(lambda x : str(x)[5:7])\n",
    "for i, j  in enumerate (df[df.Month != ''].groupby('Month')['영화명'].count()):\n",
    "    mon.append([i+1,j])\n",
    "\n",
    "for i in mon :\n",
    "    if i[1] == df[df.Month != ''].groupby('Month')['영화명'].count().max() :\n",
    "        print('가장 많은 달은', i[0])\n",
    "    elif i[1] == df[df.Month != ''].groupby('Month')['영화명'].count().min() :\n",
    "        print('가장 적은 달은', i[0])\n"
   ]
  },
  {
   "cell_type": "code",
   "execution_count": 162,
   "metadata": {
    "scrolled": true
   },
   "outputs": [
    {
     "name": "stdout",
     "output_type": "stream",
     "text": [
      "        영화명\n",
      "Month      \n",
      "11     1796\n",
      "        영화명\n",
      "Month      \n",
      "02     1401\n"
     ]
    }
   ],
   "source": [
    "mon = []\n",
    "df['Month'] = df.개봉일.apply(lambda x : str(x)[5:7])\n",
    "mm = pd.DataFrame(df[df.Month != ''].groupby('Month')['영화명'].count())\n",
    "print(mm[mm.영화명 == mm.영화명.max()])\n",
    "print(mm[mm.영화명 == mm.영화명.min()])"
   ]
  },
  {
   "cell_type": "markdown",
   "metadata": {},
   "source": [
    "##### 역대 영화평균 관객수가 가장 많은 감독은 누구인가?"
   ]
  },
  {
   "cell_type": "code",
   "execution_count": 122,
   "metadata": {},
   "outputs": [
    {
     "data": {
      "text/plain": [
       "감독\n",
       "크리스 벅,제니퍼 리    10296101.0\n",
       "Name: 관객수, dtype: float64"
      ]
     },
     "execution_count": 122,
     "metadata": {},
     "output_type": "execute_result"
    }
   ],
   "source": [
    "df.groupby('감독')['관객수'].mean().sort_values()[-1:]"
   ]
  },
  {
   "cell_type": "code",
   "execution_count": null,
   "metadata": {},
   "outputs": [],
   "source": []
  }
 ],
 "metadata": {
  "kernelspec": {
   "display_name": "Python 3",
   "language": "python",
   "name": "python3"
  },
  "language_info": {
   "codemirror_mode": {
    "name": "ipython",
    "version": 3
   },
   "file_extension": ".py",
   "mimetype": "text/x-python",
   "name": "python",
   "nbconvert_exporter": "python",
   "pygments_lexer": "ipython3",
   "version": "3.8.3"
  }
 },
 "nbformat": 4,
 "nbformat_minor": 4
}
