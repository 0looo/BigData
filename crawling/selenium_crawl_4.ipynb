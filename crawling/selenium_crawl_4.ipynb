{
 "cells": [
  {
   "cell_type": "markdown",
   "metadata": {},
   "source": [
    "### 세부내역 지정에도 url이 고정인 사이트에서 원하는 데이터 추출\n",
    "* selenium 사용\n",
    "* http://marketdata.krx.co.kr/mdi#document=040301"
   ]
  },
  {
   "cell_type": "code",
   "execution_count": 2,
   "metadata": {},
   "outputs": [
    {
     "name": "stdout",
     "output_type": "stream",
     "text": [
      "다운로드할 사이트주소를 입력하세요 : http://marketdata.krx.co.kr/mdi#document=040301\n",
      "파일을 다운로드할 폴더를 입력하세요 : ./file_down/\n",
      "입력하신 폴더를 생성했습니다.\n"
     ]
    }
   ],
   "source": [
    "from bs4 import BeautifulSoup\n",
    "from selenium import webdriver\n",
    "\n",
    "import time\n",
    "import os\n",
    "\n",
    "target_url = input('다운로드할 사이트주소를 입력하세요 : ')\n",
    "target_dir = input('파일을 다운로드할 폴더를 입력하세요 : ')\n",
    "\n",
    "if os.path.isdir(target_dir):\n",
    "    print('입력하신 폴더에 저장하겠습니다')\n",
    "else :\n",
    "    os.mkdir(target_dir)\n",
    "    print('입력하신 폴더를 생성했습니다.')"
   ]
  },
  {
   "cell_type": "markdown",
   "metadata": {},
   "source": [
    "#### kospi -> csi 파일 다운로드"
   ]
  },
  {
   "cell_type": "code",
   "execution_count": 14,
   "metadata": {},
   "outputs": [],
   "source": [
    "driver = webdriver.Chrome('./chromedriver')        # ()사이에 미작성시 디렉토리의 파일 실행\n",
    "driver.get(target_url)\n",
    "driver.set_window_size(1600,1000)     # 광고창 닫기 버튼이 안들어옴\n",
    "time.sleep(3)     # 일부누락방지 위한 시간 딜레이 지정\n",
    "\n",
    "driver.find_element_by_id('gubun1a87ff679a2f3e71d9181a67b7542122c').click()\n",
    "driver.find_element_by_id('btnidc81e728d9d4c2f636f067f89cc14862c').click()\n",
    "time.sleep(4)\n",
    "\n",
    "driver.find_element_by_xpath('//*[@id=\"e4da3b7fbbce2345d7772b0674a318d5\"]/button[4]').click()  # 다운로드폴더에 저장됨"
   ]
  },
  {
   "cell_type": "code",
   "execution_count": null,
   "metadata": {},
   "outputs": [],
   "source": []
  }
 ],
 "metadata": {
  "kernelspec": {
   "display_name": "Python 3",
   "language": "python",
   "name": "python3"
  },
  "language_info": {
   "codemirror_mode": {
    "name": "ipython",
    "version": 3
   },
   "file_extension": ".py",
   "mimetype": "text/x-python",
   "name": "python",
   "nbconvert_exporter": "python",
   "pygments_lexer": "ipython3",
   "version": "3.8.3"
  }
 },
 "nbformat": 4,
 "nbformat_minor": 4
}
