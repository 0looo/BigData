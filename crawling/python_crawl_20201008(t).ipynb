{
 "cells": [
  {
   "cell_type": "code",
   "execution_count": null,
   "metadata": {},
   "outputs": [],
   "source": [
    "# 1. url주소를 가져옴\n",
    "# 2. html = requests(url)     # requests를 통해 web html source를 가져옴\n",
    "# 3. soup = BeautifulSoup(html.text, 'html.parser')      # BeautifulSoup html source 읽기 \n",
    "# 4. res = soup.select(path)  # parsing - html 내에서 원하는 tag를 추출..\n",
    "# 5. res.text                 # text추출\n",
    "#    res.['속성']             #  속성값 추출\n",
    "\n",
    "# 4. 저장된 방대한 html에서 원하는 부분의 element를 가져오기 - 핵심\n",
    "# => chrome > 개발자도구 > select an element > 원하는 부분 선택 > script \n",
    "#   > copy selector > element path(경로)\n",
    "# => 위의 방식이 100% 작동하지 않는다 => 수동으로 경로를 찾아서 입력.. => 노가다.."
   ]
  },
  {
   "cell_type": "code",
   "execution_count": 1,
   "metadata": {},
   "outputs": [],
   "source": [
    "# select() -  태그, 속성, 경로를 통해서 원하는 element를 추출\n",
    "# find_all() -  태그 나 속성 중심으로 원하는 element를 추출"
   ]
  },
  {
   "cell_type": "code",
   "execution_count": null,
   "metadata": {},
   "outputs": [],
   "source": [
    "# select('.title') - title class가 적용된 element를 모두 가져옴.\n",
    "# select('#search') -  search라는 id가 적용된 element를 모두 가져옴.\n",
    "# select('div.title') -  title class가  적용된 div 태그만 가져옴\n",
    "# select('p#search') - search라는 id가 적용된 p태그들을 가져옴.\n",
    "# select('div > p') - div 태그 바로 아래 p태그를 가져옴\n",
    "# select('div p') - div 태그 아래 모든 p태그를 가져옴\n",
    "# select('a['href']') - a 태그에 href속성의 속성값을 가져옴."
   ]
  },
  {
   "cell_type": "code",
   "execution_count": null,
   "metadata": {},
   "outputs": [],
   "source": [
    "# BeautifulSoup(html.text, <parsing 방식>) \n",
    "\n",
    "# * parsing 방식\n",
    "# => 'html.parser' - 일반적으로\n",
    "# => 'html5lib' - \n",
    "# => 'lxml'  - lxml을 파싱하는 경우, 속도가 가장 빠르다.."
   ]
  },
  {
   "cell_type": "code",
   "execution_count": 3,
   "metadata": {},
   "outputs": [],
   "source": [
    "from bs4 import BeautifulSoup \n",
    "import requests"
   ]
  },
  {
   "cell_type": "code",
   "execution_count": 4,
   "metadata": {},
   "outputs": [],
   "source": [
    "html = '''\n",
    "<html>\n",
    "    <head>\n",
    "        <title> HTML 연습 </title>\n",
    "    </head>\n",
    "    <body>\n",
    "        <p align=\"center\"> text 1 </p>\n",
    "        <h2> python programming 1 </h2>\n",
    "        <h2 id='test3'> python programming 2 </h2>            \n",
    "        <p class=\"center\"> text 2 </p>\n",
    "        <h2> hello world </h2>\n",
    "        <p align=\"center\"> text 3 </p>\n",
    "        <div class='test1'> text 4 </div>\n",
    "        <div id='test2'> text 5 </div>\n",
    "        <span> text 6 </span>\n",
    "        <img src=\"c:\\\\temp\\\\image\\\\솔개.png\">\n",
    "    </body>\n",
    "</html> '''"
   ]
  },
  {
   "cell_type": "code",
   "execution_count": 6,
   "metadata": {},
   "outputs": [],
   "source": [
    "soup = BeautifulSoup(html, 'html.parser')"
   ]
  },
  {
   "cell_type": "code",
   "execution_count": 7,
   "metadata": {
    "collapsed": true
   },
   "outputs": [
    {
     "data": {
      "text/plain": [
       "[<p align=\"center\"> text 1 </p>,\n",
       " <p class=\"center\"> text 2 </p>,\n",
       " <p align=\"center\"> text 3 </p>]"
      ]
     },
     "execution_count": 7,
     "metadata": {},
     "output_type": "execute_result"
    }
   ],
   "source": [
    "soup.select('p')"
   ]
  },
  {
   "cell_type": "code",
   "execution_count": 8,
   "metadata": {
    "collapsed": true
   },
   "outputs": [
    {
     "data": {
      "text/plain": [
       "[<h2> python programming 1 </h2>,\n",
       " <h2 id=\"test3\"> python programming 2 </h2>,\n",
       " <h2> hello world </h2>]"
      ]
     },
     "execution_count": 8,
     "metadata": {},
     "output_type": "execute_result"
    }
   ],
   "source": [
    "soup.select('h2')"
   ]
  },
  {
   "cell_type": "code",
   "execution_count": 10,
   "metadata": {},
   "outputs": [
    {
     "data": {
      "text/plain": [
       "[<p class=\"center\"> text 2 </p>]"
      ]
     },
     "execution_count": 10,
     "metadata": {},
     "output_type": "execute_result"
    }
   ],
   "source": [
    "soup.select('p.center')"
   ]
  },
  {
   "cell_type": "code",
   "execution_count": null,
   "metadata": {},
   "outputs": [],
   "source": []
  },
  {
   "cell_type": "code",
   "execution_count": null,
   "metadata": {},
   "outputs": [],
   "source": []
  }
 ],
 "metadata": {
  "kernelspec": {
   "display_name": "Python 3",
   "language": "python",
   "name": "python3"
  },
  "language_info": {
   "codemirror_mode": {
    "name": "ipython",
    "version": 3
   },
   "file_extension": ".py",
   "mimetype": "text/x-python",
   "name": "python",
   "nbconvert_exporter": "python",
   "pygments_lexer": "ipython3",
   "version": "3.8.3"
  }
 },
 "nbformat": 4,
 "nbformat_minor": 4
}
