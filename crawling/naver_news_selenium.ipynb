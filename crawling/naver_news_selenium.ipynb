{
 "cells": [
  {
   "cell_type": "markdown",
   "metadata": {},
   "source": [
    "### 네이버 뉴스에서 검색 결과 - 제목, 요약, 본문link, 날짜, 언론사... 출력"
   ]
  },
  {
   "cell_type": "code",
   "execution_count": 93,
   "metadata": {},
   "outputs": [],
   "source": [
    "from bs4 import BeautifulSoup as bs\n",
    "from selenium import webdriver\n",
    "driver = webdriver.Chrome('./chromedriver')"
   ]
  },
  {
   "cell_type": "code",
   "execution_count": 98,
   "metadata": {},
   "outputs": [],
   "source": [
    "url = 'https://search.naver.com/search.naver?&where=news&query=%EA%B0%9C%EB%AF%B8%EB%8A%94%20%EC%98%A4%EB%8A%98%EB%8F%84%20%EB%9A%A0%EB%9A%A0&sm=tab_tmr&frm=mr&nso=so:r,p:all,a:all&sort=0'\n",
    "driver.get(url)\n",
    "html = requests"
   ]
  },
  {
   "cell_type": "code",
   "execution_count": 97,
   "metadata": {},
   "outputs": [
    {
     "data": {
      "text/plain": [
       "[]"
      ]
     },
     "execution_count": 97,
     "metadata": {},
     "output_type": "execute_result"
    }
   ],
   "source": [
    "html = driver.page_source\n",
    "soup = bs(html,'html.parser')\n",
    "txt = soup.select('ul.type01')\n",
    "txt"
   ]
  },
  {
   "cell_type": "code",
   "execution_count": 25,
   "metadata": {},
   "outputs": [
    {
     "data": {
      "text/plain": [
       "10"
      ]
     },
     "execution_count": 25,
     "metadata": {},
     "output_type": "execute_result"
    }
   ],
   "source": [
    "# title\n",
    "txt.select('dt> a')"
   ]
  },
  {
   "cell_type": "code",
   "execution_count": 71,
   "metadata": {},
   "outputs": [
    {
     "data": {
      "text/plain": [
       "'http://www.aitimes.com/news/articleView.html?idxno=132756'"
      ]
     },
     "execution_count": 71,
     "metadata": {},
     "output_type": "execute_result"
    }
   ],
   "source": [
    "# Link\n",
    "txt.select('dt> a')[0]['href']"
   ]
  },
  {
   "cell_type": "code",
   "execution_count": 78,
   "metadata": {
    "scrolled": true
   },
   "outputs": [
    {
     "data": {
      "text/plain": [
       "'ITWorld  23시간 전'"
      ]
     },
     "execution_count": 78,
     "metadata": {},
     "output_type": "execute_result"
    }
   ],
   "source": [
    "# press & date\n",
    "txt.select('dd.txt_inline')[1].text.split('보내기')[0].strip()"
   ]
  },
  {
   "cell_type": "code",
   "execution_count": 89,
   "metadata": {},
   "outputs": [
    {
     "data": {
      "text/plain": [
       "20"
      ]
     },
     "execution_count": 89,
     "metadata": {},
     "output_type": "execute_result"
    }
   ],
   "source": [
    "# Summary\n",
    "len(txt.select('dl > dd'))"
   ]
  },
  {
   "cell_type": "code",
   "execution_count": null,
   "metadata": {},
   "outputs": [],
   "source": []
  },
  {
   "cell_type": "code",
   "execution_count": null,
   "metadata": {},
   "outputs": [],
   "source": [
    "# 종합"
   ]
  },
  {
   "cell_type": "code",
   "execution_count": 91,
   "metadata": {},
   "outputs": [
    {
     "name": "stdout",
     "output_type": "stream",
     "text": [
      "====================\n",
      "Titlem :  파이토치가 텐서플로우를 이겼다, 2020 AI현황보고서 8대 전망\n",
      "Link :  http://www.aitimes.com/news/articleView.html?idxno=132756\n",
      "Press & Date :  AI타임스  6시간 전\n",
      "Summary :  또한, 파이썬은 세계 프로그래밍 언어 인기 순위인 TIOBE 인덱스에서 최근 사상 최고 성적을 기록하며 1.... 즉, 딥러닝 분야에서 연구가 활발히 이루어짐에 따라 데이터 처리에 유용한 파이썬이 강세를 보이고...\n",
      "====================\n",
      "Titlem :  2020년 가장 가치 있는 소프트웨어 개발 기술\n",
      "Link :  http://www.itworld.co.kr/news/167560\n",
      "Press & Date :  ITWorld  1일 전\n",
      "Summary :  PHP에서 파이썬으로의 전환은 프랑스어를 새로 배우는 것과는 전혀 다르다”고 말했다. 예를 들어... 파이썬도 있다. 파이썬은 지난 10년 동안 빠르게 순위를 높여왔다. 파이썬은 데이터 과학자에게 인기가 높은...\n",
      "====================\n",
      "Titlem :  티오베 언어 순위, ‘파이썬’ 자바 위치 넘본다\n",
      "Link :  https://zdnet.co.kr/view/?no=20201006114636\n",
      "Press & Date :  ZDNet Korea  7일 전  네이버뉴스\n",
      "Summary :  파이썬이 티오베의 프로그래밍 언어 순위에서 자바의 뒤를 바싹 추적 중이다. 이번 순위는 인공지능(AI), 빅데이터 분야를 필두로 한 파이썬의 성장이 두드러졌다. 개발 트렌드의 변화로 인한 자바의 하락세도 영향이...\n",
      "====================\n",
      "Titlem :  파이썬 초중급자를 위한 유무료 강좌 5선\n",
      "Link :  http://www.ciokorea.com/news/166610\n",
      "Press & Date :  CIO Korea  7일 전\n",
      "Summary :  이제 막 파이썬을 배우기 시작했거나 머신러닝이나 웹 개발 심층연구를 하고 싶다면 아래의 유무료 강좌를 참고하면 좋다. 파이썬은 배우기도 쉽고 사용하기도 쉽다. 하지만 그렇다고 해서 파이썬 프로그래머...\n",
      "====================\n",
      "Titlem :  한국경영인증원, 관악구와 파이썬(Python)을 활용한 데이터 사이언스(Data Sc...\n",
      "Link :  http://www.fntoday.co.kr/news/articleView.html?idxno=234306\n",
      "Press & Date :  파이낸스투데이  2020.10.05.\n",
      "Summary :  한국경영인증원(KMR)과 서울시 관악구청 청년정책과는 청년을 대상으로 데이터 사이언스(Data Science) 분야 역량강화를 위한 파이썬(Python) 무료 교육을 실시한다고 밝혔다. 관악구는 구민들을 대상으로 Data Science...\n",
      "====================\n",
      "Titlem :  TIOBE 코딩 언어 순위, 파이썬 2위 달성 코앞\n",
      "Link :  http://www.aitimes.com/news/articleView.html?idxno=132573\n",
      "Press & Date :  AI타임스  2020.10.05.\n",
      "Summary :  파이썬(Python)이 세계 프로그래밍 언어 인기 순위인 TIOBE 인덱스에서 사상 최고 성적을 기록했다. 이는 학계 및 산업계에서 인공지능(AI) 활용도가 높아지면서 빅데이터 분석 등에 활용되는 파이썬...\n",
      "====================\n",
      "Titlem :  한국경영인증원, 관악구와 파이썬 활용 데이터 사이언스 비대면 무료교육 실시\n",
      "Link :  http://www.dt.co.kr/contents.html?article_no=2020092902109919039021&ref=naver\n",
      "Press & Date :  디지털타임스  2020.10.02.  네이버뉴스\n",
      "Summary :  한국경영인증원(KMR)과 서울시 관악구청 청년정책과는 청년을 대상으로 데이터 사이언스(Data Science) 분야 역량강화를 위한 파이썬(Python) 무료 교육을 실시한다고 2일 밝혔다. 관악구는 구민들을 대상으로 Data Science...\n",
      "====================\n",
      "Titlem :  코로나 취업난 속 이공계 채용만... \"오늘도 문과는 웁니다\"\n",
      "Link :  http://www.edaily.co.kr/news/newspath.asp?newsid=01200486625929968&snapkey=48013,취준생,20대,채용,취업,디지털,취업난,구직난,IT기업,문과,문송,디지털역량\n",
      "Press & Date :  이데일리  2020.10.05.  네이버뉴스\n",
      "Summary :  코딩이나 파이썬 등을 배우려는 노력도 이어지고 있다. 메가스터디 IT 아카데미 관계자는 “기업 채용... 취업 준비를 위해 파이썬 스터디를 꾸렸던 신 모씨(29·남)는 “이미 스펙 과열인 문과생들에게 디지털 역량도...\n",
      "====================\n",
      "Titlem :  [포커스 인①] 자바·파이썬 기반 머신러닝 빅데이터의 미래는 소통과 협업, ...\n",
      "Link :  http://edu.donga.com/?p=article&ps=view&at_no=20200929113908385220\n",
      "Press & Date :  에듀동아  2020.09.29.\n",
      "Summary :  많은 양의 비정형 데이터를 자바(Java), 파이썬(Python), 하둡(Hadoop), 빅데이터R 등 정보통신기술을 활용해... 공정(파이썬+빅데이터+사물인터넷))이 추진 중이다. 비대면 온라인 수업과 오프라인 현장 수업을 강화한...\n",
      "====================\n",
      "Titlem :  유튜버 주간컴공, '프리패스 파이썬' 도서 출간...‘무료 인강’도 제공\n",
      "Link :  https://nc.asiae.co.kr/view.htm?idxno=2020092516282980495\n",
      "Press & Date :  뉴스컬처  2020.09.25.\n",
      "Summary :  유튜버 주간컴공이 ‘프리패스 파이썬’ 도서를 출간하며, 이와 관련된 무료 인터넷 강의도 함께 제공한다고... 지난 24일에 파이썬에 대한 첫 강좌가 업로드 됐고, 해당 영상에서 ‘프리패스 파이썬’ 도서출간 소식과...\n"
     ]
    }
   ],
   "source": [
    "from selenium import webdriver\n",
    "from selenium.webdriver.common.keys import Keys\n",
    "driver = webdriver.Chrome('./chromedriver')\n",
    "\n",
    "url = 'https://www.naver.com/'\n",
    "driver.get(url)\n",
    "elem = driver.find_element_by_id('query')\n",
    "elem.send_keys('파이썬')\n",
    "elem.send_keys(Keys.RETURN)\n",
    "driver.find_element_by_link_text('뉴스').click()  # 네이버 검색 후 뉴스페이지 띄우기\n",
    "\n",
    "from bs4 import BeautifulSoup as bs  # 내용 추출\n",
    "html = driver.page_source\n",
    "soup = bs(html,'html.parser')\n",
    "txt = soup.select('ul.type01')[0]  # 전체적인 범위 잡기\n",
    "\n",
    "for i in range(10) :\n",
    "    print('='*20)\n",
    "    print('Titlem : ',txt.select('dt>a')[i].text)   # Title\n",
    "    print('Link : ', txt.select('dt> a')[i]['href'])  # Link\n",
    "    print('Press & Date : ',txt.select('dd.txt_inline')[i].text.split('보내기')[0].strip())  # Press, Date\n",
    "    print('Summary : ',txt.select('dl > dd')[2*i+1].text )  # Summary\n",
    "driver.quit()"
   ]
  },
  {
   "cell_type": "code",
   "execution_count": null,
   "metadata": {},
   "outputs": [],
   "source": []
  },
  {
   "cell_type": "code",
   "execution_count": null,
   "metadata": {},
   "outputs": [],
   "source": []
  },
  {
   "cell_type": "code",
   "execution_count": null,
   "metadata": {},
   "outputs": [],
   "source": []
  }
 ],
 "metadata": {
  "kernelspec": {
   "display_name": "Python 3",
   "language": "python",
   "name": "python3"
  },
  "language_info": {
   "codemirror_mode": {
    "name": "ipython",
    "version": 3
   },
   "file_extension": ".py",
   "mimetype": "text/x-python",
   "name": "python",
   "nbconvert_exporter": "python",
   "pygments_lexer": "ipython3",
   "version": "3.8.3"
  }
 },
 "nbformat": 4,
 "nbformat_minor": 4
}
