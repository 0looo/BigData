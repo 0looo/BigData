{
 "cells": [
  {
   "cell_type": "markdown",
   "metadata": {},
   "source": [
    "### 네이버 뉴스에서 검색 결과 - 제목, 요약, 본문link, 날짜, 언론사... 출력"
   ]
  },
  {
   "cell_type": "code",
   "execution_count": 103,
   "metadata": {},
   "outputs": [],
   "source": [
    "from bs4 import BeautifulSoup as bs\n",
    "from selenium import webdriver\n",
    "driver = webdriver.Chrome('./chromedriver')"
   ]
  },
  {
   "cell_type": "code",
   "execution_count": 104,
   "metadata": {},
   "outputs": [],
   "source": [
    "url = 'https://search.naver.com/search.naver?&where=news&query=%EA%B0%9C%EB%AF%B8%EB%8A%94%20%EC%98%A4%EB%8A%98%EB%8F%84%20%EB%9A%A0%EB%9A%A0&sm=tab_tmr&frm=mr&nso=so:r,p:all,a:all&sort=0'\n",
    "driver.get(url)\n",
    "html = requests"
   ]
  },
  {
   "cell_type": "code",
   "execution_count": 107,
   "metadata": {
    "collapsed": true
   },
   "outputs": [
    {
     "data": {
      "text/plain": [
       "<ul class=\"type01\"> <li id=\"sp_nws1\"> <div class=\"thumb\"><a class=\"sp_thmb thmb80\" href=\"http://sports.chosun.com/news/ntype.htm?id=202010120100077650005334&amp;servicedate=20201012\" onclick=\"return goOtherCR(this, 'a=nws*a.img&amp;r=1&amp;i=880000D3_000000000000000003641808&amp;g=076.0003641808&amp;u='+urlencode(this.href));\" target=\"_blank\"><img alt=\"‘개미는 뚠뚠‘ 노홍철\" class=\"\" height=\"80\" onerror=\"this.parentNode.style.display='none';\" src=\"https://search.pstatic.net/common/?src=https%3A%2F%2Fimgnews.pstatic.net%2Fimage%2Forigin%2F076%2F2020%2F10%2F12%2F3641808.jpg&amp;type=ofullfill80_80_q75_re2\" width=\"80\"/><span class=\"thmb_v\"></span></a></div> <dl> <dt><a class=\"_sp_each_title\" href=\"http://sports.chosun.com/news/ntype.htm?id=202010120100077650005334&amp;servicedate=20201012\" onclick=\"return goOtherCR(this, 'a=nws*a.tit&amp;r=1&amp;i=880000D3_000000000000000003641808&amp;g=076.0003641808&amp;u='+urlencode(this.href));\" target=\"_blank\" title=\"'개미는 뚠뚠' 노홍철 &quot;출연료+개인돈 주식 투자했다가 막대한 손해 봐&quot;\">'<strong class=\"hl\">개미는</strong> <strong class=\"hl\">뚠뚠</strong>' 노홍철 \"출연료+개인돈 주식 투자했다가 막대한 손해 봐\"</a></dt> <dd class=\"txt_inline\"><span class=\"_sp_each_source\">스포츠조선</span> <span class=\"bar\"></span> 1일 전 <span class=\"bar\"></span> <a class=\"_sp_each_url\" href=\"https://news.naver.com/main/read.nhn?mode=LSD&amp;mid=sec&amp;sid1=106&amp;oid=076&amp;aid=0003641808\" onclick=\"return goOtherCR(this, 'a=nws*a.nav&amp;r=1&amp;i=880000D3_000000000000000003641808&amp;u='+urlencode(this.href));\" target=\"_blank\">네이버뉴스</a> <div class=\"scial\" id=\"sp_nws1_base\"> <span class=\"bar\"></span> <a class=\"bt_scial2 naver-splugin\" data-oninitialize=\"splugin_oninitialize('sp_nws1');\" data-style=\"unity-v2\" href=\"#\" onclick=\"goOtherTCR(this, 'a=nws*a.pplugin&amp;r=1&amp;i=880000D3_000000000000000003641808&amp;u='+urlencode(this.href)); return false;\" splugin-id=\"9582131107\">보내기</a> </div> </dd> <dd>이날 미디어간담회에는 화요일 코너 '톡이나 할까'의 김이나 작사가, 수요일 코너 '<strong class=\"hl\">개미는 오늘도 뚠뚠</strong>'의 노홍철·딘딘, 목요일 코너 'YO! 너두'의 비와이, 금요일 코너 '밤을 걷는 밤'의 유희열, 그리고 박진경 CP, 권성민...</dd> <dd> <ul class=\"relation_lst\"> <li> <span class=\"ico_bu\"></span> <a href=\"http://www.xportsnews.com/?ac=article_view&amp;entry_id=1336092\" onclick=\"return goOtherCR(this, 'a=nws*c.tit&amp;r=2&amp;i=880005B6_000000000000000001211602&amp;g=311.0001211602&amp;u='+urlencode(this.href));\" target=\"_blank\" title=\"'개미는 오늘도 뚠뚠' 노홍철 &quot;출연 목적? 출연료 아니라 투자하러 온 것&quot;\">'<strong class=\"hl\">개미는 오늘도 뚠뚠</strong>' 노홍철 \"출연 목적? 출연료 아니라 투자하러 온 것\"</a> <span class=\"txt_sinfo\"> <span class=\"press\" title=\"엑스포츠뉴스\">엑스포츠뉴스</span> <span class=\"bar\"></span> 1일 전 <span class=\"bar\"></span><a class=\"_sp_each_url\" href=\"https://news.naver.com/main/read.nhn?mode=LSD&amp;mid=sec&amp;sid1=106&amp;oid=311&amp;aid=0001211602\" onclick=\"return goOtherCR(this, 'a=nws*c.nav&amp;r=2&amp;i=880005B6_000000000000000001211602&amp;u='+urlencode(this.href));\" target=\"_blank\">네이버뉴스</a> </span> </li> <li> <span class=\"ico_bu\"></span> <a href=\"http://www.mydaily.co.kr/new_yk/html/read.php?newsid=202010121648769364&amp;ext=na\" onclick=\"return goOtherCR(this, 'a=nws*c.tit&amp;r=3&amp;i=880000BB_000000000000000003417603&amp;g=117.0003417603&amp;u='+urlencode(this.href));\" target=\"_blank\" title=\"노홍철·딘딘, 나란히 주식 투자 실패…&quot;출연료 대출 받아&quot; ('개미는 오늘도 뚠뚠')\">노홍철·딘딘, 나란히 주식 투자 실패…\"출연료 대출 받아\" ('<strong class=\"hl\">개미는 오늘도</strong> ...</a> <span class=\"txt_sinfo\"> <span class=\"press\" title=\"마이데일리\">마이데일리</span> <span class=\"bar\"></span> 1일 전 <span class=\"bar\"></span><a class=\"_sp_each_url\" href=\"https://news.naver.com/main/read.nhn?mode=LSD&amp;mid=sec&amp;sid1=106&amp;oid=117&amp;aid=0003417603\" onclick=\"return goOtherCR(this, 'a=nws*c.nav&amp;r=3&amp;i=880000BB_000000000000000003417603&amp;u='+urlencode(this.href));\" target=\"_blank\">네이버뉴스</a> </span> </li> <li> <span class=\"ico_bu\"></span> <a href=\"http://www.joynews24.com/view/1306387\" onclick=\"return goOtherCR(this, 'a=nws*d.tit&amp;r=4&amp;i=8818b64c_000000000000000000074502&amp;g=5712.0000074502&amp;u='+urlencode(this.href));\" target=\"_blank\" title=\"'개미는 뚠뚠' 노홍철 &quot;주식투자 13년차 '홍반꿀'…수염은 멋으로 기른것&quot;\">'<strong class=\"hl\">개미는</strong> <strong class=\"hl\">뚠뚠</strong>' 노홍철 \"주식투자 13년차 '홍반꿀'…수염은 멋으로 기른것\"</a> <span class=\"txt_sinfo\"> <span class=\"press\" title=\"조이뉴스24\">조이뉴스24</span> <span class=\"bar\"></span> 1일 전 </span> </li> <li> <span class=\"ico_bu\"></span> <a href=\"http://www.xportsnews.com/?ac=article_view&amp;entry_id=1336152\" onclick=\"return goOtherCR(this, 'a=nws*c.tit&amp;r=5&amp;i=880005B6_000000000000000001211687&amp;g=311.0001211687&amp;u='+urlencode(this.href));\" target=\"_blank\" title=\"'카카오TV모닝' 딘딘 &quot;주식 수익률? 투자 위해 신용대출 100만원&quot; [엑's 이슈]\">'카카오TV모닝' 딘딘 \"주식 수익률? 투자 위해 신용대출 100만원\" [엑's 이슈...</a> <span class=\"txt_sinfo\"> <span class=\"press\" title=\"엑스포츠뉴스\">엑스포츠뉴스</span> <span class=\"bar\"></span> 23시간 전 <span class=\"bar\"></span><a class=\"_sp_each_url\" href=\"https://news.naver.com/main/read.nhn?mode=LSD&amp;mid=sec&amp;sid1=106&amp;oid=311&amp;aid=0001211687\" onclick=\"return goOtherCR(this, 'a=nws*c.nav&amp;r=5&amp;i=880005B6_000000000000000001211687&amp;u='+urlencode(this.href));\" target=\"_blank\">네이버뉴스</a> </span> </li> </ul> <div class=\"newr_more\"> <a class=\"more_news\" href=\"#\" onclick=\"news_submit_related_option('0760003641808', 0, 'nws*r.more'); return false;\">관련뉴스 5건 전체보기</a> </div> </dd> </dl> </li> <li id=\"sp_nws6\"> <div class=\"thumb\"><a class=\"sp_thmb thmb80\" href=\"http://www.newsis.com/view/?id=NISX20201012_0001194519&amp;cID=10601&amp;pID=10600\" onclick=\"return goOtherCR(this, 'a=nws*a.img&amp;r=6&amp;i=88000127_000000000000000010121676&amp;g=003.0010121676&amp;u='+urlencode(this.href));\" target=\"_blank\"><img alt='이경규 \"재미 없으면 ' class=\"\" height=\"80\" onerror=\"this.parentNode.style.display='none';\" src=\"https://search.pstatic.net/common/?src=https%3A%2F%2Fimgnews.pstatic.net%2Fimage%2Forigin%2F003%2F2020%2F10%2F12%2F10121676.jpg&amp;type=ofullfill80_80_q75_re2\" width=\"80\"/><span class=\"thmb_v\"></span></a></div> <dl> <dt><a class=\"_sp_each_title\" href=\"http://www.newsis.com/view/?id=NISX20201012_0001194519&amp;cID=10601&amp;pID=10600\" onclick=\"return goOtherCR(this, 'a=nws*a.tit&amp;r=6&amp;i=88000127_000000000000000010121676&amp;g=003.0010121676&amp;u='+urlencode(this.href));\" target=\"_blank\" title='이경규 \"재미 없으면 떠날 것\"…카카오TV, 예능 新지평 열까(종합)'>이경규 \"재미 없으면 떠날 것\"…카카오TV, 예능 新지평 열까(종합)</a></dt> <dd class=\"txt_inline\"><span class=\"_sp_each_source\">뉴시스</span> <span class=\"bar\"></span> 23시간 전 <span class=\"bar\"></span> <a class=\"_sp_each_url\" href=\"https://news.naver.com/main/read.nhn?mode=LSD&amp;mid=sec&amp;sid1=106&amp;oid=003&amp;aid=0010121676\" onclick=\"return goOtherCR(this, 'a=nws*a.nav&amp;r=6&amp;i=88000127_000000000000000010121676&amp;u='+urlencode(this.href));\" target=\"_blank\">네이버뉴스</a> <div class=\"scial\" id=\"sp_nws6_base\"> <span class=\"bar\"></span> <a class=\"bt_scial2 naver-splugin\" data-oninitialize=\"splugin_oninitialize('sp_nws6');\" data-style=\"unity-v2\" href=\"#\" onclick=\"goOtherTCR(this, 'a=nws*a.pplugin&amp;r=6&amp;i=88000127_000000000000000010121676&amp;u='+urlencode(this.href)); return false;\" splugin-id=\"6521107240\">보내기</a> </div> </dd> <dd>뉴스 딜리버리 서비스'를 시작으로 화요일 '톡이나 할까', 수요일 '<strong class=\"hl\">개미는 오늘도 뚠뚠</strong>', 목요일 'YO! 너두', 금요일 '밤을 걷는 밤' 코너로 진행된다. 박진경 CP는 '카카오TV 모닝' 기획 의도에 대해 \"매주 아침에 보면 된다...</dd> <dd> <ul class=\"relation_lst\"> <li> <span class=\"ico_bu\"></span> <a href=\"http://star.mk.co.kr/new/view.php?mc=ST&amp;year=2020&amp;no=1044373\" onclick=\"return goOtherCR(this, 'a=nws*c.tit&amp;r=7&amp;i=880000BC_000000000000000004672922&amp;g=009.0004672922&amp;u='+urlencode(this.href));\" target=\"_blank\" title='\"어디서든 新예능\"…`카카오TV` 이경규→노홍철·김이나, 모바일로 보는 흥미진진 콘텐츠(종합)'>\"어디서든 新예능\"…`카카오TV` 이경규→노홍철·김이나, 모바일로 보는 흥미...</a> <span class=\"txt_sinfo\"> <span class=\"press\" title=\"매일경제\">매일경제</span> <span class=\"bar\"></span> 23시간 전 <span class=\"bar\"></span><a class=\"_sp_each_url\" href=\"https://news.naver.com/main/read.nhn?mode=LSD&amp;mid=sec&amp;sid1=106&amp;oid=009&amp;aid=0004672922\" onclick=\"return goOtherCR(this, 'a=nws*c.nav&amp;r=7&amp;i=880000BC_000000000000000004672922&amp;u='+urlencode(this.href));\" target=\"_blank\">네이버뉴스</a> </span> </li> <li> <span class=\"ico_bu\"></span> <a href=\"https://www.news1.kr/articles/?4084224\" onclick=\"return goOtherCR(this, 'a=nws*c.tit&amp;r=8&amp;i=08138263_000000000000000004921391&amp;g=421.0004921391&amp;u='+urlencode(this.href));\" target=\"_blank\" title='\"새 플랫폼 궁금\" 이경규·노홍철·유희열, 카카오TV로 간 이유(종합)'>\"새 플랫폼 궁금\" 이경규·노홍철·유희열, 카카오TV로 간 이유(종합)</a> <span class=\"txt_sinfo\"> <span class=\"press\" title=\"뉴스1\">뉴스1</span> <span class=\"bar\"></span> 1일 전 <span class=\"bar\"></span><a class=\"_sp_each_url\" href=\"https://news.naver.com/main/read.nhn?mode=LSD&amp;mid=sec&amp;sid1=106&amp;oid=421&amp;aid=0004921391\" onclick=\"return goOtherCR(this, 'a=nws*c.nav&amp;r=8&amp;i=08138263_000000000000000004921391&amp;u='+urlencode(this.href));\" target=\"_blank\">네이버뉴스</a> </span> </li> <li> <span class=\"ico_bu\"></span> <a href=\"http://www.newstomato.com/ReadNews.aspx?no=1000396\" onclick=\"return goOtherCR(this, 'a=nws*d.tit&amp;r=9&amp;i=88098046_000000000000000000762113&amp;g=5119.0000762113&amp;u='+urlencode(this.href));\" target=\"_blank\" title=\"카카오TV, 이제껏 본적 없는 모바일 새로운 예능 (종합)\">카카오TV, 이제껏 본적 없는 모바일 새로운 예능 (종합)</a> <span class=\"txt_sinfo\"> <span class=\"press\" title=\"뉴스토마토\">뉴스토마토</span> <span class=\"bar\"></span> 1일 전 </span> </li> <li> <span class=\"ico_bu\"></span> <a href=\"http://www.mydaily.co.kr/new_yk/html/read.php?newsid=202010121633345620&amp;ext=na\" onclick=\"return goOtherCR(this, 'a=nws*c.tit&amp;r=10&amp;i=880000BB_000000000000000003417589&amp;g=117.0003417589&amp;u='+urlencode(this.href));\" target=\"_blank\" title=\"'찐경규' 이경규→'내 꿈은 라이언'까지…카카오TV가 자신하는 웹 예능 6편 출격 [종합]\">'찐경규' 이경규→'내 꿈은 라이언'까지…카카오TV가 자신하는 웹 예능 6편 출...</a> <span class=\"txt_sinfo\"> <span class=\"press\" title=\"마이데일리\">마이데일리</span> <span class=\"bar\"></span> 1일 전 <span class=\"bar\"></span><a class=\"_sp_each_url\" href=\"https://news.naver.com/main/read.nhn?mode=LSD&amp;mid=sec&amp;sid1=106&amp;oid=117&amp;aid=0003417589\" onclick=\"return goOtherCR(this, 'a=nws*c.nav&amp;r=10&amp;i=880000BB_000000000000000003417589&amp;u='+urlencode(this.href));\" target=\"_blank\">네이버뉴스</a> </span> </li> </ul> <div class=\"newr_more\"> <a class=\"more_news\" href=\"#\" onclick=\"news_submit_related_option('0030010121676', 0, 'nws*r.more'); return false;\">관련뉴스 5건 전체보기</a> </div> </dd> </dl> </li> <li id=\"sp_nws11\"> <div class=\"thumb\"><a class=\"sp_thmb thmb80\" href=\"http://www.mydaily.co.kr/new_yk/html/read.php?newsid=202010121608486185&amp;ext=na\" onclick=\"return goOtherCR(this, 'a=nws*a.img&amp;r=11&amp;i=880000BB_000000000000000003417565&amp;g=117.0003417565&amp;u='+urlencode(this.href));\" target=\"_blank\"><img alt='노홍철 \"카카오TV 예능' class=\"\" height=\"80\" onerror=\"this.parentNode.style.display='none';\" src=\"https://search.pstatic.net/common/?src=https%3A%2F%2Fimgnews.pstatic.net%2Fimage%2Forigin%2F117%2F2020%2F10%2F12%2F3417565.jpg&amp;type=ofullfill80_80_q75_re2\" width=\"80\"/><span class=\"thmb_v\"></span></a></div> <dl> <dt><a class=\"_sp_each_title\" href=\"http://www.mydaily.co.kr/new_yk/html/read.php?newsid=202010121608486185&amp;ext=na\" onclick=\"return goOtherCR(this, 'a=nws*a.tit&amp;r=11&amp;i=880000BB_000000000000000003417565&amp;g=117.0003417565&amp;u='+urlencode(this.href));\" target=\"_blank\" title=\"노홍철 &quot;카카오TV 예능 출연→네이버 주식 샀다…난 파이어족&quot; ('개미는 오늘도 뚠뚠')\">노홍철 \"카카오TV 예능 출연→네이버 주식 샀다…난 파이어족\" ('<strong class=\"hl\">개미는 오늘</strong>...</a></dt> <dd class=\"txt_inline\"><span class=\"_sp_each_source\">마이데일리</span> <span class=\"bar\"></span> 1일 전 <span class=\"bar\"></span> <a class=\"_sp_each_url\" href=\"https://news.naver.com/main/read.nhn?mode=LSD&amp;mid=sec&amp;sid1=106&amp;oid=117&amp;aid=0003417565\" onclick=\"return goOtherCR(this, 'a=nws*a.nav&amp;r=11&amp;i=880000BB_000000000000000003417565&amp;u='+urlencode(this.href));\" target=\"_blank\">네이버뉴스</a> <div class=\"scial\" id=\"sp_nws11_base\"> <span class=\"bar\"></span> <a class=\"bt_scial2 naver-splugin\" data-oninitialize=\"splugin_oninitialize('sp_nws11');\" data-style=\"unity-v2\" href=\"#\" onclick=\"goOtherTCR(this, 'a=nws*a.pplugin&amp;r=11&amp;i=880000BB_000000000000000003417565&amp;u='+urlencode(this.href)); return false;\" splugin-id=\"592225029\">보내기</a> </div> </dd> <dd>이날 간담회에서 '주식 레벨 떡상 프로젝트'를 다루는 '<strong class=\"hl\">개미는 오늘도 뚠뚠</strong>'의 MC 노홍철은 \"10년 정도 방송을 하면 이젠 안 해본 걸 하거나 잘하는 걸 하는데, 여기선 새로운 걸 하게 해준다고 하셨다. 이 직업군에서의...</dd> <dd> <ul class=\"relation_lst\"> <li> <span class=\"ico_bu\"></span> <a href=\"https://www.newsen.com/news_view.php?uid=202010121602482410\" onclick=\"return goOtherCR(this, 'a=nws*c.tit&amp;r=12&amp;i=8818ae45_000000000000000000339145&amp;g=609.0000339145&amp;u='+urlencode(this.href));\" target=\"_blank\" title=\"‘개미는 오늘도 뚠뚠’ 노홍철 “카카오 송출 문제, 네이버 주식 샀다” 폭탄발언\">‘<strong class=\"hl\">개미는 오늘도 뚠뚠</strong>’ 노홍철 “카카오 송출 문제, 네이버 주식 샀다” 폭탄...</a> <span class=\"txt_sinfo\"> <span class=\"press\" title=\"뉴스엔\">뉴스엔</span> <span class=\"bar\"></span> 1일 전 <span class=\"bar\"></span><a class=\"_sp_each_url\" href=\"https://news.naver.com/main/read.nhn?mode=LSD&amp;mid=sec&amp;sid1=106&amp;oid=609&amp;aid=0000339145\" onclick=\"return goOtherCR(this, 'a=nws*c.nav&amp;r=12&amp;i=8818ae45_000000000000000000339145&amp;u='+urlencode(this.href));\" target=\"_blank\">네이버뉴스</a> </span> </li> </ul> </dd> </dl> </li> <li id=\"sp_nws13\"> <div class=\"thumb\"><a class=\"sp_thmb thmb80\" href=\"http://star.mk.co.kr/new/view.php?mc=ST&amp;year=2020&amp;no=1043722\" onclick=\"return goOtherCR(this, 'a=nws*e.img&amp;r=13&amp;i=880000BC_000000000000000004672745&amp;g=009.0004672745&amp;u='+urlencode(this.href));\" target=\"_blank\"><img alt=\"`개미는 오늘도 뚠뚠`\" class=\"\" height=\"80\" onerror=\"this.parentNode.style.display='none';\" src=\"https://search.pstatic.net/common/?src=https%3A%2F%2Fimgnews.pstatic.net%2Fimage%2Forigin%2F009%2F2020%2F10%2F12%2F4672745.jpg&amp;type=ofullfill80_80_q75_re2\" width=\"80\"/><span class=\"thmb_v\"></span></a></div> <dl> <dt><a class=\"_sp_each_title\" href=\"http://star.mk.co.kr/new/view.php?mc=ST&amp;year=2020&amp;no=1043722\" onclick=\"return goOtherCR(this, 'a=nws*e.tit&amp;r=13&amp;i=880000BC_000000000000000004672745&amp;g=009.0004672745&amp;u='+urlencode(this.href));\" target=\"_blank\" title='`개미는 오늘도 뚠뚠` 노홍철 \"주식? 노후를 따뜻하게 사는게 목표\"'>`<strong class=\"hl\">개미는 오늘도 뚠뚠</strong>` 노홍철 \"주식? 노후를 따뜻하게 사는게 목표\"</a></dt> <dd class=\"txt_inline\"><span class=\"_sp_each_source\">매일경제</span> <span class=\"bar\"></span> 1일 전 <span class=\"bar\"></span> <a class=\"_sp_each_url\" href=\"https://news.naver.com/main/read.nhn?mode=LSD&amp;mid=sec&amp;sid1=106&amp;oid=009&amp;aid=0004672745\" onclick=\"return goOtherCR(this, 'a=nws*e.nav&amp;r=13&amp;i=880000BC_000000000000000004672745&amp;u='+urlencode(this.href));\" target=\"_blank\">네이버뉴스</a> <div class=\"scial\" id=\"sp_nws13_base\"> <span class=\"bar\"></span> <a class=\"bt_scial2 naver-splugin\" data-oninitialize=\"splugin_oninitialize('sp_nws13');\" data-style=\"unity-v2\" href=\"#\" onclick=\"goOtherTCR(this, 'a=nws*e.pplugin&amp;r=13&amp;i=880000BC_000000000000000004672745&amp;u='+urlencode(this.href)); return false;\" splugin-id=\"8928525807\">보내기</a> </div> </dd> <dd>현장에는 오윤환 제작총괄과 '내 꿈은 라이언'의 김민종 CP, 김희철, 심형탁, '찐경규'의 모르모트 PD와 이경규, '톡이나 할까' 작사가 김이나, '<strong class=\"hl\">개미는 오늘도 뚠뚠</strong>'의 노홍철과 딘딘, ‘YO! 너두’의 비와이, ‘밤을...</dd> </dl> </li> <li id=\"sp_nws14\"> <div class=\"thumb\"><a class=\"sp_thmb thmb80\" href=\"http://biz.heraldcorp.com/view.php?ud=202010121546427461194_1\" onclick=\"return goOtherCR(this, 'a=nws*e.img&amp;r=14&amp;i=88000110_000000000000000003352758&amp;g=112.0003352758&amp;u='+urlencode(this.href));\" target=\"_blank\"><img alt=\"[포토]노홍철-딘딘-김\" class=\"\" height=\"80\" onerror=\"this.parentNode.style.display='none';\" src=\"https://search.pstatic.net/common/?src=https%3A%2F%2Fimgnews.pstatic.net%2Fimage%2Forigin%2F112%2F2020%2F10%2F12%2F3352758.jpg&amp;type=ofullfill80_80_q75_re2\" width=\"80\"/><span class=\"thmb_v\"></span></a></div> <dl> <dt><a class=\"_sp_each_title\" href=\"http://biz.heraldcorp.com/view.php?ud=202010121546427461194_1\" onclick=\"return goOtherCR(this, 'a=nws*e.tit&amp;r=14&amp;i=88000110_000000000000000003352758&amp;g=112.0003352758&amp;u='+urlencode(this.href));\" target=\"_blank\" title=\"[포토]노홍철-딘딘-김가영, '개미는 오늘도 뚠뚠' 주역들\">[포토]노홍철-딘딘-김가영, '<strong class=\"hl\">개미는 오늘도 뚠뚠</strong>' 주역들</a></dt> <dd class=\"txt_inline\"><span class=\"_sp_each_source\">헤럴드POP</span> <span class=\"bar\"></span> 1일 전 <span class=\"bar\"></span> <a class=\"_sp_each_url\" href=\"https://news.naver.com/main/read.nhn?mode=LSD&amp;mid=sec&amp;sid1=106&amp;oid=112&amp;aid=0003352758\" onclick=\"return goOtherCR(this, 'a=nws*e.nav&amp;r=14&amp;i=88000110_000000000000000003352758&amp;u='+urlencode(this.href));\" target=\"_blank\">네이버뉴스</a> <div class=\"scial\" id=\"sp_nws14_base\"> <span class=\"bar\"></span> <a class=\"bt_scial2 naver-splugin\" data-oninitialize=\"splugin_oninitialize('sp_nws14');\" data-style=\"unity-v2\" href=\"#\" onclick=\"goOtherTCR(this, 'a=nws*e.pplugin&amp;r=14&amp;i=88000110_000000000000000003352758&amp;u='+urlencode(this.href)); return false;\" splugin-id=\"9485134004\">보내기</a> </div> </dd> <dd>12일 온라인을 통해 진행된 카카오TV 오리지널 예능 기자간담회에 방송인 노홍철, 딘딘, 기상캐스터 김가영이 참석해 포토타임을 갖고 있다. [사진제공=카카오M]</dd> </dl> </li> <li id=\"sp_nws15\"> <div class=\"thumb\"><a class=\"sp_thmb thmb80\" href=\"https://www.newsen.com/news_view.php?uid=202010121626152410\" onclick=\"return goOtherCR(this, 'a=nws*e.img&amp;r=15&amp;i=8818ae45_000000000000000000339186&amp;g=609.0000339186&amp;u='+urlencode(this.href));\" target=\"_blank\"><img alt=\"‘개미는 오늘도 뚠뚠\" class=\"\" height=\"80\" onerror=\"this.parentNode.style.display='none';\" src=\"https://search.pstatic.net/common/?src=https%3A%2F%2Fimgnews.pstatic.net%2Fimage%2Forigin%2F609%2F2020%2F10%2F12%2F339186.jpg&amp;type=ofullfill80_80_q75_re2\" width=\"80\"/><span class=\"thmb_v\"></span></a></div> <dl> <dt><a class=\"_sp_each_title\" href=\"https://www.newsen.com/news_view.php?uid=202010121626152410\" onclick=\"return goOtherCR(this, 'a=nws*e.tit&amp;r=15&amp;i=8818ae45_000000000000000000339186&amp;g=609.0000339186&amp;u='+urlencode(this.href));\" target=\"_blank\" title=\"‘개미는 오늘도 뚠뚠’ 딘딘 “PD에 신용대출 100만원, 무료 출연 중”\">‘<strong class=\"hl\">개미는 오늘도 뚠뚠</strong>’ 딘딘 “PD에 신용대출 100만원, 무료 출연 중”</a></dt> <dd class=\"txt_inline\"><span class=\"_sp_each_source\">뉴스엔</span> <span class=\"bar\"></span> 1일 전 <span class=\"bar\"></span> <a class=\"_sp_each_url\" href=\"https://news.naver.com/main/read.nhn?mode=LSD&amp;mid=sec&amp;sid1=106&amp;oid=609&amp;aid=0000339186\" onclick=\"return goOtherCR(this, 'a=nws*e.nav&amp;r=15&amp;i=8818ae45_000000000000000000339186&amp;u='+urlencode(this.href));\" target=\"_blank\">네이버뉴스</a> <div class=\"scial\" id=\"sp_nws15_base\"> <span class=\"bar\"></span> <a class=\"bt_scial2 naver-splugin\" data-oninitialize=\"splugin_oninitialize('sp_nws15');\" data-style=\"unity-v2\" href=\"#\" onclick=\"goOtherTCR(this, 'a=nws*e.pplugin&amp;r=15&amp;i=8818ae45_000000000000000000339186&amp;u='+urlencode(this.href)); return false;\" splugin-id=\"5710864683\">보내기</a> </div> </dd> <dd>노홍철, 딘딘이 씁쓸한 미소를 지었다. 10월 12일 진행된 카카오TV 오리지널 예능 온라인 간담회에서 노홍철, 딘딘이 수익률을 공개했다. 노홍철은 수익률 질문에 \"머릿 속에 많은 생각이 든다. 출연료로 하는건 수익이...</dd> </dl> </li> <li id=\"sp_nws16\"> <div class=\"thumb\"><a class=\"sp_thmb thmb80\" href=\"http://enews.imbc.com/News/RetrieveNewsInfo/294729\" onclick=\"return goOtherCR(this, 'a=nws*a.img&amp;r=16&amp;i=08127055_000000000000000000104027&amp;g=408.0000104027&amp;u='+urlencode(this.href));\" target=\"_blank\"><img alt=\"‘카카오TV 모닝‘ 노홍\" class=\"\" height=\"80\" onerror=\"this.parentNode.style.display='none';\" src=\"https://search.pstatic.net/common/?src=https%3A%2F%2Fimgnews.pstatic.net%2Fimage%2Forigin%2F408%2F2020%2F10%2F12%2F104027.jpg&amp;type=ofullfill80_80_q75_re2\" width=\"80\"/><span class=\"thmb_v\"></span></a></div> <dl> <dt><a class=\"_sp_each_title\" href=\"http://enews.imbc.com/News/RetrieveNewsInfo/294729\" onclick=\"return goOtherCR(this, 'a=nws*a.tit&amp;r=16&amp;i=08127055_000000000000000000104027&amp;g=408.0000104027&amp;u='+urlencode(this.href));\" target=\"_blank\" title=\"'카카오TV 모닝' 노홍철·김이나 &quot;새로움에 끌려 출연 결심&quot;\">'카카오TV 모닝' 노홍철·김이나 \"새로움에 끌려 출연 결심\"</a></dt> <dd class=\"txt_inline\"><span class=\"_sp_each_source\">MBC연예</span> <span class=\"bar\"></span> 1일 전 <span class=\"bar\"></span> <a class=\"_sp_each_url\" href=\"https://news.naver.com/main/read.nhn?mode=LSD&amp;mid=sec&amp;sid1=106&amp;oid=408&amp;aid=0000104027\" onclick=\"return goOtherCR(this, 'a=nws*a.nav&amp;r=16&amp;i=08127055_000000000000000000104027&amp;u='+urlencode(this.href));\" target=\"_blank\">네이버뉴스</a> <div class=\"scial\" id=\"sp_nws16_base\"> <span class=\"bar\"></span> <a class=\"bt_scial2 naver-splugin\" data-oninitialize=\"splugin_oninitialize('sp_nws16');\" data-style=\"unity-v2\" href=\"#\" onclick=\"goOtherTCR(this, 'a=nws*a.pplugin&amp;r=16&amp;i=08127055_000000000000000000104027&amp;u='+urlencode(this.href)); return false;\" splugin-id=\"17385932\">보내기</a> </div> </dd> <dd>'<strong class=\"hl\">개미는 오늘도 뚠뚠</strong>'을 진행 중인 노홍철은 \"호기심이 많은 편이다. 내가 안 해본 걸 하고 싶은데, 이제 (방송 활동을 한지) 오래돼서 안 해본 것이 별로 없다. 하지만 제작진이 오셔서 '새로운 걸 하게 해 주겠다. 네가...</dd> <dd> <ul class=\"relation_lst\"> <li> <span class=\"ico_bu\"></span> <a href=\"https://hankookilbo.com/News/Read/A2020101215400002298?did=NA\" onclick=\"return goOtherCR(this, 'a=nws*c.tit&amp;r=17&amp;i=88156f75_000000000000000000543374&amp;g=469.0000543374&amp;u='+urlencode(this.href));\" target=\"_blank\" title=\"'카카오TV 모닝' 노홍철 &quot;프로그램 아닌 계좌에 빠져 있어, 투자하러 왔다&quot;\">'카카오TV 모닝' 노홍철 \"프로그램 아닌 계좌에 빠져 있어, 투자하러 왔다\"</a> <span class=\"txt_sinfo\"> <span class=\"press\" title=\"한국일보\">한국일보</span> <span class=\"bar\"></span> 1일 전 <span class=\"bar\"></span><a class=\"_sp_each_url\" href=\"https://news.naver.com/main/read.nhn?mode=LSD&amp;mid=sec&amp;sid1=106&amp;oid=469&amp;aid=0000543374\" onclick=\"return goOtherCR(this, 'a=nws*c.nav&amp;r=17&amp;i=88156f75_000000000000000000543374&amp;u='+urlencode(this.href));\" target=\"_blank\">네이버뉴스</a> </span> </li> </ul> </dd> </dl> </li> <li id=\"sp_nws18\"> <div class=\"thumb\"><a class=\"sp_thmb thmb80\" href=\"http://star.mt.co.kr/stview.php?no=2020101215400629734\" onclick=\"return goOtherCR(this, 'a=nws*e.img&amp;r=18&amp;i=880000C3_000000000000000002900637&amp;g=108.0002900637&amp;u='+urlencode(this.href));\" target=\"_blank\"><img alt=\"‘개미는 오늘도 뚠뚠‘\" class=\"\" height=\"80\" onerror=\"this.parentNode.style.display='none';\" src=\"https://search.pstatic.net/common/?src=https%3A%2F%2Fimgnews.pstatic.net%2Fimage%2Forigin%2F108%2F2020%2F10%2F12%2F2900637.jpg&amp;type=ofullfill80_80_q75_re2\" width=\"80\"/><span class=\"thmb_v\"></span></a></div> <dl> <dt><a class=\"_sp_each_title\" href=\"http://star.mt.co.kr/stview.php?no=2020101215400629734\" onclick=\"return goOtherCR(this, 'a=nws*e.tit&amp;r=18&amp;i=880000C3_000000000000000002900637&amp;g=108.0002900637&amp;u='+urlencode(this.href));\" target=\"_blank\" title=\"'개미는 오늘도 뚠뚠' 노홍철 &quot;호기심에 출연..나는 카카오 투자자&quot;\">'<strong class=\"hl\">개미는 오늘도 뚠뚠</strong>' 노홍철 \"호기심에 출연..나는 카카오 투자자\"</a></dt> <dd class=\"txt_inline\"><span class=\"_sp_each_source\">스타뉴스</span> <span class=\"bar\"></span> 1일 전 <span class=\"bar\"></span> <a class=\"_sp_each_url\" href=\"https://news.naver.com/main/read.nhn?mode=LSD&amp;mid=sec&amp;sid1=106&amp;oid=108&amp;aid=0002900637\" onclick=\"return goOtherCR(this, 'a=nws*e.nav&amp;r=18&amp;i=880000C3_000000000000000002900637&amp;u='+urlencode(this.href));\" target=\"_blank\">네이버뉴스</a> <div class=\"scial\" id=\"sp_nws18_base\"> <span class=\"bar\"></span> <a class=\"bt_scial2 naver-splugin\" data-oninitialize=\"splugin_oninitialize('sp_nws18');\" data-style=\"unity-v2\" href=\"#\" onclick=\"goOtherTCR(this, 'a=nws*e.pplugin&amp;r=18&amp;i=880000C3_000000000000000002900637&amp;u='+urlencode(this.href)); return false;\" splugin-id=\"4098350976\">보내기</a> </div> </dd> <dd>방송인 노홍철이 '<strong class=\"hl\">개미는 오늘도 뚠뚠</strong>' 출연과 함께 카카오의 주식에 관심을 보였다. 12일 오후 카카오TV 오리지널 예능 '내 꿈은 라이언', '찐경규', '카카오TV 모닝' 온라인 미디어간담회가 열렸다. '<strong class=\"hl\">개미는 오늘도 뚠뚠</strong>...</dd> </dl> </li> <li id=\"sp_nws19\"> <div class=\"thumb\"><a class=\"sp_thmb thmb80\" href=\"https://www.ytn.co.kr/_sn/0117_202010121702073126\" onclick=\"return goOtherCR(this, 'a=nws*e.img&amp;r=19&amp;i=880000AF_000000000000000001501136&amp;g=052.0001501136&amp;u='+urlencode(this.href));\" target=\"_blank\"><img alt=\"아침을 깨울 ‘카카오T\" class=\"\" height=\"80\" onerror=\"this.parentNode.style.display='none';\" src=\"https://search.pstatic.net/common/?src=https%3A%2F%2Fimgnews.pstatic.net%2Fimage%2Forigin%2F052%2F2020%2F10%2F12%2F1501136.jpg&amp;type=ofullfill80_80_q75_re2\" width=\"80\"/><span class=\"thmb_v\"></span></a></div> <dl> <dt><a class=\"_sp_each_title\" href=\"https://www.ytn.co.kr/_sn/0117_202010121702073126\" onclick=\"return goOtherCR(this, 'a=nws*e.tit&amp;r=19&amp;i=880000AF_000000000000000001501136&amp;g=052.0001501136&amp;u='+urlencode(this.href));\" target=\"_blank\" title=\"아침을 깨울 '카카오TV 모닝', 정보·힐링 다 갖췄다(종합)\">아침을 깨울 '카카오TV 모닝', 정보·힐링 다 갖췄다(종합)</a></dt> <dd class=\"txt_inline\"><span class=\"_sp_each_source\">YTN</span> <span class=\"bar\"></span> 1일 전 <span class=\"bar\"></span> <a class=\"_sp_each_url\" href=\"https://news.naver.com/main/read.nhn?mode=LSD&amp;mid=sec&amp;sid1=106&amp;oid=052&amp;aid=0001501136\" onclick=\"return goOtherCR(this, 'a=nws*e.nav&amp;r=19&amp;i=880000AF_000000000000000001501136&amp;u='+urlencode(this.href));\" target=\"_blank\">네이버뉴스</a> <div class=\"scial\" id=\"sp_nws19_base\"> <span class=\"bar\"></span> <a class=\"bt_scial2 naver-splugin\" data-oninitialize=\"splugin_oninitialize('sp_nws19');\" data-style=\"unity-v2\" href=\"#\" onclick=\"goOtherTCR(this, 'a=nws*e.pplugin&amp;r=19&amp;i=880000AF_000000000000000001501136&amp;u='+urlencode(this.href)); return false;\" splugin-id=\"7706983898\">보내기</a> </div> </dd> <dd>월요일 '뉴팡', 화요일 '톡이나 할까?', 수요일 '<strong class=\"hl\">개미는 오늘도 뚠뚠</strong>', 목요일 'YO! 너두', 금요일 '밤을 걷는 밤'이 배치돼 있다. 한 주의 첫 날을 책임지는 월요일 코너, '뉴팡! 뉴스 딜리버리 서비스'은 세상 돌아가는...</dd> </dl> </li> <li id=\"sp_nws20\"> <div class=\"thumb\"><a class=\"sp_thmb thmb80\" href=\"http://sports.chosun.com/news/ntype.htm?id=202010130100078010005358&amp;servicedate=20201012\" onclick=\"return goOtherCR(this, 'a=nws*e.img&amp;r=20&amp;i=880000D3_000000000000000003641816&amp;g=076.0003641816&amp;u='+urlencode(this.href));\" target=\"_blank\"><img alt='[SC현장] \"주식→밤산' class=\"\" height=\"80\" onerror=\"this.parentNode.style.display='none';\" src=\"https://search.pstatic.net/common/?src=https%3A%2F%2Fimgnews.pstatic.net%2Fimage%2Forigin%2F076%2F2020%2F10%2F12%2F3641816.jpg&amp;type=ofullfill80_80_q75_re2\" width=\"80\"/><span class=\"thmb_v\"></span></a></div> <dl> <dt><a class=\"_sp_each_title\" href=\"http://sports.chosun.com/news/ntype.htm?id=202010130100078010005358&amp;servicedate=20201012\" onclick=\"return goOtherCR(this, 'a=nws*e.tit&amp;r=20&amp;i=880000D3_000000000000000003641816&amp;g=076.0003641816&amp;u='+urlencode(this.href));\" target=\"_blank\" title=\"[SC현장] &quot;주식→밤산책까지&quot;…'카카오TV모닝' 집콕러 취향저격한 신박 예능 탄생(종합)\">[SC현장] \"주식→밤산책까지\"…'카카오TV모닝' 집콕러 취향저격한 신박 예능 ...</a></dt> <dd class=\"txt_inline\"><span class=\"_sp_each_source\">스포츠조선</span> <span class=\"bar\"></span> 1일 전 <span class=\"bar\"></span> <a class=\"_sp_each_url\" href=\"https://news.naver.com/main/read.nhn?mode=LSD&amp;mid=sec&amp;sid1=106&amp;oid=076&amp;aid=0003641816\" onclick=\"return goOtherCR(this, 'a=nws*e.nav&amp;r=20&amp;i=880000D3_000000000000000003641816&amp;u='+urlencode(this.href));\" target=\"_blank\">네이버뉴스</a> <div class=\"scial\" id=\"sp_nws20_base\"> <span class=\"bar\"></span> <a class=\"bt_scial2 naver-splugin\" data-oninitialize=\"splugin_oninitialize('sp_nws20');\" data-style=\"unity-v2\" href=\"#\" onclick=\"goOtherTCR(this, 'a=nws*e.pplugin&amp;r=20&amp;i=880000D3_000000000000000003641816&amp;u='+urlencode(this.href)); return false;\" splugin-id=\"3303106991\">보내기</a> </div> </dd> <dd>이날 미디어간담회에는 화요일 코너 '톡이나 할까?'의 김이나 작사가, 수요일 코너 '<strong class=\"hl\">개미는 오늘도 뚠뚠</strong>'의 노홍철·딘딘·김가영, 목요일 코너 'YO! 너두'의 비와이, 금요일 코너 '밤을 걷는 밤'의 유희열, 그리고 박진경 CP...</dd> </dl> </li> </ul>"
      ]
     },
     "execution_count": 107,
     "metadata": {},
     "output_type": "execute_result"
    }
   ],
   "source": [
    "html = driver.page_source\n",
    "soup = bs(html,'html.parser')\n",
    "txt = soup.select('ul.type01')[0]\n",
    "txt"
   ]
  },
  {
   "cell_type": "code",
   "execution_count": 109,
   "metadata": {},
   "outputs": [
    {
     "data": {
      "text/plain": [
       "'\\'개미는 뚠뚠\\' 노홍철 \"출연료+개인돈 주식 투자했다가 막대한 손해 봐\"'"
      ]
     },
     "execution_count": 109,
     "metadata": {},
     "output_type": "execute_result"
    }
   ],
   "source": [
    "# title\n",
    "txt.select('dt> a')[0].text"
   ]
  },
  {
   "cell_type": "code",
   "execution_count": 71,
   "metadata": {},
   "outputs": [
    {
     "data": {
      "text/plain": [
       "'http://www.aitimes.com/news/articleView.html?idxno=132756'"
      ]
     },
     "execution_count": 71,
     "metadata": {},
     "output_type": "execute_result"
    }
   ],
   "source": [
    "# Link\n",
    "txt.select('dt> a')[0]['href']"
   ]
  },
  {
   "cell_type": "code",
   "execution_count": 78,
   "metadata": {
    "scrolled": true
   },
   "outputs": [
    {
     "data": {
      "text/plain": [
       "'ITWorld  23시간 전'"
      ]
     },
     "execution_count": 78,
     "metadata": {},
     "output_type": "execute_result"
    }
   ],
   "source": [
    "# press & date\n",
    "txt.select('dd.txt_inline')[1].text.split('보내기')[0].strip()"
   ]
  },
  {
   "cell_type": "code",
   "execution_count": 89,
   "metadata": {},
   "outputs": [
    {
     "data": {
      "text/plain": [
       "20"
      ]
     },
     "execution_count": 89,
     "metadata": {},
     "output_type": "execute_result"
    }
   ],
   "source": [
    "# Summary\n",
    "len(txt.select('dl > dd'))           # 관련뉴스 있는 검색어는 별도 조절필요"
   ]
  },
  {
   "cell_type": "code",
   "execution_count": null,
   "metadata": {},
   "outputs": [],
   "source": [
    "# 종합"
   ]
  },
  {
   "cell_type": "code",
   "execution_count": 91,
   "metadata": {},
   "outputs": [
    {
     "name": "stdout",
     "output_type": "stream",
     "text": [
      "====================\n",
      "Titlem :  파이토치가 텐서플로우를 이겼다, 2020 AI현황보고서 8대 전망\n",
      "Link :  http://www.aitimes.com/news/articleView.html?idxno=132756\n",
      "Press & Date :  AI타임스  6시간 전\n",
      "Summary :  또한, 파이썬은 세계 프로그래밍 언어 인기 순위인 TIOBE 인덱스에서 최근 사상 최고 성적을 기록하며 1.... 즉, 딥러닝 분야에서 연구가 활발히 이루어짐에 따라 데이터 처리에 유용한 파이썬이 강세를 보이고...\n",
      "====================\n",
      "Titlem :  2020년 가장 가치 있는 소프트웨어 개발 기술\n",
      "Link :  http://www.itworld.co.kr/news/167560\n",
      "Press & Date :  ITWorld  1일 전\n",
      "Summary :  PHP에서 파이썬으로의 전환은 프랑스어를 새로 배우는 것과는 전혀 다르다”고 말했다. 예를 들어... 파이썬도 있다. 파이썬은 지난 10년 동안 빠르게 순위를 높여왔다. 파이썬은 데이터 과학자에게 인기가 높은...\n",
      "====================\n",
      "Titlem :  티오베 언어 순위, ‘파이썬’ 자바 위치 넘본다\n",
      "Link :  https://zdnet.co.kr/view/?no=20201006114636\n",
      "Press & Date :  ZDNet Korea  7일 전  네이버뉴스\n",
      "Summary :  파이썬이 티오베의 프로그래밍 언어 순위에서 자바의 뒤를 바싹 추적 중이다. 이번 순위는 인공지능(AI), 빅데이터 분야를 필두로 한 파이썬의 성장이 두드러졌다. 개발 트렌드의 변화로 인한 자바의 하락세도 영향이...\n",
      "====================\n",
      "Titlem :  파이썬 초중급자를 위한 유무료 강좌 5선\n",
      "Link :  http://www.ciokorea.com/news/166610\n",
      "Press & Date :  CIO Korea  7일 전\n",
      "Summary :  이제 막 파이썬을 배우기 시작했거나 머신러닝이나 웹 개발 심층연구를 하고 싶다면 아래의 유무료 강좌를 참고하면 좋다. 파이썬은 배우기도 쉽고 사용하기도 쉽다. 하지만 그렇다고 해서 파이썬 프로그래머...\n",
      "====================\n",
      "Titlem :  한국경영인증원, 관악구와 파이썬(Python)을 활용한 데이터 사이언스(Data Sc...\n",
      "Link :  http://www.fntoday.co.kr/news/articleView.html?idxno=234306\n",
      "Press & Date :  파이낸스투데이  2020.10.05.\n",
      "Summary :  한국경영인증원(KMR)과 서울시 관악구청 청년정책과는 청년을 대상으로 데이터 사이언스(Data Science) 분야 역량강화를 위한 파이썬(Python) 무료 교육을 실시한다고 밝혔다. 관악구는 구민들을 대상으로 Data Science...\n",
      "====================\n",
      "Titlem :  TIOBE 코딩 언어 순위, 파이썬 2위 달성 코앞\n",
      "Link :  http://www.aitimes.com/news/articleView.html?idxno=132573\n",
      "Press & Date :  AI타임스  2020.10.05.\n",
      "Summary :  파이썬(Python)이 세계 프로그래밍 언어 인기 순위인 TIOBE 인덱스에서 사상 최고 성적을 기록했다. 이는 학계 및 산업계에서 인공지능(AI) 활용도가 높아지면서 빅데이터 분석 등에 활용되는 파이썬...\n",
      "====================\n",
      "Titlem :  한국경영인증원, 관악구와 파이썬 활용 데이터 사이언스 비대면 무료교육 실시\n",
      "Link :  http://www.dt.co.kr/contents.html?article_no=2020092902109919039021&ref=naver\n",
      "Press & Date :  디지털타임스  2020.10.02.  네이버뉴스\n",
      "Summary :  한국경영인증원(KMR)과 서울시 관악구청 청년정책과는 청년을 대상으로 데이터 사이언스(Data Science) 분야 역량강화를 위한 파이썬(Python) 무료 교육을 실시한다고 2일 밝혔다. 관악구는 구민들을 대상으로 Data Science...\n",
      "====================\n",
      "Titlem :  코로나 취업난 속 이공계 채용만... \"오늘도 문과는 웁니다\"\n",
      "Link :  http://www.edaily.co.kr/news/newspath.asp?newsid=01200486625929968&snapkey=48013,취준생,20대,채용,취업,디지털,취업난,구직난,IT기업,문과,문송,디지털역량\n",
      "Press & Date :  이데일리  2020.10.05.  네이버뉴스\n",
      "Summary :  코딩이나 파이썬 등을 배우려는 노력도 이어지고 있다. 메가스터디 IT 아카데미 관계자는 “기업 채용... 취업 준비를 위해 파이썬 스터디를 꾸렸던 신 모씨(29·남)는 “이미 스펙 과열인 문과생들에게 디지털 역량도...\n",
      "====================\n",
      "Titlem :  [포커스 인①] 자바·파이썬 기반 머신러닝 빅데이터의 미래는 소통과 협업, ...\n",
      "Link :  http://edu.donga.com/?p=article&ps=view&at_no=20200929113908385220\n",
      "Press & Date :  에듀동아  2020.09.29.\n",
      "Summary :  많은 양의 비정형 데이터를 자바(Java), 파이썬(Python), 하둡(Hadoop), 빅데이터R 등 정보통신기술을 활용해... 공정(파이썬+빅데이터+사물인터넷))이 추진 중이다. 비대면 온라인 수업과 오프라인 현장 수업을 강화한...\n",
      "====================\n",
      "Titlem :  유튜버 주간컴공, '프리패스 파이썬' 도서 출간...‘무료 인강’도 제공\n",
      "Link :  https://nc.asiae.co.kr/view.htm?idxno=2020092516282980495\n",
      "Press & Date :  뉴스컬처  2020.09.25.\n",
      "Summary :  유튜버 주간컴공이 ‘프리패스 파이썬’ 도서를 출간하며, 이와 관련된 무료 인터넷 강의도 함께 제공한다고... 지난 24일에 파이썬에 대한 첫 강좌가 업로드 됐고, 해당 영상에서 ‘프리패스 파이썬’ 도서출간 소식과...\n"
     ]
    }
   ],
   "source": [
    "from selenium import webdriver\n",
    "from selenium.webdriver.common.keys import Keys\n",
    "driver = webdriver.Chrome('./chromedriver')\n",
    "\n",
    "url = 'https://www.naver.com/'\n",
    "driver.get(url)\n",
    "elem = driver.find_element_by_id('query')\n",
    "elem.send_keys('파이썬')\n",
    "elem.send_keys(Keys.RETURN)\n",
    "driver.find_element_by_link_text('뉴스').click()  # 네이버 검색 후 뉴스페이지 띄우기\n",
    "\n",
    "from bs4 import BeautifulSoup as bs  # 내용 추출\n",
    "html = driver.page_source\n",
    "soup = bs(html,'html.parser')\n",
    "txt = soup.select('ul.type01')[0]  # 전체적인 범위 잡기\n",
    "\n",
    "for i in range(10) :\n",
    "    print('='*20)\n",
    "    print('Titlem : ',txt.select('dt>a')[i].text)   # Title\n",
    "    print('Link : ', txt.select('dt> a')[i]['href'])  # Link\n",
    "    print('Press & Date : ',txt.select('dd.txt_inline')[i].text.split('보내기')[0].strip())  # Press, Date\n",
    "    print('Summary : ',txt.select('dl > dd')[2*i+1].text )  # Summary\n",
    "driver.quit()"
   ]
  },
  {
   "cell_type": "code",
   "execution_count": null,
   "metadata": {},
   "outputs": [],
   "source": []
  },
  {
   "cell_type": "code",
   "execution_count": null,
   "metadata": {},
   "outputs": [],
   "source": []
  },
  {
   "cell_type": "code",
   "execution_count": null,
   "metadata": {},
   "outputs": [],
   "source": []
  }
 ],
 "metadata": {
  "kernelspec": {
   "display_name": "Python 3",
   "language": "python",
   "name": "python3"
  },
  "language_info": {
   "codemirror_mode": {
    "name": "ipython",
    "version": 3
   },
   "file_extension": ".py",
   "mimetype": "text/x-python",
   "name": "python",
   "nbconvert_exporter": "python",
   "pygments_lexer": "ipython3",
   "version": "3.8.3"
  }
 },
 "nbformat": 4,
 "nbformat_minor": 4
}
