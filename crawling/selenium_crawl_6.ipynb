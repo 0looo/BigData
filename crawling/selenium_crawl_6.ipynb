{
 "cells": [
  {
   "cell_type": "markdown",
   "metadata": {},
   "source": [
    "### 대한민국 100대 통계지표\n",
    "주소 : https://ecos.bok.or.kr/jsp/vis/keystat/#/key\n",
    "\n",
    "* 목표\n",
    "    1. 국민소득 · 경기 · 기업경영 항목의 경제지표 타이틀을 출력\n",
    "    2. 국민소득 · 경기 · 기업경영 항목의 경제지표 중 임의의 한 경제지표를 입력 받은 후 선택한 지표의 상세 정보 페이지로\n",
    "        이동 연도별 경제지표 표를 크롤링해서 출력"
   ]
  },
  {
   "cell_type": "code",
   "execution_count": 83,
   "metadata": {},
   "outputs": [],
   "source": [
    "from selenium import webdriver\n",
    "from selenium.webdriver.common.keys import Keys\n",
    "from bs4 import BeautifulSoup as bs\n",
    "\n",
    "import requests\n",
    "import time"
   ]
  },
  {
   "cell_type": "markdown",
   "metadata": {},
   "source": [
    "#### 경제지표 타이틀 출력\n"
   ]
  },
  {
   "cell_type": "code",
   "execution_count": 137,
   "metadata": {},
   "outputs": [],
   "source": [
    "url = 'https://ecos.bok.or.kr/jsp/vis/keystat/#/key'\n",
    "driver = webdriver.Chrome()\n",
    "driver.get(url)                             # url 접속\n",
    "time.sleep(4)"
   ]
  },
  {
   "cell_type": "code",
   "execution_count": 138,
   "metadata": {},
   "outputs": [
    {
     "data": {
      "text/plain": [
       "[\"경제성장률(실질, 계절조정 전기대비) ('20.2/4)\",\n",
       " \"민간소비증감률(실질, 계절조정 전기대비) ('20.2/4)\",\n",
       " \"설비투자증감률(실질, 계절조정 전기대비) ('20.2/4)\",\n",
       " \"건설투자증감률(실질, 계절조정 전기대비) ('20.2/4)\",\n",
       " \"GDP(명목, 계절조정) ('20.2/4)\",\n",
       " \"GDP디플레이터 ('20.2/4)\",\n",
       " \"1인당GNI ('19)\",\n",
       " \"총저축률 ('20.2/4)\",\n",
       " \"국내총투자율 ('20.2/4)\",\n",
       " \"수출입의 대 GNI 비율 ('19)\",\n",
       " \"제조업업황실적BSI ('20.09)\",\n",
       " \"소비자심리지수 ('20.09)\",\n",
       " \"경제심리지수 ('20.09)\",\n",
       " \"경기동행지수순환변동치 ('20.08)\",\n",
       " \"경기선행지수순환변동치 ('20.08)\",\n",
       " \"제조업부채비율 ('18)\",\n",
       " \"제조업매출액세전순이익률 ('18)\",\n",
       " \"제조업매출액증감률 ('18)\"]"
      ]
     },
     "execution_count": 138,
     "metadata": {},
     "output_type": "execute_result"
    }
   ],
   "source": [
    "txt = driver.find_elements_by_class_name('a-c1-list,ng-binding')  # title\n",
    "title = []\n",
    "for i in txt :\n",
    "    title.append(i.text)\n",
    "title"
   ]
  },
  {
   "cell_type": "markdown",
   "metadata": {},
   "source": [
    "#### 경제지표 입력\n"
   ]
  },
  {
   "cell_type": "code",
   "execution_count": 160,
   "metadata": {},
   "outputs": [
    {
     "name": "stdout",
     "output_type": "stream",
     "text": [
      "경제지표를 입력하세요. : GDP디플레이터 ('20.2/4)\n",
      "               지표 전기대비증감\n",
      "2013       96.042    1.0\n",
      "2014       96.913    0.9\n",
      "2015      100.000    3.2\n",
      "2016      101.986    2.0\n",
      "2017      104.253    2.2\n",
      "2018      104.756    0.5\n",
      "2019      103.790   -0.9\n",
      "2017.2/4  103.660    1.7\n",
      "2017.3/4  106.706    3.7\n",
      "2017.4/4  102.820    1.8\n",
      "2018.1/4  104.695    0.8\n",
      "2018.2/4  104.701    1.0\n",
      "2018.3/4  106.907    0.2\n",
      "2018.4/4  102.815    0.0\n",
      "2019.1/4  104.048   -0.6\n",
      "2019.2/4  104.045   -0.6\n",
      "2019.3/4  105.202   -1.6\n",
      "2019.4/4  101.977   -0.8\n",
      "2020.1/4  103.385   -0.6\n",
      "2020.2/4  105.262    1.2\n"
     ]
    }
   ],
   "source": [
    "title_input = input('경제지표를 입력하세요. : ')\n",
    "if title_input in title :\n",
    "\n",
    "    # 경제지표 페이지 이동\n",
    "    int_num = title.index(title_input)\n",
    "    int_num += 1\n",
    "    driver.find_element_by_xpath('/html/body/div[1]/div[1]/div/div/div[2]/div/div[1]/div[2]/table/tbody/tr[{}]/th/span/a'.format(int_num)).click()\n",
    "    time.sleep(5)\n",
    "    \n",
    "    # 표 크롤링\n",
    "    html = driver.page_source\n",
    "    soup = bs(html, 'html.parser')\n",
    "    txt1 = soup.select('tr.ng-scope > td.ng-binding') \n",
    "    time_list = []\n",
    "    score_list = []\n",
    "    rate_list=[]\n",
    "\n",
    "    for i in range(len(txt1)) :\n",
    "        if (i % 3) == 0:    # 시점\n",
    "            time_list.append(txt1[i].text)\n",
    "        elif (i % 3) == 1:  # 지표\n",
    "            score_list.append(txt1[i].text)\n",
    "        else :              # 전기대비증감\n",
    "            rate_list.append(txt1[i].text)\n",
    "\n",
    "    import pandas as pd\n",
    "    df = pd.DataFrame({'지표':score_list,'전기대비증감':rate_list},index = time_list)\n",
    "    print(df)\n",
    "    \n",
    "else :\n",
    "    print('경제지표를 잘못입력하셨습니다.')"
   ]
  },
  {
   "cell_type": "code",
   "execution_count": 145,
   "metadata": {},
   "outputs": [],
   "source": [
    "time_list = [1,2,3,4,5]\n",
    "score_list = [2,3,4,5,6]\n",
    "rate_list = [3,4,5,6,7]"
   ]
  },
  {
   "cell_type": "code",
   "execution_count": 146,
   "metadata": {},
   "outputs": [
    {
     "data": {
      "text/html": [
       "<div>\n",
       "<style scoped>\n",
       "    .dataframe tbody tr th:only-of-type {\n",
       "        vertical-align: middle;\n",
       "    }\n",
       "\n",
       "    .dataframe tbody tr th {\n",
       "        vertical-align: top;\n",
       "    }\n",
       "\n",
       "    .dataframe thead th {\n",
       "        text-align: right;\n",
       "    }\n",
       "</style>\n",
       "<table border=\"1\" class=\"dataframe\">\n",
       "  <thead>\n",
       "    <tr style=\"text-align: right;\">\n",
       "      <th></th>\n",
       "      <th>지표</th>\n",
       "      <th>전기대비증감</th>\n",
       "    </tr>\n",
       "  </thead>\n",
       "  <tbody>\n",
       "    <tr>\n",
       "      <th>1</th>\n",
       "      <td>2</td>\n",
       "      <td>3</td>\n",
       "    </tr>\n",
       "    <tr>\n",
       "      <th>2</th>\n",
       "      <td>3</td>\n",
       "      <td>4</td>\n",
       "    </tr>\n",
       "    <tr>\n",
       "      <th>3</th>\n",
       "      <td>4</td>\n",
       "      <td>5</td>\n",
       "    </tr>\n",
       "    <tr>\n",
       "      <th>4</th>\n",
       "      <td>5</td>\n",
       "      <td>6</td>\n",
       "    </tr>\n",
       "    <tr>\n",
       "      <th>5</th>\n",
       "      <td>6</td>\n",
       "      <td>7</td>\n",
       "    </tr>\n",
       "  </tbody>\n",
       "</table>\n",
       "</div>"
      ],
      "text/plain": [
       "   지표  전기대비증감\n",
       "1   2       3\n",
       "2   3       4\n",
       "3   4       5\n",
       "4   5       6\n",
       "5   6       7"
      ]
     },
     "execution_count": 146,
     "metadata": {},
     "output_type": "execute_result"
    }
   ],
   "source": [
    "import pandas as pd\n",
    "df = pd.DataFrame({'지표':score_list,'전기대비증감':rate_list},index = time_list)\n",
    "df"
   ]
  },
  {
   "cell_type": "markdown",
   "metadata": {},
   "source": [
    "### 종합"
   ]
  },
  {
   "cell_type": "code",
   "execution_count": 161,
   "metadata": {},
   "outputs": [
    {
     "name": "stdout",
     "output_type": "stream",
     "text": [
      "경제지표를 입력하세요. : 1인당GNI ('19)\n",
      "            지표    전기대비증감\n",
      "2000  12,178.7   1,629.9\n",
      "2001  11,484.4    -694.3\n",
      "2002  13,114.6   1,630.2\n",
      "2003  14,618.2   1,503.6\n",
      "2004  16,476.9   1,858.7\n",
      "2005  19,261.8   2,784.9\n",
      "2006  21,663.7   2,401.9\n",
      "2007  24,026.8   2,363.1\n",
      "2008  21,345.3  -2,681.5\n",
      "2009  19,122.1  -2,223.2\n",
      "2010  23,117.7   3,995.6\n",
      "2011  25,255.8   2,138.1\n",
      "2012  25,723.7     467.9\n",
      "2013  27,351.3   1,627.6\n",
      "2014  29,383.9   2,032.6\n",
      "2015  28,813.6    -570.3\n",
      "2016  29,394.3     580.7\n",
      "2017  31,734.1   2,339.8\n",
      "2018  33,563.7   1,829.6\n",
      "2019  32,114.9  -1,448.8\n"
     ]
    }
   ],
   "source": [
    "from selenium import webdriver\n",
    "from selenium.webdriver.common.keys import Keys\n",
    "from bs4 import BeautifulSoup as bs\n",
    "\n",
    "import requests\n",
    "import time\n",
    "\n",
    "# 경제지표 타이틀 출력\n",
    "url = 'https://ecos.bok.or.kr/jsp/vis/keystat/#/key'\n",
    "driver = webdriver.Chrome()\n",
    "driver.get(url)                             # url 접속\n",
    "time.sleep(4)\n",
    "\n",
    "txt = driver.find_elements_by_class_name('a-c1-list,ng-binding')  # title\n",
    "title = []\n",
    "for i in txt :\n",
    "    title.append(i.text)\n",
    "time.sleep(4)\n",
    "\n",
    "# 경제지표 입력\n",
    "title_input = input('경제지표를 입력하세요. : ')\n",
    "if title_input in title :\n",
    "\n",
    "    # 경제지표 페이지 이동\n",
    "    int_num = title.index(title_input)\n",
    "    int_num += 1\n",
    "    driver.find_element_by_xpath('/html/body/div[1]/div[1]/div/div/div[2]/div/div[1]/div[2]/table/tbody/tr[{}]/th/span/a'.format(int_num)).click()\n",
    "    time.sleep(5)\n",
    "    \n",
    "    # 표 크롤링\n",
    "    html = driver.page_source\n",
    "    soup = bs(html, 'html.parser')\n",
    "    txt1 = soup.select('tr.ng-scope > td.ng-binding') \n",
    "    time_list = []\n",
    "    score_list = []\n",
    "    rate_list=[]\n",
    "\n",
    "    for i in range(len(txt1)) :\n",
    "        if (i % 3) == 0:    # 시점\n",
    "            time_list.append(txt1[i].text)\n",
    "        elif (i % 3) == 1:  # 지표\n",
    "            score_list.append(txt1[i].text)\n",
    "        else :              # 전기대비증감\n",
    "            rate_list.append(txt1[i].text)\n",
    "\n",
    "    import pandas as pd\n",
    "    df = pd.DataFrame({'지표':score_list,'전기대비증감':rate_list},index = time_list)\n",
    "    print(df)\n",
    "    \n",
    "else :\n",
    "    print('경제지표를 잘못입력하셨습니다.')"
   ]
  },
  {
   "cell_type": "code",
   "execution_count": null,
   "metadata": {},
   "outputs": [],
   "source": []
  },
  {
   "cell_type": "code",
   "execution_count": null,
   "metadata": {},
   "outputs": [],
   "source": []
  },
  {
   "cell_type": "code",
   "execution_count": null,
   "metadata": {},
   "outputs": [],
   "source": []
  },
  {
   "cell_type": "code",
   "execution_count": null,
   "metadata": {},
   "outputs": [],
   "source": []
  },
  {
   "cell_type": "code",
   "execution_count": null,
   "metadata": {},
   "outputs": [],
   "source": []
  }
 ],
 "metadata": {
  "kernelspec": {
   "display_name": "Python 3",
   "language": "python",
   "name": "python3"
  },
  "language_info": {
   "codemirror_mode": {
    "name": "ipython",
    "version": 3
   },
   "file_extension": ".py",
   "mimetype": "text/x-python",
   "name": "python",
   "nbconvert_exporter": "python",
   "pygments_lexer": "ipython3",
   "version": "3.8.3"
  }
 },
 "nbformat": 4,
 "nbformat_minor": 4
}
