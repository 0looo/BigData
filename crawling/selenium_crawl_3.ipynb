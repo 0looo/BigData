{
 "cells": [
  {
   "cell_type": "markdown",
   "metadata": {},
   "source": [
    "### https://korean.visitkorea.or.kr/main/main.do\n",
    "* 여행검색 후 첫번째 페이지 게시물 본문 이미지를 다운로드"
   ]
  },
  {
   "cell_type": "code",
   "execution_count": 22,
   "metadata": {},
   "outputs": [
    {
     "name": "stdout",
     "output_type": "stream",
     "text": [
      "검색어를 입력하세요 : 여행\n"
     ]
    }
   ],
   "source": [
    "from bs4 import BeautifulSoup as bs\n",
    "from selenium import webdriver\n",
    "import time\n",
    "import requests\n",
    "import os\n",
    "\n",
    "search_text = input('검색어를 입력하세요 : ')\n",
    "\n",
    "driver = webdriver.Chrome('./chromedriver')        # ()사이에 미작성시 디렉토리의 파일 실행\n",
    "driver.set_window_size(800,1000)     # 광고창 닫기 버튼이 안들어옴\n",
    "driver.get('https://korean.visitkorea.or.kr/main/main.do')\n",
    "time.sleep(2)     # 일부누락방지 위한 시간 딜레이 지정\n",
    "\n",
    "driver.find_element_by_id('chkForm01').click()        # 광고창 닫기\n",
    "\n",
    "elem = driver.find_element_by_id('inp_search')                 # 검색창\n",
    "elem.send_keys(search_text)                         # 검색어 입력\n",
    "driver.find_element_by_class_name('btn_search2').click()    # 검색실시\n",
    "time.sleep(1)     # 일부누락방지 위한 시간 딜레이 지정\n",
    "\n",
    "driver.find_element_by_xpath('//*[@id=\"contents\"]/div/div[1]/ul/li[1]/div[2]/div').click()\n",
    "time.sleep(2)     # 일부누락방지 위한 시간 딜레이 지정\n",
    "\n",
    "html = driver.page_source     # 첫 콘텐츠 페이지 html 추출\n",
    "soup = bs(html,'html.parser')\n",
    "image = soup.select('button > img')\n",
    "\n",
    "target_folder = './img_down/'  \n",
    "if not os.path.isdir(target_folder):   # 하위폴더 생성(img_down , 없을대만)\n",
    "    os.mkdir(target_folder)\n",
    "\n",
    "# urllib 대체가능\n",
    "for i in range(len(image)) : \n",
    "    url = image[i]['src']\n",
    "    img_file = requests.get(url)\n",
    "    f=open(target_folder + 'sample_image{}.png'.format(i),'wb')   # 경로지정 및 파일open 활용 저장\n",
    "    for chunk in img_file.iter_content(100) :\n",
    "        f.write(chunk)\n",
    "    f.close()\n",
    "driver.quit()"
   ]
  },
  {
   "cell_type": "code",
   "execution_count": 24,
   "metadata": {},
   "outputs": [],
   "source": [
    "# urllib 사용시\n",
    "import urllib.request\n",
    "import urllib\n",
    "\n",
    "for i in range(len(image)) : \n",
    "    url = image[i]['src']\n",
    "    urllib.request.urlretrieve(url,target_folder + 'sample_image{}.png'.format(i))"
   ]
  },
  {
   "cell_type": "code",
   "execution_count": null,
   "metadata": {},
   "outputs": [],
   "source": []
  }
 ],
 "metadata": {
  "kernelspec": {
   "display_name": "Python 3",
   "language": "python",
   "name": "python3"
  },
  "language_info": {
   "codemirror_mode": {
    "name": "ipython",
    "version": 3
   },
   "file_extension": ".py",
   "mimetype": "text/x-python",
   "name": "python",
   "nbconvert_exporter": "python",
   "pygments_lexer": "ipython3",
   "version": "3.8.3"
  }
 },
 "nbformat": 4,
 "nbformat_minor": 4
}
