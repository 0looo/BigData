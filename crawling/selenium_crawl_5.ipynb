{
 "cells": [
  {
   "cell_type": "markdown",
   "metadata": {},
   "source": [
    "### 다나와 사이트\n",
    "* 메뉴출력\n",
    "* 로그인 - 최근 본 상품 목록 - 상품 제목, 목록, 가격 출력"
   ]
  },
  {
   "cell_type": "code",
   "execution_count": 6,
   "metadata": {},
   "outputs": [],
   "source": [
    "from bs4 import BeautifulSoup as bs\n",
    "from selenium import webdriver\n",
    "from selenium.webdriver.common.keys import Keys\n",
    "\n",
    "import time"
   ]
  },
  {
   "cell_type": "code",
   "execution_count": 73,
   "metadata": {},
   "outputs": [],
   "source": [
    "driver = webdriver.Chrome('./chromedriver')\n",
    "driver.get('http://www.danawa.com/')\n",
    "driver.set_window_size(1800,1000)\n",
    "time.sleep(2)"
   ]
  },
  {
   "cell_type": "markdown",
   "metadata": {},
   "source": [
    "#### 메뉴출력(2가지)"
   ]
  },
  {
   "cell_type": "code",
   "execution_count": 74,
   "metadata": {},
   "outputs": [
    {
     "name": "stdout",
     "output_type": "stream",
     "text": [
      "['가전/TV', '컴퓨터/노트북/조립PC', '태블릿/모바일/디카', '아웃도어/스포츠/골프', '자동차 /용품 /공구', '가구/조명', '식품/유아/완구', '생활/주방/건강', '패션/잡화/화장품', '사무/취미/반려동물', '여행/항공/호텔']\n"
     ]
    }
   ],
   "source": [
    "# selenium만 사용\n",
    "txt = driver.find_element_by_id('sectionLayer')\n",
    "menu = txt.text.split('\\n')\n",
    "print(menu)\n",
    "driver.quit()"
   ]
  },
  {
   "cell_type": "code",
   "execution_count": 64,
   "metadata": {
    "collapsed": true
   },
   "outputs": [
    {
     "name": "stdout",
     "output_type": "stream",
     "text": [
      "\n",
      "가전/TV\n",
      "\n",
      "컴퓨터/노트북/조립PC\n",
      "\n",
      "태블릿/모바일/디카\n",
      "\n",
      "아웃도어/스포츠/골프\n",
      "\n",
      "자동차 /용품 /공구\n",
      "\n",
      "가구/조명\n",
      "\n",
      "식품/유아/완구\n",
      "\n",
      "생활/주방/건강\n",
      "\n",
      "패션/잡화/화장품\n",
      "\n",
      "사무/취미/반려동물\n",
      "\n",
      "여행/항공/호텔\n"
     ]
    }
   ],
   "source": [
    "# BeautifulSoup 사용\n",
    "html = driver.page_source\n",
    "soup = bs(html, 'html.parser')\n",
    "txt = soup.select('ul#sectionLayer>li')\n",
    "for i  in txt :\n",
    "    print(i.text.split('카테고리')[0])\n",
    "driver.quit()"
   ]
  },
  {
   "cell_type": "markdown",
   "metadata": {},
   "source": [
    "####  최근본상품 메뉴, 가격 출력"
   ]
  },
  {
   "cell_type": "code",
   "execution_count": 48,
   "metadata": {},
   "outputs": [
    {
     "data": {
      "text/plain": [
       "[<div class=\"title\" id=\"title_8327025\">트리플에이 AAA 무지 반팔티셔츠 1301</div>,\n",
       " <div class=\"title\" id=\"title_11914102\">삼성전자 갤럭시탭S7 11 WiFi 128GB(정품)</div>,\n",
       " <div class=\"title\" id=\"title_10929630\">삼성전자 갤럭시탭S6 라이트 10.4 WiFi 64GB(정품)</div>,\n",
       " <div class=\"title\" id=\"title_5687536\">동광인터내셔날 애드혹 반더블 슬림 오버코트 HTAHC3B</div>,\n",
       " <div class=\"title\" id=\"title_10908204\">게스 블랙 슬림 스트레이트팬츠 MK1D8030</div>,\n",
       " <div class=\"title\" id=\"title_11124306\">파인디지털 파인캐디 UPL100 거리측정기</div>]"
      ]
     },
     "execution_count": 48,
     "metadata": {},
     "output_type": "execute_result"
    }
   ],
   "source": [
    "# 상품명\n",
    "txt[0].select('div.title')"
   ]
  },
  {
   "cell_type": "code",
   "execution_count": 46,
   "metadata": {
    "collapsed": true
   },
   "outputs": [
    {
     "data": {
      "text/plain": [
       "[<span class=\"num\">3,620</span>,\n",
       " <span class=\"num\">779,000</span>,\n",
       " <span class=\"num\">428,990</span>,\n",
       " <span class=\"num\">116,000</span>,\n",
       " <span class=\"num\">29,950</span>,\n",
       " <span class=\"num\">199,000</span>]"
      ]
     },
     "execution_count": 46,
     "metadata": {},
     "output_type": "execute_result"
    }
   ],
   "source": [
    "# 가격\n",
    "txt[0].select('span.num')"
   ]
  },
  {
   "cell_type": "code",
   "execution_count": 59,
   "metadata": {},
   "outputs": [
    {
     "name": "stdout",
     "output_type": "stream",
     "text": [
      "====================\n",
      "상품명 :  삼성전자 갤럭시탭S4 10.5 WiFi 256GB(중고)\n",
      "가격 :  477,480\n",
      "====================\n",
      "상품명 :  AMI 하트 로고 맨투맨 P20HJ007 730 001\n",
      "가격 :  245,410\n",
      "====================\n",
      "상품명 :  톰브라운 삼선 라운드넥 긴팔 티셔츠 MJT021H 00535 068\n",
      "가격 :  445,040\n",
      "====================\n",
      "상품명 :  트리플에이 AAA 무지 반팔티셔츠 1301\n",
      "가격 :  3,620\n",
      "====================\n",
      "상품명 :  삼성전자 갤럭시탭S7 11 WiFi 128GB(정품)\n",
      "가격 :  759,000\n",
      "====================\n",
      "상품명 :  삼성전자 갤럭시탭S6 라이트 10.4 WiFi 64GB(정품)\n",
      "가격 :  441,740\n",
      "====================\n",
      "상품명 :  동광인터내셔날 애드혹 반더블 슬림 오버코트 HTAHC3B\n",
      "가격 :  115,990\n",
      "====================\n",
      "상품명 :  게스 블랙 슬림 스트레이트팬츠 MK1D8030\n",
      "가격 :  29,890\n",
      "====================\n",
      "상품명 :  파인디지털 파인캐디 UPL100 거리측정기\n",
      "가격 :  199,000\n"
     ]
    }
   ],
   "source": [
    "# 최근 본 상품 ,목록, 제목, 가격 출력\n",
    "from bs4 import BeautifulSoup as bs\n",
    "from selenium import webdriver\n",
    "from selenium.webdriver.common.keys import Keys\n",
    "\n",
    "import time\n",
    "\n",
    "driver = webdriver.Chrome('./chromedriver')\n",
    "driver.get('http://www.danawa.com/')\n",
    "driver.set_window_size(1800,1000)\n",
    "time.sleep(1)\n",
    "\n",
    "driver.find_element_by_xpath('//*[@id=\"danawa_header\"]/div[1]/div/div[3]/div[1]/ul/li[3]/a/span').click() # 로그인\n",
    "time.sleep(1)\n",
    "\n",
    "e_i = driver.find_element_by_id('danawa-member-login-input-id')  # id, password 입력\n",
    "e_i.click()\n",
    "e_i.send_keys('leeyk19')\n",
    "e_d = driver.find_element_by_id('danawa-member-login-input-pwd')\n",
    "e_d.click()\n",
    "e_d.send_keys('pythontlftmq1!')       # password 입력해야됨\n",
    "driver.find_element_by_id('danawa-member-login-loginButton').click()\n",
    "time.sleep(1)\n",
    "\n",
    "driver.find_element_by_xpath('//*[@id=\"danawa_header\"]/div[1]/div/div[3]/div[1]/ul/li[1]/a/span').click()\n",
    "time.sleep(2)                       # 최근본상품 클릭 후 시간\n",
    "\n",
    "html = driver.page_source      # html 추출\n",
    "soup = bs(html,'html.parser')\n",
    "num = soup.select('span.ml_prod_page')\n",
    "t_num = int(num[0].text.split('/')[1])         # 전체 페이지 수 추출\n",
    "\n",
    "for n in range(t_num) :\n",
    "    for i in range(len(txt[0].select('li'))):    # 상품명, 가격 print\n",
    "        print('='*20)\n",
    "        print('상품명 : ', txt[0].select('div.title')[i].text)\n",
    "        print('가격 : ' ,txt[0].select('span.num')[i].text)\n",
    "    \n",
    "    driver.find_element_by_xpath('//*[@id=\"mlpPageWrapProduct\"]/button[2]').click()  # 다음페이지로 넘어가기\n",
    "    html = driver.page_source      # html 추출(변경된 html 추출) \n",
    "    soup = bs(html,'html.parser')\n",
    "    txt = soup.select('div.mlp_list_wrap')\n",
    "driver.quit()"
   ]
  },
  {
   "cell_type": "code",
   "execution_count": null,
   "metadata": {},
   "outputs": [],
   "source": []
  }
 ],
 "metadata": {
  "kernelspec": {
   "display_name": "Python 3",
   "language": "python",
   "name": "python3"
  },
  "language_info": {
   "codemirror_mode": {
    "name": "ipython",
    "version": 3
   },
   "file_extension": ".py",
   "mimetype": "text/x-python",
   "name": "python",
   "nbconvert_exporter": "python",
   "pygments_lexer": "ipython3",
   "version": "3.8.3"
  }
 },
 "nbformat": 4,
 "nbformat_minor": 4
}
