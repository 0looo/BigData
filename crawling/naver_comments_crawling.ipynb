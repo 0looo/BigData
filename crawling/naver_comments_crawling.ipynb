{
 "cells": [
  {
   "cell_type": "code",
   "execution_count": 26,
   "metadata": {},
   "outputs": [],
   "source": [
    "from bs4 import BeautifulSoup\n",
    "from selenium import webdriver\n",
    "import time"
   ]
  },
  {
   "cell_type": "code",
   "execution_count": 27,
   "metadata": {},
   "outputs": [],
   "source": [
    "url = 'https://news.naver.com/main/ranking/read.nhn?m_view=1&includeAllCount=true&mid=etc&sid1=111&rankingType=popular_day&oid=081&aid=0003130934&date=20201013&type=1&rankingSeq=1&rankingSectionId=100'"
   ]
  },
  {
   "cell_type": "code",
   "execution_count": 28,
   "metadata": {},
   "outputs": [],
   "source": [
    "driver = webdriver.Chrome('./chromedriver')"
   ]
  },
  {
   "cell_type": "code",
   "execution_count": 29,
   "metadata": {},
   "outputs": [],
   "source": [
    "driver.get(url)\n",
    "\n",
    "time.sleep(2)   # tags가 빈리스트  - soup에서 댓글관련된 html을 불러들이지 못함 -> 댓글까지 로드가 안되었기때문\n",
    "                # 해결방안 : time 함수를 사용해서 텀을 갖게 함(로드할 수 있는 시간을 만들어줌)"
   ]
  },
  {
   "cell_type": "code",
   "execution_count": 30,
   "metadata": {},
   "outputs": [],
   "source": [
    "html = driver.page_source\n",
    "soup = BeautifulSoup(html, 'html.parser')"
   ]
  },
  {
   "cell_type": "code",
   "execution_count": 31,
   "metadata": {},
   "outputs": [],
   "source": [
    "tags = soup.select('ul.u_cbox_list')   "
   ]
  },
  {
   "cell_type": "code",
   "execution_count": 32,
   "metadata": {},
   "outputs": [],
   "source": [
    "lis = tags[0].find_all('li')"
   ]
  },
  {
   "cell_type": "code",
   "execution_count": 33,
   "metadata": {},
   "outputs": [
    {
     "data": {
      "text/plain": [
       "'choc****'"
      ]
     },
     "execution_count": 33,
     "metadata": {},
     "output_type": "execute_result"
    }
   ],
   "source": [
    "user_id = lis[0].select('span.u_cbox_nick')[0].text\n",
    "user_id"
   ]
  },
  {
   "cell_type": "code",
   "execution_count": 34,
   "metadata": {},
   "outputs": [
    {
     "data": {
      "text/plain": [
       "'2020.10.13. 15:34:52'"
      ]
     },
     "execution_count": 34,
     "metadata": {},
     "output_type": "execute_result"
    }
   ],
   "source": [
    "date = lis[0].select('span.u_cbox_date')[0].text\n",
    "date"
   ]
  },
  {
   "cell_type": "code",
   "execution_count": 49,
   "metadata": {},
   "outputs": [
    {
     "data": {
      "text/plain": [
       "'대한민국에서 연예 활동을 하면서 돈과 명예를 긁은넘 이라면 고마워서라도 군대를 자원입대해야 하거늘 군대를 가지 않으려고 국적을 버렀다는 것은 대한민국을 버린것으로서 이넘은 영원히 대한민국에 발을 들여 놓지 못하게 해야 할것이다'"
      ]
     },
     "execution_count": 49,
     "metadata": {},
     "output_type": "execute_result"
    }
   ],
   "source": [
    "comment = lis[0].select('span.u_cbox_contents')[0].text\n",
    "comment"
   ]
  },
  {
   "cell_type": "code",
   "execution_count": 50,
   "metadata": {},
   "outputs": [
    {
     "data": {
      "text/plain": [
       "'657'"
      ]
     },
     "execution_count": 50,
     "metadata": {},
     "output_type": "execute_result"
    }
   ],
   "source": [
    "like = lis[0].select('em.u_cbox_cnt_recomm')[0].text\n",
    "like"
   ]
  },
  {
   "cell_type": "code",
   "execution_count": 51,
   "metadata": {},
   "outputs": [
    {
     "data": {
      "text/plain": [
       "'18'"
      ]
     },
     "execution_count": 51,
     "metadata": {},
     "output_type": "execute_result"
    }
   ],
   "source": [
    "dislike = lis[0].select('em.u_cbox_cnt_unrecomm')[0].text\n",
    "dislike"
   ]
  },
  {
   "cell_type": "code",
   "execution_count": 52,
   "metadata": {},
   "outputs": [
    {
     "data": {
      "text/plain": [
       "20"
      ]
     },
     "execution_count": 52,
     "metadata": {},
     "output_type": "execute_result"
    }
   ],
   "source": [
    "len(lis)"
   ]
  },
  {
   "cell_type": "code",
   "execution_count": 53,
   "metadata": {},
   "outputs": [
    {
     "name": "stdout",
     "output_type": "stream",
     "text": [
      "choc****\n",
      "2020.10.13. 15:34:52\n",
      "대한민국에서 연예 활동을 하면서 돈과 명예를 긁은넘 이라면 고마워서라도 군대를 자원입대해야 하거늘 군대를 가지 않으려고 국적을 버렀다는 것은 대한민국을 버린것으로서 이넘은 영원히 대한민국에 발을 들여 놓지 못하게 해야 할것이다\n",
      "657\n",
      "18\n",
      "==============================\n",
      "cool****\n",
      "2020.10.13. 15:38:13\n",
      "장병 상실감 큰 것은 추미애 아들만 할까??\n",
      "678\n",
      "125\n",
      "==============================\n",
      "xkdr****\n",
      "2020.10.13. 15:41:01\n",
      "울면서 방송찍고 카메라 켜진줄모르고 뒤에서 욕하던넘아냐? 꺼져라 한국올생각도말고\n",
      "336\n",
      "6\n",
      "==============================\n",
      "0070****\n",
      "2020.10.13. 15:36:51\n",
      "근데얜 왜작꾸 온다는거야.그냥관광비자 받고 적당히 관광하고 드가\n",
      "126\n",
      "5\n",
      "==============================\n",
      "inje****\n",
      "2020.10.13. 15:48:42\n",
      "추장관 아들 휴가처리부분도 상실감크다.\n",
      "147\n",
      "33\n",
      "==============================\n",
      "skul****\n",
      "2020.10.13. 15:51:30\n",
      "상황이 그렇다면 스티브유를 받아들일게 아니라, 나머지 사람들도 입국금지 시키는게 맞지.\n",
      "57\n",
      "1\n",
      "==============================\n",
      "rlaa****\n",
      "2020.10.13. 15:53:15\n",
      "한국말을 쓰는 중국인과 무엇이 다른가. 국적포기자들은 영구 입국금지 시켜라. 41세 이후 비자도 안된다. 나라를 쉽게 버리면 나라도 국민을 버릴수 있다는걸 보여라. 그리고 조선족들 귀화도 적극 막아라. 중국과 이중국적아닌가.. 한국말 잘하면 주는 귀화도 절대 반대다.\n",
      "52\n",
      "1\n",
      "==============================\n",
      "seou****\n",
      "2020.10.13. 16:03:44\n",
      "솔직히 유승준보다는 추미애 아들 사건에 장병상실감이 더 크지 ㅋㅋ 저게 언제적 일이야\n",
      "75\n",
      "25\n",
      "==============================\n",
      "lee7****\n",
      "2020.10.13. 15:44:36\n",
      "관광비자 단기체류? 에이 저렇게 오고 싶은 이유가 한국을 사랑하는 애국심이겠습니까? 다 돈벌이 하려고 들어오고 싶어하는거지... 아무튼 헌법상 국방의 의무를 장난으로 취급했으니 반국가범 입니다.\n",
      "35\n",
      "4\n",
      "==============================\n",
      "vbma****\n",
      "2020.10.13. 15:43:52\n",
      "모든 사람에게 공평하게 적용하는 것이 법이라는 테두리인데 이름과 얼굴이 알려진 공인에게만 적용한다면 그건 법이 아니라 법을 가장한 꼬장일 뿐이다.\n",
      "48\n",
      "25\n",
      "==============================\n",
      "inju****\n",
      "2020.10.13. 16:03:24\n",
      "행정부와 사법부 4급 이상 공직자 아들 가운데에도 18명이 국적을 버리고 병역의무를 회피했다.하지만 이들에겐 법무부에 의한 ‘입국금지결정’이 내려져 있지 않다...결국 법이 중요한게 아니네...\n",
      "15\n",
      "0\n",
      "==============================\n",
      "klut****\n",
      "2020.10.13. 15:50:53\n",
      "저 시절, 주변에 군대 간 사람보다 뺏던 사람이 더 많았지.. 군대 가면 되려 집에 그 정도 빽없나? 생각하던... 군대 안 가려고 국적포기하고 한국에서 사업 잘만하는 재벌2세 알았는데.. 또 빽 없다던 누구는 군대 안갈라고 대학교 졸업하자마자 대학원 들어가고 졸업하자마자 유학 가고,, 신기하게 어떻게든 빼던데.. 지금은 다들 50먹은 교수, 유명 사업가들 되었네 ㅎㅎ 다 한국 거주.\n",
      "14\n",
      "0\n",
      "==============================\n",
      "kski****\n",
      "2020.10.13. 16:02:33\n",
      "고만해라 이제... 더한 놈들 천지인데...참...\n",
      "14\n",
      "1\n",
      "==============================\n",
      "abel****\n",
      "2020.10.13. 16:31:11\n",
      "해외공연  나갈때 병무청에서도 보증을 섰는데..갑자기 자긴 미국 국적이라 군대 안 가도 된다고 했으니..병무청에선 괘심 할만도 하지..알려진 연예인이라 믿고 보내 준건데...그리고 자기 입으로 자긴 스티븐 유라고 했잖아..그러니 스티븐 유씨가 버린 대한민국인데..이제와서 뭐가 아쉬운건지...\n",
      "10\n",
      "0\n",
      "==============================\n",
      "sudu****\n",
      "2020.10.13. 16:32:13\n",
      "국적을 포기해 병역의무를 회피한 사람들은 국내에에 자유로운 경제활동을 허용하지 마라.\n",
      "9\n",
      "0\n",
      "==============================\n",
      "lc13****\n",
      "2020.10.13. 16:16:27\n",
      "연예인으로서 약속을 못지킨게 아니라 신검받고는 해외출국 자체가 안되는데 약속을 하고 해외로 나갔지 거기서부터 이미 선 넘은거 아닌가?\n",
      "9\n",
      "0\n",
      "==============================\n",
      "four****\n",
      "2020.10.13. 16:08:57\n",
      "한마디로 한국인 유승준으로써 활동하며 인기와 부를 얻었는데 국방의 의무를 다하지 않고 미국으로 건너가서 입국을 거부하다가 군대갈 나이가 지나고 나니까 다시 입국하려는것은 대한민국을 우롱하는 행동이다\n",
      "9\n",
      "0\n",
      "==============================\n",
      "wkfv****\n",
      "2020.10.13. 16:30:35\n",
      "추씨 아들은??그 사건이 장병들 상실감이 더 클거같은데???\n",
      "9\n",
      "2\n",
      "==============================\n",
      "zhfa****\n",
      "2020.10.13. 16:23:25\n",
      "이런거 볼때마다 허리디스크에 미국영주권자라 군대 면제 안가도되는데 미국영주권 포기하고 허리디스크 수술 치료해서 백마부대 자원입대해서 병장 만기전역한 옥택연 매번 리스펙한다~ 리스펙~ 가슴이 웅장해진다!!! 성범죄에 남의돈 빌리고 돈안갚고있다 논란되닌 갚는 이근 보다 옥택연이 대다나다!!! ㅋㅋ 한국 입국할라면 현재 43세니까 한 60세까지 최전방 군대 근무하는 조건 아니면 절대 반대다!!!!!!\n",
      "8\n",
      "1\n",
      "==============================\n",
      "rhyt****\n",
      "2020.10.13. 16:28:22\n",
      "아니..그러니깐..관광비자로 오라고...왜 자꾸 취업비자로 기어 들어올려고 하냐고....선동하지마라..스티브유..\n",
      "7\n",
      "0\n",
      "==============================\n"
     ]
    }
   ],
   "source": [
    "for li in lis:\n",
    "    user_id = li.select('span.u_cbox_nick')[0].text\n",
    "    date = li.select('span.u_cbox_date')[0].text\n",
    "    comments = li.select('span.u_cbox_contents')[0].text\n",
    "    like = li.select('em.u_cbox_cnt_recomm')[0].text\n",
    "    dislike = li.select('em.u_cbox_cnt_unrecomm')[0].text\n",
    "    \n",
    "    print(user_id)\n",
    "    print(date)\n",
    "    print(comments)\n",
    "    print(like)\n",
    "    print(dislike)\n",
    "    print('==============================')"
   ]
  },
  {
   "cell_type": "code",
   "execution_count": null,
   "metadata": {},
   "outputs": [],
   "source": []
  }
 ],
 "metadata": {
  "kernelspec": {
   "display_name": "Python 3",
   "language": "python",
   "name": "python3"
  },
  "language_info": {
   "codemirror_mode": {
    "name": "ipython",
    "version": 3
   },
   "file_extension": ".py",
   "mimetype": "text/x-python",
   "name": "python",
   "nbconvert_exporter": "python",
   "pygments_lexer": "ipython3",
   "version": "3.8.3"
  }
 },
 "nbformat": 4,
 "nbformat_minor": 4
}
