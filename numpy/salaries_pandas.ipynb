{
 "cells": [
  {
   "cell_type": "code",
   "execution_count": 1,
   "metadata": {},
   "outputs": [],
   "source": [
    "import pandas as pd"
   ]
  },
  {
   "cell_type": "code",
   "execution_count": 4,
   "metadata": {},
   "outputs": [
    {
     "data": {
      "text/html": [
       "<div>\n",
       "<style scoped>\n",
       "    .dataframe tbody tr th:only-of-type {\n",
       "        vertical-align: middle;\n",
       "    }\n",
       "\n",
       "    .dataframe tbody tr th {\n",
       "        vertical-align: top;\n",
       "    }\n",
       "\n",
       "    .dataframe thead th {\n",
       "        text-align: right;\n",
       "    }\n",
       "</style>\n",
       "<table border=\"1\" class=\"dataframe\">\n",
       "  <thead>\n",
       "    <tr style=\"text-align: right;\">\n",
       "      <th></th>\n",
       "      <th>Unnamed: 0</th>\n",
       "      <th>Id</th>\n",
       "      <th>EmployeeName</th>\n",
       "      <th>JobTitle</th>\n",
       "      <th>BasePay</th>\n",
       "      <th>OvertimePay</th>\n",
       "      <th>OtherPay</th>\n",
       "      <th>Benefits</th>\n",
       "      <th>TotalPay</th>\n",
       "      <th>TotalPayBenefits</th>\n",
       "      <th>Year</th>\n",
       "      <th>Notes</th>\n",
       "      <th>Agency</th>\n",
       "      <th>Status</th>\n",
       "    </tr>\n",
       "  </thead>\n",
       "  <tbody>\n",
       "    <tr>\n",
       "      <th>0</th>\n",
       "      <td>0</td>\n",
       "      <td>1</td>\n",
       "      <td>NATHANIEL FORD</td>\n",
       "      <td>GENERAL MANAGER-METROPOLITAN TRANSIT AUTHORITY</td>\n",
       "      <td>167411.18</td>\n",
       "      <td>0.00</td>\n",
       "      <td>400184.25</td>\n",
       "      <td>NaN</td>\n",
       "      <td>567595.43</td>\n",
       "      <td>567595.43</td>\n",
       "      <td>2011</td>\n",
       "      <td>NaN</td>\n",
       "      <td>San Francisco</td>\n",
       "      <td>NaN</td>\n",
       "    </tr>\n",
       "    <tr>\n",
       "      <th>1</th>\n",
       "      <td>1</td>\n",
       "      <td>2</td>\n",
       "      <td>GARY JIMENEZ</td>\n",
       "      <td>CAPTAIN III (POLICE DEPARTMENT)</td>\n",
       "      <td>155966.02</td>\n",
       "      <td>245131.88</td>\n",
       "      <td>137811.38</td>\n",
       "      <td>NaN</td>\n",
       "      <td>538909.28</td>\n",
       "      <td>538909.28</td>\n",
       "      <td>2011</td>\n",
       "      <td>NaN</td>\n",
       "      <td>San Francisco</td>\n",
       "      <td>NaN</td>\n",
       "    </tr>\n",
       "    <tr>\n",
       "      <th>2</th>\n",
       "      <td>2</td>\n",
       "      <td>3</td>\n",
       "      <td>ALBERT PARDINI</td>\n",
       "      <td>CAPTAIN III (POLICE DEPARTMENT)</td>\n",
       "      <td>212739.13</td>\n",
       "      <td>106088.18</td>\n",
       "      <td>16452.60</td>\n",
       "      <td>NaN</td>\n",
       "      <td>335279.91</td>\n",
       "      <td>335279.91</td>\n",
       "      <td>2011</td>\n",
       "      <td>NaN</td>\n",
       "      <td>San Francisco</td>\n",
       "      <td>NaN</td>\n",
       "    </tr>\n",
       "    <tr>\n",
       "      <th>3</th>\n",
       "      <td>3</td>\n",
       "      <td>4</td>\n",
       "      <td>CHRISTOPHER CHONG</td>\n",
       "      <td>WIRE ROPE CABLE MAINTENANCE MECHANIC</td>\n",
       "      <td>77916.00</td>\n",
       "      <td>56120.71</td>\n",
       "      <td>198306.90</td>\n",
       "      <td>NaN</td>\n",
       "      <td>332343.61</td>\n",
       "      <td>332343.61</td>\n",
       "      <td>2011</td>\n",
       "      <td>NaN</td>\n",
       "      <td>San Francisco</td>\n",
       "      <td>NaN</td>\n",
       "    </tr>\n",
       "    <tr>\n",
       "      <th>4</th>\n",
       "      <td>4</td>\n",
       "      <td>5</td>\n",
       "      <td>PATRICK GARDNER</td>\n",
       "      <td>DEPUTY CHIEF OF DEPARTMENT,(FIRE DEPARTMENT)</td>\n",
       "      <td>134401.60</td>\n",
       "      <td>9737.00</td>\n",
       "      <td>182234.59</td>\n",
       "      <td>NaN</td>\n",
       "      <td>326373.19</td>\n",
       "      <td>326373.19</td>\n",
       "      <td>2011</td>\n",
       "      <td>NaN</td>\n",
       "      <td>San Francisco</td>\n",
       "      <td>NaN</td>\n",
       "    </tr>\n",
       "    <tr>\n",
       "      <th>...</th>\n",
       "      <td>...</td>\n",
       "      <td>...</td>\n",
       "      <td>...</td>\n",
       "      <td>...</td>\n",
       "      <td>...</td>\n",
       "      <td>...</td>\n",
       "      <td>...</td>\n",
       "      <td>...</td>\n",
       "      <td>...</td>\n",
       "      <td>...</td>\n",
       "      <td>...</td>\n",
       "      <td>...</td>\n",
       "      <td>...</td>\n",
       "      <td>...</td>\n",
       "    </tr>\n",
       "    <tr>\n",
       "      <th>49995</th>\n",
       "      <td>49995</td>\n",
       "      <td>49996</td>\n",
       "      <td>Carl Jacobs Sr</td>\n",
       "      <td>Transit Operator</td>\n",
       "      <td>65612.03</td>\n",
       "      <td>15604.45</td>\n",
       "      <td>733.84</td>\n",
       "      <td>37250.65</td>\n",
       "      <td>81950.32</td>\n",
       "      <td>119200.97</td>\n",
       "      <td>2012</td>\n",
       "      <td>NaN</td>\n",
       "      <td>San Francisco</td>\n",
       "      <td>NaN</td>\n",
       "    </tr>\n",
       "    <tr>\n",
       "      <th>49996</th>\n",
       "      <td>49996</td>\n",
       "      <td>49997</td>\n",
       "      <td>Yee Lam</td>\n",
       "      <td>Social Work Supervisor</td>\n",
       "      <td>81284.05</td>\n",
       "      <td>0.00</td>\n",
       "      <td>2084.00</td>\n",
       "      <td>35831.69</td>\n",
       "      <td>83368.05</td>\n",
       "      <td>119199.74</td>\n",
       "      <td>2012</td>\n",
       "      <td>NaN</td>\n",
       "      <td>San Francisco</td>\n",
       "      <td>NaN</td>\n",
       "    </tr>\n",
       "    <tr>\n",
       "      <th>49997</th>\n",
       "      <td>49997</td>\n",
       "      <td>49998</td>\n",
       "      <td>Fe V Foronda</td>\n",
       "      <td>Licensed Vocational Nurse</td>\n",
       "      <td>68857.08</td>\n",
       "      <td>16740.17</td>\n",
       "      <td>873.92</td>\n",
       "      <td>32725.45</td>\n",
       "      <td>86471.17</td>\n",
       "      <td>119196.62</td>\n",
       "      <td>2012</td>\n",
       "      <td>NaN</td>\n",
       "      <td>San Francisco</td>\n",
       "      <td>NaN</td>\n",
       "    </tr>\n",
       "    <tr>\n",
       "      <th>49998</th>\n",
       "      <td>49998</td>\n",
       "      <td>49999</td>\n",
       "      <td>Alison Schlageter</td>\n",
       "      <td>Administrative Analyst</td>\n",
       "      <td>83710.58</td>\n",
       "      <td>0.00</td>\n",
       "      <td>0.00</td>\n",
       "      <td>35478.91</td>\n",
       "      <td>83710.58</td>\n",
       "      <td>119189.49</td>\n",
       "      <td>2012</td>\n",
       "      <td>NaN</td>\n",
       "      <td>San Francisco</td>\n",
       "      <td>NaN</td>\n",
       "    </tr>\n",
       "    <tr>\n",
       "      <th>49999</th>\n",
       "      <td>49999</td>\n",
       "      <td>50000</td>\n",
       "      <td>Nicholas Hancock</td>\n",
       "      <td>Senior Administrative Analyst</td>\n",
       "      <td>83785.84</td>\n",
       "      <td>0.00</td>\n",
       "      <td>0.00</td>\n",
       "      <td>35400.78</td>\n",
       "      <td>83785.84</td>\n",
       "      <td>119186.62</td>\n",
       "      <td>2012</td>\n",
       "      <td>NaN</td>\n",
       "      <td>San Francisco</td>\n",
       "      <td>NaN</td>\n",
       "    </tr>\n",
       "  </tbody>\n",
       "</table>\n",
       "<p>50000 rows × 14 columns</p>\n",
       "</div>"
      ],
      "text/plain": [
       "       Unnamed: 0     Id       EmployeeName  \\\n",
       "0               0      1     NATHANIEL FORD   \n",
       "1               1      2       GARY JIMENEZ   \n",
       "2               2      3     ALBERT PARDINI   \n",
       "3               3      4  CHRISTOPHER CHONG   \n",
       "4               4      5    PATRICK GARDNER   \n",
       "...           ...    ...                ...   \n",
       "49995       49995  49996     Carl Jacobs Sr   \n",
       "49996       49996  49997            Yee Lam   \n",
       "49997       49997  49998       Fe V Foronda   \n",
       "49998       49998  49999  Alison Schlageter   \n",
       "49999       49999  50000   Nicholas Hancock   \n",
       "\n",
       "                                             JobTitle    BasePay  OvertimePay  \\\n",
       "0      GENERAL MANAGER-METROPOLITAN TRANSIT AUTHORITY  167411.18         0.00   \n",
       "1                     CAPTAIN III (POLICE DEPARTMENT)  155966.02    245131.88   \n",
       "2                     CAPTAIN III (POLICE DEPARTMENT)  212739.13    106088.18   \n",
       "3                WIRE ROPE CABLE MAINTENANCE MECHANIC   77916.00     56120.71   \n",
       "4        DEPUTY CHIEF OF DEPARTMENT,(FIRE DEPARTMENT)  134401.60      9737.00   \n",
       "...                                               ...        ...          ...   \n",
       "49995                                Transit Operator   65612.03     15604.45   \n",
       "49996                          Social Work Supervisor   81284.05         0.00   \n",
       "49997                       Licensed Vocational Nurse   68857.08     16740.17   \n",
       "49998                          Administrative Analyst   83710.58         0.00   \n",
       "49999                   Senior Administrative Analyst   83785.84         0.00   \n",
       "\n",
       "        OtherPay  Benefits   TotalPay  TotalPayBenefits  Year  Notes  \\\n",
       "0      400184.25       NaN  567595.43         567595.43  2011    NaN   \n",
       "1      137811.38       NaN  538909.28         538909.28  2011    NaN   \n",
       "2       16452.60       NaN  335279.91         335279.91  2011    NaN   \n",
       "3      198306.90       NaN  332343.61         332343.61  2011    NaN   \n",
       "4      182234.59       NaN  326373.19         326373.19  2011    NaN   \n",
       "...          ...       ...        ...               ...   ...    ...   \n",
       "49995     733.84  37250.65   81950.32         119200.97  2012    NaN   \n",
       "49996    2084.00  35831.69   83368.05         119199.74  2012    NaN   \n",
       "49997     873.92  32725.45   86471.17         119196.62  2012    NaN   \n",
       "49998       0.00  35478.91   83710.58         119189.49  2012    NaN   \n",
       "49999       0.00  35400.78   83785.84         119186.62  2012    NaN   \n",
       "\n",
       "              Agency  Status  \n",
       "0      San Francisco     NaN  \n",
       "1      San Francisco     NaN  \n",
       "2      San Francisco     NaN  \n",
       "3      San Francisco     NaN  \n",
       "4      San Francisco     NaN  \n",
       "...              ...     ...  \n",
       "49995  San Francisco     NaN  \n",
       "49996  San Francisco     NaN  \n",
       "49997  San Francisco     NaN  \n",
       "49998  San Francisco     NaN  \n",
       "49999  San Francisco     NaN  \n",
       "\n",
       "[50000 rows x 14 columns]"
      ]
     },
     "execution_count": 4,
     "metadata": {},
     "output_type": "execute_result"
    }
   ],
   "source": [
    "sal = pd.read_csv('Salaries1.csv')\n",
    "sal"
   ]
  },
  {
   "cell_type": "markdown",
   "metadata": {},
   "source": [
    "##### 1. BasePay 평균은?"
   ]
  },
  {
   "cell_type": "code",
   "execution_count": 5,
   "metadata": {},
   "outputs": [
    {
     "data": {
      "text/plain": [
       "75601.13714620461"
      ]
     },
     "execution_count": 5,
     "metadata": {},
     "output_type": "execute_result"
    }
   ],
   "source": [
    "sal['BasePay'].mean()"
   ]
  },
  {
   "cell_type": "markdown",
   "metadata": {},
   "source": [
    "##### 2. OvertimePay의 최대값은?"
   ]
  },
  {
   "cell_type": "code",
   "execution_count": 6,
   "metadata": {},
   "outputs": [
    {
     "data": {
      "text/plain": [
       "245131.88"
      ]
     },
     "execution_count": 6,
     "metadata": {},
     "output_type": "execute_result"
    }
   ],
   "source": [
    "sal['OvertimePay'].max()"
   ]
  },
  {
   "cell_type": "markdown",
   "metadata": {},
   "source": [
    "##### 3. 'JOSEPH DRISCOLL'의 직업은?"
   ]
  },
  {
   "cell_type": "code",
   "execution_count": 13,
   "metadata": {},
   "outputs": [
    {
     "data": {
      "text/plain": [
       "24    CAPTAIN, FIRE SUPPRESSION\n",
       "Name: JobTitle, dtype: object"
      ]
     },
     "execution_count": 13,
     "metadata": {},
     "output_type": "execute_result"
    }
   ],
   "source": [
    "sal[sal['EmployeeName']=='JOSEPH DRISCOLL']['JobTitle']"
   ]
  },
  {
   "cell_type": "markdown",
   "metadata": {},
   "source": [
    "##### 4. 'TotalPayBenefits' 최고금액을 수령하는 사람의 이름은?"
   ]
  },
  {
   "cell_type": "code",
   "execution_count": 16,
   "metadata": {},
   "outputs": [
    {
     "data": {
      "text/plain": [
       "0    NATHANIEL FORD\n",
       "Name: EmployeeName, dtype: object"
      ]
     },
     "execution_count": 16,
     "metadata": {},
     "output_type": "execute_result"
    }
   ],
   "source": [
    "sal[sal['TotalPayBenefits']==sal['TotalPayBenefits'].max()]['EmployeeName']"
   ]
  },
  {
   "cell_type": "markdown",
   "metadata": {},
   "source": [
    "##### 5. 연도별 BasePay의 평균금액은?"
   ]
  },
  {
   "cell_type": "code",
   "execution_count": 18,
   "metadata": {},
   "outputs": [
    {
     "data": {
      "text/plain": [
       "Year\n",
       "2011     63595.956517\n",
       "2012    106964.140280\n",
       "Name: BasePay, dtype: float64"
      ]
     },
     "execution_count": 18,
     "metadata": {},
     "output_type": "execute_result"
    }
   ],
   "source": [
    "sal.groupby('Year')['BasePay'].mean()"
   ]
  },
  {
   "cell_type": "markdown",
   "metadata": {},
   "source": [
    "##### 6. 'JobTitle'의 종류는?"
   ]
  },
  {
   "cell_type": "code",
   "execution_count": 20,
   "metadata": {},
   "outputs": [
    {
     "data": {
      "text/plain": [
       "1697"
      ]
     },
     "execution_count": 20,
     "metadata": {},
     "output_type": "execute_result"
    }
   ],
   "source": [
    "len(sal.groupby('JobTitle'))"
   ]
  },
  {
   "cell_type": "markdown",
   "metadata": {},
   "source": [
    "##### 7. 'JobTitle'의 종류 중 가장 많은 JobTitle 상위 5개는 무엇인가?"
   ]
  },
  {
   "cell_type": "code",
   "execution_count": 55,
   "metadata": {},
   "outputs": [
    {
     "name": "stdout",
     "output_type": "stream",
     "text": [
      "Unnamed: 0\n",
      "Id\n",
      "EmployeeName\n",
      "JobTitle\n",
      "BasePay\n",
      "OvertimePay\n",
      "OtherPay\n",
      "Benefits\n",
      "TotalPay\n",
      "TotalPayBenefits\n",
      "Year\n",
      "Notes\n",
      "Agency\n",
      "Status\n"
     ]
    }
   ],
   "source": [
    "job_d = {}\n",
    "Job = sal.groupby('JobTitle')\n",
    "for i in Job.head(1) :\n",
    "    print(i)\n",
    "    #     job_d[i] = len(Job.get_group(i))\n",
    "# job_d"
   ]
  },
  {
   "cell_type": "markdown",
   "metadata": {},
   "source": [
    "##### 8. 2013년도에 오직 한 사람만 종사하고 있는 JobTitle은?"
   ]
  },
  {
   "cell_type": "code",
   "execution_count": 45,
   "metadata": {},
   "outputs": [],
   "source": [
    "year = sal[sal['Year']==2013]"
   ]
  },
  {
   "cell_type": "markdown",
   "metadata": {},
   "source": [
    "##### 9. 'Chief'라는 직업을 가진 사람의 수는?"
   ]
  },
  {
   "cell_type": "code",
   "execution_count": null,
   "metadata": {},
   "outputs": [],
   "source": []
  },
  {
   "cell_type": "code",
   "execution_count": null,
   "metadata": {},
   "outputs": [],
   "source": []
  },
  {
   "cell_type": "code",
   "execution_count": null,
   "metadata": {},
   "outputs": [],
   "source": []
  }
 ],
 "metadata": {
  "kernelspec": {
   "display_name": "Python 3",
   "language": "python",
   "name": "python3"
  },
  "language_info": {
   "codemirror_mode": {
    "name": "ipython",
    "version": 3
   },
   "file_extension": ".py",
   "mimetype": "text/x-python",
   "name": "python",
   "nbconvert_exporter": "python",
   "pygments_lexer": "ipython3",
   "version": "3.8.3"
  }
 },
 "nbformat": 4,
 "nbformat_minor": 4
}
