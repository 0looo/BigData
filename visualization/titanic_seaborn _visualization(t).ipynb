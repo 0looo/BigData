{
 "cells": [
  {
   "cell_type": "code",
   "execution_count": 2,
   "metadata": {},
   "outputs": [],
   "source": [
    "import pandas as pd\n",
    "import numpy as np\n",
    "import matplotlib.pyplot as plt\n",
    "import seaborn as sns"
   ]
  },
  {
   "cell_type": "code",
   "execution_count": 4,
   "metadata": {},
   "outputs": [
    {
     "data": {
      "text/html": [
       "<div>\n",
       "<style scoped>\n",
       "    .dataframe tbody tr th:only-of-type {\n",
       "        vertical-align: middle;\n",
       "    }\n",
       "\n",
       "    .dataframe tbody tr th {\n",
       "        vertical-align: top;\n",
       "    }\n",
       "\n",
       "    .dataframe thead th {\n",
       "        text-align: right;\n",
       "    }\n",
       "</style>\n",
       "<table border=\"1\" class=\"dataframe\">\n",
       "  <thead>\n",
       "    <tr style=\"text-align: right;\">\n",
       "      <th></th>\n",
       "      <th>survived</th>\n",
       "      <th>pclass</th>\n",
       "      <th>sex</th>\n",
       "      <th>age</th>\n",
       "      <th>sibsp</th>\n",
       "      <th>parch</th>\n",
       "      <th>fare</th>\n",
       "      <th>embarked</th>\n",
       "      <th>class</th>\n",
       "      <th>who</th>\n",
       "      <th>adult_male</th>\n",
       "      <th>deck</th>\n",
       "      <th>embark_town</th>\n",
       "      <th>alive</th>\n",
       "      <th>alone</th>\n",
       "    </tr>\n",
       "  </thead>\n",
       "  <tbody>\n",
       "    <tr>\n",
       "      <th>0</th>\n",
       "      <td>0</td>\n",
       "      <td>3</td>\n",
       "      <td>male</td>\n",
       "      <td>22.0</td>\n",
       "      <td>1</td>\n",
       "      <td>0</td>\n",
       "      <td>7.2500</td>\n",
       "      <td>S</td>\n",
       "      <td>Third</td>\n",
       "      <td>man</td>\n",
       "      <td>True</td>\n",
       "      <td>NaN</td>\n",
       "      <td>Southampton</td>\n",
       "      <td>no</td>\n",
       "      <td>False</td>\n",
       "    </tr>\n",
       "    <tr>\n",
       "      <th>1</th>\n",
       "      <td>1</td>\n",
       "      <td>1</td>\n",
       "      <td>female</td>\n",
       "      <td>38.0</td>\n",
       "      <td>1</td>\n",
       "      <td>0</td>\n",
       "      <td>71.2833</td>\n",
       "      <td>C</td>\n",
       "      <td>First</td>\n",
       "      <td>woman</td>\n",
       "      <td>False</td>\n",
       "      <td>C</td>\n",
       "      <td>Cherbourg</td>\n",
       "      <td>yes</td>\n",
       "      <td>False</td>\n",
       "    </tr>\n",
       "    <tr>\n",
       "      <th>2</th>\n",
       "      <td>1</td>\n",
       "      <td>3</td>\n",
       "      <td>female</td>\n",
       "      <td>26.0</td>\n",
       "      <td>0</td>\n",
       "      <td>0</td>\n",
       "      <td>7.9250</td>\n",
       "      <td>S</td>\n",
       "      <td>Third</td>\n",
       "      <td>woman</td>\n",
       "      <td>False</td>\n",
       "      <td>NaN</td>\n",
       "      <td>Southampton</td>\n",
       "      <td>yes</td>\n",
       "      <td>True</td>\n",
       "    </tr>\n",
       "    <tr>\n",
       "      <th>3</th>\n",
       "      <td>1</td>\n",
       "      <td>1</td>\n",
       "      <td>female</td>\n",
       "      <td>35.0</td>\n",
       "      <td>1</td>\n",
       "      <td>0</td>\n",
       "      <td>53.1000</td>\n",
       "      <td>S</td>\n",
       "      <td>First</td>\n",
       "      <td>woman</td>\n",
       "      <td>False</td>\n",
       "      <td>C</td>\n",
       "      <td>Southampton</td>\n",
       "      <td>yes</td>\n",
       "      <td>False</td>\n",
       "    </tr>\n",
       "    <tr>\n",
       "      <th>4</th>\n",
       "      <td>0</td>\n",
       "      <td>3</td>\n",
       "      <td>male</td>\n",
       "      <td>35.0</td>\n",
       "      <td>0</td>\n",
       "      <td>0</td>\n",
       "      <td>8.0500</td>\n",
       "      <td>S</td>\n",
       "      <td>Third</td>\n",
       "      <td>man</td>\n",
       "      <td>True</td>\n",
       "      <td>NaN</td>\n",
       "      <td>Southampton</td>\n",
       "      <td>no</td>\n",
       "      <td>True</td>\n",
       "    </tr>\n",
       "  </tbody>\n",
       "</table>\n",
       "</div>"
      ],
      "text/plain": [
       "   survived  pclass     sex   age  sibsp  parch     fare embarked  class  \\\n",
       "0         0       3    male  22.0      1      0   7.2500        S  Third   \n",
       "1         1       1  female  38.0      1      0  71.2833        C  First   \n",
       "2         1       3  female  26.0      0      0   7.9250        S  Third   \n",
       "3         1       1  female  35.0      1      0  53.1000        S  First   \n",
       "4         0       3    male  35.0      0      0   8.0500        S  Third   \n",
       "\n",
       "     who  adult_male deck  embark_town alive  alone  \n",
       "0    man        True  NaN  Southampton    no  False  \n",
       "1  woman       False    C    Cherbourg   yes  False  \n",
       "2  woman       False  NaN  Southampton   yes   True  \n",
       "3  woman       False    C  Southampton   yes  False  \n",
       "4    man        True  NaN  Southampton    no   True  "
      ]
     },
     "execution_count": 4,
     "metadata": {},
     "output_type": "execute_result"
    }
   ],
   "source": [
    "df = sns.load_dataset('titanic')\n",
    "df.head()"
   ]
  },
  {
   "cell_type": "code",
   "execution_count": null,
   "metadata": {},
   "outputs": [],
   "source": [
    "# 남성과 여성의 수를 bar chart로 표현하시오.."
   ]
  },
  {
   "cell_type": "code",
   "execution_count": 8,
   "metadata": {
    "collapsed": true
   },
   "outputs": [
    {
     "data": {
      "text/plain": [
       "<matplotlib.axes._subplots.AxesSubplot at 0x252e81caa90>"
      ]
     },
     "execution_count": 8,
     "metadata": {},
     "output_type": "execute_result"
    },
    {
     "data": {
      "image/png": "[encoded data removed]",
      "text/plain": [
       "<Figure size 432x288 with 1 Axes>"
      ]
     },
     "metadata": {
      "needs_background": "light"
     },
     "output_type": "display_data"
    }
   ],
   "source": [
    "df.sex.value_counts().plot(kind='bar')"
   ]
  },
  {
   "cell_type": "code",
   "execution_count": 9,
   "metadata": {
    "collapsed": true
   },
   "outputs": [
    {
     "data": {
      "text/plain": [
       "<matplotlib.axes._subplots.AxesSubplot at 0x252e891aa90>"
      ]
     },
     "execution_count": 9,
     "metadata": {},
     "output_type": "execute_result"
    },
    {
     "data": {
      "image/png": "[encoded data removed]",
      "text/plain": [
       "<Figure size 432x288 with 1 Axes>"
      ]
     },
     "metadata": {
      "needs_background": "light"
     },
     "output_type": "display_data"
    }
   ],
   "source": [
    "sns.countplot('sex', data=df)"
   ]
  },
  {
   "cell_type": "code",
   "execution_count": 10,
   "metadata": {},
   "outputs": [
    {
     "name": "stdout",
     "output_type": "stream",
     "text": [
      "<class 'pandas.core.frame.DataFrame'>\n",
      "RangeIndex: 891 entries, 0 to 890\n",
      "Data columns (total 15 columns):\n",
      " #   Column       Non-Null Count  Dtype   \n",
      "---  ------       --------------  -----   \n",
      " 0   survived     891 non-null    int64   \n",
      " 1   pclass       891 non-null    int64   \n",
      " 2   sex          891 non-null    object  \n",
      " 3   age          714 non-null    float64 \n",
      " 4   sibsp        891 non-null    int64   \n",
      " 5   parch        891 non-null    int64   \n",
      " 6   fare         891 non-null    float64 \n",
      " 7   embarked     889 non-null    object  \n",
      " 8   class        891 non-null    category\n",
      " 9   who          891 non-null    object  \n",
      " 10  adult_male   891 non-null    bool    \n",
      " 11  deck         203 non-null    category\n",
      " 12  embark_town  889 non-null    object  \n",
      " 13  alive        891 non-null    object  \n",
      " 14  alone        891 non-null    bool    \n",
      "dtypes: bool(2), category(2), float64(2), int64(4), object(5)\n",
      "memory usage: 80.6+ KB\n"
     ]
    }
   ],
   "source": [
    "df.info()"
   ]
  },
  {
   "cell_type": "code",
   "execution_count": 11,
   "metadata": {},
   "outputs": [
    {
     "data": {
      "text/html": [
       "<div>\n",
       "<style scoped>\n",
       "    .dataframe tbody tr th:only-of-type {\n",
       "        vertical-align: middle;\n",
       "    }\n",
       "\n",
       "    .dataframe tbody tr th {\n",
       "        vertical-align: top;\n",
       "    }\n",
       "\n",
       "    .dataframe thead th {\n",
       "        text-align: right;\n",
       "    }\n",
       "</style>\n",
       "<table border=\"1\" class=\"dataframe\">\n",
       "  <thead>\n",
       "    <tr style=\"text-align: right;\">\n",
       "      <th></th>\n",
       "      <th>survived</th>\n",
       "      <th>pclass</th>\n",
       "      <th>sex</th>\n",
       "      <th>age</th>\n",
       "      <th>sibsp</th>\n",
       "      <th>parch</th>\n",
       "      <th>fare</th>\n",
       "      <th>embarked</th>\n",
       "      <th>class</th>\n",
       "      <th>who</th>\n",
       "      <th>adult_male</th>\n",
       "      <th>deck</th>\n",
       "      <th>embark_town</th>\n",
       "      <th>alive</th>\n",
       "      <th>alone</th>\n",
       "    </tr>\n",
       "  </thead>\n",
       "  <tbody>\n",
       "    <tr>\n",
       "      <th>0</th>\n",
       "      <td>0</td>\n",
       "      <td>3</td>\n",
       "      <td>male</td>\n",
       "      <td>22.0</td>\n",
       "      <td>1</td>\n",
       "      <td>0</td>\n",
       "      <td>7.2500</td>\n",
       "      <td>S</td>\n",
       "      <td>Third</td>\n",
       "      <td>man</td>\n",
       "      <td>True</td>\n",
       "      <td>NaN</td>\n",
       "      <td>Southampton</td>\n",
       "      <td>no</td>\n",
       "      <td>False</td>\n",
       "    </tr>\n",
       "    <tr>\n",
       "      <th>1</th>\n",
       "      <td>1</td>\n",
       "      <td>1</td>\n",
       "      <td>female</td>\n",
       "      <td>38.0</td>\n",
       "      <td>1</td>\n",
       "      <td>0</td>\n",
       "      <td>71.2833</td>\n",
       "      <td>C</td>\n",
       "      <td>First</td>\n",
       "      <td>woman</td>\n",
       "      <td>False</td>\n",
       "      <td>C</td>\n",
       "      <td>Cherbourg</td>\n",
       "      <td>yes</td>\n",
       "      <td>False</td>\n",
       "    </tr>\n",
       "    <tr>\n",
       "      <th>2</th>\n",
       "      <td>1</td>\n",
       "      <td>3</td>\n",
       "      <td>female</td>\n",
       "      <td>26.0</td>\n",
       "      <td>0</td>\n",
       "      <td>0</td>\n",
       "      <td>7.9250</td>\n",
       "      <td>S</td>\n",
       "      <td>Third</td>\n",
       "      <td>woman</td>\n",
       "      <td>False</td>\n",
       "      <td>NaN</td>\n",
       "      <td>Southampton</td>\n",
       "      <td>yes</td>\n",
       "      <td>True</td>\n",
       "    </tr>\n",
       "    <tr>\n",
       "      <th>3</th>\n",
       "      <td>1</td>\n",
       "      <td>1</td>\n",
       "      <td>female</td>\n",
       "      <td>35.0</td>\n",
       "      <td>1</td>\n",
       "      <td>0</td>\n",
       "      <td>53.1000</td>\n",
       "      <td>S</td>\n",
       "      <td>First</td>\n",
       "      <td>woman</td>\n",
       "      <td>False</td>\n",
       "      <td>C</td>\n",
       "      <td>Southampton</td>\n",
       "      <td>yes</td>\n",
       "      <td>False</td>\n",
       "    </tr>\n",
       "    <tr>\n",
       "      <th>4</th>\n",
       "      <td>0</td>\n",
       "      <td>3</td>\n",
       "      <td>male</td>\n",
       "      <td>35.0</td>\n",
       "      <td>0</td>\n",
       "      <td>0</td>\n",
       "      <td>8.0500</td>\n",
       "      <td>S</td>\n",
       "      <td>Third</td>\n",
       "      <td>man</td>\n",
       "      <td>True</td>\n",
       "      <td>NaN</td>\n",
       "      <td>Southampton</td>\n",
       "      <td>no</td>\n",
       "      <td>True</td>\n",
       "    </tr>\n",
       "  </tbody>\n",
       "</table>\n",
       "</div>"
      ],
      "text/plain": [
       "   survived  pclass     sex   age  sibsp  parch     fare embarked  class  \\\n",
       "0         0       3    male  22.0      1      0   7.2500        S  Third   \n",
       "1         1       1  female  38.0      1      0  71.2833        C  First   \n",
       "2         1       3  female  26.0      0      0   7.9250        S  Third   \n",
       "3         1       1  female  35.0      1      0  53.1000        S  First   \n",
       "4         0       3    male  35.0      0      0   8.0500        S  Third   \n",
       "\n",
       "     who  adult_male deck  embark_town alive  alone  \n",
       "0    man        True  NaN  Southampton    no  False  \n",
       "1  woman       False    C    Cherbourg   yes  False  \n",
       "2  woman       False  NaN  Southampton   yes   True  \n",
       "3  woman       False    C  Southampton   yes  False  \n",
       "4    man        True  NaN  Southampton    no   True  "
      ]
     },
     "execution_count": 11,
     "metadata": {},
     "output_type": "execute_result"
    }
   ],
   "source": [
    "df.head()"
   ]
  },
  {
   "cell_type": "code",
   "execution_count": 12,
   "metadata": {
    "collapsed": true
   },
   "outputs": [
    {
     "data": {
      "text/plain": [
       "0      22.0\n",
       "1      38.0\n",
       "2      26.0\n",
       "3      35.0\n",
       "4      35.0\n",
       "       ... \n",
       "886    27.0\n",
       "887    19.0\n",
       "888     NaN\n",
       "889    26.0\n",
       "890    32.0\n",
       "Name: age, Length: 891, dtype: float64"
      ]
     },
     "execution_count": 12,
     "metadata": {},
     "output_type": "execute_result"
    }
   ],
   "source": [
    "# age 칼럼의 null값을 pcclass(1,2,3) 각 클래스의 평균 연령으로 채운다.."
   ]
  },
  {
   "cell_type": "code",
   "execution_count": 15,
   "metadata": {},
   "outputs": [
    {
     "data": {
      "text/plain": [
       "177"
      ]
     },
     "execution_count": 15,
     "metadata": {},
     "output_type": "execute_result"
    }
   ],
   "source": [
    "sum(np.isnan(df.age))"
   ]
  },
  {
   "cell_type": "code",
   "execution_count": 18,
   "metadata": {
    "collapsed": true
   },
   "outputs": [
    {
     "data": {
      "text/html": [
       "<div>\n",
       "<style scoped>\n",
       "    .dataframe tbody tr th:only-of-type {\n",
       "        vertical-align: middle;\n",
       "    }\n",
       "\n",
       "    .dataframe tbody tr th {\n",
       "        vertical-align: top;\n",
       "    }\n",
       "\n",
       "    .dataframe thead th {\n",
       "        text-align: right;\n",
       "    }\n",
       "</style>\n",
       "<table border=\"1\" class=\"dataframe\">\n",
       "  <thead>\n",
       "    <tr style=\"text-align: right;\">\n",
       "      <th></th>\n",
       "      <th>survived</th>\n",
       "      <th>pclass</th>\n",
       "      <th>sex</th>\n",
       "      <th>age</th>\n",
       "      <th>sibsp</th>\n",
       "      <th>parch</th>\n",
       "      <th>fare</th>\n",
       "      <th>embarked</th>\n",
       "      <th>class</th>\n",
       "      <th>who</th>\n",
       "      <th>adult_male</th>\n",
       "      <th>deck</th>\n",
       "      <th>embark_town</th>\n",
       "      <th>alive</th>\n",
       "      <th>alone</th>\n",
       "    </tr>\n",
       "  </thead>\n",
       "  <tbody>\n",
       "    <tr>\n",
       "      <th>0</th>\n",
       "      <td>0</td>\n",
       "      <td>3</td>\n",
       "      <td>male</td>\n",
       "      <td>22.0</td>\n",
       "      <td>1</td>\n",
       "      <td>0</td>\n",
       "      <td>7.2500</td>\n",
       "      <td>S</td>\n",
       "      <td>Third</td>\n",
       "      <td>man</td>\n",
       "      <td>True</td>\n",
       "      <td>NaN</td>\n",
       "      <td>Southampton</td>\n",
       "      <td>no</td>\n",
       "      <td>False</td>\n",
       "    </tr>\n",
       "    <tr>\n",
       "      <th>1</th>\n",
       "      <td>1</td>\n",
       "      <td>1</td>\n",
       "      <td>female</td>\n",
       "      <td>38.0</td>\n",
       "      <td>1</td>\n",
       "      <td>0</td>\n",
       "      <td>71.2833</td>\n",
       "      <td>C</td>\n",
       "      <td>First</td>\n",
       "      <td>woman</td>\n",
       "      <td>False</td>\n",
       "      <td>C</td>\n",
       "      <td>Cherbourg</td>\n",
       "      <td>yes</td>\n",
       "      <td>False</td>\n",
       "    </tr>\n",
       "  </tbody>\n",
       "</table>\n",
       "</div>"
      ],
      "text/plain": [
       "   survived  pclass     sex   age  sibsp  parch     fare embarked  class  \\\n",
       "0         0       3    male  22.0      1      0   7.2500        S  Third   \n",
       "1         1       1  female  38.0      1      0  71.2833        C  First   \n",
       "\n",
       "     who  adult_male deck  embark_town alive  alone  \n",
       "0    man        True  NaN  Southampton    no  False  \n",
       "1  woman       False    C    Cherbourg   yes  False  "
      ]
     },
     "execution_count": 18,
     "metadata": {},
     "output_type": "execute_result"
    }
   ],
   "source": [
    "df.head(2)"
   ]
  },
  {
   "cell_type": "code",
   "execution_count": 19,
   "metadata": {},
   "outputs": [
    {
     "data": {
      "text/plain": [
       "pclass\n",
       "1    38.233441\n",
       "2    29.877630\n",
       "3    25.140620\n",
       "Name: age, dtype: float64"
      ]
     },
     "execution_count": 19,
     "metadata": {},
     "output_type": "execute_result"
    }
   ],
   "source": [
    "# 1. pcclass의 클래별 평균연령구하기..\n",
    "\n",
    "df.groupby('pclass')['age'].mean()"
   ]
  },
  {
   "cell_type": "code",
   "execution_count": 21,
   "metadata": {},
   "outputs": [],
   "source": [
    "# 2. age의 null값을 pclass의 평균나이로 대체.."
   ]
  },
  {
   "cell_type": "code",
   "execution_count": 23,
   "metadata": {
    "collapsed": true
   },
   "outputs": [
    {
     "data": {
      "text/plain": [
       "[22.0,\n",
       " 38.0,\n",
       " 26.0,\n",
       " 35.0,\n",
       " 35.0,\n",
       " 25,\n",
       " 54.0,\n",
       " 2.0,\n",
       " 27.0,\n",
       " 14.0,\n",
       " 4.0,\n",
       " 58.0,\n",
       " 20.0,\n",
       " 39.0,\n",
       " 14.0,\n",
       " 55.0,\n",
       " 2.0,\n",
       " 29,\n",
       " 31.0,\n",
       " 25,\n",
       " 35.0,\n",
       " 34.0,\n",
       " 15.0,\n",
       " 28.0,\n",
       " 8.0,\n",
       " 38.0,\n",
       " 25,\n",
       " 19.0,\n",
       " 25,\n",
       " 25,\n",
       " 40.0,\n",
       " 38,\n",
       " 25,\n",
       " 66.0,\n",
       " 28.0,\n",
       " 42.0,\n",
       " 25,\n",
       " 21.0,\n",
       " 18.0,\n",
       " 14.0,\n",
       " 40.0,\n",
       " 27.0,\n",
       " 25,\n",
       " 3.0,\n",
       " 19.0,\n",
       " 25,\n",
       " 25,\n",
       " 25,\n",
       " 25,\n",
       " 18.0,\n",
       " 7.0,\n",
       " 21.0,\n",
       " 49.0,\n",
       " 29.0,\n",
       " 65.0,\n",
       " 38,\n",
       " 21.0,\n",
       " 28.5,\n",
       " 5.0,\n",
       " 11.0,\n",
       " 22.0,\n",
       " 38.0,\n",
       " 45.0,\n",
       " 4.0,\n",
       " 38,\n",
       " 25,\n",
       " 29.0,\n",
       " 19.0,\n",
       " 17.0,\n",
       " 26.0,\n",
       " 32.0,\n",
       " 16.0,\n",
       " 21.0,\n",
       " 26.0,\n",
       " 32.0,\n",
       " 25.0,\n",
       " 25,\n",
       " 25,\n",
       " 0.83,\n",
       " 30.0,\n",
       " 22.0,\n",
       " 29.0,\n",
       " 25,\n",
       " 28.0,\n",
       " 17.0,\n",
       " 33.0,\n",
       " 16.0,\n",
       " 25,\n",
       " 23.0,\n",
       " 24.0,\n",
       " 29.0,\n",
       " 20.0,\n",
       " 46.0,\n",
       " 26.0,\n",
       " 59.0,\n",
       " 25,\n",
       " 71.0,\n",
       " 23.0,\n",
       " 34.0,\n",
       " 34.0,\n",
       " 28.0,\n",
       " 25,\n",
       " 21.0,\n",
       " 33.0,\n",
       " 37.0,\n",
       " 28.0,\n",
       " 21.0,\n",
       " 25,\n",
       " 38.0,\n",
       " 25,\n",
       " 47.0,\n",
       " 14.5,\n",
       " 22.0,\n",
       " 20.0,\n",
       " 17.0,\n",
       " 21.0,\n",
       " 70.5,\n",
       " 29.0,\n",
       " 24.0,\n",
       " 2.0,\n",
       " 21.0,\n",
       " 25,\n",
       " 32.5,\n",
       " 32.5,\n",
       " 54.0,\n",
       " 12.0,\n",
       " 25,\n",
       " 24.0,\n",
       " 25,\n",
       " 45.0,\n",
       " 33.0,\n",
       " 20.0,\n",
       " 47.0,\n",
       " 29.0,\n",
       " 25.0,\n",
       " 23.0,\n",
       " 19.0,\n",
       " 37.0,\n",
       " 16.0,\n",
       " 24.0,\n",
       " 25,\n",
       " 22.0,\n",
       " 24.0,\n",
       " 19.0,\n",
       " 18.0,\n",
       " 19.0,\n",
       " 27.0,\n",
       " 9.0,\n",
       " 36.5,\n",
       " 42.0,\n",
       " 51.0,\n",
       " 22.0,\n",
       " 55.5,\n",
       " 40.5,\n",
       " 25,\n",
       " 51.0,\n",
       " 16.0,\n",
       " 30.0,\n",
       " 25,\n",
       " 25,\n",
       " 44.0,\n",
       " 40.0,\n",
       " 26.0,\n",
       " 17.0,\n",
       " 1.0,\n",
       " 9.0,\n",
       " 38,\n",
       " 45.0,\n",
       " 38,\n",
       " 28.0,\n",
       " 61.0,\n",
       " 4.0,\n",
       " 1.0,\n",
       " 21.0,\n",
       " 56.0,\n",
       " 18.0,\n",
       " 25,\n",
       " 50.0,\n",
       " 30.0,\n",
       " 36.0,\n",
       " 25,\n",
       " 29,\n",
       " 9.0,\n",
       " 1.0,\n",
       " 4.0,\n",
       " 38,\n",
       " 25,\n",
       " 45.0,\n",
       " 40.0,\n",
       " 36.0,\n",
       " 32.0,\n",
       " 19.0,\n",
       " 19.0,\n",
       " 3.0,\n",
       " 44.0,\n",
       " 58.0,\n",
       " 25,\n",
       " 42.0,\n",
       " 25,\n",
       " 24.0,\n",
       " 28.0,\n",
       " 25,\n",
       " 34.0,\n",
       " 45.5,\n",
       " 18.0,\n",
       " 2.0,\n",
       " 32.0,\n",
       " 26.0,\n",
       " 16.0,\n",
       " 40.0,\n",
       " 24.0,\n",
       " 35.0,\n",
       " 22.0,\n",
       " 30.0,\n",
       " 25,\n",
       " 31.0,\n",
       " 27.0,\n",
       " 42.0,\n",
       " 32.0,\n",
       " 30.0,\n",
       " 16.0,\n",
       " 27.0,\n",
       " 51.0,\n",
       " 25,\n",
       " 38.0,\n",
       " 22.0,\n",
       " 19.0,\n",
       " 20.5,\n",
       " 18.0,\n",
       " 25,\n",
       " 35.0,\n",
       " 29.0,\n",
       " 59.0,\n",
       " 5.0,\n",
       " 24.0,\n",
       " 25,\n",
       " 44.0,\n",
       " 8.0,\n",
       " 19.0,\n",
       " 33.0,\n",
       " 25,\n",
       " 25,\n",
       " 29.0,\n",
       " 22.0,\n",
       " 30.0,\n",
       " 44.0,\n",
       " 25.0,\n",
       " 24.0,\n",
       " 37.0,\n",
       " 54.0,\n",
       " 25,\n",
       " 29.0,\n",
       " 62.0,\n",
       " 30.0,\n",
       " 41.0,\n",
       " 29.0,\n",
       " 38,\n",
       " 30.0,\n",
       " 35.0,\n",
       " 50.0,\n",
       " 25,\n",
       " 3.0,\n",
       " 52.0,\n",
       " 40.0,\n",
       " 25,\n",
       " 36.0,\n",
       " 16.0,\n",
       " 25.0,\n",
       " 58.0,\n",
       " 35.0,\n",
       " 38,\n",
       " 25.0,\n",
       " 41.0,\n",
       " 37.0,\n",
       " 25,\n",
       " 63.0,\n",
       " 45.0,\n",
       " 29,\n",
       " 7.0,\n",
       " 35.0,\n",
       " 65.0,\n",
       " 28.0,\n",
       " 16.0,\n",
       " 19.0,\n",
       " 38,\n",
       " 33.0,\n",
       " 30.0,\n",
       " 22.0,\n",
       " 42.0,\n",
       " 22.0,\n",
       " 26.0,\n",
       " 19.0,\n",
       " 36.0,\n",
       " 24.0,\n",
       " 24.0,\n",
       " 38,\n",
       " 23.5,\n",
       " 2.0,\n",
       " 38,\n",
       " 50.0,\n",
       " 25,\n",
       " 25,\n",
       " 19.0,\n",
       " 29,\n",
       " 25,\n",
       " 0.92,\n",
       " 38,\n",
       " 17.0,\n",
       " 30.0,\n",
       " 30.0,\n",
       " 24.0,\n",
       " 18.0,\n",
       " 26.0,\n",
       " 28.0,\n",
       " 43.0,\n",
       " 26.0,\n",
       " 24.0,\n",
       " 54.0,\n",
       " 31.0,\n",
       " 40.0,\n",
       " 22.0,\n",
       " 27.0,\n",
       " 30.0,\n",
       " 22.0,\n",
       " 25,\n",
       " 36.0,\n",
       " 61.0,\n",
       " 36.0,\n",
       " 31.0,\n",
       " 16.0,\n",
       " 25,\n",
       " 45.5,\n",
       " 38.0,\n",
       " 16.0,\n",
       " 38,\n",
       " 25,\n",
       " 29.0,\n",
       " 41.0,\n",
       " 45.0,\n",
       " 45.0,\n",
       " 2.0,\n",
       " 24.0,\n",
       " 28.0,\n",
       " 25.0,\n",
       " 36.0,\n",
       " 24.0,\n",
       " 40.0,\n",
       " 25,\n",
       " 3.0,\n",
       " 42.0,\n",
       " 23.0,\n",
       " 38,\n",
       " 15.0,\n",
       " 25.0,\n",
       " 25,\n",
       " 28.0,\n",
       " 22.0,\n",
       " 38.0,\n",
       " 25,\n",
       " 25,\n",
       " 40.0,\n",
       " 29.0,\n",
       " 45.0,\n",
       " 35.0,\n",
       " 25,\n",
       " 30.0,\n",
       " 60.0,\n",
       " 25,\n",
       " 25,\n",
       " 24.0,\n",
       " 25.0,\n",
       " 18.0,\n",
       " 19.0,\n",
       " 22.0,\n",
       " 3.0,\n",
       " 38,\n",
       " 22.0,\n",
       " 27.0,\n",
       " 20.0,\n",
       " 19.0,\n",
       " 42.0,\n",
       " 1.0,\n",
       " 32.0,\n",
       " 35.0,\n",
       " 25,\n",
       " 18.0,\n",
       " 1.0,\n",
       " 36.0,\n",
       " 25,\n",
       " 17.0,\n",
       " 36.0,\n",
       " 21.0,\n",
       " 28.0,\n",
       " 23.0,\n",
       " 24.0,\n",
       " 22.0,\n",
       " 31.0,\n",
       " 46.0,\n",
       " 23.0,\n",
       " 28.0,\n",
       " 39.0,\n",
       " 26.0,\n",
       " 21.0,\n",
       " 28.0,\n",
       " 20.0,\n",
       " 34.0,\n",
       " 51.0,\n",
       " 3.0,\n",
       " 21.0,\n",
       " 25,\n",
       " 25,\n",
       " 25,\n",
       " 33.0,\n",
       " 29,\n",
       " 44.0,\n",
       " 25,\n",
       " 34.0,\n",
       " 18.0,\n",
       " 30.0,\n",
       " 10.0,\n",
       " 25,\n",
       " 21.0,\n",
       " 29.0,\n",
       " 28.0,\n",
       " 18.0,\n",
       " 25,\n",
       " 28.0,\n",
       " 19.0,\n",
       " 25,\n",
       " 32.0,\n",
       " 28.0,\n",
       " 25,\n",
       " 42.0,\n",
       " 17.0,\n",
       " 50.0,\n",
       " 14.0,\n",
       " 21.0,\n",
       " 24.0,\n",
       " 64.0,\n",
       " 31.0,\n",
       " 45.0,\n",
       " 20.0,\n",
       " 25.0,\n",
       " 28.0,\n",
       " 25,\n",
       " 4.0,\n",
       " 13.0,\n",
       " 34.0,\n",
       " 5.0,\n",
       " 52.0,\n",
       " 36.0,\n",
       " 25,\n",
       " 30.0,\n",
       " 49.0,\n",
       " 25,\n",
       " 29.0,\n",
       " 65.0,\n",
       " 38,\n",
       " 50.0,\n",
       " 25,\n",
       " 48.0,\n",
       " 34.0,\n",
       " 47.0,\n",
       " 48.0,\n",
       " 25,\n",
       " 38.0,\n",
       " 29,\n",
       " 56.0,\n",
       " 25,\n",
       " 0.75,\n",
       " 25,\n",
       " 38.0,\n",
       " 33.0,\n",
       " 23.0,\n",
       " 22.0,\n",
       " 38,\n",
       " 34.0,\n",
       " 29.0,\n",
       " 22.0,\n",
       " 2.0,\n",
       " 9.0,\n",
       " 29,\n",
       " 50.0,\n",
       " 63.0,\n",
       " 25.0,\n",
       " 25,\n",
       " 35.0,\n",
       " 58.0,\n",
       " 30.0,\n",
       " 9.0,\n",
       " 25,\n",
       " 21.0,\n",
       " 55.0,\n",
       " 71.0,\n",
       " 21.0,\n",
       " 25,\n",
       " 54.0,\n",
       " 25,\n",
       " 25.0,\n",
       " 24.0,\n",
       " 17.0,\n",
       " 21.0,\n",
       " 25,\n",
       " 37.0,\n",
       " 16.0,\n",
       " 18.0,\n",
       " 33.0,\n",
       " 38,\n",
       " 28.0,\n",
       " 26.0,\n",
       " 29.0,\n",
       " 25,\n",
       " 36.0,\n",
       " 54.0,\n",
       " 24.0,\n",
       " 47.0,\n",
       " 34.0,\n",
       " 25,\n",
       " 36.0,\n",
       " 32.0,\n",
       " 30.0,\n",
       " 22.0,\n",
       " 25,\n",
       " 44.0,\n",
       " 25,\n",
       " 40.5,\n",
       " 50.0,\n",
       " 38,\n",
       " 39.0,\n",
       " 23.0,\n",
       " 2.0,\n",
       " 25,\n",
       " 17.0,\n",
       " 25,\n",
       " 30.0,\n",
       " 7.0,\n",
       " 45.0,\n",
       " 30.0,\n",
       " 25,\n",
       " 22.0,\n",
       " 36.0,\n",
       " 9.0,\n",
       " 11.0,\n",
       " 32.0,\n",
       " 50.0,\n",
       " 64.0,\n",
       " 19.0,\n",
       " 29,\n",
       " 33.0,\n",
       " 8.0,\n",
       " 17.0,\n",
       " 27.0,\n",
       " 25,\n",
       " 22.0,\n",
       " 22.0,\n",
       " 62.0,\n",
       " 48.0,\n",
       " 38,\n",
       " 39.0,\n",
       " 36.0,\n",
       " 25,\n",
       " 40.0,\n",
       " 28.0,\n",
       " 25,\n",
       " 25,\n",
       " 24.0,\n",
       " 19.0,\n",
       " 29.0,\n",
       " 25,\n",
       " 32.0,\n",
       " 62.0,\n",
       " 53.0,\n",
       " 36.0,\n",
       " 25,\n",
       " 16.0,\n",
       " 19.0,\n",
       " 34.0,\n",
       " 39.0,\n",
       " 25,\n",
       " 32.0,\n",
       " 25.0,\n",
       " 39.0,\n",
       " 54.0,\n",
       " 36.0,\n",
       " 25,\n",
       " 18.0,\n",
       " 47.0,\n",
       " 60.0,\n",
       " 22.0,\n",
       " 25,\n",
       " 35.0,\n",
       " 52.0,\n",
       " 47.0,\n",
       " 25,\n",
       " 37.0,\n",
       " 36.0,\n",
       " 29,\n",
       " 49.0,\n",
       " 25,\n",
       " 49.0,\n",
       " 24.0,\n",
       " 25,\n",
       " 38,\n",
       " 44.0,\n",
       " 35.0,\n",
       " 36.0,\n",
       " 30.0,\n",
       " 27.0,\n",
       " 22.0,\n",
       " 40.0,\n",
       " 39.0,\n",
       " 25,\n",
       " 25,\n",
       " 25,\n",
       " 35.0,\n",
       " 24.0,\n",
       " 34.0,\n",
       " 26.0,\n",
       " 4.0,\n",
       " 26.0,\n",
       " 27.0,\n",
       " 42.0,\n",
       " 20.0,\n",
       " 21.0,\n",
       " 21.0,\n",
       " 61.0,\n",
       " 57.0,\n",
       " 21.0,\n",
       " 26.0,\n",
       " 25,\n",
       " 80.0,\n",
       " 51.0,\n",
       " 32.0,\n",
       " 38,\n",
       " 9.0,\n",
       " 28.0,\n",
       " 32.0,\n",
       " 31.0,\n",
       " 41.0,\n",
       " 25,\n",
       " 20.0,\n",
       " 24.0,\n",
       " 2.0,\n",
       " 25,\n",
       " 0.75,\n",
       " 48.0,\n",
       " 19.0,\n",
       " 56.0,\n",
       " 25,\n",
       " 23.0,\n",
       " 25,\n",
       " 18.0,\n",
       " 21.0,\n",
       " 25,\n",
       " 18.0,\n",
       " 24.0,\n",
       " 25,\n",
       " 32.0,\n",
       " 23.0,\n",
       " 58.0,\n",
       " 50.0,\n",
       " 40.0,\n",
       " 47.0,\n",
       " 36.0,\n",
       " 20.0,\n",
       " 32.0,\n",
       " 25.0,\n",
       " 25,\n",
       " 43.0,\n",
       " 38,\n",
       " 40.0,\n",
       " 31.0,\n",
       " 70.0,\n",
       " 31.0,\n",
       " 29,\n",
       " 18.0,\n",
       " 24.5,\n",
       " 18.0,\n",
       " 43.0,\n",
       " 36.0,\n",
       " 25,\n",
       " 27.0,\n",
       " 20.0,\n",
       " 14.0,\n",
       " 60.0,\n",
       " 25.0,\n",
       " 14.0,\n",
       " 19.0,\n",
       " 18.0,\n",
       " 15.0,\n",
       " 31.0,\n",
       " 4.0,\n",
       " 25,\n",
       " 25.0,\n",
       " 60.0,\n",
       " 52.0,\n",
       " 44.0,\n",
       " 25,\n",
       " 49.0,\n",
       " 42.0,\n",
       " 18.0,\n",
       " 35.0,\n",
       " 18.0,\n",
       " 25.0,\n",
       " 26.0,\n",
       " 39.0,\n",
       " 45.0,\n",
       " 42.0,\n",
       " 22.0,\n",
       " 25,\n",
       " 24.0,\n",
       " 38,\n",
       " 48.0,\n",
       " 29.0,\n",
       " 52.0,\n",
       " 19.0,\n",
       " 38.0,\n",
       " 27.0,\n",
       " 25,\n",
       " 33.0,\n",
       " 6.0,\n",
       " 17.0,\n",
       " 34.0,\n",
       " 50.0,\n",
       " 27.0,\n",
       " 20.0,\n",
       " 30.0,\n",
       " 25,\n",
       " 25.0,\n",
       " 25.0,\n",
       " 29.0,\n",
       " 11.0,\n",
       " 29,\n",
       " 23.0,\n",
       " 23.0,\n",
       " 28.5,\n",
       " 48.0,\n",
       " 35.0,\n",
       " 25,\n",
       " 25,\n",
       " 38,\n",
       " 36.0,\n",
       " 21.0,\n",
       " 24.0,\n",
       " 31.0,\n",
       " 70.0,\n",
       " 16.0,\n",
       " 30.0,\n",
       " 19.0,\n",
       " 31.0,\n",
       " 4.0,\n",
       " 6.0,\n",
       " 33.0,\n",
       " 23.0,\n",
       " 48.0,\n",
       " 0.67,\n",
       " 28.0,\n",
       " 18.0,\n",
       " 34.0,\n",
       " 33.0,\n",
       " 25,\n",
       " 41.0,\n",
       " 20.0,\n",
       " 36.0,\n",
       " 16.0,\n",
       " 51.0,\n",
       " 38,\n",
       " 30.5,\n",
       " 25,\n",
       " 32.0,\n",
       " 24.0,\n",
       " 48.0,\n",
       " 57.0,\n",
       " 25,\n",
       " 54.0,\n",
       " 18.0,\n",
       " 25,\n",
       " 5.0,\n",
       " 25,\n",
       " 43.0,\n",
       " 13.0,\n",
       " 17.0,\n",
       " 29.0,\n",
       " 25,\n",
       " 25.0,\n",
       " 25.0,\n",
       " 18.0,\n",
       " 8.0,\n",
       " 1.0,\n",
       " 46.0,\n",
       " 25,\n",
       " 16.0,\n",
       " 25,\n",
       " 38,\n",
       " 25.0,\n",
       " 39.0,\n",
       " 49.0,\n",
       " 31.0,\n",
       " 30.0,\n",
       " 30.0,\n",
       " 34.0,\n",
       " 31.0,\n",
       " 11.0,\n",
       " 0.42,\n",
       " 27.0,\n",
       " 31.0,\n",
       " 39.0,\n",
       " 18.0,\n",
       " 39.0,\n",
       " 33.0,\n",
       " 26.0,\n",
       " 39.0,\n",
       " 35.0,\n",
       " 6.0,\n",
       " 30.5,\n",
       " 38,\n",
       " 23.0,\n",
       " 31.0,\n",
       " 43.0,\n",
       " 10.0,\n",
       " 52.0,\n",
       " 27.0,\n",
       " 38.0,\n",
       " 27.0,\n",
       " 2.0,\n",
       " 25,\n",
       " 25,\n",
       " 1.0,\n",
       " 25,\n",
       " 62.0,\n",
       " 15.0,\n",
       " 0.83,\n",
       " 25,\n",
       " 23.0,\n",
       " 18.0,\n",
       " 39.0,\n",
       " 21.0,\n",
       " 25,\n",
       " 32.0,\n",
       " 38,\n",
       " 20.0,\n",
       " 16.0,\n",
       " 30.0,\n",
       " 34.5,\n",
       " 17.0,\n",
       " 42.0,\n",
       " 25,\n",
       " 35.0,\n",
       " 28.0,\n",
       " 38,\n",
       " 4.0,\n",
       " 74.0,\n",
       " 9.0,\n",
       " 16.0,\n",
       " 44.0,\n",
       " 18.0,\n",
       " 45.0,\n",
       " 51.0,\n",
       " 24.0,\n",
       " 25,\n",
       " 41.0,\n",
       " 21.0,\n",
       " 48.0,\n",
       " 25,\n",
       " 24.0,\n",
       " 42.0,\n",
       " 27.0,\n",
       " 31.0,\n",
       " 25,\n",
       " 4.0,\n",
       " 26.0,\n",
       " 47.0,\n",
       " 33.0,\n",
       " 47.0,\n",
       " 28.0,\n",
       " 15.0,\n",
       " 20.0,\n",
       " 19.0,\n",
       " 25,\n",
       " 56.0,\n",
       " 25.0,\n",
       " 33.0,\n",
       " 22.0,\n",
       " 28.0,\n",
       " 25.0,\n",
       " 39.0,\n",
       " 27.0,\n",
       " 19.0,\n",
       " 25,\n",
       " 26.0,\n",
       " 32.0]"
      ]
     },
     "execution_count": 23,
     "metadata": {},
     "output_type": "execute_result"
    }
   ],
   "source": [
    "age_list = []\n",
    "for i in zip(df.age, df.pclass):\n",
    "    if np.isnan(i[0]):\n",
    "        if i[1] == 1:\n",
    "            age_list.append(38)\n",
    "        elif i[1] == 2:\n",
    "            age_list.append(29)\n",
    "        else:\n",
    "            age_list.append(25)\n",
    "    else:\n",
    "        age_list.append(i[0])\n",
    "age_list"
   ]
  },
  {
   "cell_type": "code",
   "execution_count": 24,
   "metadata": {},
   "outputs": [],
   "source": [
    "df['age'] = age_list"
   ]
  },
  {
   "cell_type": "code",
   "execution_count": 25,
   "metadata": {
    "collapsed": true
   },
   "outputs": [
    {
     "name": "stdout",
     "output_type": "stream",
     "text": [
      "<class 'pandas.core.frame.DataFrame'>\n",
      "RangeIndex: 891 entries, 0 to 890\n",
      "Data columns (total 15 columns):\n",
      " #   Column       Non-Null Count  Dtype   \n",
      "---  ------       --------------  -----   \n",
      " 0   survived     891 non-null    int64   \n",
      " 1   pclass       891 non-null    int64   \n",
      " 2   sex          891 non-null    object  \n",
      " 3   age          891 non-null    float64 \n",
      " 4   sibsp        891 non-null    int64   \n",
      " 5   parch        891 non-null    int64   \n",
      " 6   fare         891 non-null    float64 \n",
      " 7   embarked     889 non-null    object  \n",
      " 8   class        891 non-null    category\n",
      " 9   who          891 non-null    object  \n",
      " 10  adult_male   891 non-null    bool    \n",
      " 11  deck         203 non-null    category\n",
      " 12  embark_town  889 non-null    object  \n",
      " 13  alive        891 non-null    object  \n",
      " 14  alone        891 non-null    bool    \n",
      "dtypes: bool(2), category(2), float64(2), int64(4), object(5)\n",
      "memory usage: 80.6+ KB\n"
     ]
    }
   ],
   "source": [
    "df.info()"
   ]
  },
  {
   "cell_type": "code",
   "execution_count": 26,
   "metadata": {
    "collapsed": true
   },
   "outputs": [
    {
     "data": {
      "text/plain": [
       "<matplotlib.axes._subplots.AxesSubplot at 0x252e899c9a0>"
      ]
     },
     "execution_count": 26,
     "metadata": {},
     "output_type": "execute_result"
    },
    {
     "data": {
      "image/png": "[encoded data removed]",
      "text/plain": [
       "<Figure size 432x288 with 1 Axes>"
      ]
     },
     "metadata": {
      "needs_background": "light"
     },
     "output_type": "display_data"
    }
   ],
   "source": [
    "sns.countplot('who', data=df)"
   ]
  },
  {
   "cell_type": "code",
   "execution_count": 27,
   "metadata": {
    "collapsed": true
   },
   "outputs": [
    {
     "data": {
      "text/plain": [
       "<matplotlib.axes._subplots.AxesSubplot at 0x252e8af1970>"
      ]
     },
     "execution_count": 27,
     "metadata": {},
     "output_type": "execute_result"
    },
    {
     "data": {
      "image/png": "[encoded data removed]",
      "text/plain": [
       "<Figure size 432x288 with 1 Axes>"
      ]
     },
     "metadata": {
      "needs_background": "light"
     },
     "output_type": "display_data"
    }
   ],
   "source": [
    "sns.countplot('who', data=df, hue='pclass')"
   ]
  },
  {
   "cell_type": "code",
   "execution_count": 28,
   "metadata": {},
   "outputs": [],
   "source": [
    "# age 분포.."
   ]
  },
  {
   "cell_type": "code",
   "execution_count": 29,
   "metadata": {
    "collapsed": true
   },
   "outputs": [
    {
     "data": {
      "text/plain": [
       "<matplotlib.axes._subplots.AxesSubplot at 0x252e8b3aaf0>"
      ]
     },
     "execution_count": 29,
     "metadata": {},
     "output_type": "execute_result"
    },
    {
     "data": {
      "image/png": "[encoded data removed]",
      "text/plain": [
       "<Figure size 432x288 with 1 Axes>"
      ]
     },
     "metadata": {
      "needs_background": "light"
     },
     "output_type": "display_data"
    }
   ],
   "source": [
    "sns.distplot(df.age, bins= 50) # 20 ~ 40대.."
   ]
  },
  {
   "cell_type": "code",
   "execution_count": 30,
   "metadata": {},
   "outputs": [],
   "source": [
    "# 살아남은 사람과 죽은 사람의 비율"
   ]
  },
  {
   "cell_type": "code",
   "execution_count": 33,
   "metadata": {
    "collapsed": true
   },
   "outputs": [
    {
     "data": {
      "text/plain": [
       "<matplotlib.axes._subplots.AxesSubplot at 0x252e8c8af40>"
      ]
     },
     "execution_count": 33,
     "metadata": {},
     "output_type": "execute_result"
    },
    {
     "data": {
      "image/png": "[encoded data removed]",
      "text/plain": [
       "<Figure size 432x288 with 1 Axes>"
      ]
     },
     "metadata": {
      "needs_background": "light"
     },
     "output_type": "display_data"
    }
   ],
   "source": [
    "sns.countplot('survived', data=df, hue='sex')"
   ]
  },
  {
   "cell_type": "code",
   "execution_count": 34,
   "metadata": {
    "collapsed": true
   },
   "outputs": [
    {
     "data": {
      "text/plain": [
       "<matplotlib.axes._subplots.AxesSubplot at 0x252e8cee7f0>"
      ]
     },
     "execution_count": 34,
     "metadata": {},
     "output_type": "execute_result"
    },
    {
     "data": {
      "image/png": "[encoded data removed]",
      "text/plain": [
       "<Figure size 432x288 with 1 Axes>"
      ]
     },
     "metadata": {
      "needs_background": "light"
     },
     "output_type": "display_data"
    }
   ],
   "source": [
    "sns.countplot('survived', data=df, hue='who')"
   ]
  },
  {
   "cell_type": "code",
   "execution_count": 35,
   "metadata": {
    "collapsed": true
   },
   "outputs": [
    {
     "data": {
      "text/plain": [
       "<matplotlib.axes._subplots.AxesSubplot at 0x252e8d41bb0>"
      ]
     },
     "execution_count": 35,
     "metadata": {},
     "output_type": "execute_result"
    },
    {
     "data": {
      "image/png": "[encoded data removed]",
      "text/plain": [
       "<Figure size 432x288 with 1 Axes>"
      ]
     },
     "metadata": {
      "needs_background": "light"
     },
     "output_type": "display_data"
    }
   ],
   "source": [
    "sns.countplot('survived', data=df, hue='pclass')"
   ]
  },
  {
   "cell_type": "code",
   "execution_count": 36,
   "metadata": {},
   "outputs": [],
   "source": [
    "# 연령에 따른 생존분석..."
   ]
  },
  {
   "cell_type": "code",
   "execution_count": 37,
   "metadata": {
    "collapsed": true
   },
   "outputs": [
    {
     "data": {
      "text/plain": [
       "<seaborn.axisgrid.FacetGrid at 0x252e8d9a7c0>"
      ]
     },
     "execution_count": 37,
     "metadata": {},
     "output_type": "execute_result"
    },
    {
     "data": {
      "image/png": "[encoded data removed]",
      "text/plain": [
       "<Figure size 360x360 with 1 Axes>"
      ]
     },
     "metadata": {
      "needs_background": "light"
     },
     "output_type": "display_data"
    }
   ],
   "source": [
    "sns.lmplot(x='age', y = 'survived', data=df)"
   ]
  },
  {
   "cell_type": "code",
   "execution_count": 38,
   "metadata": {},
   "outputs": [
    {
     "data": {
      "text/plain": [
       "<seaborn.axisgrid.FacetGrid at 0x252e8e284c0>"
      ]
     },
     "execution_count": 38,
     "metadata": {},
     "output_type": "execute_result"
    },
    {
     "data": {
      "image/png": "[encoded data removed]",
      "text/plain": [
       "<Figure size 430.5x360 with 1 Axes>"
      ]
     },
     "metadata": {
      "needs_background": "light"
     },
     "output_type": "display_data"
    }
   ],
   "source": [
    "sns.lmplot(x='age', y = 'survived', data=df, hue='sex')"
   ]
  },
  {
   "cell_type": "code",
   "execution_count": 39,
   "metadata": {},
   "outputs": [
    {
     "data": {
      "text/plain": [
       "<matplotlib.axes._subplots.AxesSubplot at 0x252e8bc0880>"
      ]
     },
     "execution_count": 39,
     "metadata": {},
     "output_type": "execute_result"
    },
    {
     "data": {
      "image/png": "[encoded data removed]",
      "text/plain": [
       "<Figure size 432x288 with 1 Axes>"
      ]
     },
     "metadata": {
      "needs_background": "light"
     },
     "output_type": "display_data"
    }
   ],
   "source": [
    "sns.boxplot('age', data=df)"
   ]
  },
  {
   "cell_type": "code",
   "execution_count": null,
   "metadata": {},
   "outputs": [],
   "source": []
  }
 ],
 "metadata": {
  "kernelspec": {
   "display_name": "Python 3",
   "language": "python",
   "name": "python3"
  },
  "language_info": {
   "codemirror_mode": {
    "name": "ipython",
    "version": 3
   },
   "file_extension": ".py",
   "mimetype": "text/x-python",
   "name": "python",
   "nbconvert_exporter": "python",
   "pygments_lexer": "ipython3",
   "version": "3.8.3"
  }
 },
 "nbformat": 4,
 "nbformat_minor": 4
}
