{
 "cells": [
  {
   "cell_type": "code",
   "execution_count": 1,
   "metadata": {
    "executionInfo": {
     "elapsed": 1726,
     "status": "ok",
     "timestamp": 1609915846416,
     "user": {
      "displayName": "글로리",
      "photoUrl": "https://lh3.googleusercontent.com/a-/AOh14Gh21kKlyleXUQHVa2z5MDMSWsHYZa5BzTNsf_yf=s64",
      "userId": "11932548501699987849"
     },
     "user_tz": -540
    },
    "id": "Oc1vtzaNZs1c"
   },
   "outputs": [],
   "source": [
    "bream_length = [25.4, 26.3, 26.5, 29.0, 29.0, 29.7, 29.7, 30.0, 30.0, 30.7, 31.0, 31.0, \n",
    "                31.5, 32.0, 32.0, 32.0, 33.0, 33.0, 33.5, 33.5, 34.0, 34.0, 34.5, 35.0, \n",
    "                35.0, 35.0, 35.0, 36.0, 36.0, 37.0, 38.5, 38.5, 39.5, 41.0, 41.0]\n",
    "bream_weight = [242.0, 290.0, 340.0, 363.0, 430.0, 450.0, 500.0, 390.0, 450.0, 500.0, 475.0, 500.0, \n",
    "                500.0, 340.0, 600.0, 600.0, 700.0, 700.0, 610.0, 650.0, 575.0, 685.0, 620.0, 680.0, \n",
    "                700.0, 725.0, 720.0, 714.0, 850.0, 1000.0, 920.0, 955.0, 925.0, 975.0, 950.0]"
   ]
  },
  {
   "cell_type": "code",
   "execution_count": 2,
   "metadata": {
    "executionInfo": {
     "elapsed": 1364,
     "status": "ok",
     "timestamp": 1609915895635,
     "user": {
      "displayName": "글로리",
      "photoUrl": "https://lh3.googleusercontent.com/a-/AOh14Gh21kKlyleXUQHVa2z5MDMSWsHYZa5BzTNsf_yf=s64",
      "userId": "11932548501699987849"
     },
     "user_tz": -540
    },
    "id": "NfvdOac7bm9r"
   },
   "outputs": [],
   "source": [
    "import matplotlib.pyplot as plt"
   ]
  },
  {
   "cell_type": "code",
   "execution_count": 3,
   "metadata": {
    "colab": {
     "base_uri": "https://localhost:8080/",
     "height": 278
    },
    "executionInfo": {
     "elapsed": 926,
     "status": "ok",
     "timestamp": 1609915976916,
     "user": {
      "displayName": "글로리",
      "photoUrl": "https://lh3.googleusercontent.com/a-/AOh14Gh21kKlyleXUQHVa2z5MDMSWsHYZa5BzTNsf_yf=s64",
      "userId": "11932548501699987849"
     },
     "user_tz": -540
    },
    "id": "oFWgni46dwnM",
    "outputId": "ff048e60-4b20-438a-ea76-e45e67b45685"
   },
   "outputs": [
    {
     "data": {
      "image/png": "[encoded data removed]",
      "text/plain": [
       "<Figure size 432x288 with 1 Axes>"
      ]
     },
     "metadata": {
      "needs_background": "light"
     },
     "output_type": "display_data"
    }
   ],
   "source": [
    "plt.scatter(bream_length, bream_weight)\n",
    "plt.xlabel('length')\n",
    "plt.ylabel('weight')\n",
    "plt.show()"
   ]
  },
  {
   "cell_type": "code",
   "execution_count": 4,
   "metadata": {
    "executionInfo": {
     "elapsed": 1003,
     "status": "ok",
     "timestamp": 1609916005289,
     "user": {
      "displayName": "글로리",
      "photoUrl": "https://lh3.googleusercontent.com/a-/AOh14Gh21kKlyleXUQHVa2z5MDMSWsHYZa5BzTNsf_yf=s64",
      "userId": "11932548501699987849"
     },
     "user_tz": -540
    },
    "id": "HXlHBV3QeBNm"
   },
   "outputs": [],
   "source": [
    "smelt_length = [9.8, 10.5, 10.6, 11.0, 11.2, 11.3, 11.8, 11.8, 12.0, 12.2, 12.4, 13.0, 14.3, 15.0]\n",
    "smelt_weight = [6.7, 7.5, 7.0, 9.7, 9.8, 8.7, 10.0, 9.9, 9.8, 12.2, 13.4, 12.2, 19.7, 19.9]"
   ]
  },
  {
   "cell_type": "code",
   "execution_count": 5,
   "metadata": {
    "colab": {
     "base_uri": "https://localhost:8080/",
     "height": 278
    },
    "executionInfo": {
     "elapsed": 948,
     "status": "ok",
     "timestamp": 1609916076231,
     "user": {
      "displayName": "글로리",
      "photoUrl": "https://lh3.googleusercontent.com/a-/AOh14Gh21kKlyleXUQHVa2z5MDMSWsHYZa5BzTNsf_yf=s64",
      "userId": "11932548501699987849"
     },
     "user_tz": -540
    },
    "id": "fg6_GmheeLZF",
    "outputId": "5f54157f-7ddf-4aed-c23b-0ef9f3829c5f"
   },
   "outputs": [
    {
     "data": {
      "image/png": "[encoded data removed]",
      "text/plain": [
       "<Figure size 432x288 with 1 Axes>"
      ]
     },
     "metadata": {
      "needs_background": "light"
     },
     "output_type": "display_data"
    }
   ],
   "source": [
    "plt.scatter(bream_length, bream_weight)\n",
    "plt.scatter(smelt_length, smelt_weight)\n",
    "plt.xlabel('lenth')\n",
    "plt.ylabel('weight')\n",
    "plt.show()"
   ]
  },
  {
   "cell_type": "code",
   "execution_count": 6,
   "metadata": {
    "executionInfo": {
     "elapsed": 1092,
     "status": "ok",
     "timestamp": 1609916121358,
     "user": {
      "displayName": "글로리",
      "photoUrl": "https://lh3.googleusercontent.com/a-/AOh14Gh21kKlyleXUQHVa2z5MDMSWsHYZa5BzTNsf_yf=s64",
      "userId": "11932548501699987849"
     },
     "user_tz": -540
    },
    "id": "s4it2SRUeV8W"
   },
   "outputs": [],
   "source": [
    "length = bream_length + smelt_length\n",
    "weight = bream_weight + smelt_weight"
   ]
  },
  {
   "cell_type": "code",
   "execution_count": 7,
   "metadata": {
    "colab": {
     "base_uri": "https://localhost:8080/"
    },
    "executionInfo": {
     "elapsed": 932,
     "status": "ok",
     "timestamp": 1609916292372,
     "user": {
      "displayName": "글로리",
      "photoUrl": "https://lh3.googleusercontent.com/a-/AOh14Gh21kKlyleXUQHVa2z5MDMSWsHYZa5BzTNsf_yf=s64",
      "userId": "11932548501699987849"
     },
     "user_tz": -540
    },
    "id": "_pKJcpm2enyt",
    "outputId": "abe7a7c7-95aa-43ef-cad1-c9a833ff9b85"
   },
   "outputs": [
    {
     "data": {
      "text/plain": [
       "[25.4,\n",
       " 26.3,\n",
       " 26.5,\n",
       " 29.0,\n",
       " 29.0,\n",
       " 29.7,\n",
       " 29.7,\n",
       " 30.0,\n",
       " 30.0,\n",
       " 30.7,\n",
       " 31.0,\n",
       " 31.0,\n",
       " 31.5,\n",
       " 32.0,\n",
       " 32.0,\n",
       " 32.0,\n",
       " 33.0,\n",
       " 33.0,\n",
       " 33.5,\n",
       " 33.5,\n",
       " 34.0,\n",
       " 34.0,\n",
       " 34.5,\n",
       " 35.0,\n",
       " 35.0,\n",
       " 35.0,\n",
       " 35.0,\n",
       " 36.0,\n",
       " 36.0,\n",
       " 37.0,\n",
       " 38.5,\n",
       " 38.5,\n",
       " 39.5,\n",
       " 41.0,\n",
       " 41.0,\n",
       " 9.8,\n",
       " 10.5,\n",
       " 10.6,\n",
       " 11.0,\n",
       " 11.2,\n",
       " 11.3,\n",
       " 11.8,\n",
       " 11.8,\n",
       " 12.0,\n",
       " 12.2,\n",
       " 12.4,\n",
       " 13.0,\n",
       " 14.3,\n",
       " 15.0]"
      ]
     },
     "execution_count": 7,
     "metadata": {},
     "output_type": "execute_result"
    }
   ],
   "source": [
    "length"
   ]
  },
  {
   "cell_type": "code",
   "execution_count": 8,
   "metadata": {
    "executionInfo": {
     "elapsed": 1139,
     "status": "ok",
     "timestamp": 1609916242198,
     "user": {
      "displayName": "글로리",
      "photoUrl": "https://lh3.googleusercontent.com/a-/AOh14Gh21kKlyleXUQHVa2z5MDMSWsHYZa5BzTNsf_yf=s64",
      "userId": "11932548501699987849"
     },
     "user_tz": -540
    },
    "id": "Czc-OZUKeoz9"
   },
   "outputs": [],
   "source": [
    "fish_data = [[l,w] for l,w in zip(length,weight)]"
   ]
  },
  {
   "cell_type": "code",
   "execution_count": 9,
   "metadata": {
    "colab": {
     "base_uri": "https://localhost:8080/"
    },
    "executionInfo": {
     "elapsed": 1342,
     "status": "ok",
     "timestamp": 1609916401986,
     "user": {
      "displayName": "글로리",
      "photoUrl": "https://lh3.googleusercontent.com/a-/AOh14Gh21kKlyleXUQHVa2z5MDMSWsHYZa5BzTNsf_yf=s64",
      "userId": "11932548501699987849"
     },
     "user_tz": -540
    },
    "id": "HQXnwy5XfFSG",
    "outputId": "d8967de4-b4bf-492b-cc32-349c57f74e99"
   },
   "outputs": [
    {
     "data": {
      "text/plain": [
       "[[25.4, 242.0],\n",
       " [26.3, 290.0],\n",
       " [26.5, 340.0],\n",
       " [29.0, 363.0],\n",
       " [29.0, 430.0],\n",
       " [29.7, 450.0],\n",
       " [29.7, 500.0],\n",
       " [30.0, 390.0],\n",
       " [30.0, 450.0],\n",
       " [30.7, 500.0],\n",
       " [31.0, 475.0],\n",
       " [31.0, 500.0],\n",
       " [31.5, 500.0],\n",
       " [32.0, 340.0],\n",
       " [32.0, 600.0],\n",
       " [32.0, 600.0],\n",
       " [33.0, 700.0],\n",
       " [33.0, 700.0],\n",
       " [33.5, 610.0],\n",
       " [33.5, 650.0],\n",
       " [34.0, 575.0],\n",
       " [34.0, 685.0],\n",
       " [34.5, 620.0],\n",
       " [35.0, 680.0],\n",
       " [35.0, 700.0],\n",
       " [35.0, 725.0],\n",
       " [35.0, 720.0],\n",
       " [36.0, 714.0],\n",
       " [36.0, 850.0],\n",
       " [37.0, 1000.0],\n",
       " [38.5, 920.0],\n",
       " [38.5, 955.0],\n",
       " [39.5, 925.0],\n",
       " [41.0, 975.0],\n",
       " [41.0, 950.0],\n",
       " [9.8, 6.7],\n",
       " [10.5, 7.5],\n",
       " [10.6, 7.0],\n",
       " [11.0, 9.7],\n",
       " [11.2, 9.8],\n",
       " [11.3, 8.7],\n",
       " [11.8, 10.0],\n",
       " [11.8, 9.9],\n",
       " [12.0, 9.8],\n",
       " [12.2, 12.2],\n",
       " [12.4, 13.4],\n",
       " [13.0, 12.2],\n",
       " [14.3, 19.7],\n",
       " [15.0, 19.9]]"
      ]
     },
     "execution_count": 9,
     "metadata": {},
     "output_type": "execute_result"
    }
   ],
   "source": [
    "fish_data"
   ]
  },
  {
   "cell_type": "code",
   "execution_count": 10,
   "metadata": {
    "colab": {
     "base_uri": "https://localhost:8080/"
    },
    "executionInfo": {
     "elapsed": 799,
     "status": "ok",
     "timestamp": 1609916444543,
     "user": {
      "displayName": "글로리",
      "photoUrl": "https://lh3.googleusercontent.com/a-/AOh14Gh21kKlyleXUQHVa2z5MDMSWsHYZa5BzTNsf_yf=s64",
      "userId": "11932548501699987849"
     },
     "user_tz": -540
    },
    "id": "Z_qjPNHhflWt",
    "outputId": "ea7874d9-d782-4661-a00a-39ee305224ee"
   },
   "outputs": [
    {
     "name": "stdout",
     "output_type": "stream",
     "text": [
      "[1, 1, 1, 1, 1, 1, 1, 1, 1, 1, 1, 1, 1, 1, 1, 1, 1, 1, 1, 1, 1, 1, 1, 1, 1, 1, 1, 1, 1, 1, 1, 1, 1, 1, 1, 0, 0, 0, 0, 0, 0, 0, 0, 0, 0, 0, 0, 0, 0]\n"
     ]
    }
   ],
   "source": [
    "# 보통 찾으려는 값을 1로 둠\n",
    "fish_target = [1]*35 + [0]*14\n",
    "print(fish_target)"
   ]
  },
  {
   "cell_type": "code",
   "execution_count": 11,
   "metadata": {
    "executionInfo": {
     "elapsed": 839,
     "status": "ok",
     "timestamp": 1609916487289,
     "user": {
      "displayName": "글로리",
      "photoUrl": "https://lh3.googleusercontent.com/a-/AOh14Gh21kKlyleXUQHVa2z5MDMSWsHYZa5BzTNsf_yf=s64",
      "userId": "11932548501699987849"
     },
     "user_tz": -540
    },
    "id": "nHhuO8Czf2tV"
   },
   "outputs": [],
   "source": [
    "from sklearn.neighbors import KNeighborsClassifier"
   ]
  },
  {
   "cell_type": "code",
   "execution_count": 12,
   "metadata": {
    "executionInfo": {
     "elapsed": 939,
     "status": "ok",
     "timestamp": 1609916561374,
     "user": {
      "displayName": "글로리",
      "photoUrl": "https://lh3.googleusercontent.com/a-/AOh14Gh21kKlyleXUQHVa2z5MDMSWsHYZa5BzTNsf_yf=s64",
      "userId": "11932548501699987849"
     },
     "user_tz": -540
    },
    "id": "bcg8c827gBMN"
   },
   "outputs": [],
   "source": [
    "knn = KNeighborsClassifier()"
   ]
  },
  {
   "cell_type": "code",
   "execution_count": 13,
   "metadata": {
    "colab": {
     "base_uri": "https://localhost:8080/"
    },
    "executionInfo": {
     "elapsed": 1037,
     "status": "ok",
     "timestamp": 1609916588805,
     "user": {
      "displayName": "글로리",
      "photoUrl": "https://lh3.googleusercontent.com/a-/AOh14Gh21kKlyleXUQHVa2z5MDMSWsHYZa5BzTNsf_yf=s64",
      "userId": "11932548501699987849"
     },
     "user_tz": -540
    },
    "id": "FAkl1Bu0gTQW",
    "outputId": "92d661b9-7c83-4f94-f7cf-48e93281076a"
   },
   "outputs": [
    {
     "data": {
      "text/plain": [
       "KNeighborsClassifier()"
      ]
     },
     "execution_count": 13,
     "metadata": {},
     "output_type": "execute_result"
    }
   ],
   "source": [
    "knn.fit(fish_data, fish_target)"
   ]
  },
  {
   "cell_type": "code",
   "execution_count": 14,
   "metadata": {
    "colab": {
     "base_uri": "https://localhost:8080/"
    },
    "executionInfo": {
     "elapsed": 919,
     "status": "ok",
     "timestamp": 1609916646307,
     "user": {
      "displayName": "글로리",
      "photoUrl": "https://lh3.googleusercontent.com/a-/AOh14Gh21kKlyleXUQHVa2z5MDMSWsHYZa5BzTNsf_yf=s64",
      "userId": "11932548501699987849"
     },
     "user_tz": -540
    },
    "id": "wv1MrPf4gZ7W",
    "outputId": "d017a0c2-2111-4d36-d6d5-c9e64f9465a7"
   },
   "outputs": [
    {
     "data": {
      "text/plain": [
       "1.0"
      ]
     },
     "execution_count": 14,
     "metadata": {},
     "output_type": "execute_result"
    }
   ],
   "source": [
    "# accuracy\n",
    "knn.score(fish_data, fish_target)"
   ]
  },
  {
   "cell_type": "code",
   "execution_count": 15,
   "metadata": {
    "collapsed": true,
    "id": "bT4KM83wgu6e"
   },
   "outputs": [
    {
     "ename": "ValueError",
     "evalue": "Expected 2D array, got 1D array instead:\narray=[ 30 600].\nReshape your data either using array.reshape(-1, 1) if your data has a single feature or array.reshape(1, -1) if it contains a single sample.",
     "output_type": "error",
     "traceback": [
      "\u001b[1;31m---------------------------------------------------------------------------\u001b[0m",
      "\u001b[1;31mValueError\u001b[0m                                Traceback (most recent call last)",
      "\u001b[1;32m<ipython-input-15-4f02eb954e14>\u001b[0m in \u001b[0;36m<module>\u001b[1;34m\u001b[0m\n\u001b[0;32m      1\u001b[0m \u001b[1;31m# error => fit 할때 [[]] 형식(2차원) 이므로 데이터 입력시 2차원으로 넣어야함\u001b[0m\u001b[1;33m\u001b[0m\u001b[1;33m\u001b[0m\u001b[1;33m\u001b[0m\u001b[0m\n\u001b[1;32m----> 2\u001b[1;33m \u001b[0mknn\u001b[0m\u001b[1;33m.\u001b[0m\u001b[0mpredict\u001b[0m\u001b[1;33m(\u001b[0m\u001b[1;33m[\u001b[0m\u001b[1;36m30\u001b[0m\u001b[1;33m,\u001b[0m\u001b[1;36m600\u001b[0m\u001b[1;33m]\u001b[0m\u001b[1;33m)\u001b[0m\u001b[1;33m\u001b[0m\u001b[1;33m\u001b[0m\u001b[0m\n\u001b[0m",
      "\u001b[1;32mC:\\ProgramData\\Anaconda3\\lib\\site-packages\\sklearn\\neighbors\\_classification.py\u001b[0m in \u001b[0;36mpredict\u001b[1;34m(self, X)\u001b[0m\n\u001b[0;32m    171\u001b[0m             \u001b[0mClass\u001b[0m \u001b[0mlabels\u001b[0m \u001b[1;32mfor\u001b[0m \u001b[0meach\u001b[0m \u001b[0mdata\u001b[0m \u001b[0msample\u001b[0m\u001b[1;33m.\u001b[0m\u001b[1;33m\u001b[0m\u001b[1;33m\u001b[0m\u001b[0m\n\u001b[0;32m    172\u001b[0m         \"\"\"\n\u001b[1;32m--> 173\u001b[1;33m         \u001b[0mX\u001b[0m \u001b[1;33m=\u001b[0m \u001b[0mcheck_array\u001b[0m\u001b[1;33m(\u001b[0m\u001b[0mX\u001b[0m\u001b[1;33m,\u001b[0m \u001b[0maccept_sparse\u001b[0m\u001b[1;33m=\u001b[0m\u001b[1;34m'csr'\u001b[0m\u001b[1;33m)\u001b[0m\u001b[1;33m\u001b[0m\u001b[1;33m\u001b[0m\u001b[0m\n\u001b[0m\u001b[0;32m    174\u001b[0m \u001b[1;33m\u001b[0m\u001b[0m\n\u001b[0;32m    175\u001b[0m         \u001b[0mneigh_dist\u001b[0m\u001b[1;33m,\u001b[0m \u001b[0mneigh_ind\u001b[0m \u001b[1;33m=\u001b[0m \u001b[0mself\u001b[0m\u001b[1;33m.\u001b[0m\u001b[0mkneighbors\u001b[0m\u001b[1;33m(\u001b[0m\u001b[0mX\u001b[0m\u001b[1;33m)\u001b[0m\u001b[1;33m\u001b[0m\u001b[1;33m\u001b[0m\u001b[0m\n",
      "\u001b[1;32mC:\\ProgramData\\Anaconda3\\lib\\site-packages\\sklearn\\utils\\validation.py\u001b[0m in \u001b[0;36minner_f\u001b[1;34m(*args, **kwargs)\u001b[0m\n\u001b[0;32m     70\u001b[0m                           FutureWarning)\n\u001b[0;32m     71\u001b[0m         \u001b[0mkwargs\u001b[0m\u001b[1;33m.\u001b[0m\u001b[0mupdate\u001b[0m\u001b[1;33m(\u001b[0m\u001b[1;33m{\u001b[0m\u001b[0mk\u001b[0m\u001b[1;33m:\u001b[0m \u001b[0marg\u001b[0m \u001b[1;32mfor\u001b[0m \u001b[0mk\u001b[0m\u001b[1;33m,\u001b[0m \u001b[0marg\u001b[0m \u001b[1;32min\u001b[0m \u001b[0mzip\u001b[0m\u001b[1;33m(\u001b[0m\u001b[0msig\u001b[0m\u001b[1;33m.\u001b[0m\u001b[0mparameters\u001b[0m\u001b[1;33m,\u001b[0m \u001b[0margs\u001b[0m\u001b[1;33m)\u001b[0m\u001b[1;33m}\u001b[0m\u001b[1;33m)\u001b[0m\u001b[1;33m\u001b[0m\u001b[1;33m\u001b[0m\u001b[0m\n\u001b[1;32m---> 72\u001b[1;33m         \u001b[1;32mreturn\u001b[0m \u001b[0mf\u001b[0m\u001b[1;33m(\u001b[0m\u001b[1;33m**\u001b[0m\u001b[0mkwargs\u001b[0m\u001b[1;33m)\u001b[0m\u001b[1;33m\u001b[0m\u001b[1;33m\u001b[0m\u001b[0m\n\u001b[0m\u001b[0;32m     73\u001b[0m     \u001b[1;32mreturn\u001b[0m \u001b[0minner_f\u001b[0m\u001b[1;33m\u001b[0m\u001b[1;33m\u001b[0m\u001b[0m\n\u001b[0;32m     74\u001b[0m \u001b[1;33m\u001b[0m\u001b[0m\n",
      "\u001b[1;32mC:\\ProgramData\\Anaconda3\\lib\\site-packages\\sklearn\\utils\\validation.py\u001b[0m in \u001b[0;36mcheck_array\u001b[1;34m(array, accept_sparse, accept_large_sparse, dtype, order, copy, force_all_finite, ensure_2d, allow_nd, ensure_min_samples, ensure_min_features, estimator)\u001b[0m\n\u001b[0;32m    617\u001b[0m             \u001b[1;31m# If input is 1D raise error\u001b[0m\u001b[1;33m\u001b[0m\u001b[1;33m\u001b[0m\u001b[1;33m\u001b[0m\u001b[0m\n\u001b[0;32m    618\u001b[0m             \u001b[1;32mif\u001b[0m \u001b[0marray\u001b[0m\u001b[1;33m.\u001b[0m\u001b[0mndim\u001b[0m \u001b[1;33m==\u001b[0m \u001b[1;36m1\u001b[0m\u001b[1;33m:\u001b[0m\u001b[1;33m\u001b[0m\u001b[1;33m\u001b[0m\u001b[0m\n\u001b[1;32m--> 619\u001b[1;33m                 raise ValueError(\n\u001b[0m\u001b[0;32m    620\u001b[0m                     \u001b[1;34m\"Expected 2D array, got 1D array instead:\\narray={}.\\n\"\u001b[0m\u001b[1;33m\u001b[0m\u001b[1;33m\u001b[0m\u001b[0m\n\u001b[0;32m    621\u001b[0m                     \u001b[1;34m\"Reshape your data either using array.reshape(-1, 1) if \"\u001b[0m\u001b[1;33m\u001b[0m\u001b[1;33m\u001b[0m\u001b[0m\n",
      "\u001b[1;31mValueError\u001b[0m: Expected 2D array, got 1D array instead:\narray=[ 30 600].\nReshape your data either using array.reshape(-1, 1) if your data has a single feature or array.reshape(1, -1) if it contains a single sample."
     ]
    }
   ],
   "source": [
    "# error => fit 할때 [[]] 형식(2차원) 이므로 데이터 입력시 2차원으로 넣어야함\n",
    "knn.predict([30,600])"
   ]
  },
  {
   "cell_type": "code",
   "execution_count": 16,
   "metadata": {
    "colab": {
     "base_uri": "https://localhost:8080/"
    },
    "executionInfo": {
     "elapsed": 900,
     "status": "ok",
     "timestamp": 1609916674624,
     "user": {
      "displayName": "글로리",
      "photoUrl": "https://lh3.googleusercontent.com/a-/AOh14Gh21kKlyleXUQHVa2z5MDMSWsHYZa5BzTNsf_yf=s64",
      "userId": "11932548501699987849"
     },
     "user_tz": -540
    },
    "id": "qukkXhcygecW",
    "outputId": "ccbe78a9-79ce-4242-9770-5c9d57e9feeb"
   },
   "outputs": [
    {
     "data": {
      "text/plain": [
       "array([1])"
      ]
     },
     "execution_count": 16,
     "metadata": {},
     "output_type": "execute_result"
    }
   ],
   "source": [
    "knn.predict([[30,600]])"
   ]
  },
  {
   "cell_type": "code",
   "execution_count": 17,
   "metadata": {
    "colab": {
     "base_uri": "https://localhost:8080/"
    },
    "executionInfo": {
     "elapsed": 888,
     "status": "ok",
     "timestamp": 1609916854071,
     "user": {
      "displayName": "글로리",
      "photoUrl": "https://lh3.googleusercontent.com/a-/AOh14Gh21kKlyleXUQHVa2z5MDMSWsHYZa5BzTNsf_yf=s64",
      "userId": "11932548501699987849"
     },
     "user_tz": -540
    },
    "id": "bdrHtN1gg-rt",
    "outputId": "74f10090-b2ae-4821-cbea-02b20ac672c8"
   },
   "outputs": [
    {
     "name": "stdout",
     "output_type": "stream",
     "text": [
      "[[  25.4  242. ]\n",
      " [  26.3  290. ]\n",
      " [  26.5  340. ]\n",
      " [  29.   363. ]\n",
      " [  29.   430. ]\n",
      " [  29.7  450. ]\n",
      " [  29.7  500. ]\n",
      " [  30.   390. ]\n",
      " [  30.   450. ]\n",
      " [  30.7  500. ]\n",
      " [  31.   475. ]\n",
      " [  31.   500. ]\n",
      " [  31.5  500. ]\n",
      " [  32.   340. ]\n",
      " [  32.   600. ]\n",
      " [  32.   600. ]\n",
      " [  33.   700. ]\n",
      " [  33.   700. ]\n",
      " [  33.5  610. ]\n",
      " [  33.5  650. ]\n",
      " [  34.   575. ]\n",
      " [  34.   685. ]\n",
      " [  34.5  620. ]\n",
      " [  35.   680. ]\n",
      " [  35.   700. ]\n",
      " [  35.   725. ]\n",
      " [  35.   720. ]\n",
      " [  36.   714. ]\n",
      " [  36.   850. ]\n",
      " [  37.  1000. ]\n",
      " [  38.5  920. ]\n",
      " [  38.5  955. ]\n",
      " [  39.5  925. ]\n",
      " [  41.   975. ]\n",
      " [  41.   950. ]\n",
      " [   9.8    6.7]\n",
      " [  10.5    7.5]\n",
      " [  10.6    7. ]\n",
      " [  11.     9.7]\n",
      " [  11.2    9.8]\n",
      " [  11.3    8.7]\n",
      " [  11.8   10. ]\n",
      " [  11.8    9.9]\n",
      " [  12.     9.8]\n",
      " [  12.2   12.2]\n",
      " [  12.4   13.4]\n",
      " [  13.    12.2]\n",
      " [  14.3   19.7]\n",
      " [  15.    19.9]]\n"
     ]
    }
   ],
   "source": [
    "print(knn._fit_X)"
   ]
  },
  {
   "cell_type": "code",
   "execution_count": 18,
   "metadata": {
    "executionInfo": {
     "elapsed": 913,
     "status": "ok",
     "timestamp": 1609917009437,
     "user": {
      "displayName": "글로리",
      "photoUrl": "https://lh3.googleusercontent.com/a-/AOh14Gh21kKlyleXUQHVa2z5MDMSWsHYZa5BzTNsf_yf=s64",
      "userId": "11932548501699987849"
     },
     "user_tz": -540
    },
    "id": "j3zxeTTmhaue"
   },
   "outputs": [],
   "source": [
    "knn49 = KNeighborsClassifier(n_neighbors=49)"
   ]
  },
  {
   "cell_type": "code",
   "execution_count": 19,
   "metadata": {
    "colab": {
     "base_uri": "https://localhost:8080/"
    },
    "executionInfo": {
     "elapsed": 1283,
     "status": "ok",
     "timestamp": 1609917009993,
     "user": {
      "displayName": "글로리",
      "photoUrl": "https://lh3.googleusercontent.com/a-/AOh14Gh21kKlyleXUQHVa2z5MDMSWsHYZa5BzTNsf_yf=s64",
      "userId": "11932548501699987849"
     },
     "user_tz": -540
    },
    "id": "NQMZPwGBht_-",
    "outputId": "aec5ed1a-9466-4000-caf9-94126a733c06"
   },
   "outputs": [
    {
     "data": {
      "text/plain": [
       "0.7142857142857143"
      ]
     },
     "execution_count": 19,
     "metadata": {},
     "output_type": "execute_result"
    }
   ],
   "source": [
    "knn49.fit(fish_data, fish_target)\n",
    "\n",
    "knn49.score(fish_data,fish_target)"
   ]
  },
  {
   "cell_type": "code",
   "execution_count": 20,
   "metadata": {
    "colab": {
     "base_uri": "https://localhost:8080/"
    },
    "executionInfo": {
     "elapsed": 890,
     "status": "ok",
     "timestamp": 1609917012822,
     "user": {
      "displayName": "글로리",
      "photoUrl": "https://lh3.googleusercontent.com/a-/AOh14Gh21kKlyleXUQHVa2z5MDMSWsHYZa5BzTNsf_yf=s64",
      "userId": "11932548501699987849"
     },
     "user_tz": -540
    },
    "id": "0u-Ei5GRh2FG",
    "outputId": "e1989b5d-1ca6-4727-8173-9bdacfb3a7e3"
   },
   "outputs": [
    {
     "data": {
      "text/plain": [
       "0.7142857142857143"
      ]
     },
     "execution_count": 20,
     "metadata": {},
     "output_type": "execute_result"
    }
   ],
   "source": [
    "35/49"
   ]
  },
  {
   "cell_type": "code",
   "execution_count": 21,
   "metadata": {
    "executionInfo": {
     "elapsed": 1456,
     "status": "ok",
     "timestamp": 1609924447158,
     "user": {
      "displayName": "글로리",
      "photoUrl": "https://lh3.googleusercontent.com/a-/AOh14Gh21kKlyleXUQHVa2z5MDMSWsHYZa5BzTNsf_yf=s64",
      "userId": "11932548501699987849"
     },
     "user_tz": -540
    },
    "id": "tnYczUN9h8Sm"
   },
   "outputs": [],
   "source": [
    "import numpy as np"
   ]
  },
  {
   "cell_type": "code",
   "execution_count": 22,
   "metadata": {
    "id": "a2Ce4QW5-X8b"
   },
   "outputs": [
    {
     "data": {
      "text/plain": [
       "[[25.4, 242.0],\n",
       " [26.3, 290.0],\n",
       " [26.5, 340.0],\n",
       " [29.0, 363.0],\n",
       " [29.0, 430.0],\n",
       " [29.7, 450.0],\n",
       " [29.7, 500.0],\n",
       " [30.0, 390.0],\n",
       " [30.0, 450.0],\n",
       " [30.7, 500.0],\n",
       " [31.0, 475.0],\n",
       " [31.0, 500.0],\n",
       " [31.5, 500.0],\n",
       " [32.0, 340.0],\n",
       " [32.0, 600.0],\n",
       " [32.0, 600.0],\n",
       " [33.0, 700.0],\n",
       " [33.0, 700.0],\n",
       " [33.5, 610.0],\n",
       " [33.5, 650.0],\n",
       " [34.0, 575.0],\n",
       " [34.0, 685.0],\n",
       " [34.5, 620.0],\n",
       " [35.0, 680.0],\n",
       " [35.0, 700.0],\n",
       " [35.0, 725.0],\n",
       " [35.0, 720.0],\n",
       " [36.0, 714.0],\n",
       " [36.0, 850.0],\n",
       " [37.0, 1000.0],\n",
       " [38.5, 920.0],\n",
       " [38.5, 955.0],\n",
       " [39.5, 925.0],\n",
       " [41.0, 975.0],\n",
       " [41.0, 950.0],\n",
       " [9.8, 6.7],\n",
       " [10.5, 7.5],\n",
       " [10.6, 7.0],\n",
       " [11.0, 9.7],\n",
       " [11.2, 9.8],\n",
       " [11.3, 8.7],\n",
       " [11.8, 10.0],\n",
       " [11.8, 9.9],\n",
       " [12.0, 9.8],\n",
       " [12.2, 12.2],\n",
       " [12.4, 13.4],\n",
       " [13.0, 12.2],\n",
       " [14.3, 19.7],\n",
       " [15.0, 19.9]]"
      ]
     },
     "execution_count": 22,
     "metadata": {},
     "output_type": "execute_result"
    }
   ],
   "source": [
    "fish_data"
   ]
  },
  {
   "cell_type": "code",
   "execution_count": 23,
   "metadata": {
    "executionInfo": {
     "elapsed": 735,
     "status": "ok",
     "timestamp": 1609924595023,
     "user": {
      "displayName": "글로리",
      "photoUrl": "https://lh3.googleusercontent.com/a-/AOh14Gh21kKlyleXUQHVa2z5MDMSWsHYZa5BzTNsf_yf=s64",
      "userId": "11932548501699987849"
     },
     "user_tz": -540
    },
    "id": "AsxxdoMq-gmh"
   },
   "outputs": [],
   "source": [
    "input_arr = np.array(fish_data)\n",
    "target_arr = np.array(fish_target)"
   ]
  },
  {
   "cell_type": "code",
   "execution_count": 24,
   "metadata": {
    "id": "byBogWAc-8pQ"
   },
   "outputs": [
    {
     "name": "stdout",
     "output_type": "stream",
     "text": [
      "[[  25.4  242. ]\n",
      " [  26.3  290. ]\n",
      " [  26.5  340. ]\n",
      " [  29.   363. ]\n",
      " [  29.   430. ]\n",
      " [  29.7  450. ]\n",
      " [  29.7  500. ]\n",
      " [  30.   390. ]\n",
      " [  30.   450. ]\n",
      " [  30.7  500. ]\n",
      " [  31.   475. ]\n",
      " [  31.   500. ]\n",
      " [  31.5  500. ]\n",
      " [  32.   340. ]\n",
      " [  32.   600. ]\n",
      " [  32.   600. ]\n",
      " [  33.   700. ]\n",
      " [  33.   700. ]\n",
      " [  33.5  610. ]\n",
      " [  33.5  650. ]\n",
      " [  34.   575. ]\n",
      " [  34.   685. ]\n",
      " [  34.5  620. ]\n",
      " [  35.   680. ]\n",
      " [  35.   700. ]\n",
      " [  35.   725. ]\n",
      " [  35.   720. ]\n",
      " [  36.   714. ]\n",
      " [  36.   850. ]\n",
      " [  37.  1000. ]\n",
      " [  38.5  920. ]\n",
      " [  38.5  955. ]\n",
      " [  39.5  925. ]\n",
      " [  41.   975. ]\n",
      " [  41.   950. ]\n",
      " [   9.8    6.7]\n",
      " [  10.5    7.5]\n",
      " [  10.6    7. ]\n",
      " [  11.     9.7]\n",
      " [  11.2    9.8]\n",
      " [  11.3    8.7]\n",
      " [  11.8   10. ]\n",
      " [  11.8    9.9]\n",
      " [  12.     9.8]\n",
      " [  12.2   12.2]\n",
      " [  12.4   13.4]\n",
      " [  13.    12.2]\n",
      " [  14.3   19.7]\n",
      " [  15.    19.9]]\n"
     ]
    }
   ],
   "source": [
    "print(input_arr)"
   ]
  },
  {
   "cell_type": "code",
   "execution_count": 25,
   "metadata": {
    "colab": {
     "base_uri": "https://localhost:8080/"
    },
    "executionInfo": {
     "elapsed": 733,
     "status": "ok",
     "timestamp": 1609924628550,
     "user": {
      "displayName": "글로리",
      "photoUrl": "https://lh3.googleusercontent.com/a-/AOh14Gh21kKlyleXUQHVa2z5MDMSWsHYZa5BzTNsf_yf=s64",
      "userId": "11932548501699987849"
     },
     "user_tz": -540
    },
    "id": "QuqMN-bR--iI",
    "outputId": "454cd222-d5cb-4ce0-dc76-39605eb5c903"
   },
   "outputs": [
    {
     "data": {
      "text/plain": [
       "(49, 2)"
      ]
     },
     "execution_count": 25,
     "metadata": {},
     "output_type": "execute_result"
    }
   ],
   "source": [
    "input_arr.shape"
   ]
  },
  {
   "cell_type": "code",
   "execution_count": 26,
   "metadata": {
    "colab": {
     "base_uri": "https://localhost:8080/"
    },
    "executionInfo": {
     "elapsed": 741,
     "status": "ok",
     "timestamp": 1609924648673,
     "user": {
      "displayName": "글로리",
      "photoUrl": "https://lh3.googleusercontent.com/a-/AOh14Gh21kKlyleXUQHVa2z5MDMSWsHYZa5BzTNsf_yf=s64",
      "userId": "11932548501699987849"
     },
     "user_tz": -540
    },
    "id": "aoa5s0GS_E1J",
    "outputId": "f2f2fa08-10f1-4815-fccf-37420a447bde"
   },
   "outputs": [
    {
     "data": {
      "text/plain": [
       "array([ 25.4, 242. ])"
      ]
     },
     "execution_count": 26,
     "metadata": {},
     "output_type": "execute_result"
    }
   ],
   "source": [
    "input_arr[0]"
   ]
  },
  {
   "cell_type": "code",
   "execution_count": 27,
   "metadata": {
    "executionInfo": {
     "elapsed": 740,
     "status": "ok",
     "timestamp": 1609924827834,
     "user": {
      "displayName": "글로리",
      "photoUrl": "https://lh3.googleusercontent.com/a-/AOh14Gh21kKlyleXUQHVa2z5MDMSWsHYZa5BzTNsf_yf=s64",
      "userId": "11932548501699987849"
     },
     "user_tz": -540
    },
    "id": "r5ijObII_Jsh"
   },
   "outputs": [],
   "source": [
    "np.random.seed(42)   # random 순서를 일정하게 만들어줌\n",
    "index = np.arange(49)\n",
    "np.random.shuffle(index)"
   ]
  },
  {
   "cell_type": "code",
   "execution_count": 28,
   "metadata": {
    "colab": {
     "base_uri": "https://localhost:8080/"
    },
    "executionInfo": {
     "elapsed": 771,
     "status": "ok",
     "timestamp": 1609924828211,
     "user": {
      "displayName": "글로리",
      "photoUrl": "https://lh3.googleusercontent.com/a-/AOh14Gh21kKlyleXUQHVa2z5MDMSWsHYZa5BzTNsf_yf=s64",
      "userId": "11932548501699987849"
     },
     "user_tz": -540
    },
    "id": "8GHoqQNx_dvR",
    "outputId": "abd8deb8-2c88-47f4-cd8a-949a34f0df40"
   },
   "outputs": [
    {
     "data": {
      "text/plain": [
       "array([13, 45, 47, 44, 17, 27, 26, 25, 31, 19, 12,  4, 34,  8,  3,  6, 40,\n",
       "       41, 46, 15,  9, 16, 24, 33, 30,  0, 43, 32,  5, 29, 11, 36,  1, 21,\n",
       "        2, 37, 35, 23, 39, 10, 22, 18, 48, 20,  7, 42, 14, 28, 38])"
      ]
     },
     "execution_count": 28,
     "metadata": {},
     "output_type": "execute_result"
    }
   ],
   "source": [
    "index"
   ]
  },
  {
   "cell_type": "code",
   "execution_count": 29,
   "metadata": {
    "colab": {
     "base_uri": "https://localhost:8080/"
    },
    "executionInfo": {
     "elapsed": 665,
     "status": "ok",
     "timestamp": 1609924858874,
     "user": {
      "displayName": "글로리",
      "photoUrl": "https://lh3.googleusercontent.com/a-/AOh14Gh21kKlyleXUQHVa2z5MDMSWsHYZa5BzTNsf_yf=s64",
      "userId": "11932548501699987849"
     },
     "user_tz": -540
    },
    "id": "wfKibO0__rwJ",
    "outputId": "37b4e696-cda3-4741-f281-ea464b870cd4"
   },
   "outputs": [
    {
     "name": "stdout",
     "output_type": "stream",
     "text": [
      "[13 45 47 44 17 27 26 25 31 19 12  4 34  8  3  6 40 41 46 15  9 16 24 33\n",
      " 30  0 43 32  5 29 11 36  1 21  2 37 35 23 39 10 22 18]\n"
     ]
    }
   ],
   "source": [
    "print(index[:42])"
   ]
  },
  {
   "cell_type": "code",
   "execution_count": 30,
   "metadata": {
    "executionInfo": {
     "elapsed": 724,
     "status": "ok",
     "timestamp": 1609924891021,
     "user": {
      "displayName": "글로리",
      "photoUrl": "https://lh3.googleusercontent.com/a-/AOh14Gh21kKlyleXUQHVa2z5MDMSWsHYZa5BzTNsf_yf=s64",
      "userId": "11932548501699987849"
     },
     "user_tz": -540
    },
    "id": "8lvy8BSE_z9I"
   },
   "outputs": [],
   "source": [
    "train_input = input_arr[index[:35]]\n",
    "train_target = target_arr[index[:35]]"
   ]
  },
  {
   "cell_type": "code",
   "execution_count": 31,
   "metadata": {
    "executionInfo": {
     "elapsed": 796,
     "status": "ok",
     "timestamp": 1609924964509,
     "user": {
      "displayName": "글로리",
      "photoUrl": "https://lh3.googleusercontent.com/a-/AOh14Gh21kKlyleXUQHVa2z5MDMSWsHYZa5BzTNsf_yf=s64",
      "userId": "11932548501699987849"
     },
     "user_tz": -540
    },
    "id": "qjvLBB5I_0bw"
   },
   "outputs": [],
   "source": [
    "test_input = input_arr[index[35:]]\n",
    "test_target = target_arr[index[35:]]"
   ]
  },
  {
   "cell_type": "code",
   "execution_count": 32,
   "metadata": {
    "colab": {
     "base_uri": "https://localhost:8080/",
     "height": 264
    },
    "executionInfo": {
     "elapsed": 782,
     "status": "ok",
     "timestamp": 1609925054725,
     "user": {
      "displayName": "글로리",
      "photoUrl": "https://lh3.googleusercontent.com/a-/AOh14Gh21kKlyleXUQHVa2z5MDMSWsHYZa5BzTNsf_yf=s64",
      "userId": "11932548501699987849"
     },
     "user_tz": -540
    },
    "id": "lAMbwRFnAK-Y",
    "outputId": "eee8a913-6606-4156-915a-8051d50d1abd"
   },
   "outputs": [
    {
     "data": {
      "image/png": "[encoded data removed]",
      "text/plain": [
       "<Figure size 432x288 with 1 Axes>"
      ]
     },
     "metadata": {
      "needs_background": "light"
     },
     "output_type": "display_data"
    }
   ],
   "source": [
    "import matplotlib.pyplot as plt\n",
    "plt.scatter(train_input[:,0], train_input[:,1])\n",
    "plt.scatter(test_input[:,0], test_input[:,1])\n",
    "plt.show()"
   ]
  },
  {
   "cell_type": "code",
   "execution_count": 33,
   "metadata": {
    "executionInfo": {
     "elapsed": 746,
     "status": "ok",
     "timestamp": 1609925094162,
     "user": {
      "displayName": "글로리",
      "photoUrl": "https://lh3.googleusercontent.com/a-/AOh14Gh21kKlyleXUQHVa2z5MDMSWsHYZa5BzTNsf_yf=s64",
      "userId": "11932548501699987849"
     },
     "user_tz": -540
    },
    "id": "MNrH70GSAsub"
   },
   "outputs": [],
   "source": [
    "knn = knn.fit(train_input, train_target)"
   ]
  },
  {
   "cell_type": "code",
   "execution_count": 34,
   "metadata": {
    "colab": {
     "base_uri": "https://localhost:8080/"
    },
    "executionInfo": {
     "elapsed": 690,
     "status": "ok",
     "timestamp": 1609925109226,
     "user": {
      "displayName": "글로리",
      "photoUrl": "https://lh3.googleusercontent.com/a-/AOh14Gh21kKlyleXUQHVa2z5MDMSWsHYZa5BzTNsf_yf=s64",
      "userId": "11932548501699987849"
     },
     "user_tz": -540
    },
    "id": "HtzaFvukA2gB",
    "outputId": "5d39c98e-01e3-4660-fae1-e4c4e2187c2a"
   },
   "outputs": [
    {
     "data": {
      "text/plain": [
       "1.0"
      ]
     },
     "execution_count": 34,
     "metadata": {},
     "output_type": "execute_result"
    }
   ],
   "source": [
    "knn.score(test_input, test_target)"
   ]
  },
  {
   "cell_type": "code",
   "execution_count": 35,
   "metadata": {
    "colab": {
     "base_uri": "https://localhost:8080/"
    },
    "executionInfo": {
     "elapsed": 760,
     "status": "ok",
     "timestamp": 1609925127474,
     "user": {
      "displayName": "글로리",
      "photoUrl": "https://lh3.googleusercontent.com/a-/AOh14Gh21kKlyleXUQHVa2z5MDMSWsHYZa5BzTNsf_yf=s64",
      "userId": "11932548501699987849"
     },
     "user_tz": -540
    },
    "id": "zDfA--18A6MZ",
    "outputId": "03bb373e-a78a-4385-d8b3-e186f3a9b1c6"
   },
   "outputs": [
    {
     "data": {
      "text/plain": [
       "array([0, 0, 1, 0, 1, 1, 1, 0, 1, 1, 0, 1, 1, 0])"
      ]
     },
     "execution_count": 35,
     "metadata": {},
     "output_type": "execute_result"
    }
   ],
   "source": [
    "knn.predict(test_input)"
   ]
  },
  {
   "cell_type": "code",
   "execution_count": 36,
   "metadata": {
    "colab": {
     "base_uri": "https://localhost:8080/"
    },
    "executionInfo": {
     "elapsed": 702,
     "status": "ok",
     "timestamp": 1609925140338,
     "user": {
      "displayName": "글로리",
      "photoUrl": "https://lh3.googleusercontent.com/a-/AOh14Gh21kKlyleXUQHVa2z5MDMSWsHYZa5BzTNsf_yf=s64",
      "userId": "11932548501699987849"
     },
     "user_tz": -540
    },
    "id": "wv8PO58EA-oZ",
    "outputId": "1a9a4ec1-bace-4264-9ff5-f0464d803b33"
   },
   "outputs": [
    {
     "data": {
      "text/plain": [
       "array([0, 0, 1, 0, 1, 1, 1, 0, 1, 1, 0, 1, 1, 0])"
      ]
     },
     "execution_count": 36,
     "metadata": {},
     "output_type": "execute_result"
    }
   ],
   "source": [
    "test_target"
   ]
  },
  {
   "cell_type": "code",
   "execution_count": 37,
   "metadata": {
    "executionInfo": {
     "elapsed": 705,
     "status": "ok",
     "timestamp": 1609925458044,
     "user": {
      "displayName": "글로리",
      "photoUrl": "https://lh3.googleusercontent.com/a-/AOh14Gh21kKlyleXUQHVa2z5MDMSWsHYZa5BzTNsf_yf=s64",
      "userId": "11932548501699987849"
     },
     "user_tz": -540
    },
    "id": "Ujrdgml7BByR"
   },
   "outputs": [],
   "source": [
    "fish_length = [25.4, 26.3, 26.5, 29.0, 29.0, 29.7, 29.7, 30.0, 30.0, 30.7, 31.0, 31.0, \n",
    "                31.5, 32.0, 32.0, 32.0, 33.0, 33.0, 33.5, 33.5, 34.0, 34.0, 34.5, 35.0, \n",
    "                35.0, 35.0, 35.0, 36.0, 36.0, 37.0, 38.5, 38.5, 39.5, 41.0, 41.0, 9.8, \n",
    "                10.5, 10.6, 11.0, 11.2, 11.3, 11.8, 11.8, 12.0, 12.2, 12.4, 13.0, 14.3, 15.0]\n",
    "fish_weight = [242.0, 290.0, 340.0, 363.0, 430.0, 450.0, 500.0, 390.0, 450.0, 500.0, 475.0, 500.0, \n",
    "                500.0, 340.0, 600.0, 600.0, 700.0, 700.0, 610.0, 650.0, 575.0, 685.0, 620.0, 680.0, \n",
    "                700.0, 725.0, 720.0, 714.0, 850.0, 1000.0, 920.0, 955.0, 925.0, 975.0, 950.0, 6.7, \n",
    "                7.5, 7.0, 9.7, 9.8, 8.7, 10.0, 9.9, 9.8, 12.2, 13.4, 12.2, 19.7, 19.9]"
   ]
  },
  {
   "cell_type": "code",
   "execution_count": 38,
   "metadata": {
    "colab": {
     "base_uri": "https://localhost:8080/"
    },
    "executionInfo": {
     "elapsed": 688,
     "status": "ok",
     "timestamp": 1609925557027,
     "user": {
      "displayName": "글로리",
      "photoUrl": "https://lh3.googleusercontent.com/a-/AOh14Gh21kKlyleXUQHVa2z5MDMSWsHYZa5BzTNsf_yf=s64",
      "userId": "11932548501699987849"
     },
     "user_tz": -540
    },
    "id": "fhSiHm_9B6bJ",
    "outputId": "4f295cb5-eb94-4d8a-9b83-c4f05151ef38"
   },
   "outputs": [
    {
     "data": {
      "text/plain": [
       "array([[1, 4],\n",
       "       [2, 5],\n",
       "       [3, 6]])"
      ]
     },
     "execution_count": 38,
     "metadata": {},
     "output_type": "execute_result"
    }
   ],
   "source": [
    "np.column_stack(([1,2,3],[4,5,6]))"
   ]
  },
  {
   "cell_type": "code",
   "execution_count": 39,
   "metadata": {
    "executionInfo": {
     "elapsed": 687,
     "status": "ok",
     "timestamp": 1609925867848,
     "user": {
      "displayName": "글로리",
      "photoUrl": "https://lh3.googleusercontent.com/a-/AOh14Gh21kKlyleXUQHVa2z5MDMSWsHYZa5BzTNsf_yf=s64",
      "userId": "11932548501699987849"
     },
     "user_tz": -540
    },
    "id": "W1sDAwC8DtSY"
   },
   "outputs": [],
   "source": [
    "fish_data = np.column_stack((fish_length,fish_weight))"
   ]
  },
  {
   "cell_type": "code",
   "execution_count": 40,
   "metadata": {
    "colab": {
     "base_uri": "https://localhost:8080/"
    },
    "executionInfo": {
     "elapsed": 849,
     "status": "ok",
     "timestamp": 1609925869104,
     "user": {
      "displayName": "글로리",
      "photoUrl": "https://lh3.googleusercontent.com/a-/AOh14Gh21kKlyleXUQHVa2z5MDMSWsHYZa5BzTNsf_yf=s64",
      "userId": "11932548501699987849"
     },
     "user_tz": -540
    },
    "id": "VelUM2sXCkP_",
    "outputId": "ab1aab69-5bc2-47c9-ee1f-7ba423764eda"
   },
   "outputs": [
    {
     "data": {
      "text/plain": [
       "array([[  25.4,  242. ],\n",
       "       [  26.3,  290. ],\n",
       "       [  26.5,  340. ],\n",
       "       [  29. ,  363. ],\n",
       "       [  29. ,  430. ],\n",
       "       [  29.7,  450. ],\n",
       "       [  29.7,  500. ],\n",
       "       [  30. ,  390. ],\n",
       "       [  30. ,  450. ],\n",
       "       [  30.7,  500. ],\n",
       "       [  31. ,  475. ],\n",
       "       [  31. ,  500. ],\n",
       "       [  31.5,  500. ],\n",
       "       [  32. ,  340. ],\n",
       "       [  32. ,  600. ],\n",
       "       [  32. ,  600. ],\n",
       "       [  33. ,  700. ],\n",
       "       [  33. ,  700. ],\n",
       "       [  33.5,  610. ],\n",
       "       [  33.5,  650. ],\n",
       "       [  34. ,  575. ],\n",
       "       [  34. ,  685. ],\n",
       "       [  34.5,  620. ],\n",
       "       [  35. ,  680. ],\n",
       "       [  35. ,  700. ],\n",
       "       [  35. ,  725. ],\n",
       "       [  35. ,  720. ],\n",
       "       [  36. ,  714. ],\n",
       "       [  36. ,  850. ],\n",
       "       [  37. , 1000. ],\n",
       "       [  38.5,  920. ],\n",
       "       [  38.5,  955. ],\n",
       "       [  39.5,  925. ],\n",
       "       [  41. ,  975. ],\n",
       "       [  41. ,  950. ],\n",
       "       [   9.8,    6.7],\n",
       "       [  10.5,    7.5],\n",
       "       [  10.6,    7. ],\n",
       "       [  11. ,    9.7],\n",
       "       [  11.2,    9.8],\n",
       "       [  11.3,    8.7],\n",
       "       [  11.8,   10. ],\n",
       "       [  11.8,    9.9],\n",
       "       [  12. ,    9.8],\n",
       "       [  12.2,   12.2],\n",
       "       [  12.4,   13.4],\n",
       "       [  13. ,   12.2],\n",
       "       [  14.3,   19.7],\n",
       "       [  15. ,   19.9]])"
      ]
     },
     "execution_count": 40,
     "metadata": {},
     "output_type": "execute_result"
    }
   ],
   "source": [
    "fish_data"
   ]
  },
  {
   "cell_type": "code",
   "execution_count": 41,
   "metadata": {
    "colab": {
     "base_uri": "https://localhost:8080/"
    },
    "executionInfo": {
     "elapsed": 420,
     "status": "ok",
     "timestamp": 1609925651820,
     "user": {
      "displayName": "글로리",
      "photoUrl": "https://lh3.googleusercontent.com/a-/AOh14Gh21kKlyleXUQHVa2z5MDMSWsHYZa5BzTNsf_yf=s64",
      "userId": "11932548501699987849"
     },
     "user_tz": -540
    },
    "id": "6Y-QYtqQCrGR",
    "outputId": "e669cd8f-e355-45c0-890c-08c60797f82b"
   },
   "outputs": [
    {
     "name": "stdout",
     "output_type": "stream",
     "text": [
      "[1. 1. 1. 1. 1. 1. 1. 1. 1. 1. 1. 1. 1. 1. 1. 1. 1. 1. 1. 1. 1. 1. 1. 1.\n",
      " 1. 1. 1. 1. 1. 1. 1. 1. 1. 1. 1. 0. 0. 0. 0. 0. 0. 0. 0. 0. 0. 0. 0. 0.\n",
      " 0.]\n"
     ]
    }
   ],
   "source": [
    "fish_target = np.concatenate((np.ones(35),np.zeros(14)))\n",
    "print(fish_target)"
   ]
  },
  {
   "cell_type": "code",
   "execution_count": 42,
   "metadata": {
    "executionInfo": {
     "elapsed": 1023,
     "status": "ok",
     "timestamp": 1609925727570,
     "user": {
      "displayName": "글로리",
      "photoUrl": "https://lh3.googleusercontent.com/a-/AOh14Gh21kKlyleXUQHVa2z5MDMSWsHYZa5BzTNsf_yf=s64",
      "userId": "11932548501699987849"
     },
     "user_tz": -540
    },
    "id": "OggfLtmxC-uR"
   },
   "outputs": [],
   "source": [
    "from sklearn.model_selection import train_test_split"
   ]
  },
  {
   "cell_type": "code",
   "execution_count": 43,
   "metadata": {
    "executionInfo": {
     "elapsed": 794,
     "status": "ok",
     "timestamp": 1609925878645,
     "user": {
      "displayName": "글로리",
      "photoUrl": "https://lh3.googleusercontent.com/a-/AOh14Gh21kKlyleXUQHVa2z5MDMSWsHYZa5BzTNsf_yf=s64",
      "userId": "11932548501699987849"
     },
     "user_tz": -540
    },
    "id": "Qt5WirQcDREx"
   },
   "outputs": [],
   "source": [
    "train_input, test_input, train_target, test_target = train_test_split(fish_data, fish_target, random_state = 42)"
   ]
  },
  {
   "cell_type": "code",
   "execution_count": 44,
   "metadata": {
    "colab": {
     "base_uri": "https://localhost:8080/"
    },
    "executionInfo": {
     "elapsed": 585,
     "status": "ok",
     "timestamp": 1609925878954,
     "user": {
      "displayName": "글로리",
      "photoUrl": "https://lh3.googleusercontent.com/a-/AOh14Gh21kKlyleXUQHVa2z5MDMSWsHYZa5BzTNsf_yf=s64",
      "userId": "11932548501699987849"
     },
     "user_tz": -540
    },
    "id": "BYtIBFP-DgNi",
    "outputId": "015df88e-811e-45ba-aa45-11a4e4b37e15"
   },
   "outputs": [
    {
     "name": "stdout",
     "output_type": "stream",
     "text": [
      "(36, 2) (13, 2)\n"
     ]
    }
   ],
   "source": [
    "print(train_input.shape, test_input.shape)"
   ]
  },
  {
   "cell_type": "code",
   "execution_count": 45,
   "metadata": {
    "colab": {
     "base_uri": "https://localhost:8080/"
    },
    "executionInfo": {
     "elapsed": 655,
     "status": "ok",
     "timestamp": 1609925911556,
     "user": {
      "displayName": "글로리",
      "photoUrl": "https://lh3.googleusercontent.com/a-/AOh14Gh21kKlyleXUQHVa2z5MDMSWsHYZa5BzTNsf_yf=s64",
      "userId": "11932548501699987849"
     },
     "user_tz": -540
    },
    "id": "Loz69FrlDoFh",
    "outputId": "fd79c2aa-672f-4005-a3c7-6f7e55d40f61"
   },
   "outputs": [
    {
     "name": "stdout",
     "output_type": "stream",
     "text": [
      "(36,) (13,)\n"
     ]
    }
   ],
   "source": [
    "print(train_target.shape, test_target.shape)"
   ]
  },
  {
   "cell_type": "code",
   "execution_count": 46,
   "metadata": {
    "colab": {
     "base_uri": "https://localhost:8080/"
    },
    "executionInfo": {
     "elapsed": 682,
     "status": "ok",
     "timestamp": 1609925956407,
     "user": {
      "displayName": "글로리",
      "photoUrl": "https://lh3.googleusercontent.com/a-/AOh14Gh21kKlyleXUQHVa2z5MDMSWsHYZa5BzTNsf_yf=s64",
      "userId": "11932548501699987849"
     },
     "user_tz": -540
    },
    "id": "voRyhDwWD-FS",
    "outputId": "2312313a-270a-42f2-f60e-f8ba4c86ba83"
   },
   "outputs": [
    {
     "name": "stdout",
     "output_type": "stream",
     "text": [
      "[1. 0. 0. 0. 1. 1. 1. 1. 1. 1. 1. 1. 1.]\n"
     ]
    }
   ],
   "source": [
    "print(test_target)"
   ]
  },
  {
   "cell_type": "code",
   "execution_count": null,
   "metadata": {
    "id": "jhi04InDEJBq"
   },
   "outputs": [],
   "source": []
  }
 ],
 "metadata": {
  "colab": {
   "authorship_tag": "ABX9TyPUI5buxm/uxZh6/QVxjr4K",
   "collapsed_sections": [],
   "name": "혼자하는part_1,2.ipynb",
   "provenance": []
  },
  "kernelspec": {
   "display_name": "Python 3",
   "language": "python",
   "name": "python3"
  },
  "language_info": {
   "codemirror_mode": {
    "name": "ipython",
    "version": 3
   },
   "file_extension": ".py",
   "mimetype": "text/x-python",
   "name": "python",
   "nbconvert_exporter": "python",
   "pygments_lexer": "ipython3",
   "version": "3.8.5"
  }
 },
 "nbformat": 4,
 "nbformat_minor": 1
}
