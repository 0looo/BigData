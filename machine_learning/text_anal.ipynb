{
  "nbformat": 4,
  "nbformat_minor": 0,
  "metadata": {
    "accelerator": "GPU",
    "colab": {
      "name": "text_anal.ipynb",
      "provenance": [],
      "machine_shape": "hm"
    },
    "kernelspec": {
      "display_name": "Python 3",
      "language": "python",
      "name": "python3"
    },
    "language_info": {
      "codemirror_mode": {
        "name": "ipython",
        "version": 3
      },
      "file_extension": ".py",
      "mimetype": "text/x-python",
      "name": "python",
      "nbconvert_exporter": "python",
      "pygments_lexer": "ipython3",
      "version": "3.7.6"
    }
  },
  "cells": [
    {
      "cell_type": "markdown",
      "metadata": {
        "id": "FXO2HUlT-LBQ"
      },
      "source": [
        "# Bag of Words"
      ]
    },
    {
      "cell_type": "markdown",
      "metadata": {
        "id": "a5D3ayJ7-csa"
      },
      "source": [
        "Bag of Words란 단어들의 순서는 전혀 고려하지 않고, 단어들의 출현 빈도(frequency)에만 집중하는 텍스트 데이터의 수치화 표현 방법입니다. Bag of Words를 직역하면 단어들의 가방이라는 의미입니다. 단어들이 들어있는 가방을 상상해봅시다. 갖고있는 어떤 텍스트 문서에 있는 단어들을 가방에다가 전부 넣습니다. 그러고나서 이 가방을 흔들어 단어들을 섞습니다. 만약, 해당 문서 내에서 특정 단어가 N번 등장했다면, 이 가방에는 그 특정 단어가 N개 있게됩니다. 또한 가방을 흔들어서 단어를 섞었기 때문에 더 이상 단어의 순서는 중요하지 않습니다."
      ]
    },
    {
      "cell_type": "code",
      "metadata": {
        "colab": {
          "base_uri": "https://localhost:8080/"
        },
        "id": "1-q0kr9u-T9c",
        "outputId": "dafe24b6-5e3d-4569-af29-41f3d9cd9e2c"
      },
      "source": [
        "!pip install konlpy"
      ],
      "execution_count": 8,
      "outputs": [
        {
          "output_type": "stream",
          "text": [
            "Collecting konlpy\n",
            "\u001b[?25l  Downloading https://files.pythonhosted.org/packages/85/0e/f385566fec837c0b83f216b2da65db9997b35dd675e107752005b7d392b1/konlpy-0.5.2-py2.py3-none-any.whl (19.4MB)\n",
            "\u001b[K     |████████████████████████████████| 19.4MB 1.3MB/s \n",
            "\u001b[?25hRequirement already satisfied: numpy>=1.6 in /usr/local/lib/python3.6/dist-packages (from konlpy) (1.19.5)\n",
            "Collecting beautifulsoup4==4.6.0\n",
            "\u001b[?25l  Downloading https://files.pythonhosted.org/packages/9e/d4/10f46e5cfac773e22707237bfcd51bbffeaf0a576b0a847ec7ab15bd7ace/beautifulsoup4-4.6.0-py3-none-any.whl (86kB)\n",
            "\u001b[K     |████████████████████████████████| 92kB 10.3MB/s \n",
            "\u001b[?25hRequirement already satisfied: lxml>=4.1.0 in /usr/local/lib/python3.6/dist-packages (from konlpy) (4.2.6)\n",
            "Collecting JPype1>=0.7.0\n",
            "\u001b[?25l  Downloading https://files.pythonhosted.org/packages/de/af/93f92b38ec1ff3091cd38982ed19cea2800fefb609b5801c41fc43c0781e/JPype1-1.2.1-cp36-cp36m-manylinux2010_x86_64.whl (457kB)\n",
            "\u001b[K     |████████████████████████████████| 460kB 45.6MB/s \n",
            "\u001b[?25hCollecting colorama\n",
            "  Downloading https://files.pythonhosted.org/packages/44/98/5b86278fbbf250d239ae0ecb724f8572af1c91f4a11edf4d36a206189440/colorama-0.4.4-py2.py3-none-any.whl\n",
            "Collecting tweepy>=3.7.0\n",
            "  Downloading https://files.pythonhosted.org/packages/67/c3/6bed87f3b1e5ed2f34bd58bf7978e308c86e255193916be76e5a5ce5dfca/tweepy-3.10.0-py2.py3-none-any.whl\n",
            "Requirement already satisfied: typing-extensions; python_version < \"3.8\" in /usr/local/lib/python3.6/dist-packages (from JPype1>=0.7.0->konlpy) (3.7.4.3)\n",
            "Requirement already satisfied: requests-oauthlib>=0.7.0 in /usr/local/lib/python3.6/dist-packages (from tweepy>=3.7.0->konlpy) (1.3.0)\n",
            "Requirement already satisfied: requests[socks]>=2.11.1 in /usr/local/lib/python3.6/dist-packages (from tweepy>=3.7.0->konlpy) (2.23.0)\n",
            "Requirement already satisfied: six>=1.10.0 in /usr/local/lib/python3.6/dist-packages (from tweepy>=3.7.0->konlpy) (1.15.0)\n",
            "Requirement already satisfied: oauthlib>=3.0.0 in /usr/local/lib/python3.6/dist-packages (from requests-oauthlib>=0.7.0->tweepy>=3.7.0->konlpy) (3.1.0)\n",
            "Requirement already satisfied: chardet<4,>=3.0.2 in /usr/local/lib/python3.6/dist-packages (from requests[socks]>=2.11.1->tweepy>=3.7.0->konlpy) (3.0.4)\n",
            "Requirement already satisfied: idna<3,>=2.5 in /usr/local/lib/python3.6/dist-packages (from requests[socks]>=2.11.1->tweepy>=3.7.0->konlpy) (2.10)\n",
            "Requirement already satisfied: urllib3!=1.25.0,!=1.25.1,<1.26,>=1.21.1 in /usr/local/lib/python3.6/dist-packages (from requests[socks]>=2.11.1->tweepy>=3.7.0->konlpy) (1.24.3)\n",
            "Requirement already satisfied: certifi>=2017.4.17 in /usr/local/lib/python3.6/dist-packages (from requests[socks]>=2.11.1->tweepy>=3.7.0->konlpy) (2020.12.5)\n",
            "Requirement already satisfied: PySocks!=1.5.7,>=1.5.6; extra == \"socks\" in /usr/local/lib/python3.6/dist-packages (from requests[socks]>=2.11.1->tweepy>=3.7.0->konlpy) (1.7.1)\n",
            "Installing collected packages: beautifulsoup4, JPype1, colorama, tweepy, konlpy\n",
            "  Found existing installation: beautifulsoup4 4.6.3\n",
            "    Uninstalling beautifulsoup4-4.6.3:\n",
            "      Successfully uninstalled beautifulsoup4-4.6.3\n",
            "  Found existing installation: tweepy 3.6.0\n",
            "    Uninstalling tweepy-3.6.0:\n",
            "      Successfully uninstalled tweepy-3.6.0\n",
            "Successfully installed JPype1-1.2.1 beautifulsoup4-4.6.0 colorama-0.4.4 konlpy-0.5.2 tweepy-3.10.0\n"
          ],
          "name": "stdout"
        }
      ]
    },
    {
      "cell_type": "markdown",
      "metadata": {
        "id": "Wcp7FJPZ-p_Q"
      },
      "source": [
        "## 직접 구현하기"
      ]
    },
    {
      "cell_type": "code",
      "metadata": {
        "colab": {
          "base_uri": "https://localhost:8080/"
        },
        "id": "CPCE9Ygl-fDm",
        "outputId": "3fd500d2-e9b8-4319-df40-0f9b7b51ce89"
      },
      "source": [
        "from konlpy.tag import Okt\n",
        "import re  \n",
        "okt=Okt()  \n",
        "\n",
        "token=re.sub(\"(\\.)\",\"\",\"정부가 발표하는 물가상승률과 소비자가 느끼는 물가상승률은 다르다.\")  \n",
        "# 정규 표현식을 통해 온점을 제거하는 정제 작업입니다.  \n",
        "token=okt.morphs(token)  \n",
        "# OKT 형태소 분석기를 통해 토큰화 작업을 수행한 뒤에, token에다가 넣습니다.  \n",
        "\n",
        "word2index={}  \n",
        "bow=[]  \n",
        "for voca in token:  \n",
        "         if voca not in word2index.keys():  \n",
        "             word2index[voca]=len(word2index)  \n",
        "# token을 읽으면서, word2index에 없는 (not in) 단어는 새로 추가하고, 이미 있는 단어는 넘깁니다.   \n",
        "             bow.insert(len(word2index)-1,1)\n",
        "# BoW 전체에 전부 기본값 1을 넣어줍니다. 단어의 개수는 최소 1개 이상이기 때문입니다.  \n",
        "         else:\n",
        "            index=word2index.get(voca)\n",
        "# 재등장하는 단어의 인덱스를 받아옵니다.\n",
        "            bow[index]=bow[index]+1\n",
        "# 재등장한 단어는 해당하는 인덱스의 위치에 1을 더해줍니다. (단어의 개수를 세는 것입니다.)  \n",
        "print(word2index)  "
      ],
      "execution_count": 9,
      "outputs": [
        {
          "output_type": "stream",
          "text": [
            "{'정부': 0, '가': 1, '발표': 2, '하는': 3, '물가상승률': 4, '과': 5, '소비자': 6, '느끼는': 7, '은': 8, '다르다': 9}\n"
          ],
          "name": "stdout"
        }
      ]
    },
    {
      "cell_type": "code",
      "metadata": {
        "colab": {
          "base_uri": "https://localhost:8080/"
        },
        "id": "aZk4wncm-h0l",
        "outputId": "4833f355-48aa-4f53-fb8e-ae1b58ecf200"
      },
      "source": [
        "print(bow)"
      ],
      "execution_count": 10,
      "outputs": [
        {
          "output_type": "stream",
          "text": [
            "[1, 2, 1, 1, 2, 1, 1, 1, 1, 1]\n"
          ],
          "name": "stdout"
        }
      ]
    },
    {
      "cell_type": "markdown",
      "metadata": {
        "id": "8QTivA0U-rw9"
      },
      "source": [
        "## CountVectorizer 사용하기"
      ]
    },
    {
      "cell_type": "code",
      "metadata": {
        "colab": {
          "base_uri": "https://localhost:8080/"
        },
        "id": "lsGR3Cug-s2u",
        "outputId": "802781be-0943-4d29-bcfd-0844110a1e03"
      },
      "source": [
        "from sklearn.feature_extraction.text import CountVectorizer\n",
        "corpus = ['you know I want your love. because I love you.']\n",
        "vector = CountVectorizer()\n",
        "print(vector.fit_transform(corpus).toarray()) # 코퍼스로부터 각 단어의 빈도 수를 기록한다.\n",
        "print(vector.vocabulary_) # 각 단어의 인덱스가 어떻게 부여되었는지를 보여준다."
      ],
      "execution_count": 11,
      "outputs": [
        {
          "output_type": "stream",
          "text": [
            "[[1 1 2 1 2 1]]\n",
            "{'you': 4, 'know': 1, 'want': 3, 'your': 5, 'love': 2, 'because': 0}\n"
          ],
          "name": "stdout"
        }
      ]
    },
    {
      "cell_type": "markdown",
      "metadata": {
        "id": "B5hzdbff-ymS"
      },
      "source": [
        "## TF-IDF 행렬 만들기"
      ]
    },
    {
      "cell_type": "code",
      "metadata": {
        "id": "GRO30Kcx-zp-"
      },
      "source": [
        "import pandas as pd # 데이터프레임 사용을 위해\n",
        "from math import log # IDF 계산을 위해"
      ],
      "execution_count": 12,
      "outputs": []
    },
    {
      "cell_type": "code",
      "metadata": {
        "id": "7UjPcwe9-1C8"
      },
      "source": [
        "docs = [\n",
        "  '먹고 싶은 사과',\n",
        "  '먹고 싶은 바나나',\n",
        "  '길고 노란 바나나 바나나',\n",
        "  '저는 과일이 좋아요'\n",
        "] \n",
        "vocab = list(set(w for doc in docs for w in doc.split()))\n",
        "vocab.sort()"
      ],
      "execution_count": 13,
      "outputs": []
    },
    {
      "cell_type": "code",
      "metadata": {
        "id": "op8MoZGy-2RM"
      },
      "source": [
        "N = len(docs) # 총 문서의 수\n",
        "\n",
        "def tf(t, d):\n",
        "    return d.count(t)\n",
        "\n",
        "def idf(t):\n",
        "    df = 0\n",
        "    for doc in docs:\n",
        "        df += t in doc\n",
        "    return log(N/(df + 1))\n",
        "\n",
        "def tfidf(t, d):\n",
        "    return tf(t,d)* idf(t)"
      ],
      "execution_count": 14,
      "outputs": []
    },
    {
      "cell_type": "code",
      "metadata": {
        "colab": {
          "base_uri": "https://localhost:8080/",
          "height": 172
        },
        "id": "l1C8wfpi-3Os",
        "outputId": "2c5cd2a5-6796-4d74-931d-1de8b1a01a2f"
      },
      "source": [
        "result = []\n",
        "for i in range(N): # 각 문서에 대해서 아래 명령을 수행\n",
        "    result.append([])\n",
        "    d = docs[i]\n",
        "    for j in range(len(vocab)):\n",
        "        t = vocab[j]        \n",
        "        result[-1].append(tf(t, d))\n",
        "\n",
        "tf_ = pd.DataFrame(result, columns = vocab)\n",
        "tf_"
      ],
      "execution_count": 15,
      "outputs": [
        {
          "output_type": "execute_result",
          "data": {
            "text/html": [
              "<div>\n",
              "<style scoped>\n",
              "    .dataframe tbody tr th:only-of-type {\n",
              "        vertical-align: middle;\n",
              "    }\n",
              "\n",
              "    .dataframe tbody tr th {\n",
              "        vertical-align: top;\n",
              "    }\n",
              "\n",
              "    .dataframe thead th {\n",
              "        text-align: right;\n",
              "    }\n",
              "</style>\n",
              "<table border=\"1\" class=\"dataframe\">\n",
              "  <thead>\n",
              "    <tr style=\"text-align: right;\">\n",
              "      <th></th>\n",
              "      <th>과일이</th>\n",
              "      <th>길고</th>\n",
              "      <th>노란</th>\n",
              "      <th>먹고</th>\n",
              "      <th>바나나</th>\n",
              "      <th>사과</th>\n",
              "      <th>싶은</th>\n",
              "      <th>저는</th>\n",
              "      <th>좋아요</th>\n",
              "    </tr>\n",
              "  </thead>\n",
              "  <tbody>\n",
              "    <tr>\n",
              "      <th>0</th>\n",
              "      <td>0</td>\n",
              "      <td>0</td>\n",
              "      <td>0</td>\n",
              "      <td>1</td>\n",
              "      <td>0</td>\n",
              "      <td>1</td>\n",
              "      <td>1</td>\n",
              "      <td>0</td>\n",
              "      <td>0</td>\n",
              "    </tr>\n",
              "    <tr>\n",
              "      <th>1</th>\n",
              "      <td>0</td>\n",
              "      <td>0</td>\n",
              "      <td>0</td>\n",
              "      <td>1</td>\n",
              "      <td>1</td>\n",
              "      <td>0</td>\n",
              "      <td>1</td>\n",
              "      <td>0</td>\n",
              "      <td>0</td>\n",
              "    </tr>\n",
              "    <tr>\n",
              "      <th>2</th>\n",
              "      <td>0</td>\n",
              "      <td>1</td>\n",
              "      <td>1</td>\n",
              "      <td>0</td>\n",
              "      <td>2</td>\n",
              "      <td>0</td>\n",
              "      <td>0</td>\n",
              "      <td>0</td>\n",
              "      <td>0</td>\n",
              "    </tr>\n",
              "    <tr>\n",
              "      <th>3</th>\n",
              "      <td>1</td>\n",
              "      <td>0</td>\n",
              "      <td>0</td>\n",
              "      <td>0</td>\n",
              "      <td>0</td>\n",
              "      <td>0</td>\n",
              "      <td>0</td>\n",
              "      <td>1</td>\n",
              "      <td>1</td>\n",
              "    </tr>\n",
              "  </tbody>\n",
              "</table>\n",
              "</div>"
            ],
            "text/plain": [
              "   과일이  길고  노란  먹고  바나나  사과  싶은  저는  좋아요\n",
              "0    0   0   0   1    0   1   1   0    0\n",
              "1    0   0   0   1    1   0   1   0    0\n",
              "2    0   1   1   0    2   0   0   0    0\n",
              "3    1   0   0   0    0   0   0   1    1"
            ]
          },
          "metadata": {
            "tags": []
          },
          "execution_count": 15
        }
      ]
    },
    {
      "cell_type": "code",
      "metadata": {
        "colab": {
          "base_uri": "https://localhost:8080/",
          "height": 326
        },
        "id": "zmRYlIcr-4H0",
        "outputId": "b6d96d21-a2ce-4087-bd0a-ba2333be6ae6"
      },
      "source": [
        "result = []\n",
        "for j in range(len(vocab)):\n",
        "    t = vocab[j]\n",
        "    result.append(idf(t))\n",
        "\n",
        "idf_ = pd.DataFrame(result, index = vocab, columns = [\"IDF\"])\n",
        "idf_"
      ],
      "execution_count": 16,
      "outputs": [
        {
          "output_type": "execute_result",
          "data": {
            "text/html": [
              "<div>\n",
              "<style scoped>\n",
              "    .dataframe tbody tr th:only-of-type {\n",
              "        vertical-align: middle;\n",
              "    }\n",
              "\n",
              "    .dataframe tbody tr th {\n",
              "        vertical-align: top;\n",
              "    }\n",
              "\n",
              "    .dataframe thead th {\n",
              "        text-align: right;\n",
              "    }\n",
              "</style>\n",
              "<table border=\"1\" class=\"dataframe\">\n",
              "  <thead>\n",
              "    <tr style=\"text-align: right;\">\n",
              "      <th></th>\n",
              "      <th>IDF</th>\n",
              "    </tr>\n",
              "  </thead>\n",
              "  <tbody>\n",
              "    <tr>\n",
              "      <th>과일이</th>\n",
              "      <td>0.693147</td>\n",
              "    </tr>\n",
              "    <tr>\n",
              "      <th>길고</th>\n",
              "      <td>0.693147</td>\n",
              "    </tr>\n",
              "    <tr>\n",
              "      <th>노란</th>\n",
              "      <td>0.693147</td>\n",
              "    </tr>\n",
              "    <tr>\n",
              "      <th>먹고</th>\n",
              "      <td>0.287682</td>\n",
              "    </tr>\n",
              "    <tr>\n",
              "      <th>바나나</th>\n",
              "      <td>0.287682</td>\n",
              "    </tr>\n",
              "    <tr>\n",
              "      <th>사과</th>\n",
              "      <td>0.693147</td>\n",
              "    </tr>\n",
              "    <tr>\n",
              "      <th>싶은</th>\n",
              "      <td>0.287682</td>\n",
              "    </tr>\n",
              "    <tr>\n",
              "      <th>저는</th>\n",
              "      <td>0.693147</td>\n",
              "    </tr>\n",
              "    <tr>\n",
              "      <th>좋아요</th>\n",
              "      <td>0.693147</td>\n",
              "    </tr>\n",
              "  </tbody>\n",
              "</table>\n",
              "</div>"
            ],
            "text/plain": [
              "          IDF\n",
              "과일이  0.693147\n",
              "길고   0.693147\n",
              "노란   0.693147\n",
              "먹고   0.287682\n",
              "바나나  0.287682\n",
              "사과   0.693147\n",
              "싶은   0.287682\n",
              "저는   0.693147\n",
              "좋아요  0.693147"
            ]
          },
          "metadata": {
            "tags": []
          },
          "execution_count": 16
        }
      ]
    },
    {
      "cell_type": "code",
      "metadata": {
        "colab": {
          "base_uri": "https://localhost:8080/",
          "height": 172
        },
        "id": "bDxaaHOR-48M",
        "outputId": "76a19b6f-aacd-48d9-f954-84cbd3a13528"
      },
      "source": [
        "result = []\n",
        "for i in range(N):\n",
        "    result.append([])\n",
        "    d = docs[i]\n",
        "    for j in range(len(vocab)):\n",
        "        t = vocab[j]\n",
        "\n",
        "        result[-1].append(tfidf(t,d))\n",
        "\n",
        "tfidf_ = pd.DataFrame(result, columns = vocab)\n",
        "tfidf_"
      ],
      "execution_count": 18,
      "outputs": [
        {
          "output_type": "execute_result",
          "data": {
            "text/html": [
              "<div>\n",
              "<style scoped>\n",
              "    .dataframe tbody tr th:only-of-type {\n",
              "        vertical-align: middle;\n",
              "    }\n",
              "\n",
              "    .dataframe tbody tr th {\n",
              "        vertical-align: top;\n",
              "    }\n",
              "\n",
              "    .dataframe thead th {\n",
              "        text-align: right;\n",
              "    }\n",
              "</style>\n",
              "<table border=\"1\" class=\"dataframe\">\n",
              "  <thead>\n",
              "    <tr style=\"text-align: right;\">\n",
              "      <th></th>\n",
              "      <th>과일이</th>\n",
              "      <th>길고</th>\n",
              "      <th>노란</th>\n",
              "      <th>먹고</th>\n",
              "      <th>바나나</th>\n",
              "      <th>사과</th>\n",
              "      <th>싶은</th>\n",
              "      <th>저는</th>\n",
              "      <th>좋아요</th>\n",
              "    </tr>\n",
              "  </thead>\n",
              "  <tbody>\n",
              "    <tr>\n",
              "      <th>0</th>\n",
              "      <td>0.000000</td>\n",
              "      <td>0.000000</td>\n",
              "      <td>0.000000</td>\n",
              "      <td>0.287682</td>\n",
              "      <td>0.000000</td>\n",
              "      <td>0.693147</td>\n",
              "      <td>0.287682</td>\n",
              "      <td>0.000000</td>\n",
              "      <td>0.000000</td>\n",
              "    </tr>\n",
              "    <tr>\n",
              "      <th>1</th>\n",
              "      <td>0.000000</td>\n",
              "      <td>0.000000</td>\n",
              "      <td>0.000000</td>\n",
              "      <td>0.287682</td>\n",
              "      <td>0.287682</td>\n",
              "      <td>0.000000</td>\n",
              "      <td>0.287682</td>\n",
              "      <td>0.000000</td>\n",
              "      <td>0.000000</td>\n",
              "    </tr>\n",
              "    <tr>\n",
              "      <th>2</th>\n",
              "      <td>0.000000</td>\n",
              "      <td>0.693147</td>\n",
              "      <td>0.693147</td>\n",
              "      <td>0.000000</td>\n",
              "      <td>0.575364</td>\n",
              "      <td>0.000000</td>\n",
              "      <td>0.000000</td>\n",
              "      <td>0.000000</td>\n",
              "      <td>0.000000</td>\n",
              "    </tr>\n",
              "    <tr>\n",
              "      <th>3</th>\n",
              "      <td>0.693147</td>\n",
              "      <td>0.000000</td>\n",
              "      <td>0.000000</td>\n",
              "      <td>0.000000</td>\n",
              "      <td>0.000000</td>\n",
              "      <td>0.000000</td>\n",
              "      <td>0.000000</td>\n",
              "      <td>0.693147</td>\n",
              "      <td>0.693147</td>\n",
              "    </tr>\n",
              "  </tbody>\n",
              "</table>\n",
              "</div>"
            ],
            "text/plain": [
              "        과일이        길고        노란  ...        싶은        저는       좋아요\n",
              "0  0.000000  0.000000  0.000000  ...  0.287682  0.000000  0.000000\n",
              "1  0.000000  0.000000  0.000000  ...  0.287682  0.000000  0.000000\n",
              "2  0.000000  0.693147  0.693147  ...  0.000000  0.000000  0.000000\n",
              "3  0.693147  0.000000  0.000000  ...  0.000000  0.693147  0.693147\n",
              "\n",
              "[4 rows x 9 columns]"
            ]
          },
          "metadata": {
            "tags": []
          },
          "execution_count": 18
        }
      ]
    },
    {
      "cell_type": "markdown",
      "metadata": {
        "id": "QG_BPc4o-_jc"
      },
      "source": [
        "## Tensorflow로 Bag of Words 구현하기"
      ]
    },
    {
      "cell_type": "code",
      "metadata": {
        "id": "hXhemt5L_Czh"
      },
      "source": [
        "import numpy as np\n",
        "from tensorflow.keras.preprocessing.text import Tokenizer"
      ],
      "execution_count": 19,
      "outputs": []
    },
    {
      "cell_type": "code",
      "metadata": {
        "id": "vpz6r_1o_GXb"
      },
      "source": [
        "texts = ['먹고 싶은 사과', '먹고 싶은 바나나', '길고 노란 바나나 바나나', '저는 과일이 좋아요']"
      ],
      "execution_count": 20,
      "outputs": []
    },
    {
      "cell_type": "code",
      "metadata": {
        "colab": {
          "base_uri": "https://localhost:8080/"
        },
        "id": "ZqS_tUzQ_HR1",
        "outputId": "e3801494-0259-4ca3-9ec7-69ad47f5e855"
      },
      "source": [
        "t = Tokenizer()\n",
        "t.fit_on_texts(texts)\n",
        "print(t.word_index)"
      ],
      "execution_count": 21,
      "outputs": [
        {
          "output_type": "stream",
          "text": [
            "{'바나나': 1, '먹고': 2, '싶은': 3, '사과': 4, '길고': 5, '노란': 6, '저는': 7, '과일이': 8, '좋아요': 9}\n"
          ],
          "name": "stdout"
        }
      ]
    },
    {
      "cell_type": "markdown",
      "metadata": {
        "id": "9Oj1fBxt_J27"
      },
      "source": [
        "각 단어에 숫자 1부터 시작하는 정수 인덱스가 부여되었습니다. 이제 텍스트 데이터에 texts_to_matrix()를 사용해보겠습니다. texts_to_matrix()란 이름에서 알 수 있지만, 이 도구는 입력된 텍스트 데이터로부터 행렬(matrix)를 만드는 도구입니다. texts_to_matrx()는 총 4개의 모드를 지원하는데 각 모드는 'binary', 'count', 'freq', 'tfidf'로 총 4개입니다. 우선 'count' 모드를 사용해봅시다."
      ]
    },
    {
      "cell_type": "code",
      "metadata": {
        "colab": {
          "base_uri": "https://localhost:8080/"
        },
        "id": "FpOuYNoo_H5O",
        "outputId": "63376be3-7f83-42fb-e435-92cb5f6bc56f"
      },
      "source": [
        "print(t.texts_to_matrix(texts, mode = 'count')) # texts_to_matrix의 입력으로 texts를 넣고, 모드는 'count'"
      ],
      "execution_count": 22,
      "outputs": [
        {
          "output_type": "stream",
          "text": [
            "[[0. 0. 1. 1. 1. 0. 0. 0. 0. 0.]\n",
            " [0. 1. 1. 1. 0. 0. 0. 0. 0. 0.]\n",
            " [0. 2. 0. 0. 0. 1. 1. 0. 0. 0.]\n",
            " [0. 0. 0. 0. 0. 0. 0. 1. 1. 1.]]\n"
          ],
          "name": "stdout"
        }
      ]
    },
    {
      "cell_type": "markdown",
      "metadata": {
        "id": "vx1zvYzP_MgS"
      },
      "source": [
        "위의 경우는 총 4개의 모드 중에서 'count' 모드를 사용했을 경우입니다. 'count'를 사용하면 우리가 앞서 배운 문서 단어 행렬(Document-Term Matrix, DTM)을 생성합니다. DTM에서의 인덱스는 앞서 확인한 word_index의 결과입니다.\n",
        "\n",
        "다만 주의할 점은 각 단어에 부여되는 인덱스는 1부터 시작하는 반면에 완성되는 행렬의 인덱스는 0부터 시작합니다. 실제로 단어의 개수는 9개였지만 완성된 행렬의 열의 개수는 10개인 것과 첫번째 열은 모든 행에서 값이 0인 것을 볼 수 있습니다. 인덱스 0에는 그 어떤 단어도 할당되지 않았기 때문입니다.\n",
        "\n",
        "우선, 네번째 행을 보겠습니다. 네번째 행은 테스트 데이터에서 네번째 문장을 의미합니다. 네번째 행은 8번째 열, 9번째 열, 10번째 열에서 1의 값을 가집니다. 이는 7번 단어, 8번 단어, 9번 단어가 네번째 문장에서 1개씩 존재함을 의미합니다. 위에서 정수 인코딩 된 결과를 보면 7번 단어는 '저는', 8번 단어는 '과일이', 9번 단어는 '좋아요'입니다. 세번째 행의 첫번째 열의 값은 2인데, 이는 세번째 문장에서 1번 인덱스를 가진 바나나가 두 번 등장했기 때문입니다.\n",
        "\n",
        "앞서 배웠듯이 DTM은 bag of words를 기반으로 하므로 단어 순서 정보는 보존되지 않습니다. 사실 더 구체적으로는 4개의 모든 모드에서 단어 순서 정보는 보존되지 않습니다. 이제 'binary' 모드를 보겠습니다."
      ]
    },
    {
      "cell_type": "code",
      "metadata": {
        "colab": {
          "base_uri": "https://localhost:8080/"
        },
        "id": "Ap9iSw0L_NJV",
        "outputId": "b31499bc-4751-4c56-d1be-a523c737aad8"
      },
      "source": [
        "print(t.texts_to_matrix(texts, mode = 'binary'))"
      ],
      "execution_count": 5,
      "outputs": [
        {
          "output_type": "stream",
          "text": [
            "[[0. 0. 1. 1. 1. 0. 0. 0. 0. 0.]\n",
            " [0. 1. 1. 1. 0. 0. 0. 0. 0. 0.]\n",
            " [0. 1. 0. 0. 0. 1. 1. 0. 0. 0.]\n",
            " [0. 0. 0. 0. 0. 0. 0. 1. 1. 1.]]\n"
          ],
          "name": "stdout"
        }
      ]
    },
    {
      "cell_type": "markdown",
      "metadata": {
        "id": "Tb2_BLrW_P9O"
      },
      "source": [
        "DTM과 결과가 매우 유사해보입니다. 다만 세번째 행, 두번째 열의 값이 DTM에서는 2였는데 여기서는 1로 바뀌었습니다. 그 이유는 'binary' 모드는 해당 단어가 존재하는지만 관심을 가지고 해당 단어가 몇 개였는지는 무시하기 때문입니다. 해당 단어가 존재하면 1, 단어가 존재하지 않으면 0의 값을 가집니다. 즉, 단어의 존재 유무로만 행렬을 표현합니다. 이제 'tfidf' 모드를 보겠습니다."
      ]
    },
    {
      "cell_type": "code",
      "metadata": {
        "colab": {
          "base_uri": "https://localhost:8080/"
        },
        "id": "ydGrk7x3_Qg-",
        "outputId": "29d6e853-0118-4aae-963b-6509c8730202"
      },
      "source": [
        "print(t.texts_to_matrix(texts, mode = 'tfidf').round(2)) # 둘째 자리까지 반올림하여 출력"
      ],
      "execution_count": 6,
      "outputs": [
        {
          "output_type": "stream",
          "text": [
            "[[0.   0.   0.85 0.85 1.1  0.   0.   0.   0.   0.  ]\n",
            " [0.   0.85 0.85 0.85 0.   0.   0.   0.   0.   0.  ]\n",
            " [0.   1.43 0.   0.   0.   1.1  1.1  0.   0.   0.  ]\n",
            " [0.   0.   0.   0.   0.   0.   0.   1.1  1.1  1.1 ]]\n"
          ],
          "name": "stdout"
        }
      ]
    },
    {
      "cell_type": "markdown",
      "metadata": {
        "id": "ZnL6_U6x_S8r"
      },
      "source": [
        "'tfidf' 모드는 말 그대로 TF-IDF 행렬을 만듭니다. 다만, TF-IDF 챕터에서 배운 기본식이나 사이킷런의 TfidfVectorizer에서 사용하는 식이랑 또 조금 다릅니다. 앞서 배운 기본식에서 TF는 각 문서에서의 각 단어의 빈도였다면 'tfidf' 모드에서는 TF를 각 문서에서의 각 단어의 빈도에 자연 로그를 씌우고 1을 더한 값으로 정의했습니다. idf에서는 앞서 배운 기본식에서 로그는 자연 로그를 사용하고, 로그 안의 분수에 1을 추가로 더했습니다. 물론, 이러한 식을 굳이 기억할 필요는 없고 여전히 TF-IDF의 기존 의도를 갖고 있다고 이해하면 됩니다."
      ]
    },
    {
      "cell_type": "code",
      "metadata": {
        "colab": {
          "base_uri": "https://localhost:8080/"
        },
        "id": "U-i5QahO_TFk",
        "outputId": "0cecd447-129f-46db-e744-b975f909c20d"
      },
      "source": [
        "print(t.texts_to_matrix(texts, mode = 'freq').round(2)) # 둘째 자리까지 반올림하여 출력"
      ],
      "execution_count": 7,
      "outputs": [
        {
          "output_type": "stream",
          "text": [
            "[[0.   0.   0.33 0.33 0.33 0.   0.   0.   0.   0.  ]\n",
            " [0.   0.33 0.33 0.33 0.   0.   0.   0.   0.   0.  ]\n",
            " [0.   0.5  0.   0.   0.   0.25 0.25 0.   0.   0.  ]\n",
            " [0.   0.   0.   0.   0.   0.   0.   0.33 0.33 0.33]]\n"
          ],
          "name": "stdout"
        }
      ]
    },
    {
      "cell_type": "markdown",
      "metadata": {
        "id": "W0waK4a3_WFH"
      },
      "source": [
        "마지막으로 'freq' 모드입니다. 'freq' 모드는 각 문서에서의 각 단어의 등장 횟수를 분자로, 각 문서의 크기(각 문서에서 등장한 모든 단어의 개수의 총 합)를 분모로 하는 표현 방법입니다. 예를 들어 세번째 행을 보겠습니다. 세번째 문장은 '길고 노란 바나나 바나나' 였습니다. 문서의 크기는 4인데, 바나나는 총 2회 등장했습니다. 이에 따라서 세번째 문장에서의 단어 '바나나'의 값은 위의 행렬에서 0.5가 됩니다. 반면에 '길고', '노란'이라는 두 단어는 각 1회 등장했으므로 각자 1/4의 값인 0.25의 값을 가집니다."
      ]
    },
    {
      "cell_type": "markdown",
      "metadata": {
        "id": "FyL3hSOoJDzs"
      },
      "source": [
        "# 텐서플로우 기초"
      ]
    },
    {
      "cell_type": "markdown",
      "metadata": {
        "id": "NVVaHQ-rJIEy"
      },
      "source": [
        "## import 할 때 패키지 네이밍"
      ]
    },
    {
      "cell_type": "code",
      "metadata": {
        "id": "iZZSEAGwJJuw"
      },
      "source": [
        "from tensorflow.keras.layers     import Dense\n",
        "from tensorflow.keras.models     import Sequential\n",
        "from tensorflow.keras.callbacks  import ModelCheckpoint\n",
        "from tensorflow.keras.optimizers import Adam"
      ],
      "execution_count": null,
      "outputs": []
    },
    {
      "cell_type": "markdown",
      "metadata": {
        "id": "KZkN9y5BJLGP"
      },
      "source": [
        "## 딥러닝 실행 순서"
      ]
    },
    {
      "cell_type": "markdown",
      "metadata": {
        "id": "7pgntwiOJSnh"
      },
      "source": [
        "1. 전처리: 학습에 필요한 데이터 전처리를 수행합니다.  \n",
        "2. 모델링(model): 모델을 정의합니다.  \n",
        "3. 컴파일(compile): 모델을 생성합니다.  \n",
        "4. 학습 (fit): 모델을 학습시킵니다."
      ]
    },
    {
      "cell_type": "markdown",
      "metadata": {
        "id": "C4bnorl4JVFy"
      },
      "source": [
        "아래는 실제 전처리 - 모델링 - 컴파일 - 학습으로 이어지는 코드를 보여줍니다."
      ]
    },
    {
      "cell_type": "code",
      "metadata": {
        "colab": {
          "base_uri": "https://localhost:8080/",
          "height": 34
        },
        "id": "Lf00P-xdJWom",
        "outputId": "9d857c10-1c4b-42e8-da76-0fc504d0fe24"
      },
      "source": [
        "import tensorflow as tf\n",
        "\n",
        "tf.keras.layers.Dense(10)"
      ],
      "execution_count": null,
      "outputs": [
        {
          "output_type": "execute_result",
          "data": {
            "text/plain": [
              "<tensorflow.python.keras.layers.core.Dense at 0x7f0ff84c9748>"
            ]
          },
          "metadata": {
            "tags": []
          },
          "execution_count": 114
        }
      ]
    },
    {
      "cell_type": "code",
      "metadata": {
        "colab": {
          "base_uri": "https://localhost:8080/",
          "height": 34
        },
        "id": "WPzIv_IRJZwA",
        "outputId": "0005a88c-a4a5-4a3e-9426-1e18ac0ea9b5"
      },
      "source": [
        "from tensorflow.keras.layers import Dense\n",
        "\n",
        "Dense(10)"
      ],
      "execution_count": null,
      "outputs": [
        {
          "output_type": "execute_result",
          "data": {
            "text/plain": [
              "<tensorflow.python.keras.layers.core.Dense at 0x7f0ef6fe96d8>"
            ]
          },
          "metadata": {
            "tags": []
          },
          "execution_count": 115
        }
      ]
    },
    {
      "cell_type": "code",
      "metadata": {
        "colab": {
          "base_uri": "https://localhost:8080/",
          "height": 34
        },
        "id": "1by4O49SJcEd",
        "outputId": "810965ac-a988-47d1-bf73-512a6ce2eb9e"
      },
      "source": [
        "# 필요한 패키지 import\n",
        "import numpy as np\n",
        "import tensorflow as tf\n",
        "from tensorflow.keras.layers import Dense\n",
        "from tensorflow.keras.models import Sequential\n",
        "\n",
        "# 데이터 전처리\n",
        "xs = np.array([-1.0, 0.0, 1.0, 2.0, 3.0, 4.0], dtype=float)\n",
        "ys = np.array([5.0, 6.0, 7.0, 8.0, 9.0, 10.0], dtype=float)\n",
        "\n",
        "# 모델의 정의 (modeling)\n",
        "model = Sequential([\n",
        "    Dense(1),\n",
        "])\n",
        "\n",
        "# 모델의 생성 (compile)\n",
        "model.compile(optimizer='sgd', loss='mse')\n",
        "\n",
        "# 학습 (fit)\n",
        "model.fit(xs, ys, epochs=1200, verbose=0)\n",
        "\n",
        "# 검증\n",
        "# 16.000046\n",
        "model.predict([10.0])"
      ],
      "execution_count": null,
      "outputs": [
        {
          "output_type": "execute_result",
          "data": {
            "text/plain": [
              "array([[16.000046]], dtype=float32)"
            ]
          },
          "metadata": {
            "tags": []
          },
          "execution_count": 116
        }
      ]
    },
    {
      "cell_type": "markdown",
      "metadata": {
        "id": "nEEbNRvTJjHw"
      },
      "source": [
        "## 기본 모델 구현 이해하기"
      ]
    },
    {
      "cell_type": "markdown",
      "metadata": {
        "id": "Hf1ei4MoJnT7"
      },
      "source": [
        "tensorflow 2.0은 keras의 Sequential 방식과 동일하게 블록쌓기 방식으로 매우 쉽게 모델링을 할 수 있습니다.  \n",
        "\n",
        "Dense Layer는 가장 기본적인 신경망 층이라고 이해하시면 됩니다.  \n",
        "\n",
        "Dense == Fully Connected Layer 라고도 불리웁니다."
      ]
    },
    {
      "cell_type": "code",
      "metadata": {
        "colab": {
          "base_uri": "https://localhost:8080/",
          "height": 404
        },
        "id": "EPIec0QOJo1t",
        "outputId": "6523323f-ea8c-4cb5-c8ad-a4c9c430a2c2"
      },
      "source": [
        "from IPython.display import Image\n",
        "\n",
        "Image('https://cs231n.github.io/assets/nn1/neural_net2.jpeg')"
      ],
      "execution_count": null,
      "outputs": [
        {
          "output_type": "execute_result",
          "data": {
            "image/jpeg": "[encoded data removed]",
            "text/plain": [
              "<IPython.core.display.Image object>"
            ]
          },
          "metadata": {
            "tags": []
          },
          "execution_count": 117
        }
      ]
    },
    {
      "cell_type": "code",
      "metadata": {
        "id": "g4l26xRAJql7"
      },
      "source": [
        "model = Sequential([\n",
        "    Dense(1),\n",
        "])"
      ],
      "execution_count": null,
      "outputs": []
    },
    {
      "cell_type": "markdown",
      "metadata": {
        "id": "uo2vTvP3JtMH"
      },
      "source": [
        "## 적절한 optimizer와 loss 선정하기"
      ]
    },
    {
      "cell_type": "markdown",
      "metadata": {
        "id": "NY6h0dNZJw1-"
      },
      "source": [
        "우리는 적절한 회귀 값을 예측하는 모델을 만들어야 합니다.  \n",
        "\n",
        "regression(회귀) 예측을 위해서는 loss=mse를 선택합니다.  \n",
        "\n",
        "optimizer는 여러가지를 활용할 수는 있지만, 단순 회귀에는 sgd가 적당합니다."
      ]
    },
    {
      "cell_type": "markdown",
      "metadata": {
        "id": "lqZ5f4wNJzzo"
      },
      "source": [
        "## compile"
      ]
    },
    {
      "cell_type": "markdown",
      "metadata": {
        "id": "ZEHE-IIMJ1F-"
      },
      "source": [
        "선정한 optimizer와 loss를 지정해주고 compile 합니다."
      ]
    },
    {
      "cell_type": "code",
      "metadata": {
        "id": "6NO-yuf9J2_B"
      },
      "source": [
        "model.compile(optimizer='sgd', loss='mse')"
      ],
      "execution_count": null,
      "outputs": []
    },
    {
      "cell_type": "markdown",
      "metadata": {
        "id": "M5NRpIp8J5QI"
      },
      "source": [
        "## fit"
      ]
    },
    {
      "cell_type": "markdown",
      "metadata": {
        "id": "oxTFtkcOJ8sk"
      },
      "source": [
        "이제, 모델에 학습을 진행해야합니다. fit() 메소드를 활용하여 학습을 진행합니다.  \n",
        "\n",
        "학습시, feature, label 값 지정 그리고 epochs을 지정합니다."
      ]
    },
    {
      "cell_type": "code",
      "metadata": {
        "colab": {
          "base_uri": "https://localhost:8080/",
          "height": 34
        },
        "id": "w3UPIfp1J9-X",
        "outputId": "10635506-a4d2-4102-90bd-a3dc068342c6"
      },
      "source": [
        "model.fit(xs, ys, epochs=1200, verbose=0)"
      ],
      "execution_count": null,
      "outputs": [
        {
          "output_type": "execute_result",
          "data": {
            "text/plain": [
              "<tensorflow.python.keras.callbacks.History at 0x7f0ef7247e80>"
            ]
          },
          "metadata": {
            "tags": []
          },
          "execution_count": 120
        }
      ]
    },
    {
      "cell_type": "markdown",
      "metadata": {
        "id": "tWBTaTvoKBWf"
      },
      "source": [
        "## Predict로 잘 학습이 되어있는지 검증합니다."
      ]
    },
    {
      "cell_type": "code",
      "metadata": {
        "colab": {
          "base_uri": "https://localhost:8080/",
          "height": 34
        },
        "id": "DuYUJFpCJ_1q",
        "outputId": "cd8872cd-9352-4633-fee3-1f10fb1fd5ec"
      },
      "source": [
        "# output\n",
        "# 16.000046\n",
        "model.predict([10.0])"
      ],
      "execution_count": null,
      "outputs": [
        {
          "output_type": "execute_result",
          "data": {
            "text/plain": [
              "array([[16.000046]], dtype=float32)"
            ]
          },
          "metadata": {
            "tags": []
          },
          "execution_count": 121
        }
      ]
    },
    {
      "cell_type": "markdown",
      "metadata": {
        "id": "vloTgnLOBEvj"
      },
      "source": [
        "# 선형 회귀 구현하기"
      ]
    },
    {
      "cell_type": "code",
      "metadata": {
        "id": "XWFZeY5BBGwR"
      },
      "source": [
        "from tensorflow.keras.models import Sequential # 케라스의 Sequential()을 임포트\n",
        "from tensorflow.keras.layers import Dense # 케라스의 Dense()를 임포트\n",
        "from tensorflow.keras import optimizers # 케라스의 옵티마이저를 임포트\n",
        "import numpy as np # Numpy를 임포트"
      ],
      "execution_count": null,
      "outputs": []
    },
    {
      "cell_type": "code",
      "metadata": {
        "id": "a8bT5wwxBKw_"
      },
      "source": [
        "X=np.array([1,2,3,4,5,6,7,8,9]) # 공부하는 시간\n",
        "y=np.array([11,22,33,44,53,66,77,87,95]) # 각 공부하는 시간에 맵핑되는 성적"
      ],
      "execution_count": null,
      "outputs": []
    },
    {
      "cell_type": "code",
      "metadata": {
        "colab": {
          "base_uri": "https://localhost:8080/",
          "height": 1000
        },
        "id": "6j5fuJXKBMdN",
        "outputId": "faf7b796-b276-4a2f-cc99-7bd1eb27b6bc"
      },
      "source": [
        "model=Sequential()\n",
        "model.add(Dense(1, input_dim=1, activation='linear'))\n",
        "sgd=optimizers.SGD(lr=0.01)\n",
        "# 학습률(learning rate, lr)은 0.01로 합니다.\n",
        "model.compile(optimizer=sgd ,loss='mse',metrics=['mse'])\n",
        "# sgd는 경사 하강법을 의미.\n",
        "# 손실 함수(Loss function)은 평균제곱오차 mse를 사용합니다.\n",
        "model.fit(X,y, batch_size=1, epochs=300, shuffle=False)\n",
        "# 주어진 X와 y데이터에 대해서 오차를 최소화하는 작업을 300번 시도합니다."
      ],
      "execution_count": null,
      "outputs": [
        {
          "output_type": "stream",
          "text": [
            "Epoch 1/300\n",
            "9/9 [==============================] - 0s 2ms/step - loss: 315.1164 - mse: 315.1164\n",
            "Epoch 2/300\n",
            "9/9 [==============================] - 0s 2ms/step - loss: 2.1668 - mse: 2.1668\n",
            "Epoch 3/300\n",
            "9/9 [==============================] - 0s 2ms/step - loss: 2.1661 - mse: 2.1661\n",
            "Epoch 4/300\n",
            "9/9 [==============================] - 0s 2ms/step - loss: 2.1655 - mse: 2.1655\n",
            "Epoch 5/300\n",
            "9/9 [==============================] - 0s 1ms/step - loss: 2.1648 - mse: 2.1648\n",
            "Epoch 6/300\n",
            "9/9 [==============================] - 0s 2ms/step - loss: 2.1642 - mse: 2.1642\n",
            "Epoch 7/300\n",
            "9/9 [==============================] - 0s 2ms/step - loss: 2.1636 - mse: 2.1636\n",
            "Epoch 8/300\n",
            "9/9 [==============================] - 0s 2ms/step - loss: 2.1630 - mse: 2.1630\n",
            "Epoch 9/300\n",
            "9/9 [==============================] - 0s 2ms/step - loss: 2.1624 - mse: 2.1624\n",
            "Epoch 10/300\n",
            "9/9 [==============================] - 0s 24ms/step - loss: 2.1619 - mse: 2.1619\n",
            "Epoch 11/300\n",
            "9/9 [==============================] - 0s 2ms/step - loss: 2.1613 - mse: 2.1613\n",
            "Epoch 12/300\n",
            "9/9 [==============================] - 0s 1ms/step - loss: 2.1608 - mse: 2.1608\n",
            "Epoch 13/300\n",
            "9/9 [==============================] - 0s 2ms/step - loss: 2.1603 - mse: 2.1603\n",
            "Epoch 14/300\n",
            "9/9 [==============================] - 0s 2ms/step - loss: 2.1599 - mse: 2.1599\n",
            "Epoch 15/300\n",
            "9/9 [==============================] - 0s 2ms/step - loss: 2.1594 - mse: 2.1594\n",
            "Epoch 16/300\n",
            "9/9 [==============================] - 0s 2ms/step - loss: 2.1589 - mse: 2.1589\n",
            "Epoch 17/300\n",
            "9/9 [==============================] - 0s 2ms/step - loss: 2.1585 - mse: 2.1585\n",
            "Epoch 18/300\n",
            "9/9 [==============================] - 0s 2ms/step - loss: 2.1581 - mse: 2.1581\n",
            "Epoch 19/300\n",
            "9/9 [==============================] - 0s 2ms/step - loss: 2.1577 - mse: 2.1577\n",
            "Epoch 20/300\n",
            "9/9 [==============================] - 0s 2ms/step - loss: 2.1573 - mse: 2.1573\n",
            "Epoch 21/300\n",
            "9/9 [==============================] - 0s 2ms/step - loss: 2.1569 - mse: 2.1569\n",
            "Epoch 22/300\n",
            "9/9 [==============================] - 0s 2ms/step - loss: 2.1566 - mse: 2.1566\n",
            "Epoch 23/300\n",
            "9/9 [==============================] - 0s 2ms/step - loss: 2.1562 - mse: 2.1562\n",
            "Epoch 24/300\n",
            "9/9 [==============================] - 0s 2ms/step - loss: 2.1559 - mse: 2.1559\n",
            "Epoch 25/300\n",
            "9/9 [==============================] - 0s 2ms/step - loss: 2.1555 - mse: 2.1555\n",
            "Epoch 26/300\n",
            "9/9 [==============================] - 0s 2ms/step - loss: 2.1552 - mse: 2.1552\n",
            "Epoch 27/300\n",
            "9/9 [==============================] - 0s 2ms/step - loss: 2.1549 - mse: 2.1549\n",
            "Epoch 28/300\n",
            "9/9 [==============================] - 0s 2ms/step - loss: 2.1546 - mse: 2.1546\n",
            "Epoch 29/300\n",
            "9/9 [==============================] - 0s 2ms/step - loss: 2.1544 - mse: 2.1544\n",
            "Epoch 30/300\n",
            "9/9 [==============================] - 0s 2ms/step - loss: 2.1541 - mse: 2.1541\n",
            "Epoch 31/300\n",
            "9/9 [==============================] - 0s 2ms/step - loss: 2.1538 - mse: 2.1538\n",
            "Epoch 32/300\n",
            "9/9 [==============================] - 0s 2ms/step - loss: 2.1535 - mse: 2.1535\n",
            "Epoch 33/300\n",
            "9/9 [==============================] - 0s 2ms/step - loss: 2.1533 - mse: 2.1533\n",
            "Epoch 34/300\n",
            "9/9 [==============================] - 0s 2ms/step - loss: 2.1531 - mse: 2.1531\n",
            "Epoch 35/300\n",
            "9/9 [==============================] - 0s 2ms/step - loss: 2.1528 - mse: 2.1528\n",
            "Epoch 36/300\n",
            "9/9 [==============================] - 0s 2ms/step - loss: 2.1526 - mse: 2.1526\n",
            "Epoch 37/300\n",
            "9/9 [==============================] - 0s 2ms/step - loss: 2.1524 - mse: 2.1524\n",
            "Epoch 38/300\n",
            "9/9 [==============================] - 0s 2ms/step - loss: 2.1522 - mse: 2.1522\n",
            "Epoch 39/300\n",
            "9/9 [==============================] - 0s 2ms/step - loss: 2.1520 - mse: 2.1520\n",
            "Epoch 40/300\n",
            "9/9 [==============================] - 0s 2ms/step - loss: 2.1518 - mse: 2.1518\n",
            "Epoch 41/300\n",
            "9/9 [==============================] - 0s 2ms/step - loss: 2.1516 - mse: 2.1516\n",
            "Epoch 42/300\n",
            "9/9 [==============================] - 0s 2ms/step - loss: 2.1514 - mse: 2.1514\n",
            "Epoch 43/300\n",
            "9/9 [==============================] - 0s 2ms/step - loss: 2.1512 - mse: 2.1512\n",
            "Epoch 44/300\n",
            "9/9 [==============================] - 0s 2ms/step - loss: 2.1510 - mse: 2.1510\n",
            "Epoch 45/300\n",
            "9/9 [==============================] - 0s 2ms/step - loss: 2.1509 - mse: 2.1509\n",
            "Epoch 46/300\n",
            "9/9 [==============================] - 0s 2ms/step - loss: 2.1507 - mse: 2.1507\n",
            "Epoch 47/300\n",
            "9/9 [==============================] - 0s 2ms/step - loss: 2.1506 - mse: 2.1506\n",
            "Epoch 48/300\n",
            "9/9 [==============================] - 0s 2ms/step - loss: 2.1504 - mse: 2.1504\n",
            "Epoch 49/300\n",
            "9/9 [==============================] - 0s 2ms/step - loss: 2.1503 - mse: 2.1503\n",
            "Epoch 50/300\n",
            "9/9 [==============================] - 0s 2ms/step - loss: 2.1501 - mse: 2.1501\n",
            "Epoch 51/300\n",
            "9/9 [==============================] - 0s 2ms/step - loss: 2.1500 - mse: 2.1500\n",
            "Epoch 52/300\n",
            "9/9 [==============================] - 0s 2ms/step - loss: 2.1499 - mse: 2.1499\n",
            "Epoch 53/300\n",
            "9/9 [==============================] - 0s 2ms/step - loss: 2.1497 - mse: 2.1497\n",
            "Epoch 54/300\n",
            "9/9 [==============================] - 0s 2ms/step - loss: 2.1496 - mse: 2.1496\n",
            "Epoch 55/300\n",
            "9/9 [==============================] - 0s 2ms/step - loss: 2.1495 - mse: 2.1495\n",
            "Epoch 56/300\n",
            "9/9 [==============================] - 0s 2ms/step - loss: 2.1494 - mse: 2.1494\n",
            "Epoch 57/300\n",
            "9/9 [==============================] - 0s 2ms/step - loss: 2.1493 - mse: 2.1493\n",
            "Epoch 58/300\n",
            "9/9 [==============================] - 0s 2ms/step - loss: 2.1492 - mse: 2.1492\n",
            "Epoch 59/300\n",
            "9/9 [==============================] - 0s 2ms/step - loss: 2.1491 - mse: 2.1491\n",
            "Epoch 60/300\n",
            "9/9 [==============================] - 0s 2ms/step - loss: 2.1490 - mse: 2.1490\n",
            "Epoch 61/300\n",
            "9/9 [==============================] - 0s 2ms/step - loss: 2.1489 - mse: 2.1489\n",
            "Epoch 62/300\n",
            "9/9 [==============================] - 0s 2ms/step - loss: 2.1488 - mse: 2.1488\n",
            "Epoch 63/300\n",
            "9/9 [==============================] - 0s 2ms/step - loss: 2.1487 - mse: 2.1487\n",
            "Epoch 64/300\n",
            "9/9 [==============================] - 0s 2ms/step - loss: 2.1486 - mse: 2.1486\n",
            "Epoch 65/300\n",
            "9/9 [==============================] - 0s 2ms/step - loss: 2.1485 - mse: 2.1485\n",
            "Epoch 66/300\n",
            "9/9 [==============================] - 0s 2ms/step - loss: 2.1484 - mse: 2.1484\n",
            "Epoch 67/300\n",
            "9/9 [==============================] - 0s 2ms/step - loss: 2.1483 - mse: 2.1483\n",
            "Epoch 68/300\n",
            "9/9 [==============================] - 0s 2ms/step - loss: 2.1483 - mse: 2.1483\n",
            "Epoch 69/300\n",
            "9/9 [==============================] - 0s 2ms/step - loss: 2.1482 - mse: 2.1482\n",
            "Epoch 70/300\n",
            "9/9 [==============================] - 0s 2ms/step - loss: 2.1481 - mse: 2.1481\n",
            "Epoch 71/300\n",
            "9/9 [==============================] - 0s 2ms/step - loss: 2.1480 - mse: 2.1480\n",
            "Epoch 72/300\n",
            "9/9 [==============================] - 0s 2ms/step - loss: 2.1480 - mse: 2.1480\n",
            "Epoch 73/300\n",
            "9/9 [==============================] - 0s 2ms/step - loss: 2.1479 - mse: 2.1479\n",
            "Epoch 74/300\n",
            "9/9 [==============================] - 0s 2ms/step - loss: 2.1479 - mse: 2.1479\n",
            "Epoch 75/300\n",
            "9/9 [==============================] - 0s 2ms/step - loss: 2.1478 - mse: 2.1478\n",
            "Epoch 76/300\n",
            "9/9 [==============================] - 0s 2ms/step - loss: 2.1477 - mse: 2.1477\n",
            "Epoch 77/300\n",
            "9/9 [==============================] - 0s 2ms/step - loss: 2.1477 - mse: 2.1477\n",
            "Epoch 78/300\n",
            "9/9 [==============================] - 0s 2ms/step - loss: 2.1476 - mse: 2.1476\n",
            "Epoch 79/300\n",
            "9/9 [==============================] - 0s 2ms/step - loss: 2.1476 - mse: 2.1476\n",
            "Epoch 80/300\n",
            "9/9 [==============================] - 0s 2ms/step - loss: 2.1475 - mse: 2.1475\n",
            "Epoch 81/300\n",
            "9/9 [==============================] - 0s 2ms/step - loss: 2.1475 - mse: 2.1475\n",
            "Epoch 82/300\n",
            "9/9 [==============================] - 0s 2ms/step - loss: 2.1474 - mse: 2.1474\n",
            "Epoch 83/300\n",
            "9/9 [==============================] - 0s 2ms/step - loss: 2.1474 - mse: 2.1474\n",
            "Epoch 84/300\n",
            "9/9 [==============================] - 0s 2ms/step - loss: 2.1473 - mse: 2.1473\n",
            "Epoch 85/300\n",
            "9/9 [==============================] - 0s 2ms/step - loss: 2.1473 - mse: 2.1473\n",
            "Epoch 86/300\n",
            "9/9 [==============================] - 0s 2ms/step - loss: 2.1472 - mse: 2.1472\n",
            "Epoch 87/300\n",
            "9/9 [==============================] - 0s 2ms/step - loss: 2.1472 - mse: 2.1472\n",
            "Epoch 88/300\n",
            "9/9 [==============================] - 0s 2ms/step - loss: 2.1472 - mse: 2.1472\n",
            "Epoch 89/300\n",
            "9/9 [==============================] - 0s 2ms/step - loss: 2.1471 - mse: 2.1471\n",
            "Epoch 90/300\n",
            "9/9 [==============================] - 0s 2ms/step - loss: 2.1471 - mse: 2.1471\n",
            "Epoch 91/300\n",
            "9/9 [==============================] - 0s 2ms/step - loss: 2.1471 - mse: 2.1471\n",
            "Epoch 92/300\n",
            "9/9 [==============================] - 0s 2ms/step - loss: 2.1470 - mse: 2.1470\n",
            "Epoch 93/300\n",
            "9/9 [==============================] - 0s 2ms/step - loss: 2.1470 - mse: 2.1470\n",
            "Epoch 94/300\n",
            "9/9 [==============================] - 0s 2ms/step - loss: 2.1470 - mse: 2.1470\n",
            "Epoch 95/300\n",
            "9/9 [==============================] - 0s 2ms/step - loss: 2.1469 - mse: 2.1469\n",
            "Epoch 96/300\n",
            "9/9 [==============================] - 0s 2ms/step - loss: 2.1469 - mse: 2.1469\n",
            "Epoch 97/300\n",
            "9/9 [==============================] - 0s 2ms/step - loss: 2.1469 - mse: 2.1469\n",
            "Epoch 98/300\n",
            "9/9 [==============================] - 0s 2ms/step - loss: 2.1468 - mse: 2.1468\n",
            "Epoch 99/300\n",
            "9/9 [==============================] - 0s 2ms/step - loss: 2.1468 - mse: 2.1468\n",
            "Epoch 100/300\n",
            "9/9 [==============================] - 0s 2ms/step - loss: 2.1468 - mse: 2.1468\n",
            "Epoch 101/300\n",
            "9/9 [==============================] - 0s 2ms/step - loss: 2.1468 - mse: 2.1468\n",
            "Epoch 102/300\n",
            "9/9 [==============================] - 0s 2ms/step - loss: 2.1467 - mse: 2.1467\n",
            "Epoch 103/300\n",
            "9/9 [==============================] - 0s 2ms/step - loss: 2.1467 - mse: 2.1467\n",
            "Epoch 104/300\n",
            "9/9 [==============================] - 0s 2ms/step - loss: 2.1467 - mse: 2.1467\n",
            "Epoch 105/300\n",
            "9/9 [==============================] - 0s 2ms/step - loss: 2.1467 - mse: 2.1467\n",
            "Epoch 106/300\n",
            "9/9 [==============================] - 0s 2ms/step - loss: 2.1466 - mse: 2.1466\n",
            "Epoch 107/300\n",
            "9/9 [==============================] - 0s 2ms/step - loss: 2.1466 - mse: 2.1466\n",
            "Epoch 108/300\n",
            "9/9 [==============================] - 0s 2ms/step - loss: 2.1466 - mse: 2.1466\n",
            "Epoch 109/300\n",
            "9/9 [==============================] - 0s 2ms/step - loss: 2.1466 - mse: 2.1466\n",
            "Epoch 110/300\n",
            "9/9 [==============================] - 0s 2ms/step - loss: 2.1466 - mse: 2.1466\n",
            "Epoch 111/300\n",
            "9/9 [==============================] - 0s 2ms/step - loss: 2.1466 - mse: 2.1466\n",
            "Epoch 112/300\n",
            "9/9 [==============================] - 0s 2ms/step - loss: 2.1465 - mse: 2.1465\n",
            "Epoch 113/300\n",
            "9/9 [==============================] - 0s 1ms/step - loss: 2.1465 - mse: 2.1465\n",
            "Epoch 114/300\n",
            "9/9 [==============================] - 0s 2ms/step - loss: 2.1465 - mse: 2.1465\n",
            "Epoch 115/300\n",
            "9/9 [==============================] - 0s 2ms/step - loss: 2.1465 - mse: 2.1465\n",
            "Epoch 116/300\n",
            "9/9 [==============================] - 0s 2ms/step - loss: 2.1465 - mse: 2.1465\n",
            "Epoch 117/300\n",
            "9/9 [==============================] - 0s 2ms/step - loss: 2.1465 - mse: 2.1465\n",
            "Epoch 118/300\n",
            "9/9 [==============================] - 0s 2ms/step - loss: 2.1464 - mse: 2.1464\n",
            "Epoch 119/300\n",
            "9/9 [==============================] - 0s 2ms/step - loss: 2.1464 - mse: 2.1464\n",
            "Epoch 120/300\n",
            "9/9 [==============================] - 0s 2ms/step - loss: 2.1464 - mse: 2.1464\n",
            "Epoch 121/300\n",
            "9/9 [==============================] - 0s 2ms/step - loss: 2.1464 - mse: 2.1464\n",
            "Epoch 122/300\n",
            "9/9 [==============================] - 0s 2ms/step - loss: 2.1464 - mse: 2.1464\n",
            "Epoch 123/300\n",
            "9/9 [==============================] - 0s 1ms/step - loss: 2.1464 - mse: 2.1464\n",
            "Epoch 124/300\n",
            "9/9 [==============================] - 0s 2ms/step - loss: 2.1464 - mse: 2.1464\n",
            "Epoch 125/300\n",
            "9/9 [==============================] - 0s 2ms/step - loss: 2.1464 - mse: 2.1464\n",
            "Epoch 126/300\n",
            "9/9 [==============================] - 0s 2ms/step - loss: 2.1463 - mse: 2.1463\n",
            "Epoch 127/300\n",
            "9/9 [==============================] - 0s 2ms/step - loss: 2.1463 - mse: 2.1463\n",
            "Epoch 128/300\n",
            "9/9 [==============================] - 0s 2ms/step - loss: 2.1463 - mse: 2.1463\n",
            "Epoch 129/300\n",
            "9/9 [==============================] - 0s 2ms/step - loss: 2.1463 - mse: 2.1463\n",
            "Epoch 130/300\n",
            "9/9 [==============================] - 0s 2ms/step - loss: 2.1463 - mse: 2.1463\n",
            "Epoch 131/300\n",
            "9/9 [==============================] - 0s 2ms/step - loss: 2.1463 - mse: 2.1463\n",
            "Epoch 132/300\n",
            "9/9 [==============================] - 0s 1ms/step - loss: 2.1463 - mse: 2.1463\n",
            "Epoch 133/300\n",
            "9/9 [==============================] - 0s 2ms/step - loss: 2.1463 - mse: 2.1463\n",
            "Epoch 134/300\n",
            "9/9 [==============================] - 0s 2ms/step - loss: 2.1463 - mse: 2.1463\n",
            "Epoch 135/300\n",
            "9/9 [==============================] - 0s 1ms/step - loss: 2.1463 - mse: 2.1463\n",
            "Epoch 136/300\n",
            "9/9 [==============================] - 0s 2ms/step - loss: 2.1463 - mse: 2.1463\n",
            "Epoch 137/300\n",
            "9/9 [==============================] - 0s 2ms/step - loss: 2.1462 - mse: 2.1462\n",
            "Epoch 138/300\n",
            "9/9 [==============================] - 0s 2ms/step - loss: 2.1462 - mse: 2.1462\n",
            "Epoch 139/300\n",
            "9/9 [==============================] - 0s 2ms/step - loss: 2.1462 - mse: 2.1462\n",
            "Epoch 140/300\n",
            "9/9 [==============================] - 0s 2ms/step - loss: 2.1462 - mse: 2.1462\n",
            "Epoch 141/300\n",
            "9/9 [==============================] - 0s 2ms/step - loss: 2.1462 - mse: 2.1462\n",
            "Epoch 142/300\n",
            "9/9 [==============================] - 0s 2ms/step - loss: 2.1462 - mse: 2.1462\n",
            "Epoch 143/300\n",
            "9/9 [==============================] - 0s 2ms/step - loss: 2.1462 - mse: 2.1462\n",
            "Epoch 144/300\n",
            "9/9 [==============================] - 0s 2ms/step - loss: 2.1462 - mse: 2.1462\n",
            "Epoch 145/300\n",
            "9/9 [==============================] - 0s 2ms/step - loss: 2.1462 - mse: 2.1462\n",
            "Epoch 146/300\n",
            "9/9 [==============================] - 0s 2ms/step - loss: 2.1462 - mse: 2.1462\n",
            "Epoch 147/300\n",
            "9/9 [==============================] - 0s 2ms/step - loss: 2.1462 - mse: 2.1462\n",
            "Epoch 148/300\n",
            "9/9 [==============================] - 0s 2ms/step - loss: 2.1462 - mse: 2.1462\n",
            "Epoch 149/300\n",
            "9/9 [==============================] - 0s 2ms/step - loss: 2.1462 - mse: 2.1462\n",
            "Epoch 150/300\n",
            "9/9 [==============================] - 0s 2ms/step - loss: 2.1462 - mse: 2.1462\n",
            "Epoch 151/300\n",
            "9/9 [==============================] - 0s 2ms/step - loss: 2.1462 - mse: 2.1462\n",
            "Epoch 152/300\n",
            "9/9 [==============================] - 0s 2ms/step - loss: 2.1462 - mse: 2.1462\n",
            "Epoch 153/300\n",
            "9/9 [==============================] - 0s 2ms/step - loss: 2.1462 - mse: 2.1462\n",
            "Epoch 154/300\n",
            "9/9 [==============================] - 0s 2ms/step - loss: 2.1462 - mse: 2.1462\n",
            "Epoch 155/300\n",
            "9/9 [==============================] - 0s 1ms/step - loss: 2.1461 - mse: 2.1461\n",
            "Epoch 156/300\n",
            "9/9 [==============================] - 0s 2ms/step - loss: 2.1461 - mse: 2.1461\n",
            "Epoch 157/300\n",
            "9/9 [==============================] - 0s 2ms/step - loss: 2.1461 - mse: 2.1461\n",
            "Epoch 158/300\n",
            "9/9 [==============================] - 0s 2ms/step - loss: 2.1461 - mse: 2.1461\n",
            "Epoch 159/300\n",
            "9/9 [==============================] - 0s 2ms/step - loss: 2.1461 - mse: 2.1461\n",
            "Epoch 160/300\n",
            "9/9 [==============================] - 0s 2ms/step - loss: 2.1461 - mse: 2.1461\n",
            "Epoch 161/300\n",
            "9/9 [==============================] - 0s 1ms/step - loss: 2.1461 - mse: 2.1461\n",
            "Epoch 162/300\n",
            "9/9 [==============================] - 0s 2ms/step - loss: 2.1461 - mse: 2.1461\n",
            "Epoch 163/300\n",
            "9/9 [==============================] - 0s 2ms/step - loss: 2.1461 - mse: 2.1461\n",
            "Epoch 164/300\n",
            "9/9 [==============================] - 0s 2ms/step - loss: 2.1461 - mse: 2.1461\n",
            "Epoch 165/300\n",
            "9/9 [==============================] - 0s 2ms/step - loss: 2.1461 - mse: 2.1461\n",
            "Epoch 166/300\n",
            "9/9 [==============================] - 0s 2ms/step - loss: 2.1461 - mse: 2.1461\n",
            "Epoch 167/300\n",
            "9/9 [==============================] - 0s 2ms/step - loss: 2.1461 - mse: 2.1461\n",
            "Epoch 168/300\n",
            "9/9 [==============================] - 0s 2ms/step - loss: 2.1461 - mse: 2.1461\n",
            "Epoch 169/300\n",
            "9/9 [==============================] - 0s 2ms/step - loss: 2.1461 - mse: 2.1461\n",
            "Epoch 170/300\n",
            "9/9 [==============================] - 0s 2ms/step - loss: 2.1461 - mse: 2.1461\n",
            "Epoch 171/300\n",
            "9/9 [==============================] - 0s 2ms/step - loss: 2.1461 - mse: 2.1461\n",
            "Epoch 172/300\n",
            "9/9 [==============================] - 0s 2ms/step - loss: 2.1461 - mse: 2.1461\n",
            "Epoch 173/300\n",
            "9/9 [==============================] - 0s 2ms/step - loss: 2.1461 - mse: 2.1461\n",
            "Epoch 174/300\n",
            "9/9 [==============================] - 0s 2ms/step - loss: 2.1461 - mse: 2.1461\n",
            "Epoch 175/300\n",
            "9/9 [==============================] - 0s 2ms/step - loss: 2.1461 - mse: 2.1461\n",
            "Epoch 176/300\n",
            "9/9 [==============================] - 0s 2ms/step - loss: 2.1461 - mse: 2.1461\n",
            "Epoch 177/300\n",
            "9/9 [==============================] - 0s 2ms/step - loss: 2.1461 - mse: 2.1461\n",
            "Epoch 178/300\n",
            "9/9 [==============================] - 0s 2ms/step - loss: 2.1461 - mse: 2.1461\n",
            "Epoch 179/300\n",
            "9/9 [==============================] - 0s 2ms/step - loss: 2.1461 - mse: 2.1461\n",
            "Epoch 180/300\n",
            "9/9 [==============================] - 0s 2ms/step - loss: 2.1461 - mse: 2.1461\n",
            "Epoch 181/300\n",
            "9/9 [==============================] - 0s 2ms/step - loss: 2.1461 - mse: 2.1461\n",
            "Epoch 182/300\n",
            "9/9 [==============================] - 0s 2ms/step - loss: 2.1461 - mse: 2.1461\n",
            "Epoch 183/300\n",
            "9/9 [==============================] - 0s 2ms/step - loss: 2.1461 - mse: 2.1461\n",
            "Epoch 184/300\n",
            "9/9 [==============================] - 0s 2ms/step - loss: 2.1461 - mse: 2.1461\n",
            "Epoch 185/300\n",
            "9/9 [==============================] - 0s 2ms/step - loss: 2.1461 - mse: 2.1461\n",
            "Epoch 186/300\n",
            "9/9 [==============================] - 0s 2ms/step - loss: 2.1461 - mse: 2.1461\n",
            "Epoch 187/300\n",
            "9/9 [==============================] - 0s 2ms/step - loss: 2.1461 - mse: 2.1461\n",
            "Epoch 188/300\n",
            "9/9 [==============================] - 0s 2ms/step - loss: 2.1461 - mse: 2.1461\n",
            "Epoch 189/300\n",
            "9/9 [==============================] - 0s 2ms/step - loss: 2.1461 - mse: 2.1461\n",
            "Epoch 190/300\n",
            "9/9 [==============================] - 0s 2ms/step - loss: 2.1461 - mse: 2.1461\n",
            "Epoch 191/300\n",
            "9/9 [==============================] - 0s 2ms/step - loss: 2.1461 - mse: 2.1461\n",
            "Epoch 192/300\n",
            "9/9 [==============================] - 0s 2ms/step - loss: 2.1461 - mse: 2.1461\n",
            "Epoch 193/300\n",
            "9/9 [==============================] - 0s 2ms/step - loss: 2.1461 - mse: 2.1461\n",
            "Epoch 194/300\n",
            "9/9 [==============================] - 0s 2ms/step - loss: 2.1461 - mse: 2.1461\n",
            "Epoch 195/300\n",
            "9/9 [==============================] - 0s 2ms/step - loss: 2.1461 - mse: 2.1461\n",
            "Epoch 196/300\n",
            "9/9 [==============================] - 0s 2ms/step - loss: 2.1461 - mse: 2.1461\n",
            "Epoch 197/300\n",
            "9/9 [==============================] - 0s 2ms/step - loss: 2.1461 - mse: 2.1461\n",
            "Epoch 198/300\n",
            "9/9 [==============================] - 0s 2ms/step - loss: 2.1461 - mse: 2.1461\n",
            "Epoch 199/300\n",
            "9/9 [==============================] - 0s 2ms/step - loss: 2.1461 - mse: 2.1461\n",
            "Epoch 200/300\n",
            "9/9 [==============================] - 0s 2ms/step - loss: 2.1461 - mse: 2.1461\n",
            "Epoch 201/300\n",
            "9/9 [==============================] - 0s 2ms/step - loss: 2.1461 - mse: 2.1461\n",
            "Epoch 202/300\n",
            "9/9 [==============================] - 0s 2ms/step - loss: 2.1460 - mse: 2.1460\n",
            "Epoch 203/300\n",
            "9/9 [==============================] - 0s 2ms/step - loss: 2.1461 - mse: 2.1461\n",
            "Epoch 204/300\n",
            "9/9 [==============================] - 0s 2ms/step - loss: 2.1461 - mse: 2.1461\n",
            "Epoch 205/300\n",
            "9/9 [==============================] - 0s 2ms/step - loss: 2.1460 - mse: 2.1460\n",
            "Epoch 206/300\n",
            "9/9 [==============================] - 0s 2ms/step - loss: 2.1460 - mse: 2.1460\n",
            "Epoch 207/300\n",
            "9/9 [==============================] - 0s 2ms/step - loss: 2.1460 - mse: 2.1460\n",
            "Epoch 208/300\n",
            "9/9 [==============================] - 0s 2ms/step - loss: 2.1460 - mse: 2.1460\n",
            "Epoch 209/300\n",
            "9/9 [==============================] - 0s 2ms/step - loss: 2.1460 - mse: 2.1460\n",
            "Epoch 210/300\n",
            "9/9 [==============================] - 0s 2ms/step - loss: 2.1460 - mse: 2.1460\n",
            "Epoch 211/300\n",
            "9/9 [==============================] - 0s 2ms/step - loss: 2.1460 - mse: 2.1460\n",
            "Epoch 212/300\n",
            "9/9 [==============================] - 0s 2ms/step - loss: 2.1460 - mse: 2.1460\n",
            "Epoch 213/300\n",
            "9/9 [==============================] - 0s 2ms/step - loss: 2.1460 - mse: 2.1460\n",
            "Epoch 214/300\n",
            "9/9 [==============================] - 0s 2ms/step - loss: 2.1460 - mse: 2.1460\n",
            "Epoch 215/300\n",
            "9/9 [==============================] - 0s 2ms/step - loss: 2.1460 - mse: 2.1460\n",
            "Epoch 216/300\n",
            "9/9 [==============================] - 0s 2ms/step - loss: 2.1460 - mse: 2.1460\n",
            "Epoch 217/300\n",
            "9/9 [==============================] - 0s 2ms/step - loss: 2.1460 - mse: 2.1460\n",
            "Epoch 218/300\n",
            "9/9 [==============================] - 0s 2ms/step - loss: 2.1460 - mse: 2.1460\n",
            "Epoch 219/300\n",
            "9/9 [==============================] - 0s 2ms/step - loss: 2.1460 - mse: 2.1460\n",
            "Epoch 220/300\n",
            "9/9 [==============================] - 0s 2ms/step - loss: 2.1460 - mse: 2.1460\n",
            "Epoch 221/300\n",
            "9/9 [==============================] - 0s 1ms/step - loss: 2.1460 - mse: 2.1460\n",
            "Epoch 222/300\n",
            "9/9 [==============================] - 0s 2ms/step - loss: 2.1460 - mse: 2.1460\n",
            "Epoch 223/300\n",
            "9/9 [==============================] - 0s 2ms/step - loss: 2.1460 - mse: 2.1460\n",
            "Epoch 224/300\n",
            "9/9 [==============================] - 0s 2ms/step - loss: 2.1460 - mse: 2.1460\n",
            "Epoch 225/300\n",
            "9/9 [==============================] - 0s 2ms/step - loss: 2.1460 - mse: 2.1460\n",
            "Epoch 226/300\n",
            "9/9 [==============================] - 0s 2ms/step - loss: 2.1460 - mse: 2.1460\n",
            "Epoch 227/300\n",
            "9/9 [==============================] - 0s 2ms/step - loss: 2.1460 - mse: 2.1460\n",
            "Epoch 228/300\n",
            "9/9 [==============================] - 0s 2ms/step - loss: 2.1460 - mse: 2.1460\n",
            "Epoch 229/300\n",
            "9/9 [==============================] - 0s 2ms/step - loss: 2.1460 - mse: 2.1460\n",
            "Epoch 230/300\n",
            "9/9 [==============================] - 0s 2ms/step - loss: 2.1460 - mse: 2.1460\n",
            "Epoch 231/300\n",
            "9/9 [==============================] - 0s 2ms/step - loss: 2.1460 - mse: 2.1460\n",
            "Epoch 232/300\n",
            "9/9 [==============================] - 0s 2ms/step - loss: 2.1460 - mse: 2.1460\n",
            "Epoch 233/300\n",
            "9/9 [==============================] - 0s 2ms/step - loss: 2.1460 - mse: 2.1460\n",
            "Epoch 234/300\n",
            "9/9 [==============================] - 0s 2ms/step - loss: 2.1460 - mse: 2.1460\n",
            "Epoch 235/300\n",
            "9/9 [==============================] - 0s 2ms/step - loss: 2.1460 - mse: 2.1460\n",
            "Epoch 236/300\n",
            "9/9 [==============================] - 0s 2ms/step - loss: 2.1460 - mse: 2.1460\n",
            "Epoch 237/300\n",
            "9/9 [==============================] - 0s 2ms/step - loss: 2.1460 - mse: 2.1460\n",
            "Epoch 238/300\n",
            "9/9 [==============================] - 0s 2ms/step - loss: 2.1460 - mse: 2.1460\n",
            "Epoch 239/300\n",
            "9/9 [==============================] - 0s 2ms/step - loss: 2.1460 - mse: 2.1460\n",
            "Epoch 240/300\n",
            "9/9 [==============================] - 0s 2ms/step - loss: 2.1460 - mse: 2.1460\n",
            "Epoch 241/300\n",
            "9/9 [==============================] - 0s 2ms/step - loss: 2.1460 - mse: 2.1460\n",
            "Epoch 242/300\n",
            "9/9 [==============================] - 0s 1ms/step - loss: 2.1460 - mse: 2.1460\n",
            "Epoch 243/300\n",
            "9/9 [==============================] - 0s 1ms/step - loss: 2.1460 - mse: 2.1460\n",
            "Epoch 244/300\n",
            "9/9 [==============================] - 0s 1ms/step - loss: 2.1460 - mse: 2.1460\n",
            "Epoch 245/300\n",
            "9/9 [==============================] - 0s 2ms/step - loss: 2.1460 - mse: 2.1460\n",
            "Epoch 246/300\n",
            "9/9 [==============================] - 0s 2ms/step - loss: 2.1460 - mse: 2.1460\n",
            "Epoch 247/300\n",
            "9/9 [==============================] - 0s 2ms/step - loss: 2.1460 - mse: 2.1460\n",
            "Epoch 248/300\n",
            "9/9 [==============================] - 0s 2ms/step - loss: 2.1460 - mse: 2.1460\n",
            "Epoch 249/300\n",
            "9/9 [==============================] - 0s 2ms/step - loss: 2.1460 - mse: 2.1460\n",
            "Epoch 250/300\n",
            "9/9 [==============================] - 0s 2ms/step - loss: 2.1460 - mse: 2.1460\n",
            "Epoch 251/300\n",
            "9/9 [==============================] - 0s 2ms/step - loss: 2.1460 - mse: 2.1460\n",
            "Epoch 252/300\n",
            "9/9 [==============================] - 0s 2ms/step - loss: 2.1460 - mse: 2.1460\n",
            "Epoch 253/300\n",
            "9/9 [==============================] - 0s 2ms/step - loss: 2.1460 - mse: 2.1460\n",
            "Epoch 254/300\n",
            "9/9 [==============================] - 0s 2ms/step - loss: 2.1460 - mse: 2.1460\n",
            "Epoch 255/300\n",
            "9/9 [==============================] - 0s 2ms/step - loss: 2.1460 - mse: 2.1460\n",
            "Epoch 256/300\n",
            "9/9 [==============================] - 0s 2ms/step - loss: 2.1460 - mse: 2.1460\n",
            "Epoch 257/300\n",
            "9/9 [==============================] - 0s 2ms/step - loss: 2.1460 - mse: 2.1460\n",
            "Epoch 258/300\n",
            "9/9 [==============================] - 0s 2ms/step - loss: 2.1460 - mse: 2.1460\n",
            "Epoch 259/300\n",
            "9/9 [==============================] - 0s 2ms/step - loss: 2.1460 - mse: 2.1460\n",
            "Epoch 260/300\n",
            "9/9 [==============================] - 0s 2ms/step - loss: 2.1460 - mse: 2.1460\n",
            "Epoch 261/300\n",
            "9/9 [==============================] - 0s 2ms/step - loss: 2.1460 - mse: 2.1460\n",
            "Epoch 262/300\n",
            "9/9 [==============================] - 0s 2ms/step - loss: 2.1460 - mse: 2.1460\n",
            "Epoch 263/300\n",
            "9/9 [==============================] - 0s 2ms/step - loss: 2.1460 - mse: 2.1460\n",
            "Epoch 264/300\n",
            "9/9 [==============================] - 0s 2ms/step - loss: 2.1460 - mse: 2.1460\n",
            "Epoch 265/300\n",
            "9/9 [==============================] - 0s 2ms/step - loss: 2.1460 - mse: 2.1460\n",
            "Epoch 266/300\n",
            "9/9 [==============================] - 0s 2ms/step - loss: 2.1460 - mse: 2.1460\n",
            "Epoch 267/300\n",
            "9/9 [==============================] - 0s 2ms/step - loss: 2.1460 - mse: 2.1460\n",
            "Epoch 268/300\n",
            "9/9 [==============================] - 0s 2ms/step - loss: 2.1460 - mse: 2.1460\n",
            "Epoch 269/300\n",
            "9/9 [==============================] - 0s 2ms/step - loss: 2.1460 - mse: 2.1460\n",
            "Epoch 270/300\n",
            "9/9 [==============================] - 0s 2ms/step - loss: 2.1460 - mse: 2.1460\n",
            "Epoch 271/300\n",
            "9/9 [==============================] - 0s 2ms/step - loss: 2.1460 - mse: 2.1460\n",
            "Epoch 272/300\n",
            "9/9 [==============================] - 0s 2ms/step - loss: 2.1460 - mse: 2.1460\n",
            "Epoch 273/300\n",
            "9/9 [==============================] - 0s 2ms/step - loss: 2.1460 - mse: 2.1460\n",
            "Epoch 274/300\n",
            "9/9 [==============================] - 0s 2ms/step - loss: 2.1460 - mse: 2.1460\n",
            "Epoch 275/300\n",
            "9/9 [==============================] - 0s 2ms/step - loss: 2.1460 - mse: 2.1460\n",
            "Epoch 276/300\n",
            "9/9 [==============================] - 0s 2ms/step - loss: 2.1460 - mse: 2.1460\n",
            "Epoch 277/300\n",
            "9/9 [==============================] - 0s 1ms/step - loss: 2.1460 - mse: 2.1460\n",
            "Epoch 278/300\n",
            "9/9 [==============================] - 0s 2ms/step - loss: 2.1460 - mse: 2.1460\n",
            "Epoch 279/300\n",
            "9/9 [==============================] - 0s 2ms/step - loss: 2.1460 - mse: 2.1460\n",
            "Epoch 280/300\n",
            "9/9 [==============================] - 0s 2ms/step - loss: 2.1460 - mse: 2.1460\n",
            "Epoch 281/300\n",
            "9/9 [==============================] - 0s 2ms/step - loss: 2.1460 - mse: 2.1460\n",
            "Epoch 282/300\n",
            "9/9 [==============================] - 0s 2ms/step - loss: 2.1460 - mse: 2.1460\n",
            "Epoch 283/300\n",
            "9/9 [==============================] - 0s 2ms/step - loss: 2.1460 - mse: 2.1460\n",
            "Epoch 284/300\n",
            "9/9 [==============================] - 0s 2ms/step - loss: 2.1460 - mse: 2.1460\n",
            "Epoch 285/300\n",
            "9/9 [==============================] - 0s 2ms/step - loss: 2.1460 - mse: 2.1460\n",
            "Epoch 286/300\n",
            "9/9 [==============================] - 0s 2ms/step - loss: 2.1460 - mse: 2.1460\n",
            "Epoch 287/300\n",
            "9/9 [==============================] - 0s 2ms/step - loss: 2.1460 - mse: 2.1460\n",
            "Epoch 288/300\n",
            "9/9 [==============================] - 0s 1ms/step - loss: 2.1460 - mse: 2.1460\n",
            "Epoch 289/300\n",
            "9/9 [==============================] - 0s 2ms/step - loss: 2.1460 - mse: 2.1460\n",
            "Epoch 290/300\n",
            "9/9 [==============================] - 0s 2ms/step - loss: 2.1460 - mse: 2.1460\n",
            "Epoch 291/300\n",
            "9/9 [==============================] - 0s 2ms/step - loss: 2.1460 - mse: 2.1460\n",
            "Epoch 292/300\n",
            "9/9 [==============================] - 0s 2ms/step - loss: 2.1460 - mse: 2.1460\n",
            "Epoch 293/300\n",
            "9/9 [==============================] - 0s 2ms/step - loss: 2.1460 - mse: 2.1460\n",
            "Epoch 294/300\n",
            "9/9 [==============================] - 0s 2ms/step - loss: 2.1460 - mse: 2.1460\n",
            "Epoch 295/300\n",
            "9/9 [==============================] - 0s 2ms/step - loss: 2.1460 - mse: 2.1460\n",
            "Epoch 296/300\n",
            "9/9 [==============================] - 0s 2ms/step - loss: 2.1460 - mse: 2.1460\n",
            "Epoch 297/300\n",
            "9/9 [==============================] - 0s 2ms/step - loss: 2.1460 - mse: 2.1460\n",
            "Epoch 298/300\n",
            "9/9 [==============================] - 0s 2ms/step - loss: 2.1460 - mse: 2.1460\n",
            "Epoch 299/300\n",
            "9/9 [==============================] - 0s 2ms/step - loss: 2.1460 - mse: 2.1460\n",
            "Epoch 300/300\n",
            "9/9 [==============================] - 0s 2ms/step - loss: 2.1460 - mse: 2.1460\n"
          ],
          "name": "stdout"
        },
        {
          "output_type": "execute_result",
          "data": {
            "text/plain": [
              "<tensorflow.python.keras.callbacks.History at 0x7f107459d198>"
            ]
          },
          "metadata": {
            "tags": []
          },
          "execution_count": 20
        }
      ]
    },
    {
      "cell_type": "code",
      "metadata": {
        "colab": {
          "base_uri": "https://localhost:8080/",
          "height": 300
        },
        "id": "C47FCExVBOin",
        "outputId": "19588f28-688e-4d3a-a7a1-c85420da677f"
      },
      "source": [
        "%matplotlib inline\n",
        "import matplotlib.pyplot as plt\n",
        "plt.plot(X, model.predict(X), 'b', X,y, 'k.')"
      ],
      "execution_count": null,
      "outputs": [
        {
          "output_type": "execute_result",
          "data": {
            "text/plain": [
              "[<matplotlib.lines.Line2D at 0x7f0ffcebc6d8>,\n",
              " <matplotlib.lines.Line2D at 0x7f0ffcebc7f0>]"
            ]
          },
          "metadata": {
            "tags": []
          },
          "execution_count": 21
        },
        {
          "output_type": "display_data",
          "data": {
            "image/png": "[encoded data removed]",
            "text/plain": [
              "<Figure size 432x288 with 1 Axes>"
            ]
          },
          "metadata": {
            "tags": [],
            "needs_background": "light"
          }
        }
      ]
    },
    {
      "cell_type": "code",
      "metadata": {
        "colab": {
          "base_uri": "https://localhost:8080/",
          "height": 34
        },
        "id": "Kjs0sBF-BP3s",
        "outputId": "8f30724c-c189-4608-c4e1-101e34844797"
      },
      "source": [
        "print(model.predict([9.5]))"
      ],
      "execution_count": null,
      "outputs": [
        {
          "output_type": "stream",
          "text": [
            "[[98.556465]]\n"
          ],
          "name": "stdout"
        }
      ]
    },
    {
      "cell_type": "markdown",
      "metadata": {
        "id": "6VpSK_S5BSsO"
      },
      "source": [
        "# 로지스틱 회귀 구현하기"
      ]
    },
    {
      "cell_type": "code",
      "metadata": {
        "id": "rIP2hD_HBUaY"
      },
      "source": [
        "%matplotlib inline\n",
        "import numpy as np # 넘파이 사용\n",
        "import matplotlib.pyplot as plt # 맷플롯립 사용"
      ],
      "execution_count": 23,
      "outputs": []
    },
    {
      "cell_type": "code",
      "metadata": {
        "colab": {
          "base_uri": "https://localhost:8080/",
          "height": 281
        },
        "id": "LiYblVKQBW6I",
        "outputId": "8c038276-b725-44c9-d1cd-3d53f35ff397"
      },
      "source": [
        "def sigmoid(x):\n",
        "    return 1/(1+np.exp(-x))\n",
        "x = np.arange(-5.0, 5.0, 0.1)\n",
        "y = sigmoid(x)\n",
        "\n",
        "plt.plot(x, y, 'g')\n",
        "plt.plot([0,0],[1.0,0.0], ':') # 가운데 점선 추가\n",
        "plt.title('Sigmoid Function')\n",
        "plt.show()"
      ],
      "execution_count": 24,
      "outputs": [
        {
          "output_type": "display_data",
          "data": {
            "image/png": "[encoded data removed]",
            "text/plain": [
              "<Figure size 432x288 with 1 Axes>"
            ]
          },
          "metadata": {
            "tags": [],
            "needs_background": "light"
          }
        }
      ]
    },
    {
      "cell_type": "code",
      "metadata": {
        "colab": {
          "base_uri": "https://localhost:8080/",
          "height": 281
        },
        "id": "Nws_UcQ5BZSD",
        "outputId": "366529ab-6431-408a-d850-06ce3113e12e"
      },
      "source": [
        "def sigmoid(x):\n",
        "    return 1/(1+np.exp(-x))\n",
        "x = np.arange(-5.0, 5.0, 0.1)\n",
        "y1 = sigmoid(0.5*x)\n",
        "y2 = sigmoid(x)\n",
        "y3 = sigmoid(2*x)\n",
        "\n",
        "plt.plot(x, y1, 'r', linestyle='--') # W의 값이 0.5일때\n",
        "plt.plot(x, y2, 'g') # W의 값이 1일때\n",
        "plt.plot(x, y3, 'b', linestyle='--') # W의 값이 2일때\n",
        "plt.plot([0,0],[1.0,0.0], ':') # 가운데 점선 추가\n",
        "plt.title('Sigmoid Function')\n",
        "plt.show()"
      ],
      "execution_count": 25,
      "outputs": [
        {
          "output_type": "display_data",
          "data": {
            "image/png": "[encoded data removed]",
            "text/plain": [
              "<Figure size 432x288 with 1 Axes>"
            ]
          },
          "metadata": {
            "tags": [],
            "needs_background": "light"
          }
        }
      ]
    },
    {
      "cell_type": "code",
      "metadata": {
        "colab": {
          "base_uri": "https://localhost:8080/",
          "height": 281
        },
        "id": "qWs6rh9iBauO",
        "outputId": "4ea555e9-bd7e-48b6-ba4b-47ea2a011677"
      },
      "source": [
        "def sigmoid(x):\n",
        "    return 1/(1+np.exp(-x))\n",
        "x = np.arange(-5.0, 5.0, 0.1)\n",
        "y1 = sigmoid(x+0.5)\n",
        "y2 = sigmoid(x+1)\n",
        "y3 = sigmoid(x+1.5)\n",
        "\n",
        "plt.plot(x, y1, 'r', linestyle='--') # x + 0.5\n",
        "plt.plot(x, y2, 'g') # x + 1\n",
        "plt.plot(x, y3, 'b', linestyle='--') # x + 1.5\n",
        "plt.plot([0,0],[1.0,0.0], ':') # 가운데 점선 추가\n",
        "plt.title('Sigmoid Function')\n",
        "plt.show()"
      ],
      "execution_count": 26,
      "outputs": [
        {
          "output_type": "display_data",
          "data": {
            "image/png": "[encoded data removed]",
            "text/plain": [
              "<Figure size 432x288 with 1 Axes>"
            ]
          },
          "metadata": {
            "tags": [],
            "needs_background": "light"
          }
        }
      ]
    },
    {
      "cell_type": "code",
      "metadata": {
        "id": "UKasRKEXBc6q"
      },
      "source": [
        "import numpy as np\n",
        "from tensorflow.keras.models import Sequential # 케라스의 Sequential()을 임포트\n",
        "from tensorflow.keras.layers import Dense # 케라스의 Dense()를 임포트\n",
        "from tensorflow.keras import optimizers # 케라스의 옵티마이저를 임포트"
      ],
      "execution_count": 27,
      "outputs": []
    },
    {
      "cell_type": "code",
      "metadata": {
        "id": "uooupQZfBdmc"
      },
      "source": [
        "X = np.array([-50, -40, -30, -20, -10, -5, 0, 5, 10, 20, 30, 40, 50])\n",
        "y = np.array([0, 0, 0, 0, 0, 0, 0, 0, 1, 1, 1, 1, 1]) #숫자 10부터 1"
      ],
      "execution_count": 28,
      "outputs": []
    },
    {
      "cell_type": "code",
      "metadata": {
        "colab": {
          "base_uri": "https://localhost:8080/"
        },
        "id": "L6vRBgppBfdS",
        "outputId": "8677743a-8497-4c61-ffd0-080a139edead"
      },
      "source": [
        "model=Sequential()\n",
        "model.add(Dense(1, input_dim=1, activation='sigmoid'))\n",
        "sgd=optimizers.SGD(lr=0.01)\n",
        "model.compile(optimizer=sgd ,loss='binary_crossentropy',metrics=['binary_accuracy'])\n",
        "# 옵티마이저는 경사하강법 sgd를 사용합니다.\n",
        "# 손실 함수(Loss function)는 binary_crossentropy(이진 크로스 엔트로피)를 사용합니다.\n",
        "model.fit(X,y, batch_size=1, epochs=200, shuffle=False)\n",
        "# 주어진 X와 y데이터에 대해서 오차를 최소화하는 작업을 200번 시도합니다."
      ],
      "execution_count": 29,
      "outputs": [
        {
          "output_type": "stream",
          "text": [
            "Epoch 1/200\n",
            "13/13 [==============================] - 2s 2ms/step - loss: 6.6793 - binary_accuracy: 0.5587  \n",
            "Epoch 2/200\n",
            "13/13 [==============================] - 0s 2ms/step - loss: 0.1399 - binary_accuracy: 0.9526\n",
            "Epoch 3/200\n",
            "13/13 [==============================] - 0s 2ms/step - loss: 0.1385 - binary_accuracy: 0.9526\n",
            "Epoch 4/200\n",
            "13/13 [==============================] - 0s 2ms/step - loss: 0.1374 - binary_accuracy: 0.9526\n",
            "Epoch 5/200\n",
            "13/13 [==============================] - 0s 2ms/step - loss: 0.1363 - binary_accuracy: 0.9526\n",
            "Epoch 6/200\n",
            "13/13 [==============================] - 0s 2ms/step - loss: 0.1353 - binary_accuracy: 0.9526\n",
            "Epoch 7/200\n",
            "13/13 [==============================] - 0s 2ms/step - loss: 0.1343 - binary_accuracy: 0.9526\n",
            "Epoch 8/200\n",
            "13/13 [==============================] - 0s 2ms/step - loss: 0.1332 - binary_accuracy: 0.9526\n",
            "Epoch 9/200\n",
            "13/13 [==============================] - 0s 2ms/step - loss: 0.1322 - binary_accuracy: 0.9526\n",
            "Epoch 10/200\n",
            "13/13 [==============================] - 0s 2ms/step - loss: 0.1311 - binary_accuracy: 0.9526\n",
            "Epoch 11/200\n",
            "13/13 [==============================] - 0s 2ms/step - loss: 0.1300 - binary_accuracy: 0.9526\n",
            "Epoch 12/200\n",
            "13/13 [==============================] - 0s 21ms/step - loss: 0.1289 - binary_accuracy: 0.9526\n",
            "Epoch 13/200\n",
            "13/13 [==============================] - 0s 2ms/step - loss: 0.1279 - binary_accuracy: 0.9526\n",
            "Epoch 14/200\n",
            "13/13 [==============================] - 0s 2ms/step - loss: 0.1268 - binary_accuracy: 0.9526\n",
            "Epoch 15/200\n",
            "13/13 [==============================] - 0s 2ms/step - loss: 0.1258 - binary_accuracy: 0.9526\n",
            "Epoch 16/200\n",
            "13/13 [==============================] - 0s 2ms/step - loss: 0.1248 - binary_accuracy: 0.9526\n",
            "Epoch 17/200\n",
            "13/13 [==============================] - 0s 2ms/step - loss: 0.1237 - binary_accuracy: 0.9526\n",
            "Epoch 18/200\n",
            "13/13 [==============================] - 0s 2ms/step - loss: 0.1227 - binary_accuracy: 0.9526\n",
            "Epoch 19/200\n",
            "13/13 [==============================] - 0s 2ms/step - loss: 0.1218 - binary_accuracy: 0.9526\n",
            "Epoch 20/200\n",
            "13/13 [==============================] - 0s 2ms/step - loss: 0.1208 - binary_accuracy: 0.9526\n",
            "Epoch 21/200\n",
            "13/13 [==============================] - 0s 2ms/step - loss: 0.1198 - binary_accuracy: 0.9526\n",
            "Epoch 22/200\n",
            "13/13 [==============================] - 0s 2ms/step - loss: 0.1189 - binary_accuracy: 0.9526\n",
            "Epoch 23/200\n",
            "13/13 [==============================] - 0s 2ms/step - loss: 0.1180 - binary_accuracy: 0.9526\n",
            "Epoch 24/200\n",
            "13/13 [==============================] - 0s 2ms/step - loss: 0.1171 - binary_accuracy: 0.9526\n",
            "Epoch 25/200\n",
            "13/13 [==============================] - 0s 2ms/step - loss: 0.1162 - binary_accuracy: 0.9526\n",
            "Epoch 26/200\n",
            "13/13 [==============================] - 0s 2ms/step - loss: 0.1153 - binary_accuracy: 0.9526\n",
            "Epoch 27/200\n",
            "13/13 [==============================] - 0s 2ms/step - loss: 0.1144 - binary_accuracy: 0.9526\n",
            "Epoch 28/200\n",
            "13/13 [==============================] - 0s 2ms/step - loss: 0.1136 - binary_accuracy: 0.9526\n",
            "Epoch 29/200\n",
            "13/13 [==============================] - 0s 2ms/step - loss: 0.1127 - binary_accuracy: 0.9526\n",
            "Epoch 30/200\n",
            "13/13 [==============================] - 0s 2ms/step - loss: 0.1119 - binary_accuracy: 0.9526\n",
            "Epoch 31/200\n",
            "13/13 [==============================] - 0s 2ms/step - loss: 0.1111 - binary_accuracy: 0.9526\n",
            "Epoch 32/200\n",
            "13/13 [==============================] - 0s 2ms/step - loss: 0.1103 - binary_accuracy: 0.9526\n",
            "Epoch 33/200\n",
            "13/13 [==============================] - 0s 2ms/step - loss: 0.1095 - binary_accuracy: 0.9526\n",
            "Epoch 34/200\n",
            "13/13 [==============================] - 0s 2ms/step - loss: 0.1087 - binary_accuracy: 0.9526\n",
            "Epoch 35/200\n",
            "13/13 [==============================] - 0s 2ms/step - loss: 0.1080 - binary_accuracy: 0.9526\n",
            "Epoch 36/200\n",
            "13/13 [==============================] - 0s 2ms/step - loss: 0.1072 - binary_accuracy: 0.9526\n",
            "Epoch 37/200\n",
            "13/13 [==============================] - 0s 2ms/step - loss: 0.1065 - binary_accuracy: 0.9526\n",
            "Epoch 38/200\n",
            "13/13 [==============================] - 0s 2ms/step - loss: 0.1058 - binary_accuracy: 0.9526\n",
            "Epoch 39/200\n",
            "13/13 [==============================] - 0s 2ms/step - loss: 0.1050 - binary_accuracy: 0.9526\n",
            "Epoch 40/200\n",
            "13/13 [==============================] - 0s 2ms/step - loss: 0.1043 - binary_accuracy: 0.9526\n",
            "Epoch 41/200\n",
            "13/13 [==============================] - 0s 2ms/step - loss: 0.1036 - binary_accuracy: 0.9526\n",
            "Epoch 42/200\n",
            "13/13 [==============================] - 0s 2ms/step - loss: 0.1029 - binary_accuracy: 0.9526\n",
            "Epoch 43/200\n",
            "13/13 [==============================] - 0s 2ms/step - loss: 0.1023 - binary_accuracy: 0.9526\n",
            "Epoch 44/200\n",
            "13/13 [==============================] - 0s 2ms/step - loss: 0.1016 - binary_accuracy: 0.9526\n",
            "Epoch 45/200\n",
            "13/13 [==============================] - 0s 2ms/step - loss: 0.1009 - binary_accuracy: 0.9526\n",
            "Epoch 46/200\n",
            "13/13 [==============================] - 0s 2ms/step - loss: 0.1003 - binary_accuracy: 0.9526\n",
            "Epoch 47/200\n",
            "13/13 [==============================] - 0s 2ms/step - loss: 0.0996 - binary_accuracy: 0.9526\n",
            "Epoch 48/200\n",
            "13/13 [==============================] - 0s 2ms/step - loss: 0.0990 - binary_accuracy: 0.9526\n",
            "Epoch 49/200\n",
            "13/13 [==============================] - 0s 2ms/step - loss: 0.0984 - binary_accuracy: 0.9526\n",
            "Epoch 50/200\n",
            "13/13 [==============================] - 0s 2ms/step - loss: 0.0978 - binary_accuracy: 0.9526\n",
            "Epoch 51/200\n",
            "13/13 [==============================] - 0s 2ms/step - loss: 0.0972 - binary_accuracy: 0.9526\n",
            "Epoch 52/200\n",
            "13/13 [==============================] - 0s 2ms/step - loss: 0.0966 - binary_accuracy: 0.9526\n",
            "Epoch 53/200\n",
            "13/13 [==============================] - 0s 2ms/step - loss: 0.0960 - binary_accuracy: 0.9526\n",
            "Epoch 54/200\n",
            "13/13 [==============================] - 0s 2ms/step - loss: 0.0954 - binary_accuracy: 0.9526\n",
            "Epoch 55/200\n",
            "13/13 [==============================] - 0s 2ms/step - loss: 0.0949 - binary_accuracy: 0.9526\n",
            "Epoch 56/200\n",
            "13/13 [==============================] - 0s 2ms/step - loss: 0.0943 - binary_accuracy: 0.9526\n",
            "Epoch 57/200\n",
            "13/13 [==============================] - 0s 2ms/step - loss: 0.0937 - binary_accuracy: 0.9526\n",
            "Epoch 58/200\n",
            "13/13 [==============================] - 0s 2ms/step - loss: 0.0932 - binary_accuracy: 0.9526\n",
            "Epoch 59/200\n",
            "13/13 [==============================] - 0s 2ms/step - loss: 0.0927 - binary_accuracy: 0.9526\n",
            "Epoch 60/200\n",
            "13/13 [==============================] - 0s 2ms/step - loss: 0.0921 - binary_accuracy: 0.9526\n",
            "Epoch 61/200\n",
            "13/13 [==============================] - 0s 2ms/step - loss: 0.0916 - binary_accuracy: 0.9526\n",
            "Epoch 62/200\n",
            "13/13 [==============================] - 0s 2ms/step - loss: 0.0911 - binary_accuracy: 0.9526\n",
            "Epoch 63/200\n",
            "13/13 [==============================] - 0s 2ms/step - loss: 0.0906 - binary_accuracy: 0.9526\n",
            "Epoch 64/200\n",
            "13/13 [==============================] - 0s 2ms/step - loss: 0.0901 - binary_accuracy: 0.9526\n",
            "Epoch 65/200\n",
            "13/13 [==============================] - 0s 2ms/step - loss: 0.0896 - binary_accuracy: 0.9526\n",
            "Epoch 66/200\n",
            "13/13 [==============================] - 0s 2ms/step - loss: 0.0891 - binary_accuracy: 0.9526\n",
            "Epoch 67/200\n",
            "13/13 [==============================] - 0s 2ms/step - loss: 0.0886 - binary_accuracy: 0.9526\n",
            "Epoch 68/200\n",
            "13/13 [==============================] - 0s 2ms/step - loss: 0.0881 - binary_accuracy: 0.9526\n",
            "Epoch 69/200\n",
            "13/13 [==============================] - 0s 2ms/step - loss: 0.0877 - binary_accuracy: 0.9526\n",
            "Epoch 70/200\n",
            "13/13 [==============================] - 0s 3ms/step - loss: 0.0872 - binary_accuracy: 0.9526\n",
            "Epoch 71/200\n",
            "13/13 [==============================] - 0s 2ms/step - loss: 0.0867 - binary_accuracy: 0.9526\n",
            "Epoch 72/200\n",
            "13/13 [==============================] - 0s 2ms/step - loss: 0.0863 - binary_accuracy: 0.9526\n",
            "Epoch 73/200\n",
            "13/13 [==============================] - 0s 2ms/step - loss: 0.0858 - binary_accuracy: 0.9526\n",
            "Epoch 74/200\n",
            "13/13 [==============================] - 0s 2ms/step - loss: 0.0854 - binary_accuracy: 0.9526\n",
            "Epoch 75/200\n",
            "13/13 [==============================] - 0s 2ms/step - loss: 0.0850 - binary_accuracy: 0.9526\n",
            "Epoch 76/200\n",
            "13/13 [==============================] - 0s 2ms/step - loss: 0.0845 - binary_accuracy: 0.9526\n",
            "Epoch 77/200\n",
            "13/13 [==============================] - 0s 2ms/step - loss: 0.0841 - binary_accuracy: 0.9526\n",
            "Epoch 78/200\n",
            "13/13 [==============================] - 0s 2ms/step - loss: 0.0837 - binary_accuracy: 0.9526\n",
            "Epoch 79/200\n",
            "13/13 [==============================] - 0s 2ms/step - loss: 0.0833 - binary_accuracy: 0.9526\n",
            "Epoch 80/200\n",
            "13/13 [==============================] - 0s 2ms/step - loss: 0.0829 - binary_accuracy: 0.9526\n",
            "Epoch 81/200\n",
            "13/13 [==============================] - 0s 2ms/step - loss: 0.0825 - binary_accuracy: 0.9526\n",
            "Epoch 82/200\n",
            "13/13 [==============================] - 0s 2ms/step - loss: 0.0821 - binary_accuracy: 0.9526\n",
            "Epoch 83/200\n",
            "13/13 [==============================] - 0s 2ms/step - loss: 0.0817 - binary_accuracy: 0.9526\n",
            "Epoch 84/200\n",
            "13/13 [==============================] - 0s 2ms/step - loss: 0.0813 - binary_accuracy: 0.9526\n",
            "Epoch 85/200\n",
            "13/13 [==============================] - 0s 2ms/step - loss: 0.0809 - binary_accuracy: 0.9526\n",
            "Epoch 86/200\n",
            "13/13 [==============================] - 0s 2ms/step - loss: 0.0805 - binary_accuracy: 0.9526\n",
            "Epoch 87/200\n",
            "13/13 [==============================] - 0s 2ms/step - loss: 0.0802 - binary_accuracy: 0.9526\n",
            "Epoch 88/200\n",
            "13/13 [==============================] - 0s 2ms/step - loss: 0.0798 - binary_accuracy: 0.9526\n",
            "Epoch 89/200\n",
            "13/13 [==============================] - 0s 2ms/step - loss: 0.0794 - binary_accuracy: 0.9526\n",
            "Epoch 90/200\n",
            "13/13 [==============================] - 0s 2ms/step - loss: 0.0791 - binary_accuracy: 0.9526\n",
            "Epoch 91/200\n",
            "13/13 [==============================] - 0s 2ms/step - loss: 0.0787 - binary_accuracy: 0.9526\n",
            "Epoch 92/200\n",
            "13/13 [==============================] - 0s 2ms/step - loss: 0.0783 - binary_accuracy: 0.9526\n",
            "Epoch 93/200\n",
            "13/13 [==============================] - 0s 2ms/step - loss: 0.0780 - binary_accuracy: 0.9526\n",
            "Epoch 94/200\n",
            "13/13 [==============================] - 0s 2ms/step - loss: 0.0776 - binary_accuracy: 0.9526\n",
            "Epoch 95/200\n",
            "13/13 [==============================] - 0s 2ms/step - loss: 0.0773 - binary_accuracy: 0.9526\n",
            "Epoch 96/200\n",
            "13/13 [==============================] - 0s 2ms/step - loss: 0.0770 - binary_accuracy: 0.9526\n",
            "Epoch 97/200\n",
            "13/13 [==============================] - 0s 2ms/step - loss: 0.0766 - binary_accuracy: 0.9526\n",
            "Epoch 98/200\n",
            "13/13 [==============================] - 0s 2ms/step - loss: 0.0763 - binary_accuracy: 0.9526\n",
            "Epoch 99/200\n",
            "13/13 [==============================] - 0s 2ms/step - loss: 0.0760 - binary_accuracy: 0.9526\n",
            "Epoch 100/200\n",
            "13/13 [==============================] - 0s 2ms/step - loss: 0.0757 - binary_accuracy: 0.9526\n",
            "Epoch 101/200\n",
            "13/13 [==============================] - 0s 2ms/step - loss: 0.0753 - binary_accuracy: 0.9526\n",
            "Epoch 102/200\n",
            "13/13 [==============================] - 0s 2ms/step - loss: 0.0750 - binary_accuracy: 0.9526\n",
            "Epoch 103/200\n",
            "13/13 [==============================] - 0s 2ms/step - loss: 0.0747 - binary_accuracy: 0.9526\n",
            "Epoch 104/200\n",
            "13/13 [==============================] - 0s 2ms/step - loss: 0.0744 - binary_accuracy: 0.9526\n",
            "Epoch 105/200\n",
            "13/13 [==============================] - 0s 2ms/step - loss: 0.0741 - binary_accuracy: 0.9526\n",
            "Epoch 106/200\n",
            "13/13 [==============================] - 0s 2ms/step - loss: 0.0738 - binary_accuracy: 0.9526\n",
            "Epoch 107/200\n",
            "13/13 [==============================] - 0s 2ms/step - loss: 0.0735 - binary_accuracy: 0.9526\n",
            "Epoch 108/200\n",
            "13/13 [==============================] - 0s 2ms/step - loss: 0.0732 - binary_accuracy: 0.9526\n",
            "Epoch 109/200\n",
            "13/13 [==============================] - 0s 2ms/step - loss: 0.0729 - binary_accuracy: 0.9526\n",
            "Epoch 110/200\n",
            "13/13 [==============================] - 0s 2ms/step - loss: 0.0726 - binary_accuracy: 0.9526\n",
            "Epoch 111/200\n",
            "13/13 [==============================] - 0s 2ms/step - loss: 0.0723 - binary_accuracy: 0.9526\n",
            "Epoch 112/200\n",
            "13/13 [==============================] - 0s 2ms/step - loss: 0.0721 - binary_accuracy: 0.9526\n",
            "Epoch 113/200\n",
            "13/13 [==============================] - 0s 2ms/step - loss: 0.0718 - binary_accuracy: 0.9526\n",
            "Epoch 114/200\n",
            "13/13 [==============================] - 0s 2ms/step - loss: 0.0715 - binary_accuracy: 0.9526\n",
            "Epoch 115/200\n",
            "13/13 [==============================] - 0s 2ms/step - loss: 0.0712 - binary_accuracy: 0.9526\n",
            "Epoch 116/200\n",
            "13/13 [==============================] - 0s 2ms/step - loss: 0.0710 - binary_accuracy: 0.9526\n",
            "Epoch 117/200\n",
            "13/13 [==============================] - 0s 2ms/step - loss: 0.0707 - binary_accuracy: 0.9526\n",
            "Epoch 118/200\n",
            "13/13 [==============================] - 0s 2ms/step - loss: 0.0704 - binary_accuracy: 0.9526\n",
            "Epoch 119/200\n",
            "13/13 [==============================] - 0s 2ms/step - loss: 0.0702 - binary_accuracy: 0.9526\n",
            "Epoch 120/200\n",
            "13/13 [==============================] - 0s 2ms/step - loss: 0.0699 - binary_accuracy: 0.9526\n",
            "Epoch 121/200\n",
            "13/13 [==============================] - 0s 2ms/step - loss: 0.0696 - binary_accuracy: 0.9526\n",
            "Epoch 122/200\n",
            "13/13 [==============================] - 0s 2ms/step - loss: 0.0694 - binary_accuracy: 0.9526\n",
            "Epoch 123/200\n",
            "13/13 [==============================] - 0s 2ms/step - loss: 0.0691 - binary_accuracy: 0.9526\n",
            "Epoch 124/200\n",
            "13/13 [==============================] - 0s 2ms/step - loss: 0.0689 - binary_accuracy: 0.9526\n",
            "Epoch 125/200\n",
            "13/13 [==============================] - 0s 2ms/step - loss: 0.0686 - binary_accuracy: 0.9526\n",
            "Epoch 126/200\n",
            "13/13 [==============================] - 0s 2ms/step - loss: 0.0684 - binary_accuracy: 0.9526\n",
            "Epoch 127/200\n",
            "13/13 [==============================] - 0s 2ms/step - loss: 0.0681 - binary_accuracy: 0.9526\n",
            "Epoch 128/200\n",
            "13/13 [==============================] - 0s 2ms/step - loss: 0.0679 - binary_accuracy: 0.9526\n",
            "Epoch 129/200\n",
            "13/13 [==============================] - 0s 2ms/step - loss: 0.0677 - binary_accuracy: 0.9526\n",
            "Epoch 130/200\n",
            "13/13 [==============================] - 0s 2ms/step - loss: 0.0674 - binary_accuracy: 0.9526\n",
            "Epoch 131/200\n",
            "13/13 [==============================] - 0s 2ms/step - loss: 0.0672 - binary_accuracy: 0.9526\n",
            "Epoch 132/200\n",
            "13/13 [==============================] - 0s 2ms/step - loss: 0.0670 - binary_accuracy: 0.9526\n",
            "Epoch 133/200\n",
            "13/13 [==============================] - 0s 2ms/step - loss: 0.0667 - binary_accuracy: 0.9526\n",
            "Epoch 134/200\n",
            "13/13 [==============================] - 0s 2ms/step - loss: 0.0665 - binary_accuracy: 0.9526\n",
            "Epoch 135/200\n",
            "13/13 [==============================] - 0s 2ms/step - loss: 0.0663 - binary_accuracy: 0.9526\n",
            "Epoch 136/200\n",
            "13/13 [==============================] - 0s 2ms/step - loss: 0.0661 - binary_accuracy: 0.9526\n",
            "Epoch 137/200\n",
            "13/13 [==============================] - 0s 2ms/step - loss: 0.0658 - binary_accuracy: 0.9526\n",
            "Epoch 138/200\n",
            "13/13 [==============================] - 0s 2ms/step - loss: 0.0656 - binary_accuracy: 0.9526\n",
            "Epoch 139/200\n",
            "13/13 [==============================] - 0s 2ms/step - loss: 0.0654 - binary_accuracy: 0.9526\n",
            "Epoch 140/200\n",
            "13/13 [==============================] - 0s 2ms/step - loss: 0.0652 - binary_accuracy: 0.9526\n",
            "Epoch 141/200\n",
            "13/13 [==============================] - 0s 2ms/step - loss: 0.0650 - binary_accuracy: 0.9526\n",
            "Epoch 142/200\n",
            "13/13 [==============================] - 0s 2ms/step - loss: 0.0648 - binary_accuracy: 0.9526\n",
            "Epoch 143/200\n",
            "13/13 [==============================] - 0s 2ms/step - loss: 0.0646 - binary_accuracy: 0.9526\n",
            "Epoch 144/200\n",
            "13/13 [==============================] - 0s 2ms/step - loss: 0.0643 - binary_accuracy: 0.9526\n",
            "Epoch 145/200\n",
            "13/13 [==============================] - 0s 2ms/step - loss: 0.0641 - binary_accuracy: 0.9526\n",
            "Epoch 146/200\n",
            "13/13 [==============================] - 0s 2ms/step - loss: 0.0639 - binary_accuracy: 0.9526\n",
            "Epoch 147/200\n",
            "13/13 [==============================] - 0s 2ms/step - loss: 0.0637 - binary_accuracy: 0.9526\n",
            "Epoch 148/200\n",
            "13/13 [==============================] - 0s 2ms/step - loss: 0.0635 - binary_accuracy: 0.9526\n",
            "Epoch 149/200\n",
            "13/13 [==============================] - 0s 2ms/step - loss: 0.0633 - binary_accuracy: 0.9526\n",
            "Epoch 150/200\n",
            "13/13 [==============================] - 0s 2ms/step - loss: 0.0631 - binary_accuracy: 0.9526\n",
            "Epoch 151/200\n",
            "13/13 [==============================] - 0s 2ms/step - loss: 0.0629 - binary_accuracy: 0.9526\n",
            "Epoch 152/200\n",
            "13/13 [==============================] - 0s 2ms/step - loss: 0.0627 - binary_accuracy: 0.9526\n",
            "Epoch 153/200\n",
            "13/13 [==============================] - 0s 2ms/step - loss: 0.0626 - binary_accuracy: 0.9526\n",
            "Epoch 154/200\n",
            "13/13 [==============================] - 0s 2ms/step - loss: 0.0624 - binary_accuracy: 0.9526\n",
            "Epoch 155/200\n",
            "13/13 [==============================] - 0s 2ms/step - loss: 0.0622 - binary_accuracy: 0.9526\n",
            "Epoch 156/200\n",
            "13/13 [==============================] - 0s 2ms/step - loss: 0.0620 - binary_accuracy: 0.9526\n",
            "Epoch 157/200\n",
            "13/13 [==============================] - 0s 2ms/step - loss: 0.0618 - binary_accuracy: 0.9526\n",
            "Epoch 158/200\n",
            "13/13 [==============================] - 0s 2ms/step - loss: 0.0616 - binary_accuracy: 0.9526\n",
            "Epoch 159/200\n",
            "13/13 [==============================] - 0s 2ms/step - loss: 0.0614 - binary_accuracy: 0.9526\n",
            "Epoch 160/200\n",
            "13/13 [==============================] - 0s 2ms/step - loss: 0.0613 - binary_accuracy: 0.9526\n",
            "Epoch 161/200\n",
            "13/13 [==============================] - 0s 2ms/step - loss: 0.0611 - binary_accuracy: 0.9526\n",
            "Epoch 162/200\n",
            "13/13 [==============================] - 0s 2ms/step - loss: 0.0609 - binary_accuracy: 0.9526\n",
            "Epoch 163/200\n",
            "13/13 [==============================] - 0s 2ms/step - loss: 0.0607 - binary_accuracy: 0.9526\n",
            "Epoch 164/200\n",
            "13/13 [==============================] - 0s 2ms/step - loss: 0.0606 - binary_accuracy: 0.9526\n",
            "Epoch 165/200\n",
            "13/13 [==============================] - 0s 2ms/step - loss: 0.0604 - binary_accuracy: 0.9526\n",
            "Epoch 166/200\n",
            "13/13 [==============================] - 0s 2ms/step - loss: 0.0602 - binary_accuracy: 0.9526\n",
            "Epoch 167/200\n",
            "13/13 [==============================] - 0s 2ms/step - loss: 0.0600 - binary_accuracy: 0.9526\n",
            "Epoch 168/200\n",
            "13/13 [==============================] - 0s 2ms/step - loss: 0.0599 - binary_accuracy: 0.9526\n",
            "Epoch 169/200\n",
            "13/13 [==============================] - 0s 2ms/step - loss: 0.0597 - binary_accuracy: 0.9526\n",
            "Epoch 170/200\n",
            "13/13 [==============================] - 0s 2ms/step - loss: 0.0595 - binary_accuracy: 0.9526\n",
            "Epoch 171/200\n",
            "13/13 [==============================] - 0s 2ms/step - loss: 0.0594 - binary_accuracy: 0.9526\n",
            "Epoch 172/200\n",
            "13/13 [==============================] - 0s 2ms/step - loss: 0.0592 - binary_accuracy: 0.9526\n",
            "Epoch 173/200\n",
            "13/13 [==============================] - 0s 2ms/step - loss: 0.0590 - binary_accuracy: 0.9526\n",
            "Epoch 174/200\n",
            "13/13 [==============================] - 0s 2ms/step - loss: 0.0589 - binary_accuracy: 0.9526\n",
            "Epoch 175/200\n",
            "13/13 [==============================] - 0s 2ms/step - loss: 0.0587 - binary_accuracy: 0.9526\n",
            "Epoch 176/200\n",
            "13/13 [==============================] - 0s 2ms/step - loss: 0.0586 - binary_accuracy: 0.9526\n",
            "Epoch 177/200\n",
            "13/13 [==============================] - 0s 2ms/step - loss: 0.0584 - binary_accuracy: 0.9526\n",
            "Epoch 178/200\n",
            "13/13 [==============================] - 0s 2ms/step - loss: 0.0582 - binary_accuracy: 0.9526\n",
            "Epoch 179/200\n",
            "13/13 [==============================] - 0s 2ms/step - loss: 0.0581 - binary_accuracy: 0.9526\n",
            "Epoch 180/200\n",
            "13/13 [==============================] - 0s 2ms/step - loss: 0.0579 - binary_accuracy: 0.9526\n",
            "Epoch 181/200\n",
            "13/13 [==============================] - 0s 2ms/step - loss: 0.0578 - binary_accuracy: 0.9526\n",
            "Epoch 182/200\n",
            "13/13 [==============================] - 0s 2ms/step - loss: 0.0576 - binary_accuracy: 0.9526\n",
            "Epoch 183/200\n",
            "13/13 [==============================] - 0s 2ms/step - loss: 0.0575 - binary_accuracy: 0.9526\n",
            "Epoch 184/200\n",
            "13/13 [==============================] - 0s 2ms/step - loss: 0.0573 - binary_accuracy: 0.9526\n",
            "Epoch 185/200\n",
            "13/13 [==============================] - 0s 2ms/step - loss: 0.0572 - binary_accuracy: 0.9526\n",
            "Epoch 186/200\n",
            "13/13 [==============================] - 0s 2ms/step - loss: 0.0570 - binary_accuracy: 0.9526\n",
            "Epoch 187/200\n",
            "13/13 [==============================] - 0s 2ms/step - loss: 0.0569 - binary_accuracy: 0.9526\n",
            "Epoch 188/200\n",
            "13/13 [==============================] - 0s 2ms/step - loss: 0.0567 - binary_accuracy: 0.9526\n",
            "Epoch 189/200\n",
            "13/13 [==============================] - 0s 2ms/step - loss: 0.0566 - binary_accuracy: 0.9526\n",
            "Epoch 190/200\n",
            "13/13 [==============================] - 0s 2ms/step - loss: 0.0565 - binary_accuracy: 0.9526\n",
            "Epoch 191/200\n",
            "13/13 [==============================] - 0s 2ms/step - loss: 0.0563 - binary_accuracy: 0.9526\n",
            "Epoch 192/200\n",
            "13/13 [==============================] - 0s 2ms/step - loss: 0.0562 - binary_accuracy: 1.0000\n",
            "Epoch 193/200\n",
            "13/13 [==============================] - 0s 2ms/step - loss: 0.0560 - binary_accuracy: 1.0000\n",
            "Epoch 194/200\n",
            "13/13 [==============================] - 0s 2ms/step - loss: 0.0559 - binary_accuracy: 1.0000\n",
            "Epoch 195/200\n",
            "13/13 [==============================] - 0s 2ms/step - loss: 0.0558 - binary_accuracy: 1.0000\n",
            "Epoch 196/200\n",
            "13/13 [==============================] - 0s 2ms/step - loss: 0.0556 - binary_accuracy: 1.0000\n",
            "Epoch 197/200\n",
            "13/13 [==============================] - 0s 2ms/step - loss: 0.0555 - binary_accuracy: 1.0000\n",
            "Epoch 198/200\n",
            "13/13 [==============================] - 0s 2ms/step - loss: 0.0553 - binary_accuracy: 1.0000\n",
            "Epoch 199/200\n",
            "13/13 [==============================] - 0s 2ms/step - loss: 0.0552 - binary_accuracy: 1.0000\n",
            "Epoch 200/200\n",
            "13/13 [==============================] - 0s 2ms/step - loss: 0.0551 - binary_accuracy: 1.0000\n"
          ],
          "name": "stdout"
        },
        {
          "output_type": "execute_result",
          "data": {
            "text/plain": [
              "<tensorflow.python.keras.callbacks.History at 0x7f7f3b45e9e8>"
            ]
          },
          "metadata": {
            "tags": []
          },
          "execution_count": 29
        }
      ]
    },
    {
      "cell_type": "code",
      "metadata": {
        "colab": {
          "base_uri": "https://localhost:8080/",
          "height": 300
        },
        "id": "5k8qzSmdBgpN",
        "outputId": "9b50e231-5306-4093-b98e-3d18d594f3a9"
      },
      "source": [
        "%matplotlib inline\n",
        "import matplotlib.pyplot as plt\n",
        "plt.plot(X, model.predict(X), 'b', X,y, 'k.')"
      ],
      "execution_count": 30,
      "outputs": [
        {
          "output_type": "execute_result",
          "data": {
            "text/plain": [
              "[<matplotlib.lines.Line2D at 0x7f7ee40a18d0>,\n",
              " <matplotlib.lines.Line2D at 0x7f7ee40a19e8>]"
            ]
          },
          "metadata": {
            "tags": []
          },
          "execution_count": 30
        },
        {
          "output_type": "display_data",
          "data": {
            "image/png": "[encoded data removed]",
            "text/plain": [
              "<Figure size 432x288 with 1 Axes>"
            ]
          },
          "metadata": {
            "tags": [],
            "needs_background": "light"
          }
        }
      ]
    },
    {
      "cell_type": "code",
      "metadata": {
        "colab": {
          "base_uri": "https://localhost:8080/"
        },
        "id": "BQvKbR9uBiDP",
        "outputId": "d61f273a-c8b8-411c-a93a-33893bc25f9d"
      },
      "source": [
        "print(model.predict([1, 2, 3, 4, 4.5]))\n",
        "print(model.predict([11, 21, 31, 41, 500]))"
      ],
      "execution_count": 31,
      "outputs": [
        {
          "output_type": "stream",
          "text": [
            "[[0.21022335]\n",
            " [0.26857203]\n",
            " [0.3362212 ]\n",
            " [0.41132757]\n",
            " [0.4507527 ]]\n",
            "[[0.8691449 ]\n",
            " [0.99400264]\n",
            " [0.9997583 ]\n",
            " [0.99999034]\n",
            " [1.        ]]\n"
          ],
          "name": "stdout"
        }
      ]
    },
    {
      "cell_type": "markdown",
      "metadata": {
        "id": "IPZ78iD2BpDl"
      },
      "source": [
        "# 다중 선형 회귀 구현하기"
      ]
    },
    {
      "cell_type": "markdown",
      "metadata": {
        "id": "RTZd6iNBBves"
      },
      "source": [
        "중간 고사, 기말 고사, 그리고 추가 점수를 어떤 공식을 통해 최종 점수를 계산한 데이터가 있고, 그 규칙을 찾고싶다면 이제는 더 이상 독립 변수가 1개가 아닙니다."
      ]
    },
    {
      "cell_type": "code",
      "metadata": {
        "id": "y6KmAu_gBqkm"
      },
      "source": [
        "import numpy as np\n",
        "from tensorflow.keras.models import Sequential # 케라스의 Sequential()을 임포트\n",
        "from tensorflow.keras.layers import Dense # 케라스의 Dense()를 임포트\n",
        "from tensorflow.keras import optimizers # 케라스의 옵티마이저를 임포트"
      ],
      "execution_count": null,
      "outputs": []
    },
    {
      "cell_type": "code",
      "metadata": {
        "id": "4F5xc7BOBt0d"
      },
      "source": [
        "X=np.array([[70,85,11],[71,89,18],[50,80,20],[99,20,10],[50,10,10]]) # 중간, 기말, 가산점\n",
        "# 입력 벡터의 차원은 3입니다. 즉, input_dim은 3입니다.\n",
        "y=np.array([73,82,72,57,34]) # 최종 성적\n",
        "# 출력 벡터의 차원은 1입니다. 즉, output_dim은 1입니다."
      ],
      "execution_count": null,
      "outputs": []
    },
    {
      "cell_type": "code",
      "metadata": {
        "colab": {
          "base_uri": "https://localhost:8080/"
        },
        "id": "I0hgb43EBu4b",
        "outputId": "ec449ad8-abcf-463e-c163-a6186616201f"
      },
      "source": [
        "\n",
        "'''\n",
        "model=Sequential()\n",
        "model.add(Dense(1, input_dim=3, activation='linear'))\n",
        "sgd=optimizers.SGD(lr=0.00001)\n",
        "# 학습률(learning rate, lr)은 0.00001로 합니다.\n",
        "model.compile(optimizer=sgd ,loss='mse',metrics=['mse'])\n",
        "# sgd는 경사 하강법을 의미.\n",
        "# 손실 함수(Loss function)은 평균제곱오차 mse를 사용합니다.\n",
        "model.fit(X,y, batch_size=1, epochs=2000, shuffle=False)\n",
        "# 주어진 X와 y데이터에 대해서 오차를 최소화하는 작업을 2,000번 시도합니다.\n",
        "'''"
      ],
      "execution_count": null,
      "outputs": [
        {
          "output_type": "execute_result",
          "data": {
            "text/plain": [
              "\"\\nmodel=Sequential()\\nmodel.add(Dense(1, input_dim=3, activation='linear'))\\nsgd=optimizers.SGD(lr=0.00001)\\n# 학습률(learning rate, lr)은 0.00001로 합니다.\\nmodel.compile(optimizer=sgd ,loss='mse',metrics=['mse'])\\n# sgd는 경사 하강법을 의미.\\n# 손실 함수(Loss function)은 평균제곱오차 mse를 사용합니다.\\nmodel.fit(X,y, batch_size=1, epochs=2000, shuffle=False)\\n# 주어진 X와 y데이터에 대해서 오차를 최소화하는 작업을 2,000번 시도합니다.\\n\""
            ]
          },
          "metadata": {
            "tags": []
          },
          "execution_count": 34
        }
      ]
    },
    {
      "cell_type": "markdown",
      "metadata": {
        "id": "xOVfLLqvB_q0"
      },
      "source": [
        "# 다중 로지스틱 회귀 구현하기"
      ]
    },
    {
      "cell_type": "code",
      "metadata": {
        "id": "nead3WjNB2T2"
      },
      "source": [
        "import numpy as np\n",
        "from tensorflow.keras.models import Sequential # 케라스의 Sequential()을 임포트\n",
        "from tensorflow.keras.layers import Dense # 케라스의 Dense()를 임포트\n",
        "from tensorflow.keras import optimizers # 케라스의 옵티마이저를 임포트"
      ],
      "execution_count": null,
      "outputs": []
    },
    {
      "cell_type": "code",
      "metadata": {
        "id": "SXPeQu5vB5tK"
      },
      "source": [
        "X=np.array([[0, 0], [0, 1], [1, 0], [1, 1]])\n",
        "# 입력 벡터의 차원은 2입니다. 즉, input_dim은 2입니다.\n",
        "y=np.array([0, 1, 1, 1])\n",
        "# 출력 벡터의 차원은 1입니다. 즉, output_dim은 1입니다."
      ],
      "execution_count": null,
      "outputs": []
    },
    {
      "cell_type": "code",
      "metadata": {
        "colab": {
          "base_uri": "https://localhost:8080/",
          "height": 54
        },
        "id": "DbmKSUssB7qR",
        "outputId": "caef5d24-d4c6-49a7-bb44-e5efbbc62ccb"
      },
      "source": [
        "'''\n",
        "model=Sequential()\n",
        "model.add(Dense(1, input_dim=2, activation='sigmoid')) # 이제 입력의 차원은 2입니다.\n",
        "model.compile(optimizer='sgd' ,loss='binary_crossentropy',metrics=['binary_accuracy'])\n",
        "# sgd는 경사 하강법을 의미.\n",
        "# 손실 함수(Loss function)는 binary_crossentropy(이진 크로스 엔트로피)를 사용합니다.\n",
        "model.fit(X,y, batch_size=1, epochs=800, shuffle=False)\n",
        "# 주어진 X와 y데이터에 대해서 오차를 최소화하는 작업을 800번 시도합니다.\n",
        "'''"
      ],
      "execution_count": null,
      "outputs": [
        {
          "output_type": "execute_result",
          "data": {
            "text/plain": [
              "\"\\nmodel=Sequential()\\nmodel.add(Dense(1, input_dim=2, activation='sigmoid')) # 이제 입력의 차원은 2입니다.\\nmodel.compile(optimizer='sgd' ,loss='binary_crossentropy',metrics=['binary_accuracy'])\\n# sgd는 경사 하강법을 의미.\\n# 손실 함수(Loss function)는 binary_crossentropy(이진 크로스 엔트로피)를 사용합니다.\\nmodel.fit(X,y, batch_size=1, epochs=800, shuffle=False)\\n# 주어진 X와 y데이터에 대해서 오차를 최소화하는 작업을 800번 시도합니다.\\n\""
            ]
          },
          "metadata": {
            "tags": []
          },
          "execution_count": 37
        }
      ]
    },
    {
      "cell_type": "markdown",
      "metadata": {
        "id": "ewfoQrKdCIQa"
      },
      "source": [
        "# 소프트맥스 회귀 구현하기"
      ]
    },
    {
      "cell_type": "code",
      "metadata": {
        "id": "DnHvujL0CS33"
      },
      "source": [
        "import tensorflow as tf\n",
        "import numpy as np\n",
        "from tensorflow.keras.models import Sequential # 케라스의 Sequential()을 임포트\n",
        "from tensorflow.keras.layers import Dense, Flatten # 케라스의 Dense(), Flatten()를 임포트\n",
        "from tensorflow.keras import optimizers # 케라스의 옵티마이저를 임포트"
      ],
      "execution_count": null,
      "outputs": []
    },
    {
      "cell_type": "code",
      "metadata": {
        "colab": {
          "base_uri": "https://localhost:8080/",
          "height": 52
        },
        "id": "CqyGHAE3Cd2G",
        "outputId": "034af493-100a-4ed8-87df-0d96975352c3"
      },
      "source": [
        "mnist = tf.keras.datasets.mnist\n",
        "\n",
        "(x_train, y_train), (x_test, y_test) = mnist.load_data()\n",
        "x_train, x_test = x_train / 255.0, x_test / 255.0"
      ],
      "execution_count": null,
      "outputs": [
        {
          "output_type": "stream",
          "text": [
            "Downloading data from https://storage.googleapis.com/tensorflow/tf-keras-datasets/mnist.npz\n",
            "11493376/11490434 [==============================] - 0s 0us/step\n"
          ],
          "name": "stdout"
        }
      ]
    },
    {
      "cell_type": "code",
      "metadata": {
        "id": "MRpskDDFCfnW"
      },
      "source": [
        "model = Sequential([\n",
        "  Flatten(input_shape=(28, 28)),\n",
        "  Dense(128, activation='relu'),\n",
        "  Dropout(0.2),\n",
        "  Dense(10, activation='softmax')\n",
        "])\n",
        "\n",
        "model.compile(optimizer='adam',\n",
        "              loss='sparse_categorical_crossentropy',\n",
        "              metrics=['accuracy'])"
      ],
      "execution_count": null,
      "outputs": []
    },
    {
      "cell_type": "code",
      "metadata": {
        "colab": {
          "base_uri": "https://localhost:8080/",
          "height": 230
        },
        "id": "u5F-xbK_E9CM",
        "outputId": "9324785a-fc59-43d6-d770-a70e4eb9e322"
      },
      "source": [
        "model.fit(x_train, y_train, epochs=5)\n",
        "\n",
        "model.evaluate(x_test,  y_test, verbose=2)"
      ],
      "execution_count": null,
      "outputs": [
        {
          "output_type": "stream",
          "text": [
            "Epoch 1/5\n",
            "1875/1875 [==============================] - 4s 2ms/step - loss: 0.3019 - accuracy: 0.9121\n",
            "Epoch 2/5\n",
            "1875/1875 [==============================] - 4s 2ms/step - loss: 0.1466 - accuracy: 0.9571\n",
            "Epoch 3/5\n",
            "1875/1875 [==============================] - 4s 2ms/step - loss: 0.1089 - accuracy: 0.9666\n",
            "Epoch 4/5\n",
            "1875/1875 [==============================] - 4s 2ms/step - loss: 0.0890 - accuracy: 0.9722\n",
            "Epoch 5/5\n",
            "1875/1875 [==============================] - 4s 2ms/step - loss: 0.0751 - accuracy: 0.9768\n",
            "313/313 - 1s - loss: 0.0780 - accuracy: 0.9758\n"
          ],
          "name": "stdout"
        },
        {
          "output_type": "execute_result",
          "data": {
            "text/plain": [
              "[0.07796133309602737, 0.9757999777793884]"
            ]
          },
          "metadata": {
            "tags": []
          },
          "execution_count": 66
        }
      ]
    },
    {
      "cell_type": "markdown",
      "metadata": {
        "id": "7SbQah4u_bKx"
      },
      "source": [
        "# 다층 퍼셉트론으로 20개의 뉴스 분류하기"
      ]
    },
    {
      "cell_type": "code",
      "metadata": {
        "id": "yRy-YUaa_ei0"
      },
      "source": [
        "import pandas as pd\n",
        "from sklearn.datasets import fetch_20newsgroups\n",
        "%matplotlib inline\n",
        "import matplotlib.pyplot as plt\n",
        "from tensorflow.keras.preprocessing.text import Tokenizer\n",
        "from tensorflow.keras.utils import to_categorical"
      ],
      "execution_count": 32,
      "outputs": []
    },
    {
      "cell_type": "markdown",
      "metadata": {
        "id": "09c6MYJd_hcr"
      },
      "source": [
        "사이킷런에서는 20개의 다른 주제를 가진 18,846개의 뉴스 그룹 이메일 데이터를 제공합니다."
      ]
    },
    {
      "cell_type": "code",
      "metadata": {
        "colab": {
          "base_uri": "https://localhost:8080/"
        },
        "id": "lP9xAhZP_iAV",
        "outputId": "27ed007d-b664-415d-bf42-70f8d350e3a3"
      },
      "source": [
        "newsdata = fetch_20newsgroups(subset = 'train') # 'train'을 기재하면 훈련 데이터만 리턴한다."
      ],
      "execution_count": 33,
      "outputs": [
        {
          "output_type": "stream",
          "text": [
            "Downloading 20news dataset. This may take a few minutes.\n",
            "Downloading dataset from https://ndownloader.figshare.com/files/5975967 (14 MB)\n"
          ],
          "name": "stderr"
        }
      ]
    },
    {
      "cell_type": "markdown",
      "metadata": {
        "id": "sju7AlXU_j_x"
      },
      "source": [
        "위의 subset의 값으로 'all'을 넣으면 전체 데이터인 18,846개의 샘플을 다운로드할 수 있으며, 'train'을 넣으면 훈련 데이터를, 'test'를 넣으면 테스트 데이터를 다운로드할 수 있습니다. newsdata.keys()를 출력하면 해당 데이터의 속성을 확인할 수 있습니다."
      ]
    },
    {
      "cell_type": "code",
      "metadata": {
        "colab": {
          "base_uri": "https://localhost:8080/"
        },
        "id": "Ysyh4pCg_k48",
        "outputId": "a48f2cb9-2ac3-41cb-e5f3-b319b5c89f31"
      },
      "source": [
        "print(newsdata.keys())"
      ],
      "execution_count": 34,
      "outputs": [
        {
          "output_type": "stream",
          "text": [
            "dict_keys(['data', 'filenames', 'target_names', 'target', 'DESCR'])\n"
          ],
          "name": "stdout"
        }
      ]
    },
    {
      "cell_type": "markdown",
      "metadata": {
        "id": "I8Mr61SS_r4h"
      },
      "source": [
        "해당 데이터는 data, filenames, target_names, target, DESCR, description이라는 6개 속성을 갖고 있습니다. 이 중 실제로 훈련에 사용할 속성은 이메일 본문인 data와 메일이 어떤 주제인지 기재된 숫자 레이블인 target입니다. 우선 훈련용 샘플의 개수를 보겠습니다."
      ]
    },
    {
      "cell_type": "code",
      "metadata": {
        "colab": {
          "base_uri": "https://localhost:8080/"
        },
        "id": "svpaeHsT_sTl",
        "outputId": "cc1cba56-a7c6-4526-ab3e-75f984a750cd"
      },
      "source": [
        "print('훈련용 샘플의 개수 : {}'.format(len(newsdata.data)))\n"
      ],
      "execution_count": 35,
      "outputs": [
        {
          "output_type": "stream",
          "text": [
            "훈련용 샘플의 개수 : 11314\n"
          ],
          "name": "stdout"
        }
      ]
    },
    {
      "cell_type": "markdown",
      "metadata": {
        "id": "j2WB8hrG_u6s"
      },
      "source": [
        "훈련 샘플은 11,314개가 존재합니다. target_names에는 20개의 주제의 이름을 담고있습니다. 어떤 주제가 있는지 확인해보겠습니다."
      ]
    },
    {
      "cell_type": "code",
      "metadata": {
        "colab": {
          "base_uri": "https://localhost:8080/"
        },
        "id": "odY-n84K_tBd",
        "outputId": "5e2723bf-1349-4861-8256-ade08762d578"
      },
      "source": [
        "print('총 주제의 개수 : {}'.format(len(newsdata.target_names)))\n",
        "print(newsdata.target_names)"
      ],
      "execution_count": 36,
      "outputs": [
        {
          "output_type": "stream",
          "text": [
            "총 주제의 개수 : 20\n",
            "['alt.atheism', 'comp.graphics', 'comp.os.ms-windows.misc', 'comp.sys.ibm.pc.hardware', 'comp.sys.mac.hardware', 'comp.windows.x', 'misc.forsale', 'rec.autos', 'rec.motorcycles', 'rec.sport.baseball', 'rec.sport.hockey', 'sci.crypt', 'sci.electronics', 'sci.med', 'sci.space', 'soc.religion.christian', 'talk.politics.guns', 'talk.politics.mideast', 'talk.politics.misc', 'talk.religion.misc']\n"
          ],
          "name": "stdout"
        }
      ]
    },
    {
      "cell_type": "markdown",
      "metadata": {
        "id": "hs4dWwb__w1j"
      },
      "source": [
        "이번 챕터 실습의 목적은 테스트 데이터에서 이메일 본문을 보고 20개의 주제 중 어떤 주제인지를 맞추는 것입니다. 레이블인 target에는 총 0부터 19까지의 숫자가 들어가있는데 첫번째 샘플의 경우에는 몇 번 주제인지 확인해보겠습니다."
      ]
    },
    {
      "cell_type": "code",
      "metadata": {
        "colab": {
          "base_uri": "https://localhost:8080/"
        },
        "id": "VnxPyBY5_wat",
        "outputId": "9cf6bb70-ed3d-4273-80d5-7c35c64c813d"
      },
      "source": [
        "print('첫번째 샘플의 레이블 : {}'.format(newsdata.target[0]))"
      ],
      "execution_count": 37,
      "outputs": [
        {
          "output_type": "stream",
          "text": [
            "첫번째 샘플의 레이블 : 7\n"
          ],
          "name": "stdout"
        }
      ]
    },
    {
      "cell_type": "code",
      "metadata": {
        "colab": {
          "base_uri": "https://localhost:8080/"
        },
        "id": "br6HhWT5_yQl",
        "outputId": "9779d730-05b6-4efc-ca4c-9c888e6bdcda"
      },
      "source": [
        "print('7번 레이블이 의미하는 주제 : {}'.format(newsdata.target_names[7]))\n"
      ],
      "execution_count": 38,
      "outputs": [
        {
          "output_type": "stream",
          "text": [
            "7번 레이블이 의미하는 주제 : rec.autos\n"
          ],
          "name": "stdout"
        }
      ]
    },
    {
      "cell_type": "code",
      "metadata": {
        "colab": {
          "base_uri": "https://localhost:8080/"
        },
        "id": "KcgW0oHg_1M1",
        "outputId": "239f8263-01a3-4af3-81d4-1eece37b8e30"
      },
      "source": [
        "print(newsdata.data[0]) # 첫번째 샘플 출력"
      ],
      "execution_count": 39,
      "outputs": [
        {
          "output_type": "stream",
          "text": [
            "From: lerxst@wam.umd.edu (where's my thing)\n",
            "Subject: WHAT car is this!?\n",
            "Nntp-Posting-Host: rac3.wam.umd.edu\n",
            "Organization: University of Maryland, College Park\n",
            "Lines: 15\n",
            "\n",
            " I was wondering if anyone out there could enlighten me on this car I saw\n",
            "the other day. It was a 2-door sports car, looked to be from the late 60s/\n",
            "early 70s. It was called a Bricklin. The doors were really small. In addition,\n",
            "the front bumper was separate from the rest of the body. This is \n",
            "all I know. If anyone can tellme a model name, engine specs, years\n",
            "of production, where this car is made, history, or whatever info you\n",
            "have on this funky looking car, please e-mail.\n",
            "\n",
            "Thanks,\n",
            "- IL\n",
            "   ---- brought to you by your neighborhood Lerxst ----\n",
            "\n",
            "\n",
            "\n",
            "\n",
            "\n"
          ],
          "name": "stdout"
        }
      ]
    },
    {
      "cell_type": "code",
      "metadata": {
        "colab": {
          "base_uri": "https://localhost:8080/",
          "height": 203
        },
        "id": "orMWgpuM_2M1",
        "outputId": "12f29d87-66d0-475c-e45c-3b15849aadd1"
      },
      "source": [
        "data = pd.DataFrame(newsdata.data, columns = ['email']) # data로부터 데이터프레임 생성\n",
        "data['target'] = pd.Series(newsdata.target) # target 열 추가\n",
        "data[:5] # 상위 5개 행을 출력"
      ],
      "execution_count": 40,
      "outputs": [
        {
          "output_type": "execute_result",
          "data": {
            "text/html": [
              "<div>\n",
              "<style scoped>\n",
              "    .dataframe tbody tr th:only-of-type {\n",
              "        vertical-align: middle;\n",
              "    }\n",
              "\n",
              "    .dataframe tbody tr th {\n",
              "        vertical-align: top;\n",
              "    }\n",
              "\n",
              "    .dataframe thead th {\n",
              "        text-align: right;\n",
              "    }\n",
              "</style>\n",
              "<table border=\"1\" class=\"dataframe\">\n",
              "  <thead>\n",
              "    <tr style=\"text-align: right;\">\n",
              "      <th></th>\n",
              "      <th>email</th>\n",
              "      <th>target</th>\n",
              "    </tr>\n",
              "  </thead>\n",
              "  <tbody>\n",
              "    <tr>\n",
              "      <th>0</th>\n",
              "      <td>From: lerxst@wam.umd.edu (where's my thing)\\nS...</td>\n",
              "      <td>7</td>\n",
              "    </tr>\n",
              "    <tr>\n",
              "      <th>1</th>\n",
              "      <td>From: guykuo@carson.u.washington.edu (Guy Kuo)...</td>\n",
              "      <td>4</td>\n",
              "    </tr>\n",
              "    <tr>\n",
              "      <th>2</th>\n",
              "      <td>From: twillis@ec.ecn.purdue.edu (Thomas E Will...</td>\n",
              "      <td>4</td>\n",
              "    </tr>\n",
              "    <tr>\n",
              "      <th>3</th>\n",
              "      <td>From: jgreen@amber (Joe Green)\\nSubject: Re: W...</td>\n",
              "      <td>1</td>\n",
              "    </tr>\n",
              "    <tr>\n",
              "      <th>4</th>\n",
              "      <td>From: jcm@head-cfa.harvard.edu (Jonathan McDow...</td>\n",
              "      <td>14</td>\n",
              "    </tr>\n",
              "  </tbody>\n",
              "</table>\n",
              "</div>"
            ],
            "text/plain": [
              "                                               email  target\n",
              "0  From: lerxst@wam.umd.edu (where's my thing)\\nS...       7\n",
              "1  From: guykuo@carson.u.washington.edu (Guy Kuo)...       4\n",
              "2  From: twillis@ec.ecn.purdue.edu (Thomas E Will...       4\n",
              "3  From: jgreen@amber (Joe Green)\\nSubject: Re: W...       1\n",
              "4  From: jcm@head-cfa.harvard.edu (Jonathan McDow...      14"
            ]
          },
          "metadata": {
            "tags": []
          },
          "execution_count": 40
        }
      ]
    },
    {
      "cell_type": "code",
      "metadata": {
        "colab": {
          "base_uri": "https://localhost:8080/"
        },
        "id": "FWIB0kuE_3IN",
        "outputId": "5ef6d474-3aa2-4e21-cbe4-6b9924b04969"
      },
      "source": [
        "data.info()"
      ],
      "execution_count": 41,
      "outputs": [
        {
          "output_type": "stream",
          "text": [
            "<class 'pandas.core.frame.DataFrame'>\n",
            "RangeIndex: 11314 entries, 0 to 11313\n",
            "Data columns (total 2 columns):\n",
            " #   Column  Non-Null Count  Dtype \n",
            "---  ------  --------------  ----- \n",
            " 0   email   11314 non-null  object\n",
            " 1   target  11314 non-null  int64 \n",
            "dtypes: int64(1), object(1)\n",
            "memory usage: 176.9+ KB\n"
          ],
          "name": "stdout"
        }
      ]
    },
    {
      "cell_type": "code",
      "metadata": {
        "colab": {
          "base_uri": "https://localhost:8080/"
        },
        "id": "odIgdJCL_37M",
        "outputId": "82fe5f60-3afb-4782-b009-e7a3109c59fa"
      },
      "source": [
        "data.isnull().values.any()"
      ],
      "execution_count": 42,
      "outputs": [
        {
          "output_type": "execute_result",
          "data": {
            "text/plain": [
              "False"
            ]
          },
          "metadata": {
            "tags": []
          },
          "execution_count": 42
        }
      ]
    },
    {
      "cell_type": "code",
      "metadata": {
        "colab": {
          "base_uri": "https://localhost:8080/"
        },
        "id": "C8MnmsTk_4vM",
        "outputId": "5e6b5c5a-1884-43d4-bb25-824f703a388d"
      },
      "source": [
        "print('중복을 제외한 샘플의 수 : {}'.format(data['email'].nunique()))\n",
        "print('중복을 제외한 주제의 수 : {}'.format(data['target'].nunique()))"
      ],
      "execution_count": 43,
      "outputs": [
        {
          "output_type": "stream",
          "text": [
            "중복을 제외한 샘플의 수 : 11314\n",
            "중복을 제외한 주제의 수 : 20\n"
          ],
          "name": "stdout"
        }
      ]
    },
    {
      "cell_type": "code",
      "metadata": {
        "colab": {
          "base_uri": "https://localhost:8080/",
          "height": 268
        },
        "id": "0WTpdu7e_5ec",
        "outputId": "50e4a9a3-26bf-4106-dbe1-cafdb43059e5"
      },
      "source": [
        "data['target'].value_counts().plot(kind='bar');"
      ],
      "execution_count": 44,
      "outputs": [
        {
          "output_type": "display_data",
          "data": {
            "image/png": "[encoded data removed]",
            "text/plain": [
              "<Figure size 432x288 with 1 Axes>"
            ]
          },
          "metadata": {
            "tags": [],
            "needs_background": "light"
          }
        }
      ]
    },
    {
      "cell_type": "code",
      "metadata": {
        "colab": {
          "base_uri": "https://localhost:8080/"
        },
        "id": "LVpruQmD_6WN",
        "outputId": "5c9aab2d-6ad9-4026-8d56-167549a67c4a"
      },
      "source": [
        "print(data.groupby('target').size().reset_index(name='count'))"
      ],
      "execution_count": 45,
      "outputs": [
        {
          "output_type": "stream",
          "text": [
            "    target  count\n",
            "0        0    480\n",
            "1        1    584\n",
            "2        2    591\n",
            "3        3    590\n",
            "4        4    578\n",
            "5        5    593\n",
            "6        6    585\n",
            "7        7    594\n",
            "8        8    598\n",
            "9        9    597\n",
            "10      10    600\n",
            "11      11    595\n",
            "12      12    591\n",
            "13      13    594\n",
            "14      14    593\n",
            "15      15    599\n",
            "16      16    546\n",
            "17      17    564\n",
            "18      18    465\n",
            "19      19    377\n"
          ],
          "name": "stdout"
        }
      ]
    },
    {
      "cell_type": "code",
      "metadata": {
        "id": "JvNMFSTw_7I0"
      },
      "source": [
        "newsdata_test = fetch_20newsgroups(subset='test', shuffle=True) # 'test'를 기재하면 테스트 데이터만 리턴한다.\n",
        "train_email = data['email'] # 훈련 데이터의 본문 저장\n",
        "train_label = data['target'] # 훈련 데이터의 레이블 저장\n",
        "test_email = newsdata_test.data # 테스트 데이터의 본문 저장\n",
        "test_label = newsdata_test.target # 테스트 데이터의 레이블 저장"
      ],
      "execution_count": 46,
      "outputs": []
    },
    {
      "cell_type": "code",
      "metadata": {
        "id": "tQUlukql_8AU"
      },
      "source": [
        "max_words = 10000 # 실습에 사용할 단어의 최대 개수\n",
        "num_classes = 20 # 레이블의 수"
      ],
      "execution_count": 47,
      "outputs": []
    },
    {
      "cell_type": "code",
      "metadata": {
        "id": "auzMtd0u_8tV"
      },
      "source": [
        "def prepare_data(train_data, test_data, mode): # 전처리 함수\n",
        "    t = Tokenizer(num_words = max_words) # max_words 개수만큼의 단어만 사용한다.\n",
        "    t.fit_on_texts(train_data)\n",
        "    X_train = t.texts_to_matrix(train_data, mode=mode) # 샘플 수 × max_words 크기의 행렬 생성\n",
        "    X_test = t.texts_to_matrix(test_data, mode=mode) # 샘플 수 × max_words 크기의 행렬 생성\n",
        "    return X_train, X_test, t.index_word"
      ],
      "execution_count": 48,
      "outputs": []
    },
    {
      "cell_type": "code",
      "metadata": {
        "id": "piiW0JVM_9a0"
      },
      "source": [
        "X_train, X_test, index_to_word = prepare_data(train_email, test_email, 'binary') # binary 모드로 변환\n",
        "y_train = to_categorical(train_label, num_classes) # 원-핫 인코딩\n",
        "y_test = to_categorical(test_label, num_classes) # 원-핫 인코딩"
      ],
      "execution_count": 49,
      "outputs": []
    },
    {
      "cell_type": "code",
      "metadata": {
        "colab": {
          "base_uri": "https://localhost:8080/"
        },
        "id": "QjfZTAgq_-fk",
        "outputId": "6df36c52-0297-4db5-ab32-600970cc18a3"
      },
      "source": [
        "print('훈련 샘플 본문의 크기 : {}'.format(X_train.shape))\n",
        "print('훈련 샘플 레이블의 크기 : {}'.format(y_train.shape))\n",
        "print('테스트 샘플 본문의 크기 : {}'.format(X_test.shape))\n",
        "print('테스트 샘플 레이블의 크기 : {}'.format(y_test.shape))"
      ],
      "execution_count": 50,
      "outputs": [
        {
          "output_type": "stream",
          "text": [
            "훈련 샘플 본문의 크기 : (11314, 10000)\n",
            "훈련 샘플 레이블의 크기 : (11314, 20)\n",
            "테스트 샘플 본문의 크기 : (7532, 10000)\n",
            "테스트 샘플 레이블의 크기 : (7532, 20)\n"
          ],
          "name": "stdout"
        }
      ]
    },
    {
      "cell_type": "code",
      "metadata": {
        "colab": {
          "base_uri": "https://localhost:8080/"
        },
        "id": "ylqiP846__cU",
        "outputId": "84fe364d-6a0d-4ad3-9f9a-e32e4bd2e02f"
      },
      "source": [
        "print('빈도수 상위 1번 단어 : {}'.format(index_to_word[1]))\n",
        "print('빈도수 상위 9999번 단어 : {}'.format(index_to_word[9999]))"
      ],
      "execution_count": 51,
      "outputs": [
        {
          "output_type": "stream",
          "text": [
            "빈도수 상위 1번 단어 : the\n",
            "빈도수 상위 9999번 단어 : mic\n"
          ],
          "name": "stdout"
        }
      ]
    },
    {
      "cell_type": "code",
      "metadata": {
        "id": "iMgQGHNtAAOE"
      },
      "source": [
        "from tensorflow.keras.models import Sequential\n",
        "from tensorflow.keras.layers import Dense, Dropout"
      ],
      "execution_count": 52,
      "outputs": []
    },
    {
      "cell_type": "code",
      "metadata": {
        "id": "yfqotVlaABTc"
      },
      "source": [
        "def fit_and_evaluate(X_train, y_train, X_test, y_test):\n",
        "    model = Sequential()\n",
        "    model.add(Dense(256, input_shape=(max_words,), activation='relu'))\n",
        "    model.add(Dropout(0.5))\n",
        "    model.add(Dense(128, activation='relu'))\n",
        "    model.add(Dropout(0.5))\n",
        "    model.add(Dense(num_classes, activation='softmax'))\n",
        "\n",
        "    model.compile(loss='categorical_crossentropy', optimizer='adam', metrics=['accuracy'])\n",
        "    model.fit(X_train, y_train, batch_size=128, epochs=5, verbose=1, validation_split=0.1)\n",
        "    score = model.evaluate(X_test, y_test, batch_size=128, verbose=0)\n",
        "    return score[1]"
      ],
      "execution_count": 53,
      "outputs": []
    },
    {
      "cell_type": "code",
      "metadata": {
        "colab": {
          "base_uri": "https://localhost:8080/"
        },
        "id": "4hKd26WCACA1",
        "outputId": "c06eaad5-acc8-4106-c1a9-b0a5062a1ebc"
      },
      "source": [
        "modes = ['binary', 'count', 'tfidf', 'freq'] # 4개의 모드를 리스트에 저장.\n",
        "\n",
        "for mode in modes: # 4개의 모드에 대해서 각각 아래의 작업을 반복한다.\n",
        "    X_train, X_test, _ = prepare_data(train_email, test_email, mode) # 모드에 따라서 데이터를 전처리\n",
        "    score = fit_and_evaluate(X_train, y_train, X_test, y_test) # 모델을 훈련하고 평가.\n",
        "    print(mode+' 모드의 테스트 정확도:', score)"
      ],
      "execution_count": 54,
      "outputs": [
        {
          "output_type": "stream",
          "text": [
            "Epoch 1/5\n",
            "80/80 [==============================] - 1s 11ms/step - loss: 2.7121 - accuracy: 0.1872 - val_loss: 0.9936 - val_accuracy: 0.8419\n",
            "Epoch 2/5\n",
            "80/80 [==============================] - 0s 5ms/step - loss: 1.0346 - accuracy: 0.7224 - val_loss: 0.4741 - val_accuracy: 0.8869\n",
            "Epoch 3/5\n",
            "80/80 [==============================] - 0s 5ms/step - loss: 0.4698 - accuracy: 0.8818 - val_loss: 0.3476 - val_accuracy: 0.9019\n",
            "Epoch 4/5\n",
            "80/80 [==============================] - 0s 5ms/step - loss: 0.2741 - accuracy: 0.9308 - val_loss: 0.3138 - val_accuracy: 0.9072\n",
            "Epoch 5/5\n",
            "80/80 [==============================] - 0s 5ms/step - loss: 0.1802 - accuracy: 0.9591 - val_loss: 0.2965 - val_accuracy: 0.9152\n",
            "binary 모드의 테스트 정확도: 0.8264737129211426\n",
            "Epoch 1/5\n",
            "80/80 [==============================] - 1s 8ms/step - loss: 3.2235 - accuracy: 0.1392 - val_loss: 1.6037 - val_accuracy: 0.7394\n",
            "Epoch 2/5\n",
            "80/80 [==============================] - 0s 5ms/step - loss: 1.6572 - accuracy: 0.5695 - val_loss: 0.7131 - val_accuracy: 0.8595\n",
            "Epoch 3/5\n",
            "80/80 [==============================] - 0s 5ms/step - loss: 0.8575 - accuracy: 0.7863 - val_loss: 0.4969 - val_accuracy: 0.8799\n",
            "Epoch 4/5\n",
            "80/80 [==============================] - 0s 6ms/step - loss: 0.7117 - accuracy: 0.8552 - val_loss: 0.4230 - val_accuracy: 0.8913\n",
            "Epoch 5/5\n",
            "80/80 [==============================] - 0s 6ms/step - loss: 0.4114 - accuracy: 0.9035 - val_loss: 0.3848 - val_accuracy: 0.9019\n",
            "count 모드의 테스트 정확도: 0.8228890299797058\n",
            "Epoch 1/5\n",
            "80/80 [==============================] - 1s 8ms/step - loss: 2.8258 - accuracy: 0.1927 - val_loss: 0.7929 - val_accuracy: 0.8445\n",
            "Epoch 2/5\n",
            "80/80 [==============================] - 0s 5ms/step - loss: 0.9850 - accuracy: 0.7385 - val_loss: 0.4267 - val_accuracy: 0.8896\n",
            "Epoch 3/5\n",
            "80/80 [==============================] - 0s 5ms/step - loss: 0.4886 - accuracy: 0.8743 - val_loss: 0.3397 - val_accuracy: 0.9046\n",
            "Epoch 4/5\n",
            "80/80 [==============================] - 0s 5ms/step - loss: 0.3175 - accuracy: 0.9256 - val_loss: 0.3232 - val_accuracy: 0.9019\n",
            "Epoch 5/5\n",
            "80/80 [==============================] - 0s 5ms/step - loss: 0.2150 - accuracy: 0.9516 - val_loss: 0.3176 - val_accuracy: 0.9099\n",
            "tfidf 모드의 테스트 정확도: 0.8283324241638184\n",
            "Epoch 1/5\n",
            "80/80 [==============================] - 1s 8ms/step - loss: 2.9893 - accuracy: 0.0675 - val_loss: 2.9253 - val_accuracy: 0.2147\n",
            "Epoch 2/5\n",
            "80/80 [==============================] - 0s 6ms/step - loss: 2.8307 - accuracy: 0.1832 - val_loss: 2.3930 - val_accuracy: 0.3428\n",
            "Epoch 3/5\n",
            "80/80 [==============================] - 0s 6ms/step - loss: 2.2985 - accuracy: 0.2987 - val_loss: 1.8524 - val_accuracy: 0.5459\n",
            "Epoch 4/5\n",
            "80/80 [==============================] - 0s 5ms/step - loss: 1.7969 - accuracy: 0.4394 - val_loss: 1.4374 - val_accuracy: 0.6670\n",
            "Epoch 5/5\n",
            "80/80 [==============================] - 0s 6ms/step - loss: 1.4087 - accuracy: 0.5703 - val_loss: 1.1362 - val_accuracy: 0.7332\n",
            "freq 모드의 테스트 정확도: 0.6817578077316284\n"
          ],
          "name": "stdout"
        }
      ]
    }
  ]
}